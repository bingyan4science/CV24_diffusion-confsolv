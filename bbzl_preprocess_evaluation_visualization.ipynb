{
 "cells": [
  {
   "cell_type": "code",
   "execution_count": 3,
   "metadata": {},
   "outputs": [],
   "source": [
    "from rdkit import Chem\n",
    "# import pandas as pd\n",
    "import os\n",
    "import pickle\n",
    "import tqdm\n",
    "import hashlib\n",
    "import random\n",
    "import torch\n",
    "from torch_geometric.data import Data\n",
    "from rdkit import Chem\n",
    "from rdkit.Chem.rdchem import HybridizationType, BondType as BT, ChiralType\n",
    "import torch.nn.functional as F"
   ]
  },
  {
   "cell_type": "code",
   "execution_count": 12,
   "metadata": {},
   "outputs": [
    {
     "ename": "NameError",
     "evalue": "name 'pd' is not defined",
     "output_type": "error",
     "traceback": [
      "\u001b[0;31m---------------------------------------------------------------------------\u001b[0m",
      "\u001b[0;31mNameError\u001b[0m                                 Traceback (most recent call last)",
      "Cell \u001b[0;32mIn[12], line 1\u001b[0m\n\u001b[0;32m----> 1\u001b[0m df \u001b[38;5;241m=\u001b[39m \u001b[43mpd\u001b[49m\u001b[38;5;241m.\u001b[39mread_pickle(\u001b[38;5;124m'\u001b[39m\u001b[38;5;124mdataset/solvent/data_c6h14.pkl\u001b[39m\u001b[38;5;124m'\u001b[39m)\n",
      "\u001b[0;31mNameError\u001b[0m: name 'pd' is not defined"
     ]
    }
   ],
   "source": [
    "df = pd.read_pickle('dataset/solvent/data_c6h14.pkl')"
   ]
  },
  {
   "cell_type": "code",
   "execution_count": 6,
   "metadata": {},
   "outputs": [
    {
     "name": "stderr",
     "output_type": "stream",
     "text": [
      "/Users/zhangyici/mambaforge/envs/Ye/lib/python3.9/site-packages/torch_cluster/nearest.py:3: UserWarning: A NumPy version >=1.22.4 and <2.3.0 is required for this version of SciPy (detected version 1.21.5)\n",
      "  import scipy.cluster\n"
     ]
    }
   ],
   "source": [
    "df.columns"
   ]
  },
  {
   "cell_type": "code",
   "execution_count": 7,
   "metadata": {},
   "outputs": [
    {
     "data": {
      "text/plain": [
       "[Data(x=[6, 75], edge_index=[2, 10], edge_attr=[10, 4], z=[6], canonical_smi='BrP(Br)P(Br)Br', mol=<rdkit.Chem.rdchem.Mol object at 0x2971865e0>, pos=[2], weights=[2], edge_mask=[10], mask_rotate=[1, 6]),\n",
       " Data(x=[17, 75], edge_index=[2, 32], edge_attr=[32, 4], z=[17], canonical_smi='Cl[Si](Cl)(Cl)O[Si](Cl)(Cl)O[Si](Cl)(Cl)O[Si](Cl)(Cl)Cl', mol=<rdkit.Chem.rdchem.Mol object at 0x157ea8270>, pos=[36], weights=[36], edge_mask=[32], mask_rotate=[6, 17]),\n",
       " Data(x=[17, 75], edge_index=[2, 32], edge_attr=[32, 4], z=[17], canonical_smi='FC(F)(F)C(F)(F)C(F)(F)C(F)(I)C(F)(F)F', mol=<rdkit.Chem.rdchem.Mol object at 0x2973e5900>, pos=[2], weights=[2], edge_mask=[32], mask_rotate=[4, 17]),\n",
       " Data(x=[6, 75], edge_index=[2, 10], edge_attr=[10, 4], z=[6], canonical_smi='FP(F)N=C=S', mol=<rdkit.Chem.rdchem.Mol object at 0x2973fbef0>, pos=[1], weights=[1], edge_mask=[10], mask_rotate=[2, 6]),\n",
       " Data(x=[7, 75], edge_index=[2, 12], edge_attr=[12, 4], z=[7], canonical_smi='N#CB(C#N)C#N', mol=<rdkit.Chem.rdchem.Mol object at 0x2973fb900>, pos=[1], weights=[1], edge_mask=[12], mask_rotate=[3, 7]),\n",
       " Data(x=[14, 75], edge_index=[2, 28], edge_attr=[28, 4], z=[14], canonical_smi='N#Cc1c(Cl)c(Cl)c(I)c(C#N)c1Cl', mol=<rdkit.Chem.rdchem.Mol object at 0x2973e5ae0>, pos=[1], weights=[1], edge_mask=[28], mask_rotate=[2, 14]),\n",
       " Data(x=[14, 75], edge_index=[2, 28], edge_attr=[28, 4], z=[14], canonical_smi='O=[N+]([O-])c1c(F)c(I)c(F)c(I)c1F', mol=<rdkit.Chem.rdchem.Mol object at 0x297851360>, pos=[1], weights=[1], edge_mask=[28], mask_rotate=[1, 14]),\n",
       " Data(x=[7, 75], edge_index=[2, 12], edge_attr=[12, 4], z=[7], canonical_smi='[B]C([B])([B])B(F)F', mol=<rdkit.Chem.rdchem.Mol object at 0x2978517c0>, pos=[1], weights=[1], edge_mask=[12], mask_rotate=[1, 7]),\n",
       " Data(x=[12, 75], edge_index=[2, 22], edge_attr=[22, 4], z=[12], canonical_smi='COBOC', mol=<rdkit.Chem.rdchem.Mol object at 0x297851d10>, pos=[3], weights=[3], edge_mask=[22], mask_rotate=[4, 12]),\n",
       " Data(x=[27, 75], edge_index=[2, 54], edge_attr=[54, 4], z=[27], canonical_smi='C#CB1N(C)B(C#C)N(C)B(C#C)N1C', mol=<rdkit.Chem.rdchem.Mol object at 0x2973e5ea0>, pos=[1], weights=[1], edge_mask=[54], mask_rotate=[9, 27]),\n",
       " Data(x=[19, 75], edge_index=[2, 36], edge_attr=[36, 4], z=[19], canonical_smi='C#CCCCCCI', mol=<rdkit.Chem.rdchem.Mol object at 0x157ea84a0>, pos=[27], weights=[27], edge_mask=[36], mask_rotate=[6, 19]),\n",
       " Data(x=[40, 75], edge_index=[2, 86], edge_attr=[86, 4], z=[40], canonical_smi='C#CCCCn1c(Sc2cc3c(cc2I)OCO3)nc2c1[N]C=N[C]2N', mol=<rdkit.Chem.rdchem.Mol object at 0x29785c270>, pos=[26], weights=[26], edge_mask=[86], mask_rotate=[8, 40]),\n",
       " Data(x=[14, 75], edge_index=[2, 26], edge_attr=[26, 4], z=[14], canonical_smi='C#C[SiH2]C#C[SiH2]C#C', mol=<rdkit.Chem.rdchem.Mol object at 0x29785c770>, pos=[1], weights=[1], edge_mask=[26], mask_rotate=[7, 14]),\n",
       " Data(x=[14, 75], edge_index=[2, 28], edge_attr=[28, 4], z=[14], canonical_smi='C#Cc1ccc(I)cc1', mol=<rdkit.Chem.rdchem.Mol object at 0x29786a720>, pos=[1], weights=[1], edge_mask=[28], mask_rotate=[2, 14]),\n",
       " Data(x=[22, 75], edge_index=[2, 44], edge_attr=[44, 4], z=[22], canonical_smi='N#CC(C#N)=CC=Cc1ccccc1I', mol=<rdkit.Chem.rdchem.Mol object at 0x29786a860>, pos=[4], weights=[4], edge_mask=[44], mask_rotate=[6, 22]),\n",
       " Data(x=[16, 75], edge_index=[2, 32], edge_attr=[32, 4], z=[16], canonical_smi='Clc1ccc(C=C(I)I)cc1', mol=<rdkit.Chem.rdchem.Mol object at 0x29785c4f0>, pos=[1], weights=[1], edge_mask=[32], mask_rotate=[2, 16]),\n",
       " Data(x=[31, 75], edge_index=[2, 66], edge_attr=[66, 4], z=[31], canonical_smi='O=C1OC(c2ccccc2)=NC1=CC=Cc1ccc(I)o1', mol=<rdkit.Chem.rdchem.Mol object at 0x29787a540>, pos=[6], weights=[6], edge_mask=[66], mask_rotate=[5, 31]),\n",
       " Data(x=[31, 75], edge_index=[2, 66], edge_attr=[66, 4], z=[31], canonical_smi='O=C1OC(c2ccccc2)=NC1=CC=Cc1ccc(I)o1', mol=<rdkit.Chem.rdchem.Mol object at 0x29787a9f0>, pos=[5], weights=[5], edge_mask=[66], mask_rotate=[5, 31]),\n",
       " Data(x=[31, 75], edge_index=[2, 66], edge_attr=[66, 4], z=[31], canonical_smi='O=C1OC(c2ccccc2)=NC1=CC=Cc1ccc(I)o1', mol=<rdkit.Chem.rdchem.Mol object at 0x29787ae50>, pos=[2], weights=[2], edge_mask=[66], mask_rotate=[5, 31]),\n",
       " Data(x=[27, 75], edge_index=[2, 52], edge_attr=[52, 4], z=[27], canonical_smi='CC(C)(C#C[Si](C)(C)C)C=O', mol=<rdkit.Chem.rdchem.Mol object at 0x29786a4a0>, pos=[4], weights=[4], edge_mask=[52], mask_rotate=[9, 27]),\n",
       " Data(x=[24, 75], edge_index=[2, 48], edge_attr=[48, 4], z=[24], canonical_smi='C[Si]1(OCCC=O)CCC1', mol=<rdkit.Chem.rdchem.Mol object at 0x297d85450>, pos=[34], weights=[34], edge_mask=[48], mask_rotate=[5, 24]),\n",
       " Data(x=[33, 75], edge_index=[2, 66], edge_attr=[66, 4], z=[33], canonical_smi='C[Si](C)(C)CC1=CCC(C=O)CC1', mol=<rdkit.Chem.rdchem.Mol object at 0x297d85ae0>, pos=[9], weights=[9], edge_mask=[66], mask_rotate=[6, 33]),\n",
       " Data(x=[14, 75], edge_index=[2, 28], edge_attr=[28, 4], z=[14], canonical_smi='O=Cc1cc(I)c(I)c(I)c1', mol=<rdkit.Chem.rdchem.Mol object at 0x297d93950>, pos=[1], weights=[1], edge_mask=[28], mask_rotate=[1, 14]),\n",
       " Data(x=[26, 75], edge_index=[2, 52], edge_attr=[52, 4], z=[26], canonical_smi='COc1cc(C=O)c(I)c(OC)c1OC', mol=<rdkit.Chem.rdchem.Mol object at 0x297d93b30>, pos=[2], weights=[2], edge_mask=[52], mask_rotate=[7, 26]),\n",
       " Data(x=[26, 75], edge_index=[2, 54], edge_attr=[54, 4], z=[26], canonical_smi='O=Cc1ccc(F)c(F)c1Nc1ccc(I)cc1F', mol=<rdkit.Chem.rdchem.Mol object at 0x29787a6d0>, pos=[6], weights=[6], edge_mask=[54], mask_rotate=[3, 26]),\n",
       " Data(x=[18, 75], edge_index=[2, 38], edge_attr=[38, 4], z=[18], canonical_smi='O=Cc1c[nH]c2cccc(I)c12', mol=<rdkit.Chem.rdchem.Mol object at 0x297d9e270>, pos=[2], weights=[2], edge_mask=[38], mask_rotate=[1, 18]),\n",
       " Data(x=[15, 75], edge_index=[2, 30], edge_attr=[30, 4], z=[15], canonical_smi='Nc1c(I)cncc1C=O', mol=<rdkit.Chem.rdchem.Mol object at 0x297d9ea90>, pos=[2], weights=[2], edge_mask=[30], mask_rotate=[2, 15]),\n",
       " Data(x=[21, 75], edge_index=[2, 40], edge_attr=[40, 4], z=[21], canonical_smi='CC=[P](CC)CC', mol=<rdkit.Chem.rdchem.Mol object at 0x297d9e7c0>, pos=[11], weights=[11], edge_mask=[40], mask_rotate=[6, 21]),\n",
       " Data(x=[23, 75], edge_index=[2, 44], edge_attr=[44, 4], z=[23], canonical_smi='C[Si](C)(C)CCC(F)F', mol=<rdkit.Chem.rdchem.Mol object at 0x297d9e810>, pos=[4], weights=[4], edge_mask=[44], mask_rotate=[6, 23]),\n",
       " Data(x=[14, 75], edge_index=[2, 26], edge_attr=[26, 4], z=[14], canonical_smi='FC(F)C(F)[SiH2]C(Cl)Cl', mol=<rdkit.Chem.rdchem.Mol object at 0x297daa540>, pos=[21], weights=[21], edge_mask=[26], mask_rotate=[3, 14]),\n",
       " Data(x=[23, 75], edge_index=[2, 44], edge_attr=[44, 4], z=[23], canonical_smi='CCOC(=O)C(I)C(=O)OCC', mol=<rdkit.Chem.rdchem.Mol object at 0x297daac20>, pos=[71], weights=[71], edge_mask=[44], mask_rotate=[8, 23]),\n",
       " Data(x=[14, 75], edge_index=[2, 26], edge_attr=[26, 4], z=[14], canonical_smi='BrCCCCI', mol=<rdkit.Chem.rdchem.Mol object at 0x297fac400>, pos=[8], weights=[8], edge_mask=[26], mask_rotate=[3, 14]),\n",
       " Data(x=[22, 75], edge_index=[2, 42], edge_attr=[42, 4], z=[22], canonical_smi='O=C(Cl)CCCC[SiH2]C(F)F', mol=<rdkit.Chem.rdchem.Mol object at 0x297fac180>, pos=[179], weights=[179], edge_mask=[42], mask_rotate=[6, 22]),\n",
       " Data(x=[18, 75], edge_index=[2, 34], edge_attr=[34, 4], z=[18], canonical_smi='CCOC(=O)CC(I)=C(Br)I', mol=<rdkit.Chem.rdchem.Mol object at 0x297fb6450>, pos=[10], weights=[10], edge_mask=[34], mask_rotate=[6, 18]),\n",
       " Data(x=[18, 75], edge_index=[2, 34], edge_attr=[34, 4], z=[18], canonical_smi='CCOC(=O)CC(I)=C(Br)I', mol=<rdkit.Chem.rdchem.Mol object at 0x297fdfe50>, pos=[10], weights=[10], edge_mask=[34], mask_rotate=[6, 18]),\n",
       " Data(x=[26, 75], edge_index=[2, 50], edge_attr=[50, 4], z=[26], canonical_smi='FC(F)(I)CC(F)(F)C(F)(F)C(F)(F)C(F)(F)C(F)(F)C(F)(F)F', mol=<rdkit.Chem.rdchem.Mol object at 0x2a02be3b0>, pos=[28], weights=[28], edge_mask=[50], mask_rotate=[7, 26]),\n",
       " Data(x=[21, 75], edge_index=[2, 40], edge_attr=[40, 4], z=[21], canonical_smi='C[SiH](C)CCC(F)=C(F)F', mol=<rdkit.Chem.rdchem.Mol object at 0x2a02bedb0>, pos=[9], weights=[9], edge_mask=[40], mask_rotate=[6, 21]),\n",
       " Data(x=[20, 75], edge_index=[2, 38], edge_attr=[38, 4], z=[20], canonical_smi='ClCCCCCCI', mol=<rdkit.Chem.rdchem.Mol object at 0x2a02be7c0>, pos=[70], weights=[70], edge_mask=[38], mask_rotate=[5, 20]),\n",
       " Data(x=[25, 75], edge_index=[2, 48], edge_attr=[48, 4], z=[25], canonical_smi='O=P(CCBr)(OCCCl)OCCCl', mol=<rdkit.Chem.rdchem.Mol object at 0x2a02d9400>, pos=[669], weights=[669], edge_mask=[48], mask_rotate=[8, 25]),\n",
       " Data(x=[35, 75], edge_index=[2, 68], edge_attr=[68, 4], z=[35], canonical_smi='CC(C)CO[P]([S])(OCC(C)C)SCCl', mol=<rdkit.Chem.rdchem.Mol object at 0x2a02d92c0>, pos=[10], weights=[10], edge_mask=[68], mask_rotate=[12, 35]),\n",
       " Data(x=[35, 75], edge_index=[2, 68], edge_attr=[68, 4], z=[35], canonical_smi='CC(C)CO[P]([S])(OCC(C)C)SCCl', mol=<rdkit.Chem.rdchem.Mol object at 0x2a0363450>, pos=[481], weights=[481], edge_mask=[68], mask_rotate=[12, 35]),\n",
       " Data(x=[22, 75], edge_index=[2, 42], edge_attr=[42, 4], z=[22], canonical_smi='CCCCCC#CCI', mol=<rdkit.Chem.rdchem.Mol object at 0x2a1317c70>, pos=[17], weights=[17], edge_mask=[42], mask_rotate=[7, 22]),\n",
       " Data(x=[28, 75], edge_index=[2, 54], edge_attr=[54, 4], z=[28], canonical_smi='CC[Si](C#CCI)(CC)CC', mol=<rdkit.Chem.rdchem.Mol object at 0x2a1322c70>, pos=[12], weights=[12], edge_mask=[54], mask_rotate=[9, 28]),\n",
       " Data(x=[14, 75], edge_index=[2, 26], edge_attr=[26, 4], z=[14], canonical_smi='CCOC(=O)CI', mol=<rdkit.Chem.rdchem.Mol object at 0x2a133a6d0>, pos=[8], weights=[8], edge_mask=[26], mask_rotate=[4, 14]),\n",
       " Data(x=[32, 75], edge_index=[2, 62], edge_attr=[62, 4], z=[32], canonical_smi='C[Si](C)(C)OC(=O)CCCCCI', mol=<rdkit.Chem.rdchem.Mol object at 0x2a07b6f90>, pos=[137], weights=[137], edge_mask=[62], mask_rotate=[10, 32]),\n",
       " Data(x=[26, 75], edge_index=[2, 50], edge_attr=[50, 4], z=[26], canonical_smi='ICCCCCCCCI', mol=<rdkit.Chem.rdchem.Mol object at 0x2a1322770>, pos=[227], weights=[227], edge_mask=[50], mask_rotate=[7, 26]),\n",
       " Data(x=[30, 75], edge_index=[2, 58], edge_attr=[58, 4], z=[30], canonical_smi='C[Si](C)(C)OCCCCCI', mol=<rdkit.Chem.rdchem.Mol object at 0x2a13804a0>, pos=[68], weights=[68], edge_mask=[58], mask_rotate=[9, 30]),\n",
       " Data(x=[32, 75], edge_index=[2, 66], edge_attr=[66, 4], z=[32], canonical_smi='O=C1CCCC1C1(CCCI)OCCO1', mol=<rdkit.Chem.rdchem.Mol object at 0x2a13647c0>, pos=[46], weights=[46], edge_mask=[66], mask_rotate=[4, 32]),\n",
       " Data(x=[11, 75], edge_index=[2, 20], edge_attr=[20, 4], z=[11], canonical_smi='ICCCI', mol=<rdkit.Chem.rdchem.Mol object at 0x2a13d7590>, pos=[8], weights=[8], edge_mask=[20], mask_rotate=[2, 11]),\n",
       " Data(x=[17, 75], edge_index=[2, 34], edge_attr=[34, 4], z=[17], canonical_smi='ICCC1OCCO1', mol=<rdkit.Chem.rdchem.Mol object at 0x2a13e48b0>, pos=[7], weights=[7], edge_mask=[34], mask_rotate=[2, 17]),\n",
       " Data(x=[11, 75], edge_index=[2, 20], edge_attr=[20, 4], z=[11], canonical_smi='Cl[Si](Cl)(Cl)CCI', mol=<rdkit.Chem.rdchem.Mol object at 0x2a13e4db0>, pos=[2], weights=[2], edge_mask=[20], mask_rotate=[2, 11]),\n",
       " Data(x=[21, 75], edge_index=[2, 42], edge_attr=[42, 4], z=[21], canonical_smi='ICC1CCCCC1', mol=<rdkit.Chem.rdchem.Mol object at 0x2a13d7a90>, pos=[2], weights=[2], edge_mask=[42], mask_rotate=[1, 21]),\n",
       " Data(x=[15, 75], edge_index=[2, 30], edge_attr=[30, 4], z=[15], canonical_smi='ICC1CCC1', mol=<rdkit.Chem.rdchem.Mol object at 0x2a13f54f0>, pos=[3], weights=[3], edge_mask=[30], mask_rotate=[1, 15]),\n",
       " Data(x=[20, 75], edge_index=[2, 38], edge_attr=[38, 4], z=[20], canonical_smi='CC(C)CC(=O)OCI', mol=<rdkit.Chem.rdchem.Mol object at 0x2a13f5a40>, pos=[15], weights=[15], edge_mask=[38], mask_rotate=[6, 20]),\n",
       " Data(x=[18, 75], edge_index=[2, 34], edge_attr=[34, 4], z=[18], canonical_smi='CC(C)OC(=O)OCI', mol=<rdkit.Chem.rdchem.Mol object at 0x2a1501090>, pos=[9], weights=[9], edge_mask=[34], mask_rotate=[6, 18]),\n",
       " Data(x=[33, 75], edge_index=[2, 66], edge_attr=[66, 4], z=[33], canonical_smi='N#CN1CC(CI)C(CC(F)(F)C(F)(F)C(F)(F)C(F)(F)F)C1', mol=<rdkit.Chem.rdchem.Mol object at 0x2a1501310>, pos=[34], weights=[34], edge_mask=[66], mask_rotate=[7, 33]),\n",
       " Data(x=[26, 75], edge_index=[2, 50], edge_attr=[50, 4], z=[26], canonical_smi='C[Si](C)(C)C(I)CC(F)C(F)(F)Cl', mol=<rdkit.Chem.rdchem.Mol object at 0x2a1501c20>, pos=[7], weights=[7], edge_mask=[50], mask_rotate=[7, 26]),\n",
       " Data(x=[32, 75], edge_index=[2, 62], edge_attr=[62, 4], z=[32], canonical_smi='CB(C)C(C)=C(C)[Si](C)(C)C', mol=<rdkit.Chem.rdchem.Mol object at 0x2a150fa90>, pos=[2], weights=[2], edge_mask=[62], mask_rotate=[10, 32]),\n",
       " Data(x=[40, 75], edge_index=[2, 78], edge_attr=[78, 4], z=[40], canonical_smi='CC(C)=C(C#C[Si](C)(C)C)C#C[Si](C)(C)C', mol=<rdkit.Chem.rdchem.Mol object at 0x2a150f810>, pos=[1], weights=[1], edge_mask=[78], mask_rotate=[15, 40]),\n",
       " Data(x=[16, 75], edge_index=[2, 30], edge_attr=[30, 4], z=[16], canonical_smi='CC(=O)C(C)(C)I', mol=<rdkit.Chem.rdchem.Mol object at 0x2a13173b0>, pos=[3], weights=[3], edge_mask=[30], mask_rotate=[4, 16]),\n",
       " Data(x=[13, 75], edge_index=[2, 24], edge_attr=[24, 4], z=[13], canonical_smi='CC(=O)C(C)I', mol=<rdkit.Chem.rdchem.Mol object at 0x2a151f180>, pos=[3], weights=[3], edge_mask=[24], mask_rotate=[3, 13]),\n",
       " Data(x=[16, 75], edge_index=[2, 30], edge_attr=[30, 4], z=[16], canonical_smi='CC(C)(C)B(Cl)Cl', mol=<rdkit.Chem.rdchem.Mol object at 0x2a151f770>, pos=[1], weights=[1], edge_mask=[30], mask_rotate=[4, 16]),\n",
       " Data(x=[16, 75], edge_index=[2, 30], edge_attr=[30, 4], z=[16], canonical_smi='CC(C)(C)C#CI', mol=<rdkit.Chem.rdchem.Mol object at 0x2a151fdb0>, pos=[1], weights=[1], edge_mask=[30], mask_rotate=[5, 16]),\n",
       " Data(x=[22, 75], edge_index=[2, 42], edge_attr=[42, 4], z=[22], canonical_smi='CC(C)(C)C(=O)C(Cl)(Cl)P(=O)(Cl)Cl', mol=<rdkit.Chem.rdchem.Mol object at 0x2a151fcc0>, pos=[5], weights=[5], edge_mask=[42], mask_rotate=[6, 22]),\n",
       " Data(x=[32, 75], edge_index=[2, 62], edge_attr=[62, 4], z=[32], canonical_smi='CC(C)(CCl)CC[Si](C)(C)CCl', mol=<rdkit.Chem.rdchem.Mol object at 0x2a1501c70>, pos=[24], weights=[24], edge_mask=[62], mask_rotate=[9, 32]),\n",
       " Data(x=[28, 75], edge_index=[2, 56], edge_attr=[56, 4], z=[28], canonical_smi='CC(C)(C)CCB1SCCS1', mol=<rdkit.Chem.rdchem.Mol object at 0x2a152d400>, pos=[3], weights=[3], edge_mask=[56], mask_rotate=[6, 28]),\n",
       " Data(x=[60, 75], edge_index=[2, 122], edge_attr=[122, 4], z=[60], canonical_smi='CC1CCP(C2C(C)CC(C(C)(C)C)CC2C(C)(C)C)C1', mol=<rdkit.Chem.rdchem.Mol object at 0x2a152d220>, pos=[2], weights=[2], edge_mask=[122], mask_rotate=[11, 60]),\n",
       " Data(x=[34, 75], edge_index=[2, 68], edge_attr=[68, 4], z=[34], canonical_smi='CC(C)(C)[Si](C)(C)N1C(=O)CC1CI', mol=<rdkit.Chem.rdchem.Mol object at 0x2a1539180>, pos=[8], weights=[8], edge_mask=[68], mask_rotate=[8, 34]),\n",
       " Data(x=[55, 75], edge_index=[2, 108], edge_attr=[108, 4], z=[55], canonical_smi='CC(C)(C)P(C([Si](C)(C)C)[Si](C)(C)C)C(C)(C)C', mol=<rdkit.Chem.rdchem.Mol object at 0x2a1539770>, pos=[2], weights=[2], edge_mask=[108], mask_rotate=[17, 55]),\n",
       " Data(x=[25, 75], edge_index=[2, 50], edge_attr=[50, 4], z=[25], canonical_smi='CC(C)(C)P1SCCCS1', mol=<rdkit.Chem.rdchem.Mol object at 0x2a15392c0>, pos=[1], weights=[1], edge_mask=[50], mask_rotate=[4, 25]),\n",
       " Data(x=[40, 75], edge_index=[2, 80], edge_attr=[80, 4], z=[40], canonical_smi='CC(C)B(F)N1C(C)(C)CCCC1(C)C', mol=<rdkit.Chem.rdchem.Mol object at 0x2a15394a0>, pos=[4], weights=[4], edge_mask=[80], mask_rotate=[8, 40]),\n",
       " Data(x=[24, 75], edge_index=[2, 48], edge_attr=[48, 4], z=[24], canonical_smi='CC(C)COP1(=O)OCCO1', mol=<rdkit.Chem.rdchem.Mol object at 0x2a152dc70>, pos=[12], weights=[12], edge_mask=[48], mask_rotate=[5, 24]),\n",
       " Data(x=[24, 75], edge_index=[2, 46], edge_attr=[46, 4], z=[24], canonical_smi='CC(C)C(C)OP(C)(=O)F', mol=<rdkit.Chem.rdchem.Mol object at 0x2a1546720>, pos=[10], weights=[10], edge_mask=[46], mask_rotate=[7, 24]),\n",
       " Data(x=[30, 75], edge_index=[2, 60], edge_attr=[60, 4], z=[30], canonical_smi='CC(C)OP1CC(C)C(C)C1', mol=<rdkit.Chem.rdchem.Mol object at 0x2a1546d10>, pos=[5], weights=[5], edge_mask=[60], mask_rotate=[6, 30]),\n",
       " Data(x=[37, 75], edge_index=[2, 72], edge_attr=[72, 4], z=[37], canonical_smi='CC(C)O[Si](C)(CCCI)OC(C)C', mol=<rdkit.Chem.rdchem.Mol object at 0x2a15513b0>, pos=[523], weights=[523], edge_mask=[72], mask_rotate=[12, 37]),\n",
       " Data(x=[33, 75], edge_index=[2, 66], edge_attr=[66, 4], z=[33], canonical_smi='CC(C)O[Si]1(C)OCC(C)(C)CO1', mol=<rdkit.Chem.rdchem.Mol object at 0x2a15d0b30>, pos=[6], weights=[6], edge_mask=[66], mask_rotate=[7, 33]),\n",
       " Data(x=[11, 75], edge_index=[2, 20], edge_attr=[20, 4], z=[11], canonical_smi='CCC(I)I', mol=<rdkit.Chem.rdchem.Mol object at 0x2a15d0770>, pos=[2], weights=[2], edge_mask=[20], mask_rotate=[2, 11]),\n",
       " Data(x=[26, 75], edge_index=[2, 50], edge_attr=[50, 4], z=[26], canonical_smi='CCCCCCC(I)CI', mol=<rdkit.Chem.rdchem.Mol object at 0x2a15aacc0>, pos=[107], weights=[107], edge_mask=[50], mask_rotate=[7, 26]),\n",
       " Data(x=[55, 75], edge_index=[2, 114], edge_attr=[114, 4], z=[55], canonical_smi='CCCCCCC1OC2(C)CC3CCCCC3OC2CC1I', mol=<rdkit.Chem.rdchem.Mol object at 0x2a15b65e0>, pos=[103], weights=[103], edge_mask=[114], mask_rotate=[7, 55]),\n",
       " Data(x=[24, 75], edge_index=[2, 48], edge_attr=[48, 4], z=[24], canonical_smi='CCCCN1P(Cl)N(Cl)P(Cl)[N][P]1(Cl)Cl', mol=<rdkit.Chem.rdchem.Mol object at 0x2a1817220>, pos=[11], weights=[11], edge_mask=[48], mask_rotate=[4, 24]),\n",
       " Data(x=[28, 75], edge_index=[2, 56], edge_attr=[56, 4], z=[28], canonical_smi='CCCCOB1CCCCO1', mol=<rdkit.Chem.rdchem.Mol object at 0x2a15b6220>, pos=[29], weights=[29], edge_mask=[56], mask_rotate=[5, 28]),\n",
       " Data(x=[24, 75], edge_index=[2, 48], edge_attr=[48, 4], z=[24], canonical_smi='CCCSP1(=O)OCCCO1', mol=<rdkit.Chem.rdchem.Mol object at 0x2a1808bd0>, pos=[9], weights=[9], edge_mask=[48], mask_rotate=[4, 24]),\n",
       " Data(x=[30, 75], edge_index=[2, 60], edge_attr=[60, 4], z=[30], canonical_smi='CCCC1OC(=O)C1[Si](C)(C)C', mol=<rdkit.Chem.rdchem.Mol object at 0x2a18419a0>, pos=[7], weights=[7], edge_mask=[60], mask_rotate=[7, 30]),\n",
       " Data(x=[14, 75], edge_index=[2, 26], edge_attr=[26, 4], z=[14], canonical_smi='CCC[Si](Cl)(Cl)Cl', mol=<rdkit.Chem.rdchem.Mol object at 0x2a1841d10>, pos=[2], weights=[2], edge_mask=[26], mask_rotate=[3, 14]),\n",
       " Data(x=[19, 75], edge_index=[2, 38], edge_attr=[38, 4], z=[19], canonical_smi='CCC1=C(I)CCC1', mol=<rdkit.Chem.rdchem.Mol object at 0x2a184d130>, pos=[2], weights=[2], edge_mask=[38], mask_rotate=[2, 19]),\n",
       " Data(x=[23, 75], edge_index=[2, 44], edge_attr=[44, 4], z=[23], canonical_smi='CCOC#C[Si](C)(C)C', mol=<rdkit.Chem.rdchem.Mol object at 0x2a184d630>, pos=[3], weights=[3], edge_mask=[44], mask_rotate=[8, 23]),\n",
       " Data(x=[18, 75], edge_index=[2, 34], edge_attr=[34, 4], z=[18], canonical_smi='CCOC(=O)OCC(I)(I)I', mol=<rdkit.Chem.rdchem.Mol object at 0x2a182de00>, pos=[15], weights=[15], edge_mask=[34], mask_rotate=[6, 18]),\n",
       " Data(x=[17, 75], edge_index=[2, 32], edge_attr=[32, 4], z=[17], canonical_smi='CCOC(=O)C(C)I', mol=<rdkit.Chem.rdchem.Mol object at 0x2a182da40>, pos=[7], weights=[7], edge_mask=[32], mask_rotate=[5, 17]),\n",
       " Data(x=[30, 75], edge_index=[2, 58], edge_attr=[58, 4], z=[30], canonical_smi='CCCP(=O)(CCC)OCC', mol=<rdkit.Chem.rdchem.Mol object at 0x2a184d3b0>, pos=[206], weights=[206], edge_mask=[58], mask_rotate=[9, 30]),\n",
       " Data(x=[19, 75], edge_index=[2, 36], edge_attr=[36, 4], z=[19], canonical_smi='CCOP(=O)(Cl)OCC', mol=<rdkit.Chem.rdchem.Mol object at 0x2a184d270>, pos=[28], weights=[28], edge_mask=[36], mask_rotate=[6, 19]),\n",
       " Data(x=[33, 75], edge_index=[2, 66], edge_attr=[66, 4], z=[33], canonical_smi='CCOP(=O)(OCC)N1C(C)N1CC', mol=<rdkit.Chem.rdchem.Mol object at 0x2a1892810>, pos=[222], weights=[222], edge_mask=[66], mask_rotate=[10, 33]),\n",
       " Data(x=[49, 75], edge_index=[2, 96], edge_attr=[96, 4], z=[49], canonical_smi='CCOP(OCC)SC(C(=O)O[Si](C)(C)C)[Si](C)(C)C', mol=<rdkit.Chem.rdchem.Mol object at 0x2a18caa90>, pos=[568], weights=[568], edge_mask=[96], mask_rotate=[18, 49]),\n",
       " Data(x=[21, 75], edge_index=[2, 42], edge_attr=[42, 4], z=[21], canonical_smi='CCOP1(=O)OCCCO1', mol=<rdkit.Chem.rdchem.Mol object at 0x2a18ca7c0>, pos=[5], weights=[5], edge_mask=[42], mask_rotate=[3, 21]),\n",
       " Data(x=[18, 75], edge_index=[2, 36], edge_attr=[36, 4], z=[18], canonical_smi='CCO[P]1([S])OCCO1', mol=<rdkit.Chem.rdchem.Mol object at 0x2a1a66540>, pos=[7], weights=[7], edge_mask=[36], mask_rotate=[3, 18]),\n",
       " Data(x=[35, 75], edge_index=[2, 68], edge_attr=[68, 4], z=[35], canonical_smi='CCOC(I)=C(CC)P(=O)(CC)OCC', mol=<rdkit.Chem.rdchem.Mol object at 0x2a1a70b30>, pos=[70], weights=[70], edge_mask=[68], mask_rotate=[12, 35]),\n",
       " Data(x=[26, 75], edge_index=[2, 50], edge_attr=[50, 4], z=[26], canonical_smi='CCSP(=O)(SCC)SCC', mol=<rdkit.Chem.rdchem.Mol object at 0x2a1a9f180>, pos=[81], weights=[81], edge_mask=[50], mask_rotate=[9, 26]),\n",
       " Data(x=[34, 75], edge_index=[2, 66], edge_attr=[66, 4], z=[34], canonical_smi='CCSP(=O)(CC)SC(C)(C)CC', mol=<rdkit.Chem.rdchem.Mol object at 0x2a1a9f590>, pos=[221], weights=[221], edge_mask=[66], mask_rotate=[11, 34]),\n",
       " Data(x=[26, 75], edge_index=[2, 50], edge_attr=[50, 4], z=[26], canonical_smi='CCC(C)CC(=O)OC(C)I', mol=<rdkit.Chem.rdchem.Mol object at 0x2a1abcb80>, pos=[43], weights=[43], edge_mask=[50], mask_rotate=[8, 26]),\n",
       " Data(x=[18, 75], edge_index=[2, 36], edge_attr=[36, 4], z=[18], canonical_smi='CCC1OC(=O)CC1I', mol=<rdkit.Chem.rdchem.Mol object at 0x2a1ae27c0>, pos=[3], weights=[3], edge_mask=[36], mask_rotate=[2, 18]),\n",
       " Data(x=[9, 75], edge_index=[2, 16], edge_attr=[16, 4], z=[9], canonical_smi='CC[Ge]I', mol=<rdkit.Chem.rdchem.Mol object at 0x2a1afa8b0>, pos=[2], weights=[2], edge_mask=[16], mask_rotate=[2, 9]),\n",
       " Data(x=[26, 75], edge_index=[2, 50], edge_attr=[50, 4], z=[26], canonical_smi='CC[Si](C)(CC)CC', mol=<rdkit.Chem.rdchem.Mol object at 0x2a1d0d450>, pos=[7], weights=[7], edge_mask=[50], mask_rotate=[7, 26]),\n",
       " Data(x=[16, 75], edge_index=[2, 32], edge_attr=[32, 4], z=[16], canonical_smi='CC1(CI)COC1', mol=<rdkit.Chem.rdchem.Mol object at 0x2a1d0dc70>, pos=[3], weights=[3], edge_mask=[32], mask_rotate=[2, 16]),\n",
       " Data(x=[36, 75], edge_index=[2, 74], edge_attr=[74, 4], z=[36], canonical_smi='CC1(C)CC2CC(=O)C([Si](C)(C)C)=C2C1=O', mol=<rdkit.Chem.rdchem.Mol object at 0x2a1aee860>, pos=[1], weights=[1], edge_mask=[74], mask_rotate=[6, 36]),\n",
       " Data(x=[45, 75], edge_index=[2, 90], edge_attr=[90, 4], z=[45], canonical_smi='CC1(C)OB(C#C[Si](C)(C)C(C)(C)C)OC1(C)C', mol=<rdkit.Chem.rdchem.Mol object at 0x2a1aeee00>, pos=[1], weights=[1], edge_mask=[90], mask_rotate=[13, 45]),\n",
       " Data(x=[26, 75], edge_index=[2, 54], edge_attr=[54, 4], z=[26], canonical_smi='CC1=C(C)OP(=O)(Oc2c(F)c(F)c(F)c(F)c2F)O1', mol=<rdkit.Chem.rdchem.Mol object at 0x2a1d1c860>, pos=[3], weights=[3], edge_mask=[54], mask_rotate=[4, 26]),\n",
       " Data(x=[28, 75], edge_index=[2, 56], edge_attr=[56, 4], z=[28], canonical_smi='CN(C)B1SCCSB1N(C)C', mol=<rdkit.Chem.rdchem.Mol object at 0x2a1d1c9f0>, pos=[4], weights=[4], edge_mask=[56], mask_rotate=[6, 28]),\n",
       " Data(x=[31, 75], edge_index=[2, 60], edge_attr=[60, 4], z=[31], canonical_smi='CN(CCCI)C(=O)OC(C)(C)C', mol=<rdkit.Chem.rdchem.Mol object at 0x2a1d260e0>, pos=[22], weights=[22], edge_mask=[60], mask_rotate=[10, 31]),\n",
       " Data(x=[30, 75], edge_index=[2, 58], edge_attr=[58, 4], z=[30], canonical_smi='CN(C)P(F)(F)(N(C)C)N(C)C', mol=<rdkit.Chem.rdchem.Mol object at 0x2a1d267c0>, pos=[2], weights=[2], edge_mask=[58], mask_rotate=[9, 30]),\n",
       " Data(x=[16, 75], edge_index=[2, 32], edge_attr=[32, 4], z=[16], canonical_smi='CN1C(=O)N(C)P1(Cl)(Cl)Cl', mol=<rdkit.Chem.rdchem.Mol object at 0x2a1d26b30>, pos=[1], weights=[1], edge_mask=[32], mask_rotate=[2, 16]),\n",
       " Data(x=[29, 75], edge_index=[2, 60], edge_attr=[60, 4], z=[29], canonical_smi='COC(=O)C1(C)COP(=O)(N2CC2)OC1', mol=<rdkit.Chem.rdchem.Mol object at 0x2a1d35130>, pos=[9], weights=[9], edge_mask=[60], mask_rotate=[5, 29]),\n",
       " Data(x=[16, 75], edge_index=[2, 32], edge_attr=[32, 4], z=[16], canonical_smi='COC(=O)c1nc(Cl)nc(Cl)c1I', mol=<rdkit.Chem.rdchem.Mol object at 0x2a1d1cbd0>, pos=[4], weights=[4], edge_mask=[32], mask_rotate=[3, 16]),\n",
       " Data(x=[24, 75], edge_index=[2, 46], edge_attr=[46, 4], z=[24], canonical_smi='COC(OC)P(=O)(OC)OC', mol=<rdkit.Chem.rdchem.Mol object at 0x2a1d1c900>, pos=[76], weights=[76], edge_mask=[46], mask_rotate=[9, 24]),\n",
       " Data(x=[25, 75], edge_index=[2, 48], edge_attr=[48, 4], z=[25], canonical_smi='COC(OC)[SiH2]CCCI', mol=<rdkit.Chem.rdchem.Mol object at 0x2a1d35b30>, pos=[178], weights=[178], edge_mask=[48], mask_rotate=[8, 25]),\n",
       " Data(x=[15, 75], edge_index=[2, 28], edge_attr=[28, 4], z=[15], canonical_smi='COCCCI', mol=<rdkit.Chem.rdchem.Mol object at 0x2a1d74cc0>, pos=[13], weights=[13], edge_mask=[28], mask_rotate=[4, 15]),\n",
       " Data(x=[30, 75], edge_index=[2, 58], edge_attr=[58, 4], z=[30], canonical_smi='COCCO[Si](CCBr)(OC)OC', mol=<rdkit.Chem.rdchem.Mol object at 0x2a1d74a40>, pos=[1570], weights=[1570], edge_mask=[58], mask_rotate=[11, 30]),\n",
       " Data(x=[24, 75], edge_index=[2, 46], edge_attr=[46, 4], z=[24], canonical_smi='COCC[Si](C)(C)C', mol=<rdkit.Chem.rdchem.Mol object at 0x2a1ff13b0>, pos=[4], weights=[4], edge_mask=[46], mask_rotate=[7, 24]),\n",
       " Data(x=[55, 75], edge_index=[2, 108], edge_attr=[108, 4], z=[55], canonical_smi='CON(C)C(=O)C(C)C(O[Si](C)(C)C(C)(C)C)C(C)C(C)=O', mol=<rdkit.Chem.rdchem.Mol object at 0x2a220d8b0>, pos=[459], weights=[459], edge_mask=[108], mask_rotate=[19, 55]),\n",
       " Data(x=[35, 75], edge_index=[2, 68], edge_attr=[68, 4], z=[35], canonical_smi='CCOC(C#CCP(=O)(OC)OC)OCC', mol=<rdkit.Chem.rdchem.Mol object at 0x2a22bd4f0>, pos=[890], weights=[890], edge_mask=[68], mask_rotate=[14, 35]),\n",
       " Data(x=[33, 75], edge_index=[2, 64], edge_attr=[64, 4], z=[33], canonical_smi='CCN(CC)S(=O)(=O)CP(=O)(OC)OC', mol=<rdkit.Chem.rdchem.Mol object at 0x2a24879f0>, pos=[415], weights=[415], edge_mask=[64], mask_rotate=[11, 33]),\n",
       " Data(x=[17, 75], edge_index=[2, 32], edge_attr=[32, 4], z=[17], canonical_smi='COP(=O)(OC)SC', mol=<rdkit.Chem.rdchem.Mol object at 0x2a2487770>, pos=[14], weights=[14], edge_mask=[32], mask_rotate=[6, 17]),\n",
       " Data(x=[42, 75], edge_index=[2, 82], edge_attr=[82, 4], z=[42], canonical_smi='COP(=O)(C(OC(=O)C(C)(C)C)=C(C)C)N(C)C', mol=<rdkit.Chem.rdchem.Mol object at 0x2a2719d10>, pos=[24], weights=[24], edge_mask=[82], mask_rotate=[15, 42]),\n",
       " Data(x=[48, 75], edge_index=[2, 94], edge_attr=[94, 4], z=[48], canonical_smi='CO[Si](C(C)C)(C(C)C)[SiH](C(C)C)C(C)C', mol=<rdkit.Chem.rdchem.Mol object at 0x2a273c2c0>, pos=[356], weights=[356], edge_mask=[94], mask_rotate=[15, 48]),\n",
       " Data(x=[21, 75], edge_index=[2, 40], edge_attr=[40, 4], z=[21], canonical_smi='CC[Si](C)(C)OC', mol=<rdkit.Chem.rdchem.Mol object at 0x2a273cb30>, pos=[5], weights=[5], edge_mask=[40], mask_rotate=[6, 21]),\n",
       " Data(x=[43, 75], edge_index=[2, 86], edge_attr=[86, 4], z=[43], canonical_smi='CO[Si](OC)(N1CCCC1)C(C)(C)C(C)C', mol=<rdkit.Chem.rdchem.Mol object at 0x2a27b10e0>, pos=[104], weights=[104], edge_mask=[86], mask_rotate=[11, 43]),\n",
       " Data(x=[37, 75], edge_index=[2, 72], edge_attr=[72, 4], z=[37], canonical_smi='CP(C)C([Si](C)(C)C)[Si](C)(C)C', mol=<rdkit.Chem.rdchem.Mol object at 0x2a27b1450>, pos=[3], weights=[3], edge_mask=[72], mask_rotate=[11, 37]),\n",
       " Data(x=[61, 75], edge_index=[2, 120], edge_attr=[120, 4], z=[61], canonical_smi='CP(C([Si](C)(C)C)[Si](C)(C)C)C([Si](C)(C)C)[Si](C)(C)C', mol=<rdkit.Chem.rdchem.Mol object at 0x2a278ed60>, pos=[3], weights=[3], edge_mask=[120], mask_rotate=[19, 61]),\n",
       " Data(x=[8, 75], edge_index=[2, 14], edge_attr=[14, 4], z=[8], canonical_smi='CSB(Cl)Cl', mol=<rdkit.Chem.rdchem.Mol object at 0x2a27d76d0>, pos=[2], weights=[2], edge_mask=[14], mask_rotate=[2, 8]),\n",
       " Data(x=[48, 75], edge_index=[2, 94], edge_attr=[94, 4], z=[48], canonical_smi='CSC(SC)(C(SC)(SC)[Si](C)(C)C)[Si](C)(C)C', mol=<rdkit.Chem.rdchem.Mol object at 0x2a27e52c0>, pos=[130], weights=[130], edge_mask=[94], mask_rotate=[17, 48]),\n",
       " Data(x=[76, 75], edge_index=[2, 156], edge_attr=[156, 4], z=[76], canonical_smi='CC1C(C)C(C)P(P(P2C(C)C(C)C(C)C2C)P2C(C)C(C)C(C)C2C)C1C', mol=<rdkit.Chem.rdchem.Mol object at 0x2a27e5810>, pos=[4], weights=[4], edge_mask=[156], mask_rotate=[15, 76]),\n",
       " Data(x=[41, 75], edge_index=[2, 86], edge_attr=[86, 4], z=[41], canonical_smi='CC1CN1P(=O)(N1CC1C)N1C(C)CCC1C', mol=<rdkit.Chem.rdchem.Mol object at 0x2a27e5400>, pos=[6], weights=[6], edge_mask=[86], mask_rotate=[7, 41]),\n",
       " Data(x=[22, 75], edge_index=[2, 44], edge_attr=[44, 4], z=[22], canonical_smi='CC1C[Si](C)(C)CS1', mol=<rdkit.Chem.rdchem.Mol object at 0x2a27e59f0>, pos=[1], weights=[1], edge_mask=[44], mask_rotate=[3, 22]),\n",
       " Data(x=[9, 75], edge_index=[2, 16], edge_attr=[16, 4], z=[9], canonical_smi='C[N][P](Cl)(Cl)Cl', mol=<rdkit.Chem.rdchem.Mol object at 0x2a29084a0>, pos=[1], weights=[1], edge_mask=[16], mask_rotate=[2, 9]),\n",
       " Data(x=[14, 75], edge_index=[2, 26], edge_attr=[26, 4], z=[14], canonical_smi='C[Se]P(C)C', mol=<rdkit.Chem.rdchem.Mol object at 0x2a2908ef0>, pos=[2], weights=[2], edge_mask=[26], mask_rotate=[4, 14]),\n",
       " Data(x=[26, 75], edge_index=[2, 50], edge_attr=[50, 4], z=[26], canonical_smi='C[Si](C)(C#CBr)O[Si](C)(C)CCl', mol=<rdkit.Chem.rdchem.Mol object at 0x2a291c3b0>, pos=[11], weights=[11], edge_mask=[50], mask_rotate=[9, 26]),\n",
       " Data(x=[26, 75], edge_index=[2, 50], edge_attr=[50, 4], z=[26], canonical_smi='C[Si](C)(C)C(F)(F)C(F)(F)C(F)(F)C(F)(F)F', mol=<rdkit.Chem.rdchem.Mol object at 0x2a291c9a0>, pos=[2], weights=[2], edge_mask=[50], mask_rotate=[7, 26]),\n",
       " Data(x=[17, 75], edge_index=[2, 34], edge_attr=[34, 4], z=[17], canonical_smi='C[Si](C)(C)C1[N][N]1', mol=<rdkit.Chem.rdchem.Mol object at 0x2a291c7c0>, pos=[1], weights=[1], edge_mask=[34], mask_rotate=[4, 17]),\n",
       " Data(x=[41, 75], edge_index=[2, 80], edge_attr=[80, 4], z=[41], canonical_smi='C[Si](C)(C)[SiH]([Si](C)(C)C)[Si](C)(C)C', mol=<rdkit.Chem.rdchem.Mol object at 0x2a291cea0>, pos=[1], weights=[1], edge_mask=[80], mask_rotate=[12, 41]),\n",
       " Data(x=[14, 75], edge_index=[2, 26], edge_attr=[26, 4], z=[14], canonical_smi='C[Si](C)(Cl)C(Cl)Cl', mol=<rdkit.Chem.rdchem.Mol object at 0x2a2929360>, pos=[3], weights=[3], edge_mask=[26], mask_rotate=[3, 14]),\n",
       " Data(x=[25, 75], edge_index=[2, 48], edge_attr=[48, 4], z=[25], canonical_smi='C[Si](C)(Cl)O[Si](C)(C)O[SiH3]', mol=<rdkit.Chem.rdchem.Mol object at 0x2a27f2450>, pos=[21], weights=[21], edge_mask=[48], mask_rotate=[8, 25]),\n",
       " Data(x=[67, 75], edge_index=[2, 132], edge_attr=[132, 4], z=[67], canonical_smi='C[Si](C)(C)O[Si](C)(C)O[Si](C)(C)O[Si](C)(C)O[Si](C)(C)O[Si](C)(C)C', mol=<rdkit.Chem.rdchem.Mol object at 0x2a27d7810>, pos=[1944], weights=[1944], edge_mask=[132], mask_rotate=[24, 67]),\n",
       " Data(x=[50, 75], edge_index=[2, 98], edge_attr=[98, 4], z=[50], canonical_smi='C[SiH](C)C([Si](C)(C)C)([Si](C)(C)C)[Si](C)(C)C', mol=<rdkit.Chem.rdchem.Mol object at 0x2a2e0dc70>, pos=[1], weights=[1], edge_mask=[98], mask_rotate=[15, 50]),\n",
       " Data(x=[24, 75], edge_index=[2, 48], edge_attr=[48, 4], z=[24], canonical_smi='C[Si]1(C)CC[Si]1(C)C', mol=<rdkit.Chem.rdchem.Mol object at 0x2a2e0d9f0>, pos=[1], weights=[1], edge_mask=[48], mask_rotate=[4, 24]),\n",
       " Data(x=[42, 75], edge_index=[2, 84], edge_attr=[84, 4], z=[42], canonical_smi='C[Si]1(C)[Si](C)(C)[Si](C)(C)[Si](C)(Cl)[Si]1(C)C', mol=<rdkit.Chem.rdchem.Mol object at 0x2a2ccf9f0>, pos=[1], weights=[1], edge_mask=[84], mask_rotate=[9, 42]),\n",
       " Data(x=[35, 75], edge_index=[2, 68], edge_attr=[68, 4], z=[35], canonical_smi='CCB(CC)C(CC)=C(C)CC', mol=<rdkit.Chem.rdchem.Mol object at 0x2a2e0db30>, pos=[33], weights=[33], edge_mask=[68], mask_rotate=[11, 35]),\n",
       " Data(x=[21, 75], edge_index=[2, 42], edge_attr=[42, 4], z=[21], canonical_smi='Cc1c(I)c(=O)n(C)c(=O)n1C', mol=<rdkit.Chem.rdchem.Mol object at 0x2a2e18450>, pos=[1], weights=[1], edge_mask=[42], mask_rotate=[3, 21]),\n",
       " Data(x=[29, 75], edge_index=[2, 58], edge_attr=[58, 4], z=[29], canonical_smi='CCS(=O)(=O)CCn1c(C)nc([N+](=O)[O-])c1I', mol=<rdkit.Chem.rdchem.Mol object at 0x2a2e6bb80>, pos=[32], weights=[32], edge_mask=[58], mask_rotate=[7, 29]),\n",
       " Data(x=[20, 75], edge_index=[2, 40], edge_attr=[40, 4], z=[20], canonical_smi='Cc1noc(C)c1CCI', mol=<rdkit.Chem.rdchem.Mol object at 0x2a2e6b6d0>, pos=[4], weights=[4], edge_mask=[40], mask_rotate=[4, 20]),\n",
       " Data(x=[11, 75], edge_index=[2, 20], edge_attr=[20, 4], z=[11], canonical_smi='Cl[SiH](Cl)C[Si](Cl)(Cl)Cl', mol=<rdkit.Chem.rdchem.Mol object at 0x2a2e76a40>, pos=[3], weights=[3], edge_mask=[20], mask_rotate=[2, 11]),\n",
       " Data(x=[30, 75], edge_index=[2, 58], edge_attr=[58, 4], z=[30], canonical_smi='C=C(C)CCCC(C)CCI', mol=<rdkit.Chem.rdchem.Mol object at 0x2a2e76ea0>, pos=[165], weights=[165], edge_mask=[58], mask_rotate=[9, 30]),\n",
       " Data(x=[9, 75], edge_index=[2, 16], edge_attr=[16, 4], z=[9], canonical_smi='C=C(Cl)[Si](Cl)(Cl)Cl', mol=<rdkit.Chem.rdchem.Mol object at 0x2a2ea6ef0>, pos=[1], weights=[1], edge_mask=[16], mask_rotate=[2, 9]),\n",
       " Data(x=[13, 75], edge_index=[2, 24], edge_attr=[24, 4], z=[13], canonical_smi='C=C(I)COC', mol=<rdkit.Chem.rdchem.Mol object at 0x2a2ea6f40>, pos=[5], weights=[5], edge_mask=[24], mask_rotate=[4, 13]),\n",
       " Data(x=[19, 75], edge_index=[2, 36], edge_attr=[36, 4], z=[19], canonical_smi='C=CCC(I)CC=C', mol=<rdkit.Chem.rdchem.Mol object at 0x2a2ea6270>, pos=[32], weights=[32], edge_mask=[36], mask_rotate=[6, 19]),\n",
       " Data(x=[45, 75], edge_index=[2, 88], edge_attr=[88, 4], z=[45], canonical_smi='C=CCCC#CO[Si](C(C)C)(C(C)C)C(C)C', mol=<rdkit.Chem.rdchem.Mol object at 0x2a2ebd130>, pos=[171], weights=[171], edge_mask=[88], mask_rotate=[16, 45]),\n",
       " Data(x=[25, 75], edge_index=[2, 50], edge_attr=[50, 4], z=[25], canonical_smi='C=CCCCCC1CC1I', mol=<rdkit.Chem.rdchem.Mol object at 0x2a2e8d180>, pos=[149], weights=[149], edge_mask=[50], mask_rotate=[6, 25]),\n",
       " Data(x=[22, 75], edge_index=[2, 44], edge_attr=[44, 4], z=[22], canonical_smi='C=CCCc1cc(F)c(I)c(F)c1', mol=<rdkit.Chem.rdchem.Mol object at 0x2a3018590>, pos=[8], weights=[8], edge_mask=[44], mask_rotate=[4, 22]),\n",
       " Data(x=[34, 75], edge_index=[2, 68], edge_attr=[68, 4], z=[34], canonical_smi='C=CCN(C#CC(=O)OCC)C(=O)c1ccccc1I', mol=<rdkit.Chem.rdchem.Mol object at 0x2a3018770>, pos=[81], weights=[81], edge_mask=[68], mask_rotate=[11, 34]),\n",
       " Data(x=[28, 75], edge_index=[2, 56], edge_attr=[56, 4], z=[28], canonical_smi='C=CCN(C#CC)C(=O)c1ccccc1I', mol=<rdkit.Chem.rdchem.Mol object at 0x2a3036c70>, pos=[16], weights=[16], edge_mask=[56], mask_rotate=[8, 28]),\n",
       " Data(x=[21, 75], edge_index=[2, 40], edge_attr=[40, 4], z=[21], canonical_smi='C=CC[Si](Cl)(Cl)CCCCl', mol=<rdkit.Chem.rdchem.Mol object at 0x2a3036db0>, pos=[58], weights=[58], edge_mask=[40], mask_rotate=[6, 21]),\n",
       " Data(x=[28, 75], edge_index=[2, 54], edge_attr=[54, 4], z=[28], canonical_smi='C=CCC(=CI)CCCCC', mol=<rdkit.Chem.rdchem.Mol object at 0x2a30518b0>, pos=[90], weights=[90], edge_mask=[54], mask_rotate=[9, 28]),\n",
       " Data(x=[20, 75], edge_index=[2, 38], edge_attr=[38, 4], z=[20], canonical_smi='C=CCC(=CI)COC', mol=<rdkit.Chem.rdchem.Mol object at 0x2a30519f0>, pos=[21], weights=[21], edge_mask=[38], mask_rotate=[7, 20]),\n",
       " Data(x=[28, 75], edge_index=[2, 54], edge_attr=[54, 4], z=[28], canonical_smi='C=CCC(=CI)CCCCC', mol=<rdkit.Chem.rdchem.Mol object at 0x2a306ea40>, pos=[137], weights=[137], edge_mask=[54], mask_rotate=[9, 28]),\n",
       " Data(x=[20, 75], edge_index=[2, 38], edge_attr=[38, 4], z=[20], canonical_smi='C=CCC(=CI)COC', mol=<rdkit.Chem.rdchem.Mol object at 0x2a306e450>, pos=[24], weights=[24], edge_mask=[38], mask_rotate=[7, 20]),\n",
       " Data(x=[17, 75], edge_index=[2, 32], edge_attr=[32, 4], z=[17], canonical_smi='C=CP(=O)(C=C)C=C', mol=<rdkit.Chem.rdchem.Mol object at 0x2a30a0090>, pos=[9], weights=[9], edge_mask=[32], mask_rotate=[6, 17]),\n",
       " Data(x=[42, 75], edge_index=[2, 82], edge_attr=[82, 4], z=[42], canonical_smi='C=CC(C)C(C)C(C)CC[Si](C)(C)C', mol=<rdkit.Chem.rdchem.Mol object at 0x2a30a0400>, pos=[87], weights=[87], edge_mask=[82], mask_rotate=[13, 42]),\n",
       " Data(x=[18, 75], edge_index=[2, 34], edge_attr=[34, 4], z=[18], canonical_smi='C=CC(C)OC(=O)CI', mol=<rdkit.Chem.rdchem.Mol object at 0x2a30bfa40>, pos=[26], weights=[26], edge_mask=[34], mask_rotate=[6, 18]),\n",
       " Data(x=[36, 75], edge_index=[2, 70], edge_attr=[70, 4], z=[36], canonical_smi='C=CS(=O)CCOC[Si](C)(CC)CC', mol=<rdkit.Chem.rdchem.Mol object at 0x2a30bfb80>, pos=[1230], weights=[1230], edge_mask=[70], mask_rotate=[12, 36]),\n",
       " Data(x=[25, 75], edge_index=[2, 48], edge_attr=[48, 4], z=[25], canonical_smi='C=C[SiH](CCC(F)(F)F)COC', mol=<rdkit.Chem.rdchem.Mol object at 0x2a33fed10>, pos=[136], weights=[136], edge_mask=[48], mask_rotate=[8, 25]),\n",
       " Data(x=[30, 75], edge_index=[2, 58], edge_attr=[58, 4], z=[30], canonical_smi='C=C[Si](C)(C)CCSCCN', mol=<rdkit.Chem.rdchem.Mol object at 0x2a33fea90>, pos=[413], weights=[413], edge_mask=[58], mask_rotate=[10, 30]),\n",
       " Data(x=[27, 75], edge_index=[2, 56], edge_attr=[56, 4], z=[27], canonical_smi='C=C[Si]1(c2ccccc2)CC=CC1', mol=<rdkit.Chem.rdchem.Mol object at 0x2a35598b0>, pos=[5], weights=[5], edge_mask=[56], mask_rotate=[3, 27]),\n",
       " Data(x=[19, 75], edge_index=[2, 38], edge_attr=[38, 4], z=[19], canonical_smi='C=Cc1ccc(CI)cc1', mol=<rdkit.Chem.rdchem.Mol object at 0x2a35c2540>, pos=[3], weights=[3], edge_mask=[38], mask_rotate=[3, 19]),\n",
       " Data(x=[19, 75], edge_index=[2, 38], edge_attr=[38, 4], z=[19], canonical_smi='C=Cc1ccccc1CI', mol=<rdkit.Chem.rdchem.Mol object at 0x2a35df040>, pos=[5], weights=[5], edge_mask=[38], mask_rotate=[3, 19]),\n",
       " Data(x=[30, 75], edge_index=[2, 62], edge_attr=[62, 4], z=[30], canonical_smi='C=Cc1ccc(P2(=O)CC=C(C)C2)cc1', mol=<rdkit.Chem.rdchem.Mol object at 0x2a35df630>, pos=[1], weights=[1], edge_mask=[62], mask_rotate=[4, 30]),\n",
       " Data(x=[26, 75], edge_index=[2, 56], edge_attr=[56, 4], z=[26], canonical_smi='C=Cn1c2ccc(I)cc2c2cc(I)ccc21', mol=<rdkit.Chem.rdchem.Mol object at 0x2a35dfe00>, pos=[2], weights=[2], edge_mask=[56], mask_rotate=[2, 26]),\n",
       " Data(x=[32, 75], edge_index=[2, 62], edge_attr=[62, 4], z=[32], canonical_smi='C=NC([Si](C)(C)C)[Si](C)(C)C', mol=<rdkit.Chem.rdchem.Mol object at 0x2a35dfb80>, pos=[2], weights=[2], edge_mask=[62], mask_rotate=[10, 32]),\n",
       " Data(x=[12, 75], edge_index=[2, 22], edge_attr=[22, 4], z=[12], canonical_smi='C=[Si](C)C', mol=<rdkit.Chem.rdchem.Mol object at 0x2a35c2ea0>, pos=[2], weights=[2], edge_mask=[22], mask_rotate=[3, 12]),\n",
       " Data(x=[33, 75], edge_index=[2, 66], edge_attr=[66, 4], z=[33], canonical_smi='C[Si](C)(C)C1=C([Si](C)(C)C)C1C(=O)Br', mol=<rdkit.Chem.rdchem.Mol object at 0x2a35e8360>, pos=[2], weights=[2], edge_mask=[66], mask_rotate=[9, 33]),\n",
       " Data(x=[28, 75], edge_index=[2, 56], edge_attr=[56, 4], z=[28], canonical_smi='CC(I)OC(=O)OC1CCCCC1', mol=<rdkit.Chem.rdchem.Mol object at 0x2a35e88b0>, pos=[6], weights=[6], edge_mask=[56], mask_rotate=[5, 28]),\n",
       " Data(x=[39, 75], edge_index=[2, 78], edge_attr=[78, 4], z=[39], canonical_smi='C[Si](C)(C)CCS(=O)(=O)C1CCCCC1', mol=<rdkit.Chem.rdchem.Mol object at 0x2a35e8ea0>, pos=[5], weights=[5], edge_mask=[78], mask_rotate=[7, 39]),\n",
       " Data(x=[69, 75], edge_index=[2, 144], edge_attr=[144, 4], z=[69], canonical_smi='C1CCC([Si](C2CCCCC2)(C2CCCCC2)C2CCCCC2)CC1', mol=<rdkit.Chem.rdchem.Mol object at 0x2a35e8900>, pos=[27], weights=[27], edge_mask=[144], mask_rotate=[4, 69]),\n",
       " Data(x=[27, 75], edge_index=[2, 54], edge_attr=[54, 4], z=[27], canonical_smi='FC(F)(F)C(F)(F)C(F)(F)C1CCCCC1I', mol=<rdkit.Chem.rdchem.Mol object at 0x2a35f3400>, pos=[5], weights=[5], edge_mask=[54], mask_rotate=[3, 27]),\n",
       " Data(x=[25, 75], edge_index=[2, 52], edge_attr=[52, 4], z=[25], canonical_smi='IC#CC1CCCCC1n1nnnc1I', mol=<rdkit.Chem.rdchem.Mol object at 0x2a35f3720>, pos=[2], weights=[2], edge_mask=[52], mask_rotate=[3, 25]),\n",
       " Data(x=[27, 75], edge_index=[2, 54], edge_attr=[54, 4], z=[27], canonical_smi='FC(F)(F)C(F)(C1CCCCC1I)C(F)(F)F', mol=<rdkit.Chem.rdchem.Mol object at 0x2a37014a0>, pos=[1], weights=[1], edge_mask=[54], mask_rotate=[3, 27]),\n",
       " Data(x=[26, 75], edge_index=[2, 54], edge_attr=[54, 4], z=[26], canonical_smi='CC1CCCCC1n1nnnc1I', mol=<rdkit.Chem.rdchem.Mol object at 0x2a37019a0>, pos=[2], weights=[2], edge_mask=[54], mask_rotate=[2, 26]),\n",
       " Data(x=[32, 75], edge_index=[2, 66], edge_attr=[66, 4], z=[32], canonical_smi='CC(I)C1(C)CC2CCCCC2O1', mol=<rdkit.Chem.rdchem.Mol object at 0x2a3701ea0>, pos=[3], weights=[3], edge_mask=[66], mask_rotate=[3, 32]),\n",
       " Data(x=[20, 75], edge_index=[2, 40], edge_attr=[40, 4], z=[20], canonical_smi='CC1CCCC(I)C1=O', mol=<rdkit.Chem.rdchem.Mol object at 0x2a35e87c0>, pos=[1], weights=[1], edge_mask=[40], mask_rotate=[1, 20]),\n",
       " Data(x=[18, 75], edge_index=[2, 36], edge_attr=[36, 4], z=[18], canonical_smi='CP1(=O)CCC(Br)C1Br', mol=<rdkit.Chem.rdchem.Mol object at 0x2a35e89f0>, pos=[1], weights=[1], edge_mask=[36], mask_rotate=[1, 18]),\n",
       " Data(x=[32, 75], edge_index=[2, 66], edge_attr=[66, 4], z=[32], canonical_smi='C[SiH](N1CCCC1)N1CCCC1', mol=<rdkit.Chem.rdchem.Mol object at 0x2a370e680>, pos=[3], weights=[3], edge_mask=[66], mask_rotate=[3, 32]),\n",
       " Data(x=[23, 75], edge_index=[2, 48], edge_attr=[48, 4], z=[23], canonical_smi='O=C1OCCN1P(=O)(Br)N1CCOC1=O', mol=<rdkit.Chem.rdchem.Mol object at 0x2a370e9a0>, pos=[7], weights=[7], edge_mask=[48], mask_rotate=[2, 23]),\n",
       " Data(x=[40, 75], edge_index=[2, 80], edge_attr=[80, 4], z=[40], canonical_smi='C[Si](C)(C)C#CC1([Ge](C)(C)C)OCCCO1', mol=<rdkit.Chem.rdchem.Mol object at 0x2a370eb30>, pos=[1], weights=[1], edge_mask=[80], mask_rotate=[10, 40]),\n",
       " Data(x=[20, 75], edge_index=[2, 40], edge_attr=[40, 4], z=[20], canonical_smi='ICC1(CI)COCOC1', mol=<rdkit.Chem.rdchem.Mol object at 0x2a370ed10>, pos=[5], weights=[5], edge_mask=[40], mask_rotate=[2, 20]),\n",
       " Data(x=[18, 75], edge_index=[2, 36], edge_attr=[36, 4], z=[18], canonical_smi='CC1CCOP(N=C=O)O1', mol=<rdkit.Chem.rdchem.Mol object at 0x2a37017c0>, pos=[1], weights=[1], edge_mask=[36], mask_rotate=[3, 18]),\n",
       " Data(x=[22, 75], edge_index=[2, 44], edge_attr=[44, 4], z=[22], canonical_smi='C[Si]1(C)CCSCC(=O)O1', mol=<rdkit.Chem.rdchem.Mol object at 0x2a37173b0>, pos=[1], weights=[1], edge_mask=[44], mask_rotate=[2, 22]),\n",
       " Data(x=[24, 75], edge_index=[2, 48], edge_attr=[48, 4], z=[24], canonical_smi='C[Si](C)(C)CC1CSSS1', mol=<rdkit.Chem.rdchem.Mol object at 0x2a3717bd0>, pos=[3], weights=[3], edge_mask=[48], mask_rotate=[5, 24]),\n",
       " Data(x=[33, 75], edge_index=[2, 68], edge_attr=[68, 4], z=[33], canonical_smi='[S][P]1(CC2CCCCC2)SCCCS1', mol=<rdkit.Chem.rdchem.Mol object at 0x2a3726180>, pos=[4], weights=[4], edge_mask=[68], mask_rotate=[2, 33]),\n",
       " Data(x=[41, 75], edge_index=[2, 82], edge_attr=[82, 4], z=[41], canonical_smi='CC1(C)CC(=O)C=C(CCC#C[Si](C)(C)C)C1', mol=<rdkit.Chem.rdchem.Mol object at 0x2a3701540>, pos=[9], weights=[9], edge_mask=[82], mask_rotate=[10, 41]),\n",
       " Data(x=[18, 75], edge_index=[2, 36], edge_attr=[36, 4], z=[18], canonical_smi='O=C1CCCC=C1CI', mol=<rdkit.Chem.rdchem.Mol object at 0x2a3701b30>, pos=[3], weights=[3], edge_mask=[36], mask_rotate=[1, 18]),\n",
       " Data(x=[33, 75], edge_index=[2, 68], edge_attr=[68, 4], z=[33], canonical_smi='CC1=CC(=O)NP(=O)(OC2CCCCC2)N1', mol=<rdkit.Chem.rdchem.Mol object at 0x2a3726bd0>, pos=[3], weights=[3], edge_mask=[68], mask_rotate=[3, 33]),\n",
       " Data(x=[43, 75], edge_index=[2, 86], edge_attr=[86, 4], z=[43], canonical_smi='CC(C)[Si](OC1=CSCC=C1)(C(C)C)C(C)C', mol=<rdkit.Chem.rdchem.Mol object at 0x2a3726d10>, pos=[68], weights=[68], edge_mask=[86], mask_rotate=[11, 43]),\n",
       " Data(x=[20, 75], edge_index=[2, 42], edge_attr=[42, 4], z=[20], canonical_smi='O=C1C=CC(=O)N1c1cccc(I)c1', mol=<rdkit.Chem.rdchem.Mol object at 0x2a3726db0>, pos=[2], weights=[2], edge_mask=[42], mask_rotate=[1, 20]),\n",
       " Data(x=[11, 75], edge_index=[2, 22], edge_attr=[22, 4], z=[11], canonical_smi='[N][N]C1=C(I)C=C[C]1I', mol=<rdkit.Chem.rdchem.Mol object at 0x2a373bbd0>, pos=[1], weights=[1], edge_mask=[22], mask_rotate=[1, 11]),\n",
       " Data(x=[25, 75], edge_index=[2, 50], edge_attr=[50, 4], z=[25], canonical_smi='C[Si](C)(C)OC1=CCSC=C1', mol=<rdkit.Chem.rdchem.Mol object at 0x2a373bd10>, pos=[2], weights=[2], edge_mask=[50], mask_rotate=[5, 25]),\n",
       " Data(x=[24, 75], edge_index=[2, 48], edge_attr=[48, 4], z=[24], canonical_smi='IC=CC1C=CCCC1C=CI', mol=<rdkit.Chem.rdchem.Mol object at 0x2a35e8310>, pos=[8], weights=[8], edge_mask=[48], mask_rotate=[4, 24]),\n",
       " Data(x=[24, 75], edge_index=[2, 48], edge_attr=[48, 4], z=[24], canonical_smi='IC=CC1C=CCCC1C=CI', mol=<rdkit.Chem.rdchem.Mol object at 0x2a374c180>, pos=[3], weights=[3], edge_mask=[48], mask_rotate=[4, 24]),\n",
       " Data(x=[24, 75], edge_index=[2, 48], edge_attr=[48, 4], z=[24], canonical_smi='IC=CC1C=CCCC1C=CI', mol=<rdkit.Chem.rdchem.Mol object at 0x2a374ce50>, pos=[1], weights=[1], edge_mask=[48], mask_rotate=[4, 24]),\n",
       " Data(x=[24, 75], edge_index=[2, 48], edge_attr=[48, 4], z=[24], canonical_smi='IC=CC1C=CCCC1C=CI', mol=<rdkit.Chem.rdchem.Mol object at 0x2a374c220>, pos=[1], weights=[1], edge_mask=[48], mask_rotate=[4, 24]),\n",
       " Data(x=[44, 75], edge_index=[2, 90], edge_attr=[90, 4], z=[44], canonical_smi='CC(C)(C)[Si](C)(C)OC1C=CCC2C1C(=O)CS2(=O)=O', mol=<rdkit.Chem.rdchem.Mol object at 0x2a374c6d0>, pos=[5], weights=[5], edge_mask=[90], mask_rotate=[8, 44]),\n",
       " Data(x=[48, 75], edge_index=[2, 100], edge_attr=[100, 4], z=[48], canonical_smi='CCO[Si](OCC)(OCC)C1CCC2C3C=CC(C3)C21', mol=<rdkit.Chem.rdchem.Mol object at 0x2a37584f0>, pos=[351], weights=[351], edge_mask=[100], mask_rotate=[10, 48]),\n",
       " Data(x=[37, 75], edge_index=[2, 74], edge_attr=[74, 4], z=[37], canonical_smi='C[Si](C)(C)C1[Si](C)(C)C=C[Si]1(C)C', mol=<rdkit.Chem.rdchem.Mol object at 0x2a37b2c70>, pos=[1], weights=[1], edge_mask=[74], mask_rotate=[8, 37]),\n",
       " Data(x=[38, 75], edge_index=[2, 78], edge_attr=[78, 4], z=[38], canonical_smi='CC(C)(C)C1CC=C(c2cccc(I)c2)CC1', mol=<rdkit.Chem.rdchem.Mol object at 0x2a37a7590>, pos=[3], weights=[3], edge_mask=[78], mask_rotate=[5, 38]),\n",
       " Data(x=[22, 75], edge_index=[2, 46], edge_attr=[46, 4], z=[22], canonical_smi='O=C(Nc1ccccc1I)[C]1N=C[N]N1', mol=<rdkit.Chem.rdchem.Mol object at 0x2a37b2950>, pos=[3], weights=[3], edge_mask=[46], mask_rotate=[3, 22]),\n",
       " Data(x=[28, 75], edge_index=[2, 60], edge_attr=[60, 4], z=[28], canonical_smi='N[C]1N=C[N]c2c1c(I)nn2C1CCCC1', mol=<rdkit.Chem.rdchem.Mol object at 0x2a37cd360>, pos=[3], weights=[3], edge_mask=[60], mask_rotate=[2, 28]),\n",
       " Data(x=[15, 75], edge_index=[2, 32], edge_attr=[32, 4], z=[15], canonical_smi='N[C]1N=C[N]c2c1n[nH]c2I', mol=<rdkit.Chem.rdchem.Mol object at 0x2a373b810>, pos=[1], weights=[1], edge_mask=[32], mask_rotate=[1, 15]),\n",
       " Data(x=[33, 75], edge_index=[2, 64], edge_attr=[64, 4], z=[33], canonical_smi='CB(NC(C)(C)C)C(C)(C)C', mol=<rdkit.Chem.rdchem.Mol object at 0x2a37a7db0>, pos=[2], weights=[2], edge_mask=[64], mask_rotate=[10, 33]),\n",
       " Data(x=[8, 75], edge_index=[2, 14], edge_attr=[14, 4], z=[8], canonical_smi='N#CN[SiH3]', mol=<rdkit.Chem.rdchem.Mol object at 0x2a37cd630>, pos=[1], weights=[1], edge_mask=[14], mask_rotate=[2, 8]),\n",
       " Data(x=[18, 75], edge_index=[2, 34], edge_attr=[34, 4], z=[18], canonical_smi='O=C(NCCCI)C(F)(F)F', mol=<rdkit.Chem.rdchem.Mol object at 0x2a37d9090>, pos=[24], weights=[24], edge_mask=[34], mask_rotate=[5, 18]),\n",
       " Data(x=[24, 75], edge_index=[2, 46], edge_attr=[46, 4], z=[24], canonical_smi='CCCCNC(=O)OC#CCI', mol=<rdkit.Chem.rdchem.Mol object at 0x2a37d95e0>, pos=[50], weights=[50], edge_mask=[46], mask_rotate=[9, 24]),\n",
       " Data(x=[28, 75], edge_index=[2, 54], edge_attr=[54, 4], z=[28], canonical_smi='CC(C)(C)OC(=O)NCCCI', mol=<rdkit.Chem.rdchem.Mol object at 0x2a37cd6d0>, pos=[31], weights=[31], edge_mask=[54], mask_rotate=[9, 28]),\n",
       " Data(x=[18, 75], edge_index=[2, 34], edge_attr=[34, 4], z=[18], canonical_smi='CNP(=O)(NC)C(Cl)Cl', mol=<rdkit.Chem.rdchem.Mol object at 0x2a37f45e0>, pos=[13], weights=[13], edge_mask=[34], mask_rotate=[5, 18]),\n",
       " Data(x=[30, 75], edge_index=[2, 58], edge_attr=[58, 4], z=[30], canonical_smi='CC(C)(C)B(N)C(C)(C)C', mol=<rdkit.Chem.rdchem.Mol object at 0x2a37e3b80>, pos=[2], weights=[2], edge_mask=[58], mask_rotate=[9, 30]),\n",
       " Data(x=[15, 75], edge_index=[2, 30], edge_attr=[30, 4], z=[15], canonical_smi='NB1OB(N)OB(N)O1', mol=<rdkit.Chem.rdchem.Mol object at 0x2a37e3cc0>, pos=[4], weights=[4], edge_mask=[30], mask_rotate=[3, 15]),\n",
       " Data(x=[11, 75], edge_index=[2, 20], edge_attr=[20, 4], z=[11], canonical_smi='NC(=O)NP(=O)(Cl)Cl', mol=<rdkit.Chem.rdchem.Mol object at 0x2a3a03a90>, pos=[2], weights=[2], edge_mask=[20], mask_rotate=[3, 11]),\n",
       " Data(x=[6, 75], edge_index=[2, 10], edge_attr=[10, 4], z=[6], canonical_smi='NC(=S)I', mol=<rdkit.Chem.rdchem.Mol object at 0x2a3a03f40>, pos=[2], weights=[2], edge_mask=[10], mask_rotate=[1, 6]),\n",
       " Data(x=[29, 75], edge_index=[2, 58], edge_attr=[58, 4], z=[29], canonical_smi='CCP1CCC(=NNC(N)=S)CC1', mol=<rdkit.Chem.rdchem.Mol object at 0x2a3a124f0>, pos=[15], weights=[15], edge_mask=[58], mask_rotate=[6, 29]),\n",
       " Data(x=[6, 75], edge_index=[2, 10], edge_attr=[10, 4], z=[6], canonical_smi='NP(I)I', mol=<rdkit.Chem.rdchem.Mol object at 0x2a3a12ae0>, pos=[2], weights=[2], edge_mask=[10], mask_rotate=[1, 6]),\n",
       " Data(x=[31, 75], edge_index=[2, 60], edge_attr=[60, 4], z=[31], canonical_smi='CN(C)[P](N)(N(C)C)N(C)C', mol=<rdkit.Chem.rdchem.Mol object at 0x2a3a12540>, pos=[10], weights=[10], edge_mask=[60], mask_rotate=[10, 31]),\n",
       " Data(x=[16, 75], edge_index=[2, 32], edge_attr=[32, 4], z=[16], canonical_smi='Cc1[nH]c(N)nc(=O)c1I', mol=<rdkit.Chem.rdchem.Mol object at 0x2a3a12900>, pos=[2], weights=[2], edge_mask=[32], mask_rotate=[2, 16]),\n",
       " Data(x=[13, 75], edge_index=[2, 26], edge_attr=[26, 4], z=[13], canonical_smi='Nc1nc(C(F)(F)F)c(I)s1', mol=<rdkit.Chem.rdchem.Mol object at 0x2a3a12810>, pos=[2], weights=[2], edge_mask=[26], mask_rotate=[2, 13]),\n",
       " Data(x=[19, 75], edge_index=[2, 36], edge_attr=[36, 4], z=[19], canonical_smi='CN(C)CC#CB(O)O', mol=<rdkit.Chem.rdchem.Mol object at 0x2a3a20d10>, pos=[12], weights=[12], edge_mask=[36], mask_rotate=[8, 19]),\n",
       " Data(x=[15, 75], edge_index=[2, 28], edge_attr=[28, 4], z=[15], canonical_smi='OB(O)CCCBr', mol=<rdkit.Chem.rdchem.Mol object at 0x2a3a20360>, pos=[55], weights=[55], edge_mask=[28], mask_rotate=[5, 15]),\n",
       " Data(x=[23, 75], edge_index=[2, 48], edge_attr=[48, 4], z=[23], canonical_smi='N[C]1N=C[N]C2=C1C=C(B(O)O)B(O)N2', mol=<rdkit.Chem.rdchem.Mol object at 0x2a3a2e900>, pos=[10], weights=[10], edge_mask=[48], mask_rotate=[5, 23]),\n",
       " Data(x=[34, 75], edge_index=[2, 68], edge_attr=[68, 4], z=[34], canonical_smi='CCN(CC)C(=O)c1cc(B(O)O)cc([N+](=O)[O-])c1', mol=<rdkit.Chem.rdchem.Mol object at 0x2a3a3edb0>, pos=[109], weights=[109], edge_mask=[68], mask_rotate=[10, 34]),\n",
       " Data(x=[16, 75], edge_index=[2, 32], edge_attr=[32, 4], z=[16], canonical_smi='OB(O)c1cc(I)ccc1F', mol=<rdkit.Chem.rdchem.Mol object at 0x2a3a51220>, pos=[7], weights=[7], edge_mask=[32], mask_rotate=[3, 16]),\n",
       " Data(x=[29, 75], edge_index=[2, 58], edge_attr=[58, 4], z=[29], canonical_smi='CC(=O)NCCc1ccc(B(O)O)cc1', mol=<rdkit.Chem.rdchem.Mol object at 0x2a3a69400>, pos=[122], weights=[122], edge_mask=[58], mask_rotate=[8, 29]),\n",
       " Data(x=[23, 75], edge_index=[2, 46], edge_attr=[46, 4], z=[23], canonical_smi='CC(O)c1ccc(B(O)O)cc1', mol=<rdkit.Chem.rdchem.Mol object at 0x2a3a69b80>, pos=[22], weights=[22], edge_mask=[46], mask_rotate=[6, 23]),\n",
       " Data(x=[25, 75], edge_index=[2, 52], edge_attr=[52, 4], z=[25], canonical_smi='OB(O)c1ccc2c(c1)OCCCO2', mol=<rdkit.Chem.rdchem.Mol object at 0x2a3a87130>, pos=[4], weights=[4], edge_mask=[52], mask_rotate=[3, 25]),\n",
       " Data(x=[25, 75], edge_index=[2, 50], edge_attr=[50, 4], z=[25], canonical_smi='CC(C)(O)c1ccnc(B(O)O)c1', mol=<rdkit.Chem.rdchem.Mol object at 0x2a3aa40e0>, pos=[19], weights=[19], edge_mask=[50], mask_rotate=[7, 25]),\n",
       " Data(x=[17, 75], edge_index=[2, 34], edge_attr=[34, 4], z=[17], canonical_smi='OCc1ccc(B(O)O)o1', mol=<rdkit.Chem.rdchem.Mol object at 0x2a3aa4770>, pos=[22], weights=[22], edge_mask=[34], mask_rotate=[5, 17]),\n",
       " Data(x=[21, 75], edge_index=[2, 44], edge_attr=[44, 4], z=[21], canonical_smi='CN1N=Cc2ccccc2B1O', mol=<rdkit.Chem.rdchem.Mol object at 0x2a3aa4c20>, pos=[2], weights=[2], edge_mask=[44], mask_rotate=[2, 21]),\n",
       " Data(x=[18, 75], edge_index=[2, 38], edge_attr=[38, 4], z=[18], canonical_smi='CC1=NNB(O)c2sccc21', mol=<rdkit.Chem.rdchem.Mol object at 0x2a3a93860>, pos=[2], weights=[2], edge_mask=[38], mask_rotate=[2, 18]),\n",
       " Data(x=[26, 75], edge_index=[2, 52], edge_attr=[52, 4], z=[26], canonical_smi='O=C(CI)Nc1cccc(NC(=O)C(=O)O)c1', mol=<rdkit.Chem.rdchem.Mol object at 0x2a3ab1180>, pos=[68], weights=[68], edge_mask=[52], mask_rotate=[7, 26]),\n",
       " Data(x=[25, 75], edge_index=[2, 50], edge_attr=[50, 4], z=[25], canonical_smi='CC(C)(Oc1ccc(I)cc1)C(=O)O', mol=<rdkit.Chem.rdchem.Mol object at 0x2a3ab1e50>, pos=[12], weights=[12], edge_mask=[50], mask_rotate=[6, 25]),\n",
       " Data(x=[23, 75], edge_index=[2, 46], edge_attr=[46, 4], z=[23], canonical_smi='O=C(O)CCC(=O)c1cccc(I)c1', mol=<rdkit.Chem.rdchem.Mol object at 0x2a3acc630>, pos=[65], weights=[65], edge_mask=[46], mask_rotate=[5, 23]),\n",
       " Data(x=[29, 75], edge_index=[2, 58], edge_attr=[58, 4], z=[29], canonical_smi='Nc1cc(C(CC(=O)O)CC(=O)O)c(I)cc1I', mol=<rdkit.Chem.rdchem.Mol object at 0x2a3ada1d0>, pos=[147], weights=[147], edge_mask=[58], mask_rotate=[8, 29]),\n",
       " Data(x=[19, 75], edge_index=[2, 38], edge_attr=[38, 4], z=[19], canonical_smi='O=C(O)COc1ccc(Cl)c(I)c1', mol=<rdkit.Chem.rdchem.Mol object at 0x2a3af5a90>, pos=[15], weights=[15], edge_mask=[38], mask_rotate=[4, 19]),\n",
       " Data(x=[26, 75], edge_index=[2, 50], edge_attr=[50, 4], z=[26], canonical_smi='COP(=O)(OC)SC(CC(=O)O)C(=O)O', mol=<rdkit.Chem.rdchem.Mol object at 0x2a3abf360>, pos=[2459], weights=[2459], edge_mask=[50], mask_rotate=[11, 26]),\n",
       " Data(x=[22, 75], edge_index=[2, 46], edge_attr=[46, 4], z=[22], canonical_smi='O=C(O)Cc1c(I)[nH]c2ccccc12', mol=<rdkit.Chem.rdchem.Mol object at 0x2a41738b0>, pos=[9], weights=[9], edge_mask=[46], mask_rotate=[3, 22]),\n",
       " Data(x=[18, 75], edge_index=[2, 36], edge_attr=[36, 4], z=[18], canonical_smi='O=C(O)Cc1ccc(I)c(F)c1', mol=<rdkit.Chem.rdchem.Mol object at 0x2a4173ae0>, pos=[8], weights=[8], edge_mask=[36], mask_rotate=[3, 18]),\n",
       " Data(x=[19, 75], edge_index=[2, 38], edge_attr=[38, 4], z=[19], canonical_smi='O=C(O)Cc1ccc(O)c(I)c1', mol=<rdkit.Chem.rdchem.Mol object at 0x2a417f860>, pos=[22], weights=[22], edge_mask=[38], mask_rotate=[4, 19]),\n",
       " Data(x=[22, 75], edge_index=[2, 46], edge_attr=[46, 4], z=[22], canonical_smi='O=C(O)C1(c2ccc(I)cc2)CC1', mol=<rdkit.Chem.rdchem.Mol object at 0x2a417fc20>, pos=[6], weights=[6], edge_mask=[46], mask_rotate=[3, 22]),\n",
       " Data(x=[27, 75], edge_index=[2, 54], edge_attr=[54, 4], z=[27], canonical_smi='CC(N)(Cc1cc(I)c(O)c(I)c1)C(=O)O', mol=<rdkit.Chem.rdchem.Mol object at 0x2a417f6d0>, pos=[102], weights=[102], edge_mask=[54], mask_rotate=[7, 27]),\n",
       " Data(x=[8, 75], edge_index=[2, 14], edge_attr=[14, 4], z=[8], canonical_smi='O=C(O)C(Cl)I', mol=<rdkit.Chem.rdchem.Mol object at 0x2a41fd090>, pos=[5], weights=[5], edge_mask=[14], mask_rotate=[2, 8]),\n",
       " Data(x=[25, 75], edge_index=[2, 50], edge_attr=[50, 4], z=[25], canonical_smi='O=C(O)[C]1[CH]C(OP(=O)(O)O)CCC1', mol=<rdkit.Chem.rdchem.Mol object at 0x2a41fde00>, pos=[3], weights=[3], edge_mask=[50], mask_rotate=[6, 25]),\n",
       " Data(x=[9, 75], edge_index=[2, 16], edge_attr=[16, 4], z=[9], canonical_smi='O=C(O)C(I)=C(Br)I', mol=<rdkit.Chem.rdchem.Mol object at 0x2a4309590>, pos=[4], weights=[4], edge_mask=[16], mask_rotate=[3, 9]),\n",
       " Data(x=[9, 75], edge_index=[2, 16], edge_attr=[16, 4], z=[9], canonical_smi='O=C(O)C(I)=C(Br)I', mol=<rdkit.Chem.rdchem.Mol object at 0x2a43099f0>, pos=[3], weights=[3], edge_mask=[16], mask_rotate=[3, 9]),\n",
       " Data(x=[19, 75], edge_index=[2, 38], edge_attr=[38, 4], z=[19], canonical_smi='O=C(O)C=Cc1cc(I)cc(I)c1', mol=<rdkit.Chem.rdchem.Mol object at 0x2a4318130>, pos=[5], weights=[5], edge_mask=[38], mask_rotate=[4, 19]),\n",
       " Data(x=[19, 75], edge_index=[2, 38], edge_attr=[38, 4], z=[19], canonical_smi='O=C(O)C=Cc1cc(I)cc(I)c1', mol=<rdkit.Chem.rdchem.Mol object at 0x2a41fd720>, pos=[7], weights=[7], edge_mask=[38], mask_rotate=[4, 19]),\n",
       " Data(x=[14, 75], edge_index=[2, 28], edge_attr=[28, 4], z=[14], canonical_smi='O=C(O)c1cc(I)cnc1Cl', mol=<rdkit.Chem.rdchem.Mol object at 0x2a41fdcc0>, pos=[4], weights=[4], edge_mask=[28], mask_rotate=[2, 14]),\n",
       " Data(x=[15, 75], edge_index=[2, 30], edge_attr=[30, 4], z=[15], canonical_smi='O=C(O)c1c(F)ccc(I)c1F', mol=<rdkit.Chem.rdchem.Mol object at 0x2a4318c70>, pos=[4], weights=[4], edge_mask=[30], mask_rotate=[2, 15]),\n",
       " Data(x=[23, 75], edge_index=[2, 46], edge_attr=[46, 4], z=[23], canonical_smi='COc1cccc(C=CI)c1C(=O)O', mol=<rdkit.Chem.rdchem.Mol object at 0x2a4318a90>, pos=[17], weights=[17], edge_mask=[46], mask_rotate=[6, 23]),\n",
       " Data(x=[23, 75], edge_index=[2, 46], edge_attr=[46, 4], z=[23], canonical_smi='COc1cccc(C=CI)c1C(=O)O', mol=<rdkit.Chem.rdchem.Mol object at 0x2a4318cc0>, pos=[8], weights=[8], edge_mask=[46], mask_rotate=[6, 23]),\n",
       " Data(x=[27, 75], edge_index=[2, 54], edge_attr=[54, 4], z=[27], canonical_smi='CCc1cc(C(=O)O)c(CC)cc1I', mol=<rdkit.Chem.rdchem.Mol object at 0x2a4325b80>, pos=[20], weights=[20], edge_mask=[54], mask_rotate=[6, 27]),\n",
       " Data(x=[23, 75], edge_index=[2, 46], edge_attr=[46, 4], z=[23], canonical_smi='COc1cc(C(=O)O)cc(I)c1OC', mol=<rdkit.Chem.rdchem.Mol object at 0x2a4332540>, pos=[5], weights=[5], edge_mask=[46], mask_rotate=[6, 23]),\n",
       " Data(x=[15, 75], edge_index=[2, 30], edge_attr=[30, 4], z=[15], canonical_smi='O=C(O)c1cc(I)cc(I)c1I', mol=<rdkit.Chem.rdchem.Mol object at 0x2a43329f0>, pos=[5], weights=[5], edge_mask=[30], mask_rotate=[2, 15]),\n",
       " Data(x=[22, 75], edge_index=[2, 44], edge_attr=[44, 4], z=[22], canonical_smi='CC(=O)Nc1c(I)cc(I)cc1C(=O)O', mol=<rdkit.Chem.rdchem.Mol object at 0x2a4332360>, pos=[15], weights=[15], edge_mask=[44], mask_rotate=[5, 22]),\n",
       " Data(x=[25, 75], edge_index=[2, 50], edge_attr=[50, 4], z=[25], canonical_smi='C=C(C)C(=O)Oc1c(I)cc(I)cc1C(=O)O', mol=<rdkit.Chem.rdchem.Mol object at 0x2a4332a40>, pos=[14], weights=[14], edge_mask=[50], mask_rotate=[7, 25]),\n",
       " Data(x=[16, 75], edge_index=[2, 32], edge_attr=[32, 4], z=[16], canonical_smi='O=C(O)c1cc(I)cc(I)c1O', mol=<rdkit.Chem.rdchem.Mol object at 0x2a433dae0>, pos=[7], weights=[7], edge_mask=[32], mask_rotate=[3, 16]),\n",
       " Data(x=[16, 75], edge_index=[2, 32], edge_attr=[32, 4], z=[16], canonical_smi='O=C(O)c1cc(O)cc(I)c1', mol=<rdkit.Chem.rdchem.Mol object at 0x2a433d180>, pos=[6], weights=[6], edge_mask=[32], mask_rotate=[3, 16]),\n",
       " Data(x=[15, 75], edge_index=[2, 30], edge_attr=[30, 4], z=[15], canonical_smi='O=C(O)c1cc(I)ccc1I', mol=<rdkit.Chem.rdchem.Mol object at 0x2a434b4a0>, pos=[5], weights=[5], edge_mask=[30], mask_rotate=[2, 15]),\n",
       " Data(x=[27, 75], edge_index=[2, 54], edge_attr=[54, 4], z=[27], canonical_smi='CC(C)(C)c1ccc(C(=O)O)cc1I', mol=<rdkit.Chem.rdchem.Mol object at 0x2a434bdb0>, pos=[4], weights=[4], edge_mask=[54], mask_rotate=[6, 27]),\n",
       " Data(x=[15, 75], edge_index=[2, 30], edge_attr=[30, 4], z=[15], canonical_smi='O=C(O)c1ccc(Cl)c(I)c1', mol=<rdkit.Chem.rdchem.Mol object at 0x2a4325bd0>, pos=[3], weights=[3], edge_mask=[30], mask_rotate=[2, 15]),\n",
       " Data(x=[15, 75], edge_index=[2, 30], edge_attr=[30, 4], z=[15], canonical_smi='O=C(O)c1ccc(I)c(F)c1', mol=<rdkit.Chem.rdchem.Mol object at 0x2a43329a0>, pos=[4], weights=[4], edge_mask=[30], mask_rotate=[2, 15]),\n",
       " Data(x=[23, 75], edge_index=[2, 46], edge_attr=[46, 4], z=[23], canonical_smi='CN(C)c1ccc(C(=O)O)cc1I', mol=<rdkit.Chem.rdchem.Mol object at 0x2a4359310>, pos=[4], weights=[4], edge_mask=[46], mask_rotate=[5, 23]),\n",
       " Data(x=[23, 75], edge_index=[2, 46], edge_attr=[46, 4], z=[23], canonical_smi='O=C(CI)Nc1ccc(C(=O)O)c(O)c1', mol=<rdkit.Chem.rdchem.Mol object at 0x2a4359e00>, pos=[76], weights=[76], edge_mask=[46], mask_rotate=[6, 23]),\n",
       " Data(x=[34, 75], edge_index=[2, 70], edge_attr=[70, 4], z=[34], canonical_smi='CC(=O)N1CCN(c2ccc(C(=O)O)cc2I)CC1', mol=<rdkit.Chem.rdchem.Mol object at 0x2a4368540>, pos=[14], weights=[14], edge_mask=[70], mask_rotate=[5, 34]),\n",
       " Data(x=[31, 75], edge_index=[2, 62], edge_attr=[62, 4], z=[31], canonical_smi='CCCCCOc1ccc(C(=O)O)cc1I', mol=<rdkit.Chem.rdchem.Mol object at 0x2a43820e0>, pos=[104], weights=[104], edge_mask=[62], mask_rotate=[8, 31]),\n",
       " Data(x=[29, 75], edge_index=[2, 58], edge_attr=[58, 4], z=[29], canonical_smi='CCOCCOc1ccc(C(=O)O)cc1I', mol=<rdkit.Chem.rdchem.Mol object at 0x2a438ea90>, pos=[217], weights=[217], edge_mask=[58], mask_rotate=[8, 29]),\n",
       " Data(x=[29, 75], edge_index=[2, 60], edge_attr=[60, 4], z=[29], canonical_smi='O=C(O)c1ccccc1Cc1cc(I)c(O)c(I)c1', mol=<rdkit.Chem.rdchem.Mol object at 0x2a438e6d0>, pos=[47], weights=[47], edge_mask=[60], mask_rotate=[5, 29]),\n",
       " Data(x=[15, 75], edge_index=[2, 30], edge_attr=[30, 4], z=[15], canonical_smi='O=C(O)c1ccccc1I', mol=<rdkit.Chem.rdchem.Mol object at 0x2a43adc20>, pos=[5], weights=[5], edge_mask=[30], mask_rotate=[2, 15]),\n",
       " Data(x=[21, 75], edge_index=[2, 44], edge_attr=[44, 4], z=[21], canonical_smi='O=C(O)c1cccc2c(I)cccc12', mol=<rdkit.Chem.rdchem.Mol object at 0x2a43cfa40>, pos=[5], weights=[5], edge_mask=[44], mask_rotate=[2, 21]),\n",
       " Data(x=[24, 75], edge_index=[2, 50], edge_attr=[50, 4], z=[24], canonical_smi='CCn1cc(C(=O)O)c(=O)c2sc(I)cc21', mol=<rdkit.Chem.rdchem.Mol object at 0x2a43dc9f0>, pos=[10], weights=[10], edge_mask=[50], mask_rotate=[4, 24]),\n",
       " Data(x=[21, 75], edge_index=[2, 44], edge_attr=[44, 4], z=[21], canonical_smi='Cn1nc2cc(I)ccc2c1C(=O)O', mol=<rdkit.Chem.rdchem.Mol object at 0x2a43f2900>, pos=[4], weights=[4], edge_mask=[44], mask_rotate=[3, 21]),\n",
       " Data(x=[15, 75], edge_index=[2, 30], edge_attr=[30, 4], z=[15], canonical_smi='O=C(O)c1cc(I)c(O)c(I)n1', mol=<rdkit.Chem.rdchem.Mol object at 0x2a43f22c0>, pos=[8], weights=[8], edge_mask=[30], mask_rotate=[3, 15]),\n",
       " Data(x=[14, 75], edge_index=[2, 28], edge_attr=[28, 4], z=[14], canonical_smi='O=C(O)c1ncc(I)c(Br)c1I', mol=<rdkit.Chem.rdchem.Mol object at 0x2a43f2b30>, pos=[6], weights=[6], edge_mask=[28], mask_rotate=[2, 14]),\n",
       " Data(x=[12, 75], edge_index=[2, 24], edge_attr=[24, 4], z=[12], canonical_smi='O=C(O)c1ccc(I)s1', mol=<rdkit.Chem.rdchem.Mol object at 0x2a45024f0>, pos=[4], weights=[4], edge_mask=[24], mask_rotate=[2, 12]),\n",
       " Data(x=[27, 75], edge_index=[2, 52], edge_attr=[52, 4], z=[27], canonical_smi='CC(C)C(C)(C#CI)OCCO', mol=<rdkit.Chem.rdchem.Mol object at 0x2a4511270>, pos=[128], weights=[128], edge_mask=[52], mask_rotate=[10, 27]),\n",
       " Data(x=[27, 75], edge_index=[2, 52], edge_attr=[52, 4], z=[27], canonical_smi='OCCC(I)CC(F)(F)C(F)(F)C(F)(F)C(F)(F)F', mol=<rdkit.Chem.rdchem.Mol object at 0x2a4528220>, pos=[166], weights=[166], edge_mask=[52], mask_rotate=[8, 27]),\n",
       " Data(x=[22, 75], edge_index=[2, 46], edge_attr=[46, 4], z=[22], canonical_smi='OCCc1cc2c(cc1I)OCO2', mol=<rdkit.Chem.rdchem.Mol object at 0x2a451ccc0>, pos=[15], weights=[15], edge_mask=[46], mask_rotate=[3, 22]),\n",
       " Data(x=[17, 75], edge_index=[2, 32], edge_attr=[32, 4], z=[17], canonical_smi='O=P(CO)(CO)CO', mol=<rdkit.Chem.rdchem.Mol object at 0x2a4545590>, pos=[191], weights=[191], edge_mask=[32], mask_rotate=[6, 17]),\n",
       " Data(x=[24, 75], edge_index=[2, 46], edge_attr=[46, 4], z=[24], canonical_smi='CC(CO)CC(C)CI', mol=<rdkit.Chem.rdchem.Mol object at 0x2a45c2130>, pos=[144], weights=[144], edge_mask=[46], mask_rotate=[7, 24]),\n",
       " Data(x=[12, 75], edge_index=[2, 22], edge_attr=[22, 4], z=[12], canonical_smi='CC(I)CO', mol=<rdkit.Chem.rdchem.Mol object at 0x2a45c2090>, pos=[9], weights=[9], edge_mask=[22], mask_rotate=[3, 12]),\n",
       " Data(x=[20, 75], edge_index=[2, 40], edge_attr=[40, 4], z=[20], canonical_smi='OCC(O)c1ccc(I)cc1', mol=<rdkit.Chem.rdchem.Mol object at 0x2a45cd360>, pos=[39], weights=[39], edge_mask=[40], mask_rotate=[4, 20]),\n",
       " Data(x=[28, 75], edge_index=[2, 60], edge_attr=[60, 4], z=[28], canonical_smi='Cc1cn2c(nc1=O)OC1C(I)C(CO)OC12', mol=<rdkit.Chem.rdchem.Mol object at 0x2a45c26d0>, pos=[9], weights=[9], edge_mask=[60], mask_rotate=[3, 28]),\n",
       " Data(x=[30, 75], edge_index=[2, 58], edge_attr=[58, 4], z=[30], canonical_smi='O=P(O)(O)C(CO)C(O)(CC(Cl)(Cl)Cl)CC(Cl)(Cl)Cl', mol=<rdkit.Chem.rdchem.Mol object at 0x2a45a30e0>, pos=[2208], weights=[2208], edge_mask=[58], mask_rotate=[11, 30]),\n",
       " Data(x=[23, 75], edge_index=[2, 46], edge_attr=[46, 4], z=[23], canonical_smi='OCC=C(I)Cc1ccccc1', mol=<rdkit.Chem.rdchem.Mol object at 0x2a4d0ca90>, pos=[11], weights=[11], edge_mask=[46], mask_rotate=[5, 23]),\n",
       " Data(x=[30, 75], edge_index=[2, 62], edge_attr=[62, 4], z=[30], canonical_smi='OCc1cc(I)ccc1OCc1ccccc1', mol=<rdkit.Chem.rdchem.Mol object at 0x2a4d0c6d0>, pos=[53], weights=[53], edge_mask=[62], mask_rotate=[5, 30]),\n",
       " Data(x=[22, 75], edge_index=[2, 46], edge_attr=[46, 4], z=[22], canonical_smi='OCc1cccc2cccc(I)c12', mol=<rdkit.Chem.rdchem.Mol object at 0x2a4d77040>, pos=[5], weights=[5], edge_mask=[46], mask_rotate=[2, 22]),\n",
       " Data(x=[44, 75], edge_index=[2, 88], edge_attr=[88, 4], z=[44], canonical_smi='CN(C)C(C#C[Si](C)(C)C)C1(O)CCCCC1', mol=<rdkit.Chem.rdchem.Mol object at 0x2a4d77e50>, pos=[30], weights=[30], edge_mask=[88], mask_rotate=[11, 44]),\n",
       " Data(x=[30, 75], edge_index=[2, 60], edge_attr=[60, 4], z=[30], canonical_smi='C=CCC1(CC(O)CI)C(O)=NC(=O)N=C1O', mol=<rdkit.Chem.rdchem.Mol object at 0x2a4d82810>, pos=[621], weights=[621], edge_mask=[60], mask_rotate=[9, 30]),\n",
       " Data(x=[31, 75], edge_index=[2, 66], edge_attr=[66, 4], z=[31], canonical_smi='CC(=O)N(O)c1ccc2c(c1)Cc1cc(I)ccc1-2', mol=<rdkit.Chem.rdchem.Mol object at 0x2a4f14540>, pos=[8], weights=[8], edge_mask=[66], mask_rotate=[4, 31]),\n",
       " Data(x=[30, 75], edge_index=[2, 62], edge_attr=[62, 4], z=[30], canonical_smi='Cc1ccccc1N(O)C(=O)c1ccc(I)cc1', mol=<rdkit.Chem.rdchem.Mol object at 0x2a4f14b80>, pos=[10], weights=[10], edge_mask=[62], mask_rotate=[5, 30]),\n",
       " Data(x=[15, 75], edge_index=[2, 30], edge_attr=[30, 4], z=[15], canonical_smi='ONc1ccccc1I', mol=<rdkit.Chem.rdchem.Mol object at 0x2a4f48220>, pos=[4], weights=[4], edge_mask=[30], mask_rotate=[2, 15]),\n",
       " Data(x=[30, 75], edge_index=[2, 60], edge_attr=[60, 4], z=[30], canonical_smi='COc1ccc(NC(P(=O)(O)O)P(=O)(O)O)cn1', mol=<rdkit.Chem.rdchem.Mol object at 0x2a4f48680>, pos=[909], weights=[909], edge_mask=[60], mask_rotate=[10, 30]),\n",
       " Data(x=[28, 75], edge_index=[2, 56], edge_attr=[56, 4], z=[28], canonical_smi='O=P(O)(O)C(N1CCSCC1)P(=O)(O)O', mol=<rdkit.Chem.rdchem.Mol object at 0x2a5218630>, pos=[758], weights=[758], edge_mask=[56], mask_rotate=[7, 28]),\n",
       " Data(x=[20, 75], edge_index=[2, 38], edge_attr=[38, 4], z=[20], canonical_smi='O=P(O)(O)NP(=O)(O)NP(=O)(O)O', mol=<rdkit.Chem.rdchem.Mol object at 0x2a5218a90>, pos=[4520], weights=[4520], edge_mask=[38], mask_rotate=[9, 20]),\n",
       " Data(x=[49, 75], edge_index=[2, 106], edge_attr=[106, 4], z=[49], canonical_smi='COC1(c2cccc(OP(=O)(O)O)c2)OOC12C1CC3CC(C1)CC2C3', mol=<rdkit.Chem.rdchem.Mol object at 0x2a5d6dd60>, pos=[32], weights=[32], edge_mask=[106], mask_rotate=[7, 49]),\n",
       " Data(x=[49, 75], edge_index=[2, 106], edge_attr=[106, 4], z=[49], canonical_smi='COC1(c2cccc(OP(=O)(O)O)c2)OOC12C1CC3CC(C1)CC2C3', mol=<rdkit.Chem.rdchem.Mol object at 0x2a5d78d60>, pos=[122], weights=[122], edge_mask=[106], mask_rotate=[7, 49]),\n",
       " Data(x=[49, 75], edge_index=[2, 106], edge_attr=[106, 4], z=[49], canonical_smi='COC1(c2cccc(OP(=O)(O)O)c2)OOC12C1CC3CC(C1)CC2C3', mol=<rdkit.Chem.rdchem.Mol object at 0x2a5d875e0>, pos=[234], weights=[234], edge_mask=[106], mask_rotate=[7, 49]),\n",
       " Data(x=[5, 75], edge_index=[2, 8], edge_attr=[8, 4], z=[5], canonical_smi='OP', mol=<rdkit.Chem.rdchem.Mol object at 0x2a5f807c0>, pos=[2], weights=[2], edge_mask=[8], mask_rotate=[1, 5]),\n",
       " Data(x=[6, 75], edge_index=[2, 10], edge_attr=[10, 4], z=[6], canonical_smi='[O]P(O)O', mol=<rdkit.Chem.rdchem.Mol object at 0x2a5f80540>, pos=[5], weights=[5], edge_mask=[10], mask_rotate=[2, 6]),\n",
       " Data(x=[9, 75], edge_index=[2, 16], edge_attr=[16, 4], z=[9], canonical_smi='[O]S([O])(O)C(I)I', mol=<rdkit.Chem.rdchem.Mol object at 0x2a5f8c860>, pos=[5], weights=[5], edge_mask=[16], mask_rotate=[2, 9]),\n",
       " Data(x=[22, 75], edge_index=[2, 42], edge_attr=[42, 4], z=[22], canonical_smi='C[Si](C)(C)C=CS([O])([O])O', mol=<rdkit.Chem.rdchem.Mol object at 0x2a5f8c680>, pos=[5], weights=[5], edge_mask=[42], mask_rotate=[7, 22]),\n",
       " Data(x=[22, 75], edge_index=[2, 46], edge_attr=[46, 4], z=[22], canonical_smi='[O]S([O])(O)c1c(I)ccc2ccccc12', mol=<rdkit.Chem.rdchem.Mol object at 0x2a5f8c4a0>, pos=[6], weights=[6], edge_mask=[46], mask_rotate=[2, 22]),\n",
       " Data(x=[35, 75], edge_index=[2, 74], edge_attr=[74, 4], z=[35], canonical_smi='[O]S([O])(O)c1ccc2c(c1)C=CC(=O)[C]2[N]Nc1ccc(I)cc1', mol=<rdkit.Chem.rdchem.Mol object at 0x2a5fa54a0>, pos=[8], weights=[8], edge_mask=[74], mask_rotate=[5, 35]),\n",
       " Data(x=[35, 75], edge_index=[2, 74], edge_attr=[74, 4], z=[35], canonical_smi='[O]S([O])(O)c1ccc2c(c1)C=CC(=O)C2=NNc1ccc(I)cc1', mol=<rdkit.Chem.rdchem.Mol object at 0x2a5fb10e0>, pos=[7], weights=[7], edge_mask=[74], mask_rotate=[5, 35]),\n",
       " Data(x=[35, 75], edge_index=[2, 74], edge_attr=[74, 4], z=[35], canonical_smi='[O]S([O])(O)c1ccc2c(c1)C=CC(=O)C2=NNc1ccc(I)cc1', mol=<rdkit.Chem.rdchem.Mol object at 0x2a5fb19f0>, pos=[8], weights=[8], edge_mask=[74], mask_rotate=[5, 35]),\n",
       " Data(x=[29, 75], edge_index=[2, 60], edge_attr=[60, 4], z=[29], canonical_smi='CC(I)C1OC(=O)C2C(O)CCCC12', mol=<rdkit.Chem.rdchem.Mol object at 0x2a5fb1c70>, pos=[6], weights=[6], edge_mask=[60], mask_rotate=[3, 29]),\n",
       " Data(x=[60, 75], edge_index=[2, 128], edge_attr=[128, 4], z=[60], canonical_smi='OC1CCN(Cc2cccc(I)c2)CC1N1CCC2(CCc3ccccc32)CC1', mol=<rdkit.Chem.rdchem.Mol object at 0x2a5fbe130>, pos=[40], weights=[40], edge_mask=[128], mask_rotate=[4, 60]),\n",
       " Data(x=[48, 75], edge_index=[2, 102], edge_attr=[102, 4], z=[48], canonical_smi='OC1Cc2cc(I)ccc2CC1N1CCC(c2ccccc2)CC1', mol=<rdkit.Chem.rdchem.Mol object at 0x2a5fbe8b0>, pos=[22], weights=[22], edge_mask=[102], mask_rotate=[3, 48]),\n",
       " Data(x=[39, 75], edge_index=[2, 82], edge_attr=[82, 4], z=[39], canonical_smi='NC1=NC(=O)[C]2NC(=O)N(C3OC(COP(=O)(O)O)C(O)C3O)[C]2N1', mol=<rdkit.Chem.rdchem.Mol object at 0x2a5fbeea0>, pos=[6], weights=[6], edge_mask=[82], mask_rotate=[9, 39]),\n",
       " Data(x=[39, 75], edge_index=[2, 82], edge_attr=[82, 4], z=[39], canonical_smi='Nc1nc(=O)c2[nH]c(=O)n(C3OC(COP(=O)(O)O)C(O)C3O)c2[nH]1', mol=<rdkit.Chem.rdchem.Mol object at 0x2a5fcacc0>, pos=[2976], weights=[2976], edge_mask=[82], mask_rotate=[9, 39]),\n",
       " Data(x=[55, 75], edge_index=[2, 118], edge_attr=[118, 4], z=[55], canonical_smi='C[Si](C)(C)OC12c3ccccc3-c3cccc(c31)CC([Se]c1ccccc1)C2O', mol=<rdkit.Chem.rdchem.Mol object at 0x2a68b0770>, pos=[26], weights=[26], edge_mask=[118], mask_rotate=[8, 55]),\n",
       " Data(x=[48, 75], edge_index=[2, 104], edge_attr=[104, 4], z=[48], canonical_smi='Nc1ncnc2c1nc([Se]Cc1ccccc1)n2C1OC2COP(=O)(O)OC2C1O', mol=<rdkit.Chem.rdchem.Mol object at 0x2a68b08b0>, pos=[163], weights=[163], edge_mask=[104], mask_rotate=[7, 48]),\n",
       " Data(x=[30, 75], edge_index=[2, 58], edge_attr=[58, 4], z=[30], canonical_smi='CC(=CI)CC(O)C#C[Si](C)(C)C', mol=<rdkit.Chem.rdchem.Mol object at 0x2a68b03b0>, pos=[30], weights=[30], edge_mask=[58], mask_rotate=[11, 30]),\n",
       " Data(x=[30, 75], edge_index=[2, 58], edge_attr=[58, 4], z=[30], canonical_smi='CC(=CI)CC(O)C#C[Si](C)(C)C', mol=<rdkit.Chem.rdchem.Mol object at 0x2a6a4d4f0>, pos=[24], weights=[24], edge_mask=[58], mask_rotate=[11, 30]),\n",
       " Data(x=[30, 75], edge_index=[2, 60], edge_attr=[60, 4], z=[30], canonical_smi='OC(CCl)Cc1ccccc1C[P](O)(O)[S]', mol=<rdkit.Chem.rdchem.Mol object at 0x2a6a58d10>, pos=[1769], weights=[1769], edge_mask=[60], mask_rotate=[8, 30]),\n",
       " Data(x=[22, 75], edge_index=[2, 42], edge_attr=[42, 4], z=[22], canonical_smi='CCCCC(O)C=CI', mol=<rdkit.Chem.rdchem.Mol object at 0x2a6f1c360>, pos=[56], weights=[56], edge_mask=[42], mask_rotate=[7, 22]),\n",
       " Data(x=[27, 75], edge_index=[2, 54], edge_attr=[54, 4], z=[27], canonical_smi='COc1ccc(C(O)CI)cc1OC', mol=<rdkit.Chem.rdchem.Mol object at 0x2a6f05540>, pos=[54], weights=[54], edge_mask=[54], mask_rotate=[7, 27]),\n",
       " Data(x=[5, 75], edge_index=[2, 8], edge_attr=[8, 4], z=[5], canonical_smi='O=[P](O)I', mol=<rdkit.Chem.rdchem.Mol object at 0x2a6f2a450>, pos=[2], weights=[2], edge_mask=[8], mask_rotate=[1, 5]),\n",
       " Data(x=[15, 75], edge_index=[2, 28], edge_attr=[28, 4], z=[15], canonical_smi='CCCO[P](=O)O', mol=<rdkit.Chem.rdchem.Mol object at 0x2a6f83b30>, pos=[32], weights=[32], edge_mask=[28], mask_rotate=[5, 15]),\n",
       " Data(x=[12, 75], edge_index=[2, 24], edge_attr=[24, 4], z=[12], canonical_smi='O[P]1([S])SCCS1', mol=<rdkit.Chem.rdchem.Mol object at 0x2a6f910e0>, pos=[2], weights=[2], edge_mask=[24], mask_rotate=[1, 12]),\n",
       " Data(x=[50, 75], edge_index=[2, 100], edge_attr=[100, 4], z=[50], canonical_smi='C[Si]1(C)[Si](C)(C)[Si](C)(O)[Si](C)(C)[Si](C)(O)[Si]1(C)C', mol=<rdkit.Chem.rdchem.Mol object at 0x2a6f91db0>, pos=[7], weights=[7], edge_mask=[100], mask_rotate=[12, 50]),\n",
       " Data(x=[15, 75], edge_index=[2, 28], edge_attr=[28, 4], z=[15], canonical_smi='CC=C[Si](O)(O)O', mol=<rdkit.Chem.rdchem.Mol object at 0x2a6f91a40>, pos=[18], weights=[18], edge_mask=[28], mask_rotate=[6, 15]),\n",
       " Data(x=[15, 75], edge_index=[2, 28], edge_attr=[28, 4], z=[15], canonical_smi='CC=C[Si](O)(O)O', mol=<rdkit.Chem.rdchem.Mol object at 0x2a6f83900>, pos=[26], weights=[26], edge_mask=[28], mask_rotate=[6, 15]),\n",
       " Data(x=[41, 75], edge_index=[2, 80], edge_attr=[80, 4], z=[41], canonical_smi='CC(C)(C)COC(OCC(C)(C)C)[SiH2]O', mol=<rdkit.Chem.rdchem.Mol object at 0x2a6fb3090>, pos=[108], weights=[108], edge_mask=[80], mask_rotate=[14, 41]),\n",
       " Data(x=[14, 75], edge_index=[2, 26], edge_attr=[26, 4], z=[14], canonical_smi='O=C(CI)N=C(O)CI', mol=<rdkit.Chem.rdchem.Mol object at 0x2a6fb38b0>, pos=[12], weights=[12], edge_mask=[26], mask_rotate=[5, 14]),\n",
       " Data(x=[29, 75], edge_index=[2, 60], edge_attr=[60, 4], z=[29], canonical_smi='O=[N+]([O-])c1cccc(C(O)=Nc2ccccc2I)c1O', mol=<rdkit.Chem.rdchem.Mol object at 0x2a6fd3770>, pos=[10], weights=[10], edge_mask=[60], mask_rotate=[6, 29]),\n",
       " Data(x=[30, 75], edge_index=[2, 64], edge_attr=[64, 4], z=[30], canonical_smi='CC(O)=Nc1ccc2c(c1)Cc1cc(I)ccc1-2', mol=<rdkit.Chem.rdchem.Mol object at 0x2a6fe3310>, pos=[2], weights=[2], edge_mask=[64], mask_rotate=[4, 30]),\n",
       " Data(x=[23, 75], edge_index=[2, 46], edge_attr=[46, 4], z=[23], canonical_smi='CC(C)c1nnc(N=C(O)CI)s1', mol=<rdkit.Chem.rdchem.Mol object at 0x2a6fe33b0>, pos=[21], weights=[21], edge_mask=[46], mask_rotate=[7, 23]),\n",
       " Data(x=[14, 75], edge_index=[2, 26], edge_attr=[26, 4], z=[14], canonical_smi='O=C(CI)N=C(O)CI', mol=<rdkit.Chem.rdchem.Mol object at 0x2a6fc8c70>, pos=[12], weights=[12], edge_mask=[26], mask_rotate=[5, 14]),\n",
       " Data(x=[19, 75], edge_index=[2, 38], edge_attr=[38, 4], z=[19], canonical_smi='OC(CI)=Nc1cc(Br)cc(Br)c1', mol=<rdkit.Chem.rdchem.Mol object at 0x2a6fe31d0>, pos=[6], weights=[6], edge_mask=[38], mask_rotate=[4, 19]),\n",
       " Data(x=[30, 75], edge_index=[2, 64], edge_attr=[64, 4], z=[30], canonical_smi='CC(O)=Nc1ccc2c(c1)Cc1cc(I)ccc1-2', mol=<rdkit.Chem.rdchem.Mol object at 0x2a6fefa40>, pos=[2], weights=[2], edge_mask=[64], mask_rotate=[4, 30]),\n",
       " Data(x=[13, 75], edge_index=[2, 26], edge_attr=[26, 4], z=[13], canonical_smi='ON=Cc1ccc(I)o1', mol=<rdkit.Chem.rdchem.Mol object at 0x2a6fef680>, pos=[4], weights=[4], edge_mask=[26], mask_rotate=[3, 13]),\n",
       " Data(x=[25, 75], edge_index=[2, 50], edge_attr=[50, 4], z=[25], canonical_smi='CC(C)(C)c1cc(I)cc(Br)c1O', mol=<rdkit.Chem.rdchem.Mol object at 0x2a6fef7c0>, pos=[2], weights=[2], edge_mask=[50], mask_rotate=[5, 25]),\n",
       " Data(x=[25, 75], edge_index=[2, 50], edge_attr=[50, 4], z=[25], canonical_smi='CC(C)(C)c1cc(I)cc(Cl)c1O', mol=<rdkit.Chem.rdchem.Mol object at 0x2a6ffd360>, pos=[2], weights=[2], edge_mask=[50], mask_rotate=[5, 25]),\n",
       " Data(x=[13, 75], edge_index=[2, 26], edge_attr=[26, 4], z=[13], canonical_smi='Oc1c(Cl)cc(I)cc1I', mol=<rdkit.Chem.rdchem.Mol object at 0x2a6ffd900>, pos=[2], weights=[2], edge_mask=[26], mask_rotate=[1, 13]),\n",
       " Data(x=[20, 75], edge_index=[2, 40], edge_attr=[40, 4], z=[20], canonical_smi='COc1cc(CI)cc(F)c1O', mol=<rdkit.Chem.rdchem.Mol object at 0x2a6ffdea0>, pos=[6], weights=[6], edge_mask=[40], mask_rotate=[4, 20]),\n",
       " Data(x=[19, 75], edge_index=[2, 40], edge_attr=[40, 4], z=[19], canonical_smi='O=c1[nH]c2ccccc2c(O)c1I', mol=<rdkit.Chem.rdchem.Mol object at 0x2a6fef630>, pos=[2], weights=[2], edge_mask=[40], mask_rotate=[1, 19]),\n",
       " Data(x=[23, 75], edge_index=[2, 48], edge_attr=[48, 4], z=[23], canonical_smi='CC(=O)c1cc(I)c(O)c2ncccc12', mol=<rdkit.Chem.rdchem.Mol object at 0x2a6f91860>, pos=[4], weights=[4], edge_mask=[48], mask_rotate=[3, 23]),\n",
       " Data(x=[36, 75], edge_index=[2, 72], edge_attr=[72, 4], z=[36], canonical_smi='CC(C)(C)OC(=O)NCCc1cc(I)c(O)c(I)c1', mol=<rdkit.Chem.rdchem.Mol object at 0x2a71082c0>, pos=[58], weights=[58], edge_mask=[72], mask_rotate=[10, 36]),\n",
       " Data(x=[52, 75], edge_index=[2, 110], edge_attr=[110, 4], z=[52], canonical_smi='CCCSc1nc(=O)c2c([nH]1)NC1=C(C(=O)CCC1)C2c1cc(I)c(O)c(OC)c1', mol=<rdkit.Chem.rdchem.Mol object at 0x2a7115810>, pos=[124], weights=[124], edge_mask=[110], mask_rotate=[8, 52]),\n",
       " Data(x=[16, 75], edge_index=[2, 32], edge_attr=[32, 4], z=[16], canonical_smi='Cc1cccc(I)c1O', mol=<rdkit.Chem.rdchem.Mol object at 0x2a7122950>, pos=[2], weights=[2], edge_mask=[32], mask_rotate=[2, 16]),\n",
       " Data(x=[21, 75], edge_index=[2, 44], edge_attr=[44, 4], z=[21], canonical_smi='Cc1ccc2ccc(I)c(O)c2n1', mol=<rdkit.Chem.rdchem.Mol object at 0x2a7122d10>, pos=[2], weights=[2], edge_mask=[44], mask_rotate=[2, 21]),\n",
       " Data(x=[12, 75], edge_index=[2, 24], edge_attr=[24, 4], z=[12], canonical_smi='Oc1ccc(F)nc1I', mol=<rdkit.Chem.rdchem.Mol object at 0x2a7148180>, pos=[2], weights=[2], edge_mask=[24], mask_rotate=[1, 12]),\n",
       " Data(x=[30, 75], edge_index=[2, 62], edge_attr=[62, 4], z=[30], canonical_smi='Cc1ccc(C)n1-c1cc(O)cc(CI)c1', mol=<rdkit.Chem.rdchem.Mol object at 0x2a713c7c0>, pos=[5], weights=[5], edge_mask=[62], mask_rotate=[5, 30]),\n",
       " Data(x=[19, 75], edge_index=[2, 38], edge_attr=[38, 4], z=[19], canonical_smi='Cc1cc(O)cc(C)c1I', mol=<rdkit.Chem.rdchem.Mol object at 0x2a713c540>, pos=[1], weights=[1], edge_mask=[38], mask_rotate=[3, 19]),\n",
       " Data(x=[25, 75], edge_index=[2, 50], edge_attr=[50, 4], z=[25], canonical_smi='Cc1cc(O)c(C(C)C)cc1I', mol=<rdkit.Chem.rdchem.Mol object at 0x2a7148680>, pos=[5], weights=[5], edge_mask=[50], mask_rotate=[5, 25]),\n",
       " Data(x=[19, 75], edge_index=[2, 38], edge_attr=[38, 4], z=[19], canonical_smi='COC(=O)c1cc(I)c(O)cc1Cl', mol=<rdkit.Chem.rdchem.Mol object at 0x2a7148310>, pos=[8], weights=[8], edge_mask=[38], mask_rotate=[4, 19]),\n",
       " Data(x=[13, 75], edge_index=[2, 26], edge_attr=[26, 4], z=[13], canonical_smi='Oc1cc(F)c(F)cc1I', mol=<rdkit.Chem.rdchem.Mol object at 0x2a71482c0>, pos=[2], weights=[2], edge_mask=[26], mask_rotate=[1, 13]),\n",
       " Data(x=[14, 75], edge_index=[2, 28], edge_attr=[28, 4], z=[14], canonical_smi='Oc1cc(O)c(I)cc1I', mol=<rdkit.Chem.rdchem.Mol object at 0x2a7148c70>, pos=[3], weights=[3], edge_mask=[28], mask_rotate=[2, 14]),\n",
       " Data(x=[18, 75], edge_index=[2, 36], edge_attr=[36, 4], z=[18], canonical_smi='CC(=O)c1ccc(O)c(I)c1', mol=<rdkit.Chem.rdchem.Mol object at 0x2a715ba90>, pos=[4], weights=[4], edge_mask=[36], mask_rotate=[3, 18]),\n",
       " Data(x=[19, 75], edge_index=[2, 38], edge_attr=[38, 4], z=[19], canonical_smi='COC(=O)c1ccc(O)c(I)c1', mol=<rdkit.Chem.rdchem.Mol object at 0x2a715b3b0>, pos=[9], weights=[9], edge_mask=[38], mask_rotate=[4, 19]),\n",
       " Data(x=[26, 75], edge_index=[2, 54], edge_attr=[54, 4], z=[26], canonical_smi='O=C(c1ccccc1)c1ccc(O)c(I)c1O', mol=<rdkit.Chem.rdchem.Mol object at 0x2a715b950>, pos=[9], weights=[9], edge_mask=[54], mask_rotate=[4, 26]),\n",
       " Data(x=[15, 75], edge_index=[2, 30], edge_attr=[30, 4], z=[15], canonical_smi='O=Cc1cc(O)ccc1I', mol=<rdkit.Chem.rdchem.Mol object at 0x2a715b4f0>, pos=[3], weights=[3], edge_mask=[30], mask_rotate=[2, 15]),\n",
       " Data(x=[22, 75], edge_index=[2, 44], edge_attr=[44, 4], z=[22], canonical_smi='CCOC(=O)c1cc(I)ccc1O', mol=<rdkit.Chem.rdchem.Mol object at 0x2a71685e0>, pos=[11], weights=[11], edge_mask=[44], mask_rotate=[5, 22]),\n",
       " Data(x=[15, 75], edge_index=[2, 30], edge_attr=[30, 4], z=[15], canonical_smi='Nc1ccc(O)cc1I', mol=<rdkit.Chem.rdchem.Mol object at 0x2a71684a0>, pos=[2], weights=[2], edge_mask=[30], mask_rotate=[2, 15]),\n",
       " Data(x=[17, 75], edge_index=[2, 34], edge_attr=[34, 4], z=[17], canonical_smi='COc1ccc(O)cc1I', mol=<rdkit.Chem.rdchem.Mol object at 0x2a71681d0>, pos=[2], weights=[2], edge_mask=[34], mask_rotate=[3, 17]),\n",
       " Data(x=[14, 75], edge_index=[2, 28], edge_attr=[28, 4], z=[14], canonical_smi='Oc1cccc(O)c1I', mol=<rdkit.Chem.rdchem.Mol object at 0x2a7175c20>, pos=[3], weights=[3], edge_mask=[28], mask_rotate=[2, 14]),\n",
       " Data(x=[13, 75], edge_index=[2, 26], edge_attr=[26, 4], z=[13], canonical_smi='Oc1ccccc1I', mol=<rdkit.Chem.rdchem.Mol object at 0x2a71755e0>, pos=[2], weights=[2], edge_mask=[26], mask_rotate=[1, 13]),\n",
       " Data(x=[18, 75], edge_index=[2, 38], edge_attr=[38, 4], z=[18], canonical_smi='Oc1cccc2ccc(I)nc12', mol=<rdkit.Chem.rdchem.Mol object at 0x2a7182310>, pos=[2], weights=[2], edge_mask=[38], mask_rotate=[1, 18]),\n",
       " Data(x=[49, 75], edge_index=[2, 108], edge_attr=[108, 4], z=[49], canonical_smi='Oc1ccc2c3c1OC1C(I)CCC4(O)C(C2)N(CC2CC2)CCC314', mol=<rdkit.Chem.rdchem.Mol object at 0x2a7182900>, pos=[30], weights=[30], edge_mask=[108], mask_rotate=[4, 49]),\n",
       " Data(x=[22, 75], edge_index=[2, 46], edge_attr=[46, 4], z=[22], canonical_smi='CC(=O)n1cc(O)c2cc(I)ccc21', mol=<rdkit.Chem.rdchem.Mol object at 0x2a7182e00>, pos=[4], weights=[4], edge_mask=[46], mask_rotate=[3, 22]),\n",
       " Data(x=[28, 75], edge_index=[2, 62], edge_attr=[62, 4], z=[28], canonical_smi='O=c1c2cc(I)cc3c2c2c(cc(I)cc2n1O)c(=O)n3O', mol=<rdkit.Chem.rdchem.Mol object at 0x2a7182720>, pos=[1], weights=[1], edge_mask=[62], mask_rotate=[2, 28]),\n",
       " Data(x=[8, 75], edge_index=[2, 14], edge_attr=[14, 4], z=[8], canonical_smi='O=[PH2]C(F)(F)F', mol=<rdkit.Chem.rdchem.Mol object at 0x2a7182450>, pos=[1], weights=[1], edge_mask=[14], mask_rotate=[1, 8]),\n",
       " Data(x=[16, 75], edge_index=[2, 30], edge_attr=[30, 4], z=[16], canonical_smi='C[Si](C)(C)P', mol=<rdkit.Chem.rdchem.Mol object at 0x2a7192c20>, pos=[1], weights=[1], edge_mask=[30], mask_rotate=[4, 16]),\n",
       " Data(x=[19, 75], edge_index=[2, 38], edge_attr=[38, 4], z=[19], canonical_smi='SC#CCOc1ccc(I)cc1', mol=<rdkit.Chem.rdchem.Mol object at 0x2a7192180>, pos=[3], weights=[3], edge_mask=[38], mask_rotate=[5, 19]),\n",
       " Data(x=[19, 75], edge_index=[2, 38], edge_attr=[38, 4], z=[19], canonical_smi='SCCc1ccccc1I', mol=<rdkit.Chem.rdchem.Mol object at 0x2a71a0400>, pos=[9], weights=[9], edge_mask=[38], mask_rotate=[3, 19]),\n",
       " Data(x=[7, 75], edge_index=[2, 12], edge_attr=[12, 4], z=[7], canonical_smi='NP(S)Cl', mol=<rdkit.Chem.rdchem.Mol object at 0x2a71a09a0>, pos=[5], weights=[5], edge_mask=[12], mask_rotate=[2, 7]),\n",
       " Data(x=[50, 75], edge_index=[2, 106], edge_attr=[106, 4], z=[50], canonical_smi='O=C([CH][P](c1ccccc1)(c1ccccc1)c1ccccc1)C=Cc1cccs1', mol=<rdkit.Chem.rdchem.Mol object at 0x2a71a0c70>, pos=[25], weights=[25], edge_mask=[106], mask_rotate=[8, 50]),\n",
       " Data(x=[33, 75], edge_index=[2, 66], edge_attr=[66, 4], z=[33], canonical_smi='CCOP(=O)(OCC)[C](I)[CH]c1ccccc1', mol=<rdkit.Chem.rdchem.Mol object at 0x2a71ac090>, pos=[1], weights=[1], edge_mask=[66], mask_rotate=[9, 33]),\n",
       " Data(x=[44, 75], edge_index=[2, 86], edge_attr=[86, 4], z=[44], canonical_smi='CC[Si](CC)(CC)[C]([CH]C(C)=O)[Si](C)(C)C', mol=<rdkit.Chem.rdchem.Mol object at 0x2a71acea0>, pos=[2], weights=[2], edge_mask=[86], mask_rotate=[14, 44]),\n",
       " Data(x=[31, 75], edge_index=[2, 64], edge_attr=[64, 4], z=[31], canonical_smi='[N][N][CH]C(=O)c1cccc(OCc2ccccc2)c1I', mol=<rdkit.Chem.rdchem.Mol object at 0x2a71ac5e0>, pos=[25], weights=[25], edge_mask=[64], mask_rotate=[6, 31]),\n",
       " Data(x=[24, 75], edge_index=[2, 52], edge_attr=[52, 4], z=[24], canonical_smi='BrC1=CN=C2[N]C(c3ccc(I)cc3)=CN2[CH]1', mol=<rdkit.Chem.rdchem.Mol object at 0x2a71bc220>, pos=[1], weights=[1], edge_mask=[52], mask_rotate=[1, 24]),\n",
       " Data(x=[34, 75], edge_index=[2, 74], edge_attr=[74, 4], z=[34], canonical_smi='I[C](C1=c2ccccc2=C2[CH]C=CC=C21)c1ccccc1', mol=<rdkit.Chem.rdchem.Mol object at 0x2a71bc900>, pos=[1], weights=[1], edge_mask=[74], mask_rotate=[2, 34]),\n",
       " Data(x=[59, 75], edge_index=[2, 126], edge_attr=[126, 4], z=[59], canonical_smi='CC1(C)OB(c2ccc3n2[N]C(Nc2ccc(N4CCOCC4)cc2)=N[CH]3)OC1(C)C', mol=<rdkit.Chem.rdchem.Mol object at 0x2a71bcef0>, pos=[7], weights=[7], edge_mask=[126], mask_rotate=[8, 59]),\n",
       " Data(x=[23, 75], edge_index=[2, 48], edge_attr=[48, 4], z=[23], canonical_smi='Nc1ccc(CN2[CH]N=C[N]2)cc1I', mol=<rdkit.Chem.rdchem.Mol object at 0x2a71bc720>, pos=[5], weights=[5], edge_mask=[48], mask_rotate=[3, 23]),\n",
       " Data(x=[42, 75], edge_index=[2, 88], edge_attr=[88, 4], z=[42], canonical_smi='[NH][P](N1CCCC1)(N1CCCC1)N1CCCC1', mol=<rdkit.Chem.rdchem.Mol object at 0x2a71bc680>, pos=[25], weights=[25], edge_mask=[88], mask_rotate=[4, 42]),\n",
       " Data(x=[9, 75], edge_index=[2, 16], edge_attr=[16, 4], z=[9], canonical_smi='C=C[CH][PH]', mol=<rdkit.Chem.rdchem.Mol object at 0x2a71c7b30>, pos=[4], weights=[4], edge_mask=[16], mask_rotate=[3, 9]),\n",
       " Data(x=[9, 75], edge_index=[2, 18], edge_attr=[18, 4], z=[9], canonical_smi='[PH][C]1CC1', mol=<rdkit.Chem.rdchem.Mol object at 0x2a71c74f0>, pos=[2], weights=[2], edge_mask=[18], mask_rotate=[1, 9]),\n",
       " Data(x=[14, 75], edge_index=[2, 26], edge_attr=[26, 4], z=[14], canonical_smi='Cl[SiH](Cl)[Si](Cl)(Cl)[Si](Cl)(Cl)[SiH](Cl)Cl', mol=<rdkit.Chem.rdchem.Mol object at 0x2a71d4d10>, pos=[8], weights=[8], edge_mask=[26], mask_rotate=[3, 14]),\n",
       " Data(x=[22, 75], edge_index=[2, 44], edge_attr=[44, 4], z=[22], canonical_smi='[SiH3]C1([SiH3])SSC([SiH3])([SiH3])SS1', mol=<rdkit.Chem.rdchem.Mol object at 0x2a71d4130>, pos=[1], weights=[1], edge_mask=[44], mask_rotate=[4, 22]),\n",
       " Data(x=[11, 75], edge_index=[2, 20], edge_attr=[20, 4], z=[11], canonical_smi='Cl[Si](Cl)(Cl)[SiH2][Si](Cl)(Cl)Cl', mol=<rdkit.Chem.rdchem.Mol object at 0x2a71d4e00>, pos=[1], weights=[1], edge_mask=[20], mask_rotate=[2, 11]),\n",
       " Data(x=[26, 75], edge_index=[2, 52], edge_attr=[52, 4], z=[26], canonical_smi='CCOC(=O)C(C#N)=Cc1ccc(I)cc1', mol=<rdkit.Chem.rdchem.Mol object at 0x2a71d4e50>, pos=[4], weights=[4], edge_mask=[52], mask_rotate=[7, 26]),\n",
       " Data(x=[22, 75], edge_index=[2, 42], edge_attr=[42, 4], z=[22], canonical_smi='CC(C)=C(C)C(Cl)=CP(=O)(Cl)Cl', mol=<rdkit.Chem.rdchem.Mol object at 0x2a71c79a0>, pos=[4], weights=[4], edge_mask=[42], mask_rotate=[7, 22]),\n",
       " Data(x=[22, 75], edge_index=[2, 44], edge_attr=[44, 4], z=[22], canonical_smi='COC(=O)C(I)=Cc1ccccc1', mol=<rdkit.Chem.rdchem.Mol object at 0x2a71e2130>, pos=[3], weights=[3], edge_mask=[44], mask_rotate=[5, 22]),\n",
       " Data(x=[33, 75], edge_index=[2, 66], edge_attr=[66, 4], z=[33], canonical_smi='CCOP(=O)(OCC)C(I)=Cc1ccccc1', mol=<rdkit.Chem.rdchem.Mol object at 0x2a71f0360>, pos=[129], weights=[129], edge_mask=[66], mask_rotate=[9, 33]),\n",
       " Data(x=[25, 75], edge_index=[2, 50], edge_attr=[50, 4], z=[25], canonical_smi='Clc1ccc(C=CCCCI)cc1', mol=<rdkit.Chem.rdchem.Mol object at 0x2a71f09a0>, pos=[15], weights=[15], edge_mask=[50], mask_rotate=[5, 25]),\n",
       " Data(x=[26, 75], edge_index=[2, 54], edge_attr=[54, 4], z=[26], canonical_smi='Ic1ccc(C=Cc2ccccc2)cc1', mol=<rdkit.Chem.rdchem.Mol object at 0x2a62c2a40>, pos=[1], weights=[1], edge_mask=[54], mask_rotate=[3, 26]),\n",
       " Data(x=[28, 75], edge_index=[2, 60], edge_attr=[60, 4], z=[28], canonical_smi='Ic1cc2c(cc1C=Cc1ccncc1)OCO2', mol=<rdkit.Chem.rdchem.Mol object at 0x2a7408360>, pos=[2], weights=[2], edge_mask=[60], mask_rotate=[3, 28]),\n",
       " Data(x=[42, 75], edge_index=[2, 90], edge_attr=[90, 4], z=[42], canonical_smi='Ic1ccc2c(C=Cc3ccccn3)nn(C3CCCCO3)c2c1', mol=<rdkit.Chem.rdchem.Mol object at 0x2a7408950>, pos=[18], weights=[18], edge_mask=[90], mask_rotate=[4, 42]),\n",
       " Data(x=[22, 75], edge_index=[2, 42], edge_attr=[42, 4], z=[22], canonical_smi='CC(C)=C(C)C(Cl)=CP(=O)(Cl)Cl', mol=<rdkit.Chem.rdchem.Mol object at 0x2a7424180>, pos=[2], weights=[2], edge_mask=[42], mask_rotate=[7, 22]),\n",
       " Data(x=[22, 75], edge_index=[2, 44], edge_attr=[44, 4], z=[22], canonical_smi='COC(=O)C(I)=Cc1ccccc1', mol=<rdkit.Chem.rdchem.Mol object at 0x2a7419860>, pos=[3], weights=[3], edge_mask=[44], mask_rotate=[5, 22]),\n",
       " Data(x=[33, 75], edge_index=[2, 66], edge_attr=[66, 4], z=[33], canonical_smi='CCOP(=O)(OCC)C(I)=Cc1ccccc1', mol=<rdkit.Chem.rdchem.Mol object at 0x2a7419a40>, pos=[92], weights=[92], edge_mask=[66], mask_rotate=[9, 33]),\n",
       " Data(x=[30, 75], edge_index=[2, 62], edge_attr=[62, 4], z=[30], canonical_smi='FC(F)(F)C=C(Oc1ccccc1I)c1ccc(Cl)cc1', mol=<rdkit.Chem.rdchem.Mol object at 0x2a7408090>, pos=[4], weights=[4], edge_mask=[62], mask_rotate=[5, 30]),\n",
       " Data(x=[27, 75], edge_index=[2, 52], edge_attr=[52, 4], z=[27], canonical_smi='CCCCCCC=CCI', mol=<rdkit.Chem.rdchem.Mol object at 0x2a743b680>, pos=[257], weights=[257], edge_mask=[52], mask_rotate=[8, 27]),\n",
       " Data(x=[25, 75], edge_index=[2, 50], edge_attr=[50, 4], z=[25], canonical_smi='Clc1ccc(C=CCCCI)cc1', mol=<rdkit.Chem.rdchem.Mol object at 0x2a743bd10>, pos=[11], weights=[11], edge_mask=[50], mask_rotate=[5, 25]),\n",
       " Data(x=[26, 75], edge_index=[2, 54], edge_attr=[54, 4], z=[26], canonical_smi='Ic1ccc(C=Cc2ccccc2)cc1', mol=<rdkit.Chem.rdchem.Mol object at 0x2a747f810>, pos=[3], weights=[3], edge_mask=[54], mask_rotate=[3, 26]),\n",
       " Data(x=[28, 75], edge_index=[2, 60], edge_attr=[60, 4], z=[28], canonical_smi='Ic1cc2c(cc1C=Cc1ccncc1)OCO2', mol=<rdkit.Chem.rdchem.Mol object at 0x2a7467180>, pos=[2], weights=[2], edge_mask=[60], mask_rotate=[3, 28]),\n",
       " Data(x=[42, 75], edge_index=[2, 90], edge_attr=[90, 4], z=[42], canonical_smi='Ic1ccc2c(C=Cc3ccccn3)nn(C3CCCCO3)c2c1', mol=<rdkit.Chem.rdchem.Mol object at 0x2a74725e0>, pos=[9], weights=[9], edge_mask=[90], mask_rotate=[4, 42]),\n",
       " Data(x=[40, 75], edge_index=[2, 84], edge_attr=[84, 4], z=[40], canonical_smi='COc1cc(C=C2SC(N)=NC2=O)cc(Cl)c1OCc1ccc(I)cc1', mol=<rdkit.Chem.rdchem.Mol object at 0x2a748b810>, pos=[97], weights=[97], edge_mask=[84], mask_rotate=[8, 40]),\n",
       " Data(x=[40, 75], edge_index=[2, 84], edge_attr=[84, 4], z=[40], canonical_smi='COc1cc(C=C2SC(N)=NC2=O)cc(Cl)c1OCc1ccc(I)cc1', mol=<rdkit.Chem.rdchem.Mol object at 0x2a74b0810>, pos=[72], weights=[72], edge_mask=[84], mask_rotate=[8, 40]),\n",
       " Data(x=[29, 75], edge_index=[2, 56], edge_attr=[56, 4], z=[29], canonical_smi='CC(C)C=NC[Si](C)(C)C', mol=<rdkit.Chem.rdchem.Mol object at 0x2a74ccae0>, pos=[1], weights=[1], edge_mask=[56], mask_rotate=[9, 29]),\n",
       " Data(x=[35, 75], edge_index=[2, 70], edge_attr=[70, 4], z=[35], canonical_smi='C[Si](C)(C)CN=CN1CCCCC1', mol=<rdkit.Chem.rdchem.Mol object at 0x2a74ccc20>, pos=[1], weights=[1], edge_mask=[70], mask_rotate=[7, 35]),\n",
       " Data(x=[20, 75], edge_index=[2, 40], edge_attr=[40, 4], z=[20], canonical_smi='O=P(Cl)(Cl)OC(=CBr)c1ccc(Cl)cc1Cl', mol=<rdkit.Chem.rdchem.Mol object at 0x2a74b0ea0>, pos=[5], weights=[5], edge_mask=[40], mask_rotate=[4, 20]),\n",
       " Data(x=[20, 75], edge_index=[2, 40], edge_attr=[40, 4], z=[20], canonical_smi='O=P(Cl)(Cl)OC(=CBr)c1ccc(Cl)cc1Cl', mol=<rdkit.Chem.rdchem.Mol object at 0x2a74db090>, pos=[4], weights=[4], edge_mask=[40], mask_rotate=[4, 20]),\n",
       " Data(x=[44, 75], edge_index=[2, 86], edge_attr=[86, 4], z=[44], canonical_smi='CC[Si](CC)(CC)C(=CC(C)=O)[Si](C)(C)C', mol=<rdkit.Chem.rdchem.Mol object at 0x2a74db770>, pos=[55], weights=[55], edge_mask=[86], mask_rotate=[14, 44]),\n",
       " Data(x=[27, 75], edge_index=[2, 52], edge_attr=[52, 4], z=[27], canonical_smi='CCOC(=O)C=CCCCCI', mol=<rdkit.Chem.rdchem.Mol object at 0x2a74dbe00>, pos=[154], weights=[154], edge_mask=[52], mask_rotate=[9, 27]),\n",
       " Data(x=[27, 75], edge_index=[2, 52], edge_attr=[52, 4], z=[27], canonical_smi='CCOC(=O)C=CCCCCI', mol=<rdkit.Chem.rdchem.Mol object at 0x2a74db1d0>, pos=[188], weights=[188], edge_mask=[52], mask_rotate=[9, 27]),\n",
       " Data(x=[35, 75], edge_index=[2, 70], edge_attr=[70, 4], z=[35], canonical_smi='COC(=O)C=CCCCOc1cc(C(F)(F)F)ccc1I', mol=<rdkit.Chem.rdchem.Mol object at 0x2a7646540>, pos=[90], weights=[90], edge_mask=[70], mask_rotate=[10, 35]),\n",
       " Data(x=[35, 75], edge_index=[2, 70], edge_attr=[70, 4], z=[35], canonical_smi='COC(=O)C=CCCCOc1cc(C(F)(F)F)ccc1I', mol=<rdkit.Chem.rdchem.Mol object at 0x2a7646400>, pos=[99], weights=[99], edge_mask=[70], mask_rotate=[10, 35]),\n",
       " Data(x=[35, 75], edge_index=[2, 72], edge_attr=[72, 4], z=[35], canonical_smi='COC(=O)c1cc(I)ccc1OC(=O)C=Cc1ccccc1', mol=<rdkit.Chem.rdchem.Mol object at 0x2a767f9a0>, pos=[32], weights=[32], edge_mask=[72], mask_rotate=[8, 35]),\n",
       " Data(x=[35, 75], edge_index=[2, 72], edge_attr=[72, 4], z=[35], canonical_smi='COC(=O)c1cc(I)ccc1OC(=O)C=Cc1ccccc1', mol=<rdkit.Chem.rdchem.Mol object at 0x2a768dcc0>, pos=[42], weights=[42], edge_mask=[72], mask_rotate=[8, 35]),\n",
       " Data(x=[24, 75], edge_index=[2, 46], edge_attr=[46, 4], z=[24], canonical_smi='CC(=CCl)C[Si](C)(C)C', mol=<rdkit.Chem.rdchem.Mol object at 0x2a769a630>, pos=[2], weights=[2], edge_mask=[46], mask_rotate=[7, 24]),\n",
       " Data(x=[25, 75], edge_index=[2, 50], edge_attr=[50, 4], z=[25], canonical_smi='Cc1ccc([SiH](C)C=CCl)cc1', mol=<rdkit.Chem.rdchem.Mol object at 0x2a769a2c0>, pos=[5], weights=[5], edge_mask=[50], mask_rotate=[5, 25]),\n",
       " Data(x=[24, 75], edge_index=[2, 46], edge_attr=[46, 4], z=[24], canonical_smi='CC(=CCl)C[Si](C)(C)C', mol=<rdkit.Chem.rdchem.Mol object at 0x2a768d810>, pos=[3], weights=[3], edge_mask=[46], mask_rotate=[7, 24]),\n",
       " Data(x=[25, 75], edge_index=[2, 50], edge_attr=[50, 4], z=[25], canonical_smi='Cc1ccc([SiH](C)C=CCl)cc1', mol=<rdkit.Chem.rdchem.Mol object at 0x2a76aa810>, pos=[4], weights=[4], edge_mask=[50], mask_rotate=[5, 25]),\n",
       " Data(x=[28, 75], edge_index=[2, 54], edge_attr=[54, 4], z=[28], canonical_smi='CCOC=CP(=O)(CC)CC', mol=<rdkit.Chem.rdchem.Mol object at 0x2a76aae50>, pos=[51], weights=[51], edge_mask=[54], mask_rotate=[9, 28]),\n",
       " Data(x=[28, 75], edge_index=[2, 54], edge_attr=[54, 4], z=[28], canonical_smi='CCOC=CP(=O)(CC)CC', mol=<rdkit.Chem.rdchem.Mol object at 0x2a76aa9f0>, pos=[89], weights=[89], edge_mask=[54], mask_rotate=[9, 28]),\n",
       " Data(x=[33, 75], edge_index=[2, 70], edge_attr=[70, 4], z=[33], canonical_smi='CC=COCn1c2ccccc2c2cc(I)ccc21', mol=<rdkit.Chem.rdchem.Mol object at 0x2a76c2310>, pos=[6], weights=[6], edge_mask=[70], mask_rotate=[5, 33]),\n",
       " Data(x=[28, 75], edge_index=[2, 54], edge_attr=[54, 4], z=[28], canonical_smi='[H]N=C(PC(C)(C)C)C(C)C', mol=<rdkit.Chem.rdchem.Mol object at 0x2a76d1630>, pos=[6], weights=[6], edge_mask=[54], mask_rotate=[9, 28]),\n",
       " Data(x=[28, 75], edge_index=[2, 54], edge_attr=[54, 4], z=[28], canonical_smi='[H]N=C(PC(C)(C)C)C(C)C', mol=<rdkit.Chem.rdchem.Mol object at 0x2a76d10e0>, pos=[5], weights=[5], edge_mask=[54], mask_rotate=[9, 28]),\n",
       " Data(x=[8, 75], edge_index=[2, 14], edge_attr=[14, 4], z=[8], canonical_smi='[H]N=[SiH]C', mol=<rdkit.Chem.rdchem.Mol object at 0x2a76f0360>, pos=[1], weights=[1], edge_mask=[14], mask_rotate=[2, 8]),\n",
       " Data(x=[15, 75], edge_index=[2, 30], edge_attr=[30, 4], z=[15], canonical_smi='Cc1cc(F)c(Br)cc1I', mol=<rdkit.Chem.rdchem.Mol object at 0x2a76f01d0>, pos=[1], weights=[1], edge_mask=[30], mask_rotate=[1, 15]),\n",
       " Data(x=[14, 75], edge_index=[2, 28], edge_attr=[28, 4], z=[14], canonical_smi='O=[N+]([O-])c1cc(Br)cc(I)c1', mol=<rdkit.Chem.rdchem.Mol object at 0x2a76f07c0>, pos=[1], weights=[1], edge_mask=[28], mask_rotate=[1, 14]),\n",
       " Data(x=[14, 75], edge_index=[2, 28], edge_attr=[28, 4], z=[14], canonical_smi='Cc1nc(Br)ccc1I', mol=<rdkit.Chem.rdchem.Mol object at 0x2a76d1e50>, pos=[1], weights=[1], edge_mask=[28], mask_rotate=[1, 14]),\n",
       " Data(x=[29, 75], edge_index=[2, 64], edge_attr=[64, 4], z=[29], canonical_smi='Brc1ccc(B2Nc3cccc4cccc(c34)N2)s1', mol=<rdkit.Chem.rdchem.Mol object at 0x2a76d1b30>, pos=[1], weights=[1], edge_mask=[64], mask_rotate=[1, 29]),\n",
       " Data(x=[55, 75], edge_index=[2, 114], edge_attr=[114, 4], z=[55], canonical_smi='CCCCCC12COC(c3ccc(C#C[Si](C)(C)C)cc3)(OC1)OC2', mol=<rdkit.Chem.rdchem.Mol object at 0x2a76f0c70>, pos=[31], weights=[31], edge_mask=[114], mask_rotate=[12, 55]),\n",
       " Data(x=[19, 75], edge_index=[2, 38], edge_attr=[38, 4], z=[19], canonical_smi='CCOC(=O)n1cc(C#N)c(I)n1', mol=<rdkit.Chem.rdchem.Mol object at 0x2a76fd040>, pos=[4], weights=[4], edge_mask=[38], mask_rotate=[5, 19]),\n",
       " Data(x=[28, 75], edge_index=[2, 58], edge_attr=[58, 4], z=[28], canonical_smi='CCOC(=O)c1ccc2n[nH]c(I)c2c1OC', mol=<rdkit.Chem.rdchem.Mol object at 0x2a76fd860>, pos=[8], weights=[8], edge_mask=[58], mask_rotate=[6, 28]),\n",
       " Data(x=[54, 75], edge_index=[2, 108], edge_attr=[108, 4], z=[54], canonical_smi='CC(C)c1cc(C(C)C)c([Si](Cl)(Cl)C(C)(C)C)c(C(C)C)c1', mol=<rdkit.Chem.rdchem.Mol object at 0x2a790a310>, pos=[4], weights=[4], edge_mask=[108], mask_rotate=[14, 54]),\n",
       " Data(x=[37, 75], edge_index=[2, 74], edge_attr=[74, 4], z=[37], canonical_smi='Cl[Si](Cl)(Cl)CCCCCCCCc1cc[nH]c1', mol=<rdkit.Chem.rdchem.Mol object at 0x2a790abd0>, pos=[924], weights=[924], edge_mask=[74], mask_rotate=[9, 37]),\n",
       " Data(x=[19, 75], edge_index=[2, 40], edge_attr=[40, 4], z=[19], canonical_smi='Cc1cc(I)c2cc[nH]c2c1', mol=<rdkit.Chem.rdchem.Mol object at 0x2a790ab30>, pos=[1], weights=[1], edge_mask=[40], mask_rotate=[1, 19]),\n",
       " Data(x=[21, 75], edge_index=[2, 44], edge_attr=[44, 4], z=[21], canonical_smi='Cc1cc(C)c2c(I)[nH]nc2c1', mol=<rdkit.Chem.rdchem.Mol object at 0x2a79ea5e0>, pos=[1], weights=[1], edge_mask=[44], mask_rotate=[2, 21]),\n",
       " Data(x=[25, 75], edge_index=[2, 52], edge_attr=[52, 4], z=[25], canonical_smi='Cc1ccc2c(I)cc(I)c(OCC#N)c2n1', mol=<rdkit.Chem.rdchem.Mol object at 0x2a79f51d0>, pos=[5], weights=[5], edge_mask=[52], mask_rotate=[4, 25]),\n",
       " Data(x=[26, 75], edge_index=[2, 54], edge_attr=[54, 4], z=[26], canonical_smi='Cc1cc(I)n(C2CCCCO2)n1', mol=<rdkit.Chem.rdchem.Mol object at 0x2a79f5b80>, pos=[1], weights=[1], edge_mask=[54], mask_rotate=[2, 26]),\n",
       " Data(x=[24, 75], edge_index=[2, 48], edge_attr=[48, 4], z=[24], canonical_smi='COP(=O)(OC)Oc1cc(Cl)c(Cl)cc1Cl', mol=<rdkit.Chem.rdchem.Mol object at 0x2a7b23360>, pos=[14], weights=[14], edge_mask=[48], mask_rotate=[6, 24]),\n",
       " Data(x=[14, 75], edge_index=[2, 28], edge_attr=[28, 4], z=[14], canonical_smi='Nc1cc(I)c(Cl)cc1Cl', mol=<rdkit.Chem.rdchem.Mol object at 0x2a7b23860>, pos=[1], weights=[1], edge_mask=[28], mask_rotate=[1, 14]),\n",
       " Data(x=[23, 75], edge_index=[2, 48], edge_attr=[48, 4], z=[23], canonical_smi='Clc1cc(I)cc(Cl)c1N[C]1[N]CCN1', mol=<rdkit.Chem.rdchem.Mol object at 0x2a7b235e0>, pos=[3], weights=[3], edge_mask=[48], mask_rotate=[2, 23]),\n",
       " Data(x=[14, 75], edge_index=[2, 28], edge_attr=[28, 4], z=[14], canonical_smi='Nc1c(Cl)cc(I)cc1Cl', mol=<rdkit.Chem.rdchem.Mol object at 0x2a7b2d040>, pos=[1], weights=[1], edge_mask=[28], mask_rotate=[1, 14]),\n",
       " Data(x=[59, 75], edge_index=[2, 118], edge_attr=[118, 4], z=[59], canonical_smi='CC(C)C(C)[Si](C)(C)OC(CNC(C)(C)C)c1cc(Cl)c(N)c(Cl)c1', mol=<rdkit.Chem.rdchem.Mol object at 0x2a7b2d680>, pos=[392], weights=[392], edge_mask=[118], mask_rotate=[17, 59]),\n",
       " Data(x=[17, 75], edge_index=[2, 34], edge_attr=[34, 4], z=[17], canonical_smi='Cc1cc(N)c(Cl)cc1I', mol=<rdkit.Chem.rdchem.Mol object at 0x2a7b2dae0>, pos=[1], weights=[1], edge_mask=[34], mask_rotate=[2, 17]),\n",
       " Data(x=[38, 75], edge_index=[2, 80], edge_attr=[80, 4], z=[38], canonical_smi='COc1cc(-n2c(C)nc3ccc(I)cc3c2=O)c(OC)cc1Cl', mol=<rdkit.Chem.rdchem.Mol object at 0x2a7b76cc0>, pos=[8], weights=[8], edge_mask=[80], mask_rotate=[6, 38]),\n",
       " Data(x=[20, 75], edge_index=[2, 42], edge_attr=[42, 4], z=[20], canonical_smi='Clc1ccc2sc(OCC#CI)nc2c1', mol=<rdkit.Chem.rdchem.Mol object at 0x2a7b905e0>, pos=[6], weights=[6], edge_mask=[42], mask_rotate=[4, 20]),\n",
       " Data(x=[17, 75], edge_index=[2, 36], edge_attr=[36, 4], z=[17], canonical_smi='Nc1cc(Cl)cc2n[nH]c(I)c12', mol=<rdkit.Chem.rdchem.Mol object at 0x2a7b90360>, pos=[1], weights=[1], edge_mask=[36], mask_rotate=[1, 17]),\n",
       " Data(x=[16, 75], edge_index=[2, 32], edge_attr=[32, 4], z=[16], canonical_smi='Nc1c(F)cc(I)cc1[N+](=O)[O-]', mol=<rdkit.Chem.rdchem.Mol object at 0x2a7baa400>, pos=[1], weights=[1], edge_mask=[32], mask_rotate=[2, 16]),\n",
       " Data(x=[13, 75], edge_index=[2, 26], edge_attr=[26, 4], z=[13], canonical_smi='N#Cc1cc(F)cc(I)c1', mol=<rdkit.Chem.rdchem.Mol object at 0x2a7baa900>, pos=[1], weights=[1], edge_mask=[26], mask_rotate=[1, 13]),\n",
       " Data(x=[23, 75], edge_index=[2, 46], edge_attr=[46, 4], z=[23], canonical_smi='COC(OC)c1cc(F)cc(I)c1', mol=<rdkit.Chem.rdchem.Mol object at 0x2a7baae50>, pos=[15], weights=[15], edge_mask=[46], mask_rotate=[5, 23]),\n",
       " Data(x=[33, 75], edge_index=[2, 66], edge_attr=[66, 4], z=[33], canonical_smi='CC[Si](CC)(CC)c1c(F)cc(I)c(Br)c1F', mol=<rdkit.Chem.rdchem.Mol object at 0x2a7baac70>, pos=[25], weights=[25], edge_mask=[66], mask_rotate=[7, 33]),\n",
       " Data(x=[14, 75], edge_index=[2, 28], edge_attr=[28, 4], z=[14], canonical_smi='Fc1cc(I)cc(C(F)(F)F)n1', mol=<rdkit.Chem.rdchem.Mol object at 0x2a7baa220>, pos=[1], weights=[1], edge_mask=[28], mask_rotate=[1, 14]),\n",
       " Data(x=[20, 75], edge_index=[2, 42], edge_attr=[42, 4], z=[20], canonical_smi='O=C(CBr)c1cc2c(cc1I)OCO2', mol=<rdkit.Chem.rdchem.Mol object at 0x2a7baa180>, pos=[5], weights=[5], edge_mask=[42], mask_rotate=[2, 20]),\n",
       " Data(x=[21, 75], edge_index=[2, 44], edge_attr=[44, 4], z=[21], canonical_smi='COC(=O)c1cc2c(cc1I)OCO2', mol=<rdkit.Chem.rdchem.Mol object at 0x2a7bbf450>, pos=[4], weights=[4], edge_mask=[44], mask_rotate=[3, 21]),\n",
       " Data(x=[24, 75], edge_index=[2, 48], edge_attr=[48, 4], z=[24], canonical_smi='CCc1cc(I)c(CC)cc1I', mol=<rdkit.Chem.rdchem.Mol object at 0x2a7bbfbd0>, pos=[4], weights=[4], edge_mask=[48], mask_rotate=[4, 24]),\n",
       " Data(x=[29, 75], edge_index=[2, 58], edge_attr=[58, 4], z=[29], canonical_smi='Cc1cc(CC(C)N)c(C)cc1I', mol=<rdkit.Chem.rdchem.Mol object at 0x2a7bbfdb0>, pos=[19], weights=[19], edge_mask=[58], mask_rotate=[6, 29]),\n",
       " Data(x=[27, 75], edge_index=[2, 54], edge_attr=[54, 4], z=[27], canonical_smi='CC(C)COc1cc(I)c(I)cc1[N+](=O)[O-]', mol=<rdkit.Chem.rdchem.Mol object at 0x2a7bb3130>, pos=[5], weights=[5], edge_mask=[54], mask_rotate=[6, 27]),\n",
       " Data(x=[25, 75], edge_index=[2, 50], edge_attr=[50, 4], z=[25], canonical_smi='CS(=O)(=O)Nc1cc(C(F)(F)F)c([N+](=O)[O-])cc1I', mol=<rdkit.Chem.rdchem.Mol object at 0x2a7bcbe50>, pos=[4], weights=[4], edge_mask=[50], mask_rotate=[5, 25]),\n",
       " Data(x=[18, 75], edge_index=[2, 36], edge_attr=[36, 4], z=[18], canonical_smi='N#Cc1cc(I)c(N)cc1C(F)(F)F', mol=<rdkit.Chem.rdchem.Mol object at 0x2a7bcb860>, pos=[1], weights=[1], edge_mask=[36], mask_rotate=[3, 18]),\n",
       " Data(x=[17, 75], edge_index=[2, 36], edge_attr=[36, 4], z=[17], canonical_smi='Nc1cc2c(cc1I)OCO2', mol=<rdkit.Chem.rdchem.Mol object at 0x2a7bb33b0>, pos=[1], weights=[1], edge_mask=[36], mask_rotate=[1, 17]),\n",
       " Data(x=[31, 75], edge_index=[2, 62], edge_attr=[62, 4], z=[31], canonical_smi='CCCCOc1c(I)cc(C(=O)NN)cc1I', mol=<rdkit.Chem.rdchem.Mol object at 0x2a7bd6090>, pos=[150], weights=[150], edge_mask=[62], mask_rotate=[8, 31]),\n",
       " Data(x=[22, 75], edge_index=[2, 44], edge_attr=[44, 4], z=[22], canonical_smi='COC(=O)c1cc(I)c(OC)c(I)c1', mol=<rdkit.Chem.rdchem.Mol object at 0x2a7bd67c0>, pos=[4], weights=[4], edge_mask=[44], mask_rotate=[5, 22]),\n",
       " Data(x=[30, 75], edge_index=[2, 62], edge_attr=[62, 4], z=[30], canonical_smi='COc1cc(OC)c2c(OC)c(I)ccc2c1I', mol=<rdkit.Chem.rdchem.Mol object at 0x2a7bffb30>, pos=[1], weights=[1], edge_mask=[62], mask_rotate=[6, 30]),\n",
       " Data(x=[27, 75], edge_index=[2, 54], edge_attr=[54, 4], z=[27], canonical_smi='CC(=O)N(C(C)=O)c1c(I)cc(I)cc1CBr', mol=<rdkit.Chem.rdchem.Mol object at 0x2a7bffea0>, pos=[7], weights=[7], edge_mask=[54], mask_rotate=[6, 27]),\n",
       " Data(x=[22, 75], edge_index=[2, 44], edge_attr=[44, 4], z=[22], canonical_smi='CC(=O)c1cc(I)cc(C)c1N', mol=<rdkit.Chem.rdchem.Mol object at 0x2a7bef450>, pos=[2], weights=[2], edge_mask=[44], mask_rotate=[4, 22]),\n",
       " Data(x=[15, 75], edge_index=[2, 30], edge_attr=[30, 4], z=[15], canonical_smi='Cc1c(I)cc(I)cc1I', mol=<rdkit.Chem.rdchem.Mol object at 0x2a7befbd0>, pos=[1], weights=[1], edge_mask=[30], mask_rotate=[1, 15]),\n",
       " Data(x=[14, 75], edge_index=[2, 28], edge_attr=[28, 4], z=[14], canonical_smi='Nc1c(I)cc(I)cc1I', mol=<rdkit.Chem.rdchem.Mol object at 0x2a7e110e0>, pos=[1], weights=[1], edge_mask=[28], mask_rotate=[1, 14]),\n",
       " Data(x=[26, 75], edge_index=[2, 52], edge_attr=[52, 4], z=[26], canonical_smi='COC(=O)c1cc(I)cc(NS(C)(=O)=O)c1', mol=<rdkit.Chem.rdchem.Mol object at 0x2a7e11d60>, pos=[20], weights=[20], edge_mask=[52], mask_rotate=[6, 26]),\n",
       " Data(x=[38, 75], edge_index=[2, 80], edge_attr=[80, 4], z=[38], canonical_smi='CCCCC12COC(c3ccc(I)cc3)(OC1)OC2', mol=<rdkit.Chem.rdchem.Mol object at 0x2a7e1f2c0>, pos=[2], weights=[2], edge_mask=[80], mask_rotate=[5, 38]),\n",
       " Data(x=[16, 75], edge_index=[2, 32], edge_attr=[32, 4], z=[16], canonical_smi='Nc1cc(I)cc([N+](=O)[O-])c1', mol=<rdkit.Chem.rdchem.Mol object at 0x2a7e1f770>, pos=[1], weights=[1], edge_mask=[32], mask_rotate=[2, 16]),\n",
       " Data(x=[36, 75], edge_index=[2, 74], edge_attr=[74, 4], z=[36], canonical_smi='CCCOc1nc2ccc(I)cc2c(=O)n1CCC', mol=<rdkit.Chem.rdchem.Mol object at 0x2a7e1fe00>, pos=[23], weights=[23], edge_mask=[74], mask_rotate=[7, 36]),\n",
       " Data(x=[24, 75], edge_index=[2, 50], edge_attr=[50, 4], z=[24], canonical_smi='CCOC(=O)c1n[nH]c2ccc(I)cc12', mol=<rdkit.Chem.rdchem.Mol object at 0x2a7e2b3b0>, pos=[7], weights=[7], edge_mask=[50], mask_rotate=[4, 24]),\n",
       " Data(x=[31, 75], edge_index=[2, 64], edge_attr=[64, 4], z=[31], canonical_smi='CC(C)(C)OC(=O)n1ccc2cc(I)ccc21', mol=<rdkit.Chem.rdchem.Mol object at 0x2a7e2b400>, pos=[2], weights=[2], edge_mask=[64], mask_rotate=[6, 31]),\n",
       " Data(x=[18, 75], edge_index=[2, 38], edge_attr=[38, 4], z=[18], canonical_smi='Cn1cc2cc(I)ccc2n1', mol=<rdkit.Chem.rdchem.Mol object at 0x2a7e38400>, pos=[1], weights=[1], edge_mask=[38], mask_rotate=[1, 18]),\n",
       " Data(x=[15, 75], edge_index=[2, 30], edge_attr=[30, 4], z=[15], canonical_smi='O=C(c1cc(I)c[nH]1)C(Cl)(Cl)Cl', mol=<rdkit.Chem.rdchem.Mol object at 0x2a7b516d0>, pos=[2], weights=[2], edge_mask=[30], mask_rotate=[2, 15]),\n",
       " Data(x=[24, 75], edge_index=[2, 50], edge_attr=[50, 4], z=[24], canonical_smi='CCOC(=O)c1cn2cc(I)ccc2n1', mol=<rdkit.Chem.rdchem.Mol object at 0x2a7e2bc20>, pos=[7], weights=[7], edge_mask=[50], mask_rotate=[4, 24]),\n",
       " Data(x=[15, 75], edge_index=[2, 30], edge_attr=[30, 4], z=[15], canonical_smi='COc1ccc(I)nc1Br', mol=<rdkit.Chem.rdchem.Mol object at 0x2a7e38720>, pos=[1], weights=[1], edge_mask=[30], mask_rotate=[2, 15]),\n",
       " Data(x=[45, 75], edge_index=[2, 92], edge_attr=[92, 4], z=[45], canonical_smi='CC(C)[Si](C(C)C)(C(C)C)n1ccc2cc(I)nc(Cl)c21', mol=<rdkit.Chem.rdchem.Mol object at 0x2a7e44130>, pos=[7], weights=[7], edge_mask=[92], mask_rotate=[10, 45]),\n",
       " Data(x=[21, 75], edge_index=[2, 42], edge_attr=[42, 4], z=[21], canonical_smi='CC(C)(C)c1cc(I)n[nH]1', mol=<rdkit.Chem.rdchem.Mol object at 0x2a7e1fbd0>, pos=[1], weights=[1], edge_mask=[42], mask_rotate=[4, 21]),\n",
       " Data(x=[12, 75], edge_index=[2, 24], edge_attr=[24, 4], z=[12], canonical_smi='Cc1cc(I)n[nH]1', mol=<rdkit.Chem.rdchem.Mol object at 0x2a7be4400>, pos=[1], weights=[1], edge_mask=[24], mask_rotate=[1, 12]),\n",
       " Data(x=[31, 75], edge_index=[2, 66], edge_attr=[66, 4], z=[31], canonical_smi='Cc1sc(I)cc1C1=C(c2cc(I)sc2C)CSC1', mol=<rdkit.Chem.rdchem.Mol object at 0x2a7e44c70>, pos=[3], weights=[3], edge_mask=[66], mask_rotate=[4, 31]),\n",
       " Data(x=[25, 75], edge_index=[2, 54], edge_attr=[54, 4], z=[25], canonical_smi='O=C1C(Cl)=C(c2ccc(I)s2)C(=O)c2ccccc21', mol=<rdkit.Chem.rdchem.Mol object at 0x2a7e44270>, pos=[3], weights=[3], edge_mask=[54], mask_rotate=[1, 25]),\n",
       " Data(x=[17, 75], edge_index=[2, 36], edge_attr=[36, 4], z=[17], canonical_smi='Nc1cc(I)c2cn[nH]c2c1', mol=<rdkit.Chem.rdchem.Mol object at 0x2a7e52310>, pos=[1], weights=[1], edge_mask=[36], mask_rotate=[1, 17]),\n",
       " Data(x=[19, 75], edge_index=[2, 38], edge_attr=[38, 4], z=[19], canonical_smi='Cc1cc(N)nc(C)c1I', mol=<rdkit.Chem.rdchem.Mol object at 0x2a7e44b80>, pos=[1], weights=[1], edge_mask=[38], mask_rotate=[3, 19]),\n",
       " Data(x=[29, 75], edge_index=[2, 58], edge_attr=[58, 4], z=[29], canonical_smi='COC(=O)c1c(C)cc(OC)c(I)c1OC', mol=<rdkit.Chem.rdchem.Mol object at 0x2a7e449a0>, pos=[2], weights=[2], edge_mask=[58], mask_rotate=[8, 29]),\n",
       " Data(x=[22, 75], edge_index=[2, 46], edge_attr=[46, 4], z=[22], canonical_smi='COc1ccc2c(I)n(C)nc2c1', mol=<rdkit.Chem.rdchem.Mol object at 0x2a7e52d60>, pos=[2], weights=[2], edge_mask=[46], mask_rotate=[3, 22]),\n",
       " Data(x=[19, 75], edge_index=[2, 40], edge_attr=[40, 4], z=[19], canonical_smi='COc1cc(Cl)c2c(I)[nH]nc2c1', mol=<rdkit.Chem.rdchem.Mol object at 0x2a7e521d0>, pos=[2], weights=[2], edge_mask=[40], mask_rotate=[2, 19]),\n",
       " Data(x=[26, 75], edge_index=[2, 52], edge_attr=[52, 4], z=[26], canonical_smi='COc1cc(OP(=O)(OC)OC)c(C#N)s1', mol=<rdkit.Chem.rdchem.Mol object at 0x2a7e60450>, pos=[44], weights=[44], edge_mask=[52], mask_rotate=[9, 26]),\n",
       " Data(x=[31, 75], edge_index=[2, 66], edge_attr=[66, 4], z=[31], canonical_smi='COc1ccc2oc(=O)c(-c3ccc(I)cc3)cc2c1', mol=<rdkit.Chem.rdchem.Mol object at 0x2a7e60a40>, pos=[4], weights=[4], edge_mask=[66], mask_rotate=[3, 31]),\n",
       " Data(x=[28, 75], edge_index=[2, 60], edge_attr=[60, 4], z=[28], canonical_smi='FC(F)(F)c1cccn2cc(-c3ccc(I)cc3)nc12', mol=<rdkit.Chem.rdchem.Mol object at 0x2a7e60400>, pos=[2], weights=[2], edge_mask=[60], mask_rotate=[2, 28]),\n",
       " Data(x=[28, 75], edge_index=[2, 60], edge_attr=[60, 4], z=[28], canonical_smi='Cc1cccn2cc(-c3ccc(I)cc3)nc12', mol=<rdkit.Chem.rdchem.Mol object at 0x2a7bef0e0>, pos=[2], weights=[2], edge_mask=[60], mask_rotate=[2, 28]),\n",
       " Data(x=[24, 75], edge_index=[2, 50], edge_attr=[50, 4], z=[24], canonical_smi='Nc1cc(=O)[nH]c(=S)n1-c1ccc(I)cc1', mol=<rdkit.Chem.rdchem.Mol object at 0x2a7e697c0>, pos=[1], weights=[1], edge_mask=[50], mask_rotate=[2, 24]),\n",
       " Data(x=[36, 75], edge_index=[2, 74], edge_attr=[74, 4], z=[36], canonical_smi='CC1(C)OB(c2ccc(SC(F)(F)F)cc2)OC1(C)C', mol=<rdkit.Chem.rdchem.Mol object at 0x2a7e7a0e0>, pos=[1], weights=[1], edge_mask=[74], mask_rotate=[7, 36]),\n",
       " Data(x=[29, 75], edge_index=[2, 58], edge_attr=[58, 4], z=[29], canonical_smi='CCN(CC)C(=O)Oc1cccc(Br)c1I', mol=<rdkit.Chem.rdchem.Mol object at 0x2a7e7a590>, pos=[7], weights=[7], edge_mask=[58], mask_rotate=[7, 29]),\n",
       " Data(x=[24, 75], edge_index=[2, 50], edge_attr=[50, 4], z=[24], canonical_smi='Brc1cccc(C#Cc2ccc(I)cc2)c1', mol=<rdkit.Chem.rdchem.Mol object at 0x2a7e7aae0>, pos=[1], weights=[1], edge_mask=[50], mask_rotate=[3, 24]),\n",
       " Data(x=[27, 75], edge_index=[2, 54], edge_attr=[54, 4], z=[27], canonical_smi='N#CCCCCC(=O)c1ccc(I)cc1', mol=<rdkit.Chem.rdchem.Mol object at 0x2a7e7ab80>, pos=[42], weights=[42], edge_mask=[54], mask_rotate=[6, 27]),\n",
       " Data(x=[29, 75], edge_index=[2, 58], edge_attr=[58, 4], z=[29], canonical_smi='CCCCCC(=O)c1ccc(I)cc1', mol=<rdkit.Chem.rdchem.Mol object at 0x2a7e7a2c0>, pos=[39], weights=[39], edge_mask=[58], mask_rotate=[6, 29]),\n",
       " Data(x=[17, 75], edge_index=[2, 34], edge_attr=[34, 4], z=[17], canonical_smi='CC(=O)c1ccc(I)cc1', mol=<rdkit.Chem.rdchem.Mol object at 0x2a7e92040>, pos=[2], weights=[2], edge_mask=[34], mask_rotate=[2, 17]),\n",
       " Data(x=[28, 75], edge_index=[2, 56], edge_attr=[56, 4], z=[28], canonical_smi='CCN(CC)C(=O)c1ccc(I)cc1', mol=<rdkit.Chem.rdchem.Mol object at 0x2a7e9e130>, pos=[13], weights=[13], edge_mask=[56], mask_rotate=[6, 28]),\n",
       " Data(x=[21, 75], edge_index=[2, 42], edge_attr=[42, 4], z=[21], canonical_smi='CCOC(=O)c1ccc(I)cc1Cl', mol=<rdkit.Chem.rdchem.Mol object at 0x2a7e9e720>, pos=[8], weights=[8], edge_mask=[42], mask_rotate=[4, 21]),\n",
       " Data(x=[33, 75], edge_index=[2, 68], edge_attr=[68, 4], z=[33], canonical_smi='CCOC(=O)c1cccc(C(=O)c2ccc(I)cc2)c1', mol=<rdkit.Chem.rdchem.Mol object at 0x2a7e9ebd0>, pos=[21], weights=[21], edge_mask=[68], mask_rotate=[6, 33]),\n",
       " Data(x=[25, 75], edge_index=[2, 50], edge_attr=[50, 4], z=[25], canonical_smi='CCOC(=O)c1ccc(OC(F)F)c(I)c1', mol=<rdkit.Chem.rdchem.Mol object at 0x2a7eab130>, pos=[10], weights=[10], edge_mask=[50], mask_rotate=[6, 25]),\n",
       " Data(x=[21, 75], edge_index=[2, 42], edge_attr=[42, 4], z=[21], canonical_smi='COC(=O)c1cccc(CBr)c1I', mol=<rdkit.Chem.rdchem.Mol object at 0x2a7eab8b0>, pos=[5], weights=[5], edge_mask=[42], mask_rotate=[4, 21]),\n",
       " Data(x=[25, 75], edge_index=[2, 50], edge_attr=[50, 4], z=[25], canonical_smi='CCOc1ccc(C(=O)OC)cc1I', mol=<rdkit.Chem.rdchem.Mol object at 0x2a7eabbd0>, pos=[8], weights=[8], edge_mask=[50], mask_rotate=[6, 25]),\n",
       " Data(x=[43, 75], edge_index=[2, 90], edge_attr=[90, 4], z=[43], canonical_smi='COC(=O)C1C(OC(=O)c2ccc(I)cc2)CC2CCC1N2C', mol=<rdkit.Chem.rdchem.Mol object at 0x2a7eabc70>, pos=[16], weights=[16], edge_mask=[90], mask_rotate=[7, 43]),\n",
       " Data(x=[37, 75], edge_index=[2, 74], edge_attr=[74, 4], z=[37], canonical_smi='CCC(C)(C)c1ccc(OCCCI)c(Cl)c1', mol=<rdkit.Chem.rdchem.Mol object at 0x2a7eb77c0>, pos=[34], weights=[34], edge_mask=[74], mask_rotate=[9, 37]),\n",
       " Data(x=[18, 75], edge_index=[2, 36], edge_attr=[36, 4], z=[18], canonical_smi='FC(F)(F)c1ccc(C(F)(F)F)c(I)c1', mol=<rdkit.Chem.rdchem.Mol object at 0x2a7ec45e0>, pos=[1], weights=[1], edge_mask=[36], mask_rotate=[2, 18]),\n",
       " Data(x=[18, 75], edge_index=[2, 36], edge_attr=[36, 4], z=[18], canonical_smi='Cc1cc(C(F)(F)F)ccc1I', mol=<rdkit.Chem.rdchem.Mol object at 0x2a7ec4a90>, pos=[1], weights=[1], edge_mask=[36], mask_rotate=[2, 18]),\n",
       " Data(x=[28, 75], edge_index=[2, 56], edge_attr=[56, 4], z=[28], canonical_smi='COC(CC#CI)(OC)c1ccc(Cl)cc1', mol=<rdkit.Chem.rdchem.Mol object at 0x2a7ec4bd0>, pos=[20], weights=[20], edge_mask=[56], mask_rotate=[8, 28]),\n",
       " Data(x=[18, 75], edge_index=[2, 36], edge_attr=[36, 4], z=[18], canonical_smi='BrCc1ccc(CBr)c(I)c1', mol=<rdkit.Chem.rdchem.Mol object at 0x2a7eb7860>, pos=[4], weights=[4], edge_mask=[36], mask_rotate=[2, 18]),\n",
       " Data(x=[16, 75], edge_index=[2, 32], edge_attr=[32, 4], z=[16], canonical_smi='N#CCc1ccc(I)cc1', mol=<rdkit.Chem.rdchem.Mol object at 0x2a7ed29f0>, pos=[2], weights=[2], edge_mask=[32], mask_rotate=[2, 16]),\n",
       " Data(x=[24, 75], edge_index=[2, 48], edge_attr=[48, 4], z=[24], canonical_smi='COc1ccc(CC(C)=O)cc1I', mol=<rdkit.Chem.rdchem.Mol object at 0x2a7ed2a90>, pos=[7], weights=[7], edge_mask=[48], mask_rotate=[5, 24]),\n",
       " Data(x=[23, 75], edge_index=[2, 46], edge_attr=[46, 4], z=[23], canonical_smi='COC(=O)Cc1ccc(N)c(I)c1', mol=<rdkit.Chem.rdchem.Mol object at 0x2a7ede680>, pos=[8], weights=[8], edge_mask=[46], mask_rotate=[5, 23]),\n",
       " Data(x=[23, 75], edge_index=[2, 46], edge_attr=[46, 4], z=[23], canonical_smi='CC(=O)CCc1ccc(I)cc1', mol=<rdkit.Chem.rdchem.Mol object at 0x2a7ededb0>, pos=[8], weights=[8], edge_mask=[46], mask_rotate=[4, 23]),\n",
       " Data(x=[36, 75], edge_index=[2, 72], edge_attr=[72, 4], z=[36], canonical_smi='CCCCCc1ccc(C(=O)OCC)cc1I', mol=<rdkit.Chem.rdchem.Mol object at 0x2a7eeb770>, pos=[85], weights=[85], edge_mask=[72], mask_rotate=[9, 36]),\n",
       " Data(x=[27, 75], edge_index=[2, 54], edge_attr=[54, 4], z=[27], canonical_smi='CCCCCc1ccc(I)cc1', mol=<rdkit.Chem.rdchem.Mol object at 0x2a7e7adb0>, pos=[22], weights=[22], edge_mask=[54], mask_rotate=[5, 27]),\n",
       " Data(x=[23, 75], edge_index=[2, 46], edge_attr=[46, 4], z=[23], canonical_smi='CCc1ccc(C(=O)CI)cc1', mol=<rdkit.Chem.rdchem.Mol object at 0x2a7e92b80>, pos=[3], weights=[3], edge_mask=[46], mask_rotate=[4, 23]),\n",
       " Data(x=[21, 75], edge_index=[2, 42], edge_attr=[42, 4], z=[21], canonical_smi='Cc1ccc(CI)c(C)c1', mol=<rdkit.Chem.rdchem.Mol object at 0x2a88032c0>, pos=[1], weights=[1], edge_mask=[42], mask_rotate=[3, 21]),\n",
       " Data(x=[19, 75], edge_index=[2, 38], edge_attr=[38, 4], z=[19], canonical_smi='COCc1ccc(I)cc1', mol=<rdkit.Chem.rdchem.Mol object at 0x2a7ef8c20>, pos=[3], weights=[3], edge_mask=[38], mask_rotate=[3, 19]),\n",
       " Data(x=[29, 75], edge_index=[2, 60], edge_attr=[60, 4], z=[29], canonical_smi='Fc1ccc(COc2ccc(C(F)(F)F)cc2I)cc1', mol=<rdkit.Chem.rdchem.Mol object at 0x2a8813400>, pos=[4], weights=[4], edge_mask=[60], mask_rotate=[4, 29]),\n",
       " Data(x=[28, 75], edge_index=[2, 56], edge_attr=[56, 4], z=[28], canonical_smi='Cc1ccc(C(=O)NCCI)cc1C', mol=<rdkit.Chem.rdchem.Mol object at 0x2a88139f0>, pos=[19], weights=[19], edge_mask=[56], mask_rotate=[6, 28]),\n",
       " Data(x=[15, 75], edge_index=[2, 30], edge_attr=[30, 4], z=[15], canonical_smi='Cc1ccc(Br)cc1I', mol=<rdkit.Chem.rdchem.Mol object at 0x2a881e180>, pos=[1], weights=[1], edge_mask=[30], mask_rotate=[1, 15]),\n",
       " Data(x=[21, 75], edge_index=[2, 42], edge_attr=[42, 4], z=[21], canonical_smi='COC(=O)c1ccc(C)c(I)c1', mol=<rdkit.Chem.rdchem.Mol object at 0x2a881e5e0>, pos=[3], weights=[3], edge_mask=[42], mask_rotate=[4, 21]),\n",
       " Data(x=[24, 75], edge_index=[2, 48], edge_attr=[48, 4], z=[24], canonical_smi='CCOC(=O)c1cc(C)ccc1I', mol=<rdkit.Chem.rdchem.Mol object at 0x2a881eb30>, pos=[5], weights=[5], edge_mask=[48], mask_rotate=[5, 24]),\n",
       " Data(x=[21, 75], edge_index=[2, 42], edge_attr=[42, 4], z=[21], canonical_smi='Cc1cccc(S(=O)(=O)C(I)I)c1', mol=<rdkit.Chem.rdchem.Mol object at 0x2a7ef8e00>, pos=[4], weights=[4], edge_mask=[42], mask_rotate=[3, 21]),\n",
       " Data(x=[41, 75], edge_index=[2, 86], edge_attr=[86, 4], z=[41], canonical_smi='Nc1ccc(C(c2ccc(N)cc2I)c2ccc(N)cc2I)cc1', mol=<rdkit.Chem.rdchem.Mol object at 0x2a8803180>, pos=[4], weights=[4], edge_mask=[86], mask_rotate=[6, 41]),\n",
       " Data(x=[30, 75], edge_index=[2, 62], edge_attr=[62, 4], z=[30], canonical_smi='O=C(NC(=S)Nc1cc(Cl)ccc1Cl)c1cc(I)ccc1Cl', mol=<rdkit.Chem.rdchem.Mol object at 0x2a882c180>, pos=[31], weights=[31], edge_mask=[62], mask_rotate=[5, 30]),\n",
       " Data(x=[14, 75], edge_index=[2, 28], edge_attr=[28, 4], z=[14], canonical_smi='Nc1c(Cl)cccc1I', mol=<rdkit.Chem.rdchem.Mol object at 0x2a882ca90>, pos=[1], weights=[1], edge_mask=[28], mask_rotate=[1, 14]),\n",
       " Data(x=[15, 75], edge_index=[2, 30], edge_attr=[30, 4], z=[15], canonical_smi='Clc1cccc(CI)c1', mol=<rdkit.Chem.rdchem.Mol object at 0x2a8837680>, pos=[2], weights=[2], edge_mask=[30], mask_rotate=[1, 15]),\n",
       " Data(x=[26, 75], edge_index=[2, 54], edge_attr=[54, 4], z=[26], canonical_smi='O=C(Nc1ccc(I)cc1)c1cccc(F)c1', mol=<rdkit.Chem.rdchem.Mol object at 0x2a8837b30>, pos=[5], weights=[5], edge_mask=[54], mask_rotate=[3, 26]),\n",
       " Data(x=[21, 75], edge_index=[2, 42], edge_attr=[42, 4], z=[21], canonical_smi='CCOC(=O)c1cc(Cl)ccc1I', mol=<rdkit.Chem.rdchem.Mol object at 0x2a8813450>, pos=[5], weights=[5], edge_mask=[42], mask_rotate=[4, 21]),\n",
       " Data(x=[21, 75], edge_index=[2, 42], edge_attr=[42, 4], z=[21], canonical_smi='CCOC(=O)c1cc(I)ccc1I', mol=<rdkit.Chem.rdchem.Mol object at 0x2a881e630>, pos=[9], weights=[9], edge_mask=[42], mask_rotate=[4, 21]),\n",
       " Data(x=[15, 75], edge_index=[2, 30], edge_attr=[30, 4], z=[15], canonical_smi='Cc1cc(Br)ccc1I', mol=<rdkit.Chem.rdchem.Mol object at 0x2a88454f0>, pos=[1], weights=[1], edge_mask=[30], mask_rotate=[1, 15]),\n",
       " Data(x=[55, 75], edge_index=[2, 120], edge_attr=[120, 4], z=[55], canonical_smi='CN1CCN(c2ccc3nc(-c4ccc5nc(-c6cccc(I)c6)[nH]c5c4)[nH]c3c2)CC1', mol=<rdkit.Chem.rdchem.Mol object at 0x2a8845e50>, pos=[10], weights=[10], edge_mask=[120], mask_rotate=[4, 55]),\n",
       " Data(x=[17, 75], edge_index=[2, 34], edge_attr=[34, 4], z=[17], canonical_smi='CC(=O)c1cccc(I)c1', mol=<rdkit.Chem.rdchem.Mol object at 0x2a8845c20>, pos=[2], weights=[2], edge_mask=[34], mask_rotate=[2, 17]),\n",
       " Data(x=[30, 75], edge_index=[2, 62], edge_attr=[62, 4], z=[30], canonical_smi='NC(=O)c1ccccc1NC(=O)c1cccc(I)c1', mol=<rdkit.Chem.rdchem.Mol object at 0x2a8852360>, pos=[15], weights=[15], edge_mask=[62], mask_rotate=[5, 30]),\n",
       " Data(x=[34, 75], edge_index=[2, 72], edge_attr=[72, 4], z=[34], canonical_smi='N#Cc1c(NC(=O)c2cccc(I)c2)sc2c1CCCC2', mol=<rdkit.Chem.rdchem.Mol object at 0x2a8852900>, pos=[6], weights=[6], edge_mask=[72], mask_rotate=[4, 34]),\n",
       " Data(x=[21, 75], edge_index=[2, 42], edge_attr=[42, 4], z=[21], canonical_smi='CCOC(=O)c1cccc(I)c1', mol=<rdkit.Chem.rdchem.Mol object at 0x2a8852770>, pos=[6], weights=[6], edge_mask=[42], mask_rotate=[4, 21]),\n",
       " Data(x=[30, 75], edge_index=[2, 62], edge_attr=[62, 4], z=[30], canonical_smi='CC(=O)Oc1ccc(C(=O)c2cccc(I)c2)cc1', mol=<rdkit.Chem.rdchem.Mol object at 0x2a8860400>, pos=[10], weights=[10], edge_mask=[62], mask_rotate=[5, 30]),\n",
       " Data(x=[25, 75], edge_index=[2, 52], edge_attr=[52, 4], z=[25], canonical_smi='N#Cc1cccc(C(=O)c2cccc(I)c2)c1', mol=<rdkit.Chem.rdchem.Mol object at 0x2a8860a90>, pos=[4], weights=[4], edge_mask=[52], mask_rotate=[3, 25]),\n",
       " Data(x=[24, 75], edge_index=[2, 48], edge_attr=[48, 4], z=[24], canonical_smi='CC(C)(C)c1cccc(I)c1', mol=<rdkit.Chem.rdchem.Mol object at 0x2a88607c0>, pos=[1], weights=[1], edge_mask=[48], mask_rotate=[4, 24]),\n",
       " Data(x=[16, 75], edge_index=[2, 32], edge_attr=[32, 4], z=[16], canonical_smi='N#CCc1cccc(I)c1', mol=<rdkit.Chem.rdchem.Mol object at 0x2a886b0e0>, pos=[3], weights=[3], edge_mask=[32], mask_rotate=[2, 16]),\n",
       " Data(x=[18, 75], edge_index=[2, 36], edge_attr=[36, 4], z=[18], canonical_smi='CCc1cc(I)ccc1Br', mol=<rdkit.Chem.rdchem.Mol object at 0x2a886b590>, pos=[3], weights=[3], edge_mask=[36], mask_rotate=[2, 18]),\n",
       " Data(x=[29, 75], edge_index=[2, 62], edge_attr=[62, 4], z=[29], canonical_smi='Ic1cccc(CSc2nc3ccccc3[nH]2)c1', mol=<rdkit.Chem.rdchem.Mol object at 0x2a886bbd0>, pos=[12], weights=[12], edge_mask=[62], mask_rotate=[3, 29]),\n",
       " Data(x=[14, 75], edge_index=[2, 28], edge_attr=[28, 4], z=[14], canonical_smi='[O]C(=O)c1cccc(I)c1', mol=<rdkit.Chem.rdchem.Mol object at 0x2a8879310>, pos=[1], weights=[1], edge_mask=[28], mask_rotate=[1, 14]),\n",
       " Data(x=[26, 75], edge_index=[2, 54], edge_attr=[54, 4], z=[26], canonical_smi='CC1(C)COC(c2cccc(I)c2)=N1', mol=<rdkit.Chem.rdchem.Mol object at 0x2a8879450>, pos=[2], weights=[2], edge_mask=[54], mask_rotate=[3, 26]),\n",
       " Data(x=[21, 75], edge_index=[2, 44], edge_attr=[44, 4], z=[21], canonical_smi='O=C1NN=C(c2cccc(I)c2)CS1', mol=<rdkit.Chem.rdchem.Mol object at 0x2a88798b0>, pos=[3], weights=[3], edge_mask=[44], mask_rotate=[1, 21]),\n",
       " Data(x=[25, 75], edge_index=[2, 50], edge_attr=[50, 4], z=[25], canonical_smi='CCOC(=O)COc1cccc(I)c1', mol=<rdkit.Chem.rdchem.Mol object at 0x2a8879e50>, pos=[39], weights=[39], edge_mask=[50], mask_rotate=[6, 25]),\n",
       " Data(x=[17, 75], edge_index=[2, 34], edge_attr=[34, 4], z=[17], canonical_smi='FS(F)(F)(F)(F)c1cccc(I)c1', mol=<rdkit.Chem.rdchem.Mol object at 0x2a88844f0>, pos=[1], weights=[1], edge_mask=[34], mask_rotate=[1, 17]),\n",
       " Data(x=[25, 75], edge_index=[2, 52], edge_attr=[52, 4], z=[25], canonical_smi='Cc1ccc2c(I)ccc(OCC#N)c2n1', mol=<rdkit.Chem.rdchem.Mol object at 0x2a88849a0>, pos=[5], weights=[5], edge_mask=[52], mask_rotate=[4, 25]),\n",
       " Data(x=[18, 75], edge_index=[2, 38], edge_attr=[38, 4], z=[18], canonical_smi='N[C]1N=C(Cl)[N]c2c(I)cccc21', mol=<rdkit.Chem.rdchem.Mol object at 0x2a88795e0>, pos=[1], weights=[1], edge_mask=[38], mask_rotate=[1, 18]),\n",
       " Data(x=[38, 75], edge_index=[2, 76], edge_attr=[76, 4], z=[38], canonical_smi='CCCCN(CCCC)c1ccc(I)cc1', mol=<rdkit.Chem.rdchem.Mol object at 0x2a8891720>, pos=[83], weights=[83], edge_mask=[76], mask_rotate=[9, 38]),\n",
       " Data(x=[45, 75], edge_index=[2, 92], edge_attr=[92, 4], z=[45], canonical_smi='CCC(=O)Nc1cc(N(C)C)ccc1[N][N]c1c(I)cc([N+](=O)[O-])cc1C#N', mol=<rdkit.Chem.rdchem.Mol object at 0x2a8891c20>, pos=[3], weights=[3], edge_mask=[92], mask_rotate=[12, 45]),\n",
       " Data(x=[34, 75], edge_index=[2, 72], edge_attr=[72, 4], z=[34], canonical_smi='Cc1ccc2nc(-c3ccc(NC(=O)CI)cc3)sc2c1', mol=<rdkit.Chem.rdchem.Mol object at 0x2a8884220>, pos=[12], weights=[12], edge_mask=[72], mask_rotate=[5, 34]),\n",
       " Data(x=[32, 75], edge_index=[2, 66], edge_attr=[66, 4], z=[32], canonical_smi='COc1ccc(NC(=O)Nc2ccc(I)cc2)cc1', mol=<rdkit.Chem.rdchem.Mol object at 0x2a8884ae0>, pos=[7], weights=[7], edge_mask=[66], mask_rotate=[6, 32]),\n",
       " Data(x=[29, 75], edge_index=[2, 58], edge_attr=[58, 4], z=[29], canonical_smi='CC(C)(C)OC(=O)Nc1ccc(I)cc1F', mol=<rdkit.Chem.rdchem.Mol object at 0x2a88ac1d0>, pos=[6], weights=[6], edge_mask=[58], mask_rotate=[7, 29]),\n",
       " Data(x=[43, 75], edge_index=[2, 88], edge_attr=[88, 4], z=[43], canonical_smi='CC(C)Nc1ccc(B2OC(C)(C)C(C)(C)O2)cc1', mol=<rdkit.Chem.rdchem.Mol object at 0x2a88ace50>, pos=[5], weights=[5], edge_mask=[88], mask_rotate=[9, 43]),\n",
       " Data(x=[32, 75], edge_index=[2, 64], edge_attr=[64, 4], z=[32], canonical_smi='COC(=O)c1cc(I)ccc1NCC(C)C', mol=<rdkit.Chem.rdchem.Mol object at 0x2a88acbd0>, pos=[26], weights=[26], edge_mask=[64], mask_rotate=[8, 32]),\n",
       " Data(x=[21, 75], edge_index=[2, 42], edge_attr=[42, 4], z=[21], canonical_smi='CNc1ccc(OC)cc1I', mol=<rdkit.Chem.rdchem.Mol object at 0x2a88bd810>, pos=[1], weights=[1], edge_mask=[42], mask_rotate=[4, 21]),\n",
       " Data(x=[16, 75], edge_index=[2, 32], edge_attr=[32, 4], z=[16], canonical_smi='NNc1ccc(I)cc1', mol=<rdkit.Chem.rdchem.Mol object at 0x2a88bddb0>, pos=[3], weights=[3], edge_mask=[32], mask_rotate=[2, 16]),\n",
       " Data(x=[15, 75], edge_index=[2, 30], edge_attr=[30, 4], z=[15], canonical_smi='N#Cc1cc(I)ccc1N', mol=<rdkit.Chem.rdchem.Mol object at 0x2a88c79f0>, pos=[1], weights=[1], edge_mask=[30], mask_rotate=[2, 15]),\n",
       " Data(x=[19, 75], edge_index=[2, 38], edge_attr=[38, 4], z=[19], canonical_smi='CC(=O)c1cc(I)ccc1N', mol=<rdkit.Chem.rdchem.Mol object at 0x2a88c7ea0>, pos=[2], weights=[2], edge_mask=[38], mask_rotate=[3, 19]),\n",
       " Data(x=[14, 75], edge_index=[2, 28], edge_attr=[28, 4], z=[14], canonical_smi='Nc1ccc(Br)cc1I', mol=<rdkit.Chem.rdchem.Mol object at 0x2a88d8450>, pos=[1], weights=[1], edge_mask=[28], mask_rotate=[1, 14]),\n",
       " Data(x=[14, 75], edge_index=[2, 28], edge_attr=[28, 4], z=[14], canonical_smi='Nc1ccc(I)cc1', mol=<rdkit.Chem.rdchem.Mol object at 0x2a88c7db0>, pos=[1], weights=[1], edge_mask=[28], mask_rotate=[1, 14]),\n",
       " Data(x=[31, 75], edge_index=[2, 64], edge_attr=[64, 4], z=[31], canonical_smi='Nc1ccc(O[SiH2]Oc2ccc(N)cc2)cc1', mol=<rdkit.Chem.rdchem.Mol object at 0x2a88c7d60>, pos=[21], weights=[21], edge_mask=[64], mask_rotate=[6, 31]),\n",
       " Data(x=[20, 75], edge_index=[2, 42], edge_attr=[42, 4], z=[20], canonical_smi='Nc1cccc2c(I)cccc12', mol=<rdkit.Chem.rdchem.Mol object at 0x2a88d8950>, pos=[1], weights=[1], edge_mask=[42], mask_rotate=[1, 20]),\n",
       " Data(x=[35, 75], edge_index=[2, 74], edge_attr=[74, 4], z=[35], canonical_smi='Cc1cccc(N2C(=O)SC(Nc3ccc(I)cc3)C2=O)c1', mol=<rdkit.Chem.rdchem.Mol object at 0x2a88d81d0>, pos=[6], weights=[6], edge_mask=[74], mask_rotate=[4, 35]),\n",
       " Data(x=[17, 75], edge_index=[2, 34], edge_attr=[34, 4], z=[17], canonical_smi='NC(=O)c1cc(N=O)ccc1I', mol=<rdkit.Chem.rdchem.Mol object at 0x2a88d8090>, pos=[2], weights=[2], edge_mask=[34], mask_rotate=[3, 17]),\n",
       " Data(x=[16, 75], edge_index=[2, 32], edge_attr=[32, 4], z=[16], canonical_smi='FC(F)(F)Oc1ccc(I)cc1', mol=<rdkit.Chem.rdchem.Mol object at 0x2a88e29a0>, pos=[1], weights=[1], edge_mask=[32], mask_rotate=[2, 16]),\n",
       " Data(x=[25, 75], edge_index=[2, 50], edge_attr=[50, 4], z=[25], canonical_smi='CCOC(=O)c1cc(I)ccc1OC(F)F', mol=<rdkit.Chem.rdchem.Mol object at 0x2a88f1130>, pos=[45], weights=[45], edge_mask=[50], mask_rotate=[6, 25]),\n",
       " Data(x=[35, 75], edge_index=[2, 70], edge_attr=[70, 4], z=[35], canonical_smi='CCCCCOc1ccc(I)cc1OCC', mol=<rdkit.Chem.rdchem.Mol object at 0x2a88f1680>, pos=[270], weights=[270], edge_mask=[70], mask_rotate=[9, 35]),\n",
       " Data(x=[29, 75], edge_index=[2, 58], edge_attr=[58, 4], z=[29], canonical_smi='FC(F)(F)COc1ccc(OCCCI)c(Cl)c1', mol=<rdkit.Chem.rdchem.Mol object at 0x2a88febd0>, pos=[46], weights=[46], edge_mask=[58], mask_rotate=[7, 29]),\n",
       " Data(x=[19, 75], edge_index=[2, 38], edge_attr=[38, 4], z=[19], canonical_smi='FCCOc1ccc(I)cc1', mol=<rdkit.Chem.rdchem.Mol object at 0x2a88feea0>, pos=[6], weights=[6], edge_mask=[38], mask_rotate=[3, 19]),\n",
       " Data(x=[27, 75], edge_index=[2, 54], edge_attr=[54, 4], z=[27], canonical_smi='COCOc1cccc(OS([O])([O])C(F)(F)F)c1I', mol=<rdkit.Chem.rdchem.Mol object at 0x2a8b47ea0>, pos=[25], weights=[25], edge_mask=[54], mask_rotate=[7, 27]),\n",
       " Data(x=[18, 75], edge_index=[2, 36], edge_attr=[36, 4], z=[18], canonical_smi='COc1cccc(N)c1I', mol=<rdkit.Chem.rdchem.Mol object at 0x2a8b5eb80>, pos=[1], weights=[1], edge_mask=[36], mask_rotate=[3, 18]),\n",
       " Data(x=[20, 75], edge_index=[2, 40], edge_attr=[40, 4], z=[20], canonical_smi='COc1ccc(OC)c(I)c1', mol=<rdkit.Chem.rdchem.Mol object at 0x2a8b5ed60>, pos=[2], weights=[2], edge_mask=[40], mask_rotate=[4, 20]),\n",
       " Data(x=[20, 75], edge_index=[2, 40], edge_attr=[40, 4], z=[20], canonical_smi='COc1ccc(I)cc1OC(F)(F)F', mol=<rdkit.Chem.rdchem.Mol object at 0x2a8b3d8b0>, pos=[3], weights=[3], edge_mask=[40], mask_rotate=[4, 20]),\n",
       " Data(x=[33, 75], edge_index=[2, 68], edge_attr=[68, 4], z=[33], canonical_smi='COc1ccc(I)cc1OS([O])([O])c1ccc(C)cc1', mol=<rdkit.Chem.rdchem.Mol object at 0x2a8b6c0e0>, pos=[12], weights=[12], edge_mask=[68], mask_rotate=[6, 33]),\n",
       " Data(x=[18, 75], edge_index=[2, 36], edge_attr=[36, 4], z=[18], canonical_smi='COc1ccc(I)c([N+](=O)[O-])c1', mol=<rdkit.Chem.rdchem.Mol object at 0x2a8b6cae0>, pos=[2], weights=[2], edge_mask=[36], mask_rotate=[3, 18]),\n",
       " Data(x=[15, 75], edge_index=[2, 30], edge_attr=[30, 4], z=[15], canonical_smi='O=S(=O)(F)c1ccc(I)cc1', mol=<rdkit.Chem.rdchem.Mol object at 0x2a8b6cb30>, pos=[1], weights=[1], edge_mask=[30], mask_rotate=[1, 15]),\n",
       " Data(x=[32, 75], edge_index=[2, 64], edge_attr=[64, 4], z=[32], canonical_smi='Cc1ccc(S(=O)(=O)NCCC(I)CCl)cc1', mol=<rdkit.Chem.rdchem.Mol object at 0x2a8b5e180>, pos=[206], weights=[206], edge_mask=[64], mask_rotate=[7, 32]),\n",
       " Data(x=[25, 75], edge_index=[2, 50], edge_attr=[50, 4], z=[25], canonical_smi='CC(C)(C)Sc1ccc(I)cc1', mol=<rdkit.Chem.rdchem.Mol object at 0x2a8b7a720>, pos=[2], weights=[2], edge_mask=[50], mask_rotate=[5, 25]),\n",
       " Data(x=[20, 75], edge_index=[2, 40], edge_attr=[40, 4], z=[20], canonical_smi='CC(N)c1ccc(I)cc1', mol=<rdkit.Chem.rdchem.Mol object at 0x2a8b9f3b0>, pos=[6], weights=[6], edge_mask=[40], mask_rotate=[3, 20]),\n",
       " Data(x=[27, 75], edge_index=[2, 56], edge_attr=[56, 4], z=[27], canonical_smi='CCOC1C(=O)C(=O)C1c1ccc(I)cc1', mol=<rdkit.Chem.rdchem.Mol object at 0x2a8bab270>, pos=[12], weights=[12], edge_mask=[56], mask_rotate=[4, 27]),\n",
       " Data(x=[33, 75], edge_index=[2, 68], edge_attr=[68, 4], z=[33], canonical_smi='CN1CCC(c2ccc(Cl)cc2)C(CI)C1', mol=<rdkit.Chem.rdchem.Mol object at 0x2a8babe50>, pos=[6], weights=[6], edge_mask=[68], mask_rotate=[3, 33]),\n",
       " Data(x=[37, 75], edge_index=[2, 78], edge_attr=[78, 4], z=[37], canonical_smi='COC(=O)C1C2CCC(CC1c1ccc(I)cc1)N2', mol=<rdkit.Chem.rdchem.Mol object at 0x2a8bc1a40>, pos=[7], weights=[7], edge_mask=[78], mask_rotate=[4, 37]),\n",
       " Data(x=[35, 75], edge_index=[2, 74], edge_attr=[74, 4], z=[35], canonical_smi='Clc1ccc(C2(c3ccc(I)cc3)CNCCO2)cc1', mol=<rdkit.Chem.rdchem.Mol object at 0x2a8bc1450>, pos=[2], weights=[2], edge_mask=[74], mask_rotate=[2, 35]),\n",
       " Data(x=[18, 75], edge_index=[2, 36], edge_attr=[36, 4], z=[18], canonical_smi='Cc1ccc([Ge](I)(I)I)cc1', mol=<rdkit.Chem.rdchem.Mol object at 0x2a8bc10e0>, pos=[1], weights=[1], edge_mask=[36], mask_rotate=[2, 18]),\n",
       " Data(x=[34, 75], edge_index=[2, 74], edge_attr=[74, 4], z=[34], canonical_smi='Ic1ccc2c(ccc3ccccc32)c1-c1ccccc1', mol=<rdkit.Chem.rdchem.Mol object at 0x2a8bcb770>, pos=[2], weights=[2], edge_mask=[74], mask_rotate=[1, 34]),\n",
       " Data(x=[32, 75], edge_index=[2, 68], edge_attr=[68, 4], z=[32], canonical_smi='Ic1cc(-c2ccccc2)cc(-c2ccccc2)c1', mol=<rdkit.Chem.rdchem.Mol object at 0x2a8bcb9a0>, pos=[3], weights=[3], edge_mask=[68], mask_rotate=[2, 32]),\n",
       " Data(x=[28, 75], edge_index=[2, 58], edge_attr=[58, 4], z=[28], canonical_smi='CC(I)c1ccc(-c2ccccc2F)cc1', mol=<rdkit.Chem.rdchem.Mol object at 0x2a8bd7040>, pos=[2], weights=[2], edge_mask=[58], mask_rotate=[3, 28]),\n",
       " Data(x=[32, 75], edge_index=[2, 68], edge_attr=[68, 4], z=[32], canonical_smi='Ic1c(-c2ccccc2)cccc1-c1ccccc1', mol=<rdkit.Chem.rdchem.Mol object at 0x2a8bcb270>, pos=[3], weights=[3], edge_mask=[68], mask_rotate=[2, 32]),\n",
       " Data(x=[27, 75], edge_index=[2, 56], edge_attr=[56, 4], z=[27], canonical_smi='Cc1nc(-c2ccccc2)c(CCI)o1', mol=<rdkit.Chem.rdchem.Mol object at 0x2a8bcba40>, pos=[9], weights=[9], edge_mask=[56], mask_rotate=[4, 27]),\n",
       " Data(x=[25, 75], edge_index=[2, 52], edge_attr=[52, 4], z=[25], canonical_smi='CSc1nc(-c2ccccc2I)sc(=O)c1C#N', mol=<rdkit.Chem.rdchem.Mol object at 0x2a8be2130>, pos=[5], weights=[5], edge_mask=[52], mask_rotate=[4, 25]),\n",
       " Data(x=[37, 75], edge_index=[2, 78], edge_attr=[78, 4], z=[37], canonical_smi='COc1ccc(NC(=O)Nc2nnc(-c3ccccc3I)s2)cc1', mol=<rdkit.Chem.rdchem.Mol object at 0x2a8be2180>, pos=[25], weights=[25], edge_mask=[78], mask_rotate=[7, 37]),\n",
       " Data(x=[14, 75], edge_index=[2, 28], edge_attr=[28, 4], z=[14], canonical_smi='IB(I)c1ccccc1', mol=<rdkit.Chem.rdchem.Mol object at 0x2a8be2810>, pos=[2], weights=[2], edge_mask=[28], mask_rotate=[1, 14]),\n",
       " Data(x=[44, 75], edge_index=[2, 92], edge_attr=[92, 4], z=[44], canonical_smi='COc1ccccc1P(C#Cc1ccccc1)c1ccccc1OC', mol=<rdkit.Chem.rdchem.Mol object at 0x2a8bf0090>, pos=[7], weights=[7], edge_mask=[92], mask_rotate=[9, 44]),\n",
       " Data(x=[24, 75], edge_index=[2, 50], edge_attr=[50, 4], z=[24], canonical_smi='Ic1cccc(C#Cc2ccccc2I)c1', mol=<rdkit.Chem.rdchem.Mol object at 0x2a8b3d360>, pos=[1], weights=[1], edge_mask=[50], mask_rotate=[3, 24]),\n",
       " Data(x=[18, 75], edge_index=[2, 36], edge_attr=[36, 4], z=[18], canonical_smi='N#CCC(=O)c1ccccc1I', mol=<rdkit.Chem.rdchem.Mol object at 0x2a8bcba90>, pos=[3], weights=[3], edge_mask=[36], mask_rotate=[3, 18]),\n",
       " Data(x=[29, 75], edge_index=[2, 58], edge_attr=[58, 4], z=[29], canonical_smi='CCOC(=O)CCC(=O)c1ccccc1I', mol=<rdkit.Chem.rdchem.Mol object at 0x2a8bf0720>, pos=[195], weights=[195], edge_mask=[58], mask_rotate=[7, 29]),\n",
       " Data(x=[33, 75], edge_index=[2, 68], edge_attr=[68, 4], z=[33], canonical_smi='Cc1ccc(NC(=S)NC(=O)c2ccccc2I)cc1', mol=<rdkit.Chem.rdchem.Mol object at 0x2a8bf0e50>, pos=[18], weights=[18], edge_mask=[68], mask_rotate=[6, 33]),\n",
       " Data(x=[33, 75], edge_index=[2, 70], edge_attr=[70, 4], z=[33], canonical_smi='CNC(=O)c1ccccc1Sc1ccc2c(I)[nH]nc2c1', mol=<rdkit.Chem.rdchem.Mol object at 0x2a8e0ac70>, pos=[20], weights=[20], edge_mask=[70], mask_rotate=[5, 33]),\n",
       " Data(x=[29, 75], edge_index=[2, 60], edge_attr=[60, 4], z=[29], canonical_smi='Cc1ccccc1NC(=O)c1ccccc1I', mol=<rdkit.Chem.rdchem.Mol object at 0x2a8e233b0>, pos=[7], weights=[7], edge_mask=[60], mask_rotate=[4, 29]),\n",
       " Data(x=[35, 75], edge_index=[2, 72], edge_attr=[72, 4], z=[35], canonical_smi='COC(=O)c1ccccc1Oc1ccc(I)cc1C(=O)OC', mol=<rdkit.Chem.rdchem.Mol object at 0x2a8e2d590>, pos=[35], weights=[35], edge_mask=[72], mask_rotate=[8, 35]),\n",
       " Data(x=[26, 75], edge_index=[2, 54], edge_attr=[54, 4], z=[26], canonical_smi='N#Cc1cc(I)c(OC(=O)c2ccccc2)c(I)c1', mol=<rdkit.Chem.rdchem.Mol object at 0x2a8e43310>, pos=[4], weights=[4], edge_mask=[54], mask_rotate=[4, 26]),\n",
       " Data(x=[24, 75], edge_index=[2, 50], edge_attr=[50, 4], z=[24], canonical_smi='O=C(c1ccc(F)cc1)c1ccccc1I', mol=<rdkit.Chem.rdchem.Mol object at 0x2a8e43220>, pos=[3], weights=[3], edge_mask=[50], mask_rotate=[2, 24]),\n",
       " Data(x=[30, 75], edge_index=[2, 62], edge_attr=[62, 4], z=[30], canonical_smi='CC(=O)Oc1ccccc1C(=O)c1ccc(I)cc1', mol=<rdkit.Chem.rdchem.Mol object at 0x2a8bf0ae0>, pos=[10], weights=[10], edge_mask=[62], mask_rotate=[5, 30]),\n",
       " Data(x=[28, 75], edge_index=[2, 58], edge_attr=[58, 4], z=[28], canonical_smi='CSc1ccc(C(=O)c2ccccc2I)cc1', mol=<rdkit.Chem.rdchem.Mol object at 0x2a8e50400>, pos=[6], weights=[6], edge_mask=[58], mask_rotate=[4, 28]),\n",
       " Data(x=[20, 75], edge_index=[2, 42], edge_attr=[42, 4], z=[20], canonical_smi='O=C(c1ccccc1)c1n[nH]nc1I', mol=<rdkit.Chem.rdchem.Mol object at 0x2a8e2d450>, pos=[5], weights=[5], edge_mask=[42], mask_rotate=[2, 20]),\n",
       " Data(x=[16, 75], edge_index=[2, 32], edge_attr=[32, 4], z=[16], canonical_smi='NC(=S)c1ccccc1I', mol=<rdkit.Chem.rdchem.Mol object at 0x2a8e168b0>, pos=[3], weights=[3], edge_mask=[32], mask_rotate=[2, 16]),\n",
       " Data(x=[26, 75], edge_index=[2, 52], edge_attr=[52, 4], z=[26], canonical_smi='COC(CI)(OC)c1ccccc1', mol=<rdkit.Chem.rdchem.Mol object at 0x2a8e5e3b0>, pos=[16], weights=[16], edge_mask=[52], mask_rotate=[6, 26]),\n",
       " Data(x=[36, 75], edge_index=[2, 74], edge_attr=[74, 4], z=[36], canonical_smi='CC1(C)OB(Cc2ccccc2C#N)OC1(C)C', mol=<rdkit.Chem.rdchem.Mol object at 0x2a8be2bd0>, pos=[7], weights=[7], edge_mask=[74], mask_rotate=[7, 36]),\n",
       " Data(x=[27, 75], edge_index=[2, 56], edge_attr=[56, 4], z=[27], canonical_smi='O=C(Cc1ccccc1Cl)c1cccc(I)c1', mol=<rdkit.Chem.rdchem.Mol object at 0x2a8e43ae0>, pos=[7], weights=[7], edge_mask=[56], mask_rotate=[3, 27]),\n",
       " Data(x=[27, 75], edge_index=[2, 56], edge_attr=[56, 4], z=[27], canonical_smi='O=C(Cc1ccccc1Br)c1ccccc1I', mol=<rdkit.Chem.rdchem.Mol object at 0x2a8e6ab80>, pos=[10], weights=[10], edge_mask=[56], mask_rotate=[3, 27]),\n",
       " Data(x=[32, 75], edge_index=[2, 66], edge_attr=[66, 4], z=[32], canonical_smi='O=C(CCc1ccccc1)Nc1cccc(I)c1', mol=<rdkit.Chem.rdchem.Mol object at 0x2a8e5e220>, pos=[45], weights=[45], edge_mask=[66], mask_rotate=[5, 32]),\n",
       " Data(x=[27, 75], edge_index=[2, 54], edge_attr=[54, 4], z=[27], canonical_smi='ICCCCCc1ccccc1', mol=<rdkit.Chem.rdchem.Mol object at 0x2a8e430e0>, pos=[37], weights=[37], edge_mask=[54], mask_rotate=[5, 27]),\n",
       " Data(x=[18, 75], edge_index=[2, 36], edge_attr=[36, 4], z=[18], canonical_smi='ICCc1ccccc1', mol=<rdkit.Chem.rdchem.Mol object at 0x2a8e83810>, pos=[3], weights=[3], edge_mask=[36], mask_rotate=[2, 18]),\n",
       " Data(x=[21, 75], edge_index=[2, 42], edge_attr=[42, 4], z=[21], canonical_smi='COC(=O)c1ccccc1CI', mol=<rdkit.Chem.rdchem.Mol object at 0x2a8e901d0>, pos=[9], weights=[9], edge_mask=[42], mask_rotate=[4, 21]),\n",
       " Data(x=[32, 75], edge_index=[2, 66], edge_attr=[66, 4], z=[32], canonical_smi='CN1CCN(Cc2ccccc2I)CC1', mol=<rdkit.Chem.rdchem.Mol object at 0x2a8e90e00>, pos=[2], weights=[2], edge_mask=[66], mask_rotate=[3, 32]),\n",
       " Data(x=[31, 75], edge_index=[2, 66], edge_attr=[66, 4], z=[31], canonical_smi='Ic1ccccc1CN1CCc2ccccc21', mol=<rdkit.Chem.rdchem.Mol object at 0x2a8e90450>, pos=[5], weights=[5], edge_mask=[66], mask_rotate=[2, 31]),\n",
       " Data(x=[21, 75], edge_index=[2, 42], edge_attr=[42, 4], z=[21], canonical_smi='O=C(CI)OCc1ccccc1', mol=<rdkit.Chem.rdchem.Mol object at 0x2a8e9f360>, pos=[20], weights=[20], edge_mask=[42], mask_rotate=[4, 21]),\n",
       " Data(x=[36, 75], edge_index=[2, 74], edge_attr=[74, 4], z=[36], canonical_smi='O=C(OCc1ccccc1)N1CCCC(CI)C1', mol=<rdkit.Chem.rdchem.Mol object at 0x2a8e9f9f0>, pos=[26], weights=[26], edge_mask=[74], mask_rotate=[5, 36]),\n",
       " Data(x=[19, 75], edge_index=[2, 38], edge_attr=[38, 4], z=[19], canonical_smi='COCc1ccccc1I', mol=<rdkit.Chem.rdchem.Mol object at 0x2a8e83db0>, pos=[4], weights=[4], edge_mask=[38], mask_rotate=[3, 19]),\n",
       " Data(x=[43, 75], edge_index=[2, 92], edge_attr=[92, 4], z=[43], canonical_smi='O=c1[nH]c(=O)n(C2CC3OP(=O)(OCc4ccccc4)OCC3O2)cc1I', mol=<rdkit.Chem.rdchem.Mol object at 0x2a8eacea0>, pos=[31], weights=[31], edge_mask=[92], mask_rotate=[4, 43]),\n",
       " Data(x=[26, 75], edge_index=[2, 54], edge_attr=[54, 4], z=[26], canonical_smi='Brc1ccc(OCc2ccccc2)c(I)c1', mol=<rdkit.Chem.rdchem.Mol object at 0x2a8e90c20>, pos=[7], weights=[7], edge_mask=[54], mask_rotate=[3, 26]),\n",
       " Data(x=[28, 75], edge_index=[2, 58], edge_attr=[58, 4], z=[28], canonical_smi='S=C(SCc1ccccc1)c1ccc(I)cc1', mol=<rdkit.Chem.rdchem.Mol object at 0x2a8eb8810>, pos=[15], weights=[15], edge_mask=[58], mask_rotate=[4, 28]),\n",
       " Data(x=[22, 75], edge_index=[2, 44], edge_attr=[44, 4], z=[22], canonical_smi='ICCSCc1ccccc1', mol=<rdkit.Chem.rdchem.Mol object at 0x2a8ec5360>, pos=[19], weights=[19], edge_mask=[44], mask_rotate=[4, 22]),\n",
       " Data(x=[38, 75], edge_index=[2, 76], edge_attr=[76, 4], z=[38], canonical_smi='CC(C)(C)OC(=O)NC(CI)Cc1ccccc1', mol=<rdkit.Chem.rdchem.Mol object at 0x2a8ed40e0>, pos=[60], weights=[60], edge_mask=[76], mask_rotate=[10, 38]),\n",
       " Data(x=[33, 75], edge_index=[2, 70], edge_attr=[70, 4], z=[33], canonical_smi='Cc1ccccc1-n1c(C)nc2ccc(I)cc2c1=O', mol=<rdkit.Chem.rdchem.Mol object at 0x2a8ee0a90>, pos=[1], weights=[1], edge_mask=[70], mask_rotate=[3, 33]),\n",
       " Data(x=[25, 75], edge_index=[2, 50], edge_attr=[50, 4], z=[25], canonical_smi='Cc1ccccc1NC(=O)OCC#CI', mol=<rdkit.Chem.rdchem.Mol object at 0x2a8ee0bd0>, pos=[11], weights=[11], edge_mask=[50], mask_rotate=[7, 25]),\n",
       " Data(x=[38, 75], edge_index=[2, 80], edge_attr=[80, 4], z=[38], canonical_smi='O=c1c(I)cn(Cc2ccccc2)c(=O)n1Cc1ccccc1', mol=<rdkit.Chem.rdchem.Mol object at 0x2a8ed4590>, pos=[19], weights=[19], edge_mask=[80], mask_rotate=[4, 38]),\n",
       " Data(x=[31, 75], edge_index=[2, 66], edge_attr=[66, 4], z=[31], canonical_smi='c1ccc(C23CCN(CC2)CC3)cc1', mol=<rdkit.Chem.rdchem.Mol object at 0x2a8ef1360>, pos=[3], weights=[3], edge_mask=[66], mask_rotate=[1, 31]),\n",
       " Data(x=[35, 75], edge_index=[2, 74], edge_attr=[74, 4], z=[35], canonical_smi='CCOP1(=O)OC(c2ccccc2)=C(I)c2ccccc21', mol=<rdkit.Chem.rdchem.Mol object at 0x2a8ef19a0>, pos=[9], weights=[9], edge_mask=[74], mask_rotate=[4, 35]),\n",
       " Data(x=[19, 75], edge_index=[2, 38], edge_attr=[38, 4], z=[19], canonical_smi='CC(=S)Nc1ccccc1I', mol=<rdkit.Chem.rdchem.Mol object at 0x2a8ef1e00>, pos=[2], weights=[2], edge_mask=[38], mask_rotate=[3, 19]),\n",
       " Data(x=[24, 75], edge_index=[2, 48], edge_attr=[48, 4], z=[24], canonical_smi='CCNC(=S)Nc1ccccc1I', mol=<rdkit.Chem.rdchem.Mol object at 0x2a8ee09f0>, pos=[12], weights=[12], edge_mask=[48], mask_rotate=[5, 24]),\n",
       " Data(x=[25, 75], edge_index=[2, 50], edge_attr=[50, 4], z=[25], canonical_smi='CC(=O)CCNc1ccccc1I', mol=<rdkit.Chem.rdchem.Mol object at 0x2a8ee0b30>, pos=[14], weights=[14], edge_mask=[50], mask_rotate=[5, 25]),\n",
       " Data(x=[38, 75], edge_index=[2, 78], edge_attr=[78, 4], z=[38], canonical_smi='CC1C(C)(C)P(Nc2ccccc2)C1(C)C', mol=<rdkit.Chem.rdchem.Mol object at 0x2a8efeea0>, pos=[3], weights=[3], edge_mask=[78], mask_rotate=[7, 38]),\n",
       " Data(x=[48, 75], edge_index=[2, 98], edge_attr=[98, 4], z=[48], canonical_smi='CC(C)C1=N[C](Nc2ccccc2)N(P(=O)(N(C)C)N(C)C)[N]1', mol=<rdkit.Chem.rdchem.Mol object at 0x2a8efe220>, pos=[42], weights=[42], edge_mask=[98], mask_rotate=[12, 48]),\n",
       " Data(x=[31, 75], edge_index=[2, 64], edge_attr=[64, 4], z=[31], canonical_smi='CC1(C)COP(=O)(Oc2ccccc2)OC1', mol=<rdkit.Chem.rdchem.Mol object at 0x2a900ba90>, pos=[3], weights=[3], edge_mask=[64], mask_rotate=[4, 31]),\n",
       " Data(x=[27, 75], edge_index=[2, 56], edge_attr=[56, 4], z=[27], canonical_smi='O=[N+]([O-])c1cc(I)c(Oc2ccccc2)c([N+](=O)[O-])c1', mol=<rdkit.Chem.rdchem.Mol object at 0x2a9017590>, pos=[3], weights=[3], edge_mask=[56], mask_rotate=[4, 27]),\n",
       " Data(x=[23, 75], edge_index=[2, 48], edge_attr=[48, 4], z=[23], canonical_smi='Ic1ccccc1Oc1ccccc1', mol=<rdkit.Chem.rdchem.Mol object at 0x2a9017ea0>, pos=[3], weights=[3], edge_mask=[48], mask_rotate=[2, 23]),\n",
       " Data(x=[36, 75], edge_index=[2, 76], edge_attr=[76, 4], z=[36], canonical_smi='c1ccc(P2CCCC2)c(P2CCCC2)c1', mol=<rdkit.Chem.rdchem.Mol object at 0x2a9017a40>, pos=[2], weights=[2], edge_mask=[76], mask_rotate=[2, 36]),\n",
       " Data(x=[31, 75], edge_index=[2, 66], edge_attr=[66, 4], z=[31], canonical_smi='O=[N+]([O-])c1c(I)n(S(=O)(=O)c2ccccc2)c2ccccc12', mol=<rdkit.Chem.rdchem.Mol object at 0x2a9017630>, pos=[4], weights=[4], edge_mask=[66], mask_rotate=[3, 31]),\n",
       " Data(x=[34, 75], edge_index=[2, 68], edge_attr=[68, 4], z=[34], canonical_smi='CCCP(=O)(CCC)Sc1ccccc1', mol=<rdkit.Chem.rdchem.Mol object at 0x2a90239a0>, pos=[155], weights=[155], edge_mask=[68], mask_rotate=[8, 34]),\n",
       " Data(x=[27, 75], edge_index=[2, 56], edge_attr=[56, 4], z=[27], canonical_smi='IC[As](c1ccccc1)c1ccccc1', mol=<rdkit.Chem.rdchem.Mol object at 0x2a9023d10>, pos=[5], weights=[5], edge_mask=[56], mask_rotate=[3, 27]),\n",
       " Data(x=[34, 75], edge_index=[2, 68], edge_attr=[68, 4], z=[34], canonical_smi='CC(=O)N(C(C)C)C(C)c1ccccc1I', mol=<rdkit.Chem.rdchem.Mol object at 0x2a903b7c0>, pos=[18], weights=[18], edge_mask=[68], mask_rotate=[8, 34]),\n",
       " Data(x=[44, 75], edge_index=[2, 90], edge_attr=[90, 4], z=[44], canonical_smi='CCOP(=O)(OCC)C(Nc1ccc(I)cc1)c1ccccc1', mol=<rdkit.Chem.rdchem.Mol object at 0x2a9053860>, pos=[614], weights=[614], edge_mask=[90], mask_rotate=[10, 44]),\n",
       " Data(x=[25, 75], edge_index=[2, 52], edge_attr=[52, 4], z=[25], canonical_smi='IC(I)CC1CC1c1ccccc1', mol=<rdkit.Chem.rdchem.Mol object at 0x2a90ed590>, pos=[7], weights=[7], edge_mask=[52], mask_rotate=[3, 25]),\n",
       " Data(x=[44, 75], edge_index=[2, 94], edge_attr=[94, 4], z=[44], canonical_smi='COC(=O)c1ccccc1C1c2ccc(N)cc2Oc2c1ccc(N)c2I', mol=<rdkit.Chem.rdchem.Mol object at 0x2a90ed680>, pos=[7], weights=[7], edge_mask=[94], mask_rotate=[6, 44]),\n",
       " Data(x=[36, 75], edge_index=[2, 80], edge_attr=[80, 4], z=[36], canonical_smi='c1ccc(P23(Oc4ccccc4S2)Oc2ccccc2S3)cc1', mol=<rdkit.Chem.rdchem.Mol object at 0x2a90f98b0>, pos=[3], weights=[3], edge_mask=[80], mask_rotate=[1, 36]),\n",
       " Data(x=[43, 75], edge_index=[2, 90], edge_attr=[90, 4], z=[43], canonical_smi='COC(=O)[C](I)[P](c1ccccc1)(c1ccccc1)c1ccccc1', mol=<rdkit.Chem.rdchem.Mol object at 0x2a90f9ef0>, pos=[28], weights=[28], edge_mask=[90], mask_rotate=[7, 43]),\n",
       " Data(x=[58, 75], edge_index=[2, 122], edge_attr=[122, 4], z=[58], canonical_smi='Cc1ccc([As](C#C[Si](C)(c2ccccc2)c2ccccc2)c2ccc(C)cc2)cc1', mol=<rdkit.Chem.rdchem.Mol object at 0x2a93200e0>, pos=[9], weights=[9], edge_mask=[122], mask_rotate=[10, 58]),\n",
       " Data(x=[24, 75], edge_index=[2, 48], edge_attr=[48, 4], z=[24], canonical_smi='C[Si](C)(CCl)c1ccccc1', mol=<rdkit.Chem.rdchem.Mol object at 0x2a93202c0>, pos=[5], weights=[5], edge_mask=[48], mask_rotate=[4, 24]),\n",
       " Data(x=[33, 75], edge_index=[2, 68], edge_attr=[68, 4], z=[33], canonical_smi='Cc1nc2c(I)cccc2c(=O)n1CC(=O)NNC(N)=S', mol=<rdkit.Chem.rdchem.Mol object at 0x2a9328590>, pos=[58], weights=[58], edge_mask=[68], mask_rotate=[7, 33]),\n",
       " Data(x=[22, 75], edge_index=[2, 46], edge_attr=[46, 4], z=[22], canonical_smi='COc1ccc2ccccc2c1I', mol=<rdkit.Chem.rdchem.Mol object at 0x2a9328c70>, pos=[1], weights=[1], edge_mask=[46], mask_rotate=[2, 22]),\n",
       " Data(x=[22, 75], edge_index=[2, 46], edge_attr=[46, 4], z=[22], canonical_smi='COc1ccc(I)c2ccccc12', mol=<rdkit.Chem.rdchem.Mol object at 0x2a93283b0>, pos=[2], weights=[2], edge_mask=[46], mask_rotate=[2, 22]),\n",
       " Data(x=[27, 75], edge_index=[2, 56], edge_attr=[56, 4], z=[27], canonical_smi='CCO[P](=O)c1ccc2ccccc2c1', mol=<rdkit.Chem.rdchem.Mol object at 0x2a9346360>, pos=[8], weights=[8], edge_mask=[56], mask_rotate=[4, 27]),\n",
       " Data(x=[18, 75], edge_index=[2, 38], edge_attr=[38, 4], z=[18], canonical_smi='Cn1cc2cccc(I)c2n1', mol=<rdkit.Chem.rdchem.Mol object at 0x2a9337ef0>, pos=[1], weights=[1], edge_mask=[38], mask_rotate=[1, 18]),\n",
       " Data(x=[18, 75], edge_index=[2, 38], edge_attr=[38, 4], z=[18], canonical_smi='Cn1nc(I)c2c(Cl)cccc21', mol=<rdkit.Chem.rdchem.Mol object at 0x2a9337bd0>, pos=[1], weights=[1], edge_mask=[38], mask_rotate=[1, 18]),\n",
       " Data(x=[20, 75], edge_index=[2, 42], edge_attr=[42, 4], z=[20], canonical_smi='N#CCc1c[nH]c2cccc(I)c12', mol=<rdkit.Chem.rdchem.Mol object at 0x2a9346770>, pos=[2], weights=[2], edge_mask=[42], mask_rotate=[2, 20]),\n",
       " Data(x=[35, 75], edge_index=[2, 74], edge_attr=[74, 4], z=[35], canonical_smi='CCC1(CC)c2ccccc2-c2ccc(I)cc21', mol=<rdkit.Chem.rdchem.Mol object at 0x2a93521d0>, pos=[5], weights=[5], edge_mask=[74], mask_rotate=[4, 35]),\n",
       " Data(x=[29, 75], edge_index=[2, 62], edge_attr=[62, 4], z=[29], canonical_smi='O=C(I)OCC1c2ccccc2-c2ccccc21', mol=<rdkit.Chem.rdchem.Mol object at 0x2a93527c0>, pos=[8], weights=[8], edge_mask=[62], mask_rotate=[3, 29]),\n",
       " Data(x=[33, 75], edge_index=[2, 70], edge_attr=[70, 4], z=[33], canonical_smi='O=C1c2ccccc2C(=O)N1CCOc1ccc(I)cc1', mol=<rdkit.Chem.rdchem.Mol object at 0x2a9352f40>, pos=[7], weights=[7], edge_mask=[70], mask_rotate=[4, 33]),\n",
       " Data(x=[31, 75], edge_index=[2, 66], edge_attr=[66, 4], z=[31], canonical_smi='O=C1c2ccccc2C(=O)N1CNc1ccc(I)cc1', mol=<rdkit.Chem.rdchem.Mol object at 0x2a93467c0>, pos=[3], weights=[3], edge_mask=[66], mask_rotate=[3, 31]),\n",
       " Data(x=[34, 75], edge_index=[2, 70], edge_attr=[70, 4], z=[34], canonical_smi='CC(C)(C)C1=Nc2ccccc2[Si]1(C)C', mol=<rdkit.Chem.rdchem.Mol object at 0x2a935a590>, pos=[1], weights=[1], edge_mask=[70], mask_rotate=[6, 34]),\n",
       " Data(x=[23, 75], edge_index=[2, 48], edge_attr=[48, 4], z=[23], canonical_smi='ICC1COc2ccccc2C1', mol=<rdkit.Chem.rdchem.Mol object at 0x2a935ac20>, pos=[3], weights=[3], edge_mask=[48], mask_rotate=[1, 23]),\n",
       " Data(x=[35, 75], edge_index=[2, 74], edge_attr=[74, 4], z=[35], canonical_smi='COc1cc2c(c(OC)c1I)c(=O)c1ccccc1n2C', mol=<rdkit.Chem.rdchem.Mol object at 0x2a935ae00>, pos=[2], weights=[2], edge_mask=[74], mask_rotate=[5, 35]),\n",
       " Data(x=[21, 75], edge_index=[2, 44], edge_attr=[44, 4], z=[21], canonical_smi='O=c1cc(CI)c2ccccc2[nH]1', mol=<rdkit.Chem.rdchem.Mol object at 0x2a935a1d0>, pos=[2], weights=[2], edge_mask=[44], mask_rotate=[1, 21]),\n",
       " Data(x=[51, 75], edge_index=[2, 108], edge_attr=[108, 4], z=[51], canonical_smi='CCOP(=O)(OCC)Oc1cc2c(c3c(C)cc4ccccc4c13)CCC2=O', mol=<rdkit.Chem.rdchem.Mol object at 0x2a9368270>, pos=[152], weights=[152], edge_mask=[108], mask_rotate=[9, 51]),\n",
       " Data(x=[15, 75], edge_index=[2, 30], edge_attr=[30, 4], z=[15], canonical_smi='N#Cc1ccc([N+](=O)[O-])c(I)c1', mol=<rdkit.Chem.rdchem.Mol object at 0x2a93686d0>, pos=[1], weights=[1], edge_mask=[30], mask_rotate=[2, 15]),\n",
       " Data(x=[15, 75], edge_index=[2, 30], edge_attr=[30, 4], z=[15], canonical_smi='N#Cc1cc([N+](=O)[O-])ccc1I', mol=<rdkit.Chem.rdchem.Mol object at 0x2a9328f40>, pos=[1], weights=[1], edge_mask=[30], mask_rotate=[2, 15]),\n",
       " Data(x=[14, 75], edge_index=[2, 28], edge_attr=[28, 4], z=[14], canonical_smi='O=[N+]([O-])c1ccc(I)c(F)c1', mol=<rdkit.Chem.rdchem.Mol object at 0x2a938f680>, pos=[1], weights=[1], edge_mask=[28], mask_rotate=[1, 14]),\n",
       " Data(x=[19, 75], edge_index=[2, 38], edge_attr=[38, 4], z=[19], canonical_smi='O=C(CI)c1ccc([N+](=O)[O-])cc1', mol=<rdkit.Chem.rdchem.Mol object at 0x2a93a3040>, pos=[3], weights=[3], edge_mask=[38], mask_rotate=[3, 19]),\n",
       " Data(x=[32, 75], edge_index=[2, 66], edge_attr=[66, 4], z=[32], canonical_smi='CN(CCOC(=O)CI)c1ccc([N+](=O)[O-])c2nonc12', mol=<rdkit.Chem.rdchem.Mol object at 0x2a93681d0>, pos=[96], weights=[96], edge_mask=[66], mask_rotate=[8, 32]),\n",
       " Data(x=[26, 75], edge_index=[2, 54], edge_attr=[54, 4], z=[26], canonical_smi='CCOC(=O)c1nc2cccc([N+](=O)[O-])n2c1I', mol=<rdkit.Chem.rdchem.Mol object at 0x2a9337a90>, pos=[7], weights=[7], edge_mask=[54], mask_rotate=[5, 26]),\n",
       " Data(x=[22, 75], edge_index=[2, 44], edge_attr=[44, 4], z=[22], canonical_smi='CS(C)([O])[N]c1ccc(I)cc1', mol=<rdkit.Chem.rdchem.Mol object at 0x2a93b7860>, pos=[3], weights=[3], edge_mask=[44], mask_rotate=[4, 22]),\n",
       " Data(x=[34, 75], edge_index=[2, 68], edge_attr=[68, 4], z=[34], canonical_smi='CO[Si](C)(C)c1ccc([SiH](C)C)cc1', mol=<rdkit.Chem.rdchem.Mol object at 0x2a93b7e00>, pos=[14], weights=[14], edge_mask=[68], mask_rotate=[8, 34]),\n",
       " Data(x=[18, 75], edge_index=[2, 36], edge_attr=[36, 4], z=[18], canonical_smi='Cl[SiH](Cl)c1ccc([SiH](Cl)Cl)cc1', mol=<rdkit.Chem.rdchem.Mol object at 0x2a93a3770>, pos=[5], weights=[5], edge_mask=[36], mask_rotate=[2, 18]),\n",
       " Data(x=[36, 75], edge_index=[2, 78], edge_attr=[78, 4], z=[36], canonical_smi='O=C(CI)NCc1ccc2ccc3cccc4ccc1c2c34', mol=<rdkit.Chem.rdchem.Mol object at 0x2a93c89a0>, pos=[28], weights=[28], edge_mask=[78], mask_rotate=[4, 36]),\n",
       " Data(x=[29, 75], edge_index=[2, 62], edge_attr=[62, 4], z=[29], canonical_smi='CC1(C)c2cc(Br)ccc2-c2ccc(I)cc21', mol=<rdkit.Chem.rdchem.Mol object at 0x2a93d3180>, pos=[1], weights=[1], edge_mask=[62], mask_rotate=[2, 29]),\n",
       " Data(x=[41, 75], edge_index=[2, 86], edge_attr=[86, 4], z=[41], canonical_smi='CCCC1(CCC)c2cc(I)ccc2-c2ccc(I)cc21', mol=<rdkit.Chem.rdchem.Mol object at 0x2a93d3c20>, pos=[14], weights=[14], edge_mask=[86], mask_rotate=[6, 41]),\n",
       " Data(x=[36, 75], edge_index=[2, 74], edge_attr=[74, 4], z=[36], canonical_smi='CC(C)(C)OC(=O)N1CCc2cc(I)ccc2C1', mol=<rdkit.Chem.rdchem.Mol object at 0x2a93e00e0>, pos=[2], weights=[2], edge_mask=[74], mask_rotate=[6, 36]),\n",
       " Data(x=[25, 75], edge_index=[2, 54], edge_attr=[54, 4], z=[25], canonical_smi='O=[N+]([O-])c1ccc2c(c1)Cc1cc(I)ccc1-2', mol=<rdkit.Chem.rdchem.Mol object at 0x2a93e0310>, pos=[1], weights=[1], edge_mask=[54], mask_rotate=[1, 25]),\n",
       " Data(x=[32, 75], edge_index=[2, 66], edge_attr=[66, 4], z=[32], canonical_smi='CC(C)(C)OC(=O)n1nc(I)c2ccc([N+](=O)[O-])cc21', mol=<rdkit.Chem.rdchem.Mol object at 0x2a93e0770>, pos=[2], weights=[2], edge_mask=[66], mask_rotate=[7, 32]),\n",
       " Data(x=[18, 75], edge_index=[2, 38], edge_attr=[38, 4], z=[18], canonical_smi='O=c1[nH][nH]c2cc([N+](=O)[O-])cc(I)c12', mol=<rdkit.Chem.rdchem.Mol object at 0x2a93e0c20>, pos=[1], weights=[1], edge_mask=[38], mask_rotate=[1, 18]),\n",
       " Data(x=[23, 75], edge_index=[2, 48], edge_attr=[48, 4], z=[23], canonical_smi='COC(=O)c1cc([N+](=O)[O-])cc2n[nH]c(I)c12', mol=<rdkit.Chem.rdchem.Mol object at 0x2a93e0e00>, pos=[2], weights=[2], edge_mask=[48], mask_rotate=[4, 23]),\n",
       " Data(x=[17, 75], edge_index=[2, 36], edge_attr=[36, 4], z=[17], canonical_smi='O=[N+]([O-])c1cc(Cl)c2c(I)[nH]nc2c1', mol=<rdkit.Chem.rdchem.Mol object at 0x2a93e0450>, pos=[1], weights=[1], edge_mask=[36], mask_rotate=[1, 17]),\n",
       " Data(x=[37, 75], edge_index=[2, 74], edge_attr=[74, 4], z=[37], canonical_smi='CCCOP(=O)(Cc1ccc([N+](=O)[O-])o1)OCCC', mol=<rdkit.Chem.rdchem.Mol object at 0x2a93d38b0>, pos=[1256], weights=[1256], edge_mask=[74], mask_rotate=[11, 37]),\n",
       " Data(x=[35, 75], edge_index=[2, 74], edge_attr=[74, 4], z=[35], canonical_smi='O=C(Nc1ccccc1-c1ncc(Cl)cc1Cl)c1ccccc1I', mol=<rdkit.Chem.rdchem.Mol object at 0x2a93ed4f0>, pos=[13], weights=[13], edge_mask=[74], mask_rotate=[4, 35]),\n",
       " Data(x=[17, 75], edge_index=[2, 36], edge_attr=[36, 4], z=[17], canonical_smi='Ic1cnc(-c2cccnc2)s1', mol=<rdkit.Chem.rdchem.Mol object at 0x2a98199a0>, pos=[2], weights=[2], edge_mask=[36], mask_rotate=[1, 17]),\n",
       " Data(x=[25, 75], edge_index=[2, 52], edge_attr=[52, 4], z=[25], canonical_smi='Cc1ccc(C)n1-c1ccc(I)cn1', mol=<rdkit.Chem.rdchem.Mol object at 0x2a9801d60>, pos=[2], weights=[2], edge_mask=[52], mask_rotate=[3, 25]),\n",
       " Data(x=[25, 75], edge_index=[2, 52], edge_attr=[52, 4], z=[25], canonical_smi='O=c1ncc(I)cn1COc1ccc(Cl)cc1', mol=<rdkit.Chem.rdchem.Mol object at 0x2a9819360>, pos=[7], weights=[7], edge_mask=[52], mask_rotate=[3, 25]),\n",
       " Data(x=[14, 75], edge_index=[2, 28], edge_attr=[28, 4], z=[14], canonical_smi='FC(F)(F)c1cnc(Br)c(I)c1', mol=<rdkit.Chem.rdchem.Mol object at 0x2a985f4f0>, pos=[1], weights=[1], edge_mask=[28], mask_rotate=[1, 14]),\n",
       " Data(x=[16, 75], edge_index=[2, 34], edge_attr=[34, 4], z=[16], canonical_smi='N#Cc1nccc2[nH]cc(I)c12', mol=<rdkit.Chem.rdchem.Mol object at 0x2a985fdb0>, pos=[1], weights=[1], edge_mask=[34], mask_rotate=[1, 16]),\n",
       " Data(x=[20, 75], edge_index=[2, 42], edge_attr=[42, 4], z=[20], canonical_smi='O=C(c1cccc(I)c1)c1ncco1', mol=<rdkit.Chem.rdchem.Mol object at 0x2a985f900>, pos=[6], weights=[6], edge_mask=[42], mask_rotate=[2, 20]),\n",
       " Data(x=[14, 75], edge_index=[2, 28], edge_attr=[28, 4], z=[14], canonical_smi='Cc1ccc(I)cn1', mol=<rdkit.Chem.rdchem.Mol object at 0x2a985fa40>, pos=[1], weights=[1], edge_mask=[28], mask_rotate=[1, 14]),\n",
       " Data(x=[12, 75], edge_index=[2, 24], edge_attr=[24, 4], z=[12], canonical_smi='N#Cc1cnc(Cl)cc1I', mol=<rdkit.Chem.rdchem.Mol object at 0x2a986c7c0>, pos=[1], weights=[1], edge_mask=[24], mask_rotate=[1, 12]),\n",
       " Data(x=[28, 75], edge_index=[2, 56], edge_attr=[56, 4], z=[28], canonical_smi='CCCCCC#Cc1cccnc1I', mol=<rdkit.Chem.rdchem.Mol object at 0x2a986ca90>, pos=[10], weights=[10], edge_mask=[56], mask_rotate=[7, 28]),\n",
       " Data(x=[20, 75], edge_index=[2, 40], edge_attr=[40, 4], z=[20], canonical_smi='CCOC(=O)c1cccnc1I', mol=<rdkit.Chem.rdchem.Mol object at 0x2a986c4a0>, pos=[7], weights=[7], edge_mask=[40], mask_rotate=[4, 20]),\n",
       " Data(x=[14, 75], edge_index=[2, 28], edge_attr=[28, 4], z=[14], canonical_smi='Cc1cc(F)cnc1I', mol=<rdkit.Chem.rdchem.Mol object at 0x2a986c8b0>, pos=[1], weights=[1], edge_mask=[28], mask_rotate=[1, 14]),\n",
       " Data(x=[12, 75], edge_index=[2, 24], edge_attr=[24, 4], z=[12], canonical_smi='Cn1cnc(I)c1', mol=<rdkit.Chem.rdchem.Mol object at 0x2a98775e0>, pos=[1], weights=[1], edge_mask=[24], mask_rotate=[1, 12]),\n",
       " Data(x=[32, 75], edge_index=[2, 64], edge_attr=[64, 4], z=[32], canonical_smi='COc1cc(NC(=O)OC(C)(C)C)ncc1I', mol=<rdkit.Chem.rdchem.Mol object at 0x2a9877c20>, pos=[6], weights=[6], edge_mask=[64], mask_rotate=[9, 32]),\n",
       " Data(x=[15, 75], edge_index=[2, 30], edge_attr=[30, 4], z=[15], canonical_smi='NNc1nccc(Br)c1I', mol=<rdkit.Chem.rdchem.Mol object at 0x2a9877d60>, pos=[2], weights=[2], edge_mask=[30], mask_rotate=[2, 15]),\n",
       " Data(x=[26, 75], edge_index=[2, 56], edge_attr=[56, 4], z=[26], canonical_smi='Nc1nccn2c(C3CCC3)nc(I)c12', mol=<rdkit.Chem.rdchem.Mol object at 0x2a9877e00>, pos=[3], weights=[3], edge_mask=[56], mask_rotate=[2, 26]),\n",
       " Data(x=[42, 75], edge_index=[2, 88], edge_attr=[88, 4], z=[42], canonical_smi='COc1cc2ncnc(N3CCC(CI)CC3)c2cc1OC', mol=<rdkit.Chem.rdchem.Mol object at 0x2a986c5e0>, pos=[11], weights=[11], edge_mask=[88], mask_rotate=[6, 42]),\n",
       " Data(x=[40, 75], edge_index=[2, 84], edge_attr=[84, 4], z=[40], canonical_smi='O=C(Nc1cccc(I)c1)c1ccnc(N2CCCCC2)c1', mol=<rdkit.Chem.rdchem.Mol object at 0x2a9884220>, pos=[12], weights=[12], edge_mask=[84], mask_rotate=[4, 40]),\n",
       " Data(x=[19, 75], edge_index=[2, 38], edge_attr=[38, 4], z=[19], canonical_smi='COc1nccc(I)c1OC', mol=<rdkit.Chem.rdchem.Mol object at 0x2a988f4a0>, pos=[1], weights=[1], edge_mask=[38], mask_rotate=[4, 19]),\n",
       " Data(x=[19, 75], edge_index=[2, 40], edge_attr=[40, 4], z=[19], canonical_smi='Ic1cncnc1NC1CC1', mol=<rdkit.Chem.rdchem.Mol object at 0x2a988f8b0>, pos=[3], weights=[3], edge_mask=[40], mask_rotate=[2, 19]),\n",
       " Data(x=[13, 75], edge_index=[2, 26], edge_attr=[26, 4], z=[13], canonical_smi='Nc1ccncc1I', mol=<rdkit.Chem.rdchem.Mol object at 0x2a988f4f0>, pos=[1], weights=[1], edge_mask=[26], mask_rotate=[1, 13]),\n",
       " Data(x=[23, 75], edge_index=[2, 48], edge_attr=[48, 4], z=[23], canonical_smi='Ic1cncnc1N1CCOCC1', mol=<rdkit.Chem.rdchem.Mol object at 0x2a989c0e0>, pos=[2], weights=[2], edge_mask=[48], mask_rotate=[1, 23]),\n",
       " Data(x=[14, 75], edge_index=[2, 28], edge_attr=[28, 4], z=[14], canonical_smi='Cn1cnc([N+](=O)[O-])c1I', mol=<rdkit.Chem.rdchem.Mol object at 0x2a988fb80>, pos=[1], weights=[1], edge_mask=[28], mask_rotate=[2, 14]),\n",
       " Data(x=[13, 75], edge_index=[2, 26], edge_attr=[26, 4], z=[13], canonical_smi='O=[N+]([O-])c1cc(I)ccn1', mol=<rdkit.Chem.rdchem.Mol object at 0x2a988fd10>, pos=[1], weights=[1], edge_mask=[26], mask_rotate=[1, 13]),\n",
       " Data(x=[25, 75], edge_index=[2, 52], edge_attr=[52, 4], z=[25], canonical_smi='CC(C#N)Oc1c(I)cc(Cl)c2cccnc12', mol=<rdkit.Chem.rdchem.Mol object at 0x2a9884540>, pos=[2], weights=[2], edge_mask=[52], mask_rotate=[4, 25]),\n",
       " Data(x=[54, 75], edge_index=[2, 112], edge_attr=[112, 4], z=[54], canonical_smi='CC(C)(C)[Si](C)(C)OCC1CCN(Cc2cc3ncc(Br)cc3o2)C1', mol=<rdkit.Chem.rdchem.Mol object at 0x2a989c590>, pos=[93], weights=[93], edge_mask=[112], mask_rotate=[11, 54]),\n",
       " Data(x=[21, 75], edge_index=[2, 44], edge_attr=[44, 4], z=[21], canonical_smi='COc1ccc2cc(I)cnc2c1', mol=<rdkit.Chem.rdchem.Mol object at 0x2a98c3680>, pos=[2], weights=[2], edge_mask=[44], mask_rotate=[2, 21]),\n",
       " Data(x=[20, 75], edge_index=[2, 42], edge_attr=[42, 4], z=[20], canonical_smi='ICc1ccc2ncccc2c1', mol=<rdkit.Chem.rdchem.Mol object at 0x2a989c130>, pos=[2], weights=[2], edge_mask=[42], mask_rotate=[1, 20]),\n",
       " Data(x=[21, 75], edge_index=[2, 44], edge_attr=[44, 4], z=[21], canonical_smi='COc1ccc2ncc(I)cc2c1', mol=<rdkit.Chem.rdchem.Mol object at 0x2a989c040>, pos=[2], weights=[2], edge_mask=[44], mask_rotate=[2, 21]),\n",
       " Data(x=[28, 75], edge_index=[2, 60], edge_attr=[60, 4], z=[28], canonical_smi='O=S(=O)(c1ccccc1)n1c(I)cc2c(Cl)ccnc21', mol=<rdkit.Chem.rdchem.Mol object at 0x2a98c33b0>, pos=[2], weights=[2], edge_mask=[60], mask_rotate=[2, 28]),\n",
       " Data(x=[45, 75], edge_index=[2, 92], edge_attr=[92, 4], z=[45], canonical_smi='CC(C)[Si](C(C)C)(C(C)C)n1ccc2c(Cl)c(Cl)cnc21', mol=<rdkit.Chem.rdchem.Mol object at 0x2a98c3b80>, pos=[20], weights=[20], edge_mask=[92], mask_rotate=[10, 45]),\n",
       " Data(x=[31, 75], edge_index=[2, 66], edge_attr=[66, 4], z=[31], canonical_smi='Cc1ccc(S(=O)(=O)n2cc(I)c3cc(Cl)cnc32)cc1', mol=<rdkit.Chem.rdchem.Mol object at 0x2a985fbd0>, pos=[5], weights=[5], edge_mask=[66], mask_rotate=[3, 31]),\n",
       " Data(x=[32, 75], edge_index=[2, 66], edge_attr=[66, 4], z=[32], canonical_smi='CC(C)(C)OC(=O)Nc1cnc2[nH]cc(I)c2c1', mol=<rdkit.Chem.rdchem.Mol object at 0x2a985f270>, pos=[6], weights=[6], edge_mask=[66], mask_rotate=[7, 32]),\n",
       " Data(x=[45, 75], edge_index=[2, 92], edge_attr=[92, 4], z=[45], canonical_smi='CC(C)[Si](C(C)C)(C(C)C)n1cc(I)c2cccnc21', mol=<rdkit.Chem.rdchem.Mol object at 0x2a98d0a90>, pos=[24], weights=[24], edge_mask=[92], mask_rotate=[10, 45]),\n",
       " Data(x=[21, 75], edge_index=[2, 44], edge_attr=[44, 4], z=[21], canonical_smi='CCn1cnc2c1[N]C(I)=N[C]2N', mol=<rdkit.Chem.rdchem.Mol object at 0x2a98df2c0>, pos=[2], weights=[2], edge_mask=[44], mask_rotate=[3, 21]),\n",
       " Data(x=[37, 75], edge_index=[2, 80], edge_attr=[80, 4], z=[37], canonical_smi='O=C(Nc1cccc(-c2nc3ncccc3o2)c1)c1cc(Br)ccc1I', mol=<rdkit.Chem.rdchem.Mol object at 0x2a98dfa90>, pos=[15], weights=[15], edge_mask=[80], mask_rotate=[4, 37]),\n",
       " Data(x=[19, 75], edge_index=[2, 40], edge_attr=[40, 4], z=[19], canonical_smi='Ic1ccnn1CC1CC1', mol=<rdkit.Chem.rdchem.Mol object at 0x2a98ea040>, pos=[3], weights=[3], edge_mask=[40], mask_rotate=[2, 19]),\n",
       " Data(x=[15, 75], edge_index=[2, 30], edge_attr=[30, 4], z=[15], canonical_smi='CCc1[nH]ncc1I', mol=<rdkit.Chem.rdchem.Mol object at 0x2a98d0180>, pos=[1], weights=[1], edge_mask=[30], mask_rotate=[2, 15]),\n",
       " Data(x=[18, 75], edge_index=[2, 38], edge_attr=[38, 4], z=[18], canonical_smi='Ic1ccc(-c2ccno2)cc1', mol=<rdkit.Chem.rdchem.Mol object at 0x2a98ea7c0>, pos=[2], weights=[2], edge_mask=[38], mask_rotate=[1, 18]),\n",
       " Data(x=[25, 75], edge_index=[2, 52], edge_attr=[52, 4], z=[25], canonical_smi='Cc1oncc1C(=O)Nc1cccc(I)c1', mol=<rdkit.Chem.rdchem.Mol object at 0x2a98ead10>, pos=[8], weights=[8], edge_mask=[52], mask_rotate=[4, 25]),\n",
       " Data(x=[34, 75], edge_index=[2, 72], edge_attr=[72, 4], z=[34], canonical_smi='Cc1sccc1P(c1ccsc1C)c1ccsc1C', mol=<rdkit.Chem.rdchem.Mol object at 0x2a98df400>, pos=[5], weights=[5], edge_mask=[72], mask_rotate=[6, 34]),\n",
       " Data(x=[33, 75], edge_index=[2, 66], edge_attr=[66, 4], z=[33], canonical_smi='CC(C)(C)[Si](C)(C)OCc1csc(I)n1', mol=<rdkit.Chem.rdchem.Mol object at 0x2a98df590>, pos=[11], weights=[11], edge_mask=[66], mask_rotate=[9, 33]),\n",
       " Data(x=[33, 75], edge_index=[2, 68], edge_attr=[68, 4], z=[33], canonical_smi='CCN(CC)P(=O)(c1cccs1)c1cccs1', mol=<rdkit.Chem.rdchem.Mol object at 0x2a98f8860>, pos=[44], weights=[44], edge_mask=[68], mask_rotate=[7, 33]),\n",
       " Data(x=[43, 75], edge_index=[2, 86], edge_attr=[86, 4], z=[43], canonical_smi='CC(C)(C)OOC(OOC(C)(C)C)[SiH2]c1cccs1', mol=<rdkit.Chem.rdchem.Mol object at 0x2a9a02400>, pos=[75], weights=[75], edge_mask=[86], mask_rotate=[14, 43]),\n",
       " Data(x=[5, 75], edge_index=[2, 8], edge_attr=[8, 4], z=[5], canonical_smi='[O][C][Si][C][O]', mol=<rdkit.Chem.rdchem.Mol object at 0x2a9a02900>, pos=[1], weights=[1], edge_mask=[8], mask_rotate=[2, 5])]"
      ]
     },
     "execution_count": 7,
     "metadata": {},
     "output_type": "execute_result"
    }
   ],
   "source": [
    "unique_smiles_count = df['smiles'].nunique()\n",
    "\n",
    "print(f'唯一的 smiles 数量: {unique_smiles_count}')"
   ]
  },
  {
   "cell_type": "code",
   "execution_count": null,
   "metadata": {},
   "outputs": [],
   "source": [
    "df.head(1)"
   ]
  },
  {
   "cell_type": "code",
   "execution_count": 1,
   "metadata": {},
   "outputs": [
    {
     "name": "stderr",
     "output_type": "stream",
     "text": [
      "/Users/zhangyici/mambaforge/envs/Ye/lib/python3.9/site-packages/torch_cluster/nearest.py:3: UserWarning: A NumPy version >=1.22.4 and <2.3.0 is required for this version of SciPy (detected version 1.21.5)\n",
      "  import scipy.cluster\n"
     ]
    }
   ],
   "source": [
    "from rdkit import Chem\n",
    "import pandas as pd\n",
    "import os\n",
    "import pickle\n",
    "import tqdm\n",
    "import hashlib\n",
    "import random\n",
    "import torch\n",
    "from torch_geometric.data import Data\n",
    "from rdkit import Chem\n",
    "from rdkit.Chem.rdchem import HybridizationType, BondType as BT, ChiralType\n",
    "import torch.nn.functional as F"
   ]
  },
  {
   "cell_type": "code",
   "execution_count": 2,
   "metadata": {},
   "outputs": [],
   "source": [
    "df = pd.read_pickle('dataset/solvent/data_c6h14.pkl')"
   ]
  },
  {
   "cell_type": "code",
   "execution_count": 3,
   "metadata": {},
   "outputs": [
    {
     "data": {
      "text/plain": [
       "Index(['mol_id', 'conf_id', 'smiles', 'sdf', 'solvent', 'dE(gas)', 'dG(gas)',\n",
       "       'dG(solution)', 'E(gas)', 'G(gas)', 'G(solution)', 'G(solvation)',\n",
       "       'G(RRHO)'],\n",
       "      dtype='object')"
      ]
     },
     "execution_count": 3,
     "metadata": {},
     "output_type": "execute_result"
    }
   ],
   "source": [
    "df.columns"
   ]
  },
  {
   "cell_type": "code",
   "execution_count": 4,
   "metadata": {},
   "outputs": [
    {
     "name": "stdout",
     "output_type": "stream",
     "text": [
      "唯一的 smiles 数量: 1054\n"
     ]
    }
   ],
   "source": [
    "unique_smiles_count = df['smiles'].nunique()\n",
    "\n",
    "print(f'唯一的 smiles 数量: {unique_smiles_count}')"
   ]
  },
  {
   "cell_type": "code",
   "execution_count": 5,
   "metadata": {},
   "outputs": [
    {
     "data": {
      "text/html": [
       "<div>\n",
       "<style scoped>\n",
       "    .dataframe tbody tr th:only-of-type {\n",
       "        vertical-align: middle;\n",
       "    }\n",
       "\n",
       "    .dataframe tbody tr th {\n",
       "        vertical-align: top;\n",
       "    }\n",
       "\n",
       "    .dataframe thead th {\n",
       "        text-align: right;\n",
       "    }\n",
       "</style>\n",
       "<table border=\"1\" class=\"dataframe\">\n",
       "  <thead>\n",
       "    <tr style=\"text-align: right;\">\n",
       "      <th></th>\n",
       "      <th>mol_id</th>\n",
       "      <th>conf_id</th>\n",
       "      <th>smiles</th>\n",
       "      <th>sdf</th>\n",
       "      <th>solvent</th>\n",
       "      <th>dE(gas)</th>\n",
       "      <th>dG(gas)</th>\n",
       "      <th>dG(solution)</th>\n",
       "      <th>E(gas)</th>\n",
       "      <th>G(gas)</th>\n",
       "      <th>G(solution)</th>\n",
       "      <th>G(solvation)</th>\n",
       "      <th>G(RRHO)</th>\n",
       "    </tr>\n",
       "  </thead>\n",
       "  <tbody>\n",
       "    <tr>\n",
       "      <th>30</th>\n",
       "      <td>ct_AQ8VAT0LPGNN</td>\n",
       "      <td>conf00000</td>\n",
       "      <td>II</td>\n",
       "      <td>\\n     RDKit          3D\\n\\n  2  1  0  0  0  0...</td>\n",
       "      <td>n-Hexan</td>\n",
       "      <td>0.0</td>\n",
       "      <td>0.0</td>\n",
       "      <td>0.0</td>\n",
       "      <td>-1562738.991</td>\n",
       "      <td>-1562738.991</td>\n",
       "      <td>-1562743.335</td>\n",
       "      <td>-4.344</td>\n",
       "      <td>0.0</td>\n",
       "    </tr>\n",
       "  </tbody>\n",
       "</table>\n",
       "</div>"
      ],
      "text/plain": [
       "             mol_id    conf_id smiles  \\\n",
       "30  ct_AQ8VAT0LPGNN  conf00000     II   \n",
       "\n",
       "                                                  sdf  solvent  dE(gas)  \\\n",
       "30  \\n     RDKit          3D\\n\\n  2  1  0  0  0  0...  n-Hexan      0.0   \n",
       "\n",
       "    dG(gas)  dG(solution)       E(gas)       G(gas)  G(solution)  \\\n",
       "30      0.0           0.0 -1562738.991 -1562738.991 -1562743.335   \n",
       "\n",
       "    G(solvation)  G(RRHO)  \n",
       "30        -4.344      0.0  "
      ]
     },
     "execution_count": 5,
     "metadata": {},
     "output_type": "execute_result"
    }
   ],
   "source": [
    "df.head(1)"
   ]
  },
  {
   "cell_type": "code",
   "execution_count": 6,
   "metadata": {},
   "outputs": [],
   "source": [
    "grouped = df.groupby(\"smiles\")"
   ]
  },
  {
   "cell_type": "code",
   "execution_count": 7,
   "metadata": {},
   "outputs": [],
   "source": [
    "output_dir = \"hexane_groupby\"\n",
    "os.makedirs(output_dir, exist_ok=True)"
   ]
  },
  {
   "cell_type": "code",
   "execution_count": 8,
   "metadata": {},
   "outputs": [],
   "source": [
    "MAX_FILENAME_LENGTH = 150\n",
    "\n",
    "def truncate_filename(smiles, max_length=MAX_FILENAME_LENGTH):\n",
    "    if len(smiles) > max_length:\n",
    "        # Truncate the SMILES and append a hash to preserve uniqueness\n",
    "        hash_suffix = hashlib.md5(smiles.encode()).hexdigest()[:8]\n",
    "        truncated_smiles = smiles[:max_length - len(hash_suffix) - 1]  # Reserve space for the hash and '_'\n",
    "        return f\"{truncated_smiles}_{hash_suffix}\"\n",
    "    return smiles"
   ]
  },
  {
   "cell_type": "code",
   "execution_count": 9,
   "metadata": {},
   "outputs": [
    {
     "name": "stderr",
     "output_type": "stream",
     "text": [
      "  3%|▎         | 34/1054 [00:00<00:03, 332.14it/s]"
     ]
    },
    {
     "name": "stdout",
     "output_type": "stream",
     "text": [
      "Saved mol_dic for SMILES=BrP(Br)P(Br)Br to hexane_groupby/BrP(Br)P(Br)Br.pickle\n",
      "Saved mol_dic for SMILES=Br[Si](Br)(Br)I to hexane_groupby/Br[Si](Br)(Br)I.pickle\n",
      "Saved mol_dic for SMILES=ClB1OB(Cl)OB(Cl)O1 to hexane_groupby/ClB1OB(Cl)OB(Cl)O1.pickle\n",
      "Saved mol_dic for SMILES=Cl[Si](Cl)(Cl)I to hexane_groupby/Cl[Si](Cl)(Cl)I.pickle\n",
      "Saved mol_dic for SMILES=Cl[Si](Cl)(Cl)O[Si](Cl)(Cl)O[Si](Cl)(Cl)O[Si](Cl)(Cl)Cl to hexane_groupby/Cl[Si](Cl)(Cl)O[Si](Cl)(Cl)O[Si](Cl)(Cl)O[Si](Cl)(Cl)Cl.pickle\n",
      "Saved mol_dic for SMILES=FB(Cl)Cl to hexane_groupby/FB(Cl)Cl.pickle\n",
      "Saved mol_dic for SMILES=FB1SB(F)S1 to hexane_groupby/FB1SB(F)S1.pickle\n",
      "Saved mol_dic for SMILES=FC(F)(F)C(F)(F)C(F)(F)[C@@](F)(I)C(F)(F)F to hexane_groupby/FC(F)(F)C(F)(F)C(F)(F)[C@@](F)(I)C(F)(F)F.pickle\n",
      "Saved mol_dic for SMILES=FC(F)(F)[Si]1(C(F)(F)F)OO1 to hexane_groupby/FC(F)(F)[Si]1(C(F)(F)F)OO1.pickle\n",
      "Saved mol_dic for SMILES=FC1(F)C(Cl)=C(I)C(F)(F)C1(F)F to hexane_groupby/FC1(F)C(Cl)=C(I)C(F)(F)C1(F)F.pickle\n",
      "Saved mol_dic for SMILES=FC1(F)C(F)(F)C(F)(F)C(F)(I)C(F)(F)C1(F)F to hexane_groupby/FC1(F)C(F)(F)C(F)(F)C(F)(I)C(F)(F)C1(F)F.pickle\n",
      "Saved mol_dic for SMILES=FP(F)N=C=S to hexane_groupby/FP(F)N=C=S.pickle\n",
      "Saved mol_dic for SMILES=II to hexane_groupby/II.pickle\n",
      "Saved mol_dic for SMILES=N#CB(C#N)C#N to hexane_groupby/N#CB(C#N)C#N.pickle\n",
      "Saved mol_dic for SMILES=N#Cc1c(Cl)c(Cl)c(I)c(C#N)c1Cl to hexane_groupby/N#Cc1c(Cl)c(Cl)c(I)c(C#N)c1Cl.pickle\n",
      "Saved mol_dic for SMILES=O=C1O[Si]2(O1)OC(=O)O2 to hexane_groupby/O=C1O[Si]2(O1)OC(=O)O2.pickle\n",
      "Saved mol_dic for SMILES=O=[N+]([O-])c1c(F)c(I)c(F)c(I)c1F to hexane_groupby/O=[N+]([O-])c1c(F)c(I)c(F)c(I)c1F.pickle\n",
      "Saved mol_dic for SMILES=[B]C([B])([B])B(F)F to hexane_groupby/[B]C([B])([B])B(F)F.pickle\n",
      "Saved mol_dic for SMILES=[Cl].[Cl].[H].[H]I.[H]c1[c]c([H])c([H])c([N+](=O)[O-])c1[H] to hexane_groupby/[Cl].[Cl].[H].[H]I.[H]c1[c]c([H])c([H])c([N+](=O)[O-])c1[H].pickle\n",
      "Saved mol_dic for SMILES=[H].[H]C([H])([H])C([H])(C([H])([H])[H])[Si](C#[C])(C([H])(C([H])([H])[H])C([H])([H])[H])C([H])(C([H])([H])[H])C([H])([H])[H].[H]I.[H]c1[c]c(C([O])=O)c([H])c([H])c1[H] to hexane_groupby/[H].[H]C([H])([H])C([H])(C([H])([H])[H])[Si](C#[C])(C([H])(C([H])([H])[H])C([H])([H])[H])C([H])(C([H])([H])[H])C([H])([H])[H].[H]I.[H]c1[c]c(_ba5f8717.pickle\n",
      "Saved mol_dic for SMILES=[H]/C(=C(/C#N)C(=O)OC([H])([H])C([H])([H])[H])c1c([H])c([H])c(I)c([H])c1[H] to hexane_groupby/[H]_C(=C(_C#N)C(=O)OC([H])([H])C([H])([H])[H])c1c([H])c([H])c(I)c([H])c1[H].pickle\n",
      "Saved mol_dic for SMILES=[H]/C(=C(/Cl)C(=C(C([H])([H])[H])C([H])([H])[H])C([H])([H])[H])P(=O)(Cl)Cl to hexane_groupby/[H]_C(=C(_Cl)C(=C(C([H])([H])[H])C([H])([H])[H])C([H])([H])[H])P(=O)(Cl)Cl.pickle\n",
      "Saved mol_dic for SMILES=[H]/C(=C(/I)C(=O)OC([H])([H])[H])c1c([H])c([H])c([H])c([H])c1[H] to hexane_groupby/[H]_C(=C(_I)C(=O)OC([H])([H])[H])c1c([H])c([H])c([H])c([H])c1[H].pickle\n",
      "Saved mol_dic for SMILES=[H]/C(=C(/I)P(=O)(OC([H])([H])C([H])([H])[H])OC([H])([H])C([H])([H])[H])c1c([H])c([H])c([H])c([H])c1[H] to hexane_groupby/[H]_C(=C(_I)P(=O)(OC([H])([H])C([H])([H])[H])OC([H])([H])C([H])([H])[H])c1c([H])c([H])c([H])c([H])c1[H].pickle\n",
      "Saved mol_dic for SMILES=[H]/C(=C(/Oc1c([H])c([H])c([H])c([H])c1I)c1c([H])c([H])c(Cl)c([H])c1[H])C(F)(F)F to hexane_groupby/[H]_C(=C(_Oc1c([H])c([H])c([H])c([H])c1I)c1c([H])c([H])c(Cl)c([H])c1[H])C(F)(F)F.pickle\n",
      "Saved mol_dic for SMILES=[H]/C(=C(/[H])C([H])([H])C([H])([H])C([H])([H])C([H])([H])C([H])([H])C([H])([H])[H])C([H])([H])I to hexane_groupby/[H]_C(=C(_[H])C([H])([H])C([H])([H])C([H])([H])C([H])([H])C([H])([H])C([H])([H])[H])C([H])([H])I.pickle\n",
      "Saved mol_dic for SMILES=[H]/C(=C(/[H])C([H])([H])C([H])([H])C([H])([H])I)c1c([H])c([H])c(Cl)c([H])c1[H] to hexane_groupby/[H]_C(=C(_[H])C([H])([H])C([H])([H])C([H])([H])I)c1c([H])c([H])c(Cl)c([H])c1[H].pickle\n",
      "Saved mol_dic for SMILES=[H]/C(=C(/[H])c1c([H])c([H])c(I)c([H])c1[H])c1c([H])c([H])c([H])c([H])c1[H] to hexane_groupby/[H]_C(=C(_[H])c1c([H])c([H])c(I)c([H])c1[H])c1c([H])c([H])c([H])c([H])c1[H].pickle\n",
      "Saved mol_dic for SMILES=[H]/C(=C(/[H])c1c([H])c2c(c([H])c1I)OC([H])([H])O2)c1c([H])c([H])nc([H])c1[H] to hexane_groupby/[H]_C(=C(_[H])c1c([H])c2c(c([H])c1I)OC([H])([H])O2)c1c([H])c([H])nc([H])c1[H].pickle\n",
      "Saved mol_dic for SMILES=[H]/C(=C(/[H])c1nn([C@]2([H])OC([H])([H])C([H])([H])C([H])([H])C2([H])[H])c2c([H])c(I)c([H])c([H])c12)c1nc([H])c([H])c([H])c1[H] to hexane_groupby/[H]_C(=C(_[H])c1nn([C@]2([H])OC([H])([H])C([H])([H])C([H])([H])C2([H])[H])c2c([H])c(I)c([H])c([H])c12)c1nc([H])c([H])c([H])c1[H].pickle\n",
      "Saved mol_dic for SMILES=[H]/C(=C(\\C#N)C(=O)OC([H])([H])C([H])([H])[H])c1c([H])c([H])c(I)c([H])c1[H] to hexane_groupby/[H]_C(=C(\\C#N)C(=O)OC([H])([H])C([H])([H])[H])c1c([H])c([H])c(I)c([H])c1[H].pickle\n",
      "Saved mol_dic for SMILES=[H]/C(=C(\\Cl)C(=C(C([H])([H])[H])C([H])([H])[H])C([H])([H])[H])P(=O)(Cl)Cl to hexane_groupby/[H]_C(=C(\\Cl)C(=C(C([H])([H])[H])C([H])([H])[H])C([H])([H])[H])P(=O)(Cl)Cl.pickle\n",
      "Saved mol_dic for SMILES=[H]/C(=C(\\I)C(=O)OC([H])([H])[H])c1c([H])c([H])c([H])c([H])c1[H] to hexane_groupby/[H]_C(=C(\\I)C(=O)OC([H])([H])[H])c1c([H])c([H])c([H])c([H])c1[H].pickle\n",
      "Saved mol_dic for SMILES=[H]/C(=C(\\I)P(=O)(OC([H])([H])C([H])([H])[H])OC([H])([H])C([H])([H])[H])c1c([H])c([H])c([H])c([H])c1[H] to hexane_groupby/[H]_C(=C(\\I)P(=O)(OC([H])([H])C([H])([H])[H])OC([H])([H])C([H])([H])[H])c1c([H])c([H])c([H])c([H])c1[H].pickle\n",
      "Saved mol_dic for SMILES=[H]/C(=C(\\Oc1c([H])c([H])c([H])c([H])c1I)c1c([H])c([H])c(Cl)c([H])c1[H])C(F)(F)F to hexane_groupby/[H]_C(=C(\\Oc1c([H])c([H])c([H])c([H])c1I)c1c([H])c([H])c(Cl)c([H])c1[H])C(F)(F)F.pickle\n",
      "Saved mol_dic for SMILES=[H]/C(=C(\\[H])C([H])([H])C([H])([H])C([H])([H])C([H])([H])C([H])([H])C([H])([H])[H])C([H])([H])I to hexane_groupby/[H]_C(=C(\\[H])C([H])([H])C([H])([H])C([H])([H])C([H])([H])C([H])([H])C([H])([H])[H])C([H])([H])I.pickle\n",
      "Saved mol_dic for SMILES=[H]/C(=C(\\[H])C([H])([H])C([H])([H])C([H])([H])I)c1c([H])c([H])c(Cl)c([H])c1[H] to hexane_groupby/[H]_C(=C(\\[H])C([H])([H])C([H])([H])C([H])([H])I)c1c([H])c([H])c(Cl)c([H])c1[H].pickle\n",
      "Saved mol_dic for SMILES=[H]/C(=C(\\[H])c1c([H])c([H])c(I)c([H])c1[H])c1c([H])c([H])c([H])c([H])c1[H] to hexane_groupby/[H]_C(=C(\\[H])c1c([H])c([H])c(I)c([H])c1[H])c1c([H])c([H])c([H])c([H])c1[H].pickle\n",
      "Saved mol_dic for SMILES=[H]/C(=C(\\[H])c1c([H])c2c(c([H])c1I)OC([H])([H])O2)c1c([H])c([H])nc([H])c1[H] to hexane_groupby/[H]_C(=C(\\[H])c1c([H])c2c(c([H])c1I)OC([H])([H])O2)c1c([H])c([H])nc([H])c1[H].pickle\n",
      "Saved mol_dic for SMILES=[H]/C(=C(\\[H])c1nn([C@]2([H])OC([H])([H])C([H])([H])C([H])([H])C2([H])[H])c2c([H])c(I)c([H])c([H])c12)c1nc([H])c([H])c([H])c1[H] to hexane_groupby/[H]_C(=C(\\[H])c1nn([C@]2([H])OC([H])([H])C([H])([H])C([H])([H])C2([H])[H])c2c([H])c(I)c([H])c([H])c12)c1nc([H])c([H])c([H])c1[H].pickle\n",
      "Saved mol_dic for SMILES=[H]/C(=C1/SC(N([H])[H])=NC1=O)c1c([H])c(Cl)c(OC([H])([H])c2c([H])c([H])c(I)c([H])c2[H])c(OC([H])([H])[H])c1[H] to hexane_groupby/[H]_C(=C1_SC(N([H])[H])=NC1=O)c1c([H])c(Cl)c(OC([H])([H])c2c([H])c([H])c(I)c([H])c2[H])c(OC([H])([H])[H])c1[H].pickle\n",
      "Saved mol_dic for SMILES=[H]/C(=C1\\SC(N([H])[H])=NC1=O)c1c([H])c(Cl)c(OC([H])([H])c2c([H])c([H])c(I)c([H])c2[H])c(OC([H])([H])[H])c1[H] to hexane_groupby/[H]_C(=C1\\SC(N([H])[H])=NC1=O)c1c([H])c(Cl)c(OC([H])([H])c2c([H])c([H])c(I)c([H])c2[H])c(OC([H])([H])[H])c1[H].pickle\n",
      "Saved mol_dic for SMILES=[H]/C(=N/C([H])([H])[Si](C([H])([H])[H])(C([H])([H])[H])C([H])([H])[H])C([H])(C([H])([H])[H])C([H])([H])[H] to hexane_groupby/[H]_C(=N_C([H])([H])[Si](C([H])([H])[H])(C([H])([H])[H])C([H])([H])[H])C([H])(C([H])([H])[H])C([H])([H])[H].pickle\n",
      "Saved mol_dic for SMILES=[H]/C(=N/C([H])([H])[Si](C([H])([H])[H])(C([H])([H])[H])C([H])([H])[H])N1C([H])([H])C([H])([H])C([H])([H])C([H])([H])C1([H])[H] to hexane_groupby/[H]_C(=N_C([H])([H])[Si](C([H])([H])[H])(C([H])([H])[H])C([H])([H])[H])N1C([H])([H])C([H])([H])C([H])([H])C([H])([H])C1([H])[H].pickle\n",
      "Saved mol_dic for SMILES=[H]/C(=N\\C([H])([H])[Si](C([H])([H])[H])(C([H])([H])[H])C([H])([H])[H])C([H])(C([H])([H])[H])C([H])([H])[H] to hexane_groupby/[H]_C(=N\\C([H])([H])[Si](C([H])([H])[H])(C([H])([H])[H])C([H])([H])[H])C([H])(C([H])([H])[H])C([H])([H])[H].pickle\n",
      "Saved mol_dic for SMILES=[H]/C(=N\\C([H])([H])[Si](C([H])([H])[H])(C([H])([H])[H])C([H])([H])[H])N1C([H])([H])C([H])([H])C([H])([H])C([H])([H])C1([H])[H] to hexane_groupby/[H]_C(=N\\C([H])([H])[Si](C([H])([H])[H])(C([H])([H])[H])C([H])([H])[H])N1C([H])([H])C([H])([H])C([H])([H])C([H])([H])C1([H])[H].pickle\n",
      "Saved mol_dic for SMILES=[H]/C(Br)=C(/OP(=O)(Cl)Cl)c1c([H])c([H])c(Cl)c([H])c1Cl to hexane_groupby/[H]_C(Br)=C(_OP(=O)(Cl)Cl)c1c([H])c([H])c(Cl)c([H])c1Cl.pickle\n",
      "Saved mol_dic for SMILES=[H]/C(Br)=C(\\OP(=O)(Cl)Cl)c1c([H])c([H])c(Cl)c([H])c1Cl to hexane_groupby/[H]_C(Br)=C(\\OP(=O)(Cl)Cl)c1c([H])c([H])c(Cl)c([H])c1Cl.pickle\n",
      "Saved mol_dic for SMILES=[H]/C(C(=O)C([H])([H])[H])=C(/[Si](C([H])([H])[H])(C([H])([H])[H])C([H])([H])[H])[Si](C([H])([H])C([H])([H])[H])(C([H])([H])C([H])([H])[H])C([H])([H])C([H])([H])[H] to hexane_groupby/[H]_C(C(=O)C([H])([H])[H])=C(_[Si](C([H])([H])[H])(C([H])([H])[H])C([H])([H])[H])[Si](C([H])([H])C([H])([H])[H])(C([H])([H])C([H])([H])[H])C(_a31926e2.pickle\n",
      "Saved mol_dic for SMILES=[H]/C(C(=O)C([H])([H])[H])=C(\\[Si](C([H])([H])[H])(C([H])([H])[H])C([H])([H])[H])[Si](C([H])([H])C([H])([H])[H])(C([H])([H])C([H])([H])[H])C([H])([H])C([H])([H])[H] to hexane_groupby/[H]_C(C(=O)C([H])([H])[H])=C(\\[Si](C([H])([H])[H])(C([H])([H])[H])C([H])([H])[H])[Si](C([H])([H])C([H])([H])[H])(C([H])([H])C([H])([H])[H])C(_f48cc051.pickle\n",
      "Saved mol_dic for SMILES=[H]/C(C(=O)OC([H])([H])C([H])([H])[H])=C(/[H])C([H])([H])C([H])([H])C([H])([H])C([H])([H])I to hexane_groupby/[H]_C(C(=O)OC([H])([H])C([H])([H])[H])=C(_[H])C([H])([H])C([H])([H])C([H])([H])C([H])([H])I.pickle\n",
      "Saved mol_dic for SMILES=[H]/C(C(=O)OC([H])([H])C([H])([H])[H])=C(\\[H])C([H])([H])C([H])([H])C([H])([H])C([H])([H])I to hexane_groupby/[H]_C(C(=O)OC([H])([H])C([H])([H])[H])=C(\\[H])C([H])([H])C([H])([H])C([H])([H])C([H])([H])I.pickle\n"
     ]
    },
    {
     "name": "stderr",
     "output_type": "stream",
     "text": [
      "  6%|▋         | 68/1054 [00:00<00:04, 231.84it/s]"
     ]
    },
    {
     "name": "stdout",
     "output_type": "stream",
     "text": [
      "Saved mol_dic for SMILES=[H]/C(C(=O)OC([H])([H])[H])=C(/[H])C([H])([H])C([H])([H])C([H])([H])Oc1c([H])c(C(F)(F)F)c([H])c([H])c1I to hexane_groupby/[H]_C(C(=O)OC([H])([H])[H])=C(_[H])C([H])([H])C([H])([H])C([H])([H])Oc1c([H])c(C(F)(F)F)c([H])c([H])c1I.pickle\n",
      "Saved mol_dic for SMILES=[H]/C(C(=O)OC([H])([H])[H])=C(\\[H])C([H])([H])C([H])([H])C([H])([H])Oc1c([H])c(C(F)(F)F)c([H])c([H])c1I to hexane_groupby/[H]_C(C(=O)OC([H])([H])[H])=C(\\[H])C([H])([H])C([H])([H])C([H])([H])Oc1c([H])c(C(F)(F)F)c([H])c([H])c1I.pickle\n",
      "Saved mol_dic for SMILES=[H]/C(C(=O)Oc1c([H])c([H])c(I)c([H])c1C(=O)OC([H])([H])[H])=C(/[H])c1c([H])c([H])c([H])c([H])c1[H] to hexane_groupby/[H]_C(C(=O)Oc1c([H])c([H])c(I)c([H])c1C(=O)OC([H])([H])[H])=C(_[H])c1c([H])c([H])c([H])c([H])c1[H].pickle\n",
      "Saved mol_dic for SMILES=[H]/C(C(=O)Oc1c([H])c([H])c(I)c([H])c1C(=O)OC([H])([H])[H])=C(\\[H])c1c([H])c([H])c([H])c([H])c1[H] to hexane_groupby/[H]_C(C(=O)Oc1c([H])c([H])c(I)c([H])c1C(=O)OC([H])([H])[H])=C(\\[H])c1c([H])c([H])c([H])c([H])c1[H].pickle\n",
      "Saved mol_dic for SMILES=[H]/C(Cl)=C(/C([H])([H])[H])C([H])([H])[Si](C([H])([H])[H])(C([H])([H])[H])C([H])([H])[H] to hexane_groupby/[H]_C(Cl)=C(_C([H])([H])[H])C([H])([H])[Si](C([H])([H])[H])(C([H])([H])[H])C([H])([H])[H].pickle\n",
      "Saved mol_dic for SMILES=[H]/C(Cl)=C(/[H])[Si@@]([H])(c1c([H])c([H])c(C([H])([H])[H])c([H])c1[H])C([H])([H])[H] to hexane_groupby/[H]_C(Cl)=C(_[H])[Si@@]([H])(c1c([H])c([H])c(C([H])([H])[H])c([H])c1[H])C([H])([H])[H].pickle\n",
      "Saved mol_dic for SMILES=[H]/C(Cl)=C(\\C([H])([H])[H])C([H])([H])[Si](C([H])([H])[H])(C([H])([H])[H])C([H])([H])[H] to hexane_groupby/[H]_C(Cl)=C(\\C([H])([H])[H])C([H])([H])[Si](C([H])([H])[H])(C([H])([H])[H])C([H])([H])[H].pickle\n",
      "Saved mol_dic for SMILES=[H]/C(Cl)=C(\\[H])[Si@@]([H])(c1c([H])c([H])c(C([H])([H])[H])c([H])c1[H])C([H])([H])[H] to hexane_groupby/[H]_C(Cl)=C(\\[H])[Si@@]([H])(c1c([H])c([H])c(C([H])([H])[H])c([H])c1[H])C([H])([H])[H].pickle\n",
      "Saved mol_dic for SMILES=[H]/C(I)=C(/[H])C(=O)C([H])([H])C([H])([H])C([H])([H])C([H])([H])C([H])([H])[H] to hexane_groupby/[H]_C(I)=C(_[H])C(=O)C([H])([H])C([H])([H])C([H])([H])C([H])([H])C([H])([H])[H].pickle\n",
      "Saved mol_dic for SMILES=[H]/C(I)=C(/[H])C(=O)C([H])([H])C1([H])C([H])([H])C([H])([H])C([H])([H])C1([H])[H] to hexane_groupby/[H]_C(I)=C(_[H])C(=O)C([H])([H])C1([H])C([H])([H])C([H])([H])C([H])([H])C1([H])[H].pickle\n",
      "Saved mol_dic for SMILES=[H]/C(OC([H])([H])C([H])([H])[H])=C(/[H])P(=O)(C([H])([H])C([H])([H])[H])C([H])([H])C([H])([H])[H] to hexane_groupby/[H]_C(OC([H])([H])C([H])([H])[H])=C(_[H])P(=O)(C([H])([H])C([H])([H])[H])C([H])([H])C([H])([H])[H].pickle\n",
      "Saved mol_dic for SMILES=[H]/C(OC([H])([H])C([H])([H])[H])=C(\\[H])P(=O)(C([H])([H])C([H])([H])[H])C([H])([H])C([H])([H])[H] to hexane_groupby/[H]_C(OC([H])([H])C([H])([H])[H])=C(\\[H])P(=O)(C([H])([H])C([H])([H])[H])C([H])([H])C([H])([H])[H].pickle\n",
      "Saved mol_dic for SMILES=[H]/C(OC([H])([H])n1c2c([H])c([H])c([H])c([H])c2c2c([H])c(I)c([H])c([H])c21)=C(/[H])C([H])([H])[H] to hexane_groupby/[H]_C(OC([H])([H])n1c2c([H])c([H])c([H])c([H])c2c2c([H])c(I)c([H])c([H])c21)=C(_[H])C([H])([H])[H].pickle\n",
      "Saved mol_dic for SMILES=[H]/C(OC([H])([H])n1c2c([H])c([H])c([H])c([H])c2c2c([H])c(I)c([H])c([H])c21)=C(\\[H])C([H])([H])[H] to hexane_groupby/[H]_C(OC([H])([H])n1c2c([H])c([H])c([H])c([H])c2c2c([H])c(I)c([H])c([H])c21)=C(\\[H])C([H])([H])[H].pickle\n",
      "Saved mol_dic for SMILES=[H]/N=C(/P([H])C(C([H])([H])[H])(C([H])([H])[H])C([H])([H])[H])C([H])(C([H])([H])[H])C([H])([H])[H] to hexane_groupby/[H]_N=C(_P([H])C(C([H])([H])[H])(C([H])([H])[H])C([H])([H])[H])C([H])(C([H])([H])[H])C([H])([H])[H].pickle\n",
      "Saved mol_dic for SMILES=[H]/N=C(\\P([H])C(C([H])([H])[H])(C([H])([H])[H])C([H])([H])[H])C([H])(C([H])([H])[H])C([H])([H])[H] to hexane_groupby/[H]_N=C(\\P([H])C(C([H])([H])[H])(C([H])([H])[H])C([H])([H])[H])C([H])(C([H])([H])[H])C([H])([H])[H].pickle\n",
      "Saved mol_dic for SMILES=[H]/N=[Si](/[H])C([H])([H])[H] to hexane_groupby/[H]_N=[Si](_[H])C([H])([H])[H].pickle\n",
      "Saved mol_dic for SMILES=[H]/N=[Si](\\[H])C([H])([H])[H] to hexane_groupby/[H]_N=[Si](\\[H])C([H])([H])[H].pickle\n",
      "Saved mol_dic for SMILES=[H]B(OC([H])([H])[H])OC([H])([H])[H] to hexane_groupby/[H]B(OC([H])([H])[H])OC([H])([H])[H].pickle\n",
      "Saved mol_dic for SMILES=[H]B([H])I to hexane_groupby/[H]B([H])I.pickle\n",
      "Saved mol_dic for SMILES=[H]C#CB1N(C([H])([H])[H])B(C#C[H])N(C([H])([H])[H])B(C#C[H])N1C([H])([H])[H] to hexane_groupby/[H]C#CB1N(C([H])([H])[H])B(C#C[H])N(C([H])([H])[H])B(C#C[H])N1C([H])([H])[H].pickle\n",
      "Saved mol_dic for SMILES=[H]C#CC(Oc1c([H])c([H])c(I)c([H])c1[H])(C([H])([H])[H])C([H])([H])[H] to hexane_groupby/[H]C#CC(Oc1c([H])c([H])c(I)c([H])c1[H])(C([H])([H])[H])C([H])([H])[H].pickle\n",
      "Saved mol_dic for SMILES=[H]C#CC([H])([H])C([H])([H])C([H])([H])C([H])([H])C([H])([H])I to hexane_groupby/[H]C#CC([H])([H])C([H])([H])C([H])([H])C([H])([H])C([H])([H])I.pickle\n",
      "Saved mol_dic for SMILES=[H]C#CC([H])([H])C([H])([H])C([H])([H])n1c(Sc2c([H])c3c(c([H])c2I)OC([H])([H])O3)nc2c1[N]C([H])=N[C]2N([H])[H] to hexane_groupby/[H]C#CC([H])([H])C([H])([H])C([H])([H])n1c(Sc2c([H])c3c(c([H])c2I)OC([H])([H])O3)nc2c1[N]C([H])=N[C]2N([H])[H].pickle\n",
      "Saved mol_dic for SMILES=[H]C#C[Si]([H])([H])C#C[Si]([H])([H])C#C[H] to hexane_groupby/[H]C#C[Si]([H])([H])C#C[Si]([H])([H])C#C[H].pickle\n",
      "Saved mol_dic for SMILES=[H]C#Cc1c([H])c([H])c(I)c([H])c1[H] to hexane_groupby/[H]C#Cc1c([H])c([H])c(I)c([H])c1[H].pickle\n",
      "Saved mol_dic for SMILES=[H]C(=C(C#N)C#N)/C([H])=C(/[H])c1c([H])c([H])c([H])c([H])c1I to hexane_groupby/[H]C(=C(C#N)C#N)_C([H])=C(_[H])c1c([H])c([H])c([H])c([H])c1I.pickle\n",
      "Saved mol_dic for SMILES=[H]C(=C(C#N)C#N)/C([H])=C(\\[H])c1c([H])c([H])c([H])c([H])c1I to hexane_groupby/[H]C(=C(C#N)C#N)_C([H])=C(\\[H])c1c([H])c([H])c([H])c([H])c1I.pickle\n",
      "Saved mol_dic for SMILES=[H]C(=C(I)I)c1c([H])c([H])c(Cl)c([H])c1[H] to hexane_groupby/[H]C(=C(I)I)c1c([H])c([H])c(Cl)c([H])c1[H].pickle\n",
      "Saved mol_dic for SMILES=[H]C(=C(\\[H])c1oc(I)c([H])c1[H])/C([H])=C1/N=C(c2c([H])c([H])c([H])c([H])c2[H])OC1=O to hexane_groupby/[H]C(=C(\\[H])c1oc(I)c([H])c1[H])_C([H])=C1_N=C(c2c([H])c([H])c([H])c([H])c2[H])OC1=O.pickle\n",
      "Saved mol_dic for SMILES=[H]C(=C1/N=C(c2c([H])c([H])c([H])c([H])c2[H])OC1=O)/C([H])=C(/[H])c1oc(I)c([H])c1[H] to hexane_groupby/[H]C(=C1_N=C(c2c([H])c([H])c([H])c([H])c2[H])OC1=O)_C([H])=C(_[H])c1oc(I)c([H])c1[H].pickle\n",
      "Saved mol_dic for SMILES=[H]C(=C1/N=C(c2c([H])c([H])c([H])c([H])c2[H])OC1=O)/C([H])=C(\\[H])c1oc(I)c([H])c1[H] to hexane_groupby/[H]C(=C1_N=C(c2c([H])c([H])c([H])c([H])c2[H])OC1=O)_C([H])=C(\\[H])c1oc(I)c([H])c1[H].pickle\n",
      "Saved mol_dic for SMILES=[H]C(=C1\\N=C(c2c([H])c([H])c([H])c([H])c2[H])OC1=O)/C([H])=C(\\[H])c1oc(I)c([H])c1[H] to hexane_groupby/[H]C(=C1\\N=C(c2c([H])c([H])c([H])c([H])c2[H])OC1=O)_C([H])=C(\\[H])c1oc(I)c([H])c1[H].pickle\n",
      "Saved mol_dic for SMILES=[H]C(=O)C(C#C[Si](C([H])([H])[H])(C([H])([H])[H])C([H])([H])[H])(C([H])([H])[H])C([H])([H])[H] to hexane_groupby/[H]C(=O)C(C#C[Si](C([H])([H])[H])(C([H])([H])[H])C([H])([H])[H])(C([H])([H])[H])C([H])([H])[H].pickle\n",
      "Saved mol_dic for SMILES=[H]C(=O)C([H])([H])C([H])([H])O[Si]1(C([H])([H])[H])C([H])([H])C([H])([H])C1([H])[H] to hexane_groupby/[H]C(=O)C([H])([H])C([H])([H])O[Si]1(C([H])([H])[H])C([H])([H])C([H])([H])C1([H])[H].pickle\n",
      "Saved mol_dic for SMILES=[H]C(=O)C([H])([H])[C@@]([H])(C([H])([H])[H])C([H])([H])C([H])([H])C([H])([H])C(I)(C([H])([H])[H])C([H])([H])[H] to hexane_groupby/[H]C(=O)C([H])([H])[C@@]([H])(C([H])([H])[H])C([H])([H])C([H])([H])C([H])([H])C(I)(C([H])([H])[H])C([H])([H])[H].pickle\n",
      "Saved mol_dic for SMILES=[H]C(=O)[C@@]1([H])C([H])([H])C([H])=C(C([H])([H])[Si](C([H])([H])[H])(C([H])([H])[H])C([H])([H])[H])C([H])([H])C1([H])[H] to hexane_groupby/[H]C(=O)[C@@]1([H])C([H])([H])C([H])=C(C([H])([H])[Si](C([H])([H])[H])(C([H])([H])[H])C([H])([H])[H])C([H])([H])C1([H])[H].pickle\n",
      "Saved mol_dic for SMILES=[H]C(=O)c1c([H])c(I)c(I)c(I)c1[H] to hexane_groupby/[H]C(=O)c1c([H])c(I)c(I)c(I)c1[H].pickle\n",
      "Saved mol_dic for SMILES=[H]C(=O)c1c([H])c(OC([H])([H])[H])c(OC([H])([H])[H])c(OC([H])([H])[H])c1I to hexane_groupby/[H]C(=O)c1c([H])c(OC([H])([H])[H])c(OC([H])([H])[H])c(OC([H])([H])[H])c1I.pickle\n",
      "Saved mol_dic for SMILES=[H]C(=O)c1c([H])c(OC([H])([H])c2c([H])c([H])c([H])c([H])c2[H])c(I)c([N+](=O)[O-])c1[H] to hexane_groupby/[H]C(=O)c1c([H])c(OC([H])([H])c2c([H])c([H])c([H])c([H])c2[H])c(I)c([N+](=O)[O-])c1[H].pickle\n",
      "Saved mol_dic for SMILES=[H]C(=O)c1c([H])c([H])c(F)c(F)c1N([H])c1c([H])c([H])c(I)c([H])c1F to hexane_groupby/[H]C(=O)c1c([H])c([H])c(F)c(F)c1N([H])c1c([H])c([H])c(I)c([H])c1F.pickle\n",
      "Saved mol_dic for SMILES=[H]C(=O)c1c([H])n([H])c2c([H])c([H])c([H])c(I)c12 to hexane_groupby/[H]C(=O)c1c([H])n([H])c2c([H])c([H])c([H])c(I)c12.pickle\n",
      "Saved mol_dic for SMILES=[H]C(=O)c1c([H])nc([H])c(I)c1N([H])[H] to hexane_groupby/[H]C(=O)c1c([H])nc([H])c(I)c1N([H])[H].pickle\n",
      "Saved mol_dic for SMILES=[H]C(=[P](C([H])([H])C([H])([H])[H])C([H])([H])C([H])([H])[H])C([H])([H])[H] to hexane_groupby/[H]C(=[P](C([H])([H])C([H])([H])[H])C([H])([H])C([H])([H])[H])C([H])([H])[H].pickle\n",
      "Saved mol_dic for SMILES=[H]C(F)(F)C([H])([H])C([H])([H])[Si](C([H])([H])[H])(C([H])([H])[H])C([H])([H])[H] to hexane_groupby/[H]C(F)(F)C([H])([H])C([H])([H])[Si](C([H])([H])[H])(C([H])([H])[H])C([H])([H])[H].pickle\n",
      "Saved mol_dic for SMILES=[H]C(F)(F)[C@@]([H])(F)[Si]([H])([H])C([H])(Cl)Cl to hexane_groupby/[H]C(F)(F)[C@@]([H])(F)[Si]([H])([H])C([H])(Cl)Cl.pickle\n",
      "Saved mol_dic for SMILES=[H]C(I)(C(=O)OC([H])([H])C([H])([H])[H])C(=O)OC([H])([H])C([H])([H])[H] to hexane_groupby/[H]C(I)(C(=O)OC([H])([H])C([H])([H])[H])C(=O)OC([H])([H])C([H])([H])[H].pickle\n",
      "Saved mol_dic for SMILES=[H]C(I)(C(F)(F)F)C(F)(F)F to hexane_groupby/[H]C(I)(C(F)(F)F)C(F)(F)F.pickle\n",
      "Saved mol_dic for SMILES=[H]C(I)=C=C([H])C(C([H])([H])[H])(C([H])([H])[H])C([H])([H])[H] to hexane_groupby/[H]C(I)=C=C([H])C(C([H])([H])[H])(C([H])([H])[H])C([H])([H])[H].pickle\n",
      "Saved mol_dic for SMILES=[H]C([H])(Br)C([H])([H])C([H])([H])C([H])([H])I to hexane_groupby/[H]C([H])(Br)C([H])([H])C([H])([H])C([H])([H])I.pickle\n",
      "Saved mol_dic for SMILES=[H]C([H])(C#CI)O[C@@]1([H])OC(=O)C(Cl)=C1Cl to hexane_groupby/[H]C([H])(C#CI)O[C@@]1([H])OC(=O)C(Cl)=C1Cl.pickle\n",
      "Saved mol_dic for SMILES=[H]C([H])(C(=O)Cl)C([H])([H])C([H])([H])C([H])([H])[Si]([H])([H])C([H])(F)F to hexane_groupby/[H]C([H])(C(=O)Cl)C([H])([H])C([H])([H])C([H])([H])[Si]([H])([H])C([H])(F)F.pickle\n",
      "Saved mol_dic for SMILES=[H]C([H])(C(=O)OC([H])([H])C([H])([H])[H])/C(I)=C(/Br)I to hexane_groupby/[H]C([H])(C(=O)OC([H])([H])C([H])([H])[H])_C(I)=C(_Br)I.pickle\n",
      "Saved mol_dic for SMILES=[H]C([H])(C(=O)OC([H])([H])C([H])([H])[H])/C(I)=C(\\Br)I to hexane_groupby/[H]C([H])(C(=O)OC([H])([H])C([H])([H])[H])_C(I)=C(\\Br)I.pickle\n",
      "Saved mol_dic for SMILES=[H]C([H])(C(F)(F)I)C(F)(F)C(F)(F)C(F)(F)C(F)(F)C(F)(F)C(F)(F)F to hexane_groupby/[H]C([H])(C(F)(F)I)C(F)(F)C(F)(F)C(F)(F)C(F)(F)C(F)(F)C(F)(F)F.pickle\n",
      "Saved mol_dic for SMILES=[H]C([H])(C(F)=C(F)F)C([H])([H])[Si]([H])(C([H])([H])[H])C([H])([H])[H] to hexane_groupby/[H]C([H])(C(F)=C(F)F)C([H])([H])[Si]([H])(C([H])([H])[H])C([H])([H])[H].pickle\n",
      "Saved mol_dic for SMILES=[H]C([H])(Cl)C([H])([H])C([H])([H])C([H])([H])C([H])([H])C([H])([H])I to hexane_groupby/[H]C([H])(Cl)C([H])([H])C([H])([H])C([H])([H])C([H])([H])C([H])([H])I.pickle\n"
     ]
    },
    {
     "name": "stderr",
     "output_type": "stream",
     "text": [
      " 13%|█▎        | 137/1054 [00:00<00:04, 229.06it/s]"
     ]
    },
    {
     "name": "stdout",
     "output_type": "stream",
     "text": [
      "Saved mol_dic for SMILES=[H]C([H])(Cl)C([H])([H])OP(=O)(OC([H])([H])C([H])([H])Cl)C([H])([H])C([H])([H])Br to hexane_groupby/[H]C([H])(Cl)C([H])([H])OP(=O)(OC([H])([H])C([H])([H])Cl)C([H])([H])C([H])([H])Br.pickle\n",
      "Saved mol_dic for SMILES=[H]C([H])(Cl)S[P@TB5]([S])(OC([H])([H])C([H])(C([H])([H])[H])C([H])([H])[H])OC([H])([H])C([H])(C([H])([H])[H])C([H])([H])[H] to hexane_groupby/[H]C([H])(Cl)S[P@TB5]([S])(OC([H])([H])C([H])(C([H])([H])[H])C([H])([H])[H])OC([H])([H])C([H])(C([H])([H])[H])C([H])([H])[H].pickle\n",
      "Saved mol_dic for SMILES=[H]C([H])(Cl)S[P]([S])(OC([H])([H])C([H])(C([H])([H])[H])C([H])([H])[H])OC([H])([H])C([H])(C([H])([H])[H])C([H])([H])[H] to hexane_groupby/[H]C([H])(Cl)S[P]([S])(OC([H])([H])C([H])(C([H])([H])[H])C([H])([H])[H])OC([H])([H])C([H])(C([H])([H])[H])C([H])([H])[H].pickle\n",
      "Saved mol_dic for SMILES=[H]C([H])(F)I to hexane_groupby/[H]C([H])(F)I.pickle\n",
      "Saved mol_dic for SMILES=[H]C([H])(I)C#CC([H])([H])C([H])([H])C([H])([H])C([H])([H])C([H])([H])[H] to hexane_groupby/[H]C([H])(I)C#CC([H])([H])C([H])([H])C([H])([H])C([H])([H])C([H])([H])[H].pickle\n",
      "Saved mol_dic for SMILES=[H]C([H])(I)C#C[Si](C([H])([H])C([H])([H])[H])(C([H])([H])C([H])([H])[H])C([H])([H])C([H])([H])[H] to hexane_groupby/[H]C([H])(I)C#C[Si](C([H])([H])C([H])([H])[H])(C([H])([H])C([H])([H])[H])C([H])([H])C([H])([H])[H].pickle\n",
      "Saved mol_dic for SMILES=[H]C([H])(I)C(=O)OC([H])([H])C([H])([H])[H] to hexane_groupby/[H]C([H])(I)C(=O)OC([H])([H])C([H])([H])[H].pickle\n",
      "Saved mol_dic for SMILES=[H]C([H])(I)C(=O)OC1(C([H])([H])[H])C([H])([H])C([H])([H])C([H])([H])C([H])([H])C1([H])[H] to hexane_groupby/[H]C([H])(I)C(=O)OC1(C([H])([H])[H])C([H])([H])C([H])([H])C([H])([H])C([H])([H])C1([H])[H].pickle\n",
      "Saved mol_dic for SMILES=[H]C([H])(I)C([H])([H])C([H])([H])C([H])([H])C([H])([H])C(=O)O[Si](C([H])([H])[H])(C([H])([H])[H])C([H])([H])[H] to hexane_groupby/[H]C([H])(I)C([H])([H])C([H])([H])C([H])([H])C([H])([H])C(=O)O[Si](C([H])([H])[H])(C([H])([H])[H])C([H])([H])[H].pickle\n",
      "Saved mol_dic for SMILES=[H]C([H])(I)C([H])([H])C([H])([H])C([H])([H])C([H])([H])C([H])([H])C([H])([H])C([H])([H])I to hexane_groupby/[H]C([H])(I)C([H])([H])C([H])([H])C([H])([H])C([H])([H])C([H])([H])C([H])([H])C([H])([H])I.pickle\n",
      "Saved mol_dic for SMILES=[H]C([H])(I)C([H])([H])C([H])([H])C([H])([H])C([H])([H])O[Si](C([H])([H])[H])(C([H])([H])[H])C([H])([H])[H] to hexane_groupby/[H]C([H])(I)C([H])([H])C([H])([H])C([H])([H])C([H])([H])O[Si](C([H])([H])[H])(C([H])([H])[H])C([H])([H])[H].pickle\n",
      "Saved mol_dic for SMILES=[H]C([H])(I)C([H])([H])C([H])([H])C1([C@]2([H])C(=O)C([H])([H])C([H])([H])C2([H])[H])OC([H])([H])C([H])([H])O1 to hexane_groupby/[H]C([H])(I)C([H])([H])C([H])([H])C1([C@]2([H])C(=O)C([H])([H])C([H])([H])C2([H])[H])OC([H])([H])C([H])([H])O1.pickle\n",
      "Saved mol_dic for SMILES=[H]C([H])(I)C([H])([H])C([H])([H])I to hexane_groupby/[H]C([H])(I)C([H])([H])C([H])([H])I.pickle\n",
      "Saved mol_dic for SMILES=[H]C([H])(I)C([H])([H])C1([H])OC([H])([H])C([H])([H])O1 to hexane_groupby/[H]C([H])(I)C([H])([H])C1([H])OC([H])([H])C([H])([H])O1.pickle\n",
      "Saved mol_dic for SMILES=[H]C([H])(I)C([H])([H])[Si](Cl)(Cl)Cl to hexane_groupby/[H]C([H])(I)C([H])([H])[Si](Cl)(Cl)Cl.pickle\n",
      "Saved mol_dic for SMILES=[H]C([H])(I)C1([H])C([H])([H])C([H])([H])C([H])([H])C([H])([H])C1([H])[H] to hexane_groupby/[H]C([H])(I)C1([H])C([H])([H])C([H])([H])C([H])([H])C([H])([H])C1([H])[H].pickle\n",
      "Saved mol_dic for SMILES=[H]C([H])(I)C1([H])C([H])([H])C([H])([H])C1([H])[H] to hexane_groupby/[H]C([H])(I)C1([H])C([H])([H])C([H])([H])C1([H])[H].pickle\n",
      "Saved mol_dic for SMILES=[H]C([H])(I)OC(=O)C([H])([H])C([H])(C([H])([H])[H])C([H])([H])[H] to hexane_groupby/[H]C([H])(I)OC(=O)C([H])([H])C([H])(C([H])([H])[H])C([H])([H])[H].pickle\n",
      "Saved mol_dic for SMILES=[H]C([H])(I)OC(=O)OC([H])(C([H])([H])[H])C([H])([H])[H] to hexane_groupby/[H]C([H])(I)OC(=O)OC([H])(C([H])([H])[H])C([H])([H])[H].pickle\n",
      "Saved mol_dic for SMILES=[H]C([H])(I)[C@@]1([H])C([H])([H])N(C#N)C([H])([H])[C@]1([H])C([H])([H])C(F)(F)C(F)(F)C(F)(F)C(F)(F)F to hexane_groupby/[H]C([H])(I)[C@@]1([H])C([H])([H])N(C#N)C([H])([H])[C@]1([H])C([H])([H])C(F)(F)C(F)(F)C(F)(F)C(F)(F)F.pickle\n",
      "Saved mol_dic for SMILES=[H]C([H])(O[Si](C([H])([H])[H])(C([H])([H])[H])C([H])([H])[H])[C@@]12O[C@]1([H])C([H])([H])[C@@]([H])(Br)[C@@]([H])(Br)C2([H])[H] to hexane_groupby/[H]C([H])(O[Si](C([H])([H])[H])(C([H])([H])[H])C([H])([H])[H])[C@@]12O[C@]1([H])C([H])([H])[C@@]([H])(Br)[C@@]([H])(Br)C2([H])[H].pickle\n",
      "Saved mol_dic for SMILES=[H]C([H])([B])[B] to hexane_groupby/[H]C([H])([B])[B].pickle\n",
      "Saved mol_dic for SMILES=[H]C([H])([C@@]([H])(F)C(F)(F)Cl)[C@@]([H])(I)[Si](C([H])([H])[H])(C([H])([H])[H])C([H])([H])[H] to hexane_groupby/[H]C([H])([C@@]([H])(F)C(F)(F)Cl)[C@@]([H])(I)[Si](C([H])([H])[H])(C([H])([H])[H])C([H])([H])[H].pickle\n",
      "Saved mol_dic for SMILES=[H]C([H])([H])/C(=C(/B(C([H])([H])C([H])([H])[H])C([H])([H])C([H])([H])[H])C([H])([H])C([H])([H])[H])C([H])([H])C([H])([H])[H] to hexane_groupby/[H]C([H])([H])_C(=C(_B(C([H])([H])C([H])([H])[H])C([H])([H])C([H])([H])[H])C([H])([H])C([H])([H])[H])C([H])([H])C([H])([H])[H].pickle\n",
      "Saved mol_dic for SMILES=[H]C([H])([H])/C(=C(\\B(C([H])([H])C([H])([H])[H])C([H])([H])C([H])([H])[H])C([H])([H])C([H])([H])[H])C([H])([H])C([H])([H])[H] to hexane_groupby/[H]C([H])([H])_C(=C(\\B(C([H])([H])C([H])([H])[H])C([H])([H])C([H])([H])[H])C([H])([H])C([H])([H])[H])C([H])([H])C([H])([H])[H].pickle\n",
      "Saved mol_dic for SMILES=[H]C([H])([H])B(/C(=C(/C([H])([H])[H])[Si](C([H])([H])[H])(C([H])([H])[H])C([H])([H])[H])C([H])([H])[H])C([H])([H])[H] to hexane_groupby/[H]C([H])([H])B(_C(=C(_C([H])([H])[H])[Si](C([H])([H])[H])(C([H])([H])[H])C([H])([H])[H])C([H])([H])[H])C([H])([H])[H].pickle\n",
      "Saved mol_dic for SMILES=[H]C([H])([H])B(/C(=C(\\C([H])([H])[H])[Si](C([H])([H])[H])(C([H])([H])[H])C([H])([H])[H])C([H])([H])[H])C([H])([H])[H] to hexane_groupby/[H]C([H])([H])B(_C(=C(\\C([H])([H])[H])[Si](C([H])([H])[H])(C([H])([H])[H])C([H])([H])[H])C([H])([H])[H])C([H])([H])[H].pickle\n",
      "Saved mol_dic for SMILES=[H]C([H])([H])C(=C(C#C[Si](C([H])([H])[H])(C([H])([H])[H])C([H])([H])[H])C#C[Si](C([H])([H])[H])(C([H])([H])[H])C([H])([H])[H])C([H])([H])[H] to hexane_groupby/[H]C([H])([H])C(=C(C#C[Si](C([H])([H])[H])(C([H])([H])[H])C([H])([H])[H])C#C[Si](C([H])([H])[H])(C([H])([H])[H])C([H])([H])[H])C([H])([H])[H].pickle\n",
      "Saved mol_dic for SMILES=[H]C([H])([H])C(=O)C(I)(C([H])([H])[H])C([H])([H])[H] to hexane_groupby/[H]C([H])([H])C(=O)C(I)(C([H])([H])[H])C([H])([H])[H].pickle\n",
      "Saved mol_dic for SMILES=[H]C([H])([H])C(=O)[C@]([H])(I)C([H])([H])[H] to hexane_groupby/[H]C([H])([H])C(=O)[C@]([H])(I)C([H])([H])[H].pickle\n",
      "Saved mol_dic for SMILES=[H]C([H])([H])C(B(Cl)Cl)(C([H])([H])[H])C([H])([H])[H] to hexane_groupby/[H]C([H])([H])C(B(Cl)Cl)(C([H])([H])[H])C([H])([H])[H].pickle\n",
      "Saved mol_dic for SMILES=[H]C([H])([H])C(C#CI)(C([H])([H])[H])C([H])([H])[H] to hexane_groupby/[H]C([H])([H])C(C#CI)(C([H])([H])[H])C([H])([H])[H].pickle\n",
      "Saved mol_dic for SMILES=[H]C([H])([H])C(C(=O)C(Cl)(Cl)P(=O)(Cl)Cl)(C([H])([H])[H])C([H])([H])[H] to hexane_groupby/[H]C([H])([H])C(C(=O)C(Cl)(Cl)P(=O)(Cl)Cl)(C([H])([H])[H])C([H])([H])[H].pickle\n",
      "Saved mol_dic for SMILES=[H]C([H])([H])C(C([H])([H])[H])(C([H])([H])Cl)C([H])([H])C([H])([H])[Si](C([H])([H])[H])(C([H])([H])[H])C([H])([H])Cl to hexane_groupby/[H]C([H])([H])C(C([H])([H])[H])(C([H])([H])Cl)C([H])([H])C([H])([H])[Si](C([H])([H])[H])(C([H])([H])[H])C([H])([H])Cl.pickle\n",
      "Saved mol_dic for SMILES=[H]C([H])([H])C(C([H])([H])[H])(C([H])([H])[H])C([H])([H])C([H])([H])B1SC([H])([H])C([H])([H])S1 to hexane_groupby/[H]C([H])([H])C(C([H])([H])[H])(C([H])([H])[H])C([H])([H])C([H])([H])B1SC([H])([H])C([H])([H])S1.pickle\n",
      "Saved mol_dic for SMILES=[H]C([H])([H])C(C([H])([H])[H])(C([H])([H])[H])[C@@]1([H])C([H])([H])[C@]([H])(C([H])([H])[H])[C@]([H])(P2C([H])([H])C([H])([H])[C@]([H])(C([H])([H])[H])C2([H])[H])[C@@]([H])(C(C([H])([H])[H])(C([H])([H])[H])C([H])([H])[H])C1([H])[H] to hexane_groupby/[H]C([H])([H])C(C([H])([H])[H])(C([H])([H])[H])[C@@]1([H])C([H])([H])[C@]([H])(C([H])([H])[H])[C@]([H])(P2C([H])([H])C([H])([H])[C@]([H])(C([_9ca1cbec.pickle\n",
      "Saved mol_dic for SMILES=[H]C([H])([H])C(C([H])([H])[H])(C([H])([H])[H])[C@@]1([H])O[P@@](=O)(Cl)OC(C(F)(F)F)(C(F)(F)F)C1([H])[H] to hexane_groupby/[H]C([H])([H])C(C([H])([H])[H])(C([H])([H])[H])[C@@]1([H])O[P@@](=O)(Cl)OC(C(F)(F)F)(C(F)(F)F)C1([H])[H].pickle\n",
      "Saved mol_dic for SMILES=[H]C([H])([H])C(C([H])([H])[H])(C([H])([H])[H])[Si](N1C(=O)C([H])([H])[C@@]1([H])C([H])([H])I)(C([H])([H])[H])C([H])([H])[H] to hexane_groupby/[H]C([H])([H])C(C([H])([H])[H])(C([H])([H])[H])[Si](N1C(=O)C([H])([H])[C@@]1([H])C([H])([H])I)(C([H])([H])[H])C([H])([H])[H].pickle\n",
      "Saved mol_dic for SMILES=[H]C([H])([H])C(P(C(C([H])([H])[H])(C([H])([H])[H])C([H])([H])[H])C([H])([Si](C([H])([H])[H])(C([H])([H])[H])C([H])([H])[H])[Si](C([H])([H])[H])(C([H])([H])[H])C([H])([H])[H])(C([H])([H])[H])C([H])([H])[H] to hexane_groupby/[H]C([H])([H])C(P(C(C([H])([H])[H])(C([H])([H])[H])C([H])([H])[H])C([H])([Si](C([H])([H])[H])(C([H])([H])[H])C([H])([H])[H])[Si](C([H])([H])[_d1268dbd.pickle\n",
      "Saved mol_dic for SMILES=[H]C([H])([H])C(P1SC([H])([H])C([H])([H])C([H])([H])S1)(C([H])([H])[H])C([H])([H])[H] to hexane_groupby/[H]C([H])([H])C(P1SC([H])([H])C([H])([H])C([H])([H])S1)(C([H])([H])[H])C([H])([H])[H].pickle\n",
      "Saved mol_dic for SMILES=[H]C([H])([H])C([Al](C([H])([Si](C([H])([H])[H])(C([H])([H])[H])C([H])([H])[H])[Si](C([H])([H])[H])(C([H])([H])[H])C([H])([H])[H])C([H])([Si](C([H])([H])[H])(C([H])([H])[H])C([H])([H])[H])[Si](C([H])([H])[H])(C([H])([H])[H])C([H])([H])[H])(C([H])([H])[H])C([H])([H])[H] to hexane_groupby/[H]C([H])([H])C([Al](C([H])([Si](C([H])([H])[H])(C([H])([H])[H])C([H])([H])[H])[Si](C([H])([H])[H])(C([H])([H])[H])C([H])([H])[H])C([H])([Si]_eae0e0ff.pickle\n",
      "Saved mol_dic for SMILES=[H]C([H])([H])C([H])(B(F)N1C(C([H])([H])[H])(C([H])([H])[H])C([H])([H])C([H])([H])C([H])([H])C1(C([H])([H])[H])C([H])([H])[H])C([H])([H])[H] to hexane_groupby/[H]C([H])([H])C([H])(B(F)N1C(C([H])([H])[H])(C([H])([H])[H])C([H])([H])C([H])([H])C([H])([H])C1(C([H])([H])[H])C([H])([H])[H])C([H])([H])[H].pickle\n",
      "Saved mol_dic for SMILES=[H]C([H])([H])C([H])(C([H])([H])[H])C([H])([H])OP1(=O)OC([H])([H])C([H])([H])O1 to hexane_groupby/[H]C([H])([H])C([H])(C([H])([H])[H])C([H])([H])OP1(=O)OC([H])([H])C([H])([H])O1.pickle\n",
      "Saved mol_dic for SMILES=[H]C([H])([H])C([H])(C([H])([H])[H])[C@]([H])(O[P@@](=O)(F)C([H])([H])[H])C([H])([H])[H] to hexane_groupby/[H]C([H])([H])C([H])(C([H])([H])[H])[C@]([H])(O[P@@](=O)(F)C([H])([H])[H])C([H])([H])[H].pickle\n",
      "Saved mol_dic for SMILES=[H]C([H])([H])C([H])(OP1C([H])([H])[C@]([H])(C([H])([H])[H])[C@@]([H])(C([H])([H])[H])C1([H])[H])C([H])([H])[H] to hexane_groupby/[H]C([H])([H])C([H])(OP1C([H])([H])[C@]([H])(C([H])([H])[H])[C@@]([H])(C([H])([H])[H])C1([H])[H])C([H])([H])[H].pickle\n"
     ]
    },
    {
     "name": "stderr",
     "output_type": "stream",
     "text": [
      " 15%|█▌        | 161/1054 [00:00<00:04, 194.43it/s]"
     ]
    },
    {
     "name": "stdout",
     "output_type": "stream",
     "text": [
      "Saved mol_dic for SMILES=[H]C([H])([H])C([H])(O[Si](OC([H])(C([H])([H])[H])C([H])([H])[H])(C([H])([H])[H])C([H])([H])C([H])([H])C([H])([H])I)C([H])([H])[H] to hexane_groupby/[H]C([H])([H])C([H])(O[Si](OC([H])(C([H])([H])[H])C([H])([H])[H])(C([H])([H])[H])C([H])([H])C([H])([H])C([H])([H])I)C([H])([H])[H].pickle\n",
      "Saved mol_dic for SMILES=[H]C([H])([H])C([H])(O[Si]1(C([H])([H])[H])OC([H])([H])C(C([H])([H])[H])(C([H])([H])[H])C([H])([H])O1)C([H])([H])[H] to hexane_groupby/[H]C([H])([H])C([H])(O[Si]1(C([H])([H])[H])OC([H])([H])C(C([H])([H])[H])(C([H])([H])[H])C([H])([H])O1)C([H])([H])[H].pickle\n",
      "Saved mol_dic for SMILES=[H]C([H])([H])C([H])([H])B1OC([H])([H])[C@]([H])(C([H])([H])OB(C([H])([H])C([H])([H])[H])C([H])([H])C([H])([H])[H])O1 to hexane_groupby/[H]C([H])([H])C([H])([H])B1OC([H])([H])[C@]([H])(C([H])([H])OB(C([H])([H])C([H])([H])[H])C([H])([H])C([H])([H])[H])O1.pickle\n",
      "Saved mol_dic for SMILES=[H]C([H])([H])C([H])([H])C([H])(C(=O)O[C@]([H])(I)C([H])([H])[H])C([H])([H])C([H])([H])[H] to hexane_groupby/[H]C([H])([H])C([H])([H])C([H])(C(=O)O[C@]([H])(I)C([H])([H])[H])C([H])([H])C([H])([H])[H].pickle\n",
      "Saved mol_dic for SMILES=[H]C([H])([H])C([H])([H])C([H])(I)I to hexane_groupby/[H]C([H])([H])C([H])([H])C([H])(I)I.pickle\n",
      "Saved mol_dic for SMILES=[H]C([H])([H])C([H])([H])C([H])([H])C([H])([H])C([H])([H])C(=O)C#CI to hexane_groupby/[H]C([H])([H])C([H])([H])C([H])([H])C([H])([H])C([H])([H])C(=O)C#CI.pickle\n",
      "Saved mol_dic for SMILES=[H]C([H])([H])C([H])([H])C([H])([H])C([H])([H])C([H])([H])C([H])([H])C([H])([H])C([H])([H])[C@]([H])(I)C([H])([H])[H] to hexane_groupby/[H]C([H])([H])C([H])([H])C([H])([H])C([H])([H])C([H])([H])C([H])([H])C([H])([H])C([H])([H])[C@]([H])(I)C([H])([H])[H].pickle\n",
      "Saved mol_dic for SMILES=[H]C([H])([H])C([H])([H])C([H])([H])C([H])([H])C([H])([H])C([H])([H])[C@@]([H])(I)C([H])([H])I to hexane_groupby/[H]C([H])([H])C([H])([H])C([H])([H])C([H])([H])C([H])([H])C([H])([H])[C@@]([H])(I)C([H])([H])I.pickle\n",
      "Saved mol_dic for SMILES=[H]C([H])([H])C([H])([H])C([H])([H])C([H])([H])C([H])([H])C([H])([H])[C@@]1([H])O[C@@]2(C([H])([H])[H])C([H])([H])[C@@]3([H])C([H])([H])C([H])([H])C([H])([H])C([H])([H])[C@]3([H])O[C@]2([H])C([H])([H])[C@]1([H])I to hexane_groupby/[H]C([H])([H])C([H])([H])C([H])([H])C([H])([H])C([H])([H])C([H])([H])[C@@]1([H])O[C@@]2(C([H])([H])[H])C([H])([H])[C@@]3([H])C([H])([H])C([H]_bc7a7c3c.pickle\n",
      "Saved mol_dic for SMILES=[H]C([H])([H])C([H])([H])C([H])([H])C([H])([H])N1P(Cl)N(Cl)P(Cl)[N][P]1(Cl)Cl to hexane_groupby/[H]C([H])([H])C([H])([H])C([H])([H])C([H])([H])N1P(Cl)N(Cl)P(Cl)[N][P]1(Cl)Cl.pickle\n",
      "Saved mol_dic for SMILES=[H]C([H])([H])C([H])([H])C([H])([H])C([H])([H])OB(OC([H])([H])C([H])([H])C([H])([H])C([H])([H])[H])[C@@]1([H])C([H])([H])[C@]1([H])C(F)(F)F to hexane_groupby/[H]C([H])([H])C([H])([H])C([H])([H])C([H])([H])OB(OC([H])([H])C([H])([H])C([H])([H])C([H])([H])[H])[C@@]1([H])C([H])([H])[C@]1([H])C(F)(F)F.pickle\n",
      "Saved mol_dic for SMILES=[H]C([H])([H])C([H])([H])C([H])([H])C([H])([H])OB1OC([H])([H])C([H])([H])C([H])([H])C1([H])[H] to hexane_groupby/[H]C([H])([H])C([H])([H])C([H])([H])C([H])([H])OB1OC([H])([H])C([H])([H])C([H])([H])C1([H])[H].pickle\n",
      "Saved mol_dic for SMILES=[H]C([H])([H])C([H])([H])C([H])([H])SP1(=O)OC([H])([H])C([H])([H])C([H])([H])O1 to hexane_groupby/[H]C([H])([H])C([H])([H])C([H])([H])SP1(=O)OC([H])([H])C([H])([H])C([H])([H])O1.pickle\n",
      "Saved mol_dic for SMILES=[H]C([H])([H])C([H])([H])C([H])([H])[C@@]1([H])OC(=O)[C@@]1([H])[Si](C([H])([H])[H])(C([H])([H])[H])C([H])([H])[H] to hexane_groupby/[H]C([H])([H])C([H])([H])C([H])([H])[C@@]1([H])OC(=O)[C@@]1([H])[Si](C([H])([H])[H])(C([H])([H])[H])C([H])([H])[H].pickle\n",
      "Saved mol_dic for SMILES=[H]C([H])([H])C([H])([H])C([H])([H])[Si@]1(C(C([H])([H])[H])(C([H])([H])[H])C([H])([H])[H])[Si@](C([H])([H])C([H])([H])C([H])([H])[H])(C(C([H])([H])[H])(C([H])([H])[H])C([H])([H])[H])[Si@@](C([H])([H])C([H])([H])C([H])([H])[H])(C(C([H])([H])[H])(C([H])([H])[H])C([H])([H])[H])[Si@@]1(C([H])([H])C([H])([H])C([H])([H])[H])C(C([H])([H])[H])(C([H])([H])[H])C([H])([H])[H] to hexane_groupby/[H]C([H])([H])C([H])([H])C([H])([H])[Si@]1(C(C([H])([H])[H])(C([H])([H])[H])C([H])([H])[H])[Si@](C([H])([H])C([H])([H])C([H])([H])[H])(C(C([H_a7d5489d.pickle\n",
      "Saved mol_dic for SMILES=[H]C([H])([H])C([H])([H])C([H])([H])[Si](Cl)(Cl)Cl to hexane_groupby/[H]C([H])([H])C([H])([H])C([H])([H])[Si](Cl)(Cl)Cl.pickle\n",
      "Saved mol_dic for SMILES=[H]C([H])([H])C([H])([H])C1=C(I)C([H])([H])C([H])([H])C1([H])[H] to hexane_groupby/[H]C([H])([H])C([H])([H])C1=C(I)C([H])([H])C([H])([H])C1([H])[H].pickle\n",
      "Saved mol_dic for SMILES=[H]C([H])([H])C([H])([H])N(C([H])([H])[Si](C([H])([H])[H])(C([H])([H])[H])C([H])([H])[H])C([H])([H])[Si](C([H])([H])[H])(C([H])([H])[H])C([H])([H])[H] to hexane_groupby/[H]C([H])([H])C([H])([H])N(C([H])([H])[Si](C([H])([H])[H])(C([H])([H])[H])C([H])([H])[H])C([H])([H])[Si](C([H])([H])[H])(C([H])([H])[H])C([H])([H])[H].pickle\n",
      "Saved mol_dic for SMILES=[H]C([H])([H])C([H])([H])N(P(C#CC(C([H])([H])[H])(C([H])([H])[H])C([H])([H])[H])N(C([H])([H])C([H])([H])[H])C([H])([H])C([H])([H])[H])C([H])([H])C([H])([H])[H] to hexane_groupby/[H]C([H])([H])C([H])([H])N(P(C#CC(C([H])([H])[H])(C([H])([H])[H])C([H])([H])[H])N(C([H])([H])C([H])([H])[H])C([H])([H])C([H])([H])[H])C([H])(_4fdcfbb0.pickle\n",
      "Saved mol_dic for SMILES=[H]C([H])([H])C([H])([H])O/C(I)=C(/C([H])([H])C([H])([H])[H])[P@](=O)(OC([H])([H])C([H])([H])[H])C([H])([H])C([H])([H])[H] to hexane_groupby/[H]C([H])([H])C([H])([H])O_C(I)=C(_C([H])([H])C([H])([H])[H])[P@](=O)(OC([H])([H])C([H])([H])[H])C([H])([H])C([H])([H])[H].pickle\n",
      "Saved mol_dic for SMILES=[H]C([H])([H])C([H])([H])O/C(I)=C(\\C([H])([H])C([H])([H])[H])[P@](=O)(OC([H])([H])C([H])([H])[H])C([H])([H])C([H])([H])[H] to hexane_groupby/[H]C([H])([H])C([H])([H])O_C(I)=C(\\C([H])([H])C([H])([H])[H])[P@](=O)(OC([H])([H])C([H])([H])[H])C([H])([H])C([H])([H])[H].pickle\n",
      "Saved mol_dic for SMILES=[H]C([H])([H])C([H])([H])OC#C[Si](C([H])([H])[H])(C([H])([H])[H])C([H])([H])[H] to hexane_groupby/[H]C([H])([H])C([H])([H])OC#C[Si](C([H])([H])[H])(C([H])([H])[H])C([H])([H])[H].pickle\n",
      "Saved mol_dic for SMILES=[H]C([H])([H])C([H])([H])OC(=O)OC([H])([H])C(I)(I)I to hexane_groupby/[H]C([H])([H])C([H])([H])OC(=O)OC([H])([H])C(I)(I)I.pickle\n",
      "Saved mol_dic for SMILES=[H]C([H])([H])C([H])([H])OC(=O)[C@@]([H])(I)C([H])([H])[H] to hexane_groupby/[H]C([H])([H])C([H])([H])OC(=O)[C@@]([H])(I)C([H])([H])[H].pickle\n",
      "Saved mol_dic for SMILES=[H]C([H])([H])C([H])([H])OP(=O)(C([H])([H])C([H])([H])C([H])([H])[H])C([H])([H])C([H])([H])C([H])([H])[H] to hexane_groupby/[H]C([H])([H])C([H])([H])OP(=O)(C([H])([H])C([H])([H])C([H])([H])[H])C([H])([H])C([H])([H])C([H])([H])[H].pickle\n",
      "Saved mol_dic for SMILES=[H]C([H])([H])C([H])([H])OP(=O)(Cl)OC([H])([H])C([H])([H])[H] to hexane_groupby/[H]C([H])([H])C([H])([H])OP(=O)(Cl)OC([H])([H])C([H])([H])[H].pickle\n",
      "Saved mol_dic for SMILES=[H]C([H])([H])C([H])([H])OP(=O)(OC([H])([H])C([H])([H])[H])N1N(C([H])([H])C([H])([H])[H])[C@]1([H])C([H])([H])[H] to hexane_groupby/[H]C([H])([H])C([H])([H])OP(=O)(OC([H])([H])C([H])([H])[H])N1N(C([H])([H])C([H])([H])[H])[C@]1([H])C([H])([H])[H].pickle\n"
     ]
    },
    {
     "name": "stderr",
     "output_type": "stream",
     "text": [
      " 17%|█▋        | 182/1054 [00:01<00:09, 91.24it/s] "
     ]
    },
    {
     "name": "stdout",
     "output_type": "stream",
     "text": [
      "Saved mol_dic for SMILES=[H]C([H])([H])C([H])([H])OP(OC([H])([H])C([H])([H])[H])S[C@]([H])(C(=O)O[Si](C([H])([H])[H])(C([H])([H])[H])C([H])([H])[H])[Si](C([H])([H])[H])(C([H])([H])[H])C([H])([H])[H] to hexane_groupby/[H]C([H])([H])C([H])([H])OP(OC([H])([H])C([H])([H])[H])S[C@]([H])(C(=O)O[Si](C([H])([H])[H])(C([H])([H])[H])C([H])([H])[H])[Si](C([H])([H])[H_225f420e.pickle\n",
      "Saved mol_dic for SMILES=[H]C([H])([H])C([H])([H])OP1(=O)OC([H])([H])C([H])([H])C([H])([H])O1 to hexane_groupby/[H]C([H])([H])C([H])([H])OP1(=O)OC([H])([H])C([H])([H])C([H])([H])O1.pickle\n",
      "Saved mol_dic for SMILES=[H]C([H])([H])C([H])([H])O[C@@]([H])(C([H])([H])[H])C([H])([H])C1=C(I)C([H])([H])C1([H])[H] to hexane_groupby/[H]C([H])([H])C([H])([H])O[C@@]([H])(C([H])([H])[H])C([H])([H])C1=C(I)C([H])([H])C1([H])[H].pickle\n",
      "Saved mol_dic for SMILES=[H]C([H])([H])C([H])([H])O[P]([S])(Cl)OC([H])([H])C([H])([H])[H] to hexane_groupby/[H]C([H])([H])C([H])([H])O[P]([S])(Cl)OC([H])([H])C([H])([H])[H].pickle\n",
      "Saved mol_dic for SMILES=[H]C([H])([H])C([H])([H])O[P]1([S])OC([H])([H])C([H])([H])O1 to hexane_groupby/[H]C([H])([H])C([H])([H])O[P]1([S])OC([H])([H])C([H])([H])O1.pickle\n",
      "Saved mol_dic for SMILES=[H]C([H])([H])C([H])([H])SB1SC([H])([H])C([H])([H])C([H])([H])S1 to hexane_groupby/[H]C([H])([H])C([H])([H])SB1SC([H])([H])C([H])([H])C([H])([H])S1.pickle\n",
      "Saved mol_dic for SMILES=[H]C([H])([H])C([H])([H])SP(=O)(SC([H])([H])C([H])([H])[H])SC([H])([H])C([H])([H])[H] to hexane_groupby/[H]C([H])([H])C([H])([H])SP(=O)(SC([H])([H])C([H])([H])[H])SC([H])([H])C([H])([H])[H].pickle\n",
      "Saved mol_dic for SMILES=[H]C([H])([H])C([H])([H])S[P@](=O)(SC(C([H])([H])[H])(C([H])([H])[H])C([H])([H])C([H])([H])[H])C([H])([H])C([H])([H])[H] to hexane_groupby/[H]C([H])([H])C([H])([H])S[P@](=O)(SC(C([H])([H])[H])(C([H])([H])[H])C([H])([H])C([H])([H])[H])C([H])([H])C([H])([H])[H].pickle\n",
      "Saved mol_dic for SMILES=[H]C([H])([H])C([H])([H])[C@@]([H])(C([H])([H])[H])C([H])([H])C(=O)O[C@@]([H])(I)C([H])([H])[H] to hexane_groupby/[H]C([H])([H])C([H])([H])[C@@]([H])(C([H])([H])[H])C([H])([H])C(=O)O[C@@]([H])(I)C([H])([H])[H].pickle\n",
      "Saved mol_dic for SMILES=[H]C([H])([H])C([H])([H])[C@]1([H])OC(=O)C([H])([H])[C@@]1([H])I to hexane_groupby/[H]C([H])([H])C([H])([H])[C@]1([H])OC(=O)C([H])([H])[C@@]1([H])I.pickle\n",
      "Saved mol_dic for SMILES=[H]C([H])([H])C([H])([H])[Ge]I to hexane_groupby/[H]C([H])([H])C([H])([H])[Ge]I.pickle\n",
      "Saved mol_dic for SMILES=[H]C([H])([H])C([H])([H])[P]([S])(C([H])([H])C([H])([H])[H])C([H])([H])C([H])([H])[H] to hexane_groupby/[H]C([H])([H])C([H])([H])[P]([S])(C([H])([H])C([H])([H])[H])C([H])([H])C([H])([H])[H].pickle\n",
      "Saved mol_dic for SMILES=[H]C([H])([H])C([H])([H])[Si](C([H])([H])[H])(C([H])([H])C([H])([H])[H])C([H])([H])C([H])([H])[H] to hexane_groupby/[H]C([H])([H])C([H])([H])[Si](C([H])([H])[H])(C([H])([H])C([H])([H])[H])C([H])([H])C([H])([H])[H].pickle\n",
      "Saved mol_dic for SMILES=[H]C([H])([H])C1(C([H])([H])I)C([H])([H])OC1([H])[H] to hexane_groupby/[H]C([H])([H])C1(C([H])([H])I)C([H])([H])OC1([H])[H].pickle\n",
      "Saved mol_dic for SMILES=[H]C([H])([H])C1(C([H])([H])[H])C(=O)C2=C([Si](C([H])([H])[H])(C([H])([H])[H])C([H])([H])[H])C(=O)C([H])([H])[C@]2([H])C1([H])[H] to hexane_groupby/[H]C([H])([H])C1(C([H])([H])[H])C(=O)C2=C([Si](C([H])([H])[H])(C([H])([H])[H])C([H])([H])[H])C(=O)C([H])([H])[C@]2([H])C1([H])[H].pickle\n",
      "Saved mol_dic for SMILES=[H]C([H])([H])C1(C([H])([H])[H])C([H])(I)C1(C([H])([H])[H])C([H])([H])[H] to hexane_groupby/[H]C([H])([H])C1(C([H])([H])[H])C([H])(I)C1(C([H])([H])[H])C([H])([H])[H].pickle\n",
      "Saved mol_dic for SMILES=[H]C([H])([H])C1(C([H])([H])[H])OB(C#C[Si](C([H])([H])[H])(C([H])([H])[H])C(C([H])([H])[H])(C([H])([H])[H])C([H])([H])[H])OC1(C([H])([H])[H])C([H])([H])[H] to hexane_groupby/[H]C([H])([H])C1(C([H])([H])[H])OB(C#C[Si](C([H])([H])[H])(C([H])([H])[H])C(C([H])([H])[H])(C([H])([H])[H])C([H])([H])[H])OC1(C([H])([H])[H])_678f953f.pickle\n",
      "Saved mol_dic for SMILES=[H]C([H])([H])C1=C(C([H])([H])[H])C([H])([H])P(C([H])([H])[H])C1([H])[H] to hexane_groupby/[H]C([H])([H])C1=C(C([H])([H])[H])C([H])([H])P(C([H])([H])[H])C1([H])[H].pickle\n",
      "Saved mol_dic for SMILES=[H]C([H])([H])C1=C(C([H])([H])[H])C([H])([H])P(SC([H])([H])C([H])([H])[H])C1([H])[H] to hexane_groupby/[H]C([H])([H])C1=C(C([H])([H])[H])C([H])([H])P(SC([H])([H])C([H])([H])[H])C1([H])[H].pickle\n",
      "Saved mol_dic for SMILES=[H]C([H])([H])C1=C(C([H])([H])[H])OP(=O)(Oc2c(F)c(F)c(F)c(F)c2F)O1 to hexane_groupby/[H]C([H])([H])C1=C(C([H])([H])[H])OP(=O)(Oc2c(F)c(F)c(F)c(F)c2F)O1.pickle\n",
      "Saved mol_dic for SMILES=[H]C([H])([H])N(B(F)Br)C([H])([H])[H] to hexane_groupby/[H]C([H])([H])N(B(F)Br)C([H])([H])[H].pickle\n",
      "Saved mol_dic for SMILES=[H]C([H])([H])N(B1SC([H])([H])C([H])([H])SB1N(C([H])([H])[H])C([H])([H])[H])C([H])([H])[H] to hexane_groupby/[H]C([H])([H])N(B1SC([H])([H])C([H])([H])SB1N(C([H])([H])[H])C([H])([H])[H])C([H])([H])[H].pickle\n",
      "Saved mol_dic for SMILES=[H]C([H])([H])N(C(=O)OC(C([H])([H])[H])(C([H])([H])[H])C([H])([H])[H])C([H])([H])C([H])([H])C([H])([H])I to hexane_groupby/[H]C([H])([H])N(C(=O)OC(C([H])([H])[H])(C([H])([H])[H])C([H])([H])[H])C([H])([H])C([H])([H])C([H])([H])I.pickle\n",
      "Saved mol_dic for SMILES=[H]C([H])([H])N(C([H])([H])[H])[P@TB14](F)(F)(N(C([H])([H])[H])C([H])([H])[H])N(C([H])([H])[H])C([H])([H])[H] to hexane_groupby/[H]C([H])([H])N(C([H])([H])[H])[P@TB14](F)(F)(N(C([H])([H])[H])C([H])([H])[H])N(C([H])([H])[H])C([H])([H])[H].pickle\n",
      "Saved mol_dic for SMILES=[H]C([H])([H])N(C([H])([H])[H])[P@TB19](F)(F)(N(C([H])([H])[H])C([H])([H])[H])N(C([H])([H])[H])C([H])([H])[H] to hexane_groupby/[H]C([H])([H])N(C([H])([H])[H])[P@TB19](F)(F)(N(C([H])([H])[H])C([H])([H])[H])N(C([H])([H])[H])C([H])([H])[H].pickle\n",
      "Saved mol_dic for SMILES=[H]C([H])([H])N1B(F)N(C([H])([H])[H])B(F)N(C([H])([H])[H])B1F to hexane_groupby/[H]C([H])([H])N1B(F)N(C([H])([H])[H])B(F)N(C([H])([H])[H])B1F.pickle\n",
      "Saved mol_dic for SMILES=[H]C([H])([H])N1C(=O)N(C([H])([H])[H])[P@TB3]1(Cl)(Cl)Cl to hexane_groupby/[H]C([H])([H])N1C(=O)N(C([H])([H])[H])[P@TB3]1(Cl)(Cl)Cl.pickle\n",
      "Saved mol_dic for SMILES=[H]C([H])([H])OC(=O)[C@]1(C([H])([H])[H])C([H])([H])O[P@](=O)(N2C([H])([H])C2([H])[H])OC1([H])[H] to hexane_groupby/[H]C([H])([H])OC(=O)[C@]1(C([H])([H])[H])C([H])([H])O[P@](=O)(N2C([H])([H])C2([H])[H])OC1([H])[H].pickle\n",
      "Saved mol_dic for SMILES=[H]C([H])([H])OC(=O)c1nc(Cl)nc(Cl)c1I to hexane_groupby/[H]C([H])([H])OC(=O)c1nc(Cl)nc(Cl)c1I.pickle\n",
      "Saved mol_dic for SMILES=[H]C([H])([H])OC([H])(OC([H])([H])[H])P(=O)(OC([H])([H])[H])OC([H])([H])[H] to hexane_groupby/[H]C([H])([H])OC([H])(OC([H])([H])[H])P(=O)(OC([H])([H])[H])OC([H])([H])[H].pickle\n",
      "Saved mol_dic for SMILES=[H]C([H])([H])OC([H])(OC([H])([H])[H])[Si]([H])([H])C([H])([H])C([H])([H])C([H])([H])I to hexane_groupby/[H]C([H])([H])OC([H])(OC([H])([H])[H])[Si]([H])([H])C([H])([H])C([H])([H])C([H])([H])I.pickle\n",
      "Saved mol_dic for SMILES=[H]C([H])([H])OC([H])([H])C([H])([H])C([H])([H])I to hexane_groupby/[H]C([H])([H])OC([H])([H])C([H])([H])C([H])([H])I.pickle\n"
     ]
    },
    {
     "name": "stderr",
     "output_type": "stream",
     "text": [
      " 20%|██        | 214/1054 [00:01<00:08, 101.97it/s]"
     ]
    },
    {
     "name": "stdout",
     "output_type": "stream",
     "text": [
      "Saved mol_dic for SMILES=[H]C([H])([H])OC([H])([H])C([H])([H])O[Si](OC([H])([H])[H])(OC([H])([H])[H])C([H])([H])C([H])([H])Br to hexane_groupby/[H]C([H])([H])OC([H])([H])C([H])([H])O[Si](OC([H])([H])[H])(OC([H])([H])[H])C([H])([H])C([H])([H])Br.pickle\n",
      "Saved mol_dic for SMILES=[H]C([H])([H])OC([H])([H])C([H])([H])[Si](C([H])([H])[H])(C([H])([H])[H])C([H])([H])[H] to hexane_groupby/[H]C([H])([H])OC([H])([H])C([H])([H])[Si](C([H])([H])[H])(C([H])([H])[H])C([H])([H])[H].pickle\n",
      "Saved mol_dic for SMILES=[H]C([H])([H])ON(C(=O)[C@]([H])(C([H])([H])[H])[C@@]([H])(O[Si](C([H])([H])[H])(C([H])([H])[H])C(C([H])([H])[H])(C([H])([H])[H])C([H])([H])[H])[C@]([H])(C(=O)C([H])([H])[H])C([H])([H])[H])C([H])([H])[H] to hexane_groupby/[H]C([H])([H])ON(C(=O)[C@]([H])(C([H])([H])[H])[C@@]([H])(O[Si](C([H])([H])[H])(C([H])([H])[H])C(C([H])([H])[H])(C([H])([H])[H])C([H])([H])[H_5d0eeef9.pickle\n",
      "Saved mol_dic for SMILES=[H]C([H])([H])OP(=O)(OC([H])([H])[H])C([H])([H])C#CC([H])(OC([H])([H])C([H])([H])[H])OC([H])([H])C([H])([H])[H] to hexane_groupby/[H]C([H])([H])OP(=O)(OC([H])([H])[H])C([H])([H])C#CC([H])(OC([H])([H])C([H])([H])[H])OC([H])([H])C([H])([H])[H].pickle\n"
     ]
    },
    {
     "name": "stderr",
     "output_type": "stream",
     "text": [
      " 22%|██▏       | 228/1054 [00:01<00:10, 79.58it/s] "
     ]
    },
    {
     "name": "stdout",
     "output_type": "stream",
     "text": [
      "Saved mol_dic for SMILES=[H]C([H])([H])OP(=O)(OC([H])([H])[H])C([H])([H])S(=O)(=O)N(C([H])([H])C([H])([H])[H])C([H])([H])C([H])([H])[H] to hexane_groupby/[H]C([H])([H])OP(=O)(OC([H])([H])[H])C([H])([H])S(=O)(=O)N(C([H])([H])C([H])([H])[H])C([H])([H])C([H])([H])[H].pickle\n",
      "Saved mol_dic for SMILES=[H]C([H])([H])OP(=O)(OC([H])([H])[H])SC([H])([H])[H] to hexane_groupby/[H]C([H])([H])OP(=O)(OC([H])([H])[H])SC([H])([H])[H].pickle\n",
      "Saved mol_dic for SMILES=[H]C([H])([H])O[P@@](=O)(C(OC(=O)C(C([H])([H])[H])(C([H])([H])[H])C([H])([H])[H])=C(C([H])([H])[H])C([H])([H])[H])N(C([H])([H])[H])C([H])([H])[H] to hexane_groupby/[H]C([H])([H])O[P@@](=O)(C(OC(=O)C(C([H])([H])[H])(C([H])([H])[H])C([H])([H])[H])=C(C([H])([H])[H])C([H])([H])[H])N(C([H])([H])[H])C([H])([H])[H].pickle\n",
      "Saved mol_dic for SMILES=[H]C([H])([H])O[P]([S])(OC([H])([H])[H])C([H])([H])[H] to hexane_groupby/[H]C([H])([H])O[P]([S])(OC([H])([H])[H])C([H])([H])[H].pickle\n",
      "Saved mol_dic for SMILES=[H]C([H])([H])O[Si](C([H])(C([H])([H])[H])C([H])([H])[H])(C([H])(C([H])([H])[H])C([H])([H])[H])[Si]([H])(C([H])(C([H])([H])[H])C([H])([H])[H])C([H])(C([H])([H])[H])C([H])([H])[H] to hexane_groupby/[H]C([H])([H])O[Si](C([H])(C([H])([H])[H])C([H])([H])[H])(C([H])(C([H])([H])[H])C([H])([H])[H])[Si]([H])(C([H])(C([H])([H])[H])C([H])([H])[H]_315f091c.pickle\n",
      "Saved mol_dic for SMILES=[H]C([H])([H])O[Si](C([H])([H])[H])(C([H])([H])[H])C([H])([H])C([H])([H])[H] to hexane_groupby/[H]C([H])([H])O[Si](C([H])([H])[H])(C([H])([H])[H])C([H])([H])C([H])([H])[H].pickle\n",
      "Saved mol_dic for SMILES=[H]C([H])([H])O[Si](OC([H])([H])[H])(N1C([H])([H])C([H])([H])C([H])([H])C1([H])[H])C(C([H])([H])[H])(C([H])([H])[H])C([H])(C([H])([H])[H])C([H])([H])[H] to hexane_groupby/[H]C([H])([H])O[Si](OC([H])([H])[H])(N1C([H])([H])C([H])([H])C([H])([H])C1([H])[H])C(C([H])([H])[H])(C([H])([H])[H])C([H])(C([H])([H])[H])C([_d2b4ea86.pickle\n",
      "Saved mol_dic for SMILES=[H]C([H])([H])P(C([H])([H])[H])C([H])([Si](C([H])([H])[H])(C([H])([H])[H])C([H])([H])[H])[Si](C([H])([H])[H])(C([H])([H])[H])C([H])([H])[H] to hexane_groupby/[H]C([H])([H])P(C([H])([H])[H])C([H])([Si](C([H])([H])[H])(C([H])([H])[H])C([H])([H])[H])[Si](C([H])([H])[H])(C([H])([H])[H])C([H])([H])[H].pickle\n",
      "Saved mol_dic for SMILES=[H]C([H])([H])P(C([H])([Si](C([H])([H])[H])(C([H])([H])[H])C([H])([H])[H])[Si](C([H])([H])[H])(C([H])([H])[H])C([H])([H])[H])C([H])([Si](C([H])([H])[H])(C([H])([H])[H])C([H])([H])[H])[Si](C([H])([H])[H])(C([H])([H])[H])C([H])([H])[H] to hexane_groupby/[H]C([H])([H])P(C([H])([Si](C([H])([H])[H])(C([H])([H])[H])C([H])([H])[H])[Si](C([H])([H])[H])(C([H])([H])[H])C([H])([H])[H])C([H])([Si](C([H_813a3606.pickle\n",
      "Saved mol_dic for SMILES=[H]C([H])([H])SB(Cl)Cl to hexane_groupby/[H]C([H])([H])SB(Cl)Cl.pickle\n",
      "Saved mol_dic for SMILES=[H]C([H])([H])SC(SC([H])([H])[H])(C(SC([H])([H])[H])(SC([H])([H])[H])[Si](C([H])([H])[H])(C([H])([H])[H])C([H])([H])[H])[Si](C([H])([H])[H])(C([H])([H])[H])C([H])([H])[H] to hexane_groupby/[H]C([H])([H])SC(SC([H])([H])[H])(C(SC([H])([H])[H])(SC([H])([H])[H])[Si](C([H])([H])[H])(C([H])([H])[H])C([H])([H])[H])[Si](C([H])([H])[H])(_21143bfb.pickle\n",
      "Saved mol_dic for SMILES=[H]C([H])([H])Sc1nc(Cl)c(I)c(Cl)n1 to hexane_groupby/[H]C([H])([H])Sc1nc(Cl)c(I)c(Cl)n1.pickle\n",
      "Saved mol_dic for SMILES=[H]C([H])([H])[C@@]1([H])[C@@]([H])(C([H])([H])[H])[C@]([H])(C([H])([H])[H])P(P(P2[C@@]([H])(C([H])([H])[H])[C@@]([H])(C([H])([H])[H])[C@@]([H])(C([H])([H])[H])[C@]2([H])C([H])([H])[H])P2[C@@]([H])(C([H])([H])[H])[C@]([H])(C([H])([H])[H])[C@]([H])(C([H])([H])[H])[C@@]2([H])C([H])([H])[H])[C@@]1([H])C([H])([H])[H] to hexane_groupby/[H]C([H])([H])[C@@]1([H])[C@@]([H])(C([H])([H])[H])[C@]([H])(C([H])([H])[H])P(P(P2[C@@]([H])(C([H])([H])[H])[C@@]([H])(C([H])([H])[H])[C@@]([_2f91a3db.pickle\n",
      "Saved mol_dic for SMILES=[H]C([H])([H])[C@]1([H])N(P(=O)(N2C([H])([H])[C@]2([H])C([H])([H])[H])N2[C@@]([H])(C([H])([H])[H])C([H])([H])C([H])([H])[C@]2([H])C([H])([H])[H])C1([H])[H] to hexane_groupby/[H]C([H])([H])[C@]1([H])N(P(=O)(N2C([H])([H])[C@]2([H])C([H])([H])[H])N2[C@@]([H])(C([H])([H])[H])C([H])([H])C([H])([H])[C@]2([H])C([H])([H])_382593c4.pickle\n",
      "Saved mol_dic for SMILES=[H]C([H])([H])[C@]1([H])SC([H])([H])[Si](C([H])([H])[H])(C([H])([H])[H])C1([H])[H] to hexane_groupby/[H]C([H])([H])[C@]1([H])SC([H])([H])[Si](C([H])([H])[H])(C([H])([H])[H])C1([H])[H].pickle\n",
      "Saved mol_dic for SMILES=[H]C([H])([H])[N][P](Cl)(Cl)Cl to hexane_groupby/[H]C([H])([H])[N][P](Cl)(Cl)Cl.pickle\n",
      "Saved mol_dic for SMILES=[H]C([H])([H])[S@](=O)P(N1C([H])([H])C([H])([H])C([H])([H])C([H])([H])C1([H])[H])N1C([H])([H])C([H])([H])C([H])([H])C([H])([H])C1([H])[H] to hexane_groupby/[H]C([H])([H])[S@](=O)P(N1C([H])([H])C([H])([H])C([H])([H])C([H])([H])C1([H])[H])N1C([H])([H])C([H])([H])C([H])([H])C([H])([H])C1([H])[H].pickle\n",
      "Saved mol_dic for SMILES=[H]C([H])([H])[Se]P(C([H])([H])[H])C([H])([H])[H] to hexane_groupby/[H]C([H])([H])[Se]P(C([H])([H])[H])C([H])([H])[H].pickle\n",
      "Saved mol_dic for SMILES=[H]C([H])([H])[Si](C#CBr)(O[Si](C([H])([H])[H])(C([H])([H])[H])C([H])([H])Cl)C([H])([H])[H] to hexane_groupby/[H]C([H])([H])[Si](C#CBr)(O[Si](C([H])([H])[H])(C([H])([H])[H])C([H])([H])Cl)C([H])([H])[H].pickle\n",
      "Saved mol_dic for SMILES=[H]C([H])([H])[Si](C([H])([H])[H])(C([H])([H])[H])C(F)(F)C(F)(F)C(F)(F)C(F)(F)F to hexane_groupby/[H]C([H])([H])[Si](C([H])([H])[H])(C([H])([H])[H])C(F)(F)C(F)(F)C(F)(F)C(F)(F)F.pickle\n",
      "Saved mol_dic for SMILES=[H]C([H])([H])[Si](C([H])([H])[H])(C([H])([H])[H])C([H])([H])Br to hexane_groupby/[H]C([H])([H])[Si](C([H])([H])[H])(C([H])([H])[H])C([H])([H])Br.pickle\n",
      "Saved mol_dic for SMILES=[H]C([H])([H])[Si](C([H])([H])[H])(C([H])([H])[H])C1([H])[N][N]1 to hexane_groupby/[H]C([H])([H])[Si](C([H])([H])[H])(C([H])([H])[H])C1([H])[N][N]1.pickle\n",
      "Saved mol_dic for SMILES=[H]C([H])([H])[Si](C([H])([H])[H])(C([H])([H])[H])[Si]([H])([Si](C([H])([H])[H])(C([H])([H])[H])C([H])([H])[H])[Si](C([H])([H])[H])(C([H])([H])[H])C([H])([H])[H] to hexane_groupby/[H]C([H])([H])[Si](C([H])([H])[H])(C([H])([H])[H])[Si]([H])([Si](C([H])([H])[H])(C([H])([H])[H])C([H])([H])[H])[Si](C([H])([H])[H])(C([H])([H_5dd18342.pickle\n",
      "Saved mol_dic for SMILES=[H]C([H])([H])[Si](Cl)(C([H])([H])[H])C([H])(Cl)Cl to hexane_groupby/[H]C([H])([H])[Si](Cl)(C([H])([H])[H])C([H])(Cl)Cl.pickle\n",
      "Saved mol_dic for SMILES=[H]C([H])([H])[Si](Cl)(O[Si](O[Si]([H])([H])[H])(C([H])([H])[H])C([H])([H])[H])C([H])([H])[H] to hexane_groupby/[H]C([H])([H])[Si](Cl)(O[Si](O[Si]([H])([H])[H])(C([H])([H])[H])C([H])([H])[H])C([H])([H])[H].pickle\n",
      "Saved mol_dic for SMILES=[H]C([H])([H])[Si](N=C=O)(N=C=O)N=C=O to hexane_groupby/[H]C([H])([H])[Si](N=C=O)(N=C=O)N=C=O.pickle\n"
     ]
    },
    {
     "name": "stderr",
     "output_type": "stream",
     "text": [
      " 25%|██▍       | 263/1054 [00:02<00:09, 80.81it/s]"
     ]
    },
    {
     "name": "stdout",
     "output_type": "stream",
     "text": [
      "Saved mol_dic for SMILES=[H]C([H])([H])[Si](O[Si](O[Si](O[Si](C([H])([H])[H])(C([H])([H])[H])C([H])([H])[H])(C([H])([H])[H])C([H])([H])[H])(C([H])([H])[H])C([H])([H])[H])(O[Si](O[Si](C([H])([H])[H])(C([H])([H])[H])C([H])([H])[H])(C([H])([H])[H])C([H])([H])[H])C([H])([H])[H] to hexane_groupby/[H]C([H])([H])[Si](O[Si](O[Si](O[Si](C([H])([H])[H])(C([H])([H])[H])C([H])([H])[H])(C([H])([H])[H])C([H])([H])[H])(C([H])([H])[H])C([H])([H])_e7078a4c.pickle\n",
      "Saved mol_dic for SMILES=[H]C([H])([H])[Si]([H])(C([H])([H])[H])C([Si](C([H])([H])[H])(C([H])([H])[H])C([H])([H])[H])([Si](C([H])([H])[H])(C([H])([H])[H])C([H])([H])[H])[Si](C([H])([H])[H])(C([H])([H])[H])C([H])([H])[H] to hexane_groupby/[H]C([H])([H])[Si]([H])(C([H])([H])[H])C([Si](C([H])([H])[H])(C([H])([H])[H])C([H])([H])[H])([Si](C([H])([H])[H])(C([H])([H])[H])C([H])([H])[_902e31dd.pickle\n",
      "Saved mol_dic for SMILES=[H]C([H])([H])[Si]1(C([H])([H])[H])C([H])([H])C([H])([H])[Si]1(C([H])([H])[H])C([H])([H])[H] to hexane_groupby/[H]C([H])([H])[Si]1(C([H])([H])[H])C([H])([H])C([H])([H])[Si]1(C([H])([H])[H])C([H])([H])[H].pickle\n",
      "Saved mol_dic for SMILES=[H]C([H])([H])[Si]1(Cl)[Si](C([H])([H])[H])(C([H])([H])[H])[Si](C([H])([H])[H])(C([H])([H])[H])[Si](C([H])([H])[H])(C([H])([H])[H])[Si]1(C([H])([H])[H])C([H])([H])[H] to hexane_groupby/[H]C([H])([H])[Si]1(Cl)[Si](C([H])([H])[H])(C([H])([H])[H])[Si](C([H])([H])[H])(C([H])([H])[H])[Si](C([H])([H])[H])(C([H])([H])[H])[Si]1(C([H_b7c1c1d1.pickle\n",
      "Saved mol_dic for SMILES=[H]C([H])([H])c1c(I)c(=O)n(C([H])([H])[H])c(=O)n1C([H])([H])[H] to hexane_groupby/[H]C([H])([H])c1c(I)c(=O)n(C([H])([H])[H])c(=O)n1C([H])([H])[H].pickle\n",
      "Saved mol_dic for SMILES=[H]C([H])([H])c1nc([N+](=O)[O-])c(I)n1C([H])([H])C([H])([H])S(=O)(=O)C([H])([H])C([H])([H])[H] to hexane_groupby/[H]C([H])([H])c1nc([N+](=O)[O-])c(I)n1C([H])([H])C([H])([H])S(=O)(=O)C([H])([H])C([H])([H])[H].pickle\n",
      "Saved mol_dic for SMILES=[H]C([H])([H])c1noc(C([H])([H])[H])c1C([H])([H])C([H])([H])I to hexane_groupby/[H]C([H])([H])c1noc(C([H])([H])[H])c1C([H])([H])C([H])([H])I.pickle\n",
      "Saved mol_dic for SMILES=[H]C([H])([H])c1noc(C([H])([H])[H])c1I to hexane_groupby/[H]C([H])([H])c1noc(C([H])([H])[H])c1I.pickle\n",
      "Saved mol_dic for SMILES=[H]C([H])([Si]([H])(Cl)Cl)[Si](Cl)(Cl)Cl to hexane_groupby/[H]C([H])([Si]([H])(Cl)Cl)[Si](Cl)(Cl)Cl.pickle\n",
      "Saved mol_dic for SMILES=[H]C([H])=C(C([H])([H])[H])C([H])([H])C([H])([H])C([H])([H])[C@]([H])(C([H])([H])[H])C([H])([H])C([H])([H])I to hexane_groupby/[H]C([H])=C(C([H])([H])[H])C([H])([H])C([H])([H])C([H])([H])[C@]([H])(C([H])([H])[H])C([H])([H])C([H])([H])I.pickle\n",
      "Saved mol_dic for SMILES=[H]C([H])=C(Cl)[Si](Cl)(Cl)Cl to hexane_groupby/[H]C([H])=C(Cl)[Si](Cl)(Cl)Cl.pickle\n",
      "Saved mol_dic for SMILES=[H]C([H])=C(I)C([H])([H])OC([H])([H])[H] to hexane_groupby/[H]C([H])=C(I)C([H])([H])OC([H])([H])[H].pickle\n",
      "Saved mol_dic for SMILES=[H]C([H])=C([H])/C([H])=C(/[H])O[Si](C([H])([H])[H])(C([H])([H])[H])C([H])([H])[H] to hexane_groupby/[H]C([H])=C([H])_C([H])=C(_[H])O[Si](C([H])([H])[H])(C([H])([H])[H])C([H])([H])[H].pickle\n",
      "Saved mol_dic for SMILES=[H]C([H])=C([H])/C([H])=C(\\[H])O[Si](C([H])([H])[H])(C([H])([H])[H])C([H])([H])[H] to hexane_groupby/[H]C([H])=C([H])_C([H])=C(\\[H])O[Si](C([H])([H])[H])(C([H])([H])[H])C([H])([H])[H].pickle\n",
      "Saved mol_dic for SMILES=[H]C([H])=C([H])C([H])([H])/C(=C(/[H])I)C([H])([H])C([H])([H])C([H])([H])C([H])([H])C([H])([H])[H] to hexane_groupby/[H]C([H])=C([H])C([H])([H])_C(=C(_[H])I)C([H])([H])C([H])([H])C([H])([H])C([H])([H])C([H])([H])[H].pickle\n",
      "Saved mol_dic for SMILES=[H]C([H])=C([H])C([H])([H])/C(=C(/[H])I)C([H])([H])OC([H])([H])[H] to hexane_groupby/[H]C([H])=C([H])C([H])([H])_C(=C(_[H])I)C([H])([H])OC([H])([H])[H].pickle\n",
      "Saved mol_dic for SMILES=[H]C([H])=C([H])C([H])([H])/C(=C(\\[H])I)C([H])([H])C([H])([H])C([H])([H])C([H])([H])C([H])([H])[H] to hexane_groupby/[H]C([H])=C([H])C([H])([H])_C(=C(\\[H])I)C([H])([H])C([H])([H])C([H])([H])C([H])([H])C([H])([H])[H].pickle\n",
      "Saved mol_dic for SMILES=[H]C([H])=C([H])C([H])([H])/C(=C(\\[H])I)C([H])([H])OC([H])([H])[H] to hexane_groupby/[H]C([H])=C([H])C([H])([H])_C(=C(\\[H])I)C([H])([H])OC([H])([H])[H].pickle\n",
      "Saved mol_dic for SMILES=[H]C([H])=C([H])C([H])([H])C([H])(I)C([H])([H])C([H])=C([H])[H] to hexane_groupby/[H]C([H])=C([H])C([H])([H])C([H])(I)C([H])([H])C([H])=C([H])[H].pickle\n",
      "Saved mol_dic for SMILES=[H]C([H])=C([H])C([H])([H])C([H])([H])C#CO[Si](C([H])(C([H])([H])[H])C([H])([H])[H])(C([H])(C([H])([H])[H])C([H])([H])[H])C([H])(C([H])([H])[H])C([H])([H])[H] to hexane_groupby/[H]C([H])=C([H])C([H])([H])C([H])([H])C#CO[Si](C([H])(C([H])([H])[H])C([H])([H])[H])(C([H])(C([H])([H])[H])C([H])([H])[H])C([H])(C([H])([H])[_c1e39420.pickle\n",
      "Saved mol_dic for SMILES=[H]C([H])=C([H])C([H])([H])C([H])([H])C([H])([H])C([H])([H])[C@@]1([H])C([H])([H])[C@]1([H])I to hexane_groupby/[H]C([H])=C([H])C([H])([H])C([H])([H])C([H])([H])C([H])([H])[C@@]1([H])C([H])([H])[C@]1([H])I.pickle\n",
      "Saved mol_dic for SMILES=[H]C([H])=C([H])C([H])([H])C([H])([H])c1c([H])c(F)c(I)c(F)c1[H] to hexane_groupby/[H]C([H])=C([H])C([H])([H])C([H])([H])c1c([H])c(F)c(I)c(F)c1[H].pickle\n",
      "Saved mol_dic for SMILES=[H]C([H])=C([H])C([H])([H])N(C#CC(=O)OC([H])([H])C([H])([H])[H])C(=O)c1c([H])c([H])c([H])c([H])c1I to hexane_groupby/[H]C([H])=C([H])C([H])([H])N(C#CC(=O)OC([H])([H])C([H])([H])[H])C(=O)c1c([H])c([H])c([H])c([H])c1I.pickle\n",
      "Saved mol_dic for SMILES=[H]C([H])=C([H])C([H])([H])N(C#CC([H])([H])[H])C(=O)c1c([H])c([H])c([H])c([H])c1I to hexane_groupby/[H]C([H])=C([H])C([H])([H])N(C#CC([H])([H])[H])C(=O)c1c([H])c([H])c([H])c([H])c1I.pickle\n",
      "Saved mol_dic for SMILES=[H]C([H])=C([H])C([H])([H])O[C@@]([H])(c1c([H])c([H])c(OC([H])([H])[H])c([H])c1[H])C([H])([H])I to hexane_groupby/[H]C([H])=C([H])C([H])([H])O[C@@]([H])(c1c([H])c([H])c(OC([H])([H])[H])c([H])c1[H])C([H])([H])I.pickle\n",
      "Saved mol_dic for SMILES=[H]C([H])=C([H])C([H])([H])Oc1c(I)c([H])c(C(=O)N([H])N=C(C([H])([H])[H])C([H])([H])[H])c([H])c1I to hexane_groupby/[H]C([H])=C([H])C([H])([H])Oc1c(I)c([H])c(C(=O)N([H])N=C(C([H])([H])[H])C([H])([H])[H])c([H])c1I.pickle\n",
      "Saved mol_dic for SMILES=[H]C([H])=C([H])C([H])([H])[Si](Cl)(Cl)C([H])([H])C([H])([H])C([H])([H])Cl to hexane_groupby/[H]C([H])=C([H])C([H])([H])[Si](Cl)(Cl)C([H])([H])C([H])([H])C([H])([H])Cl.pickle\n",
      "Saved mol_dic for SMILES=[H]C([H])=C([H])P(=O)(C([H])=C([H])[H])C([H])=C([H])[H] to hexane_groupby/[H]C([H])=C([H])P(=O)(C([H])=C([H])[H])C([H])=C([H])[H].pickle\n",
      "Saved mol_dic for SMILES=[H]C([H])=C([H])P([H])[H] to hexane_groupby/[H]C([H])=C([H])P([H])[H].pickle\n",
      "Saved mol_dic for SMILES=[H]C([H])=C([H])[C@@]([H])(C([H])([H])[H])[C@]([H])(C([H])([H])[H])[C@@]([H])(C([H])([H])[H])C([H])([H])C([H])([H])[Si](C([H])([H])[H])(C([H])([H])[H])C([H])([H])[H] to hexane_groupby/[H]C([H])=C([H])[C@@]([H])(C([H])([H])[H])[C@]([H])(C([H])([H])[H])[C@@]([H])(C([H])([H])[H])C([H])([H])C([H])([H])[Si](C([H])([H])[H])(C([H]_239e60ed.pickle\n",
      "Saved mol_dic for SMILES=[H]C([H])=C([H])[C@]([H])(OC(=O)C([H])([H])I)C([H])([H])[H] to hexane_groupby/[H]C([H])=C([H])[C@]([H])(OC(=O)C([H])([H])I)C([H])([H])[H].pickle\n"
     ]
    },
    {
     "name": "stderr",
     "output_type": "stream",
     "text": [
      " 31%|███       | 326/1054 [00:02<00:05, 139.48it/s]"
     ]
    },
    {
     "name": "stdout",
     "output_type": "stream",
     "text": [
      "Saved mol_dic for SMILES=[H]C([H])=C([H])[S@](=O)C([H])([H])C([H])([H])OC([H])([H])[Si](C([H])([H])[H])(C([H])([H])C([H])([H])[H])C([H])([H])C([H])([H])[H] to hexane_groupby/[H]C([H])=C([H])[S@](=O)C([H])([H])C([H])([H])OC([H])([H])[Si](C([H])([H])[H])(C([H])([H])C([H])([H])[H])C([H])([H])C([H])([H])[H].pickle\n",
      "Saved mol_dic for SMILES=[H]C([H])=C([H])[Si@@]([H])(C([H])([H])OC([H])([H])[H])C([H])([H])C([H])([H])C(F)(F)F to hexane_groupby/[H]C([H])=C([H])[Si@@]([H])(C([H])([H])OC([H])([H])[H])C([H])([H])C([H])([H])C(F)(F)F.pickle\n",
      "Saved mol_dic for SMILES=[H]C([H])=C([H])[Si](C([H])([H])[H])(C([H])([H])[H])C([H])([H])C([H])([H])SC([H])([H])C([H])([H])N([H])[H] to hexane_groupby/[H]C([H])=C([H])[Si](C([H])([H])[H])(C([H])([H])[H])C([H])([H])C([H])([H])SC([H])([H])C([H])([H])N([H])[H].pickle\n",
      "Saved mol_dic for SMILES=[H]C([H])=C([H])[Si]1(c2c([H])c([H])c([H])c([H])c2[H])C([H])([H])C([H])=C([H])C1([H])[H] to hexane_groupby/[H]C([H])=C([H])[Si]1(c2c([H])c([H])c([H])c([H])c2[H])C([H])([H])C([H])=C([H])C1([H])[H].pickle\n",
      "Saved mol_dic for SMILES=[H]C([H])=C([H])c1c([H])c([H])c(C([H])([H])I)c([H])c1[H] to hexane_groupby/[H]C([H])=C([H])c1c([H])c([H])c(C([H])([H])I)c([H])c1[H].pickle\n",
      "Saved mol_dic for SMILES=[H]C([H])=C([H])c1c([H])c([H])c([H])c([H])c1C([H])([H])I to hexane_groupby/[H]C([H])=C([H])c1c([H])c([H])c([H])c([H])c1C([H])([H])I.pickle\n",
      "Saved mol_dic for SMILES=[H]C([H])=C([H])c1c([H])c([H])c([P@]2(=O)C([H])([H])C([H])=C(C([H])([H])[H])C2([H])[H])c([H])c1[H] to hexane_groupby/[H]C([H])=C([H])c1c([H])c([H])c([P@]2(=O)C([H])([H])C([H])=C(C([H])([H])[H])C2([H])[H])c([H])c1[H].pickle\n",
      "Saved mol_dic for SMILES=[H]C([H])=C([H])n1c2c([H])c([H])c(I)c([H])c2c2c([H])c(I)c([H])c([H])c21 to hexane_groupby/[H]C([H])=C([H])n1c2c([H])c([H])c(I)c([H])c2c2c([H])c(I)c([H])c([H])c21.pickle\n",
      "Saved mol_dic for SMILES=[H]C([H])=NC([H])([Si](C([H])([H])[H])(C([H])([H])[H])C([H])([H])[H])[Si](C([H])([H])[H])(C([H])([H])[H])C([H])([H])[H] to hexane_groupby/[H]C([H])=NC([H])([Si](C([H])([H])[H])(C([H])([H])[H])C([H])([H])[H])[Si](C([H])([H])[H])(C([H])([H])[H])C([H])([H])[H].pickle\n",
      "Saved mol_dic for SMILES=[H]C([H])=[Si](C([H])([H])[H])C([H])([H])[H] to hexane_groupby/[H]C([H])=[Si](C([H])([H])[H])C([H])([H])[H].pickle\n",
      "Saved mol_dic for SMILES=[H]C1(C(=O)Br)C([Si](C([H])([H])[H])(C([H])([H])[H])C([H])([H])[H])=C1[Si](C([H])([H])[H])(C([H])([H])[H])C([H])([H])[H] to hexane_groupby/[H]C1(C(=O)Br)C([Si](C([H])([H])[H])(C([H])([H])[H])C([H])([H])[H])=C1[Si](C([H])([H])[H])(C([H])([H])[H])C([H])([H])[H].pickle\n",
      "Saved mol_dic for SMILES=[H]C1([H])B(Br)C([H])([H])B(Br)C([H])([H])B1Br to hexane_groupby/[H]C1([H])B(Br)C([H])([H])B(Br)C([H])([H])B1Br.pickle\n",
      "Saved mol_dic for SMILES=[H]C1([H])C(=O)C([H])([H])[C@@]([H])(I)C([H])([H])C1([H])[H] to hexane_groupby/[H]C1([H])C(=O)C([H])([H])[C@@]([H])(I)C([H])([H])C1([H])[H].pickle\n",
      "Saved mol_dic for SMILES=[H]C1([H])C(=O)N(I)C(=O)C1([H])[H] to hexane_groupby/[H]C1([H])C(=O)N(I)C(=O)C1([H])[H].pickle\n",
      "Saved mol_dic for SMILES=[H]C1([H])C(=O)[C@@]([H])(I)C([H])([H])C([H])([H])C([H])([H])C1([H])[H] to hexane_groupby/[H]C1([H])C(=O)[C@@]([H])(I)C([H])([H])C([H])([H])C([H])([H])C1([H])[H].pickle\n",
      "Saved mol_dic for SMILES=[H]C1([H])C(=O)[C@]([H])(I)C([H])([H])C([H])([H])C([H])([H])C([H])([H])C([H])([H])C([H])([H])C([H])([H])C([H])([H])C1([H])[H] to hexane_groupby/[H]C1([H])C(=O)[C@]([H])(I)C([H])([H])C([H])([H])C([H])([H])C([H])([H])C([H])([H])C([H])([H])C([H])([H])C([H])([H])C1([H])[H].pickle\n",
      "Saved mol_dic for SMILES=[H]C1([H])C(I)=C(I)C([H])([H])C([H])([H])C1([H])[H] to hexane_groupby/[H]C1([H])C(I)=C(I)C([H])([H])C([H])([H])C1([H])[H].pickle\n",
      "Saved mol_dic for SMILES=[H]C1([H])C([H])([H])C([H])([H])C([H])(OC(=O)O[C@@]([H])(I)C([H])([H])[H])C([H])([H])C1([H])[H] to hexane_groupby/[H]C1([H])C([H])([H])C([H])([H])C([H])(OC(=O)O[C@@]([H])(I)C([H])([H])[H])C([H])([H])C1([H])[H].pickle\n",
      "Saved mol_dic for SMILES=[H]C1([H])C([H])([H])C([H])([H])C([H])(S(=O)(=O)C([H])([H])C([H])([H])[Si](C([H])([H])[H])(C([H])([H])[H])C([H])([H])[H])C([H])([H])C1([H])[H] to hexane_groupby/[H]C1([H])C([H])([H])C([H])([H])C([H])(S(=O)(=O)C([H])([H])C([H])([H])[Si](C([H])([H])[H])(C([H])([H])[H])C([H])([H])[H])C([H])([H])C1([H])[H].pickle\n",
      "Saved mol_dic for SMILES=[H]C1([H])C([H])([H])C([H])([H])C([H])([Si](C2([H])C([H])([H])C([H])([H])C([H])([H])C([H])([H])C2([H])[H])(C2([H])C([H])([H])C([H])([H])C([H])([H])C([H])([H])C2([H])[H])C2([H])C([H])([H])C([H])([H])C([H])([H])C([H])([H])C2([H])[H])C([H])([H])C1([H])[H] to hexane_groupby/[H]C1([H])C([H])([H])C([H])([H])C([H])([Si](C2([H])C([H])([H])C([H])([H])C([H])([H])C([H])([H])C2([H])[H])(C2([H])C([H])([H])C([H])([H])C([H]_be011893.pickle\n",
      "Saved mol_dic for SMILES=[H]C1([H])C([H])([H])C([H])([H])[C@@]([H])(Cl)[C@@]([H])(I)C1([H])[H] to hexane_groupby/[H]C1([H])C([H])([H])C([H])([H])[C@@]([H])(Cl)[C@@]([H])(I)C1([H])[H].pickle\n",
      "Saved mol_dic for SMILES=[H]C1([H])C([H])([H])C([H])([H])[C@@]([H])(I)[C@@]([H])(C(F)(F)C(F)(F)C(F)(F)F)C1([H])[H] to hexane_groupby/[H]C1([H])C([H])([H])C([H])([H])[C@@]([H])(I)[C@@]([H])(C(F)(F)C(F)(F)C(F)(F)F)C1([H])[H].pickle\n",
      "Saved mol_dic for SMILES=[H]C1([H])C([H])([H])C([H])([H])[C@@]([H])(n2nnnc2I)[C@]([H])(C#CI)C1([H])[H] to hexane_groupby/[H]C1([H])C([H])([H])C([H])([H])[C@@]([H])(n2nnnc2I)[C@]([H])(C#CI)C1([H])[H].pickle\n",
      "Saved mol_dic for SMILES=[H]C1([H])C([H])([H])C([H])([H])[C@]([H])(I)[C@@]([H])(C(F)(C(F)(F)F)C(F)(F)F)C1([H])[H] to hexane_groupby/[H]C1([H])C([H])([H])C([H])([H])[C@]([H])(I)[C@@]([H])(C(F)(C(F)(F)F)C(F)(F)F)C1([H])[H].pickle\n",
      "Saved mol_dic for SMILES=[H]C1([H])C([H])([H])C([H])([H])[C@]([H])(n2nnnc2I)[C@@]([H])(C([H])([H])[H])C1([H])[H] to hexane_groupby/[H]C1([H])C([H])([H])C([H])([H])[C@]([H])(n2nnnc2I)[C@@]([H])(C([H])([H])[H])C1([H])[H].pickle\n",
      "Saved mol_dic for SMILES=[H]C1([H])C([H])([H])C([H])([H])[C@]2([H])O[C@](C([H])([H])[H])([C@@]([H])(I)C([H])([H])[H])C([H])([H])[C@@]2([H])C1([H])[H] to hexane_groupby/[H]C1([H])C([H])([H])C([H])([H])[C@]2([H])O[C@](C([H])([H])[H])([C@@]([H])(I)C([H])([H])[H])C([H])([H])[C@@]2([H])C1([H])[H].pickle\n",
      "Saved mol_dic for SMILES=[H]C1([H])C([H])([H])[C@@]([H])(C([H])([H])[H])C(=O)[C@]([H])(I)C1([H])[H] to hexane_groupby/[H]C1([H])C([H])([H])[C@@]([H])(C([H])([H])[H])C(=O)[C@]([H])(I)C1([H])[H].pickle\n",
      "Saved mol_dic for SMILES=[H]C1([H])C([H])([H])[C@@]2([H])O[C@]([H])(C([H])([H])C([H])([H])[C@]2([H])I)[C@@]1([H])I to hexane_groupby/[H]C1([H])C([H])([H])[C@@]2([H])O[C@]([H])(C([H])([H])C([H])([H])[C@]2([H])I)[C@@]1([H])I.pickle\n",
      "Saved mol_dic for SMILES=[H]C1([H])C([H])([H])[C@]2([H])[C@@]([H])(C([H])([H])C([H])([H])[C@@]2([H])I)[C@]1([H])C(F)(F)C(F)(F)Br to hexane_groupby/[H]C1([H])C([H])([H])[C@]2([H])[C@@]([H])(C([H])([H])C([H])([H])[C@@]2([H])I)[C@]1([H])C(F)(F)C(F)(F)Br.pickle\n",
      "Saved mol_dic for SMILES=[H]C1([H])C([H])([H])[P@](=O)(C([H])([H])[H])[C@@]([H])(Br)[C@@]1([H])Br to hexane_groupby/[H]C1([H])C([H])([H])[P@](=O)(C([H])([H])[H])[C@@]([H])(Br)[C@@]1([H])Br.pickle\n",
      "Saved mol_dic for SMILES=[H]C1([H])N([Si]([H])(N2C([H])([H])C([H])([H])C([H])([H])C2([H])[H])C([H])([H])[H])C([H])([H])C([H])([H])C1([H])[H] to hexane_groupby/[H]C1([H])N([Si]([H])(N2C([H])([H])C([H])([H])C([H])([H])C2([H])[H])C([H])([H])[H])C([H])([H])C([H])([H])C1([H])[H].pickle\n",
      "Saved mol_dic for SMILES=[H]C1([H])OB2OC([H])([H])C1([H])O2 to hexane_groupby/[H]C1([H])OB2OC([H])([H])C1([H])O2.pickle\n",
      "Saved mol_dic for SMILES=[H]C1([H])OC(=O)N(P(=O)(Br)N2C(=O)OC([H])([H])C2([H])[H])C1([H])[H] to hexane_groupby/[H]C1([H])OC(=O)N(P(=O)(Br)N2C(=O)OC([H])([H])C2([H])[H])C1([H])[H].pickle\n",
      "Saved mol_dic for SMILES=[H]C1([H])OC(C#C[Si](C([H])([H])[H])(C([H])([H])[H])C([H])([H])[H])([Ge](C([H])([H])[H])(C([H])([H])[H])C([H])([H])[H])OC([H])([H])C1([H])[H] to hexane_groupby/[H]C1([H])OC(C#C[Si](C([H])([H])[H])(C([H])([H])[H])C([H])([H])[H])([Ge](C([H])([H])[H])(C([H])([H])[H])C([H])([H])[H])OC([H])([H])C1([H])[H].pickle\n",
      "Saved mol_dic for SMILES=[H]C1([H])OC([H])([H])C(C([H])([H])I)(C([H])([H])I)C([H])([H])O1 to hexane_groupby/[H]C1([H])OC([H])([H])C(C([H])([H])I)(C([H])([H])I)C([H])([H])O1.pickle\n",
      "Saved mol_dic for SMILES=[H]C1([H])OC([H])([H])[C@]([H])(I)C([H])([H])C1([H])[H] to hexane_groupby/[H]C1([H])OC([H])([H])[C@]([H])(I)C([H])([H])C1([H])[H].pickle\n",
      "Saved mol_dic for SMILES=[H]C1([H])OP(N=C=O)O[C@@]([H])(C([H])([H])[H])C1([H])[H] to hexane_groupby/[H]C1([H])OP(N=C=O)O[C@@]([H])(C([H])([H])[H])C1([H])[H].pickle\n",
      "Saved mol_dic for SMILES=[H]C1([H])O[P]2(OC1([H])[H])OC([H])([H])C([H])([H])O2 to hexane_groupby/[H]C1([H])O[P]2(OC1([H])[H])OC([H])([H])C([H])([H])O2.pickle\n",
      "Saved mol_dic for SMILES=[H]C1([H])SC([H])([H])C([H])([H])[Si](C([H])([H])[H])(C([H])([H])[H])OC1=O to hexane_groupby/[H]C1([H])SC([H])([H])C([H])([H])[Si](C([H])([H])[H])(C([H])([H])[H])OC1=O.pickle\n",
      "Saved mol_dic for SMILES=[H]C1([H])SSS[C@]1([H])C([H])([H])[Si](C([H])([H])[H])(C([H])([H])[H])C([H])([H])[H] to hexane_groupby/[H]C1([H])SSS[C@]1([H])C([H])([H])[Si](C([H])([H])[H])(C([H])([H])[H])C([H])([H])[H].pickle\n",
      "Saved mol_dic for SMILES=[H]C1([H])S[P]([S])(C([H])([H])C2([H])C([H])([H])C([H])([H])C([H])([H])C([H])([H])C2([H])[H])SC([H])([H])C1([H])[H] to hexane_groupby/[H]C1([H])S[P]([S])(C([H])([H])C2([H])C([H])([H])C([H])([H])C([H])([H])C([H])([H])C2([H])[H])SC([H])([H])C1([H])[H].pickle\n",
      "Saved mol_dic for SMILES=[H]C1([H])[C@]2([H])OP34(OOO3)O[C@@]1([H])C([H])([H])[C@@]([H])(O4)C2([H])[H] to hexane_groupby/[H]C1([H])[C@]2([H])OP34(OOO3)O[C@@]1([H])C([H])([H])[C@@]([H])(O4)C2([H])[H].pickle\n",
      "Saved mol_dic for SMILES=[H]C1([H])[Se]C([H])([H])[Si]([H])([H])O[Si]1([H])[H] to hexane_groupby/[H]C1([H])[Se]C([H])([H])[Si]([H])([H])O[Si]1([H])[H].pickle\n",
      "Saved mol_dic for SMILES=[H]C1([H])[Si@]2([H])C([H])([H])[Si@]3([H])C([H])([H])[Si@@]1([H])C([H])([H])[Si@]([H])(C2([H])[H])C3([H])[H] to hexane_groupby/[H]C1([H])[Si@]2([H])C([H])([H])[Si@]3([H])C([H])([H])[Si@@]1([H])C([H])([H])[Si@]([H])(C2([H])[H])C3([H])[H].pickle\n",
      "Saved mol_dic for SMILES=[H]C1([H])[SiH]2(Cl)(Br)C([H])([H])[SiH]12(Br)Br to hexane_groupby/[H]C1([H])[SiH]2(Cl)(Br)C([H])([H])[SiH]12(Br)Br.pickle\n",
      "Saved mol_dic for SMILES=[H]C1=C(C([H])([H])C([H])([H])C#C[Si](C([H])([H])[H])(C([H])([H])[H])C([H])([H])[H])C([H])([H])C(C([H])([H])[H])(C([H])([H])[H])C([H])([H])C1=O to hexane_groupby/[H]C1=C(C([H])([H])C([H])([H])C#C[Si](C([H])([H])[H])(C([H])([H])[H])C([H])([H])[H])C([H])([H])C(C([H])([H])[H])(C([H])([H])[H])C([H])([H])C1=O.pickle\n",
      "Saved mol_dic for SMILES=[H]C1=C(C([H])([H])I)C(=O)C([H])([H])C([H])([H])C1([H])[H] to hexane_groupby/[H]C1=C(C([H])([H])I)C(=O)C([H])([H])C([H])([H])C1([H])[H].pickle\n",
      "Saved mol_dic for SMILES=[H]C1=C(C([H])([H])[H])C([H])([H])[Si](OC([H])([H])[H])(OC([H])([H])[H])C1([H])[H] to hexane_groupby/[H]C1=C(C([H])([H])[H])C([H])([H])[Si](OC([H])([H])[H])(OC([H])([H])[H])C1([H])[H].pickle\n",
      "Saved mol_dic for SMILES=[H]C1=C(C([H])([H])[H])N([H])[P@](=O)(OC2([H])C([H])([H])C([H])([H])C([H])([H])C([H])([H])C2([H])[H])N([H])C1=O to hexane_groupby/[H]C1=C(C([H])([H])[H])N([H])[P@](=O)(OC2([H])C([H])([H])C([H])([H])C([H])([H])C([H])([H])C2([H])[H])N([H])C1=O.pickle\n",
      "Saved mol_dic for SMILES=[H]C1=C(I)C(=O)C(I)=C([H])C1=O to hexane_groupby/[H]C1=C(I)C(=O)C(I)=C([H])C1=O.pickle\n",
      "Saved mol_dic for SMILES=[H]C1=C(I)C(=O)OC([H])([H])C1([H])[H] to hexane_groupby/[H]C1=C(I)C(=O)OC([H])([H])C1([H])[H].pickle\n",
      "Saved mol_dic for SMILES=[H]C1=C(O[Si](C([H])(C([H])([H])[H])C([H])([H])[H])(C([H])(C([H])([H])[H])C([H])([H])[H])C([H])(C([H])([H])[H])C([H])([H])[H])C([H])=C([H])C([H])([H])S1 to hexane_groupby/[H]C1=C(O[Si](C([H])(C([H])([H])[H])C([H])([H])[H])(C([H])(C([H])([H])[H])C([H])([H])[H])C([H])(C([H])([H])[H])C([H])([H])[H])C([H])=C([H])C(_296ade48.pickle\n",
      "Saved mol_dic for SMILES=[H]C1=C([H])C(=O)N(c2c([H])c([H])c([H])c(I)c2[H])C1=O to hexane_groupby/[H]C1=C([H])C(=O)N(c2c([H])c([H])c([H])c(I)c2[H])C1=O.pickle\n",
      "Saved mol_dic for SMILES=[H]C1=C([H])C(I)=C([N][N])[C]1I to hexane_groupby/[H]C1=C([H])C(I)=C([N][N])[C]1I.pickle\n",
      "Saved mol_dic for SMILES=[H]C1=C([H])C(O[Si](C([H])([H])[H])(C([H])([H])[H])C([H])([H])[H])=C([H])C([H])([H])S1 to hexane_groupby/[H]C1=C([H])C(O[Si](C([H])([H])[H])(C([H])([H])[H])C([H])([H])[H])=C([H])C([H])([H])S1.pickle\n",
      "Saved mol_dic for SMILES=[H]C1=C([H])C([H])(P(F)F)C([H])=C1[H] to hexane_groupby/[H]C1=C([H])C([H])(P(F)F)C([H])=C1[H].pickle\n",
      "Saved mol_dic for SMILES=[H]C1=C([H])C([H])([H])[Si]([H])([H])[Si]([H])([H])C1([H])[H] to hexane_groupby/[H]C1=C([H])C([H])([H])[Si]([H])([H])[Si]([H])([H])C1([H])[H].pickle\n",
      "Saved mol_dic for SMILES=[H]C1=C([H])N(C([H])([H])[H])B(c2c([H])c([H])c([H])c([H])c2[H])N1[H] to hexane_groupby/[H]C1=C([H])N(C([H])([H])[H])B(c2c([H])c([H])c([H])c([H])c2[H])N1[H].pickle\n",
      "Saved mol_dic for SMILES=[H]C1=C([H])[C@@]([H])(/C([H])=C(/[H])I)[C@]([H])(/C([H])=C(/[H])I)C([H])([H])C1([H])[H] to hexane_groupby/[H]C1=C([H])[C@@]([H])(_C([H])=C(_[H])I)[C@]([H])(_C([H])=C(_[H])I)C([H])([H])C1([H])[H].pickle\n",
      "Saved mol_dic for SMILES=[H]C1=C([H])[C@@]([H])(/C([H])=C(/[H])I)[C@]([H])(/C([H])=C(\\[H])I)C([H])([H])C1([H])[H] to hexane_groupby/[H]C1=C([H])[C@@]([H])(_C([H])=C(_[H])I)[C@]([H])(_C([H])=C(\\[H])I)C([H])([H])C1([H])[H].pickle\n",
      "Saved mol_dic for SMILES=[H]C1=C([H])[C@@]([H])(/C([H])=C(\\[H])I)[C@]([H])(/C([H])=C(/[H])I)C([H])([H])C1([H])[H] to hexane_groupby/[H]C1=C([H])[C@@]([H])(_C([H])=C(\\[H])I)[C@]([H])(_C([H])=C(_[H])I)C([H])([H])C1([H])[H].pickle\n",
      "Saved mol_dic for SMILES=[H]C1=C([H])[C@@]([H])(/C([H])=C(\\[H])I)[C@]([H])(/C([H])=C(\\[H])I)C([H])([H])C1([H])[H] to hexane_groupby/[H]C1=C([H])[C@@]([H])(_C([H])=C(\\[H])I)[C@]([H])(_C([H])=C(\\[H])I)C([H])([H])C1([H])[H].pickle\n",
      "Saved mol_dic for SMILES=[H]C1=C([H])[C@@]2([H])OC(=O)O[C@@]2([H])[C@@]([H])(C([H])([H])O[Si](C([H])(C([H])([H])[H])C([H])([H])[H])(C([H])(C([H])([H])[H])C([H])([H])[H])C([H])(C([H])([H])[H])C([H])([H])[H])O1 to hexane_groupby/[H]C1=C([H])[C@@]2([H])OC(=O)O[C@@]2([H])[C@@]([H])(C([H])([H])O[Si](C([H])(C([H])([H])[H])C([H])([H])[H])(C([H])(C([H])([H])[H])C([H])([H])[_7037abc6.pickle\n",
      "Saved mol_dic for SMILES=[H]C1=C([H])[C@]([H])(O[Si](C([H])([H])[H])(C([H])([H])[H])C(C([H])([H])[H])(C([H])([H])[H])C([H])([H])[H])[C@]2([H])C(=O)C([H])([H])S(=O)(=O)[C@]2([H])C1([H])[H] to hexane_groupby/[H]C1=C([H])[C@]([H])(O[Si](C([H])([H])[H])(C([H])([H])[H])C(C([H])([H])[H])(C([H])([H])[H])C([H])([H])[H])[C@]2([H])C(=O)C([H])([H])S(=O)(=O_bf32de41.pickle\n"
     ]
    },
    {
     "name": "stderr",
     "output_type": "stream",
     "text": [
      " 38%|███▊      | 397/1054 [00:02<00:02, 219.11it/s]"
     ]
    },
    {
     "name": "stdout",
     "output_type": "stream",
     "text": [
      "Saved mol_dic for SMILES=[H]C1=C([H])[C@]2([H])C([H])([H])[C@@]1([H])[C@@]1([H])C([H])([H])C([H])([H])[C@]([H])([Si](OC([H])([H])C([H])([H])[H])(OC([H])([H])C([H])([H])[H])OC([H])([H])C([H])([H])[H])[C@]12[H] to hexane_groupby/[H]C1=C([H])[C@]2([H])C([H])([H])[C@@]1([H])[C@@]1([H])C([H])([H])C([H])([H])[C@]([H])([Si](OC([H])([H])C([H])([H])[H])(OC([H])([H])C([H])([H_fbde2c33.pickle\n",
      "Saved mol_dic for SMILES=[H]C1=C([H])[C@]2([H])c3c([H])c([H])c([H])c(I)c3[C@@]1([H])C2([H])[H] to hexane_groupby/[H]C1=C([H])[C@]2([H])c3c([H])c([H])c([H])c(I)c3[C@@]1([H])C2([H])[H].pickle\n",
      "Saved mol_dic for SMILES=[H]C1=C([H])[Si](C([H])([H])[H])(C([H])([H])[H])C([H])([Si](C([H])([H])[H])(C([H])([H])[H])C([H])([H])[H])[Si]1(C([H])([H])[H])C([H])([H])[H] to hexane_groupby/[H]C1=C([H])[Si](C([H])([H])[H])(C([H])([H])[H])C([H])([Si](C([H])([H])[H])(C([H])([H])[H])C([H])([H])[H])[Si]1(C([H])([H])[H])C([H])([H])[H].pickle\n",
      "Saved mol_dic for SMILES=[H]C1=C(c2c([H])c([H])c([H])c(I)c2[H])C([H])([H])C([H])([H])[C@@]([H])(C(C([H])([H])[H])(C([H])([H])[H])C([H])([H])[H])C1([H])[H] to hexane_groupby/[H]C1=C(c2c([H])c([H])c([H])c(I)c2[H])C([H])([H])C([H])([H])[C@@]([H])(C(C([H])([H])[H])(C([H])([H])[H])C([H])([H])[H])C1([H])[H].pickle\n",
      "Saved mol_dic for SMILES=[H]C1=N[C](C(=O)N([H])c2c([H])c([H])c([H])c([H])c2I)N([H])[N]1 to hexane_groupby/[H]C1=N[C](C(=O)N([H])c2c([H])c([H])c([H])c([H])c2I)N([H])[N]1.pickle\n",
      "Saved mol_dic for SMILES=[H]C1=N[C](Cl)c2c([H])c(I)c([H])n2[N]1 to hexane_groupby/[H]C1=N[C](Cl)c2c([H])c(I)c([H])n2[N]1.pickle\n",
      "Saved mol_dic for SMILES=[H]C1=N[C](I)c2c([H])c([H])n([H])c2[N]1 to hexane_groupby/[H]C1=N[C](I)c2c([H])c([H])n([H])c2[N]1.pickle\n",
      "Saved mol_dic for SMILES=[H]C1=N[C](N([H])[H])c2c(I)nn(C3([H])C([H])([H])C([H])([H])C([H])([H])C3([H])[H])c2[N]1 to hexane_groupby/[H]C1=N[C](N([H])[H])c2c(I)nn(C3([H])C([H])([H])C([H])([H])C([H])([H])C3([H])[H])c2[N]1.pickle\n",
      "Saved mol_dic for SMILES=[H]C1=N[C](N([H])[H])c2nc([H])n([C@]3([H])O[C@](F)(C([H])([H])I)[C@@]4([H])OC(C([H])([H])[H])(C([H])([H])[H])O[C@]43[H])c2[N]1 to hexane_groupby/[H]C1=N[C](N([H])[H])c2nc([H])n([C@]3([H])O[C@](F)(C([H])([H])I)[C@@]4([H])OC(C([H])([H])[H])(C([H])([H])[H])O[C@]43[H])c2[N]1.pickle\n",
      "Saved mol_dic for SMILES=[H]C1=N[C](N([H])[H])c2nn([H])c(I)c2[N]1 to hexane_groupby/[H]C1=N[C](N([H])[H])c2nn([H])c(I)c2[N]1.pickle\n",
      "Saved mol_dic for SMILES=[H]I to hexane_groupby/[H]I.pickle\n",
      "Saved mol_dic for SMILES=[H]N(B(C([H])([H])[H])C(C([H])([H])[H])(C([H])([H])[H])C([H])([H])[H])C(C([H])([H])[H])(C([H])([H])[H])C([H])([H])[H] to hexane_groupby/[H]N(B(C([H])([H])[H])C(C([H])([H])[H])(C([H])([H])[H])C([H])([H])[H])C(C([H])([H])[H])(C([H])([H])[H])C([H])([H])[H].pickle\n",
      "Saved mol_dic for SMILES=[H]N(C#N)[Si]([H])([H])[H] to hexane_groupby/[H]N(C#N)[Si]([H])([H])[H].pickle\n",
      "Saved mol_dic for SMILES=[H]N(C(=O)C(F)(F)F)C([H])([H])C([H])([H])C([H])([H])I to hexane_groupby/[H]N(C(=O)C(F)(F)F)C([H])([H])C([H])([H])C([H])([H])I.pickle\n",
      "Saved mol_dic for SMILES=[H]N(C(=O)N([H])C1([H])C([H])([H])C([H])([H])C([H])([H])C1([H])[H])C([H])([H])C([H])([H])I to hexane_groupby/[H]N(C(=O)N([H])C1([H])C([H])([H])C([H])([H])C([H])([H])C1([H])[H])C([H])([H])C([H])([H])I.pickle\n",
      "Saved mol_dic for SMILES=[H]N(C(=O)OC#CC([H])([H])I)C([H])([H])C([H])([H])C([H])([H])C([H])([H])[H] to hexane_groupby/[H]N(C(=O)OC#CC([H])([H])I)C([H])([H])C([H])([H])C([H])([H])C([H])([H])[H].pickle\n",
      "Saved mol_dic for SMILES=[H]N(C(=O)OC(C([H])([H])[H])(C([H])([H])[H])C([H])([H])[H])C([H])([H])C([H])([H])C([H])([H])I to hexane_groupby/[H]N(C(=O)OC(C([H])([H])[H])(C([H])([H])[H])C([H])([H])[H])C([H])([H])C([H])([H])C([H])([H])I.pickle\n",
      "Saved mol_dic for SMILES=[H]N(C([H])(C([H])([H])[H])C([H])([H])[H])[P](F)([S])N([H])C([H])(C([H])([H])[H])C([H])([H])[H] to hexane_groupby/[H]N(C([H])(C([H])([H])[H])C([H])([H])[H])[P](F)([S])N([H])C([H])(C([H])([H])[H])C([H])([H])[H].pickle\n",
      "Saved mol_dic for SMILES=[H]N(C([H])([H])C([H])([H])OC([H])([H])[H])P(=O)(N(C([H])([H])[H])C([H])([H])[H])N(C([H])([H])[H])C([H])([H])[H] to hexane_groupby/[H]N(C([H])([H])C([H])([H])OC([H])([H])[H])P(=O)(N(C([H])([H])[H])C([H])([H])[H])N(C([H])([H])[H])C([H])([H])[H].pickle\n",
      "Saved mol_dic for SMILES=[H]N(C([H])([H])[H])P(=O)(N([H])C([H])([H])[H])C([H])(Cl)Cl to hexane_groupby/[H]N(C([H])([H])[H])P(=O)(N([H])C([H])([H])[H])C([H])(Cl)Cl.pickle\n",
      "Saved mol_dic for SMILES=[H]N(C([H])([H])[H])[P@](=O)(N(C([H])([H])[H])C([H])([H])[H])C1([H])C([H])([H])C([H])([H])N(C([H])([H])[H])C([H])([H])C1([H])[H] to hexane_groupby/[H]N(C([H])([H])[H])[P@](=O)(N(C([H])([H])[H])C([H])([H])[H])C1([H])C([H])([H])C([H])([H])N(C([H])([H])[H])C([H])([H])C1([H])[H].pickle\n",
      "Saved mol_dic for SMILES=[H]N([H])B(C(C([H])([H])[H])(C([H])([H])[H])C([H])([H])[H])C(C([H])([H])[H])(C([H])([H])[H])C([H])([H])[H] to hexane_groupby/[H]N([H])B(C(C([H])([H])[H])(C([H])([H])[H])C([H])([H])[H])C(C([H])([H])[H])(C([H])([H])[H])C([H])([H])[H].pickle\n",
      "Saved mol_dic for SMILES=[H]N([H])B1OB(N([H])[H])OB(N([H])[H])O1 to hexane_groupby/[H]N([H])B1OB(N([H])[H])OB(N([H])[H])O1.pickle\n",
      "Saved mol_dic for SMILES=[H]N([H])C(=O)N([H])P(=O)(Cl)Cl to hexane_groupby/[H]N([H])C(=O)N([H])P(=O)(Cl)Cl.pickle\n",
      "Saved mol_dic for SMILES=[H]N([H])C(=S)I to hexane_groupby/[H]N([H])C(=S)I.pickle\n",
      "Saved mol_dic for SMILES=[H]N([H])C(=S)N([H])N=C1C([H])([H])C([H])([H])P(C([H])([H])C([H])([H])[H])C([H])([H])C1([H])[H] to hexane_groupby/[H]N([H])C(=S)N([H])N=C1C([H])([H])C([H])([H])P(C([H])([H])C([H])([H])[H])C([H])([H])C1([H])[H].pickle\n",
      "Saved mol_dic for SMILES=[H]N([H])P(I)I to hexane_groupby/[H]N([H])P(I)I.pickle\n",
      "Saved mol_dic for SMILES=[H]N([H])[C@@]([H])(C([H])([H])[H])C([H])([H])[Si](C([H])([H])[H])(C([H])([H])[H])C([H])([H])[H] to hexane_groupby/[H]N([H])[C@@]([H])(C([H])([H])[H])C([H])([H])[Si](C([H])([H])[H])(C([H])([H])[H])C([H])([H])[H].pickle\n",
      "Saved mol_dic for SMILES=[H]N([H])[P](N(C([H])([H])[H])C([H])([H])[H])(N(C([H])([H])[H])C([H])([H])[H])N(C([H])([H])[H])C([H])([H])[H] to hexane_groupby/[H]N([H])[P](N(C([H])([H])[H])C([H])([H])[H])(N(C([H])([H])[H])C([H])([H])[H])N(C([H])([H])[H])C([H])([H])[H].pickle\n",
      "Saved mol_dic for SMILES=[H]N([H])[Si]([H])(Cl)N([H])[H] to hexane_groupby/[H]N([H])[Si]([H])(Cl)N([H])[H].pickle\n",
      "Saved mol_dic for SMILES=[H]N([H])c1nc(=O)c(I)c(C([H])([H])[H])n1[H] to hexane_groupby/[H]N([H])c1nc(=O)c(I)c(C([H])([H])[H])n1[H].pickle\n",
      "Saved mol_dic for SMILES=[H]N([H])c1nc(C(F)(F)F)c(I)s1 to hexane_groupby/[H]N([H])c1nc(C(F)(F)F)c(I)s1.pickle\n",
      "Saved mol_dic for SMILES=[H]N1C(=O)C2(C(=O)N([H])C1=S)C([H])([H])C([H])([H])C([H])([H])C([H])([H])[Si](C([H])([H])[H])(C([H])([H])[H])C2([H])[H] to hexane_groupby/[H]N1C(=O)C2(C(=O)N([H])C1=S)C([H])([H])C([H])([H])C([H])([H])C([H])([H])[Si](C([H])([H])[H])(C([H])([H])[H])C2([H])[H].pickle\n",
      "Saved mol_dic for SMILES=[H]N1C([H])([H])C([H])([H])C([H])([H])[C@@]([H])(I)C1([H])[H] to hexane_groupby/[H]N1C([H])([H])C([H])([H])C([H])([H])[C@@]([H])(I)C1([H])[H].pickle\n",
      "Saved mol_dic for SMILES=[H]N1C([H])([H])C([H])([H])OB(C([H])([H])C([H])([H])[Si](C([H])([H])[H])(C([H])([H])[H])C([H])([H])[H])OC([H])([H])C1([H])[H] to hexane_groupby/[H]N1C([H])([H])C([H])([H])OB(C([H])([H])C([H])([H])[Si](C([H])([H])[H])(C([H])([H])[H])C([H])([H])[H])OC([H])([H])C1([H])[H].pickle\n",
      "Saved mol_dic for SMILES=[H]N1C([H])([H])C([H])([H])[C@@]([H])(I)C1([H])[H] to hexane_groupby/[H]N1C([H])([H])C([H])([H])[C@@]([H])(I)C1([H])[H].pickle\n",
      "Saved mol_dic for SMILES=[H]N1P([H])N([H])P1[H] to hexane_groupby/[H]N1P([H])N([H])P1[H].pickle\n",
      "Saved mol_dic for SMILES=[H]O/C(=N/C(=O)C([H])([H])I)C([H])([H])I to hexane_groupby/[H]O_C(=N_C(=O)C([H])([H])I)C([H])([H])I.pickle\n",
      "Saved mol_dic for SMILES=[H]O/C(=N/c1c([H])c(Br)c([H])c(Br)c1[H])C([H])([H])I to hexane_groupby/[H]O_C(=N_c1c([H])c(Br)c([H])c(Br)c1[H])C([H])([H])I.pickle\n",
      "Saved mol_dic for SMILES=[H]O/C(=N/c1c([H])c([H])c([H])c([H])c1I)c1c([H])c([H])c([H])c([N+](=O)[O-])c1O[H] to hexane_groupby/[H]O_C(=N_c1c([H])c([H])c([H])c([H])c1I)c1c([H])c([H])c([H])c([N+](=O)[O-])c1O[H].pickle\n",
      "Saved mol_dic for SMILES=[H]O/C(=N/c1c([H])c([H])c2c(c1[H])C([H])([H])c1c([H])c(I)c([H])c([H])c1-2)C([H])([H])[H] to hexane_groupby/[H]O_C(=N_c1c([H])c([H])c2c(c1[H])C([H])([H])c1c([H])c(I)c([H])c([H])c1-2)C([H])([H])[H].pickle\n",
      "Saved mol_dic for SMILES=[H]O/C(=N/c1nnc(C([H])(C([H])([H])[H])C([H])([H])[H])s1)C([H])([H])I to hexane_groupby/[H]O_C(=N_c1nnc(C([H])(C([H])([H])[H])C([H])([H])[H])s1)C([H])([H])I.pickle\n",
      "Saved mol_dic for SMILES=[H]O/C(=N\\C(=O)C([H])([H])I)C([H])([H])I to hexane_groupby/[H]O_C(=N\\C(=O)C([H])([H])I)C([H])([H])I.pickle\n",
      "Saved mol_dic for SMILES=[H]O/C(=N\\c1c([H])c(Br)c([H])c(Br)c1[H])C([H])([H])I to hexane_groupby/[H]O_C(=N\\c1c([H])c(Br)c([H])c(Br)c1[H])C([H])([H])I.pickle\n",
      "Saved mol_dic for SMILES=[H]O/C(=N\\c1c([H])c([H])c([H])c([H])c1I)c1c([H])c([H])c([H])c([N+](=O)[O-])c1O[H] to hexane_groupby/[H]O_C(=N\\c1c([H])c([H])c([H])c([H])c1I)c1c([H])c([H])c([H])c([N+](=O)[O-])c1O[H].pickle\n",
      "Saved mol_dic for SMILES=[H]O/C(=N\\c1c([H])c([H])c2c(c1[H])C([H])([H])c1c([H])c(I)c([H])c([H])c1-2)C([H])([H])[H] to hexane_groupby/[H]O_C(=N\\c1c([H])c([H])c2c(c1[H])C([H])([H])c1c([H])c(I)c([H])c([H])c1-2)C([H])([H])[H].pickle\n",
      "Saved mol_dic for SMILES=[H]O/C(=N\\c1nnc(C([H])(C([H])([H])[H])C([H])([H])[H])s1)C([H])([H])I to hexane_groupby/[H]O_C(=N\\c1nnc(C([H])(C([H])([H])[H])C([H])([H])[H])s1)C([H])([H])I.pickle\n",
      "Saved mol_dic for SMILES=[H]O/N=C(/[H])c1c([H])c(I)c(O[H])c(OC([H])([H])[H])c1[H] to hexane_groupby/[H]O_N=C(_[H])c1c([H])c(I)c(O[H])c(OC([H])([H])[H])c1[H].pickle\n",
      "Saved mol_dic for SMILES=[H]O/N=C(/[H])c1oc(I)c([H])c1[H] to hexane_groupby/[H]O_N=C(_[H])c1oc(I)c([H])c1[H].pickle\n",
      "Saved mol_dic for SMILES=[H]O/N=C(\\[H])c1c([H])c(I)c(O[H])c(OC([H])([H])[H])c1[H] to hexane_groupby/[H]O_N=C(\\[H])c1c([H])c(I)c(O[H])c(OC([H])([H])[H])c1[H].pickle\n",
      "Saved mol_dic for SMILES=[H]O/N=C(\\[H])c1oc(I)c([H])c1[H] to hexane_groupby/[H]O_N=C(\\[H])c1oc(I)c([H])c1[H].pickle\n",
      "Saved mol_dic for SMILES=[H]OB(C#CC([H])([H])N(C([H])([H])[H])C([H])([H])[H])O[H] to hexane_groupby/[H]OB(C#CC([H])([H])N(C([H])([H])[H])C([H])([H])[H])O[H].pickle\n",
      "Saved mol_dic for SMILES=[H]OB(O[H])C([H])([H])C([H])([H])C([H])([H])Br to hexane_groupby/[H]OB(O[H])C([H])([H])C([H])([H])C([H])([H])Br.pickle\n",
      "Saved mol_dic for SMILES=[H]OB(O[H])C1=C([H])C2=C([N]C([H])=N[C]2N([H])[H])N([H])B1O[H] to hexane_groupby/[H]OB(O[H])C1=C([H])C2=C([N]C([H])=N[C]2N([H])[H])N([H])B1O[H].pickle\n",
      "Saved mol_dic for SMILES=[H]OB(O[H])C1=C([H])N([H])C([H])=N[C@]1([H])C([H])([H])C([H])([H])[H] to hexane_groupby/[H]OB(O[H])C1=C([H])N([H])C([H])=N[C@]1([H])C([H])([H])C([H])([H])[H].pickle\n",
      "Saved mol_dic for SMILES=[H]OB(O[H])c1c([H])c(C(=O)N(C([H])([H])C([H])([H])[H])C([H])([H])C([H])([H])[H])c([H])c([N+](=O)[O-])c1[H] to hexane_groupby/[H]OB(O[H])c1c([H])c(C(=O)N(C([H])([H])C([H])([H])[H])C([H])([H])C([H])([H])[H])c([H])c([N+](=O)[O-])c1[H].pickle\n",
      "Saved mol_dic for SMILES=[H]OB(O[H])c1c([H])c(I)c([H])c([H])c1F to hexane_groupby/[H]OB(O[H])c1c([H])c(I)c([H])c([H])c1F.pickle\n",
      "Saved mol_dic for SMILES=[H]OB(O[H])c1c([H])c([H])c(C([H])([H])C([H])([H])N([H])C(=O)C([H])([H])[H])c([H])c1[H] to hexane_groupby/[H]OB(O[H])c1c([H])c([H])c(C([H])([H])C([H])([H])N([H])C(=O)C([H])([H])[H])c([H])c1[H].pickle\n",
      "Saved mol_dic for SMILES=[H]OB(O[H])c1c([H])c([H])c([C@]([H])(O[H])C([H])([H])[H])c([H])c1[H] to hexane_groupby/[H]OB(O[H])c1c([H])c([H])c([C@]([H])(O[H])C([H])([H])[H])c([H])c1[H].pickle\n",
      "Saved mol_dic for SMILES=[H]OB(O[H])c1c([H])c([H])c([H])c(I)c1F to hexane_groupby/[H]OB(O[H])c1c([H])c([H])c([H])c(I)c1F.pickle\n",
      "Saved mol_dic for SMILES=[H]OB(O[H])c1c([H])c([H])c2c(c1[H])OC([H])([H])C([H])([H])C([H])([H])O2 to hexane_groupby/[H]OB(O[H])c1c([H])c([H])c2c(c1[H])OC([H])([H])C([H])([H])C([H])([H])O2.pickle\n",
      "Saved mol_dic for SMILES=[H]OB(O[H])c1nc(N(C([H])([H])[H])C([H])([H])C([H])([H])[H])c([H])c([H])c1[H] to hexane_groupby/[H]OB(O[H])c1nc(N(C([H])([H])[H])C([H])([H])C([H])([H])[H])c([H])c([H])c1[H].pickle\n",
      "Saved mol_dic for SMILES=[H]OB(O[H])c1nc([H])c([H])c(C(O[H])(C([H])([H])[H])C([H])([H])[H])c1[H] to hexane_groupby/[H]OB(O[H])c1nc([H])c([H])c(C(O[H])(C([H])([H])[H])C([H])([H])[H])c1[H].pickle\n",
      "Saved mol_dic for SMILES=[H]OB(O[H])c1oc(C([H])([H])O[H])c([H])c1[H] to hexane_groupby/[H]OB(O[H])c1oc(C([H])([H])O[H])c([H])c1[H].pickle\n",
      "Saved mol_dic for SMILES=[H]OB(O[H])c1oc(C([H])([H])[H])c([H])c1[H] to hexane_groupby/[H]OB(O[H])c1oc(C([H])([H])[H])c([H])c1[H].pickle\n",
      "Saved mol_dic for SMILES=[H]OB1OC([H])([H])C([H])([H])C(C([H])([H])[H])(C([H])([H])[H])O1 to hexane_groupby/[H]OB1OC([H])([H])C([H])([H])C(C([H])([H])[H])(C([H])([H])[H])O1.pickle\n",
      "Saved mol_dic for SMILES=[H]OB1c2c([H])c([H])c([H])c([H])c2C([H])=NN1C([H])([H])[H] to hexane_groupby/[H]OB1c2c([H])c([H])c([H])c([H])c2C([H])=NN1C([H])([H])[H].pickle\n",
      "Saved mol_dic for SMILES=[H]OB1c2sc([H])c([H])c2C(C([H])([H])[H])=NN1[H] to hexane_groupby/[H]OB1c2sc([H])c([H])c2C(C([H])([H])[H])=NN1[H].pickle\n",
      "Saved mol_dic for SMILES=[H]OC(=O)/C(I)=C(/Br)I to hexane_groupby/[H]OC(=O)_C(I)=C(_Br)I.pickle\n",
      "Saved mol_dic for SMILES=[H]OC(=O)/C(I)=C(\\Br)I to hexane_groupby/[H]OC(=O)_C(I)=C(\\Br)I.pickle\n",
      "Saved mol_dic for SMILES=[H]OC(=O)/C([H])=C(/[H])c1c([H])c(I)c([H])c(I)c1[H] to hexane_groupby/[H]OC(=O)_C([H])=C(_[H])c1c([H])c(I)c([H])c(I)c1[H].pickle\n",
      "Saved mol_dic for SMILES=[H]OC(=O)/C([H])=C(\\[H])c1c([H])c(I)c([H])c(I)c1[H] to hexane_groupby/[H]OC(=O)_C([H])=C(\\[H])c1c([H])c(I)c([H])c(I)c1[H].pickle\n",
      "Saved mol_dic for SMILES=[H]OC(=O)C(=O)C([H])([H])I to hexane_groupby/[H]OC(=O)C(=O)C([H])([H])I.pickle\n",
      "Saved mol_dic for SMILES=[H]OC(=O)C(=O)N([H])c1c([H])c([H])c([H])c(N([H])C(=O)C([H])([H])I)c1[H] to hexane_groupby/[H]OC(=O)C(=O)N([H])c1c([H])c([H])c([H])c(N([H])C(=O)C([H])([H])I)c1[H].pickle\n",
      "Saved mol_dic for SMILES=[H]OC(=O)C(Oc1c([H])c([H])c(I)c([H])c1[H])(C([H])([H])[H])C([H])([H])[H] to hexane_groupby/[H]OC(=O)C(Oc1c([H])c([H])c(I)c([H])c1[H])(C([H])([H])[H])C([H])([H])[H].pickle\n",
      "Saved mol_dic for SMILES=[H]OC(=O)C([H])([H])C([H])([H])C(=O)c1c([H])c([H])c([H])c(I)c1[H] to hexane_groupby/[H]OC(=O)C([H])([H])C([H])([H])C(=O)c1c([H])c([H])c([H])c(I)c1[H].pickle\n",
      "Saved mol_dic for SMILES=[H]OC(=O)C([H])([H])C([H])(c1c([H])c(N([H])[H])c(I)c([H])c1I)C([H])([H])C(=O)O[H] to hexane_groupby/[H]OC(=O)C([H])([H])C([H])(c1c([H])c(N([H])[H])c(I)c([H])c1I)C([H])([H])C(=O)O[H].pickle\n",
      "Saved mol_dic for SMILES=[H]OC(=O)C([H])([H])Oc1c([H])c([H])c(Cl)c(I)c1[H] to hexane_groupby/[H]OC(=O)C([H])([H])Oc1c([H])c([H])c(Cl)c(I)c1[H].pickle\n"
     ]
    },
    {
     "name": "stderr",
     "output_type": "stream",
     "text": [
      " 44%|████▍     | 466/1054 [00:03<00:03, 195.19it/s]"
     ]
    },
    {
     "name": "stdout",
     "output_type": "stream",
     "text": [
      "Saved mol_dic for SMILES=[H]OC(=O)C([H])([H])[C@@]([H])(SP(=O)(OC([H])([H])[H])OC([H])([H])[H])C(=O)O[H] to hexane_groupby/[H]OC(=O)C([H])([H])[C@@]([H])(SP(=O)(OC([H])([H])[H])OC([H])([H])[H])C(=O)O[H].pickle\n",
      "Saved mol_dic for SMILES=[H]OC(=O)C([H])([H])c1c(I)n([H])c2c([H])c([H])c([H])c([H])c12 to hexane_groupby/[H]OC(=O)C([H])([H])c1c(I)n([H])c2c([H])c([H])c([H])c([H])c12.pickle\n",
      "Saved mol_dic for SMILES=[H]OC(=O)C([H])([H])c1c([H])c([H])c(I)c(F)c1[H] to hexane_groupby/[H]OC(=O)C([H])([H])c1c([H])c([H])c(I)c(F)c1[H].pickle\n",
      "Saved mol_dic for SMILES=[H]OC(=O)C([H])([H])c1c([H])c([H])c(O[H])c(I)c1[H] to hexane_groupby/[H]OC(=O)C([H])([H])c1c([H])c([H])c(O[H])c(I)c1[H].pickle\n",
      "Saved mol_dic for SMILES=[H]OC(=O)C1(c2c([H])c([H])c(I)c([H])c2[H])C([H])([H])C1([H])[H] to hexane_groupby/[H]OC(=O)C1(c2c([H])c([H])c(I)c([H])c2[H])C([H])([H])C1([H])[H].pickle\n",
      "Saved mol_dic for SMILES=[H]OC(=O)C1=C([H])[C@@]([H])(OP(=O)(O[H])O[H])C([H])([H])C([H])([H])C1([H])[H] to hexane_groupby/[H]OC(=O)C1=C([H])[C@@]([H])(OP(=O)(O[H])O[H])C([H])([H])C([H])([H])C1([H])[H].pickle\n",
      "Saved mol_dic for SMILES=[H]OC(=O)[C@@](N([H])[H])(C([H])([H])[H])C([H])([H])c1c([H])c(I)c(O[H])c(I)c1[H] to hexane_groupby/[H]OC(=O)[C@@](N([H])[H])(C([H])([H])[H])C([H])([H])c1c([H])c(I)c(O[H])c(I)c1[H].pickle\n",
      "Saved mol_dic for SMILES=[H]OC(=O)[C@]([H])(Cl)I to hexane_groupby/[H]OC(=O)[C@]([H])(Cl)I.pickle\n",
      "Saved mol_dic for SMILES=[H]OC(=O)[C]1[C]([H])[C@@]([H])(OP(=O)(O[H])O[H])C([H])([H])C([H])([H])C1([H])[H] to hexane_groupby/[H]OC(=O)[C]1[C]([H])[C@@]([H])(OP(=O)(O[H])O[H])C([H])([H])C([H])([H])C1([H])[H].pickle\n",
      "Saved mol_dic for SMILES=[H]OC(=O)c1c(Cl)nc([H])c(I)c1[H] to hexane_groupby/[H]OC(=O)c1c(Cl)nc([H])c(I)c1[H].pickle\n",
      "Saved mol_dic for SMILES=[H]OC(=O)c1c(F)c([H])c([H])c(I)c1F to hexane_groupby/[H]OC(=O)c1c(F)c([H])c([H])c(I)c1F.pickle\n",
      "Saved mol_dic for SMILES=[H]OC(=O)c1c(I)c(N([H])[H])c(I)c(N([H])[H])c1I to hexane_groupby/[H]OC(=O)c1c(I)c(N([H])[H])c(I)c(N([H])[H])c1I.pickle\n",
      "Saved mol_dic for SMILES=[H]OC(=O)c1c(I)c([H])nn1[H] to hexane_groupby/[H]OC(=O)c1c(I)c([H])nn1[H].pickle\n",
      "Saved mol_dic for SMILES=[H]OC(=O)c1c(OC([H])([H])[H])c([H])c([H])c([H])c1/C([H])=C(/[H])I to hexane_groupby/[H]OC(=O)c1c(OC([H])([H])[H])c([H])c([H])c([H])c1_C([H])=C(_[H])I.pickle\n",
      "Saved mol_dic for SMILES=[H]OC(=O)c1c(OC([H])([H])[H])c([H])c([H])c([H])c1/C([H])=C(\\[H])I to hexane_groupby/[H]OC(=O)c1c(OC([H])([H])[H])c([H])c([H])c([H])c1_C([H])=C(\\[H])I.pickle\n",
      "Saved mol_dic for SMILES=[H]OC(=O)c1c([H])c(=O)oc2c([H])c(N([H])C(=O)C([H])([H])I)c([H])c([H])c12 to hexane_groupby/[H]OC(=O)c1c([H])c(=O)oc2c([H])c(N([H])C(=O)C([H])([H])I)c([H])c([H])c12.pickle\n",
      "Saved mol_dic for SMILES=[H]OC(=O)c1c([H])c(C([H])([H])C([H])([H])[H])c(I)c([H])c1C([H])([H])C([H])([H])[H] to hexane_groupby/[H]OC(=O)c1c([H])c(C([H])([H])C([H])([H])[H])c(I)c([H])c1C([H])([H])C([H])([H])[H].pickle\n",
      "Saved mol_dic for SMILES=[H]OC(=O)c1c([H])c(I)c(OC([H])([H])[H])c(OC([H])([H])[H])c1[H] to hexane_groupby/[H]OC(=O)c1c([H])c(I)c(OC([H])([H])[H])c(OC([H])([H])[H])c1[H].pickle\n",
      "Saved mol_dic for SMILES=[H]OC(=O)c1c([H])c(I)c([H])c(I)c1I to hexane_groupby/[H]OC(=O)c1c([H])c(I)c([H])c(I)c1I.pickle\n",
      "Saved mol_dic for SMILES=[H]OC(=O)c1c([H])c(I)c([H])c(I)c1N([H])C(=O)C([H])([H])[H] to hexane_groupby/[H]OC(=O)c1c([H])c(I)c([H])c(I)c1N([H])C(=O)C([H])([H])[H].pickle\n",
      "Saved mol_dic for SMILES=[H]OC(=O)c1c([H])c(I)c([H])c(I)c1OC(=O)C(=C([H])[H])C([H])([H])[H] to hexane_groupby/[H]OC(=O)c1c([H])c(I)c([H])c(I)c1OC(=O)C(=C([H])[H])C([H])([H])[H].pickle\n",
      "Saved mol_dic for SMILES=[H]OC(=O)c1c([H])c(I)c([H])c(I)c1O[H] to hexane_groupby/[H]OC(=O)c1c([H])c(I)c([H])c(I)c1O[H].pickle\n",
      "Saved mol_dic for SMILES=[H]OC(=O)c1c([H])c(I)c([H])c(N([H])[H])c1[H] to hexane_groupby/[H]OC(=O)c1c([H])c(I)c([H])c(N([H])[H])c1[H].pickle\n",
      "Saved mol_dic for SMILES=[H]OC(=O)c1c([H])c(I)c([H])c(O[H])c1[H] to hexane_groupby/[H]OC(=O)c1c([H])c(I)c([H])c(O[H])c1[H].pickle\n",
      "Saved mol_dic for SMILES=[H]OC(=O)c1c([H])c(I)c([H])c([H])c1I to hexane_groupby/[H]OC(=O)c1c([H])c(I)c([H])c([H])c1I.pickle\n",
      "Saved mol_dic for SMILES=[H]OC(=O)c1c([H])c([H])c(Br)c([H])c1I to hexane_groupby/[H]OC(=O)c1c([H])c([H])c(Br)c([H])c1I.pickle\n",
      "Saved mol_dic for SMILES=[H]OC(=O)c1c([H])c([H])c(C(C([H])([H])[H])(C([H])([H])[H])C([H])([H])[H])c(I)c1[H] to hexane_groupby/[H]OC(=O)c1c([H])c([H])c(C(C([H])([H])[H])(C([H])([H])[H])C([H])([H])[H])c(I)c1[H].pickle\n",
      "Saved mol_dic for SMILES=[H]OC(=O)c1c([H])c([H])c(C([H])([H])[H])c(I)c1N([H])[H] to hexane_groupby/[H]OC(=O)c1c([H])c([H])c(C([H])([H])[H])c(I)c1N([H])[H].pickle\n",
      "Saved mol_dic for SMILES=[H]OC(=O)c1c([H])c([H])c(C2=N[N]N([H])[N]2)c(I)c1[H] to hexane_groupby/[H]OC(=O)c1c([H])c([H])c(C2=N[N]N([H])[N]2)c(I)c1[H].pickle\n",
      "Saved mol_dic for SMILES=[H]OC(=O)c1c([H])c([H])c(Cl)c(I)c1[H] to hexane_groupby/[H]OC(=O)c1c([H])c([H])c(Cl)c(I)c1[H].pickle\n",
      "Saved mol_dic for SMILES=[H]OC(=O)c1c([H])c([H])c(I)c(F)c1[H] to hexane_groupby/[H]OC(=O)c1c([H])c([H])c(I)c(F)c1[H].pickle\n",
      "Saved mol_dic for SMILES=[H]OC(=O)c1c([H])c([H])c(N(C([H])([H])[H])C([H])([H])[H])c(I)c1[H] to hexane_groupby/[H]OC(=O)c1c([H])c([H])c(N(C([H])([H])[H])C([H])([H])[H])c(I)c1[H].pickle\n",
      "Saved mol_dic for SMILES=[H]OC(=O)c1c([H])c([H])c(N([H])C(=O)C([H])([H])I)c([H])c1O[H] to hexane_groupby/[H]OC(=O)c1c([H])c([H])c(N([H])C(=O)C([H])([H])I)c([H])c1O[H].pickle\n",
      "Saved mol_dic for SMILES=[H]OC(=O)c1c([H])c([H])c(N2C([H])([H])C([H])([H])N(C(=O)C([H])([H])[H])C([H])([H])C2([H])[H])c(I)c1[H] to hexane_groupby/[H]OC(=O)c1c([H])c([H])c(N2C([H])([H])C([H])([H])N(C(=O)C([H])([H])[H])C([H])([H])C2([H])[H])c(I)c1[H].pickle\n",
      "Saved mol_dic for SMILES=[H]OC(=O)c1c([H])c([H])c(OC([H])([H])C([H])([H])C([H])([H])C([H])([H])C([H])([H])[H])c(I)c1[H] to hexane_groupby/[H]OC(=O)c1c([H])c([H])c(OC([H])([H])C([H])([H])C([H])([H])C([H])([H])C([H])([H])[H])c(I)c1[H].pickle\n",
      "Saved mol_dic for SMILES=[H]OC(=O)c1c([H])c([H])c(OC([H])([H])C([H])([H])OC([H])([H])C([H])([H])[H])c(I)c1[H] to hexane_groupby/[H]OC(=O)c1c([H])c([H])c(OC([H])([H])C([H])([H])OC([H])([H])C([H])([H])[H])c(I)c1[H].pickle\n",
      "Saved mol_dic for SMILES=[H]OC(=O)c1c([H])c([H])c([H])c([H])c1C([H])([H])c1c([H])c(I)c(O[H])c(I)c1[H] to hexane_groupby/[H]OC(=O)c1c([H])c([H])c([H])c([H])c1C([H])([H])c1c([H])c(I)c(O[H])c(I)c1[H].pickle\n",
      "Saved mol_dic for SMILES=[H]OC(=O)c1c([H])c([H])c([H])c([H])c1I to hexane_groupby/[H]OC(=O)c1c([H])c([H])c([H])c([H])c1I.pickle\n",
      "Saved mol_dic for SMILES=[H]OC(=O)c1c([H])c([H])c([H])c2c(I)c([H])c([H])c([H])c12 to hexane_groupby/[H]OC(=O)c1c([H])c([H])c([H])c2c(I)c([H])c([H])c([H])c12.pickle\n",
      "Saved mol_dic for SMILES=[H]OC(=O)c1c([H])n(C([H])([H])C([H])([H])[H])c2c([H])c(I)sc2c1=O to hexane_groupby/[H]OC(=O)c1c([H])n(C([H])([H])C([H])([H])[H])c2c([H])c(I)sc2c1=O.pickle\n",
      "Saved mol_dic for SMILES=[H]OC(=O)c1c2c([H])c([H])c(I)c([H])c2nn1C([H])([H])[H] to hexane_groupby/[H]OC(=O)c1c2c([H])c([H])c(I)c([H])c2nn1C([H])([H])[H].pickle\n",
      "Saved mol_dic for SMILES=[H]OC(=O)c1nc(I)c(O[H])c(I)c1[H] to hexane_groupby/[H]OC(=O)c1nc(I)c(O[H])c(I)c1[H].pickle\n",
      "Saved mol_dic for SMILES=[H]OC(=O)c1nc([H])c(I)c(Br)c1I to hexane_groupby/[H]OC(=O)c1nc([H])c(I)c(Br)c1I.pickle\n",
      "Saved mol_dic for SMILES=[H]OC(=O)c1nn(C([H])([H])c2c([H])c([H])c(I)c([H])c2[H])c2c([H])c([H])c([H])c([H])c12 to hexane_groupby/[H]OC(=O)c1nn(C([H])([H])c2c([H])c([H])c(I)c([H])c2[H])c2c([H])c([H])c([H])c([H])c12.pickle\n",
      "Saved mol_dic for SMILES=[H]OC(=O)c1nn([H])c2c([H])c([H])c([H])c(I)c12 to hexane_groupby/[H]OC(=O)c1nn([H])c2c([H])c([H])c([H])c(I)c12.pickle\n",
      "Saved mol_dic for SMILES=[H]OC(=O)c1sc(I)c([H])c1[H] to hexane_groupby/[H]OC(=O)c1sc(I)c([H])c1[H].pickle\n",
      "Saved mol_dic for SMILES=[H]OC([H])([H])/C([H])=C(/I)C([H])([H])c1c([H])c([H])c([H])c([H])c1[H] to hexane_groupby/[H]OC([H])([H])_C([H])=C(_I)C([H])([H])c1c([H])c([H])c([H])c([H])c1[H].pickle\n",
      "Saved mol_dic for SMILES=[H]OC([H])([H])/C([H])=C(\\I)C([H])([H])c1c([H])c([H])c([H])c([H])c1[H] to hexane_groupby/[H]OC([H])([H])_C([H])=C(\\I)C([H])([H])c1c([H])c([H])c([H])c([H])c1[H].pickle\n",
      "Saved mol_dic for SMILES=[H]OC([H])([H])C#C[Si](O[Si](C([H])([H])[H])(C([H])([H])[H])C([H])([H])Cl)(C([H])([H])[H])C([H])([H])[H] to hexane_groupby/[H]OC([H])([H])C#C[Si](O[Si](C([H])([H])[H])(C([H])([H])[H])C([H])([H])Cl)(C([H])([H])[H])C([H])([H])[H].pickle\n",
      "Saved mol_dic for SMILES=[H]OC([H])([H])C([H])([H])O[C@@](C#CI)(C([H])([H])[H])C([H])(C([H])([H])[H])C([H])([H])[H] to hexane_groupby/[H]OC([H])([H])C([H])([H])O[C@@](C#CI)(C([H])([H])[H])C([H])(C([H])([H])[H])C([H])([H])[H].pickle\n",
      "Saved mol_dic for SMILES=[H]OC([H])([H])C([H])([H])[C@@]([H])(I)C([H])([H])C(F)(F)C(F)(F)C(F)(F)C(F)(F)F to hexane_groupby/[H]OC([H])([H])C([H])([H])[C@@]([H])(I)C([H])([H])C(F)(F)C(F)(F)C(F)(F)C(F)(F)F.pickle\n",
      "Saved mol_dic for SMILES=[H]OC([H])([H])C([H])([H])c1c([H])c2c(c([H])c1I)OC([H])([H])O2 to hexane_groupby/[H]OC([H])([H])C([H])([H])c1c([H])c2c(c([H])c1I)OC([H])([H])O2.pickle\n",
      "Saved mol_dic for SMILES=[H]OC([H])([H])P(=O)(C([H])([H])O[H])C([H])([H])O[H] to hexane_groupby/[H]OC([H])([H])P(=O)(C([H])([H])O[H])C([H])([H])O[H].pickle\n",
      "Saved mol_dic for SMILES=[H]OC([H])([H])[C@@]([H])(C([H])([H])[H])C([H])([H])[C@@]([H])(C([H])([H])[H])C([H])([H])I to hexane_groupby/[H]OC([H])([H])[C@@]([H])(C([H])([H])[H])C([H])([H])[C@@]([H])(C([H])([H])[H])C([H])([H])I.pickle\n",
      "Saved mol_dic for SMILES=[H]OC([H])([H])[C@@]([H])(I)C([H])([H])[H] to hexane_groupby/[H]OC([H])([H])[C@@]([H])(I)C([H])([H])[H].pickle\n",
      "Saved mol_dic for SMILES=[H]OC([H])([H])[C@@]([H])(O[H])c1c([H])c([H])c(I)c([H])c1[H] to hexane_groupby/[H]OC([H])([H])[C@@]([H])(O[H])c1c([H])c([H])c(I)c([H])c1[H].pickle\n",
      "Saved mol_dic for SMILES=[H]OC([H])([H])[C@@]1([H])O[C@@]([H])(n2c([H])c(I)c(=O)n([H])c2=O)C([H])([H])[C@@]1([H])O[H] to hexane_groupby/[H]OC([H])([H])[C@@]1([H])O[C@@]([H])(n2c([H])c(I)c(=O)n([H])c2=O)C([H])([H])[C@@]1([H])O[H].pickle\n",
      "Saved mol_dic for SMILES=[H]OC([H])([H])[C@@]1([H])O[C@@]2([H])n3c(nc(=O)c(C([H])([H])[H])c3[H])O[C@@]2([H])[C@]1([H])I to hexane_groupby/[H]OC([H])([H])[C@@]1([H])O[C@@]2([H])n3c(nc(=O)c(C([H])([H])[H])c3[H])O[C@@]2([H])[C@]1([H])I.pickle\n",
      "Saved mol_dic for SMILES=[H]OC([H])([H])[C@]([H])(C(O[H])(C([H])([H])C(Cl)(Cl)Cl)C([H])([H])C(Cl)(Cl)Cl)P(=O)(O[H])O[H] to hexane_groupby/[H]OC([H])([H])[C@]([H])(C(O[H])(C([H])([H])C(Cl)(Cl)Cl)C([H])([H])C(Cl)(Cl)Cl)P(=O)(O[H])O[H].pickle\n",
      "Saved mol_dic for SMILES=[H]OC([H])([H])c1c([H])c(I)c([H])c([H])c1OC([H])([H])c1c([H])c([H])c([H])c([H])c1[H] to hexane_groupby/[H]OC([H])([H])c1c([H])c(I)c([H])c([H])c1OC([H])([H])c1c([H])c([H])c([H])c([H])c1[H].pickle\n",
      "Saved mol_dic for SMILES=[H]OC([H])([H])c1c([H])c([H])c([H])c2c([H])c([H])c([H])c(I)c12 to hexane_groupby/[H]OC([H])([H])c1c([H])c([H])c([H])c2c([H])c([H])c([H])c(I)c12.pickle\n",
      "Saved mol_dic for SMILES=[H]OC([H])([H])c1c([H])c([H])c([Si]2(C([H])([H])[H])C([H])([H])C([H])([H])C2([H])[H])c([H])c1[H] to hexane_groupby/[H]OC([H])([H])c1c([H])c([H])c([Si]2(C([H])([H])[H])C([H])([H])C([H])([H])C2([H])[H])c([H])c1[H].pickle\n",
      "Saved mol_dic for SMILES=[H]OC([H])([H])c1c([H])c2c(c([H])c1I)OC([H])([H])O2 to hexane_groupby/[H]OC([H])([H])c1c([H])c2c(c([H])c1I)OC([H])([H])O2.pickle\n",
      "Saved mol_dic for SMILES=[H]OC1([C@]([H])(C#C[Si](C([H])([H])[H])(C([H])([H])[H])C([H])([H])[H])N(C([H])([H])[H])C([H])([H])[H])C([H])([H])C([H])([H])C([H])([H])C([H])([H])C1([H])[H] to hexane_groupby/[H]OC1([C@]([H])(C#C[Si](C([H])([H])[H])(C([H])([H])[H])C([H])([H])[H])N(C([H])([H])[H])C([H])([H])[H])C([H])([H])C([H])([H])C([H])([H])C([H]_b27cb955.pickle\n",
      "Saved mol_dic for SMILES=[H]OC1=NC(=O)N=C(O[H])C1(C([H])([H])C([H])=C([H])[H])C([H])([H])[C@@]([H])(O[H])C([H])([H])I to hexane_groupby/[H]OC1=NC(=O)N=C(O[H])C1(C([H])([H])C([H])=C([H])[H])C([H])([H])[C@@]([H])(O[H])C([H])([H])I.pickle\n",
      "Saved mol_dic for SMILES=[H]ON(C(=O)C([H])([H])[H])c1c([H])c([H])c2c(c1[H])C([H])([H])c1c([H])c(I)c([H])c([H])c1-2 to hexane_groupby/[H]ON(C(=O)C([H])([H])[H])c1c([H])c([H])c2c(c1[H])C([H])([H])c1c([H])c(I)c([H])c([H])c1-2.pickle\n",
      "Saved mol_dic for SMILES=[H]ON(C(=O)c1c([H])c([H])c(I)c([H])c1[H])c1c([H])c([H])c([H])c([H])c1C([H])([H])[H] to hexane_groupby/[H]ON(C(=O)c1c([H])c([H])c(I)c([H])c1[H])c1c([H])c([H])c([H])c([H])c1C([H])([H])[H].pickle\n",
      "Saved mol_dic for SMILES=[H]ON([H])c1c([H])c([H])c([H])c([H])c1I to hexane_groupby/[H]ON([H])c1c([H])c([H])c([H])c([H])c1I.pickle\n",
      "Saved mol_dic for SMILES=[H]OP(=O)(O[H])C([H])(N([H])c1c([H])nc(OC([H])([H])[H])c([H])c1[H])P(=O)(O[H])O[H] to hexane_groupby/[H]OP(=O)(O[H])C([H])(N([H])c1c([H])nc(OC([H])([H])[H])c([H])c1[H])P(=O)(O[H])O[H].pickle\n",
      "Saved mol_dic for SMILES=[H]OP(=O)(O[H])C([H])(N1C([H])([H])C([H])([H])SC([H])([H])C1([H])[H])P(=O)(O[H])O[H] to hexane_groupby/[H]OP(=O)(O[H])C([H])(N1C([H])([H])C([H])([H])SC([H])([H])C1([H])[H])P(=O)(O[H])O[H].pickle\n"
     ]
    },
    {
     "name": "stderr",
     "output_type": "stream",
     "text": [
      " 47%|████▋     | 494/1054 [00:04<00:07, 71.24it/s] "
     ]
    },
    {
     "name": "stdout",
     "output_type": "stream",
     "text": [
      "Saved mol_dic for SMILES=[H]OP(=O)(O[H])N([H])P(=O)(O[H])N([H])P(=O)(O[H])O[H] to hexane_groupby/[H]OP(=O)(O[H])N([H])P(=O)(O[H])N([H])P(=O)(O[H])O[H].pickle\n",
      "Saved mol_dic for SMILES=[H]OP(=O)(O[H])Oc1c([H])c([H])c([H])c([C@]2(OC([H])([H])[H])OO[C@]23[C@@]2([H])C([H])([H])[C@]4([H])C([H])([H])[C@@]([H])(C([H])([H])[C@@]3([H])C4([H])[H])C2([H])[H])c1[H] to hexane_groupby/[H]OP(=O)(O[H])Oc1c([H])c([H])c([H])c([C@]2(OC([H])([H])[H])OO[C@]23[C@@]2([H])C([H])([H])[C@]4([H])C([H])([H])[C@@]([H])(C([H])([H])[C@@]3([_bd224bcb.pickle\n",
      "Saved mol_dic for SMILES=[H]OP(=O)(O[H])Oc1c([H])c([H])c([H])c([C@]2(OC([H])([H])[H])OO[C@]23[C@@]2([H])C([H])([H])[C@]4([H])C([H])([H])[C@]([H])(C2([H])[H])C([H])([H])[C@@]3([H])C4([H])[H])c1[H] to hexane_groupby/[H]OP(=O)(O[H])Oc1c([H])c([H])c([H])c([C@]2(OC([H])([H])[H])OO[C@]23[C@@]2([H])C([H])([H])[C@]4([H])C([H])([H])[C@]([H])(C2([H])[H])C([H])([H_b77953bc.pickle\n",
      "Saved mol_dic for SMILES=[H]OP(=O)(O[H])Oc1c([H])c([H])c([H])c([C@]2(OC([H])([H])[H])OO[C@]23[C@]2([H])C([H])([H])[C@@]4([H])C([H])([H])[C@@]([H])(C2([H])[H])C([H])([H])[C@]3([H])C4([H])[H])c1[H] to hexane_groupby/[H]OP(=O)(O[H])Oc1c([H])c([H])c([H])c([C@]2(OC([H])([H])[H])OO[C@]23[C@]2([H])C([H])([H])[C@@]4([H])C([H])([H])[C@@]([H])(C2([H])[H])C([H])([_058e4404.pickle\n",
      "Saved mol_dic for SMILES=[H]OP([H])[H] to hexane_groupby/[H]OP([H])[H].pickle\n",
      "Saved mol_dic for SMILES=[H]OP([O])O[H] to hexane_groupby/[H]OP([O])O[H].pickle\n",
      "Saved mol_dic for SMILES=[H]OS([O])([O])/C([H])=C(/[H])[Si](C([H])([H])[H])(C([H])([H])[H])C([H])([H])[H] to hexane_groupby/[H]OS([O])([O])_C([H])=C(_[H])[Si](C([H])([H])[H])(C([H])([H])[H])C([H])([H])[H].pickle\n",
      "Saved mol_dic for SMILES=[H]OS([O])([O])/C([H])=C(\\[H])[Si](C([H])([H])[H])(C([H])([H])[H])C([H])([H])[H] to hexane_groupby/[H]OS([O])([O])_C([H])=C(\\[H])[Si](C([H])([H])[H])(C([H])([H])[H])C([H])([H])[H].pickle\n",
      "Saved mol_dic for SMILES=[H]OS([O])([O])C([H])(I)I to hexane_groupby/[H]OS([O])([O])C([H])(I)I.pickle\n",
      "Saved mol_dic for SMILES=[H]OS([O])([O])c1c(I)c([H])c([H])c2c([H])c([H])c([H])c([H])c12 to hexane_groupby/[H]OS([O])([O])c1c(I)c([H])c([H])c2c([H])c([H])c([H])c([H])c12.pickle\n",
      "Saved mol_dic for SMILES=[H]OS([O])([O])c1c([H])c([H])c2c(c1[H])C([H])=C([H])C(=O)/C2=N/N([H])c1c([H])c([H])c(I)c([H])c1[H] to hexane_groupby/[H]OS([O])([O])c1c([H])c([H])c2c(c1[H])C([H])=C([H])C(=O)_C2=N_N([H])c1c([H])c([H])c(I)c([H])c1[H].pickle\n",
      "Saved mol_dic for SMILES=[H]OS([O])([O])c1c([H])c([H])c2c(c1[H])C([H])=C([H])C(=O)/C2=N\\N([H])c1c([H])c([H])c(I)c([H])c1[H] to hexane_groupby/[H]OS([O])([O])c1c([H])c([H])c2c(c1[H])C([H])=C([H])C(=O)_C2=N\\N([H])c1c([H])c([H])c(I)c([H])c1[H].pickle\n",
      "Saved mol_dic for SMILES=[H]OS([O])([O])c1c([H])c([H])c2c(c1[H])C([H])=C([H])C(=O)[C]2[N]N([H])c1c([H])c([H])c(I)c([H])c1[H] to hexane_groupby/[H]OS([O])([O])c1c([H])c([H])c2c(c1[H])C([H])=C([H])C(=O)[C]2[N]N([H])c1c([H])c([H])c(I)c([H])c1[H].pickle\n",
      "Saved mol_dic for SMILES=[H]O[C@@]1([H])C([H])([H])C([H])([H])C([H])([H])C([H])([H])[C@]1([H])N1C([H])([H])C([H])([H])C([H])(c2c([H])c([H])c(I)c([H])c2[H])C([H])([H])C1([H])[H] to hexane_groupby/[H]O[C@@]1([H])C([H])([H])C([H])([H])C([H])([H])C([H])([H])[C@]1([H])N1C([H])([H])C([H])([H])C([H])(c2c([H])c([H])c(I)c([H])c2[H])C([H])([H])_64b69d20.pickle\n",
      "Saved mol_dic for SMILES=[H]O[C@@]1([H])C([H])([H])C([H])([H])C([H])([H])[C@@]2([H])[C@@]([H])([C@@]([H])(I)C([H])([H])[H])OC(=O)[C@]21[H] to hexane_groupby/[H]O[C@@]1([H])C([H])([H])C([H])([H])C([H])([H])[C@@]2([H])[C@@]([H])([C@@]([H])(I)C([H])([H])[H])OC(=O)[C@]21[H].pickle\n",
      "Saved mol_dic for SMILES=[H]O[C@@]1([H])C([H])([H])C([H])([H])N(C([H])([H])c2c([H])c([H])c([H])c(I)c2[H])C([H])([H])[C@]1([H])N1C([H])([H])C([H])([H])C2(c3c([H])c([H])c([H])c([H])c3C([H])([H])C2([H])[H])C([H])([H])C1([H])[H] to hexane_groupby/[H]O[C@@]1([H])C([H])([H])C([H])([H])N(C([H])([H])c2c([H])c([H])c([H])c(I)c2[H])C([H])([H])[C@]1([H])N1C([H])([H])C([H])([H])C2(c3c([H])c([H]_78a7995b.pickle\n",
      "Saved mol_dic for SMILES=[H]O[C@@]1([H])C([H])([H])c2c([H])c(I)c([H])c([H])c2C([H])([H])[C@@]1([H])N1C([H])([H])C([H])([H])C([H])(c2c([H])c([H])c([H])c([H])c2[H])C([H])([H])C1([H])[H] to hexane_groupby/[H]O[C@@]1([H])C([H])([H])c2c([H])c(I)c([H])c([H])c2C([H])([H])[C@@]1([H])N1C([H])([H])C([H])([H])C([H])(c2c([H])c([H])c([H])c([H])c2[H])C([H_fff6900b.pickle\n",
      "Saved mol_dic for SMILES=[H]O[C@@]1([H])[C@@]([H])(O[H])[C@]([H])(N2[C]3[C](C(=O)N=C(N([H])[H])N3[H])N([H])C2=O)O[C@]1([H])C([H])([H])OP(=O)(O[H])O[H] to hexane_groupby/[H]O[C@@]1([H])[C@@]([H])(O[H])[C@]([H])(N2[C]3[C](C(=O)N=C(N([H])[H])N3[H])N([H])C2=O)O[C@]1([H])C([H])([H])OP(=O)(O[H])O[H].pickle\n",
      "Saved mol_dic for SMILES=[H]O[C@@]1([H])[C@@]([H])(O[H])[C@]([H])(n2c(=O)n([H])c3c(=O)nc(N([H])[H])n([H])c32)O[C@]1([H])C([H])([H])OP(=O)(O[H])O[H] to hexane_groupby/[H]O[C@@]1([H])[C@@]([H])(O[H])[C@]([H])(n2c(=O)n([H])c3c(=O)nc(N([H])[H])n([H])c32)O[C@]1([H])C([H])([H])OP(=O)(O[H])O[H].pickle\n",
      "Saved mol_dic for SMILES=[H]O[C@@]1([H])[C@@]2(O[Si](C([H])([H])[H])(C([H])([H])[H])C([H])([H])[H])c3c([H])c([H])c([H])c([H])c3-c3c([H])c([H])c([H])c(c32)C([H])([H])[C@@]1([H])[Se]c1c([H])c([H])c([H])c([H])c1[H] to hexane_groupby/[H]O[C@@]1([H])[C@@]2(O[Si](C([H])([H])[H])(C([H])([H])[H])C([H])([H])[H])c3c([H])c([H])c([H])c([H])c3-c3c([H])c([H])c([H])c(c32)C([H])([H])[_60f97533.pickle\n",
      "Saved mol_dic for SMILES=[H]O[C@@]1([H])[C@@]2([H])O[P@](=O)(O[H])OC([H])([H])[C@]2([H])O[C@@]1([H])n1c([Se]C([H])([H])c2c([H])c([H])c([H])c([H])c2[H])nc2c(N([H])[H])nc([H])nc21 to hexane_groupby/[H]O[C@@]1([H])[C@@]2([H])O[P@](=O)(O[H])OC([H])([H])[C@]2([H])O[C@@]1([H])n1c([Se]C([H])([H])c2c([H])c([H])c([H])c([H])c2[H])nc2c(N([H])[H])_d66d25b8.pickle\n",
      "Saved mol_dic for SMILES=[H]O[C@]([H])(/C([H])=C(/[H])I)C([H])([H])C([H])([H])C([H])([H])C([H])([H])[H] to hexane_groupby/[H]O[C@]([H])(_C([H])=C(_[H])I)C([H])([H])C([H])([H])C([H])([H])C([H])([H])[H].pickle\n",
      "Saved mol_dic for SMILES=[H]O[C@]([H])(/C([H])=C(\\[H])I)C([H])([H])C([H])([H])C([H])([H])C([H])([H])[H] to hexane_groupby/[H]O[C@]([H])(_C([H])=C(\\[H])I)C([H])([H])C([H])([H])C([H])([H])C([H])([H])[H].pickle\n",
      "Saved mol_dic for SMILES=[H]O[C@]([H])(C#C[Si](C([H])([H])[H])(C([H])([H])[H])C([H])([H])[H])C([H])([H])/C(=C(/[H])I)C([H])([H])[H] to hexane_groupby/[H]O[C@]([H])(C#C[Si](C([H])([H])[H])(C([H])([H])[H])C([H])([H])[H])C([H])([H])_C(=C(_[H])I)C([H])([H])[H].pickle\n",
      "Saved mol_dic for SMILES=[H]O[C@]([H])(C#C[Si](C([H])([H])[H])(C([H])([H])[H])C([H])([H])[H])C([H])([H])/C(=C(\\[H])I)C([H])([H])[H] to hexane_groupby/[H]O[C@]([H])(C#C[Si](C([H])([H])[H])(C([H])([H])[H])C([H])([H])[H])C([H])([H])_C(=C(\\[H])I)C([H])([H])[H].pickle\n"
     ]
    },
    {
     "name": "stderr",
     "output_type": "stream",
     "text": [
      " 51%|█████     | 536/1054 [00:05<00:08, 63.61it/s]"
     ]
    },
    {
     "name": "stdout",
     "output_type": "stream",
     "text": [
      "Saved mol_dic for SMILES=[H]O[C@]([H])(C([H])([H])Cl)C([H])([H])c1c([H])c([H])c([H])c([H])c1C([H])([H])[P]([S])(O[H])O[H] to hexane_groupby/[H]O[C@]([H])(C([H])([H])Cl)C([H])([H])c1c([H])c([H])c([H])c([H])c1C([H])([H])[P]([S])(O[H])O[H].pickle\n",
      "Saved mol_dic for SMILES=[H]O[C@]([H])(c1c([H])c([H])c(OC([H])([H])[H])c(OC([H])([H])[H])c1[H])C([H])([H])I to hexane_groupby/[H]O[C@]([H])(c1c([H])c([H])c(OC([H])([H])[H])c(OC([H])([H])[H])c1[H])C([H])([H])I.pickle\n",
      "Saved mol_dic for SMILES=[H]O[C]([N]C(=O)C([H])([H])I)C([H])([H])I to hexane_groupby/[H]O[C]([N]C(=O)C([H])([H])I)C([H])([H])I.pickle\n",
      "Saved mol_dic for SMILES=[H]O[P@@]1(=O)c2c([H])c(C([H])([H])[H])c([H])c([H])c2Oc2c(C([H])([H])[H])c(C([H])([H])[H])c([H])c(C([H])([H])[H])c21 to hexane_groupby/[H]O[P@@]1(=O)c2c([H])c(C([H])([H])[H])c([H])c([H])c2Oc2c(C([H])([H])[H])c(C([H])([H])[H])c([H])c(C([H])([H])[H])c21.pickle\n",
      "Saved mol_dic for SMILES=[H]O[P@]1(=O)OC([H])([H])[C@@]2([H])O[C@@]([H])(c3c(C(F)(F)F)c(=O)n([H])c(=O)n3[H])C([H])([H])[C@]2([H])O1 to hexane_groupby/[H]O[P@]1(=O)OC([H])([H])[C@@]2([H])O[C@@]([H])(c3c(C(F)(F)F)c(=O)n([H])c(=O)n3[H])C([H])([H])[C@]2([H])O1.pickle\n",
      "Saved mol_dic for SMILES=[H]O[P](=O)I to hexane_groupby/[H]O[P](=O)I.pickle\n",
      "Saved mol_dic for SMILES=[H]O[P](=O)OC([H])([H])C([H])([H])C([H])([H])[H] to hexane_groupby/[H]O[P](=O)OC([H])([H])C([H])([H])C([H])([H])[H].pickle\n",
      "Saved mol_dic for SMILES=[H]O[P](=[N])O[H] to hexane_groupby/[H]O[P](=[N])O[H].pickle\n",
      "Saved mol_dic for SMILES=[H]O[P]1([S])SC([H])([H])C([H])([H])S1 to hexane_groupby/[H]O[P]1([S])SC([H])([H])C([H])([H])S1.pickle\n",
      "Saved mol_dic for SMILES=[H]O[Si@]1(C([H])([H])[H])[Si](C([H])([H])[H])(C([H])([H])[H])[Si](C([H])([H])[H])(C([H])([H])[H])[Si](C([H])([H])[H])(C([H])([H])[H])[Si@](O[H])(C([H])([H])[H])[Si]1(C([H])([H])[H])C([H])([H])[H] to hexane_groupby/[H]O[Si@]1(C([H])([H])[H])[Si](C([H])([H])[H])(C([H])([H])[H])[Si](C([H])([H])[H])(C([H])([H])[H])[Si](C([H])([H])[H])(C([H])([H])[H])[Si@](O_d96a65ae.pickle\n",
      "Saved mol_dic for SMILES=[H]O[Si](O[H])(O[H])/C([H])=C(/[H])C([H])([H])[H] to hexane_groupby/[H]O[Si](O[H])(O[H])_C([H])=C(_[H])C([H])([H])[H].pickle\n",
      "Saved mol_dic for SMILES=[H]O[Si](O[H])(O[H])/C([H])=C(\\[H])C([H])([H])[H] to hexane_groupby/[H]O[Si](O[H])(O[H])_C([H])=C(\\[H])C([H])([H])[H].pickle\n",
      "Saved mol_dic for SMILES=[H]O[Si]([H])([H])C([H])(OC([H])([H])C(C([H])([H])[H])(C([H])([H])[H])C([H])([H])[H])OC([H])([H])C(C([H])([H])[H])(C([H])([H])[H])C([H])([H])[H] to hexane_groupby/[H]O[Si]([H])([H])C([H])(OC([H])([H])C(C([H])([H])[H])(C([H])([H])[H])C([H])([H])[H])OC([H])([H])C(C([H])([H])[H])(C([H])([H])[H])C([H])([H])[H].pickle\n",
      "Saved mol_dic for SMILES=[H]Oc1c(Br)c([H])c(I)c([H])c1C(C([H])([H])[H])(C([H])([H])[H])C([H])([H])[H] to hexane_groupby/[H]Oc1c(Br)c([H])c(I)c([H])c1C(C([H])([H])[H])(C([H])([H])[H])C([H])([H])[H].pickle\n",
      "Saved mol_dic for SMILES=[H]Oc1c(Cl)c([H])c(I)c([H])c1C(C([H])([H])[H])(C([H])([H])[H])C([H])([H])[H] to hexane_groupby/[H]Oc1c(Cl)c([H])c(I)c([H])c1C(C([H])([H])[H])(C([H])([H])[H])C([H])([H])[H].pickle\n",
      "Saved mol_dic for SMILES=[H]Oc1c(Cl)c([H])c(I)c([H])c1I to hexane_groupby/[H]Oc1c(Cl)c([H])c(I)c([H])c1I.pickle\n",
      "Saved mol_dic for SMILES=[H]Oc1c(F)c([H])c(C([H])([H])I)c([H])c1OC([H])([H])[H] to hexane_groupby/[H]Oc1c(F)c([H])c(C([H])([H])I)c([H])c1OC([H])([H])[H].pickle\n",
      "Saved mol_dic for SMILES=[H]Oc1c(I)c(=O)n([H])c2c([H])c([H])c([H])c([H])c12 to hexane_groupby/[H]Oc1c(I)c(=O)n([H])c2c([H])c([H])c([H])c([H])c12.pickle\n",
      "Saved mol_dic for SMILES=[H]Oc1c(I)c(I)c(I)c([H])c1C(=O)N([H])N([H])[H] to hexane_groupby/[H]Oc1c(I)c(I)c(I)c([H])c1C(=O)N([H])N([H])[H].pickle\n",
      "Saved mol_dic for SMILES=[H]Oc1c(I)c([H])c(-c2c([H])c([H])c([H])c([H])c2OC([H])([H])[H])c2c([H])c([H])c([H])nc12 to hexane_groupby/[H]Oc1c(I)c([H])c(-c2c([H])c([H])c([H])c([H])c2OC([H])([H])[H])c2c([H])c([H])c([H])nc12.pickle\n",
      "Saved mol_dic for SMILES=[H]Oc1c(I)c([H])c(C(=O)C([H])([H])[H])c2c([H])c([H])c([H])nc12 to hexane_groupby/[H]Oc1c(I)c([H])c(C(=O)C([H])([H])[H])c2c([H])c([H])c([H])nc12.pickle\n",
      "Saved mol_dic for SMILES=[H]Oc1c(I)c([H])c(C([H])([H])C([H])([H])N([H])C(=O)OC(C([H])([H])[H])(C([H])([H])[H])C([H])([H])[H])c([H])c1I to hexane_groupby/[H]Oc1c(I)c([H])c(C([H])([H])C([H])([H])N([H])C(=O)OC(C([H])([H])[H])(C([H])([H])[H])C([H])([H])[H])c([H])c1I.pickle\n",
      "Saved mol_dic for SMILES=[H]Oc1c(I)c([H])c(I)c([H])c1C(=O)N([H])C([H])([H])C([H])([H])C([H])([H])C([H])([H])C([H])([H])[H] to hexane_groupby/[H]Oc1c(I)c([H])c(I)c([H])c1C(=O)N([H])C([H])([H])C([H])([H])C([H])([H])C([H])([H])C([H])([H])[H].pickle\n",
      "Saved mol_dic for SMILES=[H]Oc1c(I)c([H])c([C@]2([H])C3=C(N([H])c4c2c(=O)nc(SC([H])([H])C([H])([H])C([H])([H])[H])n4[H])C([H])([H])C([H])([H])C([H])([H])C3=O)c([H])c1OC([H])([H])[H] to hexane_groupby/[H]Oc1c(I)c([H])c([C@]2([H])C3=C(N([H])c4c2c(=O)nc(SC([H])([H])C([H])([H])C([H])([H])[H])n4[H])C([H])([H])C([H])([H])C([H])([H])C3=O)c([H])c1_95f57fe7.pickle\n",
      "Saved mol_dic for SMILES=[H]Oc1c(I)c([H])c([H])c([H])c1C([H])([H])[H] to hexane_groupby/[H]Oc1c(I)c([H])c([H])c([H])c1C([H])([H])[H].pickle\n",
      "Saved mol_dic for SMILES=[H]Oc1c(I)c([H])c([H])c2c([H])c([H])c(C([H])([H])[H])nc12 to hexane_groupby/[H]Oc1c(I)c([H])c([H])c2c([H])c([H])c(C([H])([H])[H])nc12.pickle\n",
      "Saved mol_dic for SMILES=[H]Oc1c(I)nc(F)c([H])c1[H] to hexane_groupby/[H]Oc1c(I)nc(F)c([H])c1[H].pickle\n",
      "Saved mol_dic for SMILES=[H]Oc1c([H])c(-n2c(C([H])([H])[H])c([H])c([H])c2C([H])([H])[H])c([H])c(C([H])([H])I)c1[H] to hexane_groupby/[H]Oc1c([H])c(-n2c(C([H])([H])[H])c([H])c([H])c2C([H])([H])[H])c([H])c(C([H])([H])I)c1[H].pickle\n",
      "Saved mol_dic for SMILES=[H]Oc1c([H])c(C([H])([H])[H])c(I)c(C([H])([H])[H])c1[H] to hexane_groupby/[H]Oc1c([H])c(C([H])([H])[H])c(I)c(C([H])([H])[H])c1[H].pickle\n",
      "Saved mol_dic for SMILES=[H]Oc1c([H])c(C([H])([H])[H])c(I)c([H])c1C([H])(C([H])([H])[H])C([H])([H])[H] to hexane_groupby/[H]Oc1c([H])c(C([H])([H])[H])c(I)c([H])c1C([H])(C([H])([H])[H])C([H])([H])[H].pickle\n",
      "Saved mol_dic for SMILES=[H]Oc1c([H])c(Cl)c(C(=O)OC([H])([H])[H])c([H])c1I to hexane_groupby/[H]Oc1c([H])c(Cl)c(C(=O)OC([H])([H])[H])c([H])c1I.pickle\n",
      "Saved mol_dic for SMILES=[H]Oc1c([H])c(F)c(F)c([H])c1I to hexane_groupby/[H]Oc1c([H])c(F)c(F)c([H])c1I.pickle\n",
      "Saved mol_dic for SMILES=[H]Oc1c([H])c(O[H])c(I)c([H])c1I to hexane_groupby/[H]Oc1c([H])c(O[H])c(I)c([H])c1I.pickle\n",
      "Saved mol_dic for SMILES=[H]Oc1c([H])c([H])c(C(=O)C([H])([H])[H])c([H])c1I to hexane_groupby/[H]Oc1c([H])c([H])c(C(=O)C([H])([H])[H])c([H])c1I.pickle\n",
      "Saved mol_dic for SMILES=[H]Oc1c([H])c([H])c(C(=O)OC([H])([H])[H])c([H])c1I to hexane_groupby/[H]Oc1c([H])c([H])c(C(=O)OC([H])([H])[H])c([H])c1I.pickle\n",
      "Saved mol_dic for SMILES=[H]Oc1c([H])c([H])c(C(=O)c2c([H])c([H])c([H])c([H])c2[H])c(O[H])c1I to hexane_groupby/[H]Oc1c([H])c([H])c(C(=O)c2c([H])c([H])c([H])c([H])c2[H])c(O[H])c1I.pickle\n",
      "Saved mol_dic for SMILES=[H]Oc1c([H])c([H])c(I)c(C([H])=O)c1[H] to hexane_groupby/[H]Oc1c([H])c([H])c(I)c(C([H])=O)c1[H].pickle\n",
      "Saved mol_dic for SMILES=[H]Oc1c([H])c([H])c(I)c([H])c1C(=O)OC([H])([H])C([H])([H])[H] to hexane_groupby/[H]Oc1c([H])c([H])c(I)c([H])c1C(=O)OC([H])([H])C([H])([H])[H].pickle\n",
      "Saved mol_dic for SMILES=[H]Oc1c([H])c([H])c(I)c([H])c1O[H] to hexane_groupby/[H]Oc1c([H])c([H])c(I)c([H])c1O[H].pickle\n",
      "Saved mol_dic for SMILES=[H]Oc1c([H])c([H])c(N([H])[H])c(I)c1[H] to hexane_groupby/[H]Oc1c([H])c([H])c(N([H])[H])c(I)c1[H].pickle\n",
      "Saved mol_dic for SMILES=[H]Oc1c([H])c([H])c(OC([H])([H])[H])c(I)c1[H] to hexane_groupby/[H]Oc1c([H])c([H])c(OC([H])([H])[H])c(I)c1[H].pickle\n",
      "Saved mol_dic for SMILES=[H]Oc1c([H])c([H])c([H])c(O[H])c1I to hexane_groupby/[H]Oc1c([H])c([H])c([H])c(O[H])c1I.pickle\n",
      "Saved mol_dic for SMILES=[H]Oc1c([H])c([H])c([H])c([H])c1I to hexane_groupby/[H]Oc1c([H])c([H])c([H])c([H])c1I.pickle\n",
      "Saved mol_dic for SMILES=[H]Oc1c([H])c([H])c([H])c2c([H])c([H])c(I)nc12 to hexane_groupby/[H]Oc1c([H])c([H])c([H])c2c([H])c([H])c(I)nc12.pickle\n",
      "Saved mol_dic for SMILES=[H]Oc1c([H])c([H])c2c3c1O[C@]1([H])[C@]34C([H])([H])C([H])([H])N(C([H])([H])C3([H])C([H])([H])C3([H])[H])[C@]([H])(C2([H])[H])[C@]4(O[H])C([H])([H])C([H])([H])[C@]1([H])I to hexane_groupby/[H]Oc1c([H])c([H])c2c3c1O[C@]1([H])[C@]34C([H])([H])C([H])([H])N(C([H])([H])C3([H])C([H])([H])C3([H])[H])[C@]([H])(C2([H])[H])[C@]4(O[H])C([H_5f2f0db3.pickle\n",
      "Saved mol_dic for SMILES=[H]Oc1c([H])n(C(=O)C([H])([H])[H])c2c([H])c([H])c(I)c([H])c12 to hexane_groupby/[H]Oc1c([H])n(C(=O)C([H])([H])[H])c2c([H])c([H])c(I)c([H])c12.pickle\n",
      "Saved mol_dic for SMILES=[H]On1c(=O)c2c([H])c(I)c([H])c3c2c2c(c([H])c(I)c([H])c21)c(=O)n3O[H] to hexane_groupby/[H]On1c(=O)c2c([H])c(I)c([H])c3c2c2c(c([H])c(I)c([H])c21)c(=O)n3O[H].pickle\n",
      "Saved mol_dic for SMILES=[H]P(Br)Br to hexane_groupby/[H]P(Br)Br.pickle\n",
      "Saved mol_dic for SMILES=[H]P(Cl)N=C=O to hexane_groupby/[H]P(Cl)N=C=O.pickle\n",
      "Saved mol_dic for SMILES=[H]P([H])(=O)C(F)(F)F to hexane_groupby/[H]P([H])(=O)C(F)(F)F.pickle\n",
      "Saved mol_dic for SMILES=[H]P([H])[Si](C([H])([H])[H])(C([H])([H])[H])C([H])([H])[H] to hexane_groupby/[H]P([H])[Si](C([H])([H])[H])(C([H])([H])[H])C([H])([H])[H].pickle\n",
      "Saved mol_dic for SMILES=[H]SC#CC([H])([H])Oc1c([H])c([H])c(I)c([H])c1[H] to hexane_groupby/[H]SC#CC([H])([H])Oc1c([H])c([H])c(I)c([H])c1[H].pickle\n",
      "Saved mol_dic for SMILES=[H]SC([H])([H])C([H])([H])c1c([H])c([H])c([H])c([H])c1I to hexane_groupby/[H]SC([H])([H])C([H])([H])c1c([H])c([H])c([H])c([H])c1I.pickle\n",
      "Saved mol_dic for SMILES=[H]SI to hexane_groupby/[H]SI.pickle\n",
      "Saved mol_dic for SMILES=[H]SP(Cl)N([H])[H] to hexane_groupby/[H]SP(Cl)N([H])[H].pickle\n",
      "Saved mol_dic for SMILES=[H][As](Br)I to hexane_groupby/[H][As](Br)I.pickle\n",
      "Saved mol_dic for SMILES=[H][C](C(=O)/C([H])=C(/[H])c1sc([H])c([H])c1[H])[P](c1c([H])c([H])c([H])c([H])c1[H])(c1c([H])c([H])c([H])c([H])c1[H])c1c([H])c([H])c([H])c([H])c1[H] to hexane_groupby/[H][C](C(=O)_C([H])=C(_[H])c1sc([H])c([H])c1[H])[P](c1c([H])c([H])c([H])c([H])c1[H])(c1c([H])c([H])c([H])c([H])c1[H])c1c([H])c([H])c([H])c([H])c1[H].pickle\n",
      "Saved mol_dic for SMILES=[H][C](C(=O)/C([H])=C(\\[H])c1sc([H])c([H])c1[H])[P](c1c([H])c([H])c([H])c([H])c1[H])(c1c([H])c([H])c([H])c([H])c1[H])c1c([H])c([H])c([H])c([H])c1[H] to hexane_groupby/[H][C](C(=O)_C([H])=C(\\[H])c1sc([H])c([H])c1[H])[P](c1c([H])c([H])c([H])c([H])c1[H])(c1c([H])c([H])c([H])c([H])c1[H])c1c([H])c([H])c([H])c([H])c1[H].pickle\n",
      "Saved mol_dic for SMILES=[H][C]([C](I)P(=O)(OC([H])([H])C([H])([H])[H])OC([H])([H])C([H])([H])[H])c1c([H])c([H])c([H])c([H])c1[H] to hexane_groupby/[H][C]([C](I)P(=O)(OC([H])([H])C([H])([H])[H])OC([H])([H])C([H])([H])[H])c1c([H])c([H])c([H])c([H])c1[H].pickle\n",
      "Saved mol_dic for SMILES=[H][C]([C]([Si](C([H])([H])[H])(C([H])([H])[H])C([H])([H])[H])[Si](C([H])([H])C([H])([H])[H])(C([H])([H])C([H])([H])[H])C([H])([H])C([H])([H])[H])C(=O)C([H])([H])[H] to hexane_groupby/[H][C]([C]([Si](C([H])([H])[H])(C([H])([H])[H])C([H])([H])[H])[Si](C([H])([H])C([H])([H])[H])(C([H])([H])C([H])([H])[H])C([H])([H])C([H])([H]_0f876e79.pickle\n",
      "Saved mol_dic for SMILES=[H][C]([N][N])C(=O)c1c([H])c([H])c([H])c(OC([H])([H])c2c([H])c([H])c([H])c([H])c2[H])c1I to hexane_groupby/[H][C]([N][N])C(=O)c1c([H])c([H])c([H])c(OC([H])([H])c2c([H])c([H])c([H])c([H])c2[H])c1I.pickle\n",
      "Saved mol_dic for SMILES=[H][C]1C(=O)C([H])=C([H])C2=C1N([H])[C]([H])C(I)=C2[H] to hexane_groupby/[H][C]1C(=O)C([H])=C([H])C2=C1N([H])[C]([H])C(I)=C2[H].pickle\n",
      "Saved mol_dic for SMILES=[H][C]1C(Br)=C([H])N=C2[N]C(c3c([H])c([H])c(I)c([H])c3[H])=C([H])N12 to hexane_groupby/[H][C]1C(Br)=C([H])N=C2[N]C(c3c([H])c([H])c(I)c([H])c3[H])=C([H])N12.pickle\n",
      "Saved mol_dic for SMILES=[H][C]1C([H])=C([H])C([H])=C2C1=c1c([H])c([H])c([H])c([H])c1=C2[C](I)c1c([H])c([H])c([H])c([H])c1[H] to hexane_groupby/[H][C]1C([H])=C([H])C([H])=C2C1=c1c([H])c([H])c([H])c([H])c1=C2[C](I)c1c([H])c([H])c([H])c([H])c1[H].pickle\n",
      "Saved mol_dic for SMILES=[H][C]1N=C(N([H])c2c([H])c([H])c(N3C([H])([H])C([H])([H])OC([H])([H])C3([H])[H])c([H])c2[H])[N]n2c(B3OC(C([H])([H])[H])(C([H])([H])[H])C(C([H])([H])[H])(C([H])([H])[H])O3)c([H])c([H])c21 to hexane_groupby/[H][C]1N=C(N([H])c2c([H])c([H])c(N3C([H])([H])C([H])([H])OC([H])([H])C3([H])[H])c([H])c2[H])[N]n2c(B3OC(C([H])([H])[H])(C([H])([H])[H])C(C([H_a09635d0.pickle\n",
      "Saved mol_dic for SMILES=[H][C]1N=C([H])[N]N1C([H])([H])c1c([H])c(I)c(N([H])[H])c(I)c1[H] to hexane_groupby/[H][C]1N=C([H])[N]N1C([H])([H])c1c([H])c(I)c(N([H])[H])c(I)c1[H].pickle\n",
      "Saved mol_dic for SMILES=[H][C]1N=C([H])[N]N1C([H])([H])c1c([H])c([H])c(N([H])[H])c(I)c1[H] to hexane_groupby/[H][C]1N=C([H])[N]N1C([H])([H])c1c([H])c([H])c(N([H])[H])c(I)c1[H].pickle\n",
      "Saved mol_dic for SMILES=[H][C]1OC([H])([H])[Si]1[H] to hexane_groupby/[H][C]1OC([H])([H])[Si]1[H].pickle\n",
      "Saved mol_dic for SMILES=[H][C]1OP(Cl)O/C([H])=C(/[H])C([H])([H])[C]1[H] to hexane_groupby/[H][C]1OP(Cl)O_C([H])=C(_[H])C([H])([H])[C]1[H].pickle\n",
      "Saved mol_dic for SMILES=[H][N][C](P([H])C(C([H])([H])[H])(C([H])([H])[H])C([H])([H])[H])C([H])(C([H])([H])[H])C([H])([H])[H] to hexane_groupby/[H][N][C](P([H])C(C([H])([H])[H])(C([H])([H])[H])C([H])([H])[H])C([H])(C([H])([H])[H])C([H])([H])[H].pickle\n",
      "Saved mol_dic for SMILES=[H][N][P](N1C([H])([H])C([H])([H])C([H])([H])C1([H])[H])(N1C([H])([H])C([H])([H])C([H])([H])C1([H])[H])N1C([H])([H])C([H])([H])C([H])([H])C1([H])[H] to hexane_groupby/[H][N][P](N1C([H])([H])C([H])([H])C([H])([H])C1([H])[H])(N1C([H])([H])C([H])([H])C([H])([H])C1([H])[H])N1C([H])([H])C([H])([H])C([H])([H])C1([H])[H].pickle\n",
      "Saved mol_dic for SMILES=[H][N][Si][S] to hexane_groupby/[H][N][Si][S].pickle\n",
      "Saved mol_dic for SMILES=[H][O].[H]c1[c]c(C([O])=O)c([H])c([H])c1[H].[O]I to hexane_groupby/[H][O].[H]c1[c]c(C([O])=O)c([H])c([H])c1[H].[O]I.pickle\n",
      "Saved mol_dic for SMILES=[H][O].[H]c1[c]c(C([O])=O)c2c([H])c([H])c([H])c([H])c2c1[H].[O]I to hexane_groupby/[H][O].[H]c1[c]c(C([O])=O)c2c([H])c([H])c([H])c([H])c2c1[H].[O]I.pickle\n",
      "Saved mol_dic for SMILES=[H][P][C]([H])C([H])=C([H])[H] to hexane_groupby/[H][P][C]([H])C([H])=C([H])[H].pickle\n",
      "Saved mol_dic for SMILES=[H][P][C]1C([H])([H])C1([H])[H] to hexane_groupby/[H][P][C]1C([H])([H])C1([H])[H].pickle\n",
      "Saved mol_dic for SMILES=[H][Si](Cl)(Cl)[Si](Cl)(Cl)[Si](Cl)(Cl)[Si]([H])(Cl)Cl to hexane_groupby/[H][Si](Cl)(Cl)[Si](Cl)(Cl)[Si](Cl)(Cl)[Si]([H])(Cl)Cl.pickle\n",
      "Saved mol_dic for SMILES=[H][Si]([H])([H])C1([Si]([H])([H])[H])SSC([Si]([H])([H])[H])([Si]([H])([H])[H])SS1 to hexane_groupby/[H][Si]([H])([H])C1([Si]([H])([H])[H])SSC([Si]([H])([H])[H])([Si]([H])([H])[H])SS1.pickle\n",
      "Saved mol_dic for SMILES=[H][Si]([H])([H])OC(N=C=O)(N=C=O)N=C=O to hexane_groupby/[H][Si]([H])([H])OC(N=C=O)(N=C=O)N=C=O.pickle\n",
      "Saved mol_dic for SMILES=[H][Si]([H])([H])S[Si]([H])([H])S[Si]([H])([H])[H] to hexane_groupby/[H][Si]([H])([H])S[Si]([H])([H])S[Si]([H])([H])[H].pickle\n",
      "Saved mol_dic for SMILES=[H][Si]([H])([Si](Cl)(Cl)Cl)[Si](Cl)(Cl)Cl to hexane_groupby/[H][Si]([H])([Si](Cl)(Cl)Cl)[Si](Cl)(Cl)Cl.pickle\n",
      "Saved mol_dic for SMILES=[H]c1[se]c(I)c([H])c1[H] to hexane_groupby/[H]c1[se]c(I)c([H])c1[H].pickle\n",
      "Saved mol_dic for SMILES=[H]c1c(Br)c(F)c([H])c(C([H])([H])[H])c1I to hexane_groupby/[H]c1c(Br)c(F)c([H])c(C([H])([H])[H])c1I.pickle\n",
      "Saved mol_dic for SMILES=[H]c1c(Br)c(I)c2nn([H])c(=O)n2c1[H] to hexane_groupby/[H]c1c(Br)c(I)c2nn([H])c(=O)n2c1[H].pickle\n",
      "Saved mol_dic for SMILES=[H]c1c(Br)c(I)nc(I)c1OC([H])([H])[H] to hexane_groupby/[H]c1c(Br)c(I)nc(I)c1OC([H])([H])[H].pickle\n",
      "Saved mol_dic for SMILES=[H]c1c(Br)c([H])c([N+](=O)[O-])c([H])c1I to hexane_groupby/[H]c1c(Br)c([H])c([N+](=O)[O-])c([H])c1I.pickle\n",
      "Saved mol_dic for SMILES=[H]c1c(Br)nc(C([H])([H])[H])c(I)c1[H] to hexane_groupby/[H]c1c(Br)nc(C([H])([H])[H])c(I)c1[H].pickle\n",
      "Saved mol_dic for SMILES=[H]c1c(Br)sc(B2N([H])c3c([H])c([H])c([H])c4c([H])c([H])c([H])c(c34)N2[H])c1[H] to hexane_groupby/[H]c1c(Br)sc(B2N([H])c3c([H])c([H])c([H])c4c([H])c([H])c([H])c(c34)N2[H])c1[H].pickle\n",
      "Saved mol_dic for SMILES=[H]c1c(C#C[Si](C([H])([H])[H])(C([H])([H])[H])C([H])([H])[H])c([H])c([H])c([C@]23OC([H])([H])[C@](C([H])([H])C([H])([H])C([H])([H])C([H])([H])C([H])([H])[H])(C([H])([H])O2)C([H])([H])O3)c1[H] to hexane_groupby/[H]c1c(C#C[Si](C([H])([H])[H])(C([H])([H])[H])C([H])([H])[H])c([H])c([H])c([C@]23OC([H])([H])[C@](C([H])([H])C([H])([H])C([H])([H])C([H])([H]_810ad466.pickle\n",
      "Saved mol_dic for SMILES=[H]c1c(C#N)c(I)nn1C(=O)OC([H])([H])C([H])([H])[H] to hexane_groupby/[H]c1c(C#N)c(I)nn1C(=O)OC([H])([H])C([H])([H])[H].pickle\n",
      "Saved mol_dic for SMILES=[H]c1c(C(=O)OC([H])([H])C([H])([H])[H])c(OC([H])([H])[H])c2c(I)n([H])nc2c1[H] to hexane_groupby/[H]c1c(C(=O)OC([H])([H])C([H])([H])[H])c(OC([H])([H])[H])c2c(I)n([H])nc2c1[H].pickle\n",
      "Saved mol_dic for SMILES=[H]c1c(C(=O)OC([H])([H])[H])c([H])c2nn([H])c(I)c2c1N([H])[H] to hexane_groupby/[H]c1c(C(=O)OC([H])([H])[H])c([H])c2nn([H])c(I)c2c1N([H])[H].pickle\n",
      "Saved mol_dic for SMILES=[H]c1c(C([H])(C([H])([H])[H])C([H])([H])[H])c([H])c(C([H])(C([H])([H])[H])C([H])([H])[H])c([Si](Cl)(Cl)C(C([H])([H])[H])(C([H])([H])[H])C([H])([H])[H])c1C([H])(C([H])([H])[H])C([H])([H])[H] to hexane_groupby/[H]c1c(C([H])(C([H])([H])[H])C([H])([H])[H])c([H])c(C([H])(C([H])([H])[H])C([H])([H])[H])c([Si](Cl)(Cl)C(C([H])([H])[H])(C([H])([H])[H])C([H]_28e4a2a8.pickle\n"
     ]
    },
    {
     "name": "stderr",
     "output_type": "stream",
     "text": [
      " 60%|█████▉    | 629/1054 [00:05<00:03, 127.49it/s]"
     ]
    },
    {
     "name": "stdout",
     "output_type": "stream",
     "text": [
      "Saved mol_dic for SMILES=[H]c1c(C([H])([H])C([H])([H])C([H])([H])C([H])([H])C([H])([H])C([H])([H])C([H])([H])C([H])([H])[Si](Cl)(Cl)Cl)c([H])n([H])c1[H] to hexane_groupby/[H]c1c(C([H])([H])C([H])([H])C([H])([H])C([H])([H])C([H])([H])C([H])([H])C([H])([H])C([H])([H])[Si](Cl)(Cl)Cl)c([H])n([H])c1[H].pickle\n",
      "Saved mol_dic for SMILES=[H]c1c(C([H])([H])[H])c([H])c2c(c([H])c([H])n2[H])c1I to hexane_groupby/[H]c1c(C([H])([H])[H])c([H])c2c(c([H])c([H])n2[H])c1I.pickle\n",
      "Saved mol_dic for SMILES=[H]c1c(C([H])([H])[H])c([H])c2c(c([H])nn2[H])c1I to hexane_groupby/[H]c1c(C([H])([H])[H])c([H])c2c(c([H])nn2[H])c1I.pickle\n",
      "Saved mol_dic for SMILES=[H]c1c(C([H])([H])[H])c([H])c2nn([H])c(I)c2c1C([H])([H])[H] to hexane_groupby/[H]c1c(C([H])([H])[H])c([H])c2nn([H])c(I)c2c1C([H])([H])[H].pickle\n",
      "Saved mol_dic for SMILES=[H]c1c(C([H])([H])[H])nc2c(OC([H])([H])C#N)c(I)c([H])c(I)c2c1[H] to hexane_groupby/[H]c1c(C([H])([H])[H])nc2c(OC([H])([H])C#N)c(I)c([H])c(I)c2c1[H].pickle\n",
      "Saved mol_dic for SMILES=[H]c1c(C([H])([H])[H])nn([C@]2([H])OC([H])([H])C([H])([H])C([H])([H])C2([H])[H])c1I to hexane_groupby/[H]c1c(C([H])([H])[H])nn([C@]2([H])OC([H])([H])C([H])([H])C([H])([H])C2([H])[H])c1I.pickle\n",
      "Saved mol_dic for SMILES=[H]c1c(C([H])([H])[H])sc(C#N)c1OP(=O)(OC([H])([H])[H])OC([H])([H])[H] to hexane_groupby/[H]c1c(C([H])([H])[H])sc(C#N)c1OP(=O)(OC([H])([H])[H])OC([H])([H])[H].pickle\n",
      "Saved mol_dic for SMILES=[H]c1c(Cl)c(Cl)c([H])c(OP(=O)(OC([H])([H])[H])OC([H])([H])[H])c1Cl to hexane_groupby/[H]c1c(Cl)c(Cl)c([H])c(OP(=O)(OC([H])([H])[H])OC([H])([H])[H])c1Cl.pickle\n",
      "Saved mol_dic for SMILES=[H]c1c(Cl)c(Cl)c([H])c(O[P]([S])(N2C([H])([H])C([H])([H])C([H])([H])C([H])([H])C2([H])[H])N2C([H])([H])C([H])([H])C([H])([H])C([H])([H])C2([H])[H])c1Cl to hexane_groupby/[H]c1c(Cl)c(Cl)c([H])c(O[P]([S])(N2C([H])([H])C([H])([H])C([H])([H])C([H])([H])C2([H])[H])N2C([H])([H])C([H])([H])C([H])([H])C([H])([H])C2([H_0d269b73.pickle\n",
      "Saved mol_dic for SMILES=[H]c1c(Cl)c(I)c([H])c(N([H])[H])c1Cl to hexane_groupby/[H]c1c(Cl)c(I)c([H])c(N([H])[H])c1Cl.pickle\n",
      "Saved mol_dic for SMILES=[H]c1c(Cl)c(N([H])[C]2[N]C([H])([H])C([H])([H])N2[H])c(Cl)c([H])c1I to hexane_groupby/[H]c1c(Cl)c(N([H])[C]2[N]C([H])([H])C([H])([H])N2[H])c(Cl)c([H])c1I.pickle\n",
      "Saved mol_dic for SMILES=[H]c1c(Cl)c(N([H])[H])c(Cl)c([H])c1I to hexane_groupby/[H]c1c(Cl)c(N([H])[H])c(Cl)c([H])c1I.pickle\n",
      "Saved mol_dic for SMILES=[H]c1c(Cl)c(N([H])[H])c(Cl)c([H])c1[C@@]([H])(O[Si](C([H])([H])[H])(C([H])([H])[H])[C@]([H])(C([H])([H])[H])C([H])(C([H])([H])[H])C([H])([H])[H])C([H])([H])N([H])C(C([H])([H])[H])(C([H])([H])[H])C([H])([H])[H] to hexane_groupby/[H]c1c(Cl)c(N([H])[H])c(Cl)c([H])c1[C@@]([H])(O[Si](C([H])([H])[H])(C([H])([H])[H])[C@]([H])(C([H])([H])[H])C([H])(C([H])([H])[H])C([H])([H])_94b87614.pickle\n",
      "Saved mol_dic for SMILES=[H]c1c(Cl)c(N([H])[H])c([H])c(C([H])([H])[H])c1I to hexane_groupby/[H]c1c(Cl)c(N([H])[H])c([H])c(C([H])([H])[H])c1I.pickle\n",
      "Saved mol_dic for SMILES=[H]c1c(Cl)c(OC([H])([H])[H])c([H])c(-n2c(C([H])([H])[H])nc3c([H])c([H])c(I)c([H])c3c2=O)c1OC([H])([H])[H] to hexane_groupby/[H]c1c(Cl)c(OC([H])([H])[H])c([H])c(-n2c(C([H])([H])[H])nc3c([H])c([H])c(I)c([H])c3c2=O)c1OC([H])([H])[H].pickle\n",
      "Saved mol_dic for SMILES=[H]c1c(Cl)c([H])c(Cl)c(I)c1Cl to hexane_groupby/[H]c1c(Cl)c([H])c(Cl)c(I)c1Cl.pickle\n",
      "Saved mol_dic for SMILES=[H]c1c(Cl)c([H])c(I)c(Cl)c1Cl to hexane_groupby/[H]c1c(Cl)c([H])c(I)c(Cl)c1Cl.pickle\n",
      "Saved mol_dic for SMILES=[H]c1c(Cl)c([H])c(N([H])C(=O)c2c([H])c(I)c([H])c([H])c2Cl)c([H])c1Cl to hexane_groupby/[H]c1c(Cl)c([H])c(N([H])C(=O)c2c([H])c(I)c([H])c([H])c2Cl)c([H])c1Cl.pickle\n",
      "Saved mol_dic for SMILES=[H]c1c(Cl)c([H])c2c3c([H])c(I)c([H])c([H])c3n([H])c2c1[H] to hexane_groupby/[H]c1c(Cl)c([H])c2c3c([H])c(I)c([H])c([H])c3n([H])c2c1[H].pickle\n",
      "Saved mol_dic for SMILES=[H]c1c(Cl)c([H])c2nc(OC([H])([H])C#CI)sc2c1[H] to hexane_groupby/[H]c1c(Cl)c([H])c2nc(OC([H])([H])C#CI)sc2c1[H].pickle\n",
      "Saved mol_dic for SMILES=[H]c1c(Cl)c([H])c2nn([H])c(I)c2c1N([H])[H] to hexane_groupby/[H]c1c(Cl)c([H])c2nn([H])c(I)c2c1N([H])[H].pickle\n",
      "Saved mol_dic for SMILES=[H]c1c(Cl)nc(I)c(Br)c1[H] to hexane_groupby/[H]c1c(Cl)nc(I)c(Br)c1[H].pickle\n",
      "Saved mol_dic for SMILES=[H]c1c(F)c(F)c(F)c(I)c1F to hexane_groupby/[H]c1c(F)c(F)c(F)c(I)c1F.pickle\n",
      "Saved mol_dic for SMILES=[H]c1c(F)c(F)c(F)c([H])c1I to hexane_groupby/[H]c1c(F)c(F)c(F)c([H])c1I.pickle\n",
      "Saved mol_dic for SMILES=[H]c1c(F)c(I)c([H])c(Cl)c1Br to hexane_groupby/[H]c1c(F)c(I)c([H])c(Cl)c1Br.pickle\n",
      "Saved mol_dic for SMILES=[H]c1c(F)c(N([H])[H])c([N+](=O)[O-])c([H])c1I to hexane_groupby/[H]c1c(F)c(N([H])[H])c([N+](=O)[O-])c([H])c1I.pickle\n",
      "Saved mol_dic for SMILES=[H]c1c(F)c([H])c(C#N)c([H])c1I to hexane_groupby/[H]c1c(F)c([H])c(C#N)c([H])c1I.pickle\n",
      "Saved mol_dic for SMILES=[H]c1c(F)c([H])c(C([H])(OC([H])([H])[H])OC([H])([H])[H])c([H])c1I to hexane_groupby/[H]c1c(F)c([H])c(C([H])(OC([H])([H])[H])OC([H])([H])[H])c([H])c1I.pickle\n",
      "Saved mol_dic for SMILES=[H]c1c(F)c([Si](C([H])([H])C([H])([H])[H])(C([H])([H])C([H])([H])[H])C([H])([H])C([H])([H])[H])c(F)c(Br)c1I to hexane_groupby/[H]c1c(F)c([Si](C([H])([H])C([H])([H])[H])(C([H])([H])C([H])([H])[H])C([H])([H])C([H])([H])[H])c(F)c(Br)c1I.pickle\n",
      "Saved mol_dic for SMILES=[H]c1c(F)nc(C(F)(F)F)c([H])c1I to hexane_groupby/[H]c1c(F)nc(C(F)(F)F)c([H])c1I.pickle\n",
      "Saved mol_dic for SMILES=[H]c1c(F)nc(F)c(I)c1[H] to hexane_groupby/[H]c1c(F)nc(F)c(I)c1[H].pickle\n",
      "Saved mol_dic for SMILES=[H]c1c(I)c(=O)oc(=O)n1[H] to hexane_groupby/[H]c1c(I)c(=O)oc(=O)n1[H].pickle\n",
      "Saved mol_dic for SMILES=[H]c1c(I)c(=S)c(I)c([H])n1[H] to hexane_groupby/[H]c1c(I)c(=S)c(I)c([H])n1[H].pickle\n",
      "Saved mol_dic for SMILES=[H]c1c(I)c(C(=O)C([H])([H])Br)c([H])c2c1OC([H])([H])O2 to hexane_groupby/[H]c1c(I)c(C(=O)C([H])([H])Br)c([H])c2c1OC([H])([H])O2.pickle\n",
      "Saved mol_dic for SMILES=[H]c1c(I)c(C(=O)OC([H])([H])[H])c([H])c2c1OC([H])([H])O2 to hexane_groupby/[H]c1c(I)c(C(=O)OC([H])([H])[H])c([H])c2c1OC([H])([H])O2.pickle\n",
      "Saved mol_dic for SMILES=[H]c1c(I)c(C(F)(F)F)c([H])c(OC([H])([H])[H])c1C(=O)OC([H])([H])[H] to hexane_groupby/[H]c1c(I)c(C(F)(F)F)c([H])c(OC([H])([H])[H])c1C(=O)OC([H])([H])[H].pickle\n",
      "Saved mol_dic for SMILES=[H]c1c(I)c(C([H])([H])C([H])([H])[H])c([H])c(I)c1C([H])([H])C([H])([H])[H] to hexane_groupby/[H]c1c(I)c(C([H])([H])C([H])([H])[H])c([H])c(I)c1C([H])([H])C([H])([H])[H].pickle\n",
      "Saved mol_dic for SMILES=[H]c1c(I)c(C([H])([H])[H])c([H])c(C([H])([H])[C@]([H])(N([H])[H])C([H])([H])[H])c1C([H])([H])[H] to hexane_groupby/[H]c1c(I)c(C([H])([H])[H])c([H])c(C([H])([H])[C@]([H])(N([H])[H])C([H])([H])[H])c1C([H])([H])[H].pickle\n",
      "Saved mol_dic for SMILES=[H]c1c(I)c(I)c([H])c(C([H])([H])[H])c1C([H])([H])[H] to hexane_groupby/[H]c1c(I)c(I)c([H])c(C([H])([H])[H])c1C([H])([H])[H].pickle\n",
      "Saved mol_dic for SMILES=[H]c1c(I)c(I)c([H])c([N+](=O)[O-])c1OC([H])([H])C([H])(C([H])([H])[H])C([H])([H])[H] to hexane_groupby/[H]c1c(I)c(I)c([H])c([N+](=O)[O-])c1OC([H])([H])C([H])(C([H])([H])[H])C([H])([H])[H].pickle\n",
      "Saved mol_dic for SMILES=[H]c1c(I)c(I)c([H])c2c1OC([H])([H])O2 to hexane_groupby/[H]c1c(I)c(I)c([H])c2c1OC([H])([H])O2.pickle\n",
      "Saved mol_dic for SMILES=[H]c1c(I)c(N([H])S(=O)(=O)C([H])([H])[H])c([H])c(C(F)(F)F)c1[N+](=O)[O-] to hexane_groupby/[H]c1c(I)c(N([H])S(=O)(=O)C([H])([H])[H])c([H])c(C(F)(F)F)c1[N+](=O)[O-].pickle\n",
      "Saved mol_dic for SMILES=[H]c1c(I)c(N([H])[H])c(I)c(C([H])([H])Cl)c1I to hexane_groupby/[H]c1c(I)c(N([H])[H])c(I)c(C([H])([H])Cl)c1I.pickle\n",
      "Saved mol_dic for SMILES=[H]c1c(I)c(N([H])[H])c(I)c(C([H])([H])[H])c1[N+](=O)[O-] to hexane_groupby/[H]c1c(I)c(N([H])[H])c(I)c(C([H])([H])[H])c1[N+](=O)[O-].pickle\n",
      "Saved mol_dic for SMILES=[H]c1c(I)c(N([H])[H])c([H])c(C(F)(F)F)c1C#N to hexane_groupby/[H]c1c(I)c(N([H])[H])c([H])c(C(F)(F)F)c1C#N.pickle\n",
      "Saved mol_dic for SMILES=[H]c1c(I)c(N([H])[H])c([H])c2c1OC([H])([H])O2 to hexane_groupby/[H]c1c(I)c(N([H])[H])c([H])c2c1OC([H])([H])O2.pickle\n",
      "Saved mol_dic for SMILES=[H]c1c(I)c(OC([H])([H])C([H])([H])C([H])([H])C([H])([H])[H])c(I)c([H])c1C(=O)N([H])N([H])[H] to hexane_groupby/[H]c1c(I)c(OC([H])([H])C([H])([H])C([H])([H])C([H])([H])[H])c(I)c([H])c1C(=O)N([H])N([H])[H].pickle\n",
      "Saved mol_dic for SMILES=[H]c1c(I)c(OC([H])([H])[H])c(I)c([H])c1C(=O)OC([H])([H])[H] to hexane_groupby/[H]c1c(I)c(OC([H])([H])[H])c(I)c([H])c1C(=O)OC([H])([H])[H].pickle\n",
      "Saved mol_dic for SMILES=[H]c1c(I)c(OC([H])([H])[H])c2c(OC([H])([H])[H])c([H])c(OC([H])([H])[H])c(I)c2c1[H] to hexane_groupby/[H]c1c(I)c(OC([H])([H])[H])c2c(OC([H])([H])[H])c([H])c(OC([H])([H])[H])c(I)c2c1[H].pickle\n",
      "Saved mol_dic for SMILES=[H]c1c(I)c([H])c(C([H])([H])Br)c(N(C(=O)C([H])([H])[H])C(=O)C([H])([H])[H])c1I to hexane_groupby/[H]c1c(I)c([H])c(C([H])([H])Br)c(N(C(=O)C([H])([H])[H])C(=O)C([H])([H])[H])c1I.pickle\n",
      "Saved mol_dic for SMILES=[H]c1c(I)c([H])c(C([H])([H])[H])c(N([H])[H])c1C(=O)C([H])([H])[H] to hexane_groupby/[H]c1c(I)c([H])c(C([H])([H])[H])c(N([H])[H])c1C(=O)C([H])([H])[H].pickle\n",
      "Saved mol_dic for SMILES=[H]c1c(I)c([H])c(I)c(C([H])([H])[H])c1I to hexane_groupby/[H]c1c(I)c([H])c(I)c(C([H])([H])[H])c1I.pickle\n",
      "Saved mol_dic for SMILES=[H]c1c(I)c([H])c(I)c(N([H])[H])c1I to hexane_groupby/[H]c1c(I)c([H])c(I)c(N([H])[H])c1I.pickle\n",
      "Saved mol_dic for SMILES=[H]c1c(I)c([H])c(N([H])S(=O)(=O)C([H])([H])[H])c([H])c1C(=O)OC([H])([H])[H] to hexane_groupby/[H]c1c(I)c([H])c(N([H])S(=O)(=O)C([H])([H])[H])c([H])c1C(=O)OC([H])([H])[H].pickle\n",
      "Saved mol_dic for SMILES=[H]c1c(I)c([H])c([H])c([C@]23OC([H])([H])[C@](C(C([H])([H])[H])(C([H])([H])[H])C([H])([H])[H])(C([H])([H])O2)C([H])([H])O3)c1[H] to hexane_groupby/[H]c1c(I)c([H])c([H])c([C@]23OC([H])([H])[C@](C(C([H])([H])[H])(C([H])([H])[H])C([H])([H])[H])(C([H])([H])O2)C([H])([H])O3)c1[H].pickle\n",
      "Saved mol_dic for SMILES=[H]c1c(I)c([H])c([H])c([C@]23OC([H])([H])[C@](C([H])([H])C([H])([H])C([H])([H])C([H])([H])[H])(C([H])([H])O2)C([H])([H])O3)c1[H] to hexane_groupby/[H]c1c(I)c([H])c([H])c([C@]23OC([H])([H])[C@](C([H])([H])C([H])([H])C([H])([H])C([H])([H])[H])(C([H])([H])O2)C([H])([H])O3)c1[H].pickle\n",
      "Saved mol_dic for SMILES=[H]c1c(I)c([H])c([N+](=O)[O-])c([H])c1N([H])[H] to hexane_groupby/[H]c1c(I)c([H])c([N+](=O)[O-])c([H])c1N([H])[H].pickle\n",
      "Saved mol_dic for SMILES=[H]c1c(I)c([H])c2c(=O)n(C([H])([H])C([H])([H])C([H])([H])[H])c(OC([H])([H])C([H])([H])C([H])([H])[H])nc2c1[H] to hexane_groupby/[H]c1c(I)c([H])c2c(=O)n(C([H])([H])C([H])([H])C([H])([H])[H])c(OC([H])([H])C([H])([H])C([H])([H])[H])nc2c1[H].pickle\n",
      "Saved mol_dic for SMILES=[H]c1c(I)c([H])c2c(C(=O)OC([H])([H])C([H])([H])[H])nn([H])c2c1[H] to hexane_groupby/[H]c1c(I)c([H])c2c(C(=O)OC([H])([H])C([H])([H])[H])nn([H])c2c1[H].pickle\n",
      "Saved mol_dic for SMILES=[H]c1c(I)c([H])c2c([H])c([H])n(C(=O)OC(C([H])([H])[H])(C([H])([H])[H])C([H])([H])[H])c2c1[H] to hexane_groupby/[H]c1c(I)c([H])c2c([H])c([H])n(C(=O)OC(C([H])([H])[H])(C([H])([H])[H])C([H])([H])[H])c2c1[H].pickle\n",
      "Saved mol_dic for SMILES=[H]c1c(I)c([H])c2c([H])n(C([H])([H])[H])nc2c1[H] to hexane_groupby/[H]c1c(I)c([H])c2c([H])n(C([H])([H])[H])nc2c1[H].pickle\n",
      "Saved mol_dic for SMILES=[H]c1c(I)c([H])c2nc([H])n(C(=O)OC(C([H])([H])[H])(C([H])([H])[H])C([H])([H])[H])c2c1[H] to hexane_groupby/[H]c1c(I)c([H])c2nc([H])n(C(=O)OC(C([H])([H])[H])(C([H])([H])[H])C([H])([H])[H])c2c1[H].pickle\n",
      "Saved mol_dic for SMILES=[H]c1c(I)c([H])c2nn([H])nc2c1[H] to hexane_groupby/[H]c1c(I)c([H])c2nn([H])nc2c1[H].pickle\n",
      "Saved mol_dic for SMILES=[H]c1c(I)c([H])c2nonc2c1[H] to hexane_groupby/[H]c1c(I)c([H])c2nonc2c1[H].pickle\n",
      "Saved mol_dic for SMILES=[H]c1c(I)c([H])n([H])c(=S)c1[H] to hexane_groupby/[H]c1c(I)c([H])n([H])c(=S)c1[H].pickle\n",
      "Saved mol_dic for SMILES=[H]c1c(I)c([H])n([H])c1C(=O)C(Cl)(Cl)Cl to hexane_groupby/[H]c1c(I)c([H])n([H])c1C(=O)C(Cl)(Cl)Cl.pickle\n",
      "Saved mol_dic for SMILES=[H]c1c(I)c([H])n2c([H])c(C(=O)OC([H])([H])C([H])([H])[H])nc2c1[H] to hexane_groupby/[H]c1c(I)c([H])n2c([H])c(C(=O)OC([H])([H])C([H])([H])[H])nc2c1[H].pickle\n",
      "Saved mol_dic for SMILES=[H]c1c(I)nc(Br)c(OC([H])([H])[H])c1[H] to hexane_groupby/[H]c1c(I)nc(Br)c(OC([H])([H])[H])c1[H].pickle\n",
      "Saved mol_dic for SMILES=[H]c1c(I)nc(Cl)c2c1c([H])c([H])n2[Si](C([H])(C([H])([H])[H])C([H])([H])[H])(C([H])(C([H])([H])[H])C([H])([H])[H])C([H])(C([H])([H])[H])C([H])([H])[H] to hexane_groupby/[H]c1c(I)nc(Cl)c2c1c([H])c([H])n2[Si](C([H])(C([H])([H])[H])C([H])([H])[H])(C([H])(C([H])([H])[H])C([H])([H])[H])C([H])(C([H])([H])[H])C([H])([H])[H].pickle\n",
      "Saved mol_dic for SMILES=[H]c1c(I)nn([H])c1C(C([H])([H])[H])(C([H])([H])[H])C([H])([H])[H] to hexane_groupby/[H]c1c(I)nn([H])c1C(C([H])([H])[H])(C([H])([H])[H])C([H])([H])[H].pickle\n",
      "Saved mol_dic for SMILES=[H]c1c(I)nn([H])c1C([H])([H])[H] to hexane_groupby/[H]c1c(I)nn([H])c1C([H])([H])[H].pickle\n",
      "Saved mol_dic for SMILES=[H]c1c(I)nn2c([H])c(N([H])C(=O)OC([H])([H])C([H])([H])[H])nc2c1[H] to hexane_groupby/[H]c1c(I)nn2c([H])c(N([H])C(=O)OC([H])([H])C([H])([H])[H])nc2c1[H].pickle\n",
      "Saved mol_dic for SMILES=[H]c1c(I)sc(C(=O)OC([H])([H])[H])c1N(C(=O)OC(C([H])([H])[H])(C([H])([H])[H])C([H])([H])[H])C(=O)OC(C([H])([H])[H])(C([H])([H])[H])C([H])([H])[H] to hexane_groupby/[H]c1c(I)sc(C(=O)OC([H])([H])[H])c1N(C(=O)OC(C([H])([H])[H])(C([H])([H])[H])C([H])([H])[H])C(=O)OC(C([H])([H])[H])(C([H])([H])[H])C([H])([H])[H].pickle\n",
      "Saved mol_dic for SMILES=[H]c1c(I)sc(C([H])([H])[H])c1C1=C(c2c(C([H])([H])[H])sc(I)c2[H])C([H])([H])SC1([H])[H] to hexane_groupby/[H]c1c(I)sc(C([H])([H])[H])c1C1=C(c2c(C([H])([H])[H])sc(I)c2[H])C([H])([H])SC1([H])[H].pickle\n",
      "Saved mol_dic for SMILES=[H]c1c(I)sc(C2=C(Cl)C(=O)c3c([H])c([H])c([H])c([H])c3C2=O)c1[H] to hexane_groupby/[H]c1c(I)sc(C2=C(Cl)C(=O)c3c([H])c([H])c([H])c([H])c3C2=O)c1[H].pickle\n",
      "Saved mol_dic for SMILES=[H]c1c(N([H])[H])c([H])c2c(c([H])nn2[H])c1I to hexane_groupby/[H]c1c(N([H])[H])c([H])c2c(c([H])nn2[H])c1I.pickle\n",
      "Saved mol_dic for SMILES=[H]c1c(N([H])[H])nc(C([H])([H])[H])c(I)c1C([H])([H])[H] to hexane_groupby/[H]c1c(N([H])[H])nc(C([H])([H])[H])c(I)c1C([H])([H])[H].pickle\n",
      "Saved mol_dic for SMILES=[H]c1c(N([H])[H])nc2c(c([H])c([H])n2[H])c1I to hexane_groupby/[H]c1c(N([H])[H])nc2c(c([H])c([H])n2[H])c1I.pickle\n",
      "Saved mol_dic for SMILES=[H]c1c(OC([H])([H])[H])c(I)c(OC([H])([H])[H])c(C(=O)OC([H])([H])[H])c1C([H])([H])[H] to hexane_groupby/[H]c1c(OC([H])([H])[H])c(I)c(OC([H])([H])[H])c(C(=O)OC([H])([H])[H])c1C([H])([H])[H].pickle\n",
      "Saved mol_dic for SMILES=[H]c1c(OC([H])([H])[H])c([H])c2nn(C([H])([H])[H])c(I)c2c1[H] to hexane_groupby/[H]c1c(OC([H])([H])[H])c([H])c2nn(C([H])([H])[H])c(I)c2c1[H].pickle\n",
      "Saved mol_dic for SMILES=[H]c1c(OC([H])([H])[H])c([H])c2nn([H])c(I)c2c1Cl to hexane_groupby/[H]c1c(OC([H])([H])[H])c([H])c2nn([H])c(I)c2c1Cl.pickle\n",
      "Saved mol_dic for SMILES=[H]c1c(OC([H])([H])[H])sc(C#N)c1OP(=O)(OC([H])([H])[H])OC([H])([H])[H] to hexane_groupby/[H]c1c(OC([H])([H])[H])sc(C#N)c1OP(=O)(OC([H])([H])[H])OC([H])([H])[H].pickle\n",
      "Saved mol_dic for SMILES=[H]c1c([H])c(-c2c([H])c3c([H])c(OC([H])([H])[H])c([H])c([H])c3oc2=O)c([H])c([H])c1I to hexane_groupby/[H]c1c([H])c(-c2c([H])c3c([H])c(OC([H])([H])[H])c([H])c([H])c3oc2=O)c([H])c([H])c1I.pickle\n",
      "Saved mol_dic for SMILES=[H]c1c([H])c(-c2nc3c(C(F)(F)F)c([H])c([H])c([H])n3c2[H])c([H])c([H])c1I to hexane_groupby/[H]c1c([H])c(-c2nc3c(C(F)(F)F)c([H])c([H])c([H])n3c2[H])c([H])c([H])c1I.pickle\n",
      "Saved mol_dic for SMILES=[H]c1c([H])c(-c2nc3c(C([H])([H])[H])c([H])c([H])c([H])n3c2[H])c([H])c([H])c1I to hexane_groupby/[H]c1c([H])c(-c2nc3c(C([H])([H])[H])c([H])c([H])c([H])n3c2[H])c([H])c([H])c1I.pickle\n",
      "Saved mol_dic for SMILES=[H]c1c([H])c(-c2nc3snc(C([H])([H])[H])n3c2[H])c([H])c([H])c1I to hexane_groupby/[H]c1c([H])c(-c2nc3snc(C([H])([H])[H])n3c2[H])c([H])c([H])c1I.pickle\n",
      "Saved mol_dic for SMILES=[H]c1c([H])c(-n2c(N([H])[H])c([H])c(=O)n([H])c2=S)c([H])c([H])c1I to hexane_groupby/[H]c1c([H])c(-n2c(N([H])[H])c([H])c(=O)n([H])c2=S)c([H])c([H])c1I.pickle\n",
      "Saved mol_dic for SMILES=[H]c1c([H])c(B(Br)Br)c([H])c([H])c1B(Br)Br to hexane_groupby/[H]c1c([H])c(B(Br)Br)c([H])c([H])c1B(Br)Br.pickle\n",
      "Saved mol_dic for SMILES=[H]c1c([H])c(B2OC(C([H])([H])[H])(C([H])([H])[H])C(C([H])([H])[H])(C([H])([H])[H])O2)c([H])c([H])c1SC(F)(F)F to hexane_groupby/[H]c1c([H])c(B2OC(C([H])([H])[H])(C([H])([H])[H])C(C([H])([H])[H])(C([H])([H])[H])O2)c([H])c([H])c1SC(F)(F)F.pickle\n",
      "Saved mol_dic for SMILES=[H]c1c([H])c(Br)c(I)c(OC(=O)N(C([H])([H])C([H])([H])[H])C([H])([H])C([H])([H])[H])c1[H] to hexane_groupby/[H]c1c([H])c(Br)c(I)c(OC(=O)N(C([H])([H])C([H])([H])[H])C([H])([H])C([H])([H])[H])c1[H].pickle\n",
      "Saved mol_dic for SMILES=[H]c1c([H])c(Br)c(I)c(OC([H])([H])C([H])([H])[H])c1[H] to hexane_groupby/[H]c1c([H])c(Br)c(I)c(OC([H])([H])C([H])([H])[H])c1[H].pickle\n",
      "Saved mol_dic for SMILES=[H]c1c([H])c(Br)c([H])c(C#Cc2c([H])c([H])c(I)c([H])c2[H])c1[H] to hexane_groupby/[H]c1c([H])c(Br)c([H])c(C#Cc2c([H])c([H])c(I)c([H])c2[H])c1[H].pickle\n",
      "Saved mol_dic for SMILES=[H]c1c([H])c(Br)c([H])c(C#Cc2c([H])c([H])c([H])c(I)c2[H])c1[H] to hexane_groupby/[H]c1c([H])c(Br)c([H])c(C#Cc2c([H])c([H])c([H])c(I)c2[H])c1[H].pickle\n",
      "Saved mol_dic for SMILES=[H]c1c([H])c(Br)c2c(I)n([H])nc2c1[H] to hexane_groupby/[H]c1c([H])c(Br)c2c(I)n([H])nc2c1[H].pickle\n",
      "Saved mol_dic for SMILES=[H]c1c([H])c(C#N)c([H])c(I)c1Br to hexane_groupby/[H]c1c([H])c(C#N)c([H])c(I)c1Br.pickle\n",
      "Saved mol_dic for SMILES=[H]c1c([H])c(C(=O)C([H])([H])C([H])([H])C([H])([H])C([H])([H])C#N)c([H])c([H])c1I to hexane_groupby/[H]c1c([H])c(C(=O)C([H])([H])C([H])([H])C([H])([H])C([H])([H])C#N)c([H])c([H])c1I.pickle\n",
      "Saved mol_dic for SMILES=[H]c1c([H])c(C(=O)C([H])([H])C([H])([H])C([H])([H])C([H])([H])C([H])([H])[H])c([H])c([H])c1I to hexane_groupby/[H]c1c([H])c(C(=O)C([H])([H])C([H])([H])C([H])([H])C([H])([H])C([H])([H])[H])c([H])c([H])c1I.pickle\n",
      "Saved mol_dic for SMILES=[H]c1c([H])c(C(=O)C([H])([H])[H])c([H])c([H])c1I to hexane_groupby/[H]c1c([H])c(C(=O)C([H])([H])[H])c([H])c([H])c1I.pickle\n",
      "Saved mol_dic for SMILES=[H]c1c([H])c(C(=O)N(C([H])([H])C([H])([H])[H])C([H])([H])C([H])([H])[H])c([H])c([H])c1I to hexane_groupby/[H]c1c([H])c(C(=O)N(C([H])([H])C([H])([H])[H])C([H])([H])C([H])([H])[H])c([H])c([H])c1I.pickle\n",
      "Saved mol_dic for SMILES=[H]c1c([H])c(C(=O)OC([H])([H])C([H])([H])[H])c(Cl)c([H])c1I to hexane_groupby/[H]c1c([H])c(C(=O)OC([H])([H])C([H])([H])[H])c(Cl)c([H])c1I.pickle\n",
      "Saved mol_dic for SMILES=[H]c1c([H])c(C(=O)OC([H])([H])C([H])([H])[H])c([H])c(C(=O)c2c([H])c([H])c(I)c([H])c2[H])c1[H] to hexane_groupby/[H]c1c([H])c(C(=O)OC([H])([H])C([H])([H])[H])c([H])c(C(=O)c2c([H])c([H])c(I)c([H])c2[H])c1[H].pickle\n",
      "Saved mol_dic for SMILES=[H]c1c([H])c(C(=O)OC([H])([H])C([H])([H])[H])c([H])c(I)c1OC([H])(F)F to hexane_groupby/[H]c1c([H])c(C(=O)OC([H])([H])C([H])([H])[H])c([H])c(I)c1OC([H])(F)F.pickle\n",
      "Saved mol_dic for SMILES=[H]c1c([H])c(C(=O)OC([H])([H])[H])c(I)c(C([H])([H])Br)c1[H] to hexane_groupby/[H]c1c([H])c(C(=O)OC([H])([H])[H])c(I)c(C([H])([H])Br)c1[H].pickle\n",
      "Saved mol_dic for SMILES=[H]c1c([H])c(C(=O)OC([H])([H])[H])c([H])c(I)c1OC([H])([H])C([H])([H])[H] to hexane_groupby/[H]c1c([H])c(C(=O)OC([H])([H])[H])c([H])c(I)c1OC([H])([H])C([H])([H])[H].pickle\n",
      "Saved mol_dic for SMILES=[H]c1c([H])c(C(=O)OC([H])([H])[H])c([H])c(OC([H])([H])[H])c1I to hexane_groupby/[H]c1c([H])c(C(=O)OC([H])([H])[H])c([H])c(OC([H])([H])[H])c1I.pickle\n",
      "Saved mol_dic for SMILES=[H]c1c([H])c(C(=O)O[C@@]2([H])C([H])([H])[C@@]3([H])N(C([H])([H])[H])[C@]([H])(C([H])([H])C3([H])[H])[C@@]2([H])C(=O)OC([H])([H])[H])c([H])c([H])c1I to hexane_groupby/[H]c1c([H])c(C(=O)O[C@@]2([H])C([H])([H])[C@@]3([H])N(C([H])([H])[H])[C@]([H])(C([H])([H])C3([H])[H])[C@@]2([H])C(=O)OC([H])([H])[H])c([H])c([H])c1I.pickle\n",
      "Saved mol_dic for SMILES=[H]c1c([H])c(C(C([H])([H])[H])(C([H])([H])[H])C([H])([H])C([H])([H])[H])c([H])c(Cl)c1OC([H])([H])C([H])([H])C([H])([H])I to hexane_groupby/[H]c1c([H])c(C(C([H])([H])[H])(C([H])([H])[H])C([H])([H])C([H])([H])[H])c([H])c(Cl)c1OC([H])([H])C([H])([H])C([H])([H])I.pickle\n",
      "Saved mol_dic for SMILES=[H]c1c([H])c(C(F)(F)F)c(I)c([H])c1C(F)(F)F to hexane_groupby/[H]c1c([H])c(C(F)(F)F)c(I)c([H])c1C(F)(F)F.pickle\n",
      "Saved mol_dic for SMILES=[H]c1c([H])c(C(F)(F)F)c([H])c(C([H])([H])[H])c1I to hexane_groupby/[H]c1c([H])c(C(F)(F)F)c([H])c(C([H])([H])[H])c1I.pickle\n",
      "Saved mol_dic for SMILES=[H]c1c([H])c(C(F)(F)F)c([H])c(S(=O)(=O)C(C([H])([H])[H])(C([H])([H])[H])C([H])([H])[H])c1I to hexane_groupby/[H]c1c([H])c(C(F)(F)F)c([H])c(S(=O)(=O)C(C([H])([H])[H])(C([H])([H])[H])C([H])([H])[H])c1I.pickle\n",
      "Saved mol_dic for SMILES=[H]c1c([H])c(C(OC([H])([H])[H])(OC([H])([H])[H])C([H])([H])C#CI)c([H])c([H])c1Cl to hexane_groupby/[H]c1c([H])c(C(OC([H])([H])[H])(OC([H])([H])[H])C([H])([H])C#CI)c([H])c([H])c1Cl.pickle\n",
      "Saved mol_dic for SMILES=[H]c1c([H])c(C([H])([H])Br)c(I)c([H])c1C([H])([H])Br to hexane_groupby/[H]c1c([H])c(C([H])([H])Br)c(I)c([H])c1C([H])([H])Br.pickle\n",
      "Saved mol_dic for SMILES=[H]c1c([H])c(C([H])([H])C#N)c([H])c([H])c1I to hexane_groupby/[H]c1c([H])c(C([H])([H])C#N)c([H])c([H])c1I.pickle\n",
      "Saved mol_dic for SMILES=[H]c1c([H])c(C([H])([H])C(=O)C([H])([H])[H])c([H])c(I)c1OC([H])([H])[H] to hexane_groupby/[H]c1c([H])c(C([H])([H])C(=O)C([H])([H])[H])c([H])c(I)c1OC([H])([H])[H].pickle\n",
      "Saved mol_dic for SMILES=[H]c1c([H])c(C([H])([H])C(=O)OC([H])([H])[H])c([H])c(I)c1N([H])[H] to hexane_groupby/[H]c1c([H])c(C([H])([H])C(=O)OC([H])([H])[H])c([H])c(I)c1N([H])[H].pickle\n",
      "Saved mol_dic for SMILES=[H]c1c([H])c(C([H])([H])C([H])([H])C(=O)C([H])([H])[H])c([H])c([H])c1I to hexane_groupby/[H]c1c([H])c(C([H])([H])C([H])([H])C(=O)C([H])([H])[H])c([H])c([H])c1I.pickle\n"
     ]
    },
    {
     "name": "stderr",
     "output_type": "stream",
     "text": [
      " 76%|███████▌  | 803/1054 [00:05<00:00, 313.64it/s]"
     ]
    },
    {
     "name": "stdout",
     "output_type": "stream",
     "text": [
      "Saved mol_dic for SMILES=[H]c1c([H])c(C([H])([H])C([H])([H])C([H])([H])C([H])([H])C([H])([H])[H])c(I)c([H])c1C(=O)OC([H])([H])C([H])([H])[H] to hexane_groupby/[H]c1c([H])c(C([H])([H])C([H])([H])C([H])([H])C([H])([H])C([H])([H])[H])c(I)c([H])c1C(=O)OC([H])([H])C([H])([H])[H].pickle\n",
      "Saved mol_dic for SMILES=[H]c1c([H])c(C([H])([H])C([H])([H])C([H])([H])C([H])([H])C([H])([H])[H])c([H])c([H])c1I to hexane_groupby/[H]c1c([H])c(C([H])([H])C([H])([H])C([H])([H])C([H])([H])C([H])([H])[H])c([H])c([H])c1I.pickle\n",
      "Saved mol_dic for SMILES=[H]c1c([H])c(C([H])([H])C([H])([H])[H])c([H])c([H])c1C(=O)C([H])([H])I to hexane_groupby/[H]c1c([H])c(C([H])([H])C([H])([H])[H])c([H])c([H])c1C(=O)C([H])([H])I.pickle\n",
      "Saved mol_dic for SMILES=[H]c1c([H])c(C([H])([H])I)c(C([H])([H])[H])c([H])c1C([H])([H])[H] to hexane_groupby/[H]c1c([H])c(C([H])([H])I)c(C([H])([H])[H])c([H])c1C([H])([H])[H].pickle\n",
      "Saved mol_dic for SMILES=[H]c1c([H])c(C([H])([H])OC([H])([H])[H])c([H])c([H])c1I to hexane_groupby/[H]c1c([H])c(C([H])([H])OC([H])([H])[H])c([H])c([H])c1I.pickle\n",
      "Saved mol_dic for SMILES=[H]c1c([H])c(C([H])([H])Oc2c([H])c([H])c(C(F)(F)F)c([H])c2I)c([H])c([H])c1F to hexane_groupby/[H]c1c([H])c(C([H])([H])Oc2c([H])c([H])c(C(F)(F)F)c([H])c2I)c([H])c([H])c1F.pickle\n",
      "Saved mol_dic for SMILES=[H]c1c([H])c(C([H])([H])[H])c(C([H])([H])[H])c([H])c1C(=O)N([H])C([H])([H])C([H])([H])I to hexane_groupby/[H]c1c([H])c(C([H])([H])[H])c(C([H])([H])[H])c([H])c1C(=O)N([H])C([H])([H])C([H])([H])I.pickle\n",
      "Saved mol_dic for SMILES=[H]c1c([H])c(C([H])([H])[H])c(I)c([H])c1Br to hexane_groupby/[H]c1c([H])c(C([H])([H])[H])c(I)c([H])c1Br.pickle\n",
      "Saved mol_dic for SMILES=[H]c1c([H])c(C([H])([H])[H])c(I)c([H])c1C(=O)OC([H])([H])[H] to hexane_groupby/[H]c1c([H])c(C([H])([H])[H])c(I)c([H])c1C(=O)OC([H])([H])[H].pickle\n",
      "Saved mol_dic for SMILES=[H]c1c([H])c(C([H])([H])[H])c(N([H])[H])c(C([H])([H])[H])c1I to hexane_groupby/[H]c1c([H])c(C([H])([H])[H])c(N([H])[H])c(C([H])([H])[H])c1I.pickle\n",
      "Saved mol_dic for SMILES=[H]c1c([H])c(C([H])([H])[H])c([H])c(C#N)c1I to hexane_groupby/[H]c1c([H])c(C([H])([H])[H])c([H])c(C#N)c1I.pickle\n",
      "Saved mol_dic for SMILES=[H]c1c([H])c(C([H])([H])[H])c([H])c(C(=O)OC([H])([H])C([H])([H])[H])c1I to hexane_groupby/[H]c1c([H])c(C([H])([H])[H])c([H])c(C(=O)OC([H])([H])C([H])([H])[H])c1I.pickle\n",
      "Saved mol_dic for SMILES=[H]c1c([H])c(C([H])([H])[H])c([H])c(S(=O)(=O)C([H])(I)I)c1[H] to hexane_groupby/[H]c1c([H])c(C([H])([H])[H])c([H])c(S(=O)(=O)C([H])(I)I)c1[H].pickle\n",
      "Saved mol_dic for SMILES=[H]c1c([H])c(C([H])([H])[Si](C([H])([H])[H])(C([H])([H])[H])C([H])([H])[H])c([H])c(C([H])([H])[Si](C([H])([H])[H])(C([H])([H])[H])C([H])([H])[H])c1C([H])([H])[H] to hexane_groupby/[H]c1c([H])c(C([H])([H])[Si](C([H])([H])[H])(C([H])([H])[H])C([H])([H])[H])c([H])c(C([H])([H])[Si](C([H])([H])[H])(C([H])([H])[H])C([H])([H])_a437efbb.pickle\n",
      "Saved mol_dic for SMILES=[H]c1c([H])c(C([H])(c2c([H])c([H])c(N([H])[H])c([H])c2I)c2c([H])c([H])c(N([H])[H])c([H])c2I)c([H])c([H])c1N([H])[H] to hexane_groupby/[H]c1c([H])c(C([H])(c2c([H])c([H])c(N([H])[H])c([H])c2I)c2c([H])c([H])c(N([H])[H])c([H])c2I)c([H])c([H])c1N([H])[H].pickle\n",
      "Saved mol_dic for SMILES=[H]c1c([H])c(Cl)c(N([H])C(=S)N([H])C(=O)c2c([H])c(I)c([H])c([H])c2Cl)c([H])c1Cl to hexane_groupby/[H]c1c([H])c(Cl)c(N([H])C(=S)N([H])C(=O)c2c([H])c(I)c([H])c([H])c2Cl)c([H])c1Cl.pickle\n",
      "Saved mol_dic for SMILES=[H]c1c([H])c(Cl)c(N([H])[H])c(I)c1[H] to hexane_groupby/[H]c1c([H])c(Cl)c(N([H])[H])c(I)c1[H].pickle\n",
      "Saved mol_dic for SMILES=[H]c1c([H])c(Cl)c([H])c(C([H])([H])I)c1[H] to hexane_groupby/[H]c1c([H])c(Cl)c([H])c(C([H])([H])I)c1[H].pickle\n",
      "Saved mol_dic for SMILES=[H]c1c([H])c(F)c(I)c(F)c1[H] to hexane_groupby/[H]c1c([H])c(F)c(I)c(F)c1[H].pickle\n",
      "Saved mol_dic for SMILES=[H]c1c([H])c(F)c([H])c(C(=O)N([H])c2c([H])c([H])c(I)c([H])c2[H])c1[H] to hexane_groupby/[H]c1c([H])c(F)c([H])c(C(=O)N([H])c2c([H])c([H])c(I)c([H])c2[H])c1[H].pickle\n",
      "Saved mol_dic for SMILES=[H]c1c([H])c(F)c([H])c(I)c1[H] to hexane_groupby/[H]c1c([H])c(F)c([H])c(I)c1[H].pickle\n",
      "Saved mol_dic for SMILES=[H]c1c([H])c(I)c(Br)c(C([H])([H])[H])c1[H] to hexane_groupby/[H]c1c([H])c(I)c(Br)c(C([H])([H])[H])c1[H].pickle\n",
      "Saved mol_dic for SMILES=[H]c1c([H])c(I)c(C(=O)OC([H])([H])C([H])([H])[H])c([H])c1Cl to hexane_groupby/[H]c1c([H])c(I)c(C(=O)OC([H])([H])C([H])([H])[H])c([H])c1Cl.pickle\n",
      "Saved mol_dic for SMILES=[H]c1c([H])c(I)c(C(=O)OC([H])([H])C([H])([H])[H])c([H])c1I to hexane_groupby/[H]c1c([H])c(I)c(C(=O)OC([H])([H])C([H])([H])[H])c([H])c1I.pickle\n",
      "Saved mol_dic for SMILES=[H]c1c([H])c(I)c(C(=O)OC([H])([H])[H])c(C(=O)OC([H])([H])[H])c1[H] to hexane_groupby/[H]c1c([H])c(I)c(C(=O)OC([H])([H])[H])c(C(=O)OC([H])([H])[H])c1[H].pickle\n",
      "Saved mol_dic for SMILES=[H]c1c([H])c(I)c(C([H])([H])[H])c([H])c1Br to hexane_groupby/[H]c1c([H])c(I)c(C([H])([H])[H])c([H])c1Br.pickle\n",
      "Saved mol_dic for SMILES=[H]c1c([H])c(I)c(Cl)c([H])c1Br to hexane_groupby/[H]c1c([H])c(I)c(Cl)c([H])c1Br.pickle\n",
      "Saved mol_dic for SMILES=[H]c1c([H])c(I)c(F)c(Cl)c1F to hexane_groupby/[H]c1c([H])c(I)c(F)c(Cl)c1F.pickle\n",
      "Saved mol_dic for SMILES=[H]c1c([H])c(I)c(I)c(I)c1[H] to hexane_groupby/[H]c1c([H])c(I)c(I)c(I)c1[H].pickle\n",
      "Saved mol_dic for SMILES=[H]c1c([H])c(I)c(OC([H])([H])C([H])([H])[H])c([H])c1Cl to hexane_groupby/[H]c1c([H])c(I)c(OC([H])([H])C([H])([H])[H])c([H])c1Cl.pickle\n",
      "Saved mol_dic for SMILES=[H]c1c([H])c(I)c([H])c(-c2nc3c([H])c([H])c(-c4nc5c([H])c([H])c(N6C([H])([H])C([H])([H])N(C([H])([H])[H])C([H])([H])C6([H])[H])c([H])c5n4[H])c([H])c3n2[H])c1[H] to hexane_groupby/[H]c1c([H])c(I)c([H])c(-c2nc3c([H])c([H])c(-c4nc5c([H])c([H])c(N6C([H])([H])C([H])([H])N(C([H])([H])[H])C([H])([H])C6([H])[H])c([H])c5n4[H])c_9de4cc29.pickle\n",
      "Saved mol_dic for SMILES=[H]c1c([H])c(I)c([H])c(C(=O)C([H])([H])[H])c1[H] to hexane_groupby/[H]c1c([H])c(I)c([H])c(C(=O)C([H])([H])[H])c1[H].pickle\n",
      "Saved mol_dic for SMILES=[H]c1c([H])c(I)c([H])c(C(=O)N([H])C(C([H])([H])[H])(C([H])([H])[H])C([H])([H])[H])c1[H] to hexane_groupby/[H]c1c([H])c(I)c([H])c(C(=O)N([H])C(C([H])([H])[H])(C([H])([H])[H])C([H])([H])[H])c1[H].pickle\n",
      "Saved mol_dic for SMILES=[H]c1c([H])c(I)c([H])c(C(=O)N([H])c2c([H])c([H])c([H])c([H])c2C(=O)N([H])[H])c1[H] to hexane_groupby/[H]c1c([H])c(I)c([H])c(C(=O)N([H])c2c([H])c([H])c([H])c([H])c2C(=O)N([H])[H])c1[H].pickle\n",
      "Saved mol_dic for SMILES=[H]c1c([H])c(I)c([H])c(C(=O)N([H])c2sc3c(c2C#N)C([H])([H])C([H])([H])C([H])([H])C3([H])[H])c1[H] to hexane_groupby/[H]c1c([H])c(I)c([H])c(C(=O)N([H])c2sc3c(c2C#N)C([H])([H])C([H])([H])C([H])([H])C3([H])[H])c1[H].pickle\n",
      "Saved mol_dic for SMILES=[H]c1c([H])c(I)c([H])c(C(=O)OC([H])([H])C([H])([H])[H])c1[H] to hexane_groupby/[H]c1c([H])c(I)c([H])c(C(=O)OC([H])([H])C([H])([H])[H])c1[H].pickle\n",
      "Saved mol_dic for SMILES=[H]c1c([H])c(I)c([H])c(C(=O)c2c([H])c([H])c(OC(=O)C([H])([H])[H])c([H])c2[H])c1[H] to hexane_groupby/[H]c1c([H])c(I)c([H])c(C(=O)c2c([H])c([H])c(OC(=O)C([H])([H])[H])c([H])c2[H])c1[H].pickle\n",
      "Saved mol_dic for SMILES=[H]c1c([H])c(I)c([H])c(C(=O)c2c([H])c([H])c([H])c(C#N)c2[H])c1[H] to hexane_groupby/[H]c1c([H])c(I)c([H])c(C(=O)c2c([H])c([H])c([H])c(C#N)c2[H])c1[H].pickle\n",
      "Saved mol_dic for SMILES=[H]c1c([H])c(I)c([H])c(C(C([H])([H])[H])(C([H])([H])[H])C([H])([H])[H])c1[H] to hexane_groupby/[H]c1c([H])c(I)c([H])c(C(C([H])([H])[H])(C([H])([H])[H])C([H])([H])[H])c1[H].pickle\n",
      "Saved mol_dic for SMILES=[H]c1c([H])c(I)c([H])c(C([H])([H])C#N)c1[H] to hexane_groupby/[H]c1c([H])c(I)c([H])c(C([H])([H])C#N)c1[H].pickle\n",
      "Saved mol_dic for SMILES=[H]c1c([H])c(I)c([H])c(C([H])([H])C([H])([H])[H])c1Br to hexane_groupby/[H]c1c([H])c(I)c([H])c(C([H])([H])C([H])([H])[H])c1Br.pickle\n",
      "Saved mol_dic for SMILES=[H]c1c([H])c(I)c([H])c(C([H])([H])Sc2nc3c([H])c([H])c([H])c([H])c3n2[H])c1[H] to hexane_groupby/[H]c1c([H])c(I)c([H])c(C([H])([H])Sc2nc3c([H])c([H])c([H])c([H])c3n2[H])c1[H].pickle\n",
      "Saved mol_dic for SMILES=[H]c1c([H])c(I)c([H])c(C([O])=O)c1[H] to hexane_groupby/[H]c1c([H])c(I)c([H])c(C([O])=O)c1[H].pickle\n",
      "Saved mol_dic for SMILES=[H]c1c([H])c(I)c([H])c(C2=NC(C([H])([H])[H])(C([H])([H])[H])C([H])([H])O2)c1[H] to hexane_groupby/[H]c1c([H])c(I)c([H])c(C2=NC(C([H])([H])[H])(C([H])([H])[H])C([H])([H])O2)c1[H].pickle\n",
      "Saved mol_dic for SMILES=[H]c1c([H])c(I)c([H])c(C2=NN([H])C(=O)SC2([H])[H])c1[H] to hexane_groupby/[H]c1c([H])c(I)c([H])c(C2=NN([H])C(=O)SC2([H])[H])c1[H].pickle\n",
      "Saved mol_dic for SMILES=[H]c1c([H])c(I)c([H])c(Cl)c1Cl to hexane_groupby/[H]c1c([H])c(I)c([H])c(Cl)c1Cl.pickle\n",
      "Saved mol_dic for SMILES=[H]c1c([H])c(I)c([H])c(F)c1F to hexane_groupby/[H]c1c([H])c(I)c([H])c(F)c1F.pickle\n",
      "Saved mol_dic for SMILES=[H]c1c([H])c(I)c([H])c(OC([H])([H])C(=O)OC([H])([H])C([H])([H])[H])c1[H] to hexane_groupby/[H]c1c([H])c(I)c([H])c(OC([H])([H])C(=O)OC([H])([H])C([H])([H])[H])c1[H].pickle\n",
      "Saved mol_dic for SMILES=[H]c1c([H])c(I)c([H])c([H])c1F to hexane_groupby/[H]c1c([H])c(I)c([H])c([H])c1F.pickle\n",
      "Saved mol_dic for SMILES=[H]c1c([H])c(I)c([H])c([S@OH6](F)(F)(F)(F)F)c1[H] to hexane_groupby/[H]c1c([H])c(I)c([H])c([S@OH6](F)(F)(F)(F)F)c1[H].pickle\n",
      "Saved mol_dic for SMILES=[H]c1c([H])c(I)c2c([H])c([H])c(C([H])([H])[H])nc2c1OC([H])([H])C#N to hexane_groupby/[H]c1c([H])c(I)c2c([H])c([H])c(C([H])([H])[H])nc2c1OC([H])([H])C#N.pickle\n",
      "Saved mol_dic for SMILES=[H]c1c([H])c(I)c2c([H])c([H])c([H])c(I)c2c1[H] to hexane_groupby/[H]c1c([H])c(I)c2c([H])c([H])c([H])c(I)c2c1[H].pickle\n",
      "Saved mol_dic for SMILES=[H]c1c([H])c(I)c2c(c1[H])C([H])([H])C([H])([H])C([H])([H])C2=O to hexane_groupby/[H]c1c([H])c(I)c2c(c1[H])C([H])([H])C([H])([H])C([H])([H])C2=O.pickle\n",
      "Saved mol_dic for SMILES=[H]c1c([H])c(I)c2c(c1[H])C([H])([H])N([H])C2=O to hexane_groupby/[H]c1c([H])c(I)c2c(c1[H])C([H])([H])N([H])C2=O.pickle\n",
      "Saved mol_dic for SMILES=[H]c1c([H])c(I)c2c(c1[H])[C@@]1([H])C([H])([H])C(=O)[C@]2([H])C1([H])[H] to hexane_groupby/[H]c1c([H])c(I)c2c(c1[H])[C@@]1([H])C([H])([H])C(=O)[C@]2([H])C1([H])[H].pickle\n",
      "Saved mol_dic for SMILES=[H]c1c([H])c(I)c2c(c1[H])[C](N([H])[H])N=C(Cl)[N]2 to hexane_groupby/[H]c1c([H])c(I)c2c(c1[H])[C](N([H])[H])N=C(Cl)[N]2.pickle\n",
      "Saved mol_dic for SMILES=[H]c1c([H])c(I)c2c(oc(=S)n2[H])c1[H] to hexane_groupby/[H]c1c([H])c(I)c2c(oc(=S)n2[H])c1[H].pickle\n",
      "Saved mol_dic for SMILES=[H]c1c([H])c(N(C([H])([H])C([H])([H])C([H])([H])C([H])([H])[H])C([H])([H])C([H])([H])C([H])([H])C([H])([H])[H])c([H])c([H])c1I to hexane_groupby/[H]c1c([H])c(N(C([H])([H])C([H])([H])C([H])([H])C([H])([H])[H])C([H])([H])C([H])([H])C([H])([H])C([H])([H])[H])c([H])c([H])c1I.pickle\n",
      "Saved mol_dic for SMILES=[H]c1c([H])c(N(C([H])([H])[H])C([H])([H])[H])c([H])c(N([H])C(=O)C([H])([H])C([H])([H])[H])c1/N=N/c1c(I)c([H])c([N+](=O)[O-])c([H])c1C#N to hexane_groupby/[H]c1c([H])c(N(C([H])([H])[H])C([H])([H])[H])c([H])c(N([H])C(=O)C([H])([H])C([H])([H])[H])c1_N=N_c1c(I)c([H])c([N+](=O)[O-])c([H])c1C#N.pickle\n",
      "Saved mol_dic for SMILES=[H]c1c([H])c(N(C([H])([H])[H])C([H])([H])[H])c([H])c(N([H])C(=O)C([H])([H])C([H])([H])[H])c1[N][N]c1c(I)c([H])c([N+](=O)[O-])c([H])c1C#N to hexane_groupby/[H]c1c([H])c(N(C([H])([H])[H])C([H])([H])[H])c([H])c(N([H])C(=O)C([H])([H])C([H])([H])[H])c1[N][N]c1c(I)c([H])c([N+](=O)[O-])c([H])c1C#N.pickle\n",
      "Saved mol_dic for SMILES=[H]c1c([H])c(N([H])C(=O)C(=O)OC([H])([H])[H])c([H])c([H])c1I to hexane_groupby/[H]c1c([H])c(N([H])C(=O)C(=O)OC([H])([H])[H])c([H])c([H])c1I.pickle\n",
      "Saved mol_dic for SMILES=[H]c1c([H])c(N([H])C(=O)C([H])([H])I)c([H])c([H])c1-c1nc2c([H])c([H])c(C([H])([H])[H])c([H])c2s1 to hexane_groupby/[H]c1c([H])c(N([H])C(=O)C([H])([H])I)c([H])c([H])c1-c1nc2c([H])c([H])c(C([H])([H])[H])c([H])c2s1.pickle\n",
      "Saved mol_dic for SMILES=[H]c1c([H])c(N([H])C(=O)N([H])c2c([H])c([H])c(OC([H])([H])[H])c([H])c2[H])c([H])c([H])c1I to hexane_groupby/[H]c1c([H])c(N([H])C(=O)N([H])c2c([H])c([H])c(OC([H])([H])[H])c([H])c2[H])c([H])c([H])c1I.pickle\n",
      "Saved mol_dic for SMILES=[H]c1c([H])c(N([H])C(=O)OC(C([H])([H])[H])(C([H])([H])[H])C([H])([H])[H])c(F)c([H])c1I to hexane_groupby/[H]c1c([H])c(N([H])C(=O)OC(C([H])([H])[H])(C([H])([H])[H])C([H])([H])[H])c(F)c([H])c1I.pickle\n",
      "Saved mol_dic for SMILES=[H]c1c([H])c(N([H])C(=O)OC(C([H])([H])[H])(C([H])([H])[H])C([H])([H])[H])c(I)c([H])c1F to hexane_groupby/[H]c1c([H])c(N([H])C(=O)OC(C([H])([H])[H])(C([H])([H])[H])C([H])([H])[H])c(I)c([H])c1F.pickle\n",
      "Saved mol_dic for SMILES=[H]c1c([H])c(N([H])C([H])(C([H])([H])[H])C([H])([H])[H])c([H])c([H])c1B1OC(C([H])([H])[H])(C([H])([H])[H])C(C([H])([H])[H])(C([H])([H])[H])O1 to hexane_groupby/[H]c1c([H])c(N([H])C([H])(C([H])([H])[H])C([H])([H])[H])c([H])c([H])c1B1OC(C([H])([H])[H])(C([H])([H])[H])C(C([H])([H])[H])(C([H])([H])[H])O1.pickle\n",
      "Saved mol_dic for SMILES=[H]c1c([H])c(N([H])C([H])([H])C([H])(C([H])([H])[H])C([H])([H])[H])c(C(=O)OC([H])([H])[H])c([H])c1I to hexane_groupby/[H]c1c([H])c(N([H])C([H])([H])C([H])(C([H])([H])[H])C([H])([H])[H])c(C(=O)OC([H])([H])[H])c([H])c1I.pickle\n",
      "Saved mol_dic for SMILES=[H]c1c([H])c(N([H])C([H])([H])[H])c(I)c([H])c1OC([H])([H])[H] to hexane_groupby/[H]c1c([H])c(N([H])C([H])([H])[H])c(I)c([H])c1OC([H])([H])[H].pickle\n",
      "Saved mol_dic for SMILES=[H]c1c([H])c(N([H])C2=C(C([H])([H])[H])C(=O)C3=C(C2=O)[C@@]([H])(C([H])([H])OC(=O)N([H])[H])[C@]2(OC([H])([H])[H])N3C([H])([H])[C@]3([H])N([H])[C@]23[H])c([H])c([H])c1I to hexane_groupby/[H]c1c([H])c(N([H])C2=C(C([H])([H])[H])C(=O)C3=C(C2=O)[C@@]([H])(C([H])([H])OC(=O)N([H])[H])[C@]2(OC([H])([H])[H])N3C([H])([H])[C@]3([H])N([H_998ab926.pickle\n",
      "Saved mol_dic for SMILES=[H]c1c([H])c(N([H])N([H])[H])c([H])c([H])c1I to hexane_groupby/[H]c1c([H])c(N([H])N([H])[H])c([H])c([H])c1I.pickle\n",
      "Saved mol_dic for SMILES=[H]c1c([H])c(N([H])[H])c(C#N)c([H])c1I to hexane_groupby/[H]c1c([H])c(N([H])[H])c(C#N)c([H])c1I.pickle\n",
      "Saved mol_dic for SMILES=[H]c1c([H])c(N([H])[H])c(C(=O)C([H])([H])[H])c([H])c1I to hexane_groupby/[H]c1c([H])c(N([H])[H])c(C(=O)C([H])([H])[H])c([H])c1I.pickle\n",
      "Saved mol_dic for SMILES=[H]c1c([H])c(N([H])[H])c(C(=O)OC([H])(C([H])([H])[H])C([H])([H])[H])c([H])c1I to hexane_groupby/[H]c1c([H])c(N([H])[H])c(C(=O)OC([H])(C([H])([H])[H])C([H])([H])[H])c([H])c1I.pickle\n",
      "Saved mol_dic for SMILES=[H]c1c([H])c(N([H])[H])c(I)c([H])c1Br to hexane_groupby/[H]c1c([H])c(N([H])[H])c(I)c([H])c1Br.pickle\n",
      "Saved mol_dic for SMILES=[H]c1c([H])c(N([H])[H])c([H])c([H])c1I to hexane_groupby/[H]c1c([H])c(N([H])[H])c([H])c([H])c1I.pickle\n",
      "Saved mol_dic for SMILES=[H]c1c([H])c(N([H])[H])c([H])c([H])c1O[Si]([H])([H])Oc1c([H])c([H])c(N([H])[H])c([H])c1[H] to hexane_groupby/[H]c1c([H])c(N([H])[H])c([H])c([H])c1O[Si]([H])([H])Oc1c([H])c([H])c(N([H])[H])c([H])c1[H].pickle\n",
      "Saved mol_dic for SMILES=[H]c1c([H])c(N([H])[H])c2c([H])c([H])c([H])c(I)c2c1[H] to hexane_groupby/[H]c1c([H])c(N([H])[H])c2c([H])c([H])c([H])c(I)c2c1[H].pickle\n",
      "Saved mol_dic for SMILES=[H]c1c([H])c(N2C(=O)S[C@]([H])(N([H])c3c([H])c([H])c(I)c([H])c3[H])C2=O)c([H])c(C([H])([H])[H])c1[H] to hexane_groupby/[H]c1c([H])c(N2C(=O)S[C@]([H])(N([H])c3c([H])c([H])c(I)c([H])c3[H])C2=O)c([H])c(C([H])([H])[H])c1[H].pickle\n",
      "Saved mol_dic for SMILES=[H]c1c([H])c(N2C([H])([H])C([H])([H])N(C([H])([H])[H])C([H])([H])C2([H])[H])c(C(=O)OC([H])([H])C([H])([H])[H])c([H])c1I to hexane_groupby/[H]c1c([H])c(N2C([H])([H])C([H])([H])N(C([H])([H])[H])C([H])([H])C2([H])[H])c(C(=O)OC([H])([H])C([H])([H])[H])c([H])c1I.pickle\n",
      "Saved mol_dic for SMILES=[H]c1c([H])c(N=O)c([H])c(C(=O)N([H])[H])c1I to hexane_groupby/[H]c1c([H])c(N=O)c([H])c(C(=O)N([H])[H])c1I.pickle\n",
      "Saved mol_dic for SMILES=[H]c1c([H])c(OC(F)(F)F)c([H])c([H])c1I to hexane_groupby/[H]c1c([H])c(OC(F)(F)F)c([H])c([H])c1I.pickle\n",
      "Saved mol_dic for SMILES=[H]c1c([H])c(OC([H])(F)F)c(C(=O)OC([H])([H])C([H])([H])[H])c([H])c1I to hexane_groupby/[H]c1c([H])c(OC([H])(F)F)c(C(=O)OC([H])([H])C([H])([H])[H])c([H])c1I.pickle\n",
      "Saved mol_dic for SMILES=[H]c1c([H])c(OC([H])([H])C([H])([H])C([H])([H])C([H])([H])C([H])([H])[H])c(OC([H])([H])C([H])([H])[H])c([H])c1I to hexane_groupby/[H]c1c([H])c(OC([H])([H])C([H])([H])C([H])([H])C([H])([H])C([H])([H])[H])c(OC([H])([H])C([H])([H])[H])c([H])c1I.pickle\n",
      "Saved mol_dic for SMILES=[H]c1c([H])c(OC([H])([H])C([H])([H])C([H])([H])I)c(Cl)c([H])c1OC([H])([H])C(F)(F)F to hexane_groupby/[H]c1c([H])c(OC([H])([H])C([H])([H])C([H])([H])I)c(Cl)c([H])c1OC([H])([H])C(F)(F)F.pickle\n",
      "Saved mol_dic for SMILES=[H]c1c([H])c(OC([H])([H])C([H])([H])F)c([H])c([H])c1I to hexane_groupby/[H]c1c([H])c(OC([H])([H])C([H])([H])F)c([H])c([H])c1I.pickle\n",
      "Saved mol_dic for SMILES=[H]c1c([H])c(OC([H])([H])OC([H])([H])[H])c(I)c(OS([O])([O])C(F)(F)F)c1[H] to hexane_groupby/[H]c1c([H])c(OC([H])([H])OC([H])([H])[H])c(I)c(OS([O])([O])C(F)(F)F)c1[H].pickle\n",
      "Saved mol_dic for SMILES=[H]c1c([H])c(OC([H])([H])[H])c(C([H])([H])N([H])[H])c([H])c1I to hexane_groupby/[H]c1c([H])c(OC([H])([H])[H])c(C([H])([H])N([H])[H])c([H])c1I.pickle\n",
      "Saved mol_dic for SMILES=[H]c1c([H])c(OC([H])([H])[H])c(I)c(N([H])[H])c1[H] to hexane_groupby/[H]c1c([H])c(OC([H])([H])[H])c(I)c(N([H])[H])c1[H].pickle\n",
      "Saved mol_dic for SMILES=[H]c1c([H])c(OC([H])([H])[H])c(I)c([H])c1OC([H])([H])[H] to hexane_groupby/[H]c1c([H])c(OC([H])([H])[H])c(I)c([H])c1OC([H])([H])[H].pickle\n",
      "Saved mol_dic for SMILES=[H]c1c([H])c(OC([H])([H])[H])c(OC(F)(F)F)c([H])c1I to hexane_groupby/[H]c1c([H])c(OC([H])([H])[H])c(OC(F)(F)F)c([H])c1I.pickle\n",
      "Saved mol_dic for SMILES=[H]c1c([H])c(OC([H])([H])[H])c(OS([O])([O])c2c([H])c([H])c(C([H])([H])[H])c([H])c2[H])c([H])c1I to hexane_groupby/[H]c1c([H])c(OC([H])([H])[H])c(OS([O])([O])c2c([H])c([H])c(C([H])([H])[H])c([H])c2[H])c([H])c1I.pickle\n",
      "Saved mol_dic for SMILES=[H]c1c([H])c(OC([H])([H])[H])c([H])c([N+](=O)[O-])c1I to hexane_groupby/[H]c1c([H])c(OC([H])([H])[H])c([H])c([N+](=O)[O-])c1I.pickle\n",
      "Saved mol_dic for SMILES=[H]c1c([H])c(S(=O)(=O)F)c([H])c([H])c1I to hexane_groupby/[H]c1c([H])c(S(=O)(=O)F)c([H])c([H])c1I.pickle\n",
      "Saved mol_dic for SMILES=[H]c1c([H])c(S(=O)(=O)N([H])C([H])([H])C([H])([H])[C@]([H])(I)C([H])([H])Cl)c([H])c([H])c1C([H])([H])[H] to hexane_groupby/[H]c1c([H])c(S(=O)(=O)N([H])C([H])([H])C([H])([H])[C@]([H])(I)C([H])([H])Cl)c([H])c([H])c1C([H])([H])[H].pickle\n",
      "Saved mol_dic for SMILES=[H]c1c([H])c(S(=O)(=O)n2nc(C([H])([H])[H])c([H])c2C([H])([H])[H])c(C([H])([H])[H])c([H])c1I to hexane_groupby/[H]c1c([H])c(S(=O)(=O)n2nc(C([H])([H])[H])c([H])c2C([H])([H])[H])c(C([H])([H])[H])c([H])c1I.pickle\n",
      "Saved mol_dic for SMILES=[H]c1c([H])c(SC(C([H])([H])[H])(C([H])([H])[H])C([H])([H])[H])c([H])c([H])c1I to hexane_groupby/[H]c1c([H])c(SC(C([H])([H])[H])(C([H])([H])[H])C([H])([H])[H])c([H])c([H])c1I.pickle\n",
      "Saved mol_dic for SMILES=[H]c1c([H])c([C@@]([H])(N([H])[H])C([H])([H])[H])c([H])c([H])c1I to hexane_groupby/[H]c1c([H])c([C@@]([H])(N([H])[H])C([H])([H])[H])c([H])c([H])c1I.pickle\n",
      "Saved mol_dic for SMILES=[H]c1c([H])c([C@@]2([H])C(=O)C(=O)[C@@]2([H])OC([H])([H])C([H])([H])[H])c([H])c([H])c1I to hexane_groupby/[H]c1c([H])c([C@@]2([H])C(=O)C(=O)[C@@]2([H])OC([H])([H])C([H])([H])[H])c([H])c([H])c1I.pickle\n",
      "Saved mol_dic for SMILES=[H]c1c([H])c([C@@]2([H])C([H])([H])C([H])([H])N(C([H])([H])[H])C([H])([H])[C@]2([H])C([H])([H])I)c([H])c([H])c1Cl to hexane_groupby/[H]c1c([H])c([C@@]2([H])C([H])([H])C([H])([H])N(C([H])([H])[H])C([H])([H])[C@]2([H])C([H])([H])I)c([H])c([H])c1Cl.pickle\n",
      "Saved mol_dic for SMILES=[H]c1c([H])c([C@@]2([H])C([H])([H])[C@@]3([H])N([H])[C@]([H])(C([H])([H])C3([H])[H])[C@]2([H])C(=O)OC([H])([H])[H])c([H])c([H])c1I to hexane_groupby/[H]c1c([H])c([C@@]2([H])C([H])([H])[C@@]3([H])N([H])[C@]([H])(C([H])([H])C3([H])[H])[C@]2([H])C(=O)OC([H])([H])[H])c([H])c([H])c1I.pickle\n",
      "Saved mol_dic for SMILES=[H]c1c([H])c([C@@]2(c3c([H])c([H])c(I)c([H])c3[H])OC([H])([H])C([H])([H])N([H])C2([H])[H])c([H])c([H])c1Cl to hexane_groupby/[H]c1c([H])c([C@@]2(c3c([H])c([H])c(I)c([H])c3[H])OC([H])([H])C([H])([H])N([H])C2([H])[H])c([H])c([H])c1Cl.pickle\n",
      "Saved mol_dic for SMILES=[H]c1c([H])c([Ge](I)(I)I)c([H])c([H])c1C([H])([H])[H] to hexane_groupby/[H]c1c([H])c([Ge](I)(I)I)c([H])c([H])c1C([H])([H])[H].pickle\n",
      "Saved mol_dic for SMILES=[H]c1c([H])c([H])[si](F)c([H])c1[H] to hexane_groupby/[H]c1c([H])c([H])[si](F)c([H])c1[H].pickle\n",
      "Saved mol_dic for SMILES=[H]c1c([H])c([H])c(-c2c(I)c([H])c([H])c3c2c([H])c([H])c2c([H])c([H])c([H])c([H])c23)c([H])c1[H] to hexane_groupby/[H]c1c([H])c([H])c(-c2c(I)c([H])c([H])c3c2c([H])c([H])c2c([H])c([H])c([H])c([H])c23)c([H])c1[H].pickle\n",
      "Saved mol_dic for SMILES=[H]c1c([H])c([H])c(-c2c(I)c3c([H])c(C(=O)OC([H])([H])C([H])([H])[H])c([H])c([H])c3n2C([H])([H])[H])c([H])c1[H] to hexane_groupby/[H]c1c([H])c([H])c(-c2c(I)c3c([H])c(C(=O)OC([H])([H])C([H])([H])[H])c([H])c([H])c3n2C([H])([H])[H])c([H])c1[H].pickle\n",
      "Saved mol_dic for SMILES=[H]c1c([H])c([H])c(-c2c([H])c(I)c([H])c(-c3c([H])c([H])c([H])c([H])c3[H])c2[H])c([H])c1[H] to hexane_groupby/[H]c1c([H])c([H])c(-c2c([H])c(I)c([H])c(-c3c([H])c([H])c([H])c([H])c3[H])c2[H])c([H])c1[H].pickle\n",
      "Saved mol_dic for SMILES=[H]c1c([H])c([H])c(-c2c([H])c([H])c(C([H])([H])C([H])([H])C([H])([H])I)c([H])c2[H])c([H])c1[H] to hexane_groupby/[H]c1c([H])c([H])c(-c2c([H])c([H])c(C([H])([H])C([H])([H])C([H])([H])I)c([H])c2[H])c([H])c1[H].pickle\n",
      "Saved mol_dic for SMILES=[H]c1c([H])c([H])c(-c2c([H])c([H])c([C@]([H])(I)C([H])([H])[H])c([H])c2[H])c(F)c1[H] to hexane_groupby/[H]c1c([H])c([H])c(-c2c([H])c([H])c([C@]([H])(I)C([H])([H])[H])c([H])c2[H])c(F)c1[H].pickle\n",
      "Saved mol_dic for SMILES=[H]c1c([H])c([H])c(-c2c([H])c([H])c([H])c(-c3c([H])c([H])c([H])c([H])c3[H])c2I)c([H])c1[H] to hexane_groupby/[H]c1c([H])c([H])c(-c2c([H])c([H])c([H])c(-c3c([H])c([H])c([H])c([H])c3[H])c2I)c([H])c1[H].pickle\n",
      "Saved mol_dic for SMILES=[H]c1c([H])c([H])c(-c2nc(-c3c([H])c([H])c(I)c([H])c3[H])c([H])c(-c3c([H])c([H])c([H])c([H])c3[H])c2[H])c([H])c1[H] to hexane_groupby/[H]c1c([H])c([H])c(-c2nc(-c3c([H])c([H])c(I)c([H])c3[H])c([H])c(-c3c([H])c([H])c([H])c([H])c3[H])c2[H])c([H])c1[H].pickle\n",
      "Saved mol_dic for SMILES=[H]c1c([H])c([H])c(-c2nc(C([H])([H])[H])oc2C([H])([H])C([H])([H])I)c([H])c1[H] to hexane_groupby/[H]c1c([H])c([H])c(-c2nc(C([H])([H])[H])oc2C([H])([H])C([H])([H])I)c([H])c1[H].pickle\n",
      "Saved mol_dic for SMILES=[H]c1c([H])c([H])c(-c2nc(SC([H])([H])[H])c(C#N)c(=O)s2)c(I)c1[H] to hexane_groupby/[H]c1c([H])c([H])c(-c2nc(SC([H])([H])[H])c(C#N)c(=O)s2)c(I)c1[H].pickle\n",
      "Saved mol_dic for SMILES=[H]c1c([H])c([H])c(-c2nnc(N([H])C(=O)N([H])c3c([H])c([H])c(OC([H])([H])[H])c([H])c3[H])s2)c(I)c1[H] to hexane_groupby/[H]c1c([H])c([H])c(-c2nnc(N([H])C(=O)N([H])c3c([H])c([H])c(OC([H])([H])[H])c([H])c3[H])s2)c(I)c1[H].pickle\n",
      "Saved mol_dic for SMILES=[H]c1c([H])c([H])c(B(I)I)c([H])c1[H] to hexane_groupby/[H]c1c([H])c([H])c(B(I)I)c([H])c1[H].pickle\n",
      "Saved mol_dic for SMILES=[H]c1c([H])c([H])c(C#CP(c2c([H])c([H])c([H])c([H])c2OC([H])([H])[H])c2c([H])c([H])c([H])c([H])c2OC([H])([H])[H])c([H])c1[H] to hexane_groupby/[H]c1c([H])c([H])c(C#CP(c2c([H])c([H])c([H])c([H])c2OC([H])([H])[H])c2c([H])c([H])c([H])c([H])c2OC([H])([H])[H])c([H])c1[H].pickle\n",
      "Saved mol_dic for SMILES=[H]c1c([H])c([H])c(C#Cc2c([H])c([H])c([H])c(I)c2[H])c(I)c1[H] to hexane_groupby/[H]c1c([H])c([H])c(C#Cc2c([H])c([H])c([H])c(I)c2[H])c(I)c1[H].pickle\n",
      "Saved mol_dic for SMILES=[H]c1c([H])c([H])c(C(=O)C([H])([H])C#N)c(I)c1[H] to hexane_groupby/[H]c1c([H])c([H])c(C(=O)C([H])([H])C#N)c(I)c1[H].pickle\n"
     ]
    },
    {
     "name": "stderr",
     "output_type": "stream",
     "text": [
      " 81%|████████  | 852/1054 [00:05<00:00, 327.21it/s]"
     ]
    },
    {
     "name": "stdout",
     "output_type": "stream",
     "text": [
      "Saved mol_dic for SMILES=[H]c1c([H])c([H])c(C(=O)C([H])([H])C([H])([H])C(=O)OC([H])([H])C([H])([H])[H])c(I)c1[H] to hexane_groupby/[H]c1c([H])c([H])c(C(=O)C([H])([H])C([H])([H])C(=O)OC([H])([H])C([H])([H])[H])c(I)c1[H].pickle\n",
      "Saved mol_dic for SMILES=[H]c1c([H])c([H])c(C(=O)C([H])([H])I)c([H])c1[H] to hexane_groupby/[H]c1c([H])c([H])c(C(=O)C([H])([H])I)c([H])c1[H].pickle\n",
      "Saved mol_dic for SMILES=[H]c1c([H])c([H])c(C(=O)C([H])([H])c2c([H])c([H])c(C#N)c([H])c2[H])c(I)c1[H] to hexane_groupby/[H]c1c([H])c([H])c(C(=O)C([H])([H])c2c([H])c([H])c(C#N)c([H])c2[H])c(I)c1[H].pickle\n",
      "Saved mol_dic for SMILES=[H]c1c([H])c([H])c(C(=O)N([H])C(=S)N([H])c2c([H])c([H])c(C([H])([H])[H])c([H])c2[H])c(I)c1[H] to hexane_groupby/[H]c1c([H])c([H])c(C(=O)N([H])C(=S)N([H])c2c([H])c([H])c(C([H])([H])[H])c([H])c2[H])c(I)c1[H].pickle\n",
      "Saved mol_dic for SMILES=[H]c1c([H])c([H])c(C(=O)N([H])C([H])([H])[H])c(Sc2c([H])c([H])c3c(I)n([H])nc3c2[H])c1[H] to hexane_groupby/[H]c1c([H])c([H])c(C(=O)N([H])C([H])([H])[H])c(Sc2c([H])c([H])c3c(I)n([H])nc3c2[H])c1[H].pickle\n",
      "Saved mol_dic for SMILES=[H]c1c([H])c([H])c(C(=O)N([H])N([H])[H])c(I)c1[H] to hexane_groupby/[H]c1c([H])c([H])c(C(=O)N([H])N([H])[H])c(I)c1[H].pickle\n",
      "Saved mol_dic for SMILES=[H]c1c([H])c([H])c(C(=O)N([H])c2c([H])c([H])c([H])c([H])c2C([H])([H])[H])c(I)c1[H] to hexane_groupby/[H]c1c([H])c([H])c(C(=O)N([H])c2c([H])c([H])c([H])c([H])c2C([H])([H])[H])c(I)c1[H].pickle\n",
      "Saved mol_dic for SMILES=[H]c1c([H])c([H])c(C(=O)OC([H])([H])C([H])([H])C([H])([H])N2C([H])([H])C([H])([H])C([H])([H])C([H])([H])[C@@]2([H])C([H])([H])[H])c(I)c1[H] to hexane_groupby/[H]c1c([H])c([H])c(C(=O)OC([H])([H])C([H])([H])C([H])([H])N2C([H])([H])C([H])([H])C([H])([H])C([H])([H])[C@@]2([H])C([H])([H])[H])c(I)c1[H].pickle\n",
      "Saved mol_dic for SMILES=[H]c1c([H])c([H])c(C(=O)OC([H])([H])[H])c(Oc2c([H])c([H])c(I)c([H])c2C(=O)OC([H])([H])[H])c1[H] to hexane_groupby/[H]c1c([H])c([H])c(C(=O)OC([H])([H])[H])c(Oc2c([H])c([H])c(I)c([H])c2C(=O)OC([H])([H])[H])c1[H].pickle\n",
      "Saved mol_dic for SMILES=[H]c1c([H])c([H])c(C(=O)Oc2c(I)c([H])c(C#N)c([H])c2I)c([H])c1[H] to hexane_groupby/[H]c1c([H])c([H])c(C(=O)Oc2c(I)c([H])c(C#N)c([H])c2I)c([H])c1[H].pickle\n",
      "Saved mol_dic for SMILES=[H]c1c([H])c([H])c(C(=O)[C@]([H])(I)[C@@]([H])(OC(=O)C([H])([H])[H])c2c([H])c([H])c([H])c([H])c2[H])c([H])c1[H] to hexane_groupby/[H]c1c([H])c([H])c(C(=O)[C@]([H])(I)[C@@]([H])(OC(=O)C([H])([H])[H])c2c([H])c([H])c([H])c([H])c2[H])c([H])c1[H].pickle\n",
      "Saved mol_dic for SMILES=[H]c1c([H])c([H])c(C(=O)c2c([H])c([H])c(F)c([H])c2[H])c(I)c1[H] to hexane_groupby/[H]c1c([H])c([H])c(C(=O)c2c([H])c([H])c(F)c([H])c2[H])c(I)c1[H].pickle\n",
      "Saved mol_dic for SMILES=[H]c1c([H])c([H])c(C(=O)c2c([H])c([H])c(I)c([H])c2[H])c(OC(=O)C([H])([H])[H])c1[H] to hexane_groupby/[H]c1c([H])c([H])c(C(=O)c2c([H])c([H])c(I)c([H])c2[H])c(OC(=O)C([H])([H])[H])c1[H].pickle\n",
      "Saved mol_dic for SMILES=[H]c1c([H])c([H])c(C(=O)c2c([H])c([H])c(SC([H])([H])[H])c([H])c2[H])c(I)c1[H] to hexane_groupby/[H]c1c([H])c([H])c(C(=O)c2c([H])c([H])c(SC([H])([H])[H])c([H])c2[H])c(I)c1[H].pickle\n",
      "Saved mol_dic for SMILES=[H]c1c([H])c([H])c(C(=O)c2nn([H])nc2I)c([H])c1[H] to hexane_groupby/[H]c1c([H])c([H])c(C(=O)c2nn([H])nc2I)c([H])c1[H].pickle\n",
      "Saved mol_dic for SMILES=[H]c1c([H])c([H])c(C(=S)N([H])[H])c(I)c1[H] to hexane_groupby/[H]c1c([H])c([H])c(C(=S)N([H])[H])c(I)c1[H].pickle\n",
      "Saved mol_dic for SMILES=[H]c1c([H])c([H])c(C(OC([H])([H])[H])(OC([H])([H])[H])C([H])([H])I)c([H])c1[H] to hexane_groupby/[H]c1c([H])c([H])c(C(OC([H])([H])[H])(OC([H])([H])[H])C([H])([H])I)c([H])c1[H].pickle\n",
      "Saved mol_dic for SMILES=[H]c1c([H])c([H])c(C([H])([H])B2OC(C([H])([H])[H])(C([H])([H])[H])C(C([H])([H])[H])(C([H])([H])[H])O2)c(C#N)c1[H] to hexane_groupby/[H]c1c([H])c([H])c(C([H])([H])B2OC(C([H])([H])[H])(C([H])([H])[H])C(C([H])([H])[H])(C([H])([H])[H])O2)c(C#N)c1[H].pickle\n",
      "Saved mol_dic for SMILES=[H]c1c([H])c([H])c(C([H])([H])C(=O)c2c([H])c([H])c([H])c(I)c2[H])c(Cl)c1[H] to hexane_groupby/[H]c1c([H])c([H])c(C([H])([H])C(=O)c2c([H])c([H])c([H])c(I)c2[H])c(Cl)c1[H].pickle\n",
      "Saved mol_dic for SMILES=[H]c1c([H])c([H])c(C([H])([H])C(=O)c2c([H])c([H])c([H])c([H])c2I)c(Br)c1[H] to hexane_groupby/[H]c1c([H])c([H])c(C([H])([H])C(=O)c2c([H])c([H])c([H])c([H])c2I)c(Br)c1[H].pickle\n",
      "Saved mol_dic for SMILES=[H]c1c([H])c([H])c(C([H])([H])C([H])([H])C(=O)N([H])c2c([H])c([H])c([H])c(I)c2[H])c([H])c1[H] to hexane_groupby/[H]c1c([H])c([H])c(C([H])([H])C([H])([H])C(=O)N([H])c2c([H])c([H])c([H])c(I)c2[H])c([H])c1[H].pickle\n",
      "Saved mol_dic for SMILES=[H]c1c([H])c([H])c(C([H])([H])C([H])([H])C([H])([H])C([H])([H])C([H])([H])I)c([H])c1[H] to hexane_groupby/[H]c1c([H])c([H])c(C([H])([H])C([H])([H])C([H])([H])C([H])([H])C([H])([H])I)c([H])c1[H].pickle\n",
      "Saved mol_dic for SMILES=[H]c1c([H])c([H])c(C([H])([H])C([H])([H])I)c([H])c1[H] to hexane_groupby/[H]c1c([H])c([H])c(C([H])([H])C([H])([H])I)c([H])c1[H].pickle\n",
      "Saved mol_dic for SMILES=[H]c1c([H])c([H])c(C([H])([H])I)c(C(=O)OC([H])([H])[H])c1[H] to hexane_groupby/[H]c1c([H])c([H])c(C([H])([H])I)c(C(=O)OC([H])([H])[H])c1[H].pickle\n",
      "Saved mol_dic for SMILES=[H]c1c([H])c([H])c(C([H])([H])N2C([H])([H])C([H])([H])N(C([H])([H])[H])C([H])([H])C2([H])[H])c(I)c1[H] to hexane_groupby/[H]c1c([H])c([H])c(C([H])([H])N2C([H])([H])C([H])([H])N(C([H])([H])[H])C([H])([H])C2([H])[H])c(I)c1[H].pickle\n",
      "Saved mol_dic for SMILES=[H]c1c([H])c([H])c(C([H])([H])N2c3c([H])c([H])c([H])c([H])c3C([H])([H])C2([H])[H])c(I)c1[H] to hexane_groupby/[H]c1c([H])c([H])c(C([H])([H])N2c3c([H])c([H])c([H])c([H])c3C([H])([H])C2([H])[H])c(I)c1[H].pickle\n",
      "Saved mol_dic for SMILES=[H]c1c([H])c([H])c(C([H])([H])OC(=O)C([H])([H])I)c([H])c1[H] to hexane_groupby/[H]c1c([H])c([H])c(C([H])([H])OC(=O)C([H])([H])I)c([H])c1[H].pickle\n",
      "Saved mol_dic for SMILES=[H]c1c([H])c([H])c(C([H])([H])OC(=O)N2C([H])([H])C([H])([H])C([H])([H])[C@]([H])(C([H])([H])I)C2([H])[H])c([H])c1[H] to hexane_groupby/[H]c1c([H])c([H])c(C([H])([H])OC(=O)N2C([H])([H])C([H])([H])C([H])([H])[C@]([H])(C([H])([H])I)C2([H])[H])c([H])c1[H].pickle\n",
      "Saved mol_dic for SMILES=[H]c1c([H])c([H])c(C([H])([H])OC([H])([H])[H])c(I)c1[H] to hexane_groupby/[H]c1c([H])c([H])c(C([H])([H])OC([H])([H])[H])c(I)c1[H].pickle\n",
      "Saved mol_dic for SMILES=[H]c1c([H])c([H])c(C([H])([H])O[P@]2(=O)OC([H])([H])[C@@]3([H])O[C@@]([H])(n4c([H])c(I)c(=O)n([H])c4=O)C([H])([H])[C@]3([H])O2)c([H])c1[H] to hexane_groupby/[H]c1c([H])c([H])c(C([H])([H])O[P@]2(=O)OC([H])([H])[C@@]3([H])O[C@@]([H])(n4c([H])c(I)c(=O)n([H])c4=O)C([H])([H])[C@]3([H])O2)c([H])c1[H].pickle\n",
      "Saved mol_dic for SMILES=[H]c1c([H])c([H])c(C([H])([H])Oc2c([H])c([H])c(Br)c([H])c2I)c([H])c1[H] to hexane_groupby/[H]c1c([H])c([H])c(C([H])([H])Oc2c([H])c([H])c(Br)c([H])c2I)c([H])c1[H].pickle\n",
      "Saved mol_dic for SMILES=[H]c1c([H])c([H])c(C([H])([H])SC(=S)c2c([H])c([H])c(I)c([H])c2[H])c([H])c1[H] to hexane_groupby/[H]c1c([H])c([H])c(C([H])([H])SC(=S)c2c([H])c([H])c(I)c([H])c2[H])c([H])c1[H].pickle\n",
      "Saved mol_dic for SMILES=[H]c1c([H])c([H])c(C([H])([H])SC([H])([H])C([H])([H])I)c([H])c1[H] to hexane_groupby/[H]c1c([H])c([H])c(C([H])([H])SC([H])([H])C([H])([H])I)c([H])c1[H].pickle\n",
      "Saved mol_dic for SMILES=[H]c1c([H])c([H])c(C([H])([H])[C@@]([H])(N([H])C(=O)OC(C([H])([H])[H])(C([H])([H])[H])C([H])([H])[H])C([H])([H])I)c([H])c1[H] to hexane_groupby/[H]c1c([H])c([H])c(C([H])([H])[C@@]([H])(N([H])C(=O)OC(C([H])([H])[H])(C([H])([H])[H])C([H])([H])[H])C([H])([H])I)c([H])c1[H].pickle\n",
      "Saved mol_dic for SMILES=[H]c1c([H])c([H])c(C([H])([H])[C@@]2([H])C([H])([H])[C@]([H])(C([H])([H])C([H])([H])C([H])([H])C([H])([H])C([H])([H])C([H])([H])[H])O[Si]2(C([H])([H])[H])C([H])([H])[H])c([H])c1[H] to hexane_groupby/[H]c1c([H])c([H])c(C([H])([H])[C@@]2([H])C([H])([H])[C@]([H])(C([H])([H])C([H])([H])C([H])([H])C([H])([H])C([H])([H])C([H])([H])[H])O[Si]2(C(_9565a8e0.pickle\n",
      "Saved mol_dic for SMILES=[H]c1c([H])c([H])c(C([H])([H])[H])c(-n2c(C([H])([H])[H])nc3c([H])c([H])c(I)c([H])c3c2=O)c1[H] to hexane_groupby/[H]c1c([H])c([H])c(C([H])([H])[H])c(-n2c(C([H])([H])[H])nc3c([H])c([H])c(I)c([H])c3c2=O)c1[H].pickle\n",
      "Saved mol_dic for SMILES=[H]c1c([H])c([H])c(C([H])([H])[H])c(N([H])C(=O)OC([H])([H])C#CI)c1[H] to hexane_groupby/[H]c1c([H])c([H])c(C([H])([H])[H])c(N([H])C(=O)OC([H])([H])C#CI)c1[H].pickle\n"
     ]
    },
    {
     "name": "stderr",
     "output_type": "stream",
     "text": [
      " 85%|████████▌ | 898/1054 [00:06<00:00, 250.22it/s]"
     ]
    },
    {
     "name": "stdout",
     "output_type": "stream",
     "text": [
      "Saved mol_dic for SMILES=[H]c1c([H])c([H])c(C([H])([H])n2c([H])c(I)c(=O)n(C([H])([H])c3c([H])c([H])c([H])c([H])c3[H])c2=O)c([H])c1[H] to hexane_groupby/[H]c1c([H])c([H])c(C([H])([H])n2c([H])c(I)c(=O)n(C([H])([H])c3c([H])c([H])c([H])c([H])c3[H])c2=O)c([H])c1[H].pickle\n",
      "Saved mol_dic for SMILES=[H]c1c([H])c([H])c(C23C([H])([H])C([H])([H])N(C([H])([H])C2([H])[H])C([H])([H])C3([H])[H])c([H])c1[H] to hexane_groupby/[H]c1c([H])c([H])c(C23C([H])([H])C([H])([H])N(C([H])([H])C2([H])[H])C([H])([H])C3([H])[H])c([H])c1[H].pickle\n",
      "Saved mol_dic for SMILES=[H]c1c([H])c([H])c(C2=C(I)c3c([H])c([H])c([H])c([H])c3[P@@](=O)(OC([H])([H])C([H])([H])[H])O2)c([H])c1[H] to hexane_groupby/[H]c1c([H])c([H])c(C2=C(I)c3c([H])c([H])c([H])c([H])c3[P@@](=O)(OC([H])([H])C([H])([H])[H])O2)c([H])c1[H].pickle\n",
      "Saved mol_dic for SMILES=[H]c1c([H])c([H])c(N([H])C(=S)C([H])([H])[H])c(I)c1[H] to hexane_groupby/[H]c1c([H])c([H])c(N([H])C(=S)C([H])([H])[H])c(I)c1[H].pickle\n",
      "Saved mol_dic for SMILES=[H]c1c([H])c([H])c(N([H])C(=S)N([H])C([H])([H])C([H])([H])[H])c(I)c1[H] to hexane_groupby/[H]c1c([H])c([H])c(N([H])C(=S)N([H])C([H])([H])C([H])([H])[H])c(I)c1[H].pickle\n",
      "Saved mol_dic for SMILES=[H]c1c([H])c([H])c(N([H])C([H])([H])C([H])([H])C(=O)C([H])([H])[H])c(I)c1[H] to hexane_groupby/[H]c1c([H])c([H])c(N([H])C([H])([H])C([H])([H])C(=O)C([H])([H])[H])c(I)c1[H].pickle\n",
      "Saved mol_dic for SMILES=[H]c1c([H])c([H])c(N([H])P2C(C([H])([H])[H])(C([H])([H])[H])C([H])(C([H])([H])[H])C2(C([H])([H])[H])C([H])([H])[H])c([H])c1[H] to hexane_groupby/[H]c1c([H])c([H])c(N([H])P2C(C([H])([H])[H])(C([H])([H])[H])C([H])(C([H])([H])[H])C2(C([H])([H])[H])C([H])([H])[H])c([H])c1[H].pickle\n",
      "Saved mol_dic for SMILES=[H]c1c([H])c([H])c(N([H])S(=O)(=O)c2c([H])c([H])c(C([H])([H])[H])c([H])c2[H])c(I)c1[H] to hexane_groupby/[H]c1c([H])c([H])c(N([H])S(=O)(=O)c2c([H])c([H])c(C([H])([H])[H])c([H])c2[H])c(I)c1[H].pickle\n",
      "Saved mol_dic for SMILES=[H]c1c([H])c([H])c(N([H])[C]2N=C(C([H])(C([H])([H])[H])C([H])([H])[H])[N]N2P(=O)(N(C([H])([H])[H])C([H])([H])[H])N(C([H])([H])[H])C([H])([H])[H])c([H])c1[H] to hexane_groupby/[H]c1c([H])c([H])c(N([H])[C]2N=C(C([H])(C([H])([H])[H])C([H])([H])[H])[N]N2P(=O)(N(C([H])([H])[H])C([H])([H])[H])N(C([H])([H])[H])C([H])([H])_4ae27975.pickle\n",
      "Saved mol_dic for SMILES=[H]c1c([H])c([H])c(OP2(=O)OC([H])([H])C(C([H])([H])[H])(C([H])([H])[H])C([H])([H])O2)c([H])c1[H] to hexane_groupby/[H]c1c([H])c([H])c(OP2(=O)OC([H])([H])C(C([H])([H])[H])(C([H])([H])[H])C([H])([H])O2)c([H])c1[H].pickle\n",
      "Saved mol_dic for SMILES=[H]c1c([H])c([H])c(Oc2c(I)c([H])c([N+](=O)[O-])c([H])c2[N+](=O)[O-])c([H])c1[H] to hexane_groupby/[H]c1c([H])c([H])c(Oc2c(I)c([H])c([N+](=O)[O-])c([H])c2[N+](=O)[O-])c([H])c1[H].pickle\n",
      "Saved mol_dic for SMILES=[H]c1c([H])c([H])c(Oc2c([H])c([H])c([H])c([H])c2I)c([H])c1[H] to hexane_groupby/[H]c1c([H])c([H])c(Oc2c([H])c([H])c([H])c([H])c2I)c([H])c1[H].pickle\n",
      "Saved mol_dic for SMILES=[H]c1c([H])c([H])c(P2C([H])([H])C([H])([H])C([H])([H])C2([H])[H])c(P2C([H])([H])C([H])([H])C([H])([H])C2([H])[H])c1[H] to hexane_groupby/[H]c1c([H])c([H])c(P2C([H])([H])C([H])([H])C([H])([H])C2([H])[H])c(P2C([H])([H])C([H])([H])C([H])([H])C2([H])[H])c1[H].pickle\n",
      "Saved mol_dic for SMILES=[H]c1c([H])c([H])c(S(=O)(=O)n2c(I)c([N+](=O)[O-])c3c([H])c([H])c([H])c([H])c32)c([H])c1[H] to hexane_groupby/[H]c1c([H])c([H])c(S(=O)(=O)n2c(I)c([N+](=O)[O-])c3c([H])c([H])c([H])c([H])c32)c([H])c1[H].pickle\n",
      "Saved mol_dic for SMILES=[H]c1c([H])c([H])c(SP(=O)(C([H])([H])C([H])([H])C([H])([H])[H])C([H])([H])C([H])([H])C([H])([H])[H])c([H])c1[H] to hexane_groupby/[H]c1c([H])c([H])c(SP(=O)(C([H])([H])C([H])([H])C([H])([H])[H])C([H])([H])C([H])([H])C([H])([H])[H])c([H])c1[H].pickle\n",
      "Saved mol_dic for SMILES=[H]c1c([H])c([H])c([As](c2c([H])c([H])c([H])c([H])c2[H])C([H])([H])I)c([H])c1[H] to hexane_groupby/[H]c1c([H])c([H])c([As](c2c([H])c([H])c([H])c([H])c2[H])C([H])([H])I)c([H])c1[H].pickle\n",
      "Saved mol_dic for SMILES=[H]c1c([H])c([H])c([C@]([H])(N(C(=O)C([H])([H])[H])C([H])(C([H])([H])[H])C([H])([H])[H])C([H])([H])[H])c(I)c1[H] to hexane_groupby/[H]c1c([H])c([H])c([C@]([H])(N(C(=O)C([H])([H])[H])C([H])(C([H])([H])[H])C([H])([H])[H])C([H])([H])[H])c(I)c1[H].pickle\n",
      "Saved mol_dic for SMILES=[H]c1c([H])c([H])c([C@]([H])(N([H])c2c([H])c([H])c(I)c([H])c2[H])P(=O)(OC([H])([H])C([H])([H])[H])OC([H])([H])C([H])([H])[H])c([H])c1[H] to hexane_groupby/[H]c1c([H])c([H])c([C@]([H])(N([H])c2c([H])c([H])c(I)c([H])c2[H])P(=O)(OC([H])([H])C([H])([H])[H])OC([H])([H])C([H])([H])[H])c([H])c1[H].pickle\n",
      "Saved mol_dic for SMILES=[H]c1c([H])c([H])c([C@]2([H])C([H])([H])[C@@]2([H])C([H])([H])C([H])(I)I)c([H])c1[H] to hexane_groupby/[H]c1c([H])c([H])c([C@]2([H])C([H])([H])[C@@]2([H])C([H])([H])C([H])(I)I)c([H])c1[H].pickle\n",
      "Saved mol_dic for SMILES=[H]c1c([H])c([H])c([C@]2([H])c3c([H])c([H])c(N([H])[H])c([H])c3Oc3c(I)c(N([H])[H])c([H])c([H])c32)c(C(=O)OC([H])([H])[H])c1[H] to hexane_groupby/[H]c1c([H])c([H])c([C@]2([H])c3c([H])c([H])c(N([H])[H])c([H])c3Oc3c(I)c(N([H])[H])c([H])c([H])c32)c(C(=O)OC([H])([H])[H])c1[H].pickle\n",
      "Saved mol_dic for SMILES=[H]c1c([H])c([H])c([N+](=O)[O-])c(C(=O)N([H])c2c([H])c([H])c(Cl)c([H])c2I)c1[H] to hexane_groupby/[H]c1c([H])c([H])c([N+](=O)[O-])c(C(=O)N([H])c2c([H])c([H])c(Cl)c([H])c2I)c1[H].pickle\n",
      "Saved mol_dic for SMILES=[H]c1c([H])c([H])c([P@TB9]23(Oc4c([H])c([H])c([H])c([H])c4S2)Oc2c([H])c([H])c([H])c([H])c2S3)c([H])c1[H] to hexane_groupby/[H]c1c([H])c([H])c([P@TB9]23(Oc4c([H])c([H])c([H])c([H])c4S2)Oc2c([H])c([H])c([H])c([H])c2S3)c([H])c1[H].pickle\n",
      "Saved mol_dic for SMILES=[H]c1c([H])c([H])c([P]([C](I)C(=O)OC([H])([H])[H])(c2c([H])c([H])c([H])c([H])c2[H])c2c([H])c([H])c([H])c([H])c2[H])c([H])c1[H] to hexane_groupby/[H]c1c([H])c([H])c([P]([C](I)C(=O)OC([H])([H])[H])(c2c([H])c([H])c([H])c([H])c2[H])c2c([H])c([H])c([H])c([H])c2[H])c([H])c1[H].pickle\n",
      "Saved mol_dic for SMILES=[H]c1c([H])c([H])c([Si](C#C[As](c2c([H])c([H])c(C([H])([H])[H])c([H])c2[H])c2c([H])c([H])c(C([H])([H])[H])c([H])c2[H])(c2c([H])c([H])c([H])c([H])c2[H])C([H])([H])[H])c([H])c1[H] to hexane_groupby/[H]c1c([H])c([H])c([Si](C#C[As](c2c([H])c([H])c(C([H])([H])[H])c([H])c2[H])c2c([H])c([H])c(C([H])([H])[H])c([H])c2[H])(c2c([H])c([H])c([H])c(_5b863730.pickle\n",
      "Saved mol_dic for SMILES=[H]c1c([H])c([H])c([Si](C([H])([H])[H])(C([H])([H])[H])C([H])([H])Cl)c([H])c1[H] to hexane_groupby/[H]c1c([H])c([H])c([Si](C([H])([H])[H])(C([H])([H])[H])C([H])([H])Cl)c([H])c1[H].pickle\n",
      "Saved mol_dic for SMILES=[H]c1c([H])c([H])c([Sn](I)(c2c([H])c([H])c([H])c([H])c2[H])C([H])(C([H])([H])[H])C([H])([H])[H])c([H])c1[H] to hexane_groupby/[H]c1c([H])c([H])c([Sn](I)(c2c([H])c([H])c([H])c([H])c2[H])C([H])(C([H])([H])[H])C([H])([H])[H])c([H])c1[H].pickle\n",
      "Saved mol_dic for SMILES=[H]c1c([H])c([H])c2c(=O)n(C([H])([H])C(=O)N([H])N([H])C(=S)N([H])[H])c(C([H])([H])[H])nc2c1I to hexane_groupby/[H]c1c([H])c([H])c2c(=O)n(C([H])([H])C(=O)N([H])N([H])C(=S)N([H])[H])c(C([H])([H])[H])nc2c1I.pickle\n",
      "Saved mol_dic for SMILES=[H]c1c([H])c([H])c2c(=O)n(I)nc([H])c2c1[H] to hexane_groupby/[H]c1c([H])c([H])c2c(=O)n(I)nc([H])c2c1[H].pickle\n",
      "Saved mol_dic for SMILES=[H]c1c([H])c([H])c2c(I)c(OC([H])([H])[H])c([H])c([H])c2c1[H] to hexane_groupby/[H]c1c([H])c([H])c2c(I)c(OC([H])([H])[H])c([H])c([H])c2c1[H].pickle\n",
      "Saved mol_dic for SMILES=[H]c1c([H])c([H])c2c(I)c3c([H])c([H])c([H])c([H])c3c([H])c2c1[H] to hexane_groupby/[H]c1c([H])c([H])c2c(I)c3c([H])c([H])c([H])c([H])c3c([H])c2c1[H].pickle\n",
      "Saved mol_dic for SMILES=[H]c1c([H])c([H])c2c(I)n([H])nc2c1I to hexane_groupby/[H]c1c([H])c([H])c2c(I)n([H])nc2c1I.pickle\n",
      "Saved mol_dic for SMILES=[H]c1c([H])c([H])c2c(OC([H])([H])[H])c([H])c([H])c(I)c2c1[H] to hexane_groupby/[H]c1c([H])c([H])c2c(OC([H])([H])[H])c([H])c([H])c(I)c2c1[H].pickle\n",
      "Saved mol_dic for SMILES=[H]c1c([H])c([H])c2c([H])c(I)c([H])c-2c([H])c1[H] to hexane_groupby/[H]c1c([H])c([H])c2c([H])c(I)c([H])c-2c([H])c1[H].pickle\n",
      "Saved mol_dic for SMILES=[H]c1c([H])c([H])c2c([H])c([H])c(I)nc2c1[H] to hexane_groupby/[H]c1c([H])c([H])c2c([H])c([H])c(I)nc2c1[H].pickle\n",
      "Saved mol_dic for SMILES=[H]c1c([H])c([H])c2c([H])c([P](=O)OC([H])([H])C([H])([H])[H])c([H])c([H])c2c1[H] to hexane_groupby/[H]c1c([H])c([H])c2c([H])c([P](=O)OC([H])([H])C([H])([H])[H])c([H])c([H])c2c1[H].pickle\n",
      "Saved mol_dic for SMILES=[H]c1c([H])c([H])c2c([H])c3c([H])c(C([H])([H])I)c([H])c([H])c3c([H])c2c1[H] to hexane_groupby/[H]c1c([H])c([H])c2c([H])c3c([H])c(C([H])([H])I)c([H])c([H])c3c([H])c2c1[H].pickle\n",
      "Saved mol_dic for SMILES=[H]c1c([H])c([H])c2c([H])n(C([H])([H])[H])nc2c1I to hexane_groupby/[H]c1c([H])c([H])c2c([H])n(C([H])([H])[H])nc2c1I.pickle\n",
      "Saved mol_dic for SMILES=[H]c1c([H])c([H])c2c(c(I)nn2C([H])([H])[H])c1Cl to hexane_groupby/[H]c1c([H])c([H])c2c(c(I)nn2C([H])([H])[H])c1Cl.pickle\n",
      "Saved mol_dic for SMILES=[H]c1c([H])c([H])c2c(c1I)c(C([H])([H])C#N)c([H])n2[H] to hexane_groupby/[H]c1c([H])c([H])c2c(c1I)c(C([H])([H])C#N)c([H])n2[H].pickle\n",
      "Saved mol_dic for SMILES=[H]c1c([H])c([H])c2c(c1[H])-c1c([H])c([H])c(I)c([H])c1C2(C([H])([H])C([H])([H])[H])C([H])([H])C([H])([H])[H] to hexane_groupby/[H]c1c([H])c([H])c2c(c1[H])-c1c([H])c([H])c(I)c([H])c1C2(C([H])([H])C([H])([H])[H])C([H])([H])C([H])([H])[H].pickle\n",
      "Saved mol_dic for SMILES=[H]c1c([H])c([H])c2c(c1[H])-c1c([H])c([H])c([H])c([H])c1C([H])([H])C2([H])[H] to hexane_groupby/[H]c1c([H])c([H])c2c(c1[H])-c1c([H])c([H])c([H])c([H])c1C([H])([H])C2([H])[H].pickle\n",
      "Saved mol_dic for SMILES=[H]c1c([H])c([H])c2c(c1[H])-c1c([H])c([H])c([H])c([H])c1C2([H])C([H])([H])OC(=O)I to hexane_groupby/[H]c1c([H])c([H])c2c(c1[H])-c1c([H])c([H])c([H])c([H])c1C2([H])C([H])([H])OC(=O)I.pickle\n",
      "Saved mol_dic for SMILES=[H]c1c([H])c([H])c2c(c1[H])C(=O)C(I)=C(I)C2=O to hexane_groupby/[H]c1c([H])c([H])c2c(c1[H])C(=O)C(I)=C(I)C2=O.pickle\n",
      "Saved mol_dic for SMILES=[H]c1c([H])c([H])c2c(c1[H])C(=O)N(C([H])([H])C([H])([H])Oc1c([H])c([H])c(I)c([H])c1[H])C2=O to hexane_groupby/[H]c1c([H])c([H])c2c(c1[H])C(=O)N(C([H])([H])C([H])([H])Oc1c([H])c([H])c(I)c([H])c1[H])C2=O.pickle\n",
      "Saved mol_dic for SMILES=[H]c1c([H])c([H])c2c(c1[H])C(=O)N(C([H])([H])N([H])c1c([H])c([H])c(I)c([H])c1[H])C2=O to hexane_groupby/[H]c1c([H])c([H])c2c(c1[H])C(=O)N(C([H])([H])N([H])c1c([H])c([H])c(I)c([H])c1[H])C2=O.pickle\n",
      "Saved mol_dic for SMILES=[H]c1c([H])c([H])c2c(c1[H])C(=O)c1c([H])c([H])c([H])c3c(I)c([H])c([H])c-2c13 to hexane_groupby/[H]c1c([H])c([H])c2c(c1[H])C(=O)c1c([H])c([H])c([H])c3c(I)c([H])c([H])c-2c13.pickle\n",
      "Saved mol_dic for SMILES=[H]c1c([H])c([H])c2c(c1[H])C([H])([H])C([H])([H])C([H])([H])[C@@]2([H])I to hexane_groupby/[H]c1c([H])c([H])c2c(c1[H])C([H])([H])C([H])([H])C([H])([H])[C@@]2([H])I.pickle\n",
      "Saved mol_dic for SMILES=[H]c1c([H])c([H])c2c(c1[H])N=C(C(C([H])([H])[H])(C([H])([H])[H])C([H])([H])[H])[Si]2(C([H])([H])[H])C([H])([H])[H] to hexane_groupby/[H]c1c([H])c([H])c2c(c1[H])N=C(C(C([H])([H])[H])(C([H])([H])[H])C([H])([H])[H])[Si]2(C([H])([H])[H])C([H])([H])[H].pickle\n",
      "Saved mol_dic for SMILES=[H]c1c([H])c([H])c2c(c1[H])OC([H])([H])[C@]([H])(C([H])([H])I)C2([H])[H] to hexane_groupby/[H]c1c([H])c([H])c2c(c1[H])OC([H])([H])[C@]([H])(C([H])([H])I)C2([H])[H].pickle\n",
      "Saved mol_dic for SMILES=[H]c1c([H])c([H])c2c(c1[H])c(=O)c1c(OC([H])([H])[H])c(I)c(OC([H])([H])[H])c([H])c1n2C([H])([H])[H] to hexane_groupby/[H]c1c([H])c([H])c2c(c1[H])c(=O)c1c(OC([H])([H])[H])c(I)c(OC([H])([H])[H])c([H])c1n2C([H])([H])[H].pickle\n",
      "Saved mol_dic for SMILES=[H]c1c([H])c([H])c2c(c1[H])c(C([H])([H])I)c([H])c(=O)n2[H] to hexane_groupby/[H]c1c([H])c([H])c2c(c1[H])c(C([H])([H])I)c([H])c(=O)n2[H].pickle\n",
      "Saved mol_dic for SMILES=[H]c1c([H])c([H])c2c(c1[H])c(I)c1n2C([H])([H])[C@@]([H])(C([H])([H])I)OC1=O to hexane_groupby/[H]c1c([H])c([H])c2c(c1[H])c(I)c1n2C([H])([H])[C@@]([H])(C([H])([H])I)OC1=O.pickle\n",
      "Saved mol_dic for SMILES=[H]c1c([H])c([H])c2c(c1[H])c([H])c(C([H])([H])[H])c1c3c(c([H])c(OP(=O)(OC([H])([H])C([H])([H])[H])OC([H])([H])C([H])([H])[H])c12)C(=O)C([H])([H])C3([H])[H] to hexane_groupby/[H]c1c([H])c([H])c2c(c1[H])c([H])c(C([H])([H])[H])c1c3c(c([H])c(OP(=O)(OC([H])([H])C([H])([H])[H])OC([H])([H])C([H])([H])[H])c12)C(=O)C([H])(_2e21fa74.pickle\n"
     ]
    },
    {
     "name": "stderr",
     "output_type": "stream",
     "text": [
      " 91%|█████████ | 958/1054 [00:06<00:00, 253.92it/s]"
     ]
    },
    {
     "name": "stdout",
     "output_type": "stream",
     "text": [
      "Saved mol_dic for SMILES=[H]c1c([H])c([N+](=O)[O-])c(I)c(C([H])([H])[H])c1[H] to hexane_groupby/[H]c1c([H])c([N+](=O)[O-])c(I)c(C([H])([H])[H])c1[H].pickle\n",
      "Saved mol_dic for SMILES=[H]c1c([H])c([N+](=O)[O-])c(I)c([H])c1C#N to hexane_groupby/[H]c1c([H])c([N+](=O)[O-])c(I)c([H])c1C#N.pickle\n",
      "Saved mol_dic for SMILES=[H]c1c([H])c([N+](=O)[O-])c([H])c(C#N)c1I to hexane_groupby/[H]c1c([H])c([N+](=O)[O-])c([H])c(C#N)c1I.pickle\n",
      "Saved mol_dic for SMILES=[H]c1c([H])c([N+](=O)[O-])c([H])c(F)c1I to hexane_groupby/[H]c1c([H])c([N+](=O)[O-])c([H])c(F)c1I.pickle\n",
      "Saved mol_dic for SMILES=[H]c1c([H])c([N+](=O)[O-])c([H])c(I)c1F to hexane_groupby/[H]c1c([H])c([N+](=O)[O-])c([H])c(I)c1F.pickle\n",
      "Saved mol_dic for SMILES=[H]c1c([H])c([N+](=O)[O-])c([H])c([H])c1C(=O)C([H])([H])I to hexane_groupby/[H]c1c([H])c([N+](=O)[O-])c([H])c([H])c1C(=O)C([H])([H])I.pickle\n",
      "Saved mol_dic for SMILES=[H]c1c([H])c([N+](=O)[O-])c([H])c([H])c1C(=O)N([H])C([H])([H])C#CI to hexane_groupby/[H]c1c([H])c([N+](=O)[O-])c([H])c([H])c1C(=O)N([H])C([H])([H])C#CI.pickle\n",
      "Saved mol_dic for SMILES=[H]c1c([H])c([N+](=O)[O-])c2nonc2c1N(C([H])([H])[H])C([H])([H])C([H])([H])OC(=O)C([H])([H])I to hexane_groupby/[H]c1c([H])c([N+](=O)[O-])c2nonc2c1N(C([H])([H])[H])C([H])([H])C([H])([H])OC(=O)C([H])([H])I.pickle\n",
      "Saved mol_dic for SMILES=[H]c1c([H])c([N+](=O)[O-])n2c(I)c(C(=O)OC([H])([H])C([H])([H])[H])nc2c1[H] to hexane_groupby/[H]c1c([H])c([N+](=O)[O-])n2c(I)c(C(=O)OC([H])([H])C([H])([H])[H])nc2c1[H].pickle\n",
      "Saved mol_dic for SMILES=[H]c1c([H])c([N]S([O])(C([H])([H])[H])C([H])([H])[H])c([H])c([H])c1I to hexane_groupby/[H]c1c([H])c([N]S([O])(C([H])([H])[H])C([H])([H])[H])c([H])c([H])c1I.pickle\n",
      "Saved mol_dic for SMILES=[H]c1c([H])c([Si](OC([H])([H])[H])(C([H])([H])[H])C([H])([H])[H])c([H])c([H])c1[Si]([H])(C([H])([H])[H])C([H])([H])[H] to hexane_groupby/[H]c1c([H])c([Si](OC([H])([H])[H])(C([H])([H])[H])C([H])([H])[H])c([H])c([H])c1[Si]([H])(C([H])([H])[H])C([H])([H])[H].pickle\n",
      "Saved mol_dic for SMILES=[H]c1c([H])c([Si]([H])(Cl)Cl)c([H])c([H])c1[Si]([H])(Cl)Cl to hexane_groupby/[H]c1c([H])c([Si]([H])(Cl)Cl)c([H])c([H])c1[Si]([H])(Cl)Cl.pickle\n",
      "Saved mol_dic for SMILES=[H]c1c([H])c([Si]([H])([H])[H])c([H])c([H])c1N(C([H])([H])[H])C([H])([H])[H] to hexane_groupby/[H]c1c([H])c([Si]([H])([H])[H])c([H])c([H])c1N(C([H])([H])[H])C([H])([H])[H].pickle\n",
      "Saved mol_dic for SMILES=[H]c1c([H])c2c([H])c([H])c3c([H])c([H])c(C([H])([H])N([H])C(=O)C([H])([H])I)c4c([H])c([H])c(c1[H])c2c34 to hexane_groupby/[H]c1c([H])c2c([H])c([H])c3c([H])c([H])c(C([H])([H])N([H])C(=O)C([H])([H])I)c4c([H])c([H])c(c1[H])c2c34.pickle\n",
      "Saved mol_dic for SMILES=[H]c1c([H])c2c(c([H])c1Br)C(C([H])([H])[H])(C([H])([H])[H])c1c([H])c(I)c([H])c([H])c1-2 to hexane_groupby/[H]c1c([H])c2c(c([H])c1Br)C(C([H])([H])[H])(C([H])([H])[H])c1c([H])c(I)c([H])c([H])c1-2.pickle\n",
      "Saved mol_dic for SMILES=[H]c1c([H])c2c(c([H])c1I)C(=O)C([H])([H])C2([H])[H] to hexane_groupby/[H]c1c([H])c2c(c([H])c1I)C(=O)C([H])([H])C2([H])[H].pickle\n",
      "Saved mol_dic for SMILES=[H]c1c([H])c2c(c([H])c1I)C(=O)N([H])C([H])([H])C2([H])[H] to hexane_groupby/[H]c1c([H])c2c(c([H])c1I)C(=O)N([H])C([H])([H])C2([H])[H].pickle\n",
      "Saved mol_dic for SMILES=[H]c1c([H])c2c(c([H])c1I)C(=O)c1c([H])c(I)c([H])c([H])c1-2 to hexane_groupby/[H]c1c([H])c2c(c([H])c1I)C(=O)c1c([H])c(I)c([H])c([H])c1-2.pickle\n",
      "Saved mol_dic for SMILES=[H]c1c([H])c2c(c([H])c1I)C(C([H])([H])C([H])([H])C([H])([H])[H])(C([H])([H])C([H])([H])C([H])([H])[H])c1c([H])c(I)c([H])c([H])c1-2 to hexane_groupby/[H]c1c([H])c2c(c([H])c1I)C(C([H])([H])C([H])([H])C([H])([H])[H])(C([H])([H])C([H])([H])C([H])([H])[H])c1c([H])c(I)c([H])c([H])c1-2.pickle\n",
      "Saved mol_dic for SMILES=[H]c1c([H])c2c(c([H])c1I)C([H])([H])C([H])([H])C2=O to hexane_groupby/[H]c1c([H])c2c(c([H])c1I)C([H])([H])C([H])([H])C2=O.pickle\n",
      "Saved mol_dic for SMILES=[H]c1c([H])c2c(c([H])c1I)C([H])([H])C([H])([H])N(C(=O)OC(C([H])([H])[H])(C([H])([H])[H])C([H])([H])[H])C2([H])[H] to hexane_groupby/[H]c1c([H])c2c(c([H])c1I)C([H])([H])C([H])([H])N(C(=O)OC(C([H])([H])[H])(C([H])([H])[H])C([H])([H])[H])C2([H])[H].pickle\n",
      "Saved mol_dic for SMILES=[H]c1c([H])c2c(c([H])c1I)C([H])([H])C([H])([H])c1c([H])c(I)c([H])c([H])c1-2 to hexane_groupby/[H]c1c([H])c2c(c([H])c1I)C([H])([H])C([H])([H])c1c([H])c(I)c([H])c([H])c1-2.pickle\n",
      "Saved mol_dic for SMILES=[H]c1c([H])c2c(c([H])c1I)C([H])([H])N([H])C([H])([H])C2([H])[H] to hexane_groupby/[H]c1c([H])c2c(c([H])c1I)C([H])([H])N([H])C([H])([H])C2([H])[H].pickle\n",
      "Saved mol_dic for SMILES=[H]c1c([H])c2c(c([H])c1I)C([H])([H])c1c([H])c([N+](=O)[O-])c([H])c([H])c1-2 to hexane_groupby/[H]c1c([H])c2c(c([H])c1I)C([H])([H])c1c([H])c([N+](=O)[O-])c([H])c([H])c1-2.pickle\n",
      "Saved mol_dic for SMILES=[H]c1c([H])c2c(c([H])c1I)OC([H])([H])C([H])([H])OC([H])([H])C([H])([H])OC([H])([H])C([H])([H])OC([H])([H])C([H])([H])O2 to hexane_groupby/[H]c1c([H])c2c(c([H])c1I)OC([H])([H])C([H])([H])OC([H])([H])C([H])([H])OC([H])([H])C([H])([H])OC([H])([H])C([H])([H])O2.pickle\n",
      "Saved mol_dic for SMILES=[H]c1c([H])c2c(c([H])c1I)OC([H])([H])O2 to hexane_groupby/[H]c1c([H])c2c(c([H])c1I)OC([H])([H])O2.pickle\n",
      "Saved mol_dic for SMILES=[H]c1c([N+](=O)[O-])c([H])c2c(c(I)nn2C(=O)OC(C([H])([H])[H])(C([H])([H])[H])C([H])([H])[H])c1[H] to hexane_groupby/[H]c1c([N+](=O)[O-])c([H])c2c(c(I)nn2C(=O)OC(C([H])([H])[H])(C([H])([H])[H])C([H])([H])[H])c1[H].pickle\n",
      "Saved mol_dic for SMILES=[H]c1c([N+](=O)[O-])c([H])c2c(c1I)c(=O)n([H])n2[H] to hexane_groupby/[H]c1c([N+](=O)[O-])c([H])c2c(c1I)c(=O)n([H])n2[H].pickle\n",
      "Saved mol_dic for SMILES=[H]c1c([N+](=O)[O-])c([H])c2nn([H])c(I)c2c1C(=O)OC([H])([H])[H] to hexane_groupby/[H]c1c([N+](=O)[O-])c([H])c2nn([H])c(I)c2c1C(=O)OC([H])([H])[H].pickle\n",
      "Saved mol_dic for SMILES=[H]c1c([N+](=O)[O-])c([H])c2nn([H])c(I)c2c1Cl to hexane_groupby/[H]c1c([N+](=O)[O-])c([H])c2nn([H])c(I)c2c1Cl.pickle\n",
      "Saved mol_dic for SMILES=[H]c1c([N+](=O)[O-])oc(C([H])([H])P(=O)(OC([H])([H])C([H])([H])C([H])([H])[H])OC([H])([H])C([H])([H])C([H])([H])[H])c1[H] to hexane_groupby/[H]c1c([N+](=O)[O-])oc(C([H])([H])P(=O)(OC([H])([H])C([H])([H])C([H])([H])[H])OC([H])([H])C([H])([H])C([H])([H])[H])c1[H].pickle\n",
      "Saved mol_dic for SMILES=[H]c1c2c(nc(I)c1C([H])([H])[H])OC([H])([H])C(=O)N2[H] to hexane_groupby/[H]c1c2c(nc(I)c1C([H])([H])[H])OC([H])([H])C(=O)N2[H].pickle\n",
      "Saved mol_dic for SMILES=[H]c1c2nc(Cl)c(I)c-2c([H])c([H])c([H])c1[H] to hexane_groupby/[H]c1c2nc(Cl)c(I)c-2c([H])c([H])c([H])c1[H].pickle\n",
      "Saved mol_dic for SMILES=[H]c1nc(-c2c([H])c([H])c([H])c([H])c2N([H])C(=O)c2c([H])c([H])c([H])c([H])c2I)c(Cl)c([H])c1Cl to hexane_groupby/[H]c1nc(-c2c([H])c([H])c([H])c([H])c2N([H])C(=O)c2c([H])c([H])c([H])c([H])c2I)c(Cl)c([H])c1Cl.pickle\n",
      "Saved mol_dic for SMILES=[H]c1nc(-c2c([H])nc([H])c([H])c2[H])sc1I to hexane_groupby/[H]c1nc(-c2c([H])nc([H])c([H])c2[H])sc1I.pickle\n",
      "Saved mol_dic for SMILES=[H]c1nc(-n2c(C([H])([H])[H])c([H])c([H])c2C([H])([H])[H])c([H])c([H])c1I to hexane_groupby/[H]c1nc(-n2c(C([H])([H])[H])c([H])c([H])c2C([H])([H])[H])c([H])c([H])c1I.pickle\n",
      "Saved mol_dic for SMILES=[H]c1nc(=O)n(C([H])([H])Oc2c([H])c([H])c(Cl)c([H])c2[H])c([H])c1I to hexane_groupby/[H]c1nc(=O)n(C([H])([H])Oc2c([H])c([H])c(Cl)c([H])c2[H])c([H])c1I.pickle\n",
      "Saved mol_dic for SMILES=[H]c1nc(Br)c(I)c([H])c1C(F)(F)F to hexane_groupby/[H]c1nc(Br)c(I)c([H])c1C(F)(F)F.pickle\n",
      "Saved mol_dic for SMILES=[H]c1nc(Br)c(I)c([H])c1I to hexane_groupby/[H]c1nc(Br)c(I)c([H])c1I.pickle\n",
      "Saved mol_dic for SMILES=[H]c1nc(Br)c2c(I)c([H])n([H])c2c1Br to hexane_groupby/[H]c1nc(Br)c2c(I)c([H])n([H])c2c1Br.pickle\n",
      "Saved mol_dic for SMILES=[H]c1nc(C#N)c2c(I)c([H])n([H])c2c1[H] to hexane_groupby/[H]c1nc(C#N)c2c(I)c([H])n([H])c2c1[H].pickle\n",
      "Saved mol_dic for SMILES=[H]c1nc(C(=O)c2c([H])c([H])c([H])c(I)c2[H])oc1[H] to hexane_groupby/[H]c1nc(C(=O)c2c([H])c([H])c([H])c(I)c2[H])oc1[H].pickle\n",
      "Saved mol_dic for SMILES=[H]c1nc(C(F)(F)F)c([H])c(I)c1[H] to hexane_groupby/[H]c1nc(C(F)(F)F)c([H])c(I)c1[H].pickle\n",
      "Saved mol_dic for SMILES=[H]c1nc(C([H])([H])[H])c([H])c([H])c1I to hexane_groupby/[H]c1nc(C([H])([H])[H])c([H])c([H])c1I.pickle\n",
      "Saved mol_dic for SMILES=[H]c1nc(C([H])([H])[H])n([H])c(=O)c1I to hexane_groupby/[H]c1nc(C([H])([H])[H])n([H])c(=O)c1I.pickle\n",
      "Saved mol_dic for SMILES=[H]c1nc(Cl)c(F)c([H])c1B1OC(C([H])([H])[H])(C([H])([H])[H])C(C([H])([H])[H])(C([H])([H])[H])O1 to hexane_groupby/[H]c1nc(Cl)c(F)c([H])c1B1OC(C([H])([H])[H])(C([H])([H])[H])C(C([H])([H])[H])(C([H])([H])[H])O1.pickle\n",
      "Saved mol_dic for SMILES=[H]c1nc(Cl)c(I)c(N([H])C(=O)OC(C([H])([H])[H])(C([H])([H])[H])C([H])([H])[H])c1[H] to hexane_groupby/[H]c1nc(Cl)c(I)c(N([H])C(=O)OC(C([H])([H])[H])(C([H])([H])[H])C([H])([H])[H])c1[H].pickle\n",
      "Saved mol_dic for SMILES=[H]c1nc(Cl)c([H])c(I)c1C#N to hexane_groupby/[H]c1nc(Cl)c([H])c(I)c1C#N.pickle\n",
      "Saved mol_dic for SMILES=[H]c1nc(Cl)c([H])c(I)n1 to hexane_groupby/[H]c1nc(Cl)c([H])c(I)n1.pickle\n",
      "Saved mol_dic for SMILES=[H]c1nc(Cl)c([N+](=O)[O-])c(I)c1C#N to hexane_groupby/[H]c1nc(Cl)c([N+](=O)[O-])c(I)c1C#N.pickle\n",
      "Saved mol_dic for SMILES=[H]c1nc(Cl)c2c(I)c([H])n([H])c2c1[H] to hexane_groupby/[H]c1nc(Cl)c2c(I)c([H])n([H])c2c1[H].pickle\n",
      "Saved mol_dic for SMILES=[H]c1nc(Cl)nc([H])c1I to hexane_groupby/[H]c1nc(Cl)nc([H])c1I.pickle\n",
      "Saved mol_dic for SMILES=[H]c1nc(F)c(I)c(C2(C([H])([H])[H])OC([H])([H])C([H])([H])C([H])([H])O2)c1[H] to hexane_groupby/[H]c1nc(F)c(I)c(C2(C([H])([H])[H])OC([H])([H])C([H])([H])C([H])([H])O2)c1[H].pickle\n",
      "Saved mol_dic for SMILES=[H]c1nc(F)c(I)c(F)c1[H] to hexane_groupby/[H]c1nc(F)c(I)c(F)c1[H].pickle\n",
      "Saved mol_dic for SMILES=[H]c1nc(F)c([H])c([H])c1I to hexane_groupby/[H]c1nc(F)c([H])c([H])c1I.pickle\n",
      "Saved mol_dic for SMILES=[H]c1nc(I)c(C#CC([H])([H])C([H])([H])C([H])([H])C([H])([H])C([H])([H])[H])c([H])c1[H] to hexane_groupby/[H]c1nc(I)c(C#CC([H])([H])C([H])([H])C([H])([H])C([H])([H])C([H])([H])[H])c([H])c1[H].pickle\n"
     ]
    },
    {
     "name": "stderr",
     "output_type": "stream",
     "text": [
      "100%|██████████| 1054/1054 [00:06<00:00, 159.26it/s]"
     ]
    },
    {
     "name": "stdout",
     "output_type": "stream",
     "text": [
      "Saved mol_dic for SMILES=[H]c1nc(I)c(C(=O)OC([H])([H])C([H])([H])[H])c([H])c1[H] to hexane_groupby/[H]c1nc(I)c(C(=O)OC([H])([H])C([H])([H])[H])c([H])c1[H].pickle\n",
      "Saved mol_dic for SMILES=[H]c1nc(I)c(C([H])([H])[H])c([H])c1F to hexane_groupby/[H]c1nc(I)c(C([H])([H])[H])c([H])c1F.pickle\n",
      "Saved mol_dic for SMILES=[H]c1nc(I)c(I)n1[H] to hexane_groupby/[H]c1nc(I)c(I)n1[H].pickle\n",
      "Saved mol_dic for SMILES=[H]c1nc(I)c([H])c(Br)c1[H] to hexane_groupby/[H]c1nc(I)c([H])c(Br)c1[H].pickle\n",
      "Saved mol_dic for SMILES=[H]c1nc(I)c([H])c(I)c1[H] to hexane_groupby/[H]c1nc(I)c([H])c(I)c1[H].pickle\n",
      "Saved mol_dic for SMILES=[H]c1nc(I)c([H])c([H])c1OC([H])([H])[H] to hexane_groupby/[H]c1nc(I)c([H])c([H])c1OC([H])([H])[H].pickle\n",
      "Saved mol_dic for SMILES=[H]c1nc(I)c([H])c([H])c1[N+](=O)[O-] to hexane_groupby/[H]c1nc(I)c([H])c([H])c1[N+](=O)[O-].pickle\n",
      "Saved mol_dic for SMILES=[H]c1nc(I)c([H])n1C([H])([H])[H] to hexane_groupby/[H]c1nc(I)c([H])n1C([H])([H])[H].pickle\n",
      "Saved mol_dic for SMILES=[H]c1nc(I)n([H])c1[H] to hexane_groupby/[H]c1nc(I)n([H])c1[H].pickle\n",
      "Saved mol_dic for SMILES=[H]c1nc(I)n2c1C([H])([H])N([H])C([H])([H])C2([H])[H] to hexane_groupby/[H]c1nc(I)n2c1C([H])([H])N([H])C([H])([H])C2([H])[H].pickle\n",
      "Saved mol_dic for SMILES=[H]c1nc(N([H])C(=O)OC(C([H])([H])[H])(C([H])([H])[H])C([H])([H])[H])c([H])c(OC([H])([H])[H])c1I to hexane_groupby/[H]c1nc(N([H])C(=O)OC(C([H])([H])[H])(C([H])([H])[H])C([H])([H])[H])c([H])c(OC([H])([H])[H])c1I.pickle\n",
      "Saved mol_dic for SMILES=[H]c1nc(N([H])N([H])[H])c(I)c(Br)c1[H] to hexane_groupby/[H]c1nc(N([H])N([H])[H])c(I)c(Br)c1[H].pickle\n",
      "Saved mol_dic for SMILES=[H]c1nc(N([H])[H])c2c(I)nc(C3([H])C([H])([H])C([H])([H])C3([H])[H])n2c1[H] to hexane_groupby/[H]c1nc(N([H])[H])c2c(I)nc(C3([H])C([H])([H])C([H])([H])C3([H])[H])n2c1[H].pickle\n",
      "Saved mol_dic for SMILES=[H]c1nc(N([H])[H])n([H])c(=O)c1I to hexane_groupby/[H]c1nc(N([H])[H])n([H])c(=O)c1I.pickle\n",
      "Saved mol_dic for SMILES=[H]c1nc(N2C([H])([H])C([H])([H])C([H])(C([H])([H])I)C([H])([H])C2([H])[H])c2c([H])c(OC([H])([H])[H])c(OC([H])([H])[H])c([H])c2n1 to hexane_groupby/[H]c1nc(N2C([H])([H])C([H])([H])C([H])(C([H])([H])I)C([H])([H])C2([H])[H])c2c([H])c(OC([H])([H])[H])c(OC([H])([H])[H])c([H])c2n1.pickle\n",
      "Saved mol_dic for SMILES=[H]c1nc(N2C([H])([H])C([H])([H])C([H])([H])C([H])([H])C2([H])[H])c([H])c(C(=O)N([H])c2c([H])c([H])c([H])c(I)c2[H])c1[H] to hexane_groupby/[H]c1nc(N2C([H])([H])C([H])([H])C([H])([H])C([H])([H])C2([H])[H])c([H])c(C(=O)N([H])c2c([H])c([H])c([H])c(I)c2[H])c1[H].pickle\n",
      "Saved mol_dic for SMILES=[H]c1nc(OC([H])([H])[H])c(OC([H])([H])[H])c(I)c1[H] to hexane_groupby/[H]c1nc(OC([H])([H])[H])c(OC([H])([H])[H])c(I)c1[H].pickle\n",
      "Saved mol_dic for SMILES=[H]c1nc(OC([H])([H])[H])c2c(I)c([H])n([H])c2c1[H] to hexane_groupby/[H]c1nc(OC([H])([H])[H])c2c(I)c([H])n([H])c2c1[H].pickle\n",
      "Saved mol_dic for SMILES=[H]c1nc([H])c(Br)c(I)c1[H] to hexane_groupby/[H]c1nc([H])c(Br)c(I)c1[H].pickle\n",
      "Saved mol_dic for SMILES=[H]c1nc([H])c(F)c(B2OC(C([H])([H])[H])(C([H])([H])[H])C(C([H])([H])[H])(C([H])([H])[H])O2)c1F to hexane_groupby/[H]c1nc([H])c(F)c(B2OC(C([H])([H])[H])(C([H])([H])[H])C(C([H])([H])[H])(C([H])([H])[H])O2)c1F.pickle\n",
      "Saved mol_dic for SMILES=[H]c1nc([H])c(I)c(Cl)n1 to hexane_groupby/[H]c1nc([H])c(I)c(Cl)n1.pickle\n",
      "Saved mol_dic for SMILES=[H]c1nc([H])c(I)c(N([H])C2([H])C([H])([H])C2([H])[H])n1 to hexane_groupby/[H]c1nc([H])c(I)c(N([H])C2([H])C([H])([H])C2([H])[H])n1.pickle\n",
      "Saved mol_dic for SMILES=[H]c1nc([H])c(I)c(N([H])[H])c1[H] to hexane_groupby/[H]c1nc([H])c(I)c(N([H])[H])c1[H].pickle\n",
      "Saved mol_dic for SMILES=[H]c1nc([H])c(I)c(N2C([H])([H])C([H])([H])OC([H])([H])C2([H])[H])n1 to hexane_groupby/[H]c1nc([H])c(I)c(N2C([H])([H])C([H])([H])OC([H])([H])C2([H])[H])n1.pickle\n",
      "Saved mol_dic for SMILES=[H]c1nc([H])c(N(C([H])([H])[H])C([H])([H])[H])nc1I to hexane_groupby/[H]c1nc([H])c(N(C([H])([H])[H])C([H])([H])[H])nc1I.pickle\n",
      "Saved mol_dic for SMILES=[H]c1nc([H])c2c(c1[H])c(I)c([H])n2[H] to hexane_groupby/[H]c1nc([H])c2c(c1[H])c(I)c([H])n2[H].pickle\n",
      "Saved mol_dic for SMILES=[H]c1nc([N+](=O)[O-])c(I)n1C([H])([H])[H] to hexane_groupby/[H]c1nc([N+](=O)[O-])c(I)n1C([H])([H])[H].pickle\n",
      "Saved mol_dic for SMILES=[H]c1nc([N+](=O)[O-])c([H])c(I)c1[H] to hexane_groupby/[H]c1nc([N+](=O)[O-])c([H])c(I)c1[H].pickle\n",
      "Saved mol_dic for SMILES=[H]c1nc2c(I)c([H])c(Br)c([H])c2c([H])c1[H] to hexane_groupby/[H]c1nc2c(I)c([H])c(Br)c([H])c2c([H])c1[H].pickle\n",
      "Saved mol_dic for SMILES=[H]c1nc2c(I)c([H])c([H])c([H])c2c(Br)c1[H] to hexane_groupby/[H]c1nc2c(I)c([H])c([H])c([H])c2c(Br)c1[H].pickle\n",
      "Saved mol_dic for SMILES=[H]c1nc2c(I)c([H])c([H])c([H])c2c(Cl)c1[H] to hexane_groupby/[H]c1nc2c(I)c([H])c([H])c([H])c2c(Cl)c1[H].pickle\n",
      "Saved mol_dic for SMILES=[H]c1nc2c(O[C@@]([H])(C#N)C([H])([H])[H])c(I)c([H])c(Cl)c2c([H])c1[H] to hexane_groupby/[H]c1nc2c(O[C@@]([H])(C#N)C([H])([H])[H])c(I)c([H])c(Cl)c2c([H])c1[H].pickle\n",
      "Saved mol_dic for SMILES=[H]c1nc2c([H])c(C([H])([H])N3C([H])([H])C([H])([H])[C@]([H])(C([H])([H])O[Si](C([H])([H])[H])(C([H])([H])[H])C(C([H])([H])[H])(C([H])([H])[H])C([H])([H])[H])C3([H])[H])oc2c([H])c1Br to hexane_groupby/[H]c1nc2c([H])c(C([H])([H])N3C([H])([H])C([H])([H])[C@]([H])(C([H])([H])O[Si](C([H])([H])[H])(C([H])([H])[H])C(C([H])([H])[H])(C([H])([H])[H]_d7ba63f7.pickle\n",
      "Saved mol_dic for SMILES=[H]c1nc2c([H])c(OC([H])([H])[H])c([H])c([H])c2c([H])c1I to hexane_groupby/[H]c1nc2c([H])c(OC([H])([H])[H])c([H])c([H])c2c([H])c1I.pickle\n",
      "Saved mol_dic for SMILES=[H]c1nc2c([H])c([H])c(C([H])([H])I)c([H])c2c([H])c1[H] to hexane_groupby/[H]c1nc2c([H])c([H])c(C([H])([H])I)c([H])c2c([H])c1[H].pickle\n",
      "Saved mol_dic for SMILES=[H]c1nc2c([H])c([H])c(I)c([H])c2c(=O)o1 to hexane_groupby/[H]c1nc2c([H])c([H])c(I)c([H])c2c(=O)o1.pickle\n",
      "Saved mol_dic for SMILES=[H]c1nc2c([H])c([H])c(I)c([H])c2c(Cl)c1[H] to hexane_groupby/[H]c1nc2c([H])c([H])c(I)c([H])c2c(Cl)c1[H].pickle\n",
      "Saved mol_dic for SMILES=[H]c1nc2c([H])c([H])c(I)c([H])n2c1[H] to hexane_groupby/[H]c1nc2c([H])c([H])c(I)c([H])n2c1[H].pickle\n",
      "Saved mol_dic for SMILES=[H]c1nc2c([H])c([H])c(OC([H])([H])[H])c([H])c2c([H])c1I to hexane_groupby/[H]c1nc2c([H])c([H])c(OC([H])([H])[H])c([H])c2c([H])c1I.pickle\n",
      "Saved mol_dic for SMILES=[H]c1nc2c([H])c([H])c([H])c(I)c2c([H])c1[H] to hexane_groupby/[H]c1nc2c([H])c([H])c([H])c(I)c2c([H])c1[H].pickle\n",
      "Saved mol_dic for SMILES=[H]c1nc2c([H])c([H])c([H])c([H])c2nc1I to hexane_groupby/[H]c1nc2c([H])c([H])c([H])c([H])c2nc1I.pickle\n",
      "Saved mol_dic for SMILES=[H]c1nc2c(c(Cl)c1F)c(I)c([H])n2[H] to hexane_groupby/[H]c1nc2c(c(Cl)c1F)c(I)c([H])n2[H].pickle\n",
      "Saved mol_dic for SMILES=[H]c1nc2c(c([H])c(I)n2S(=O)(=O)c2c([H])c([H])c([H])c([H])c2[H])c(Cl)c1[H] to hexane_groupby/[H]c1nc2c(c([H])c(I)n2S(=O)(=O)c2c([H])c([H])c([H])c([H])c2[H])c(Cl)c1[H].pickle\n",
      "Saved mol_dic for SMILES=[H]c1nc2c(c([H])c([H])n2[Si](C([H])(C([H])([H])[H])C([H])([H])[H])(C([H])(C([H])([H])[H])C([H])([H])[H])C([H])(C([H])([H])[H])C([H])([H])[H])c(Cl)c1Cl to hexane_groupby/[H]c1nc2c(c([H])c([H])n2[Si](C([H])(C([H])([H])[H])C([H])([H])[H])(C([H])(C([H])([H])[H])C([H])([H])[H])C([H])(C([H])([H])[H])C([H])([H])[H])c(Cl)c1Cl.pickle\n",
      "Saved mol_dic for SMILES=[H]c1nc2c(c([H])c1Cl)c(I)c([H])n2S(=O)(=O)c1c([H])c([H])c(C([H])([H])[H])c([H])c1[H] to hexane_groupby/[H]c1nc2c(c([H])c1Cl)c(I)c([H])n2S(=O)(=O)c1c([H])c([H])c(C([H])([H])[H])c([H])c1[H].pickle\n",
      "Saved mol_dic for SMILES=[H]c1nc2c(c([H])c1Cl)c(I)c([H])n2[H] to hexane_groupby/[H]c1nc2c(c([H])c1Cl)c(I)c([H])n2[H].pickle\n",
      "Saved mol_dic for SMILES=[H]c1nc2c(c([H])c1I)N([H])C(=O)C([H])([H])O2 to hexane_groupby/[H]c1nc2c(c([H])c1I)N([H])C(=O)C([H])([H])O2.pickle\n",
      "Saved mol_dic for SMILES=[H]c1nc2c(c([H])c1N([H])C(=O)OC(C([H])([H])[H])(C([H])([H])[H])C([H])([H])[H])c(I)c([H])n2[H] to hexane_groupby/[H]c1nc2c(c([H])c1N([H])C(=O)OC(C([H])([H])[H])(C([H])([H])[H])C([H])([H])[H])c(I)c([H])n2[H].pickle\n",
      "Saved mol_dic for SMILES=[H]c1nc2c(c([H])c1[H])C([H])([H])c1c([H])c([H])c([H])c([H])c1-2 to hexane_groupby/[H]c1nc2c(c([H])c1[H])C([H])([H])c1c([H])c([H])c([H])c([H])c1-2.pickle\n",
      "Saved mol_dic for SMILES=[H]c1nc2c(c([H])c1[H])c(I)c([H])n2S(=O)(=O)c1c([H])c([H])c(C([H])([H])[H])c([H])c1[H] to hexane_groupby/[H]c1nc2c(c([H])c1[H])c(I)c([H])n2S(=O)(=O)c1c([H])c([H])c(C([H])([H])[H])c([H])c1[H].pickle\n",
      "Saved mol_dic for SMILES=[H]c1nc2c(c([H])c1[H])c(I)c([H])n2[Si](C([H])(C([H])([H])[H])C([H])([H])[H])(C([H])(C([H])([H])[H])C([H])([H])[H])C([H])(C([H])([H])[H])C([H])([H])[H] to hexane_groupby/[H]c1nc2c(c([H])c1[H])c(I)c([H])n2[Si](C([H])(C([H])([H])[H])C([H])([H])[H])(C([H])(C([H])([H])[H])C([H])([H])[H])C([H])(C([H])([H])[H])C([H])([H])[H].pickle\n",
      "Saved mol_dic for SMILES=[H]c1nc2c(c([H])c1[H])c([H])c(I)n2[H] to hexane_groupby/[H]c1nc2c(c([H])c1[H])c([H])c(I)n2[H].pickle\n",
      "Saved mol_dic for SMILES=[H]c1nc2c(n1C([H])([H])C([H])([H])[H])[N]C(I)=N[C]2N([H])[H] to hexane_groupby/[H]c1nc2c(n1C([H])([H])C([H])([H])[H])[N]C(I)=N[C]2N([H])[H].pickle\n",
      "Saved mol_dic for SMILES=[H]c1nc2nc(-c3c([H])c([H])c([H])c(N([H])C(=O)c4c([H])c(Br)c([H])c([H])c4I)c3[H])oc2c([H])c1[H] to hexane_groupby/[H]c1nc2nc(-c3c([H])c([H])c([H])c(N([H])C(=O)c4c([H])c(Br)c([H])c([H])c4I)c3[H])oc2c([H])c1[H].pickle\n",
      "Saved mol_dic for SMILES=[H]c1nn(C([H])([H])C2([H])C([H])([H])C2([H])[H])c(I)c1[H] to hexane_groupby/[H]c1nn(C([H])([H])C2([H])C([H])([H])C2([H])[H])c(I)c1[H].pickle\n",
      "Saved mol_dic for SMILES=[H]c1nn(C([H])([H])[H])c(C(=O)OC([H])([H])[H])c1I to hexane_groupby/[H]c1nn(C([H])([H])[H])c(C(=O)OC([H])([H])[H])c1I.pickle\n",
      "Saved mol_dic for SMILES=[H]c1nn([H])c(C([H])([H])C([H])([H])[H])c1I to hexane_groupby/[H]c1nn([H])c(C([H])([H])C([H])([H])[H])c1I.pickle\n",
      "Saved mol_dic for SMILES=[H]c1noc(-c2c([H])c([H])c(I)c([H])c2[H])c1[H] to hexane_groupby/[H]c1noc(-c2c([H])c([H])c(I)c([H])c2[H])c1[H].pickle\n",
      "Saved mol_dic for SMILES=[H]c1noc(C([H])([H])[H])c1C(=O)N([H])c1c([H])c([H])c([H])c(I)c1[H] to hexane_groupby/[H]c1noc(C([H])([H])[H])c1C(=O)N([H])c1c([H])c([H])c([H])c(I)c1[H].pickle\n",
      "Saved mol_dic for SMILES=[H]c1noc([H])c1I to hexane_groupby/[H]c1noc([H])c1I.pickle\n",
      "Saved mol_dic for SMILES=[H]c1oc(I)c([H])c1[H] to hexane_groupby/[H]c1oc(I)c([H])c1[H].pickle\n",
      "Saved mol_dic for SMILES=[H]c1oc(O[Si](C([H])([H])[H])(C([H])([H])[H])C([H])([H])[H])c([H])c1[H] to hexane_groupby/[H]c1oc(O[Si](C([H])([H])[H])(C([H])([H])[H])C([H])([H])[H])c([H])c1[H].pickle\n",
      "Saved mol_dic for SMILES=[H]c1sc(C(=O)C([H])([H])n2c([H])nc3c(I)c([H])c(I)c([H])c3c2=O)c([H])c1[H] to hexane_groupby/[H]c1sc(C(=O)C([H])([H])n2c([H])nc3c(I)c([H])c(I)c([H])c3c2=O)c([H])c1[H].pickle\n",
      "Saved mol_dic for SMILES=[H]c1sc(C([H])([H])[H])c(P(c2c(C([H])([H])[H])sc([H])c2[H])c2c(C([H])([H])[H])sc([H])c2[H])c1[H] to hexane_groupby/[H]c1sc(C([H])([H])[H])c(P(c2c(C([H])([H])[H])sc([H])c2[H])c2c(C([H])([H])[H])sc([H])c2[H])c1[H].pickle\n",
      "Saved mol_dic for SMILES=[H]c1sc(I)nc1C([H])([H])O[Si](C([H])([H])[H])(C([H])([H])[H])C(C([H])([H])[H])(C([H])([H])[H])C([H])([H])[H] to hexane_groupby/[H]c1sc(I)nc1C([H])([H])O[Si](C([H])([H])[H])(C([H])([H])[H])C(C([H])([H])[H])(C([H])([H])[H])C([H])([H])[H].pickle\n",
      "Saved mol_dic for SMILES=[H]c1sc(P(=O)(c2sc([H])c([H])c2[H])N(C([H])([H])C([H])([H])[H])C([H])([H])C([H])([H])[H])c([H])c1[H] to hexane_groupby/[H]c1sc(P(=O)(c2sc([H])c([H])c2[H])N(C([H])([H])C([H])([H])[H])C([H])([H])C([H])([H])[H])c([H])c1[H].pickle\n",
      "Saved mol_dic for SMILES=[H]c1sc([Si]([H])([H])C([H])(OOC(C([H])([H])[H])(C([H])([H])[H])C([H])([H])[H])OOC(C([H])([H])[H])(C([H])([H])[H])C([H])([H])[H])c([H])c1[H] to hexane_groupby/[H]c1sc([Si]([H])([H])C([H])(OOC(C([H])([H])[H])(C([H])([H])[H])C([H])([H])[H])OOC(C([H])([H])[H])(C([H])([H])[H])C([H])([H])[H])c([H])c1[H].pickle\n",
      "Saved mol_dic for SMILES=[H]c1sc2c([H])c([H])c(I)c([H])c2c1[H] to hexane_groupby/[H]c1sc2c([H])c([H])c(I)c([H])c2c1[H].pickle\n",
      "Saved mol_dic for SMILES=[H]n1nc([Si](C([H])([H])[H])(C([H])([H])[H])C([H])([H])[H])c([Si](C([H])([H])[H])(C([H])([H])[H])C([H])([H])[H])c1[Si](C([H])([H])[H])(C([H])([H])[H])C([H])([H])[H] to hexane_groupby/[H]n1nc([Si](C([H])([H])[H])(C([H])([H])[H])C([H])([H])[H])c([Si](C([H])([H])[H])(C([H])([H])[H])C([H])([H])[H])c1[Si](C([H])([H])[H])(C([H])_0117624c.pickle\n",
      "Saved mol_dic for SMILES=[O][C][Si][C][O] to hexane_groupby/[O][C][Si][C][O].pickle\n",
      "Saved mol_dic for SMILES=p12p3p1p23 to hexane_groupby/p12p3p1p23.pickle\n"
     ]
    },
    {
     "name": "stderr",
     "output_type": "stream",
     "text": [
      "\n"
     ]
    }
   ],
   "source": [
    "# Group by\n",
    "for smiles, group in tqdm.tqdm(grouped):\n",
    "    # get all conformers for each group\n",
    "    conformers = []\n",
    "    # iterate on each group / smiles\n",
    "    for _, row in group.iterrows():\n",
    "        sdf_content = row['sdf']  # get the SDF content\n",
    "        mol = Chem.MolFromMolBlock(sdf_content, removeHs=False)  # convert to RDKit Mol\n",
    "        if mol is None:\n",
    "            # print(f\"Failed to parse SDF for conf_id={row['conf_id']} in SMILES={smiles}\")\n",
    "            continue\n",
    "\n",
    "        # Add conformer to the list\n",
    "        conformers.append({\n",
    "            'rd_mol': mol,\n",
    "            'boltzmannweight': None,  # Placeholder for Boltzmann weight\n",
    "            'solvent': row['solvent'],  # Added missing comma here\n",
    "            'mol_id': row['mol_id'],\n",
    "            'conf_id': row['conf_id'],\n",
    "            'smiles': smiles,\n",
    "            'sdf': row['sdf'],\n",
    "            'dE(gas)': row['dE(gas)'],\n",
    "            'dG(gas)': row['dG(gas)'],\n",
    "            'dG(solution)': row['dG(solution)'],\n",
    "            'E(gas)': row['E(gas)'],\n",
    "            'G(gas)': row['G(gas)'],\n",
    "            'G(solution)': row['G(solution)'],\n",
    "            'G(solvation)': row['G(solvation)'],\n",
    "            'G(RRHO)': row['G(RRHO)']\n",
    "        })\n",
    "\n",
    "    # # Compute Boltzmann weights if G(gas) is available\n",
    "    # energies = [conf['G(gas)'] for conf in conformers]\n",
    "    # boltzmann_factors = np.exp(-np.array(energies) / (8.31446261815324e-3 * 298.15))  # T = 298.15 K\n",
    "    # partition_function = np.sum(boltzmann_factors)\n",
    "    # weights = boltzmann_factors / partition_function\n",
    "\n",
    "    # for conf, weight in zip(conformers, weights):\n",
    "    #     conf['boltzmannweight'] = weight\n",
    "\n",
    "    # Create mol_dic\n",
    "    mol_dic = {\n",
    "        'smiles': smiles,\n",
    "        'conformers': conformers\n",
    "    }\n",
    "\n",
    "    # Save to pickle\n",
    "    safe_filename = truncate_filename(smiles)\n",
    "    pickle_path = os.path.join(output_dir, f\"{safe_filename.replace('/', '_')}.pickle\")\n",
    "    with open(pickle_path, 'wb') as f:\n",
    "        pickle.dump(mol_dic, f)\n",
    "\n",
    "    print(f\"Saved mol_dic for SMILES={smiles} to {pickle_path}\")"
   ]
  },
  {
   "cell_type": "code",
   "execution_count": 10,
   "metadata": {},
   "outputs": [],
   "source": [
    "import numpy as np"
   ]
  },
  {
   "cell_type": "code",
   "execution_count": 11,
   "metadata": {},
   "outputs": [
    {
     "name": "stdout",
     "output_type": "stream",
     "text": [
      "Splits saved to 'splits_hexane.npy'\n"
     ]
    },
    {
     "name": "stderr",
     "output_type": "stream",
     "text": [
      "/Users/zhangyici/mambaforge/envs/Ye/lib/python3.9/site-packages/numpy/lib/npyio.py:528: VisibleDeprecationWarning: Creating an ndarray from ragged nested sequences (which is a list-or-tuple of lists-or-tuples-or ndarrays with different lengths or shapes) is deprecated. If you meant to do this, you must specify 'dtype=object' when creating the ndarray.\n",
      "  arr = np.asanyarray(arr)\n"
     ]
    }
   ],
   "source": [
    "# Total number of molecules in the dataset\n",
    "total_molecules = 1054\n",
    "\n",
    "# Define split ratios (e.g., 80% train, 10% val, 10% test)\n",
    "train_ratio = 0.8\n",
    "val_ratio = 0.1\n",
    "test_ratio = 0.1\n",
    "\n",
    "# Create shuffled indices\n",
    "indices = np.arange(total_molecules)\n",
    "np.random.shuffle(indices)\n",
    "\n",
    "# Calculate sizes of each split\n",
    "train_size = int(total_molecules * train_ratio)\n",
    "val_size = int(total_molecules * val_ratio)\n",
    "test_size = total_molecules - train_size - val_size\n",
    "\n",
    "# Create splits\n",
    "train_indices = indices[:train_size]\n",
    "val_indices = indices[train_size:train_size + val_size]\n",
    "test_indices = indices[train_size + val_size:]\n",
    "\n",
    "# Combine splits into a list\n",
    "splits = [train_indices, val_indices, test_indices]\n",
    "# Save splits to a .npy file\n",
    "np.save('splits.npy', splits)\n",
    "print(\"Splits saved to 'splits_hexane.npy'\")"
   ]
  },
  {
   "cell_type": "code",
   "execution_count": 12,
   "metadata": {},
   "outputs": [
    {
     "data": {
      "text/plain": [
       "'/Users/zhangyici/Desktop/Autumn/Computer_Vision/CV_Final_Project'"
      ]
     },
     "execution_count": 12,
     "metadata": {},
     "output_type": "execute_result"
    }
   ],
   "source": [
    "pwd"
   ]
  },
  {
   "cell_type": "code",
   "execution_count": 13,
   "metadata": {},
   "outputs": [],
   "source": [
    "test_path = 'three_pickles_shui/test_data.pkl'"
   ]
  },
  {
   "cell_type": "code",
   "execution_count": 14,
   "metadata": {},
   "outputs": [
    {
     "ename": "FileNotFoundError",
     "evalue": "[Errno 2] No such file or directory: 'three_pickles_shui/test_data.pkl'",
     "output_type": "error",
     "traceback": [
      "\u001b[0;31m---------------------------------------------------------------------------\u001b[0m",
      "\u001b[0;31mFileNotFoundError\u001b[0m                         Traceback (most recent call last)",
      "Cell \u001b[0;32mIn[14], line 1\u001b[0m\n\u001b[0;32m----> 1\u001b[0m \u001b[38;5;28;01mwith\u001b[39;00m \u001b[38;5;28;43mopen\u001b[39;49m\u001b[43m(\u001b[49m\u001b[43mtest_path\u001b[49m\u001b[43m,\u001b[49m\u001b[43m \u001b[49m\u001b[38;5;124;43m'\u001b[39;49m\u001b[38;5;124;43mrb\u001b[39;49m\u001b[38;5;124;43m'\u001b[39;49m\u001b[43m)\u001b[49m \u001b[38;5;28;01mas\u001b[39;00m f:\n\u001b[1;32m      2\u001b[0m     test_data \u001b[38;5;241m=\u001b[39m pickle\u001b[38;5;241m.\u001b[39mload(f)\n",
      "File \u001b[0;32m~/mambaforge/envs/Ye/lib/python3.9/site-packages/IPython/core/interactiveshell.py:310\u001b[0m, in \u001b[0;36m_modified_open\u001b[0;34m(file, *args, **kwargs)\u001b[0m\n\u001b[1;32m    303\u001b[0m \u001b[38;5;28;01mif\u001b[39;00m file \u001b[38;5;129;01min\u001b[39;00m {\u001b[38;5;241m0\u001b[39m, \u001b[38;5;241m1\u001b[39m, \u001b[38;5;241m2\u001b[39m}:\n\u001b[1;32m    304\u001b[0m     \u001b[38;5;28;01mraise\u001b[39;00m \u001b[38;5;167;01mValueError\u001b[39;00m(\n\u001b[1;32m    305\u001b[0m         \u001b[38;5;124mf\u001b[39m\u001b[38;5;124m\"\u001b[39m\u001b[38;5;124mIPython won\u001b[39m\u001b[38;5;124m'\u001b[39m\u001b[38;5;124mt let you open fd=\u001b[39m\u001b[38;5;132;01m{\u001b[39;00mfile\u001b[38;5;132;01m}\u001b[39;00m\u001b[38;5;124m by default \u001b[39m\u001b[38;5;124m\"\u001b[39m\n\u001b[1;32m    306\u001b[0m         \u001b[38;5;124m\"\u001b[39m\u001b[38;5;124mas it is likely to crash IPython. If you know what you are doing, \u001b[39m\u001b[38;5;124m\"\u001b[39m\n\u001b[1;32m    307\u001b[0m         \u001b[38;5;124m\"\u001b[39m\u001b[38;5;124myou can use builtins\u001b[39m\u001b[38;5;124m'\u001b[39m\u001b[38;5;124m open.\u001b[39m\u001b[38;5;124m\"\u001b[39m\n\u001b[1;32m    308\u001b[0m     )\n\u001b[0;32m--> 310\u001b[0m \u001b[38;5;28;01mreturn\u001b[39;00m \u001b[43mio_open\u001b[49m\u001b[43m(\u001b[49m\u001b[43mfile\u001b[49m\u001b[43m,\u001b[49m\u001b[43m \u001b[49m\u001b[38;5;241;43m*\u001b[39;49m\u001b[43margs\u001b[49m\u001b[43m,\u001b[49m\u001b[43m \u001b[49m\u001b[38;5;241;43m*\u001b[39;49m\u001b[38;5;241;43m*\u001b[39;49m\u001b[43mkwargs\u001b[49m\u001b[43m)\u001b[49m\n",
      "\u001b[0;31mFileNotFoundError\u001b[0m: [Errno 2] No such file or directory: 'three_pickles_shui/test_data.pkl'"
     ]
    }
   ],
   "source": [
    "with open(test_path, 'rb') as f:\n",
    "    test_data = pickle.load(f)"
   ]
  },
  {
   "cell_type": "code",
   "execution_count": 15,
   "metadata": {},
   "outputs": [
    {
     "ename": "NameError",
     "evalue": "name 'test_data' is not defined",
     "output_type": "error",
     "traceback": [
      "\u001b[0;31m---------------------------------------------------------------------------\u001b[0m",
      "\u001b[0;31mNameError\u001b[0m                                 Traceback (most recent call last)",
      "Cell \u001b[0;32mIn[15], line 1\u001b[0m\n\u001b[0;32m----> 1\u001b[0m \u001b[38;5;28mprint\u001b[39m(\u001b[38;5;28mlen\u001b[39m(\u001b[43mtest_data\u001b[49m))\n",
      "\u001b[0;31mNameError\u001b[0m: name 'test_data' is not defined"
     ]
    }
   ],
   "source": [
    "print(len(test_data))"
   ]
  },
  {
   "cell_type": "code",
   "execution_count": 16,
   "metadata": {},
   "outputs": [],
   "source": [
    "import pickle"
   ]
  },
  {
   "cell_type": "code",
   "execution_count": 17,
   "metadata": {},
   "outputs": [],
   "source": [
    "test_file_path = 'torsional-diffusion/test_data.pkl'"
   ]
  },
  {
   "cell_type": "code",
   "execution_count": 18,
   "metadata": {},
   "outputs": [
    {
     "ename": "FileNotFoundError",
     "evalue": "[Errno 2] No such file or directory: 'torsional-diffusion/test_data.pkl'",
     "output_type": "error",
     "traceback": [
      "\u001b[0;31m---------------------------------------------------------------------------\u001b[0m",
      "\u001b[0;31mFileNotFoundError\u001b[0m                         Traceback (most recent call last)",
      "Cell \u001b[0;32mIn[18], line 1\u001b[0m\n\u001b[0;32m----> 1\u001b[0m \u001b[38;5;28;01mwith\u001b[39;00m \u001b[38;5;28;43mopen\u001b[39;49m\u001b[43m(\u001b[49m\u001b[43mtest_file_path\u001b[49m\u001b[43m,\u001b[49m\u001b[43m \u001b[49m\u001b[38;5;124;43m'\u001b[39;49m\u001b[38;5;124;43mrb\u001b[39;49m\u001b[38;5;124;43m'\u001b[39;49m\u001b[43m)\u001b[49m \u001b[38;5;28;01mas\u001b[39;00m f:\n\u001b[1;32m      2\u001b[0m     test_data \u001b[38;5;241m=\u001b[39m pickle\u001b[38;5;241m.\u001b[39mload(f)\n",
      "File \u001b[0;32m~/mambaforge/envs/Ye/lib/python3.9/site-packages/IPython/core/interactiveshell.py:310\u001b[0m, in \u001b[0;36m_modified_open\u001b[0;34m(file, *args, **kwargs)\u001b[0m\n\u001b[1;32m    303\u001b[0m \u001b[38;5;28;01mif\u001b[39;00m file \u001b[38;5;129;01min\u001b[39;00m {\u001b[38;5;241m0\u001b[39m, \u001b[38;5;241m1\u001b[39m, \u001b[38;5;241m2\u001b[39m}:\n\u001b[1;32m    304\u001b[0m     \u001b[38;5;28;01mraise\u001b[39;00m \u001b[38;5;167;01mValueError\u001b[39;00m(\n\u001b[1;32m    305\u001b[0m         \u001b[38;5;124mf\u001b[39m\u001b[38;5;124m\"\u001b[39m\u001b[38;5;124mIPython won\u001b[39m\u001b[38;5;124m'\u001b[39m\u001b[38;5;124mt let you open fd=\u001b[39m\u001b[38;5;132;01m{\u001b[39;00mfile\u001b[38;5;132;01m}\u001b[39;00m\u001b[38;5;124m by default \u001b[39m\u001b[38;5;124m\"\u001b[39m\n\u001b[1;32m    306\u001b[0m         \u001b[38;5;124m\"\u001b[39m\u001b[38;5;124mas it is likely to crash IPython. If you know what you are doing, \u001b[39m\u001b[38;5;124m\"\u001b[39m\n\u001b[1;32m    307\u001b[0m         \u001b[38;5;124m\"\u001b[39m\u001b[38;5;124myou can use builtins\u001b[39m\u001b[38;5;124m'\u001b[39m\u001b[38;5;124m open.\u001b[39m\u001b[38;5;124m\"\u001b[39m\n\u001b[1;32m    308\u001b[0m     )\n\u001b[0;32m--> 310\u001b[0m \u001b[38;5;28;01mreturn\u001b[39;00m \u001b[43mio_open\u001b[49m\u001b[43m(\u001b[49m\u001b[43mfile\u001b[49m\u001b[43m,\u001b[49m\u001b[43m \u001b[49m\u001b[38;5;241;43m*\u001b[39;49m\u001b[43margs\u001b[49m\u001b[43m,\u001b[49m\u001b[43m \u001b[49m\u001b[38;5;241;43m*\u001b[39;49m\u001b[38;5;241;43m*\u001b[39;49m\u001b[43mkwargs\u001b[49m\u001b[43m)\u001b[49m\n",
      "\u001b[0;31mFileNotFoundError\u001b[0m: [Errno 2] No such file or directory: 'torsional-diffusion/test_data.pkl'"
     ]
    }
   ],
   "source": [
    "with open(test_file_path, 'rb') as f:\n",
    "    test_data = pickle.load(f)"
   ]
  },
  {
   "cell_type": "code",
   "execution_count": 19,
   "metadata": {},
   "outputs": [
    {
     "ename": "NameError",
     "evalue": "name 'test_data' is not defined",
     "output_type": "error",
     "traceback": [
      "\u001b[0;31m---------------------------------------------------------------------------\u001b[0m",
      "\u001b[0;31mNameError\u001b[0m                                 Traceback (most recent call last)",
      "Cell \u001b[0;32mIn[19], line 1\u001b[0m\n\u001b[0;32m----> 1\u001b[0m \u001b[38;5;28mlen\u001b[39m(\u001b[43mtest_data\u001b[49m)\n",
      "\u001b[0;31mNameError\u001b[0m: name 'test_data' is not defined"
     ]
    }
   ],
   "source": [
    "len(test_data)"
   ]
  },
  {
   "cell_type": "code",
   "execution_count": 20,
   "metadata": {},
   "outputs": [],
   "source": [
    "train_file_path = 'torsional-diffusion/train_data.pkl'"
   ]
  },
  {
   "cell_type": "code",
   "execution_count": 21,
   "metadata": {},
   "outputs": [
    {
     "ename": "FileNotFoundError",
     "evalue": "[Errno 2] No such file or directory: 'torsional-diffusion/train_data.pkl'",
     "output_type": "error",
     "traceback": [
      "\u001b[0;31m---------------------------------------------------------------------------\u001b[0m",
      "\u001b[0;31mFileNotFoundError\u001b[0m                         Traceback (most recent call last)",
      "Cell \u001b[0;32mIn[21], line 1\u001b[0m\n\u001b[0;32m----> 1\u001b[0m \u001b[38;5;28;01mwith\u001b[39;00m \u001b[38;5;28;43mopen\u001b[39;49m\u001b[43m(\u001b[49m\u001b[43mtrain_file_path\u001b[49m\u001b[43m,\u001b[49m\u001b[43m \u001b[49m\u001b[38;5;124;43m'\u001b[39;49m\u001b[38;5;124;43mrb\u001b[39;49m\u001b[38;5;124;43m'\u001b[39;49m\u001b[43m)\u001b[49m \u001b[38;5;28;01mas\u001b[39;00m f:\n\u001b[1;32m      2\u001b[0m     train_data \u001b[38;5;241m=\u001b[39m pickle\u001b[38;5;241m.\u001b[39mload(f)\n",
      "File \u001b[0;32m~/mambaforge/envs/Ye/lib/python3.9/site-packages/IPython/core/interactiveshell.py:310\u001b[0m, in \u001b[0;36m_modified_open\u001b[0;34m(file, *args, **kwargs)\u001b[0m\n\u001b[1;32m    303\u001b[0m \u001b[38;5;28;01mif\u001b[39;00m file \u001b[38;5;129;01min\u001b[39;00m {\u001b[38;5;241m0\u001b[39m, \u001b[38;5;241m1\u001b[39m, \u001b[38;5;241m2\u001b[39m}:\n\u001b[1;32m    304\u001b[0m     \u001b[38;5;28;01mraise\u001b[39;00m \u001b[38;5;167;01mValueError\u001b[39;00m(\n\u001b[1;32m    305\u001b[0m         \u001b[38;5;124mf\u001b[39m\u001b[38;5;124m\"\u001b[39m\u001b[38;5;124mIPython won\u001b[39m\u001b[38;5;124m'\u001b[39m\u001b[38;5;124mt let you open fd=\u001b[39m\u001b[38;5;132;01m{\u001b[39;00mfile\u001b[38;5;132;01m}\u001b[39;00m\u001b[38;5;124m by default \u001b[39m\u001b[38;5;124m\"\u001b[39m\n\u001b[1;32m    306\u001b[0m         \u001b[38;5;124m\"\u001b[39m\u001b[38;5;124mas it is likely to crash IPython. If you know what you are doing, \u001b[39m\u001b[38;5;124m\"\u001b[39m\n\u001b[1;32m    307\u001b[0m         \u001b[38;5;124m\"\u001b[39m\u001b[38;5;124myou can use builtins\u001b[39m\u001b[38;5;124m'\u001b[39m\u001b[38;5;124m open.\u001b[39m\u001b[38;5;124m\"\u001b[39m\n\u001b[1;32m    308\u001b[0m     )\n\u001b[0;32m--> 310\u001b[0m \u001b[38;5;28;01mreturn\u001b[39;00m \u001b[43mio_open\u001b[49m\u001b[43m(\u001b[49m\u001b[43mfile\u001b[49m\u001b[43m,\u001b[49m\u001b[43m \u001b[49m\u001b[38;5;241;43m*\u001b[39;49m\u001b[43margs\u001b[49m\u001b[43m,\u001b[49m\u001b[43m \u001b[49m\u001b[38;5;241;43m*\u001b[39;49m\u001b[38;5;241;43m*\u001b[39;49m\u001b[43mkwargs\u001b[49m\u001b[43m)\u001b[49m\n",
      "\u001b[0;31mFileNotFoundError\u001b[0m: [Errno 2] No such file or directory: 'torsional-diffusion/train_data.pkl'"
     ]
    }
   ],
   "source": [
    "with open(train_file_path, 'rb') as f:\n",
    "    train_data = pickle.load(f)"
   ]
  },
  {
   "cell_type": "code",
   "execution_count": 22,
   "metadata": {},
   "outputs": [
    {
     "ename": "NameError",
     "evalue": "name 'train_data' is not defined",
     "output_type": "error",
     "traceback": [
      "\u001b[0;31m---------------------------------------------------------------------------\u001b[0m",
      "\u001b[0;31mNameError\u001b[0m                                 Traceback (most recent call last)",
      "Cell \u001b[0;32mIn[22], line 1\u001b[0m\n\u001b[0;32m----> 1\u001b[0m \u001b[38;5;28mlen\u001b[39m(\u001b[43mtrain_data\u001b[49m)\n",
      "\u001b[0;31mNameError\u001b[0m: name 'train_data' is not defined"
     ]
    }
   ],
   "source": [
    "len(train_data)"
   ]
  },
  {
   "cell_type": "code",
   "execution_count": 23,
   "metadata": {},
   "outputs": [
    {
     "ename": "NameError",
     "evalue": "name 'train_data' is not defined",
     "output_type": "error",
     "traceback": [
      "\u001b[0;31m---------------------------------------------------------------------------\u001b[0m",
      "\u001b[0;31mNameError\u001b[0m                                 Traceback (most recent call last)",
      "Cell \u001b[0;32mIn[23], line 1\u001b[0m\n\u001b[0;32m----> 1\u001b[0m \u001b[43mtrain_data\u001b[49m\n",
      "\u001b[0;31mNameError\u001b[0m: name 'train_data' is not defined"
     ]
    }
   ],
   "source": [
    "train_data"
   ]
  },
  {
   "cell_type": "code",
   "execution_count": 24,
   "metadata": {},
   "outputs": [],
   "source": [
    "training_path = 'torsional-diffusion/hexane_train.pkl'"
   ]
  },
  {
   "cell_type": "code",
   "execution_count": 25,
   "metadata": {},
   "outputs": [
    {
     "ename": "FileNotFoundError",
     "evalue": "[Errno 2] No such file or directory: 'torsional-diffusion/hexane_train.pkl'",
     "output_type": "error",
     "traceback": [
      "\u001b[0;31m---------------------------------------------------------------------------\u001b[0m",
      "\u001b[0;31mFileNotFoundError\u001b[0m                         Traceback (most recent call last)",
      "Cell \u001b[0;32mIn[25], line 1\u001b[0m\n\u001b[0;32m----> 1\u001b[0m \u001b[38;5;28;01mwith\u001b[39;00m \u001b[38;5;28;43mopen\u001b[39;49m\u001b[43m(\u001b[49m\u001b[43mtraining_path\u001b[49m\u001b[43m,\u001b[49m\u001b[43m \u001b[49m\u001b[38;5;124;43m'\u001b[39;49m\u001b[38;5;124;43mrb\u001b[39;49m\u001b[38;5;124;43m'\u001b[39;49m\u001b[43m)\u001b[49m \u001b[38;5;28;01mas\u001b[39;00m f:\n\u001b[1;32m      2\u001b[0m     training_data \u001b[38;5;241m=\u001b[39m pickle\u001b[38;5;241m.\u001b[39mload(f)\n",
      "File \u001b[0;32m~/mambaforge/envs/Ye/lib/python3.9/site-packages/IPython/core/interactiveshell.py:310\u001b[0m, in \u001b[0;36m_modified_open\u001b[0;34m(file, *args, **kwargs)\u001b[0m\n\u001b[1;32m    303\u001b[0m \u001b[38;5;28;01mif\u001b[39;00m file \u001b[38;5;129;01min\u001b[39;00m {\u001b[38;5;241m0\u001b[39m, \u001b[38;5;241m1\u001b[39m, \u001b[38;5;241m2\u001b[39m}:\n\u001b[1;32m    304\u001b[0m     \u001b[38;5;28;01mraise\u001b[39;00m \u001b[38;5;167;01mValueError\u001b[39;00m(\n\u001b[1;32m    305\u001b[0m         \u001b[38;5;124mf\u001b[39m\u001b[38;5;124m\"\u001b[39m\u001b[38;5;124mIPython won\u001b[39m\u001b[38;5;124m'\u001b[39m\u001b[38;5;124mt let you open fd=\u001b[39m\u001b[38;5;132;01m{\u001b[39;00mfile\u001b[38;5;132;01m}\u001b[39;00m\u001b[38;5;124m by default \u001b[39m\u001b[38;5;124m\"\u001b[39m\n\u001b[1;32m    306\u001b[0m         \u001b[38;5;124m\"\u001b[39m\u001b[38;5;124mas it is likely to crash IPython. If you know what you are doing, \u001b[39m\u001b[38;5;124m\"\u001b[39m\n\u001b[1;32m    307\u001b[0m         \u001b[38;5;124m\"\u001b[39m\u001b[38;5;124myou can use builtins\u001b[39m\u001b[38;5;124m'\u001b[39m\u001b[38;5;124m open.\u001b[39m\u001b[38;5;124m\"\u001b[39m\n\u001b[1;32m    308\u001b[0m     )\n\u001b[0;32m--> 310\u001b[0m \u001b[38;5;28;01mreturn\u001b[39;00m \u001b[43mio_open\u001b[49m\u001b[43m(\u001b[49m\u001b[43mfile\u001b[49m\u001b[43m,\u001b[49m\u001b[43m \u001b[49m\u001b[38;5;241;43m*\u001b[39;49m\u001b[43margs\u001b[49m\u001b[43m,\u001b[49m\u001b[43m \u001b[49m\u001b[38;5;241;43m*\u001b[39;49m\u001b[38;5;241;43m*\u001b[39;49m\u001b[43mkwargs\u001b[49m\u001b[43m)\u001b[49m\n",
      "\u001b[0;31mFileNotFoundError\u001b[0m: [Errno 2] No such file or directory: 'torsional-diffusion/hexane_train.pkl'"
     ]
    }
   ],
   "source": [
    "with open(training_path, 'rb') as f:\n",
    "    training_data = pickle.load(f)"
   ]
  },
  {
   "cell_type": "code",
   "execution_count": 26,
   "metadata": {},
   "outputs": [
    {
     "ename": "NameError",
     "evalue": "name 'training_data' is not defined",
     "output_type": "error",
     "traceback": [
      "\u001b[0;31m---------------------------------------------------------------------------\u001b[0m",
      "\u001b[0;31mNameError\u001b[0m                                 Traceback (most recent call last)",
      "Cell \u001b[0;32mIn[26], line 1\u001b[0m\n\u001b[0;32m----> 1\u001b[0m \u001b[38;5;28mlen\u001b[39m(\u001b[43mtraining_data\u001b[49m)\n",
      "\u001b[0;31mNameError\u001b[0m: name 'training_data' is not defined"
     ]
    }
   ],
   "source": [
    "len(training_data)"
   ]
  },
  {
   "cell_type": "code",
   "execution_count": 27,
   "metadata": {},
   "outputs": [
    {
     "ename": "NameError",
     "evalue": "name 'training_data' is not defined",
     "output_type": "error",
     "traceback": [
      "\u001b[0;31m---------------------------------------------------------------------------\u001b[0m",
      "\u001b[0;31mNameError\u001b[0m                                 Traceback (most recent call last)",
      "Cell \u001b[0;32mIn[27], line 1\u001b[0m\n\u001b[0;32m----> 1\u001b[0m \u001b[43mtraining_data\u001b[49m[\u001b[38;5;241m0\u001b[39m]\u001b[38;5;241m.\u001b[39mkeys()\n",
      "\u001b[0;31mNameError\u001b[0m: name 'training_data' is not defined"
     ]
    }
   ],
   "source": [
    "training_data[0].keys()\n"
   ]
  },
  {
   "cell_type": "code",
   "execution_count": 29,
   "metadata": {},
   "outputs": [],
   "source": [
    "jiancha = 'torsional-diffusion/H2O_Pickle/test.pkl'"
   ]
  },
  {
   "cell_type": "code",
   "execution_count": 30,
   "metadata": {},
   "outputs": [],
   "source": [
    "with open(jiancha, 'rb') as f:\n",
    "    jiancha_data = pickle.load(f)"
   ]
  },
  {
   "cell_type": "code",
   "execution_count": 44,
   "metadata": {},
   "outputs": [
    {
     "data": {
      "text/plain": [
       "[Data(x=[6, 75], edge_index=[2, 10], edge_attr=[10, 4], z=[6], canonical_smi='BrP(Br)P(Br)Br', mol=<rdkit.Chem.rdchem.Mol object at 0x2c1af76d0>, pos=[2], weights=[2], edge_mask=[10], mask_rotate=[1, 6]),\n",
       " Data(x=[14, 75], edge_index=[2, 28], edge_attr=[28, 4], z=[14], canonical_smi='N#Cc1c(Cl)c(Cl)c(I)c(C#N)c1Cl', mol=<rdkit.Chem.rdchem.Mol object at 0x2c1af72c0>, pos=[1], weights=[1], edge_mask=[28], mask_rotate=[2, 14]),\n",
       " Data(x=[15, 75], edge_index=[2, 30], edge_attr=[30, 4], z=[15], canonical_smi='Nc1c(I)cncc1C=O', mol=<rdkit.Chem.rdchem.Mol object at 0x2c1af7a90>, pos=[2], weights=[2], edge_mask=[30], mask_rotate=[2, 15]),\n",
       " Data(x=[23, 75], edge_index=[2, 44], edge_attr=[44, 4], z=[23], canonical_smi='CCOC(=O)C(I)C(=O)OCC', mol=<rdkit.Chem.rdchem.Mol object at 0x2c1afea90>, pos=[71], weights=[71], edge_mask=[44], mask_rotate=[8, 23]),\n",
       " Data(x=[19, 75], edge_index=[2, 36], edge_attr=[36, 4], z=[19], canonical_smi='CC(C)(C)C=C=CI', mol=<rdkit.Chem.rdchem.Mol object at 0x2c1ae6c20>, pos=[2], weights=[2], edge_mask=[36], mask_rotate=[6, 19]),\n",
       " Data(x=[14, 75], edge_index=[2, 26], edge_attr=[26, 4], z=[14], canonical_smi='BrCCCCI', mol=<rdkit.Chem.rdchem.Mol object at 0x2c1ae6b30>, pos=[8], weights=[8], edge_mask=[26], mask_rotate=[3, 14]),\n",
       " Data(x=[18, 75], edge_index=[2, 34], edge_attr=[34, 4], z=[18], canonical_smi='CCOC(=O)CC(I)=C(Br)I', mol=<rdkit.Chem.rdchem.Mol object at 0x2c1ad0b30>, pos=[10], weights=[10], edge_mask=[34], mask_rotate=[6, 18]),\n",
       " Data(x=[11, 75], edge_index=[2, 20], edge_attr=[20, 4], z=[11], canonical_smi='Cl[Si](Cl)(Cl)CCI', mol=<rdkit.Chem.rdchem.Mol object at 0x2c1b0ae00>, pos=[2], weights=[2], edge_mask=[20], mask_rotate=[2, 11]),\n",
       " Data(x=[30, 75], edge_index=[2, 60], edge_attr=[60, 4], z=[30], canonical_smi='CC(C)OP1CC(C)C(C)C1', mol=<rdkit.Chem.rdchem.Mol object at 0x2c1af54f0>, pos=[5], weights=[5], edge_mask=[60], mask_rotate=[6, 30]),\n",
       " Data(x=[37, 75], edge_index=[2, 72], edge_attr=[72, 4], z=[37], canonical_smi='CC(C)O[Si](C)(CCCI)OC(C)C', mol=<rdkit.Chem.rdchem.Mol object at 0x2c1af5b30>, pos=[523], weights=[523], edge_mask=[72], mask_rotate=[12, 37]),\n",
       " Data(x=[40, 75], edge_index=[2, 80], edge_attr=[80, 4], z=[40], canonical_smi='CCCCOB(OCCCC)C1CC1C(F)(F)F', mol=<rdkit.Chem.rdchem.Mol object at 0x2c1af5900>, pos=[1838], weights=[1838], edge_mask=[80], mask_rotate=[12, 40]),\n",
       " Data(x=[19, 75], edge_index=[2, 38], edge_attr=[38, 4], z=[19], canonical_smi='CCC1=C(I)CCC1', mol=<rdkit.Chem.rdchem.Mol object at 0x2c1d229f0>, pos=[2], weights=[2], edge_mask=[38], mask_rotate=[2, 19]),\n",
       " Data(x=[23, 75], edge_index=[2, 44], edge_attr=[44, 4], z=[23], canonical_smi='CCOC#C[Si](C)(C)C', mol=<rdkit.Chem.rdchem.Mol object at 0x2c1cef450>, pos=[3], weights=[3], edge_mask=[44], mask_rotate=[8, 23]),\n",
       " Data(x=[30, 75], edge_index=[2, 58], edge_attr=[58, 4], z=[30], canonical_smi='CCCP(=O)(CCC)OCC', mol=<rdkit.Chem.rdchem.Mol object at 0x2c1d459f0>, pos=[206], weights=[206], edge_mask=[58], mask_rotate=[9, 30]),\n",
       " Data(x=[30, 75], edge_index=[2, 58], edge_attr=[58, 4], z=[30], canonical_smi='CN(C)P(F)(F)(N(C)C)N(C)C', mol=<rdkit.Chem.rdchem.Mol object at 0x2c1dbaa40>, pos=[2], weights=[2], edge_mask=[58], mask_rotate=[9, 30]),\n",
       " Data(x=[24, 75], edge_index=[2, 46], edge_attr=[46, 4], z=[24], canonical_smi='COCC[Si](C)(C)C', mol=<rdkit.Chem.rdchem.Mol object at 0x2c1dba680>, pos=[4], weights=[4], edge_mask=[46], mask_rotate=[7, 24]),\n",
       " Data(x=[22, 75], edge_index=[2, 44], edge_attr=[44, 4], z=[22], canonical_smi='CC1C[Si](C)(C)CS1', mol=<rdkit.Chem.rdchem.Mol object at 0x2c1dc72c0>, pos=[1], weights=[1], edge_mask=[44], mask_rotate=[3, 22]),\n",
       " Data(x=[24, 75], edge_index=[2, 48], edge_attr=[48, 4], z=[24], canonical_smi='C[Si]1(C)CC[Si]1(C)C', mol=<rdkit.Chem.rdchem.Mol object at 0x2c1dc7900>, pos=[1], weights=[1], edge_mask=[48], mask_rotate=[4, 24]),\n",
       " Data(x=[33, 75], edge_index=[2, 66], edge_attr=[66, 4], z=[33], canonical_smi='C=CCOc1c(I)cc(C(=O)NN=C(C)C)cc1I', mol=<rdkit.Chem.rdchem.Mol object at 0x2c1dc7db0>, pos=[54], weights=[54], edge_mask=[66], mask_rotate=[10, 33]),\n",
       " Data(x=[28, 75], edge_index=[2, 54], edge_attr=[54, 4], z=[28], canonical_smi='C=CCC(=CI)CCCCC', mol=<rdkit.Chem.rdchem.Mol object at 0x2c1dd9220>, pos=[90], weights=[90], edge_mask=[54], mask_rotate=[9, 28]),\n",
       " Data(x=[69, 75], edge_index=[2, 144], edge_attr=[144, 4], z=[69], canonical_smi='C1CCC([Si](C2CCCCC2)(C2CCCCC2)C2CCCCC2)CC1', mol=<rdkit.Chem.rdchem.Mol object at 0x2c1e00450>, pos=[27], weights=[27], edge_mask=[144], mask_rotate=[4, 69]),\n",
       " Data(x=[27, 75], edge_index=[2, 54], edge_attr=[54, 4], z=[27], canonical_smi='FC(F)(F)C(F)(C1CCCCC1I)C(F)(F)F', mol=<rdkit.Chem.rdchem.Mol object at 0x2c1e003b0>, pos=[1], weights=[1], edge_mask=[54], mask_rotate=[3, 27]),\n",
       " Data(x=[26, 75], edge_index=[2, 54], edge_attr=[54, 4], z=[26], canonical_smi='CC1CCCCC1n1nnnc1I', mol=<rdkit.Chem.rdchem.Mol object at 0x2c1e00db0>, pos=[2], weights=[2], edge_mask=[54], mask_rotate=[2, 26]),\n",
       " Data(x=[18, 75], edge_index=[2, 36], edge_attr=[36, 4], z=[18], canonical_smi='CC1CCOP(N=C=O)O1', mol=<rdkit.Chem.rdchem.Mol object at 0x2c1e13310>, pos=[1], weights=[1], edge_mask=[36], mask_rotate=[3, 18]),\n",
       " Data(x=[13, 75], edge_index=[2, 26], edge_attr=[26, 4], z=[13], canonical_smi='FP(F)C1C=CC=C1', mol=<rdkit.Chem.rdchem.Mol object at 0x2c1e00720>, pos=[2], weights=[2], edge_mask=[26], mask_rotate=[1, 13]),\n",
       " Data(x=[44, 75], edge_index=[2, 90], edge_attr=[90, 4], z=[44], canonical_smi='CC(C)(C)[Si](C)(C)OC1C=CCC2C1C(=O)CS2(=O)=O', mol=<rdkit.Chem.rdchem.Mol object at 0x2c1e004a0>, pos=[5], weights=[5], edge_mask=[90], mask_rotate=[8, 44]),\n",
       " Data(x=[28, 75], edge_index=[2, 54], edge_attr=[54, 4], z=[28], canonical_smi='CC(C)(C)OC(=O)NCCCI', mol=<rdkit.Chem.rdchem.Mol object at 0x2c1dd9720>, pos=[31], weights=[31], edge_mask=[54], mask_rotate=[9, 28]),\n",
       " Data(x=[30, 75], edge_index=[2, 58], edge_attr=[58, 4], z=[30], canonical_smi='CC(C)(C)B(N)C(C)(C)C', mol=<rdkit.Chem.rdchem.Mol object at 0x2c1e13810>, pos=[2], weights=[2], edge_mask=[58], mask_rotate=[9, 30]),\n",
       " Data(x=[31, 75], edge_index=[2, 60], edge_attr=[60, 4], z=[31], canonical_smi='CN(C)[P](N)(N(C)C)N(C)C', mol=<rdkit.Chem.rdchem.Mol object at 0x2c1e21950>, pos=[10], weights=[10], edge_mask=[60], mask_rotate=[10, 31]),\n",
       " Data(x=[25, 75], edge_index=[2, 52], edge_attr=[52, 4], z=[25], canonical_smi='OB(O)c1ccc2c(c1)OCCCO2', mol=<rdkit.Chem.rdchem.Mol object at 0x2c1e21a40>, pos=[4], weights=[4], edge_mask=[52], mask_rotate=[3, 25]),\n",
       " Data(x=[26, 75], edge_index=[2, 52], edge_attr=[52, 4], z=[26], canonical_smi='CCN(C)c1cccc(B(O)O)n1', mol=<rdkit.Chem.rdchem.Mol object at 0x2c1e00270>, pos=[27], weights=[27], edge_mask=[52], mask_rotate=[7, 26]),\n",
       " Data(x=[25, 75], edge_index=[2, 50], edge_attr=[50, 4], z=[25], canonical_smi='O=C(O)C1=CC(OP(=O)(O)O)CCC1', mol=<rdkit.Chem.rdchem.Mol object at 0x2c1e00c20>, pos=[144], weights=[144], edge_mask=[50], mask_rotate=[6, 25]),\n",
       " Data(x=[19, 75], edge_index=[2, 38], edge_attr=[38, 4], z=[19], canonical_smi='Nc1c(I)c(N)c(I)c(C(=O)O)c1I', mol=<rdkit.Chem.rdchem.Mol object at 0x2c1e39590>, pos=[4], weights=[4], edge_mask=[38], mask_rotate=[4, 19]),\n",
       " Data(x=[23, 75], edge_index=[2, 46], edge_attr=[46, 4], z=[23], canonical_smi='COc1cccc(C=CI)c1C(=O)O', mol=<rdkit.Chem.rdchem.Mol object at 0x2c1e60130>, pos=[17], weights=[17], edge_mask=[46], mask_rotate=[6, 23]),\n",
       " Data(x=[27, 75], edge_index=[2, 54], edge_attr=[54, 4], z=[27], canonical_smi='CCc1cc(C(=O)O)c(CC)cc1I', mol=<rdkit.Chem.rdchem.Mol object at 0x2c1e60860>, pos=[20], weights=[20], edge_mask=[54], mask_rotate=[6, 27]),\n",
       " Data(x=[27, 75], edge_index=[2, 54], edge_attr=[54, 4], z=[27], canonical_smi='CC(C)(C)c1ccc(C(=O)O)cc1I', mol=<rdkit.Chem.rdchem.Mol object at 0x2c1e60cc0>, pos=[4], weights=[4], edge_mask=[54], mask_rotate=[6, 27]),\n",
       " Data(x=[29, 75], edge_index=[2, 60], edge_attr=[60, 4], z=[29], canonical_smi='O=C(O)c1ccccc1Cc1cc(I)c(O)c(I)c1', mol=<rdkit.Chem.rdchem.Mol object at 0x2c1e60c20>, pos=[47], weights=[47], edge_mask=[60], mask_rotate=[5, 29]),\n",
       " Data(x=[20, 75], edge_index=[2, 40], edge_attr=[40, 4], z=[20], canonical_smi='OCC(O)c1ccc(I)cc1', mol=<rdkit.Chem.rdchem.Mol object at 0x2c1e74680>, pos=[39], weights=[39], edge_mask=[40], mask_rotate=[4, 20]),\n",
       " Data(x=[31, 75], edge_index=[2, 66], edge_attr=[66, 4], z=[31], canonical_smi='CC(=O)N(O)c1ccc2c(c1)Cc1cc(I)ccc1-2', mol=<rdkit.Chem.rdchem.Mol object at 0x2c1e80e00>, pos=[8], weights=[8], edge_mask=[66], mask_rotate=[4, 31]),\n",
       " Data(x=[49, 75], edge_index=[2, 106], edge_attr=[106, 4], z=[49], canonical_smi='COC1(c2cccc(OP(=O)(O)O)c2)OOC12C1CC3CC(C1)CC2C3', mol=<rdkit.Chem.rdchem.Mol object at 0x2c1e8de50>, pos=[122], weights=[122], edge_mask=[106], mask_rotate=[7, 49]),\n",
       " Data(x=[5, 75], edge_index=[2, 8], edge_attr=[8, 4], z=[5], canonical_smi='OP', mol=<rdkit.Chem.rdchem.Mol object at 0x29e7b6450>, pos=[2], weights=[2], edge_mask=[8], mask_rotate=[1, 5]),\n",
       " Data(x=[30, 75], edge_index=[2, 64], edge_attr=[64, 4], z=[30], canonical_smi='CC(O)=Nc1ccc2c(c1)Cc1cc(I)ccc1-2', mol=<rdkit.Chem.rdchem.Mol object at 0x29e7b6810>, pos=[2], weights=[2], edge_mask=[64], mask_rotate=[4, 30]),\n",
       " Data(x=[21, 75], edge_index=[2, 44], edge_attr=[44, 4], z=[21], canonical_smi='Cc1ccc2ccc(I)c(O)c2n1', mol=<rdkit.Chem.rdchem.Mol object at 0x29e7b2720>, pos=[2], weights=[2], edge_mask=[44], mask_rotate=[2, 21]),\n",
       " Data(x=[12, 75], edge_index=[2, 24], edge_attr=[24, 4], z=[12], canonical_smi='Oc1ccc(F)nc1I', mol=<rdkit.Chem.rdchem.Mol object at 0x29e7b2360>, pos=[2], weights=[2], edge_mask=[24], mask_rotate=[1, 12]),\n",
       " Data(x=[22, 75], edge_index=[2, 44], edge_attr=[44, 4], z=[22], canonical_smi='CCOC(=O)c1cc(I)ccc1O', mol=<rdkit.Chem.rdchem.Mol object at 0x29e7b2cc0>, pos=[11], weights=[11], edge_mask=[44], mask_rotate=[5, 22]),\n",
       " Data(x=[17, 75], edge_index=[2, 34], edge_attr=[34, 4], z=[17], canonical_smi='COc1ccc(O)cc1I', mol=<rdkit.Chem.rdchem.Mol object at 0x29e7b64a0>, pos=[2], weights=[2], edge_mask=[34], mask_rotate=[3, 17]),\n",
       " Data(x=[8, 75], edge_index=[2, 14], edge_attr=[14, 4], z=[8], canonical_smi='O=[PH2]C(F)(F)F', mol=<rdkit.Chem.rdchem.Mol object at 0x29e7c4bd0>, pos=[1], weights=[1], edge_mask=[14], mask_rotate=[1, 8]),\n",
       " Data(x=[31, 75], edge_index=[2, 64], edge_attr=[64, 4], z=[31], canonical_smi='[N][N][CH]C(=O)c1cccc(OCc2ccccc2)c1I', mol=<rdkit.Chem.rdchem.Mol object at 0x29e7c4b80>, pos=[25], weights=[25], edge_mask=[64], mask_rotate=[6, 31]),\n",
       " Data(x=[23, 75], edge_index=[2, 48], edge_attr=[48, 4], z=[23], canonical_smi='Nc1ccc(CN2[CH]N=C[N]2)cc1I', mol=<rdkit.Chem.rdchem.Mol object at 0x29e7c4e00>, pos=[5], weights=[5], edge_mask=[48], mask_rotate=[3, 23]),\n",
       " Data(x=[42, 75], edge_index=[2, 88], edge_attr=[88, 4], z=[42], canonical_smi='[NH][P](N1CCCC1)(N1CCCC1)N1CCCC1', mol=<rdkit.Chem.rdchem.Mol object at 0x29e7baa90>, pos=[25], weights=[25], edge_mask=[88], mask_rotate=[4, 42]),\n",
       " Data(x=[4, 75], edge_index=[2, 6], edge_attr=[6, 4], z=[4], canonical_smi='[NH][Si][S]', mol=<rdkit.Chem.rdchem.Mol object at 0x29e7baae0>, pos=[1], weights=[1], edge_mask=[6], mask_rotate=[1, 4]),\n",
       " Data(x=[13, 75], edge_index=[2, 24], edge_attr=[24, 4], z=[13], canonical_smi='[SiH3]S[SiH2]S[SiH3]', mol=<rdkit.Chem.rdchem.Mol object at 0x29e7af1d0>, pos=[4], weights=[4], edge_mask=[24], mask_rotate=[4, 13]),\n",
       " Data(x=[22, 75], edge_index=[2, 44], edge_attr=[44, 4], z=[22], canonical_smi='COC(=O)C(I)=Cc1ccccc1', mol=<rdkit.Chem.rdchem.Mol object at 0x29e7af220>, pos=[3], weights=[3], edge_mask=[44], mask_rotate=[5, 22]),\n",
       " Data(x=[26, 75], edge_index=[2, 54], edge_attr=[54, 4], z=[26], canonical_smi='Ic1ccc(C=Cc2ccccc2)cc1', mol=<rdkit.Chem.rdchem.Mol object at 0x29e7cef90>, pos=[3], weights=[3], edge_mask=[54], mask_rotate=[3, 26]),\n",
       " Data(x=[28, 75], edge_index=[2, 54], edge_attr=[54, 4], z=[28], canonical_smi='CCOC=CP(=O)(CC)CC', mol=<rdkit.Chem.rdchem.Mol object at 0x29e791900>, pos=[51], weights=[51], edge_mask=[54], mask_rotate=[9, 28]),\n",
       " Data(x=[33, 75], edge_index=[2, 70], edge_attr=[70, 4], z=[33], canonical_smi='CC=COCn1c2ccccc2c2cc(I)ccc21', mol=<rdkit.Chem.rdchem.Mol object at 0x29e78f9a0>, pos=[6], weights=[6], edge_mask=[70], mask_rotate=[5, 33]),\n",
       " Data(x=[15, 75], edge_index=[2, 30], edge_attr=[30, 4], z=[15], canonical_smi='COc1cc(Br)c(I)nc1I', mol=<rdkit.Chem.rdchem.Mol object at 0x29e78fdb0>, pos=[1], weights=[1], edge_mask=[30], mask_rotate=[2, 15]),\n",
       " Data(x=[29, 75], edge_index=[2, 64], edge_attr=[64, 4], z=[29], canonical_smi='Brc1ccc(B2Nc3cccc4cccc(c34)N2)s1', mol=<rdkit.Chem.rdchem.Mol object at 0x2c1a51180>, pos=[1], weights=[1], edge_mask=[64], mask_rotate=[1, 29]),\n",
       " Data(x=[37, 75], edge_index=[2, 74], edge_attr=[74, 4], z=[37], canonical_smi='Cl[Si](Cl)(Cl)CCCCCCCCc1cc[nH]c1', mol=<rdkit.Chem.rdchem.Mol object at 0x2c1a514f0>, pos=[924], weights=[924], edge_mask=[74], mask_rotate=[9, 37]),\n",
       " Data(x=[26, 75], edge_index=[2, 54], edge_attr=[54, 4], z=[26], canonical_smi='Cc1cc(I)n(C2CCCCO2)n1', mol=<rdkit.Chem.rdchem.Mol object at 0x2c1a515e0>, pos=[1], weights=[1], edge_mask=[54], mask_rotate=[2, 26]),\n",
       " Data(x=[17, 75], edge_index=[2, 34], edge_attr=[34, 4], z=[17], canonical_smi='Cc1cc(N)c(Cl)cc1I', mol=<rdkit.Chem.rdchem.Mol object at 0x2c1e744a0>, pos=[1], weights=[1], edge_mask=[34], mask_rotate=[2, 17]),\n",
       " Data(x=[18, 75], edge_index=[2, 36], edge_attr=[36, 4], z=[18], canonical_smi='N#Cc1cc(I)c(N)cc1C(F)(F)F', mol=<rdkit.Chem.rdchem.Mol object at 0x2c1ea7e00>, pos=[1], weights=[1], edge_mask=[36], mask_rotate=[3, 18]),\n",
       " Data(x=[30, 75], edge_index=[2, 62], edge_attr=[62, 4], z=[30], canonical_smi='COc1cc(OC)c2c(OC)c(I)ccc2c1I', mol=<rdkit.Chem.rdchem.Mol object at 0x2c1b21bd0>, pos=[1], weights=[1], edge_mask=[62], mask_rotate=[6, 30]),\n",
       " Data(x=[24, 75], edge_index=[2, 50], edge_attr=[50, 4], z=[24], canonical_smi='CCOC(=O)c1n[nH]c2ccc(I)cc12', mol=<rdkit.Chem.rdchem.Mol object at 0x2c1b21310>, pos=[7], weights=[7], edge_mask=[50], mask_rotate=[4, 24]),\n",
       " Data(x=[31, 75], edge_index=[2, 66], edge_attr=[66, 4], z=[31], canonical_smi='COc1ccc2oc(=O)c(-c3ccc(I)cc3)cc2c1', mol=<rdkit.Chem.rdchem.Mol object at 0x2c1b33b80>, pos=[4], weights=[4], edge_mask=[66], mask_rotate=[3, 31]),\n",
       " Data(x=[27, 75], edge_index=[2, 54], edge_attr=[54, 4], z=[27], canonical_smi='N#CCCCCC(=O)c1ccc(I)cc1', mol=<rdkit.Chem.rdchem.Mol object at 0x2c1b36090>, pos=[42], weights=[42], edge_mask=[54], mask_rotate=[6, 27]),\n",
       " Data(x=[18, 75], edge_index=[2, 36], edge_attr=[36, 4], z=[18], canonical_smi='BrCc1ccc(CBr)c(I)c1', mol=<rdkit.Chem.rdchem.Mol object at 0x2c1b48090>, pos=[4], weights=[4], edge_mask=[36], mask_rotate=[2, 18]),\n",
       " Data(x=[27, 75], edge_index=[2, 54], edge_attr=[54, 4], z=[27], canonical_smi='CCCCCc1ccc(I)cc1', mol=<rdkit.Chem.rdchem.Mol object at 0x2c1b48b80>, pos=[22], weights=[22], edge_mask=[54], mask_rotate=[5, 27]),\n",
       " Data(x=[21, 75], edge_index=[2, 42], edge_attr=[42, 4], z=[21], canonical_smi='Cc1ccc(CI)c(C)c1', mol=<rdkit.Chem.rdchem.Mol object at 0x2c1b3d950>, pos=[1], weights=[1], edge_mask=[42], mask_rotate=[3, 21]),\n",
       " Data(x=[15, 75], edge_index=[2, 30], edge_attr=[30, 4], z=[15], canonical_smi='Cc1cccc(I)c1Br', mol=<rdkit.Chem.rdchem.Mol object at 0x2c1b3def0>, pos=[1], weights=[1], edge_mask=[30], mask_rotate=[1, 15]),\n",
       " Data(x=[28, 75], edge_index=[2, 56], edge_attr=[56, 4], z=[28], canonical_smi='CC(C)(C)NC(=O)c1cccc(I)c1', mol=<rdkit.Chem.rdchem.Mol object at 0x2c1b3d860>, pos=[3], weights=[3], edge_mask=[56], mask_rotate=[6, 28]),\n",
       " Data(x=[29, 75], edge_index=[2, 62], edge_attr=[62, 4], z=[29], canonical_smi='Ic1cccc(CSc2nc3ccccc3[nH]2)c1', mol=<rdkit.Chem.rdchem.Mol object at 0x2c1b279f0>, pos=[12], weights=[12], edge_mask=[62], mask_rotate=[3, 29]),\n",
       " Data(x=[22, 75], edge_index=[2, 44], edge_attr=[44, 4], z=[22], canonical_smi='COC(=O)C(=O)Nc1ccc(I)cc1', mol=<rdkit.Chem.rdchem.Mol object at 0x2c1b27bd0>, pos=[4], weights=[4], edge_mask=[44], mask_rotate=[5, 22]),\n",
       " Data(x=[29, 75], edge_index=[2, 58], edge_attr=[58, 4], z=[29], canonical_smi='CC(C)(C)OC(=O)Nc1ccc(F)cc1I', mol=<rdkit.Chem.rdchem.Mol object at 0x2c1b2f9f0>, pos=[3], weights=[3], edge_mask=[58], mask_rotate=[7, 29]),\n",
       " Data(x=[15, 75], edge_index=[2, 30], edge_attr=[30, 4], z=[15], canonical_smi='N#Cc1cc(I)ccc1N', mol=<rdkit.Chem.rdchem.Mol object at 0x2c1b2fbd0>, pos=[1], weights=[1], edge_mask=[30], mask_rotate=[2, 15]),\n",
       " Data(x=[27, 75], edge_index=[2, 54], edge_attr=[54, 4], z=[27], canonical_smi='COCOc1cccc(OS([O])([O])C(F)(F)F)c1I', mol=<rdkit.Chem.rdchem.Mol object at 0x2c1b27720>, pos=[25], weights=[25], edge_mask=[54], mask_rotate=[7, 27]),\n",
       " Data(x=[27, 75], edge_index=[2, 56], edge_attr=[56, 4], z=[27], canonical_smi='CCOC1C(=O)C(=O)C1c1ccc(I)cc1', mol=<rdkit.Chem.rdchem.Mol object at 0x2c1b5a3b0>, pos=[12], weights=[12], edge_mask=[56], mask_rotate=[4, 27]),\n",
       " Data(x=[24, 75], edge_index=[2, 50], edge_attr=[50, 4], z=[24], canonical_smi='O=C(c1ccc(F)cc1)c1ccccc1I', mol=<rdkit.Chem.rdchem.Mol object at 0x2c1b33e50>, pos=[3], weights=[3], edge_mask=[50], mask_rotate=[2, 24]),\n",
       " Data(x=[16, 75], edge_index=[2, 32], edge_attr=[32, 4], z=[16], canonical_smi='NC(=S)c1ccccc1I', mol=<rdkit.Chem.rdchem.Mol object at 0x2c1ae54a0>, pos=[3], weights=[3], edge_mask=[32], mask_rotate=[2, 16]),\n",
       " Data(x=[36, 75], edge_index=[2, 74], edge_attr=[74, 4], z=[36], canonical_smi='CC1(C)OB(Cc2ccccc2C#N)OC1(C)C', mol=<rdkit.Chem.rdchem.Mol object at 0x2c1b54860>, pos=[7], weights=[7], edge_mask=[74], mask_rotate=[7, 36]),\n",
       " Data(x=[27, 75], edge_index=[2, 56], edge_attr=[56, 4], z=[27], canonical_smi='O=C(Cc1ccccc1Cl)c1cccc(I)c1', mol=<rdkit.Chem.rdchem.Mol object at 0x2c1b54c20>, pos=[7], weights=[7], edge_mask=[56], mask_rotate=[3, 27]),\n",
       " Data(x=[19, 75], edge_index=[2, 38], edge_attr=[38, 4], z=[19], canonical_smi='COCc1ccccc1I', mol=<rdkit.Chem.rdchem.Mol object at 0x2c1a5c680>, pos=[4], weights=[4], edge_mask=[38], mask_rotate=[3, 19]),\n",
       " Data(x=[35, 75], edge_index=[2, 74], edge_attr=[74, 4], z=[35], canonical_smi='CCOP1(=O)OC(c2ccccc2)=C(I)c2ccccc21', mol=<rdkit.Chem.rdchem.Mol object at 0x2c1aa7540>, pos=[9], weights=[9], edge_mask=[74], mask_rotate=[4, 35]),\n",
       " Data(x=[19, 75], edge_index=[2, 38], edge_attr=[38, 4], z=[19], canonical_smi='CC(=S)Nc1ccccc1I', mol=<rdkit.Chem.rdchem.Mol object at 0x2c1a8ac70>, pos=[2], weights=[2], edge_mask=[38], mask_rotate=[3, 19]),\n",
       " Data(x=[31, 75], edge_index=[2, 66], edge_attr=[66, 4], z=[31], canonical_smi='O=[N+]([O-])c1c(I)n(S(=O)(=O)c2ccccc2)c2ccccc12', mol=<rdkit.Chem.rdchem.Mol object at 0x2c1a8a5e0>, pos=[4], weights=[4], edge_mask=[66], mask_rotate=[3, 31]),\n",
       " Data(x=[18, 75], edge_index=[2, 38], edge_attr=[38, 4], z=[18], canonical_smi='Cn1nc(I)c2c(Cl)cccc21', mol=<rdkit.Chem.rdchem.Mol object at 0x2c1a8ad10>, pos=[1], weights=[1], edge_mask=[38], mask_rotate=[1, 18]),\n",
       " Data(x=[20, 75], edge_index=[2, 42], edge_attr=[42, 4], z=[20], canonical_smi='N#CCc1c[nH]c2cccc(I)c12', mol=<rdkit.Chem.rdchem.Mol object at 0x29e7e24f0>, pos=[2], weights=[2], edge_mask=[42], mask_rotate=[2, 20]),\n",
       " Data(x=[34, 75], edge_index=[2, 68], edge_attr=[68, 4], z=[34], canonical_smi='CO[Si](C)(C)c1ccc([SiH](C)C)cc1', mol=<rdkit.Chem.rdchem.Mol object at 0x2c1b54b30>, pos=[14], weights=[14], edge_mask=[68], mask_rotate=[8, 34]),\n",
       " Data(x=[29, 75], edge_index=[2, 62], edge_attr=[62, 4], z=[29], canonical_smi='CC1(C)c2cc(Br)ccc2-c2ccc(I)cc21', mol=<rdkit.Chem.rdchem.Mol object at 0x2c1a8a0e0>, pos=[1], weights=[1], edge_mask=[62], mask_rotate=[2, 29]),\n",
       " Data(x=[14, 75], edge_index=[2, 28], edge_attr=[28, 4], z=[14], canonical_smi='FC(F)(F)c1cc(I)ccn1', mol=<rdkit.Chem.rdchem.Mol object at 0x2c1a9ef90>, pos=[1], weights=[1], edge_mask=[28], mask_rotate=[1, 14]),\n",
       " Data(x=[14, 75], edge_index=[2, 28], edge_attr=[28, 4], z=[14], canonical_smi='Cc1ccc(I)cn1', mol=<rdkit.Chem.rdchem.Mol object at 0x2c1a9e860>, pos=[1], weights=[1], edge_mask=[28], mask_rotate=[1, 14]),\n",
       " Data(x=[13, 75], edge_index=[2, 26], edge_attr=[26, 4], z=[13], canonical_smi='Nc1ncc(I)c(=O)[nH]1', mol=<rdkit.Chem.rdchem.Mol object at 0x2c1a5c6d0>, pos=[1], weights=[1], edge_mask=[26], mask_rotate=[1, 13]),\n",
       " Data(x=[40, 75], edge_index=[2, 84], edge_attr=[84, 4], z=[40], canonical_smi='O=C(Nc1cccc(I)c1)c1ccnc(N2CCCCC2)c1', mol=<rdkit.Chem.rdchem.Mol object at 0x29e7e27c0>, pos=[12], weights=[12], edge_mask=[84], mask_rotate=[4, 40]),\n",
       " Data(x=[21, 75], edge_index=[2, 44], edge_attr=[44, 4], z=[21], canonical_smi='COc1ccc2cc(I)cnc2c1', mol=<rdkit.Chem.rdchem.Mol object at 0x2c1a9e2c0>, pos=[2], weights=[2], edge_mask=[44], mask_rotate=[2, 21]),\n",
       " Data(x=[31, 75], edge_index=[2, 66], edge_attr=[66, 4], z=[31], canonical_smi='Cc1ccc(S(=O)(=O)n2cc(I)c3cccnc32)cc1', mol=<rdkit.Chem.rdchem.Mol object at 0x2c1a5fb80>, pos=[4], weights=[4], edge_mask=[66], mask_rotate=[3, 31]),\n",
       " Data(x=[18, 75], edge_index=[2, 38], edge_attr=[38, 4], z=[18], canonical_smi='Ic1ccc(-c2ccno2)cc1', mol=<rdkit.Chem.rdchem.Mol object at 0x1760b4220>, pos=[2], weights=[2], edge_mask=[38], mask_rotate=[1, 18])]"
      ]
     },
     "execution_count": 44,
     "metadata": {},
     "output_type": "execute_result"
    }
   ],
   "source": [
    "jiancha_data"
   ]
  },
  {
   "cell_type": "code",
   "execution_count": 325,
   "metadata": {},
   "outputs": [
    {
     "data": {
      "text/plain": [
       "[Data(x=[6, 75], edge_index=[2, 10], edge_attr=[10, 4], z=[6], canonical_smi='BrP(Br)P(Br)Br', mol=<rdkit.Chem.rdchem.Mol object at 0x2c1af76d0>, pos=[2], weights=[2], edge_mask=[10], mask_rotate=[1, 6]),\n",
       " Data(x=[14, 75], edge_index=[2, 28], edge_attr=[28, 4], z=[14], canonical_smi='N#Cc1c(Cl)c(Cl)c(I)c(C#N)c1Cl', mol=<rdkit.Chem.rdchem.Mol object at 0x2c1af72c0>, pos=[1], weights=[1], edge_mask=[28], mask_rotate=[2, 14]),\n",
       " Data(x=[15, 75], edge_index=[2, 30], edge_attr=[30, 4], z=[15], canonical_smi='Nc1c(I)cncc1C=O', mol=<rdkit.Chem.rdchem.Mol object at 0x2c1af7a90>, pos=[2], weights=[2], edge_mask=[30], mask_rotate=[2, 15]),\n",
       " Data(x=[23, 75], edge_index=[2, 44], edge_attr=[44, 4], z=[23], canonical_smi='CCOC(=O)C(I)C(=O)OCC', mol=<rdkit.Chem.rdchem.Mol object at 0x2c1afea90>, pos=[71], weights=[71], edge_mask=[44], mask_rotate=[8, 23]),\n",
       " Data(x=[19, 75], edge_index=[2, 36], edge_attr=[36, 4], z=[19], canonical_smi='CC(C)(C)C=C=CI', mol=<rdkit.Chem.rdchem.Mol object at 0x2c1ae6c20>, pos=[2], weights=[2], edge_mask=[36], mask_rotate=[6, 19]),\n",
       " Data(x=[14, 75], edge_index=[2, 26], edge_attr=[26, 4], z=[14], canonical_smi='BrCCCCI', mol=<rdkit.Chem.rdchem.Mol object at 0x2c1ae6b30>, pos=[8], weights=[8], edge_mask=[26], mask_rotate=[3, 14]),\n",
       " Data(x=[18, 75], edge_index=[2, 34], edge_attr=[34, 4], z=[18], canonical_smi='CCOC(=O)CC(I)=C(Br)I', mol=<rdkit.Chem.rdchem.Mol object at 0x2c1ad0b30>, pos=[10], weights=[10], edge_mask=[34], mask_rotate=[6, 18]),\n",
       " Data(x=[11, 75], edge_index=[2, 20], edge_attr=[20, 4], z=[11], canonical_smi='Cl[Si](Cl)(Cl)CCI', mol=<rdkit.Chem.rdchem.Mol object at 0x2c1b0ae00>, pos=[2], weights=[2], edge_mask=[20], mask_rotate=[2, 11]),\n",
       " Data(x=[30, 75], edge_index=[2, 60], edge_attr=[60, 4], z=[30], canonical_smi='CC(C)OP1CC(C)C(C)C1', mol=<rdkit.Chem.rdchem.Mol object at 0x2c1af54f0>, pos=[5], weights=[5], edge_mask=[60], mask_rotate=[6, 30]),\n",
       " Data(x=[37, 75], edge_index=[2, 72], edge_attr=[72, 4], z=[37], canonical_smi='CC(C)O[Si](C)(CCCI)OC(C)C', mol=<rdkit.Chem.rdchem.Mol object at 0x2c1af5b30>, pos=[523], weights=[523], edge_mask=[72], mask_rotate=[12, 37]),\n",
       " Data(x=[40, 75], edge_index=[2, 80], edge_attr=[80, 4], z=[40], canonical_smi='CCCCOB(OCCCC)C1CC1C(F)(F)F', mol=<rdkit.Chem.rdchem.Mol object at 0x2c1af5900>, pos=[1838], weights=[1838], edge_mask=[80], mask_rotate=[12, 40]),\n",
       " Data(x=[19, 75], edge_index=[2, 38], edge_attr=[38, 4], z=[19], canonical_smi='CCC1=C(I)CCC1', mol=<rdkit.Chem.rdchem.Mol object at 0x2c1d229f0>, pos=[2], weights=[2], edge_mask=[38], mask_rotate=[2, 19]),\n",
       " Data(x=[23, 75], edge_index=[2, 44], edge_attr=[44, 4], z=[23], canonical_smi='CCOC#C[Si](C)(C)C', mol=<rdkit.Chem.rdchem.Mol object at 0x2c1cef450>, pos=[3], weights=[3], edge_mask=[44], mask_rotate=[8, 23]),\n",
       " Data(x=[30, 75], edge_index=[2, 58], edge_attr=[58, 4], z=[30], canonical_smi='CCCP(=O)(CCC)OCC', mol=<rdkit.Chem.rdchem.Mol object at 0x2c1d459f0>, pos=[206], weights=[206], edge_mask=[58], mask_rotate=[9, 30]),\n",
       " Data(x=[30, 75], edge_index=[2, 58], edge_attr=[58, 4], z=[30], canonical_smi='CN(C)P(F)(F)(N(C)C)N(C)C', mol=<rdkit.Chem.rdchem.Mol object at 0x2c1dbaa40>, pos=[2], weights=[2], edge_mask=[58], mask_rotate=[9, 30]),\n",
       " Data(x=[24, 75], edge_index=[2, 46], edge_attr=[46, 4], z=[24], canonical_smi='COCC[Si](C)(C)C', mol=<rdkit.Chem.rdchem.Mol object at 0x2c1dba680>, pos=[4], weights=[4], edge_mask=[46], mask_rotate=[7, 24]),\n",
       " Data(x=[22, 75], edge_index=[2, 44], edge_attr=[44, 4], z=[22], canonical_smi='CC1C[Si](C)(C)CS1', mol=<rdkit.Chem.rdchem.Mol object at 0x2c1dc72c0>, pos=[1], weights=[1], edge_mask=[44], mask_rotate=[3, 22]),\n",
       " Data(x=[24, 75], edge_index=[2, 48], edge_attr=[48, 4], z=[24], canonical_smi='C[Si]1(C)CC[Si]1(C)C', mol=<rdkit.Chem.rdchem.Mol object at 0x2c1dc7900>, pos=[1], weights=[1], edge_mask=[48], mask_rotate=[4, 24]),\n",
       " Data(x=[33, 75], edge_index=[2, 66], edge_attr=[66, 4], z=[33], canonical_smi='C=CCOc1c(I)cc(C(=O)NN=C(C)C)cc1I', mol=<rdkit.Chem.rdchem.Mol object at 0x2c1dc7db0>, pos=[54], weights=[54], edge_mask=[66], mask_rotate=[10, 33]),\n",
       " Data(x=[28, 75], edge_index=[2, 54], edge_attr=[54, 4], z=[28], canonical_smi='C=CCC(=CI)CCCCC', mol=<rdkit.Chem.rdchem.Mol object at 0x2c1dd9220>, pos=[90], weights=[90], edge_mask=[54], mask_rotate=[9, 28]),\n",
       " Data(x=[69, 75], edge_index=[2, 144], edge_attr=[144, 4], z=[69], canonical_smi='C1CCC([Si](C2CCCCC2)(C2CCCCC2)C2CCCCC2)CC1', mol=<rdkit.Chem.rdchem.Mol object at 0x2c1e00450>, pos=[27], weights=[27], edge_mask=[144], mask_rotate=[4, 69]),\n",
       " Data(x=[27, 75], edge_index=[2, 54], edge_attr=[54, 4], z=[27], canonical_smi='FC(F)(F)C(F)(C1CCCCC1I)C(F)(F)F', mol=<rdkit.Chem.rdchem.Mol object at 0x2c1e003b0>, pos=[1], weights=[1], edge_mask=[54], mask_rotate=[3, 27]),\n",
       " Data(x=[26, 75], edge_index=[2, 54], edge_attr=[54, 4], z=[26], canonical_smi='CC1CCCCC1n1nnnc1I', mol=<rdkit.Chem.rdchem.Mol object at 0x2c1e00db0>, pos=[2], weights=[2], edge_mask=[54], mask_rotate=[2, 26]),\n",
       " Data(x=[18, 75], edge_index=[2, 36], edge_attr=[36, 4], z=[18], canonical_smi='CC1CCOP(N=C=O)O1', mol=<rdkit.Chem.rdchem.Mol object at 0x2c1e13310>, pos=[1], weights=[1], edge_mask=[36], mask_rotate=[3, 18]),\n",
       " Data(x=[13, 75], edge_index=[2, 26], edge_attr=[26, 4], z=[13], canonical_smi='FP(F)C1C=CC=C1', mol=<rdkit.Chem.rdchem.Mol object at 0x2c1e00720>, pos=[2], weights=[2], edge_mask=[26], mask_rotate=[1, 13]),\n",
       " Data(x=[44, 75], edge_index=[2, 90], edge_attr=[90, 4], z=[44], canonical_smi='CC(C)(C)[Si](C)(C)OC1C=CCC2C1C(=O)CS2(=O)=O', mol=<rdkit.Chem.rdchem.Mol object at 0x2c1e004a0>, pos=[5], weights=[5], edge_mask=[90], mask_rotate=[8, 44]),\n",
       " Data(x=[28, 75], edge_index=[2, 54], edge_attr=[54, 4], z=[28], canonical_smi='CC(C)(C)OC(=O)NCCCI', mol=<rdkit.Chem.rdchem.Mol object at 0x2c1dd9720>, pos=[31], weights=[31], edge_mask=[54], mask_rotate=[9, 28]),\n",
       " Data(x=[30, 75], edge_index=[2, 58], edge_attr=[58, 4], z=[30], canonical_smi='CC(C)(C)B(N)C(C)(C)C', mol=<rdkit.Chem.rdchem.Mol object at 0x2c1e13810>, pos=[2], weights=[2], edge_mask=[58], mask_rotate=[9, 30]),\n",
       " Data(x=[31, 75], edge_index=[2, 60], edge_attr=[60, 4], z=[31], canonical_smi='CN(C)[P](N)(N(C)C)N(C)C', mol=<rdkit.Chem.rdchem.Mol object at 0x2c1e21950>, pos=[10], weights=[10], edge_mask=[60], mask_rotate=[10, 31]),\n",
       " Data(x=[25, 75], edge_index=[2, 52], edge_attr=[52, 4], z=[25], canonical_smi='OB(O)c1ccc2c(c1)OCCCO2', mol=<rdkit.Chem.rdchem.Mol object at 0x2c1e21a40>, pos=[4], weights=[4], edge_mask=[52], mask_rotate=[3, 25]),\n",
       " Data(x=[26, 75], edge_index=[2, 52], edge_attr=[52, 4], z=[26], canonical_smi='CCN(C)c1cccc(B(O)O)n1', mol=<rdkit.Chem.rdchem.Mol object at 0x2c1e00270>, pos=[27], weights=[27], edge_mask=[52], mask_rotate=[7, 26]),\n",
       " Data(x=[25, 75], edge_index=[2, 50], edge_attr=[50, 4], z=[25], canonical_smi='O=C(O)C1=CC(OP(=O)(O)O)CCC1', mol=<rdkit.Chem.rdchem.Mol object at 0x2c1e00c20>, pos=[144], weights=[144], edge_mask=[50], mask_rotate=[6, 25]),\n",
       " Data(x=[19, 75], edge_index=[2, 38], edge_attr=[38, 4], z=[19], canonical_smi='Nc1c(I)c(N)c(I)c(C(=O)O)c1I', mol=<rdkit.Chem.rdchem.Mol object at 0x2c1e39590>, pos=[4], weights=[4], edge_mask=[38], mask_rotate=[4, 19]),\n",
       " Data(x=[23, 75], edge_index=[2, 46], edge_attr=[46, 4], z=[23], canonical_smi='COc1cccc(C=CI)c1C(=O)O', mol=<rdkit.Chem.rdchem.Mol object at 0x2c1e60130>, pos=[17], weights=[17], edge_mask=[46], mask_rotate=[6, 23]),\n",
       " Data(x=[27, 75], edge_index=[2, 54], edge_attr=[54, 4], z=[27], canonical_smi='CCc1cc(C(=O)O)c(CC)cc1I', mol=<rdkit.Chem.rdchem.Mol object at 0x2c1e60860>, pos=[20], weights=[20], edge_mask=[54], mask_rotate=[6, 27]),\n",
       " Data(x=[27, 75], edge_index=[2, 54], edge_attr=[54, 4], z=[27], canonical_smi='CC(C)(C)c1ccc(C(=O)O)cc1I', mol=<rdkit.Chem.rdchem.Mol object at 0x2c1e60cc0>, pos=[4], weights=[4], edge_mask=[54], mask_rotate=[6, 27]),\n",
       " Data(x=[29, 75], edge_index=[2, 60], edge_attr=[60, 4], z=[29], canonical_smi='O=C(O)c1ccccc1Cc1cc(I)c(O)c(I)c1', mol=<rdkit.Chem.rdchem.Mol object at 0x2c1e60c20>, pos=[47], weights=[47], edge_mask=[60], mask_rotate=[5, 29]),\n",
       " Data(x=[20, 75], edge_index=[2, 40], edge_attr=[40, 4], z=[20], canonical_smi='OCC(O)c1ccc(I)cc1', mol=<rdkit.Chem.rdchem.Mol object at 0x2c1e74680>, pos=[39], weights=[39], edge_mask=[40], mask_rotate=[4, 20]),\n",
       " Data(x=[31, 75], edge_index=[2, 66], edge_attr=[66, 4], z=[31], canonical_smi='CC(=O)N(O)c1ccc2c(c1)Cc1cc(I)ccc1-2', mol=<rdkit.Chem.rdchem.Mol object at 0x2c1e80e00>, pos=[8], weights=[8], edge_mask=[66], mask_rotate=[4, 31]),\n",
       " Data(x=[49, 75], edge_index=[2, 106], edge_attr=[106, 4], z=[49], canonical_smi='COC1(c2cccc(OP(=O)(O)O)c2)OOC12C1CC3CC(C1)CC2C3', mol=<rdkit.Chem.rdchem.Mol object at 0x2c1e8de50>, pos=[122], weights=[122], edge_mask=[106], mask_rotate=[7, 49]),\n",
       " Data(x=[5, 75], edge_index=[2, 8], edge_attr=[8, 4], z=[5], canonical_smi='OP', mol=<rdkit.Chem.rdchem.Mol object at 0x29e7b6450>, pos=[2], weights=[2], edge_mask=[8], mask_rotate=[1, 5]),\n",
       " Data(x=[30, 75], edge_index=[2, 64], edge_attr=[64, 4], z=[30], canonical_smi='CC(O)=Nc1ccc2c(c1)Cc1cc(I)ccc1-2', mol=<rdkit.Chem.rdchem.Mol object at 0x29e7b6810>, pos=[2], weights=[2], edge_mask=[64], mask_rotate=[4, 30]),\n",
       " Data(x=[21, 75], edge_index=[2, 44], edge_attr=[44, 4], z=[21], canonical_smi='Cc1ccc2ccc(I)c(O)c2n1', mol=<rdkit.Chem.rdchem.Mol object at 0x29e7b2720>, pos=[2], weights=[2], edge_mask=[44], mask_rotate=[2, 21]),\n",
       " Data(x=[12, 75], edge_index=[2, 24], edge_attr=[24, 4], z=[12], canonical_smi='Oc1ccc(F)nc1I', mol=<rdkit.Chem.rdchem.Mol object at 0x29e7b2360>, pos=[2], weights=[2], edge_mask=[24], mask_rotate=[1, 12]),\n",
       " Data(x=[22, 75], edge_index=[2, 44], edge_attr=[44, 4], z=[22], canonical_smi='CCOC(=O)c1cc(I)ccc1O', mol=<rdkit.Chem.rdchem.Mol object at 0x29e7b2cc0>, pos=[11], weights=[11], edge_mask=[44], mask_rotate=[5, 22]),\n",
       " Data(x=[17, 75], edge_index=[2, 34], edge_attr=[34, 4], z=[17], canonical_smi='COc1ccc(O)cc1I', mol=<rdkit.Chem.rdchem.Mol object at 0x29e7b64a0>, pos=[2], weights=[2], edge_mask=[34], mask_rotate=[3, 17]),\n",
       " Data(x=[8, 75], edge_index=[2, 14], edge_attr=[14, 4], z=[8], canonical_smi='O=[PH2]C(F)(F)F', mol=<rdkit.Chem.rdchem.Mol object at 0x29e7c4bd0>, pos=[1], weights=[1], edge_mask=[14], mask_rotate=[1, 8]),\n",
       " Data(x=[31, 75], edge_index=[2, 64], edge_attr=[64, 4], z=[31], canonical_smi='[N][N][CH]C(=O)c1cccc(OCc2ccccc2)c1I', mol=<rdkit.Chem.rdchem.Mol object at 0x29e7c4b80>, pos=[25], weights=[25], edge_mask=[64], mask_rotate=[6, 31]),\n",
       " Data(x=[23, 75], edge_index=[2, 48], edge_attr=[48, 4], z=[23], canonical_smi='Nc1ccc(CN2[CH]N=C[N]2)cc1I', mol=<rdkit.Chem.rdchem.Mol object at 0x29e7c4e00>, pos=[5], weights=[5], edge_mask=[48], mask_rotate=[3, 23]),\n",
       " Data(x=[42, 75], edge_index=[2, 88], edge_attr=[88, 4], z=[42], canonical_smi='[NH][P](N1CCCC1)(N1CCCC1)N1CCCC1', mol=<rdkit.Chem.rdchem.Mol object at 0x29e7baa90>, pos=[25], weights=[25], edge_mask=[88], mask_rotate=[4, 42]),\n",
       " Data(x=[4, 75], edge_index=[2, 6], edge_attr=[6, 4], z=[4], canonical_smi='[NH][Si][S]', mol=<rdkit.Chem.rdchem.Mol object at 0x29e7baae0>, pos=[1], weights=[1], edge_mask=[6], mask_rotate=[1, 4]),\n",
       " Data(x=[13, 75], edge_index=[2, 24], edge_attr=[24, 4], z=[13], canonical_smi='[SiH3]S[SiH2]S[SiH3]', mol=<rdkit.Chem.rdchem.Mol object at 0x29e7af1d0>, pos=[4], weights=[4], edge_mask=[24], mask_rotate=[4, 13]),\n",
       " Data(x=[22, 75], edge_index=[2, 44], edge_attr=[44, 4], z=[22], canonical_smi='COC(=O)C(I)=Cc1ccccc1', mol=<rdkit.Chem.rdchem.Mol object at 0x29e7af220>, pos=[3], weights=[3], edge_mask=[44], mask_rotate=[5, 22]),\n",
       " Data(x=[26, 75], edge_index=[2, 54], edge_attr=[54, 4], z=[26], canonical_smi='Ic1ccc(C=Cc2ccccc2)cc1', mol=<rdkit.Chem.rdchem.Mol object at 0x29e7cef90>, pos=[3], weights=[3], edge_mask=[54], mask_rotate=[3, 26]),\n",
       " Data(x=[28, 75], edge_index=[2, 54], edge_attr=[54, 4], z=[28], canonical_smi='CCOC=CP(=O)(CC)CC', mol=<rdkit.Chem.rdchem.Mol object at 0x29e791900>, pos=[51], weights=[51], edge_mask=[54], mask_rotate=[9, 28]),\n",
       " Data(x=[33, 75], edge_index=[2, 70], edge_attr=[70, 4], z=[33], canonical_smi='CC=COCn1c2ccccc2c2cc(I)ccc21', mol=<rdkit.Chem.rdchem.Mol object at 0x29e78f9a0>, pos=[6], weights=[6], edge_mask=[70], mask_rotate=[5, 33]),\n",
       " Data(x=[15, 75], edge_index=[2, 30], edge_attr=[30, 4], z=[15], canonical_smi='COc1cc(Br)c(I)nc1I', mol=<rdkit.Chem.rdchem.Mol object at 0x29e78fdb0>, pos=[1], weights=[1], edge_mask=[30], mask_rotate=[2, 15]),\n",
       " Data(x=[29, 75], edge_index=[2, 64], edge_attr=[64, 4], z=[29], canonical_smi='Brc1ccc(B2Nc3cccc4cccc(c34)N2)s1', mol=<rdkit.Chem.rdchem.Mol object at 0x2c1a51180>, pos=[1], weights=[1], edge_mask=[64], mask_rotate=[1, 29]),\n",
       " Data(x=[37, 75], edge_index=[2, 74], edge_attr=[74, 4], z=[37], canonical_smi='Cl[Si](Cl)(Cl)CCCCCCCCc1cc[nH]c1', mol=<rdkit.Chem.rdchem.Mol object at 0x2c1a514f0>, pos=[924], weights=[924], edge_mask=[74], mask_rotate=[9, 37]),\n",
       " Data(x=[26, 75], edge_index=[2, 54], edge_attr=[54, 4], z=[26], canonical_smi='Cc1cc(I)n(C2CCCCO2)n1', mol=<rdkit.Chem.rdchem.Mol object at 0x2c1a515e0>, pos=[1], weights=[1], edge_mask=[54], mask_rotate=[2, 26]),\n",
       " Data(x=[17, 75], edge_index=[2, 34], edge_attr=[34, 4], z=[17], canonical_smi='Cc1cc(N)c(Cl)cc1I', mol=<rdkit.Chem.rdchem.Mol object at 0x2c1e744a0>, pos=[1], weights=[1], edge_mask=[34], mask_rotate=[2, 17]),\n",
       " Data(x=[18, 75], edge_index=[2, 36], edge_attr=[36, 4], z=[18], canonical_smi='N#Cc1cc(I)c(N)cc1C(F)(F)F', mol=<rdkit.Chem.rdchem.Mol object at 0x2c1ea7e00>, pos=[1], weights=[1], edge_mask=[36], mask_rotate=[3, 18]),\n",
       " Data(x=[30, 75], edge_index=[2, 62], edge_attr=[62, 4], z=[30], canonical_smi='COc1cc(OC)c2c(OC)c(I)ccc2c1I', mol=<rdkit.Chem.rdchem.Mol object at 0x2c1b21bd0>, pos=[1], weights=[1], edge_mask=[62], mask_rotate=[6, 30]),\n",
       " Data(x=[24, 75], edge_index=[2, 50], edge_attr=[50, 4], z=[24], canonical_smi='CCOC(=O)c1n[nH]c2ccc(I)cc12', mol=<rdkit.Chem.rdchem.Mol object at 0x2c1b21310>, pos=[7], weights=[7], edge_mask=[50], mask_rotate=[4, 24]),\n",
       " Data(x=[31, 75], edge_index=[2, 66], edge_attr=[66, 4], z=[31], canonical_smi='COc1ccc2oc(=O)c(-c3ccc(I)cc3)cc2c1', mol=<rdkit.Chem.rdchem.Mol object at 0x2c1b33b80>, pos=[4], weights=[4], edge_mask=[66], mask_rotate=[3, 31]),\n",
       " Data(x=[27, 75], edge_index=[2, 54], edge_attr=[54, 4], z=[27], canonical_smi='N#CCCCCC(=O)c1ccc(I)cc1', mol=<rdkit.Chem.rdchem.Mol object at 0x2c1b36090>, pos=[42], weights=[42], edge_mask=[54], mask_rotate=[6, 27]),\n",
       " Data(x=[18, 75], edge_index=[2, 36], edge_attr=[36, 4], z=[18], canonical_smi='BrCc1ccc(CBr)c(I)c1', mol=<rdkit.Chem.rdchem.Mol object at 0x2c1b48090>, pos=[4], weights=[4], edge_mask=[36], mask_rotate=[2, 18]),\n",
       " Data(x=[27, 75], edge_index=[2, 54], edge_attr=[54, 4], z=[27], canonical_smi='CCCCCc1ccc(I)cc1', mol=<rdkit.Chem.rdchem.Mol object at 0x2c1b48b80>, pos=[22], weights=[22], edge_mask=[54], mask_rotate=[5, 27]),\n",
       " Data(x=[21, 75], edge_index=[2, 42], edge_attr=[42, 4], z=[21], canonical_smi='Cc1ccc(CI)c(C)c1', mol=<rdkit.Chem.rdchem.Mol object at 0x2c1b3d950>, pos=[1], weights=[1], edge_mask=[42], mask_rotate=[3, 21]),\n",
       " Data(x=[15, 75], edge_index=[2, 30], edge_attr=[30, 4], z=[15], canonical_smi='Cc1cccc(I)c1Br', mol=<rdkit.Chem.rdchem.Mol object at 0x2c1b3def0>, pos=[1], weights=[1], edge_mask=[30], mask_rotate=[1, 15]),\n",
       " Data(x=[28, 75], edge_index=[2, 56], edge_attr=[56, 4], z=[28], canonical_smi='CC(C)(C)NC(=O)c1cccc(I)c1', mol=<rdkit.Chem.rdchem.Mol object at 0x2c1b3d860>, pos=[3], weights=[3], edge_mask=[56], mask_rotate=[6, 28]),\n",
       " Data(x=[29, 75], edge_index=[2, 62], edge_attr=[62, 4], z=[29], canonical_smi='Ic1cccc(CSc2nc3ccccc3[nH]2)c1', mol=<rdkit.Chem.rdchem.Mol object at 0x2c1b279f0>, pos=[12], weights=[12], edge_mask=[62], mask_rotate=[3, 29]),\n",
       " Data(x=[22, 75], edge_index=[2, 44], edge_attr=[44, 4], z=[22], canonical_smi='COC(=O)C(=O)Nc1ccc(I)cc1', mol=<rdkit.Chem.rdchem.Mol object at 0x2c1b27bd0>, pos=[4], weights=[4], edge_mask=[44], mask_rotate=[5, 22]),\n",
       " Data(x=[29, 75], edge_index=[2, 58], edge_attr=[58, 4], z=[29], canonical_smi='CC(C)(C)OC(=O)Nc1ccc(F)cc1I', mol=<rdkit.Chem.rdchem.Mol object at 0x2c1b2f9f0>, pos=[3], weights=[3], edge_mask=[58], mask_rotate=[7, 29]),\n",
       " Data(x=[15, 75], edge_index=[2, 30], edge_attr=[30, 4], z=[15], canonical_smi='N#Cc1cc(I)ccc1N', mol=<rdkit.Chem.rdchem.Mol object at 0x2c1b2fbd0>, pos=[1], weights=[1], edge_mask=[30], mask_rotate=[2, 15]),\n",
       " Data(x=[27, 75], edge_index=[2, 54], edge_attr=[54, 4], z=[27], canonical_smi='COCOc1cccc(OS([O])([O])C(F)(F)F)c1I', mol=<rdkit.Chem.rdchem.Mol object at 0x2c1b27720>, pos=[25], weights=[25], edge_mask=[54], mask_rotate=[7, 27]),\n",
       " Data(x=[27, 75], edge_index=[2, 56], edge_attr=[56, 4], z=[27], canonical_smi='CCOC1C(=O)C(=O)C1c1ccc(I)cc1', mol=<rdkit.Chem.rdchem.Mol object at 0x2c1b5a3b0>, pos=[12], weights=[12], edge_mask=[56], mask_rotate=[4, 27]),\n",
       " Data(x=[24, 75], edge_index=[2, 50], edge_attr=[50, 4], z=[24], canonical_smi='O=C(c1ccc(F)cc1)c1ccccc1I', mol=<rdkit.Chem.rdchem.Mol object at 0x2c1b33e50>, pos=[3], weights=[3], edge_mask=[50], mask_rotate=[2, 24]),\n",
       " Data(x=[16, 75], edge_index=[2, 32], edge_attr=[32, 4], z=[16], canonical_smi='NC(=S)c1ccccc1I', mol=<rdkit.Chem.rdchem.Mol object at 0x2c1ae54a0>, pos=[3], weights=[3], edge_mask=[32], mask_rotate=[2, 16]),\n",
       " Data(x=[36, 75], edge_index=[2, 74], edge_attr=[74, 4], z=[36], canonical_smi='CC1(C)OB(Cc2ccccc2C#N)OC1(C)C', mol=<rdkit.Chem.rdchem.Mol object at 0x2c1b54860>, pos=[7], weights=[7], edge_mask=[74], mask_rotate=[7, 36]),\n",
       " Data(x=[27, 75], edge_index=[2, 56], edge_attr=[56, 4], z=[27], canonical_smi='O=C(Cc1ccccc1Cl)c1cccc(I)c1', mol=<rdkit.Chem.rdchem.Mol object at 0x2c1b54c20>, pos=[7], weights=[7], edge_mask=[56], mask_rotate=[3, 27]),\n",
       " Data(x=[19, 75], edge_index=[2, 38], edge_attr=[38, 4], z=[19], canonical_smi='COCc1ccccc1I', mol=<rdkit.Chem.rdchem.Mol object at 0x2c1a5c680>, pos=[4], weights=[4], edge_mask=[38], mask_rotate=[3, 19]),\n",
       " Data(x=[35, 75], edge_index=[2, 74], edge_attr=[74, 4], z=[35], canonical_smi='CCOP1(=O)OC(c2ccccc2)=C(I)c2ccccc21', mol=<rdkit.Chem.rdchem.Mol object at 0x2c1aa7540>, pos=[9], weights=[9], edge_mask=[74], mask_rotate=[4, 35]),\n",
       " Data(x=[19, 75], edge_index=[2, 38], edge_attr=[38, 4], z=[19], canonical_smi='CC(=S)Nc1ccccc1I', mol=<rdkit.Chem.rdchem.Mol object at 0x2c1a8ac70>, pos=[2], weights=[2], edge_mask=[38], mask_rotate=[3, 19]),\n",
       " Data(x=[31, 75], edge_index=[2, 66], edge_attr=[66, 4], z=[31], canonical_smi='O=[N+]([O-])c1c(I)n(S(=O)(=O)c2ccccc2)c2ccccc12', mol=<rdkit.Chem.rdchem.Mol object at 0x2c1a8a5e0>, pos=[4], weights=[4], edge_mask=[66], mask_rotate=[3, 31]),\n",
       " Data(x=[18, 75], edge_index=[2, 38], edge_attr=[38, 4], z=[18], canonical_smi='Cn1nc(I)c2c(Cl)cccc21', mol=<rdkit.Chem.rdchem.Mol object at 0x2c1a8ad10>, pos=[1], weights=[1], edge_mask=[38], mask_rotate=[1, 18]),\n",
       " Data(x=[20, 75], edge_index=[2, 42], edge_attr=[42, 4], z=[20], canonical_smi='N#CCc1c[nH]c2cccc(I)c12', mol=<rdkit.Chem.rdchem.Mol object at 0x29e7e24f0>, pos=[2], weights=[2], edge_mask=[42], mask_rotate=[2, 20]),\n",
       " Data(x=[34, 75], edge_index=[2, 68], edge_attr=[68, 4], z=[34], canonical_smi='CO[Si](C)(C)c1ccc([SiH](C)C)cc1', mol=<rdkit.Chem.rdchem.Mol object at 0x2c1b54b30>, pos=[14], weights=[14], edge_mask=[68], mask_rotate=[8, 34]),\n",
       " Data(x=[29, 75], edge_index=[2, 62], edge_attr=[62, 4], z=[29], canonical_smi='CC1(C)c2cc(Br)ccc2-c2ccc(I)cc21', mol=<rdkit.Chem.rdchem.Mol object at 0x2c1a8a0e0>, pos=[1], weights=[1], edge_mask=[62], mask_rotate=[2, 29]),\n",
       " Data(x=[14, 75], edge_index=[2, 28], edge_attr=[28, 4], z=[14], canonical_smi='FC(F)(F)c1cc(I)ccn1', mol=<rdkit.Chem.rdchem.Mol object at 0x2c1a9ef90>, pos=[1], weights=[1], edge_mask=[28], mask_rotate=[1, 14]),\n",
       " Data(x=[14, 75], edge_index=[2, 28], edge_attr=[28, 4], z=[14], canonical_smi='Cc1ccc(I)cn1', mol=<rdkit.Chem.rdchem.Mol object at 0x2c1a9e860>, pos=[1], weights=[1], edge_mask=[28], mask_rotate=[1, 14]),\n",
       " Data(x=[13, 75], edge_index=[2, 26], edge_attr=[26, 4], z=[13], canonical_smi='Nc1ncc(I)c(=O)[nH]1', mol=<rdkit.Chem.rdchem.Mol object at 0x2c1a5c6d0>, pos=[1], weights=[1], edge_mask=[26], mask_rotate=[1, 13]),\n",
       " Data(x=[40, 75], edge_index=[2, 84], edge_attr=[84, 4], z=[40], canonical_smi='O=C(Nc1cccc(I)c1)c1ccnc(N2CCCCC2)c1', mol=<rdkit.Chem.rdchem.Mol object at 0x29e7e27c0>, pos=[12], weights=[12], edge_mask=[84], mask_rotate=[4, 40]),\n",
       " Data(x=[21, 75], edge_index=[2, 44], edge_attr=[44, 4], z=[21], canonical_smi='COc1ccc2cc(I)cnc2c1', mol=<rdkit.Chem.rdchem.Mol object at 0x2c1a9e2c0>, pos=[2], weights=[2], edge_mask=[44], mask_rotate=[2, 21]),\n",
       " Data(x=[31, 75], edge_index=[2, 66], edge_attr=[66, 4], z=[31], canonical_smi='Cc1ccc(S(=O)(=O)n2cc(I)c3cccnc32)cc1', mol=<rdkit.Chem.rdchem.Mol object at 0x2c1a5fb80>, pos=[4], weights=[4], edge_mask=[66], mask_rotate=[3, 31]),\n",
       " Data(x=[18, 75], edge_index=[2, 38], edge_attr=[38, 4], z=[18], canonical_smi='Ic1ccc(-c2ccno2)cc1', mol=<rdkit.Chem.rdchem.Mol object at 0x1760b4220>, pos=[2], weights=[2], edge_mask=[38], mask_rotate=[1, 18])]"
      ]
     },
     "execution_count": 325,
     "metadata": {},
     "output_type": "execute_result"
    }
   ],
   "source": [
    "jiancha_data"
   ]
  },
  {
   "cell_type": "code",
   "execution_count": 711,
   "metadata": {},
   "outputs": [],
   "source": [
    "smile_pickle_path = 'torsional-diffusion/shui_smile_list.pkl'"
   ]
  },
  {
   "cell_type": "code",
   "execution_count": 712,
   "metadata": {},
   "outputs": [],
   "source": [
    "with open(smile_pickle_path, 'rb') as f:\n",
    "    smile_crosmile_list = pickle.load(f)"
   ]
  },
  {
   "cell_type": "code",
   "execution_count": 713,
   "metadata": {},
   "outputs": [
    {
     "data": {
      "text/plain": [
       "96"
      ]
     },
     "execution_count": 713,
     "metadata": {},
     "output_type": "execute_result"
    }
   ],
   "source": [
    "len(smile_crosmile_list)"
   ]
  },
  {
   "cell_type": "code",
   "execution_count": 714,
   "metadata": {},
   "outputs": [],
   "source": [
    "smile_list_path = [x[2] for x in smile_crosmile_list]"
   ]
  },
  {
   "cell_type": "code",
   "execution_count": 715,
   "metadata": {},
   "outputs": [],
   "source": [
    "dict_groud_true = {}"
   ]
  },
  {
   "cell_type": "code",
   "execution_count": 716,
   "metadata": {},
   "outputs": [
    {
     "name": "stdout",
     "output_type": "stream",
     "text": [
      "96\n",
      "96\n"
     ]
    }
   ],
   "source": [
    "smile_list_zhua = [x[0] for x in smile_crosmile_list]\n",
    "smile_list = [x[2] for x in smile_crosmile_list]\n",
    "print(len(set(smile_list)))\n",
    "print(len([s for s in smile_list if s.endswith(\".pickle\")]))"
   ]
  },
  {
   "cell_type": "code",
   "execution_count": 717,
   "metadata": {},
   "outputs": [],
   "source": [
    "# 存smile\n",
    "smile_list_all = []\n",
    "# 存cros smile\n",
    "cro_list_all = []"
   ]
  },
  {
   "cell_type": "code",
   "execution_count": 718,
   "metadata": {},
   "outputs": [
    {
     "name": "stdout",
     "output_type": "stream",
     "text": [
      "96\n"
     ]
    }
   ],
   "source": [
    "def load_all_pickles(directory):\n",
    "    all_pickles = []\n",
    "    # 遍历文件夹中所有文件\n",
    "    for file_name in os.listdir(directory):\n",
    "        # 检查文件是否以 .pickle 结尾\n",
    "        if file_name.endswith('.pickle') and file_name in smile_list:\n",
    "            #count+=1\n",
    "            file_path = os.path.join(directory, file_name)\n",
    "            index = smile_list.index(file_name)\n",
    "            cro_smile = smile_crosmile_list[index][1]\n",
    "            smile_a = smile_list_zhua[index]\n",
    "            try:\n",
    "                # 加载 pickle 文件\n",
    "                with open(file_path, 'rb') as f:\n",
    "                    current_pkl = pickle.load(f)\n",
    "                # 保存文件名和内容\n",
    "                    true_smile = current_pkl['smiles']\n",
    "                # get the cro smile\n",
    "                    true_conf_list = []\n",
    "                    for i in range(len(current_pkl['conformers'])):\n",
    "                        current_conf_rd_mol = current_pkl['conformers'][i]['rd_mol']\n",
    "                        true_conf_list.append(current_conf_rd_mol)\n",
    "                    # 已经被存进去了\n",
    "                    if cro_smile in dict_groud_true:\n",
    "                        del dict_groud_true[cro_smile]\n",
    "                        delete_index = cro_list_all.index(cro_smile)\n",
    "                        # 同步！\n",
    "                        del cro_list_all[delete_index]\n",
    "                        del smile_list_all[delete_index]\n",
    "                        continue;\n",
    "                    dict_groud_true[cro_smile] = true_conf_list\n",
    "                    cro_list_all.append(cro_smile)\n",
    "                    smile_list_all.append(smile_a)\n",
    "\n",
    "            except Exception as e:\n",
    "                print(f\"加载文件 {file_name} 时出错: {e}\")\n",
    "\n",
    "# 充满groupby file的folder，用于查找test piclke生成充满cro smile，smile的groud true dict\n",
    "\n",
    "directory_path = \"shui\"  \n",
    "load_all_pickles(directory_path)\n",
    "\n",
    "print(len(dict_groud_true))"
   ]
  },
  {
   "cell_type": "code",
   "execution_count": 721,
   "metadata": {},
   "outputs": [],
   "source": [
    "dict_groud_true_path = 'dict_groud_true_path_shui.pkl'\n",
    "with open(dict_groud_true_path, 'wb') as f:\n",
    "    pickle.dump(dict_groud_true, f)"
   ]
  },
  {
   "cell_type": "code",
   "execution_count": 722,
   "metadata": {},
   "outputs": [],
   "source": [
    "number_conf_list = []"
   ]
  },
  {
   "cell_type": "code",
   "execution_count": 723,
   "metadata": {},
   "outputs": [],
   "source": [
    "for cros_smile in cro_list_all:\n",
    "    cros_smile_list = dict_groud_true[cros_smile]\n",
    "    number_conf = len(cros_smile_list)\n",
    "    number_conf_list.append(number_conf)"
   ]
  },
  {
   "cell_type": "code",
   "execution_count": 725,
   "metadata": {},
   "outputs": [],
   "source": [
    "data_try = pd.DataFrame({\n",
    "    \"smiles\": smile_list_all,\n",
    "    \"n_conformers\": number_conf_list,\n",
    "    \"corrected_smiles\": cro_list_all\n",
    "    })"
   ]
  },
  {
   "cell_type": "code",
   "execution_count": 726,
   "metadata": {},
   "outputs": [
    {
     "data": {
      "text/plain": [
       "smiles              [H]c1c([H])c([Si](OC([H])([H])[H])(C([H])([H])...\n",
       "n_conformers                                                       14\n",
       "corrected_smiles                      CO[Si](C)(C)c1ccc([SiH](C)C)cc1\n",
       "Name: 30, dtype: object"
      ]
     },
     "execution_count": 726,
     "metadata": {},
     "output_type": "execute_result"
    }
   ],
   "source": [
    "data_try.iloc[30,:]"
   ]
  },
  {
   "cell_type": "code",
   "execution_count": 727,
   "metadata": {},
   "outputs": [
    {
     "name": "stdout",
     "output_type": "stream",
     "text": [
      "CSV file saved to: torsional-diffusion/shui_test.csv\n"
     ]
    }
   ],
   "source": [
    "output_path = 'torsional-diffusion/shui_test.csv'  # Specify the desired file path\n",
    "data_try.to_csv(output_path, index=False)\n",
    "\n",
    "print(f\"CSV file saved to: {output_path}\")"
   ]
  },
  {
   "cell_type": "code",
   "execution_count": 732,
   "metadata": {},
   "outputs": [
    {
     "data": {
      "text/plain": [
       "90"
      ]
     },
     "execution_count": 732,
     "metadata": {},
     "output_type": "execute_result"
    }
   ],
   "source": [
    "len(dict_groud_true['C=CCC(=CI)CCCCC'])"
   ]
  },
  {
   "cell_type": "code",
   "execution_count": 733,
   "metadata": {},
   "outputs": [
    {
     "data": {
      "text/plain": [
       "73"
      ]
     },
     "execution_count": 733,
     "metadata": {},
     "output_type": "execute_result"
    }
   ],
   "source": [
    "cro_list_all.index('C=CCC(=CI)CCCCC')"
   ]
  },
  {
   "cell_type": "markdown",
   "metadata": {},
   "source": [
    "# 抓内鬼"
   ]
  },
  {
   "cell_type": "code",
   "execution_count": 701,
   "metadata": {},
   "outputs": [],
   "source": [
    "dict_groud_true_path = 'torsional-diffusion/dict_groud_true_path_hexane.pkl'"
   ]
  },
  {
   "cell_type": "code",
   "execution_count": 702,
   "metadata": {},
   "outputs": [],
   "source": [
    "with open(dict_groud_true_path, 'rb') as f:\n",
    "    dict_ground_true = pickle.load(f)\n",
    "    "
   ]
  },
  {
   "cell_type": "code",
   "execution_count": 710,
   "metadata": {},
   "outputs": [
    {
     "data": {
      "text/plain": [
       "89"
      ]
     },
     "execution_count": 710,
     "metadata": {},
     "output_type": "execute_result"
    }
   ],
   "source": [
    "len(dict_ground_true['COC12C(COC(N)=O)C3=C(C(=O)C(C)=C(Nc4ccc(I)cc4)C3=O)N1CC1NC12'])"
   ]
  },
  {
   "cell_type": "code",
   "execution_count": null,
   "metadata": {},
   "outputs": [],
   "source": []
  },
  {
   "cell_type": "markdown",
   "metadata": {},
   "source": [
    "# Visualization"
   ]
  },
  {
   "cell_type": "code",
   "execution_count": 26,
   "metadata": {},
   "outputs": [],
   "source": [
    "from rdkit.Chem import AllChem"
   ]
  },
  {
   "cell_type": "code",
   "execution_count": 20,
   "metadata": {},
   "outputs": [],
   "source": [
    "def mmff_energy(mol):\n",
    "    energy = AllChem.MMFFGetMoleculeForceField(mol, AllChem.MMFFGetMoleculeProperties(mol, mmffVariant='MMFF94s')).CalcEnergy()\n",
    "    return energy"
   ]
  },
  {
   "cell_type": "code",
   "execution_count": 21,
   "metadata": {},
   "outputs": [],
   "source": [
    "from rdkit.Chem.rdmolfiles import MolToPDBBlock\n",
    "import rdkit.Chem\n",
    "import copy\n",
    "from collections import defaultdict\n",
    "import numpy as np\n",
    "import rdkit.Chem\n",
    "import torch\n",
    "from rdkit import Geometry\n",
    "from rdkit.Chem.rdmolfiles import MolToPDBBlock\n",
    "\n",
    "\n",
    "class PDBFile:\n",
    "    def __init__(self, mol):\n",
    "        self.parts = defaultdict(dict)\n",
    "        self.mol = copy.deepcopy(mol)\n",
    "        [self.mol.RemoveConformer(j) for j in range(mol.GetNumConformers()) if j]\n",
    "\n",
    "    def add(self, coords, order, part=0, repeat=1):\n",
    "        if type(coords) in [rdkit.Chem.Mol, rdkit.Chem.RWMol]:\n",
    "            block = MolToPDBBlock(coords).split('\\n')[:-2]\n",
    "            self.parts[part][order] = {'block': block, 'repeat': repeat}\n",
    "            return\n",
    "        elif type(coords) is np.ndarray:\n",
    "            coords = coords.astype(np.float64)\n",
    "        elif type(coords) is torch.Tensor:\n",
    "            coords = coords.double().numpy()\n",
    "        for i in range(coords.shape[0]):\n",
    "            self.mol.GetConformer(0).SetAtomPosition(i, Geometry.Point3D(coords[i, 0], coords[i, 1], coords[i, 2]))\n",
    "        block = MolToPDBBlock(self.mol).split('\\n')[:-2]\n",
    "        self.parts[part][order] = {'block': block, 'repeat': repeat}\n",
    "\n",
    "    def write(self, path=None, limit_parts=None):\n",
    "        is_first = True\n",
    "        str_ = ''\n",
    "        for part in sorted(self.parts.keys()):\n",
    "            if limit_parts and part >= limit_parts:\n",
    "                break\n",
    "            part = self.parts[part]\n",
    "            keys_positive = sorted(filter(lambda x: x >= 0, part.keys()))\n",
    "            keys_negative = sorted(filter(lambda x: x < 0, part.keys()))\n",
    "            keys = list(keys_positive) + list(keys_negative)\n",
    "            for key in keys:\n",
    "                block = part[key]['block']\n",
    "                times = part[key]['repeat']\n",
    "                for _ in range(times):\n",
    "                    if not is_first:\n",
    "                        block = [line for line in block if 'CONECT' not in line]\n",
    "                    is_first = False\n",
    "                    str_ += 'MODEL\\n'\n",
    "                    str_ += '\\n'.join(block)\n",
    "                    str_ += '\\nENDMDL\\n'\n",
    "        if not path:\n",
    "            return str_\n",
    "        with open(path, 'w') as f:\n",
    "            f.write(str_)"
   ]
  },
  {
   "cell_type": "code",
   "execution_count": 35,
   "metadata": {},
   "outputs": [],
   "source": [
    "from rdkit import Chem\n",
    "from rdkit.Chem import AllChem\n",
    "from rdkit.Chem import Draw\n",
    "\n",
    "# If you want to just view the existing 3D coordinates:\n",
    "from IPython.display import display\n",
    "import py3Dmol\n",
    "\n",
    "def view_mol_3d(mol):\n",
    "    \"\"\"\n",
    "    View molecule in 3D using py3Dmol\n",
    "    \"\"\"\n",
    "    # Create a 3D viewer object\n",
    "    viewer = py3Dmol.view(width=800, height=600)\n",
    "    \n",
    "    # Convert molecule to molblock\n",
    "    mol_block = Chem.MolToMolBlock(mol)\n",
    "    \n",
    "    # Add the molecule\n",
    "    viewer.addModel(mol_block, \"mol\")\n",
    "    \n",
    "    # Style the visualization\n",
    "    viewer.setStyle({'stick':{}})\n",
    "    viewer.zoomTo()\n",
    "    \n",
    "    return viewer.show()"
   ]
  },
  {
   "cell_type": "code",
   "execution_count": 4,
   "metadata": {},
   "outputs": [],
   "source": [
    "import pandas as pd\n",
    "data = pd.read_csv(\"torsional-diffusion/shui_test.csv\")"
   ]
  },
  {
   "cell_type": "code",
   "execution_count": 7,
   "metadata": {},
   "outputs": [],
   "source": [
    "# Define functions to identify long-chain alkanes and organic acids\n",
    "def is_long_chain_alkane(smiles):\n",
    "    return 'C' * 5 in smiles\n",
    "\n",
    "def is_organic_acid(smiles):\n",
    "    return 'C(=O)O' in smiles\n",
    "\n",
    "# Apply these functions to the 'corrected_smiles' column\n",
    "data['is_long_chain_alkane'] = data['corrected_smiles'].apply(is_long_chain_alkane)\n",
    "data['is_organic_acid'] = data['corrected_smiles'].apply(is_organic_acid)\n",
    "\n",
    "# Filter rows where the molecule is either a long-chain alkane or an organic acid\n",
    "filtered_data = data[data['is_long_chain_alkane'] | data['is_organic_acid']]\n",
    "\n",
    "\n"
   ]
  },
  {
   "cell_type": "code",
   "execution_count": 8,
   "metadata": {},
   "outputs": [
    {
     "data": {
      "text/html": [
       "<div>\n",
       "<style scoped>\n",
       "    .dataframe tbody tr th:only-of-type {\n",
       "        vertical-align: middle;\n",
       "    }\n",
       "\n",
       "    .dataframe tbody tr th {\n",
       "        vertical-align: top;\n",
       "    }\n",
       "\n",
       "    .dataframe thead th {\n",
       "        text-align: right;\n",
       "    }\n",
       "</style>\n",
       "<table border=\"1\" class=\"dataframe\">\n",
       "  <thead>\n",
       "    <tr style=\"text-align: right;\">\n",
       "      <th></th>\n",
       "      <th>smiles</th>\n",
       "      <th>n_conformers</th>\n",
       "      <th>corrected_smiles</th>\n",
       "      <th>is_long_chain_alkane</th>\n",
       "      <th>is_organic_acid</th>\n",
       "    </tr>\n",
       "  </thead>\n",
       "  <tbody>\n",
       "    <tr>\n",
       "      <th>1</th>\n",
       "      <td>[H]c1c(C([H])([H])C([H])([H])C([H])([H])C([H])...</td>\n",
       "      <td>924</td>\n",
       "      <td>Cl[Si](Cl)(Cl)CCCCCCCCc1cc[nH]c1</td>\n",
       "      <td>True</td>\n",
       "      <td>False</td>\n",
       "    </tr>\n",
       "    <tr>\n",
       "      <th>8</th>\n",
       "      <td>[H]OC(=O)c1c([H])c([H])c(C(C([H])([H])[H])(C([...</td>\n",
       "      <td>4</td>\n",
       "      <td>CC(C)(C)c1ccc(C(=O)O)cc1I</td>\n",
       "      <td>False</td>\n",
       "      <td>True</td>\n",
       "    </tr>\n",
       "    <tr>\n",
       "      <th>10</th>\n",
       "      <td>[H]OC(=O)c1c([H])c(C([H])([H])C([H])([H])[H])c...</td>\n",
       "      <td>20</td>\n",
       "      <td>CCc1cc(C(=O)O)c(CC)cc1I</td>\n",
       "      <td>False</td>\n",
       "      <td>True</td>\n",
       "    </tr>\n",
       "    <tr>\n",
       "      <th>11</th>\n",
       "      <td>[H]C1([H])C([H])([H])C([H])([H])[C@]([H])(I)[C...</td>\n",
       "      <td>1</td>\n",
       "      <td>FC(F)(F)C(F)(C1CCCCC1I)C(F)(F)F</td>\n",
       "      <td>True</td>\n",
       "      <td>False</td>\n",
       "    </tr>\n",
       "    <tr>\n",
       "      <th>17</th>\n",
       "      <td>[H]C(I)(C(=O)OC([H])([H])C([H])([H])[H])C(=O)O...</td>\n",
       "      <td>71</td>\n",
       "      <td>CCOC(=O)C(I)C(=O)OCC</td>\n",
       "      <td>False</td>\n",
       "      <td>True</td>\n",
       "    </tr>\n",
       "    <tr>\n",
       "      <th>27</th>\n",
       "      <td>[H]c1nc(N2C([H])([H])C([H])([H])C([H])([H])C([...</td>\n",
       "      <td>12</td>\n",
       "      <td>O=C(Nc1cccc(I)c1)c1ccnc(N2CCCCC2)c1</td>\n",
       "      <td>True</td>\n",
       "      <td>False</td>\n",
       "    </tr>\n",
       "    <tr>\n",
       "      <th>35</th>\n",
       "      <td>[H]C1([H])C([H])([H])C([H])([H])C([H])([Si](C2...</td>\n",
       "      <td>27</td>\n",
       "      <td>C1CCC([Si](C2CCCCC2)(C2CCCCC2)C2CCCCC2)CC1</td>\n",
       "      <td>True</td>\n",
       "      <td>False</td>\n",
       "    </tr>\n",
       "    <tr>\n",
       "      <th>45</th>\n",
       "      <td>[H]c1c([H])c(C(=O)C([H])([H])C([H])([H])C([H])...</td>\n",
       "      <td>42</td>\n",
       "      <td>N#CCCCCC(=O)c1ccc(I)cc1</td>\n",
       "      <td>True</td>\n",
       "      <td>False</td>\n",
       "    </tr>\n",
       "    <tr>\n",
       "      <th>46</th>\n",
       "      <td>[H]OC(=O)c1c(OC([H])([H])[H])c([H])c([H])c([H]...</td>\n",
       "      <td>17</td>\n",
       "      <td>COc1cccc(C=CI)c1C(=O)O</td>\n",
       "      <td>False</td>\n",
       "      <td>True</td>\n",
       "    </tr>\n",
       "    <tr>\n",
       "      <th>47</th>\n",
       "      <td>[H]OC(=O)c1c(I)c(N([H])[H])c(I)c(N([H])[H])c1I</td>\n",
       "      <td>4</td>\n",
       "      <td>Nc1c(I)c(N)c(I)c(C(=O)O)c1I</td>\n",
       "      <td>False</td>\n",
       "      <td>True</td>\n",
       "    </tr>\n",
       "    <tr>\n",
       "      <th>62</th>\n",
       "      <td>[H]C1([H])C([H])([H])C([H])([H])[C@]([H])(n2nn...</td>\n",
       "      <td>2</td>\n",
       "      <td>CC1CCCCC1n1nnnc1I</td>\n",
       "      <td>True</td>\n",
       "      <td>False</td>\n",
       "    </tr>\n",
       "    <tr>\n",
       "      <th>72</th>\n",
       "      <td>[H]c1c([H])c(C([H])([H])C([H])([H])C([H])([H])...</td>\n",
       "      <td>22</td>\n",
       "      <td>CCCCCc1ccc(I)cc1</td>\n",
       "      <td>True</td>\n",
       "      <td>False</td>\n",
       "    </tr>\n",
       "    <tr>\n",
       "      <th>73</th>\n",
       "      <td>[H]C([H])=C([H])C([H])([H])/C(=C(\\[H])I)C([H])...</td>\n",
       "      <td>90</td>\n",
       "      <td>C=CCC(=CI)CCCCC</td>\n",
       "      <td>True</td>\n",
       "      <td>False</td>\n",
       "    </tr>\n",
       "  </tbody>\n",
       "</table>\n",
       "</div>"
      ],
      "text/plain": [
       "                                               smiles  n_conformers  \\\n",
       "1   [H]c1c(C([H])([H])C([H])([H])C([H])([H])C([H])...           924   \n",
       "8   [H]OC(=O)c1c([H])c([H])c(C(C([H])([H])[H])(C([...             4   \n",
       "10  [H]OC(=O)c1c([H])c(C([H])([H])C([H])([H])[H])c...            20   \n",
       "11  [H]C1([H])C([H])([H])C([H])([H])[C@]([H])(I)[C...             1   \n",
       "17  [H]C(I)(C(=O)OC([H])([H])C([H])([H])[H])C(=O)O...            71   \n",
       "27  [H]c1nc(N2C([H])([H])C([H])([H])C([H])([H])C([...            12   \n",
       "35  [H]C1([H])C([H])([H])C([H])([H])C([H])([Si](C2...            27   \n",
       "45  [H]c1c([H])c(C(=O)C([H])([H])C([H])([H])C([H])...            42   \n",
       "46  [H]OC(=O)c1c(OC([H])([H])[H])c([H])c([H])c([H]...            17   \n",
       "47     [H]OC(=O)c1c(I)c(N([H])[H])c(I)c(N([H])[H])c1I             4   \n",
       "62  [H]C1([H])C([H])([H])C([H])([H])[C@]([H])(n2nn...             2   \n",
       "72  [H]c1c([H])c(C([H])([H])C([H])([H])C([H])([H])...            22   \n",
       "73  [H]C([H])=C([H])C([H])([H])/C(=C(\\[H])I)C([H])...            90   \n",
       "\n",
       "                              corrected_smiles  is_long_chain_alkane  \\\n",
       "1             Cl[Si](Cl)(Cl)CCCCCCCCc1cc[nH]c1                  True   \n",
       "8                    CC(C)(C)c1ccc(C(=O)O)cc1I                 False   \n",
       "10                     CCc1cc(C(=O)O)c(CC)cc1I                 False   \n",
       "11             FC(F)(F)C(F)(C1CCCCC1I)C(F)(F)F                  True   \n",
       "17                        CCOC(=O)C(I)C(=O)OCC                 False   \n",
       "27         O=C(Nc1cccc(I)c1)c1ccnc(N2CCCCC2)c1                  True   \n",
       "35  C1CCC([Si](C2CCCCC2)(C2CCCCC2)C2CCCCC2)CC1                  True   \n",
       "45                     N#CCCCCC(=O)c1ccc(I)cc1                  True   \n",
       "46                      COc1cccc(C=CI)c1C(=O)O                 False   \n",
       "47                 Nc1c(I)c(N)c(I)c(C(=O)O)c1I                 False   \n",
       "62                           CC1CCCCC1n1nnnc1I                  True   \n",
       "72                            CCCCCc1ccc(I)cc1                  True   \n",
       "73                             C=CCC(=CI)CCCCC                  True   \n",
       "\n",
       "    is_organic_acid  \n",
       "1             False  \n",
       "8              True  \n",
       "10             True  \n",
       "11            False  \n",
       "17             True  \n",
       "27            False  \n",
       "35            False  \n",
       "45            False  \n",
       "46             True  \n",
       "47             True  \n",
       "62            False  \n",
       "72            False  \n",
       "73            False  "
      ]
     },
     "execution_count": 8,
     "metadata": {},
     "output_type": "execute_result"
    }
   ],
   "source": [
    "filtered_data"
   ]
  },
  {
   "cell_type": "code",
   "execution_count": null,
   "metadata": {},
   "outputs": [],
   "source": []
  },
  {
   "cell_type": "code",
   "execution_count": 16,
   "metadata": {},
   "outputs": [],
   "source": [
    "prdicted_file_path = \"torsional-diffusion/drugs_20steps_shui.pkl\""
   ]
  },
  {
   "cell_type": "code",
   "execution_count": 47,
   "metadata": {},
   "outputs": [],
   "source": [
    "predicted_hexane_path = 'torsional-diffusion/drugs_20steps_hexane.pkl'"
   ]
  },
  {
   "cell_type": "code",
   "execution_count": 17,
   "metadata": {},
   "outputs": [],
   "source": [
    "import pickle\n",
    "with open(prdicted_file_path, 'rb') as f:\n",
    "    predicted_data = pickle.load(f)"
   ]
  },
  {
   "cell_type": "code",
   "execution_count": 48,
   "metadata": {},
   "outputs": [],
   "source": [
    "with open(predicted_hexane_path, 'rb') as f:\n",
    "    predicted_hexane_data = pickle.load(f)"
   ]
  },
  {
   "cell_type": "code",
   "execution_count": 42,
   "metadata": {},
   "outputs": [],
   "source": [
    "low_energy = 999999999\n",
    "low_rd_mol = None"
   ]
  },
  {
   "cell_type": "code",
   "execution_count": 43,
   "metadata": {},
   "outputs": [],
   "source": [
    "for rd_mol in predicted_data['Nc1c(I)c(N)c(I)c(C(=O)O)c1I']:\n",
    "    energy = mmff_energy(rd_mol)\n",
    "    if energy <= low_energy:\n",
    "        low_energy = energy\n",
    "        low_rd_mol = rd_mol"
   ]
  },
  {
   "cell_type": "code",
   "execution_count": 49,
   "metadata": {},
   "outputs": [],
   "source": [
    "low_energy_hexane = 999999999\n",
    "low_rd_mol_hexane = None"
   ]
  },
  {
   "cell_type": "code",
   "execution_count": 50,
   "metadata": {},
   "outputs": [],
   "source": [
    "for rd_mol in predicted_hexane_data['Nc1c(I)c(N)c(I)c(C(=O)O)c1I']:\n",
    "    energy = mmff_energy(rd_mol)\n",
    "    if energy <= low_energy_hexane:\n",
    "        low_energy_hexane = energy\n",
    "        low_rd_mol_hexane = rd_mol"
   ]
  },
  {
   "cell_type": "code",
   "execution_count": 37,
   "metadata": {},
   "outputs": [],
   "source": [
    "groud_truth_file_path = 'torsional-diffusion/dict_groud_true_path_shui.pkl'"
   ]
  },
  {
   "cell_type": "code",
   "execution_count": 38,
   "metadata": {},
   "outputs": [],
   "source": [
    "with open(groud_truth_file_path, 'rb') as f:\n",
    "    groud_truth_data = pickle.load(f)"
   ]
  },
  {
   "cell_type": "code",
   "execution_count": 630,
   "metadata": {},
   "outputs": [],
   "source": [
    "gt = groud_truth_data['Nc1c(I)c(N)c(I)c(C(=O)O)c1I']"
   ]
  },
  {
   "cell_type": "code",
   "execution_count": 46,
   "metadata": {},
   "outputs": [
    {
     "data": {
      "application/3dmoljs_load.v0": "<div id=\"3dmolviewer_1734675755419761\"  style=\"position: relative; width: 800px; height: 600px;\">\n        <p id=\"3dmolwarning_1734675755419761\" style=\"background-color:#ffcccc;color:black\">3Dmol.js failed to load for some reason.  Please check your browser console for error messages.<br></p>\n        </div>\n<script>\n\nvar loadScriptAsync = function(uri){\n  return new Promise((resolve, reject) => {\n    //this is to ignore the existence of requirejs amd\n    var savedexports, savedmodule;\n    if (typeof exports !== 'undefined') savedexports = exports;\n    else exports = {}\n    if (typeof module !== 'undefined') savedmodule = module;\n    else module = {}\n\n    var tag = document.createElement('script');\n    tag.src = uri;\n    tag.async = true;\n    tag.onload = () => {\n        exports = savedexports;\n        module = savedmodule;\n        resolve();\n    };\n  var firstScriptTag = document.getElementsByTagName('script')[0];\n  firstScriptTag.parentNode.insertBefore(tag, firstScriptTag);\n});\n};\n\nif(typeof $3Dmolpromise === 'undefined') {\n$3Dmolpromise = null;\n  $3Dmolpromise = loadScriptAsync('https://cdnjs.cloudflare.com/ajax/libs/3Dmol/2.4.2/3Dmol-min.js');\n}\n\nvar viewer_1734675755419761 = null;\nvar warn = document.getElementById(\"3dmolwarning_1734675755419761\");\nif(warn) {\n    warn.parentNode.removeChild(warn);\n}\n$3Dmolpromise.then(function() {\nviewer_1734675755419761 = $3Dmol.createViewer(document.getElementById(\"3dmolviewer_1734675755419761\"),{backgroundColor:\"white\"});\nviewer_1734675755419761.zoomTo();\n\tviewer_1734675755419761.addModel(\"\\n     RDKit          3D\\n\\n 19 19  0  0  0  0  0  0  0  0999 V2000\\n   -1.3732    2.6280    0.0803 N   0  0  0  0  0  0  0  0  0  0  0  0\\n   -0.8202    1.3166    0.0612 C   0  0  0  0  0  0  0  0  0  0  0  0\\n   -1.6509    0.2200   -0.0474 C   0  0  0  0  0  0  0  0  0  0  0  0\\n   -3.7421    0.4206   -0.1884 I   0  0  0  0  0  0  0  0  0  0  0  0\\n   -1.0831   -1.0370   -0.0631 C   0  0  0  0  0  0  0  0  0  0  0  0\\n   -1.9299   -2.1854   -0.1752 N   0  0  0  0  0  0  0  0  0  0  0  0\\n    0.2917   -1.2193    0.0273 C   0  0  0  0  0  0  0  0  0  0  0  0\\n    1.0972   -3.1725   -0.0024 I   0  0  0  0  0  0  0  0  0  0  0  0\\n    1.1291   -0.1278    0.1363 C   0  0  0  0  0  0  0  0  0  0  0  0\\n    2.5544   -0.3538    0.2283 C   0  0  0  0  0  0  0  0  0  0  0  0\\n    2.9798   -1.0820    1.1562 O   0  0  0  0  0  0  0  0  0  0  0  0\\n    3.4255    0.2303   -0.6999 O   0  0  0  0  0  0  0  0  0  0  0  0\\n    0.5416    1.1215    0.1501 C   0  0  0  0  0  0  0  0  0  0  0  0\\n    1.7885    2.8234    0.3157 I   0  0  0  0  0  0  0  0  0  0  0  0\\n   -0.7094    3.4220    0.2139 H   0  0  0  0  0  0  0  0  0  0  0  0\\n   -2.3992    2.7766   -0.0352 H   0  0  0  0  0  0  0  0  0  0  0  0\\n   -2.9500   -2.0778   -0.3696 H   0  0  0  0  0  0  0  0  0  0  0  0\\n   -1.4707   -3.1373   -0.0518 H   0  0  0  0  0  0  0  0  0  0  0  0\\n    4.4219    0.1958   -0.4353 H   0  0  0  0  0  0  0  0  0  0  0  0\\n  1  2  1  0\\n  2  3  2  0\\n  3  4  1  0\\n  3  5  1  0\\n  5  6  1  0\\n  5  7  2  0\\n  7  8  1  0\\n  7  9  1  0\\n  9 10  1  0\\n 10 11  2  0\\n 10 12  1  0\\n  9 13  2  0\\n 13 14  1  0\\n 13  2  1  0\\n  1 15  1  0\\n  1 16  1  0\\n  6 17  1  0\\n  6 18  1  0\\n 12 19  1  0\\nM  END\\n\",\"mol\");\n\tviewer_1734675755419761.setStyle({\"stick\": {}});\n\tviewer_1734675755419761.zoomTo();\nviewer_1734675755419761.render();\n});\n</script>",
      "text/html": [
       "<div id=\"3dmolviewer_1734675755419761\"  style=\"position: relative; width: 800px; height: 600px;\">\n",
       "        <p id=\"3dmolwarning_1734675755419761\" style=\"background-color:#ffcccc;color:black\">3Dmol.js failed to load for some reason.  Please check your browser console for error messages.<br></p>\n",
       "        </div>\n",
       "<script>\n",
       "\n",
       "var loadScriptAsync = function(uri){\n",
       "  return new Promise((resolve, reject) => {\n",
       "    //this is to ignore the existence of requirejs amd\n",
       "    var savedexports, savedmodule;\n",
       "    if (typeof exports !== 'undefined') savedexports = exports;\n",
       "    else exports = {}\n",
       "    if (typeof module !== 'undefined') savedmodule = module;\n",
       "    else module = {}\n",
       "\n",
       "    var tag = document.createElement('script');\n",
       "    tag.src = uri;\n",
       "    tag.async = true;\n",
       "    tag.onload = () => {\n",
       "        exports = savedexports;\n",
       "        module = savedmodule;\n",
       "        resolve();\n",
       "    };\n",
       "  var firstScriptTag = document.getElementsByTagName('script')[0];\n",
       "  firstScriptTag.parentNode.insertBefore(tag, firstScriptTag);\n",
       "});\n",
       "};\n",
       "\n",
       "if(typeof $3Dmolpromise === 'undefined') {\n",
       "$3Dmolpromise = null;\n",
       "  $3Dmolpromise = loadScriptAsync('https://cdnjs.cloudflare.com/ajax/libs/3Dmol/2.4.2/3Dmol-min.js');\n",
       "}\n",
       "\n",
       "var viewer_1734675755419761 = null;\n",
       "var warn = document.getElementById(\"3dmolwarning_1734675755419761\");\n",
       "if(warn) {\n",
       "    warn.parentNode.removeChild(warn);\n",
       "}\n",
       "$3Dmolpromise.then(function() {\n",
       "viewer_1734675755419761 = $3Dmol.createViewer(document.getElementById(\"3dmolviewer_1734675755419761\"),{backgroundColor:\"white\"});\n",
       "viewer_1734675755419761.zoomTo();\n",
       "\tviewer_1734675755419761.addModel(\"\\n     RDKit          3D\\n\\n 19 19  0  0  0  0  0  0  0  0999 V2000\\n   -1.3732    2.6280    0.0803 N   0  0  0  0  0  0  0  0  0  0  0  0\\n   -0.8202    1.3166    0.0612 C   0  0  0  0  0  0  0  0  0  0  0  0\\n   -1.6509    0.2200   -0.0474 C   0  0  0  0  0  0  0  0  0  0  0  0\\n   -3.7421    0.4206   -0.1884 I   0  0  0  0  0  0  0  0  0  0  0  0\\n   -1.0831   -1.0370   -0.0631 C   0  0  0  0  0  0  0  0  0  0  0  0\\n   -1.9299   -2.1854   -0.1752 N   0  0  0  0  0  0  0  0  0  0  0  0\\n    0.2917   -1.2193    0.0273 C   0  0  0  0  0  0  0  0  0  0  0  0\\n    1.0972   -3.1725   -0.0024 I   0  0  0  0  0  0  0  0  0  0  0  0\\n    1.1291   -0.1278    0.1363 C   0  0  0  0  0  0  0  0  0  0  0  0\\n    2.5544   -0.3538    0.2283 C   0  0  0  0  0  0  0  0  0  0  0  0\\n    2.9798   -1.0820    1.1562 O   0  0  0  0  0  0  0  0  0  0  0  0\\n    3.4255    0.2303   -0.6999 O   0  0  0  0  0  0  0  0  0  0  0  0\\n    0.5416    1.1215    0.1501 C   0  0  0  0  0  0  0  0  0  0  0  0\\n    1.7885    2.8234    0.3157 I   0  0  0  0  0  0  0  0  0  0  0  0\\n   -0.7094    3.4220    0.2139 H   0  0  0  0  0  0  0  0  0  0  0  0\\n   -2.3992    2.7766   -0.0352 H   0  0  0  0  0  0  0  0  0  0  0  0\\n   -2.9500   -2.0778   -0.3696 H   0  0  0  0  0  0  0  0  0  0  0  0\\n   -1.4707   -3.1373   -0.0518 H   0  0  0  0  0  0  0  0  0  0  0  0\\n    4.4219    0.1958   -0.4353 H   0  0  0  0  0  0  0  0  0  0  0  0\\n  1  2  1  0\\n  2  3  2  0\\n  3  4  1  0\\n  3  5  1  0\\n  5  6  1  0\\n  5  7  2  0\\n  7  8  1  0\\n  7  9  1  0\\n  9 10  1  0\\n 10 11  2  0\\n 10 12  1  0\\n  9 13  2  0\\n 13 14  1  0\\n 13  2  1  0\\n  1 15  1  0\\n  1 16  1  0\\n  6 17  1  0\\n  6 18  1  0\\n 12 19  1  0\\nM  END\\n\",\"mol\");\n",
       "\tviewer_1734675755419761.setStyle({\"stick\": {}});\n",
       "\tviewer_1734675755419761.zoomTo();\n",
       "viewer_1734675755419761.render();\n",
       "});\n",
       "</script>"
      ]
     },
     "metadata": {},
     "output_type": "display_data"
    }
   ],
   "source": [
    "# in water\n",
    "view_mol_3d(low_rd_mol)"
   ]
  },
  {
   "cell_type": "code",
   "execution_count": 54,
   "metadata": {},
   "outputs": [
    {
     "data": {
      "application/3dmoljs_load.v0": "<div id=\"3dmolviewer_1734675946004595\"  style=\"position: relative; width: 800px; height: 600px;\">\n        <p id=\"3dmolwarning_1734675946004595\" style=\"background-color:#ffcccc;color:black\">3Dmol.js failed to load for some reason.  Please check your browser console for error messages.<br></p>\n        </div>\n<script>\n\nvar loadScriptAsync = function(uri){\n  return new Promise((resolve, reject) => {\n    //this is to ignore the existence of requirejs amd\n    var savedexports, savedmodule;\n    if (typeof exports !== 'undefined') savedexports = exports;\n    else exports = {}\n    if (typeof module !== 'undefined') savedmodule = module;\n    else module = {}\n\n    var tag = document.createElement('script');\n    tag.src = uri;\n    tag.async = true;\n    tag.onload = () => {\n        exports = savedexports;\n        module = savedmodule;\n        resolve();\n    };\n  var firstScriptTag = document.getElementsByTagName('script')[0];\n  firstScriptTag.parentNode.insertBefore(tag, firstScriptTag);\n});\n};\n\nif(typeof $3Dmolpromise === 'undefined') {\n$3Dmolpromise = null;\n  $3Dmolpromise = loadScriptAsync('https://cdnjs.cloudflare.com/ajax/libs/3Dmol/2.4.2/3Dmol-min.js');\n}\n\nvar viewer_1734675946004595 = null;\nvar warn = document.getElementById(\"3dmolwarning_1734675946004595\");\nif(warn) {\n    warn.parentNode.removeChild(warn);\n}\n$3Dmolpromise.then(function() {\nviewer_1734675946004595 = $3Dmol.createViewer(document.getElementById(\"3dmolviewer_1734675946004595\"),{backgroundColor:\"white\"});\nviewer_1734675946004595.zoomTo();\n\tviewer_1734675946004595.addModel(\"\\n     RDKit          3D\\n\\n 19 19  0  0  0  0  0  0  0  0999 V2000\\n   -0.9819    2.7494    0.3493 N   0  0  0  0  0  0  0  0  0  0  0  0\\n   -0.5963    1.3884    0.1985 C   0  0  0  0  0  0  0  0  0  0  0  0\\n   -1.5809    0.4379   -0.0859 C   0  0  0  0  0  0  0  0  0  0  0  0\\n   -3.6061    0.9912   -0.2915 I   0  0  0  0  0  0  0  0  0  0  0  0\\n   -1.2236   -0.9054   -0.2381 C   0  0  0  0  0  0  0  0  0  0  0  0\\n   -2.2302   -1.8675   -0.5274 N   0  0  0  0  0  0  0  0  0  0  0  0\\n    0.1067   -1.2374   -0.0983 C   0  0  0  0  0  0  0  0  0  0  0  0\\n    0.6473   -3.2572   -0.3266 I   0  0  0  0  0  0  0  0  0  0  0  0\\n    1.0956   -0.3185    0.1819 C   0  0  0  0  0  0  0  0  0  0  0  0\\n    2.5051   -0.6936    0.3265 C   0  0  0  0  0  0  0  0  0  0  0  0\\n    3.0478   -0.7290    1.4608 O   0  0  0  0  0  0  0  0  0  0  0  0\\n    3.1821   -0.9997   -0.8496 O   0  0  0  0  0  0  0  0  0  0  0  0\\n    0.7115    0.9979    0.3262 C   0  0  0  0  0  0  0  0  0  0  0  0\\n    2.1864    2.4593    0.7579 I   0  0  0  0  0  0  0  0  0  0  0  0\\n   -0.2807    3.4798    0.5819 H   0  0  0  0  0  0  0  0  0  0  0  0\\n   -1.9983    3.0132    0.2213 H   0  0  0  0  0  0  0  0  0  0  0  0\\n   -1.9334   -2.8390   -0.7671 H   0  0  0  0  0  0  0  0  0  0  0  0\\n   -3.2408   -1.6302   -0.5064 H   0  0  0  0  0  0  0  0  0  0  0  0\\n    4.1504   -1.3236   -0.7571 H   0  0  0  0  0  0  0  0  0  0  0  0\\n  1  2  1  0\\n  2  3  2  0\\n  3  4  1  0\\n  3  5  1  0\\n  5  6  1  0\\n  5  7  2  0\\n  7  8  1  0\\n  7  9  1  0\\n  9 10  1  0\\n 10 11  2  0\\n 10 12  1  0\\n  9 13  2  0\\n 13 14  1  0\\n 13  2  1  0\\n  1 15  1  0\\n  1 16  1  0\\n  6 17  1  0\\n  6 18  1  0\\n 12 19  1  0\\nM  END\\n\",\"mol\");\n\tviewer_1734675946004595.setStyle({\"stick\": {}});\n\tviewer_1734675946004595.zoomTo();\nviewer_1734675946004595.render();\n});\n</script>",
      "text/html": [
       "<div id=\"3dmolviewer_1734675946004595\"  style=\"position: relative; width: 800px; height: 600px;\">\n",
       "        <p id=\"3dmolwarning_1734675946004595\" style=\"background-color:#ffcccc;color:black\">3Dmol.js failed to load for some reason.  Please check your browser console for error messages.<br></p>\n",
       "        </div>\n",
       "<script>\n",
       "\n",
       "var loadScriptAsync = function(uri){\n",
       "  return new Promise((resolve, reject) => {\n",
       "    //this is to ignore the existence of requirejs amd\n",
       "    var savedexports, savedmodule;\n",
       "    if (typeof exports !== 'undefined') savedexports = exports;\n",
       "    else exports = {}\n",
       "    if (typeof module !== 'undefined') savedmodule = module;\n",
       "    else module = {}\n",
       "\n",
       "    var tag = document.createElement('script');\n",
       "    tag.src = uri;\n",
       "    tag.async = true;\n",
       "    tag.onload = () => {\n",
       "        exports = savedexports;\n",
       "        module = savedmodule;\n",
       "        resolve();\n",
       "    };\n",
       "  var firstScriptTag = document.getElementsByTagName('script')[0];\n",
       "  firstScriptTag.parentNode.insertBefore(tag, firstScriptTag);\n",
       "});\n",
       "};\n",
       "\n",
       "if(typeof $3Dmolpromise === 'undefined') {\n",
       "$3Dmolpromise = null;\n",
       "  $3Dmolpromise = loadScriptAsync('https://cdnjs.cloudflare.com/ajax/libs/3Dmol/2.4.2/3Dmol-min.js');\n",
       "}\n",
       "\n",
       "var viewer_1734675946004595 = null;\n",
       "var warn = document.getElementById(\"3dmolwarning_1734675946004595\");\n",
       "if(warn) {\n",
       "    warn.parentNode.removeChild(warn);\n",
       "}\n",
       "$3Dmolpromise.then(function() {\n",
       "viewer_1734675946004595 = $3Dmol.createViewer(document.getElementById(\"3dmolviewer_1734675946004595\"),{backgroundColor:\"white\"});\n",
       "viewer_1734675946004595.zoomTo();\n",
       "\tviewer_1734675946004595.addModel(\"\\n     RDKit          3D\\n\\n 19 19  0  0  0  0  0  0  0  0999 V2000\\n   -0.9819    2.7494    0.3493 N   0  0  0  0  0  0  0  0  0  0  0  0\\n   -0.5963    1.3884    0.1985 C   0  0  0  0  0  0  0  0  0  0  0  0\\n   -1.5809    0.4379   -0.0859 C   0  0  0  0  0  0  0  0  0  0  0  0\\n   -3.6061    0.9912   -0.2915 I   0  0  0  0  0  0  0  0  0  0  0  0\\n   -1.2236   -0.9054   -0.2381 C   0  0  0  0  0  0  0  0  0  0  0  0\\n   -2.2302   -1.8675   -0.5274 N   0  0  0  0  0  0  0  0  0  0  0  0\\n    0.1067   -1.2374   -0.0983 C   0  0  0  0  0  0  0  0  0  0  0  0\\n    0.6473   -3.2572   -0.3266 I   0  0  0  0  0  0  0  0  0  0  0  0\\n    1.0956   -0.3185    0.1819 C   0  0  0  0  0  0  0  0  0  0  0  0\\n    2.5051   -0.6936    0.3265 C   0  0  0  0  0  0  0  0  0  0  0  0\\n    3.0478   -0.7290    1.4608 O   0  0  0  0  0  0  0  0  0  0  0  0\\n    3.1821   -0.9997   -0.8496 O   0  0  0  0  0  0  0  0  0  0  0  0\\n    0.7115    0.9979    0.3262 C   0  0  0  0  0  0  0  0  0  0  0  0\\n    2.1864    2.4593    0.7579 I   0  0  0  0  0  0  0  0  0  0  0  0\\n   -0.2807    3.4798    0.5819 H   0  0  0  0  0  0  0  0  0  0  0  0\\n   -1.9983    3.0132    0.2213 H   0  0  0  0  0  0  0  0  0  0  0  0\\n   -1.9334   -2.8390   -0.7671 H   0  0  0  0  0  0  0  0  0  0  0  0\\n   -3.2408   -1.6302   -0.5064 H   0  0  0  0  0  0  0  0  0  0  0  0\\n    4.1504   -1.3236   -0.7571 H   0  0  0  0  0  0  0  0  0  0  0  0\\n  1  2  1  0\\n  2  3  2  0\\n  3  4  1  0\\n  3  5  1  0\\n  5  6  1  0\\n  5  7  2  0\\n  7  8  1  0\\n  7  9  1  0\\n  9 10  1  0\\n 10 11  2  0\\n 10 12  1  0\\n  9 13  2  0\\n 13 14  1  0\\n 13  2  1  0\\n  1 15  1  0\\n  1 16  1  0\\n  6 17  1  0\\n  6 18  1  0\\n 12 19  1  0\\nM  END\\n\",\"mol\");\n",
       "\tviewer_1734675946004595.setStyle({\"stick\": {}});\n",
       "\tviewer_1734675946004595.zoomTo();\n",
       "viewer_1734675946004595.render();\n",
       "});\n",
       "</script>"
      ]
     },
     "metadata": {},
     "output_type": "display_data"
    }
   ],
   "source": [
    "# in hexane\n",
    "view_mol_3d(low_rd_mol_hexane)"
   ]
  },
  {
   "cell_type": "code",
   "execution_count": 58,
   "metadata": {},
   "outputs": [],
   "source": [
    "mol_block = Chem.MolToMolBlock(low_rd_mol)"
   ]
  },
  {
   "cell_type": "code",
   "execution_count": 60,
   "metadata": {},
   "outputs": [
    {
     "data": {
      "image/png": "[encoded data removed]",
      "text/plain": [
       "<rdkit.Chem.rdchem.Mol at 0x28b8fc450>"
      ]
     },
     "execution_count": 60,
     "metadata": {},
     "output_type": "execute_result"
    }
   ],
   "source": [
    "low_rd_mol \n"
   ]
  },
  {
   "cell_type": "code",
   "execution_count": 61,
   "metadata": {},
   "outputs": [
    {
     "data": {
      "image/png": "[encoded data removed]",
      "text/plain": [
       "<rdkit.Chem.rdchem.Mol at 0x2a0b13290>"
      ]
     },
     "execution_count": 61,
     "metadata": {},
     "output_type": "execute_result"
    }
   ],
   "source": [
    "low_rd_mol_hexane"
   ]
  },
  {
   "cell_type": "code",
   "execution_count": 62,
   "metadata": {},
   "outputs": [],
   "source": [
    "with open(\"Nc1c(I)c(N)c(I)c(C(=O)O)c1I_conf_in_H2O_and_Hexane.pkl\", \"wb\") as f:\n",
    "    pickle.dump((low_rd_mol, low_rd_mol_hexane), f)"
   ]
  },
  {
   "cell_type": "code",
   "execution_count": 63,
   "metadata": {},
   "outputs": [],
   "source": [
    "with open('Nc1c(I)c(N)c(I)c(C(=O)O)c1I_conf_in_H2O_and_Hexane.pkl','rb') as f:\n",
    "    two_rdkit = pickle.load(f)"
   ]
  },
  {
   "cell_type": "code",
   "execution_count": 68,
   "metadata": {},
   "outputs": [
    {
     "data": {
      "text/plain": [
       "'/Users/zhangyici/Desktop/Autumn/Computer_Vision/CV_Final_Project'"
      ]
     },
     "execution_count": 68,
     "metadata": {},
     "output_type": "execute_result"
    }
   ],
   "source": [
    "pwd"
   ]
  },
  {
   "cell_type": "markdown",
   "metadata": {},
   "source": [
    "# Evaluation"
   ]
  },
  {
   "cell_type": "code",
   "execution_count": 23,
   "metadata": {},
   "outputs": [
    {
     "data": {
      "image/png": "[encoded data removed]",
      "text/plain": [
       "<Figure size 1000x600 with 1 Axes>"
      ]
     },
     "metadata": {},
     "output_type": "display_data"
    },
    {
     "data": {
      "image/png": "[encoded data removed]",
      "text/plain": [
       "<Figure size 1000x600 with 1 Axes>"
      ]
     },
     "metadata": {},
     "output_type": "display_data"
    }
   ],
   "source": [
    "# 水\n",
    "# Re-import necessary libraries and reinitialize data after environment reset\n",
    "import matplotlib.pyplot as plt\n",
    "import numpy as np\n",
    "\n",
    "# Data for plotting\n",
    "thresholds = np.arange(0.0, 2.5, 0.125)  # Example thresholds\n",
    "\n",
    "# Recall Coverage (mean) for both models\n",
    "recall_coverage_without_finetune = [0.00, 24.18, 50.21, 59.13, 70.20, 80.62, 88.25, 92.55, 94.92, 98.13, 99.78, 100.00, 100.00, 100.00, 100.00, 100.00, 100.00, 100.00, 100.00,100]\n",
    "recall_coverage_with_finetune = [0.00, 27.97, 49.98, 63.26, 70.86, 79.52, 88.56, 94.11, 96.76, 98.26, 99.38, 99.75, 99.75, 99.75, 100.00, 100.00, 100.00, 100.00, 100.00,100]\n",
    "\n",
    "# Precision Coverage (mean) for both models\n",
    "precision_coverage_without_finetune = [0.00, 20.75, 38.04, 47.46, 60.38, 69.97, 78.55, 84.88, 91.02, 93.63, 94.99, 96.25, 97.55, 98.45, 99.15, 99.86, 100.00, 100.00, 100.00,100]\n",
    "precision_coverage_with_finetune = [0.00, 23.35, 38.16, 49.30, 58.17, 67.31, 75.06, 82.10, 87.23, 90.82, 93.37, 95.80, 97.62, 98.12, 98.39, 99.45, 100.00, 100.00, 100.00,100]\n",
    "\n",
    "# Plot Recall Coverage vs Threshold\n",
    "plt.figure(figsize=(10, 6))\n",
    "plt.plot(thresholds, recall_coverage_without_finetune, label='Recall Coverage (Without Finetune)', marker='o', color = '#0A97B0')\n",
    "plt.plot(thresholds, recall_coverage_with_finetune, label='Recall Coverage (With Finetune)', marker='o', color = '#2A3335')\n",
    "plt.xlabel('Threshold')\n",
    "plt.ylabel('Recall Coverage (Mean)')\n",
    "plt.title('Recall Coverage vs Threshold in Solvent H2O')\n",
    "plt.legend()\n",
    "plt.grid(alpha = 0.3)\n",
    "plt.show()\n",
    "\n",
    "# Plot Precision Coverage vs Threshold\n",
    "plt.figure(figsize=(10, 6))\n",
    "plt.plot(thresholds, precision_coverage_without_finetune, label='Precision Coverage (Without Finetune)', marker='o', color = '#0A97B0')\n",
    "plt.plot(thresholds, precision_coverage_with_finetune, label='Precision Coverage (With Finetune)', marker='o', color = '#2A3335')\n",
    "plt.xlabel('Threshold')\n",
    "plt.ylabel('Precision Coverage (Mean)')\n",
    "plt.title('Precision Coverage vs Threshold in Solvent H2O')\n",
    "plt.legend(loc='lower right')\n",
    "plt.grid(alpha = 0.3)\n",
    "plt.show()\n"
   ]
  },
  {
   "cell_type": "code",
   "execution_count": 28,
   "metadata": {},
   "outputs": [],
   "source": [
    "# hexane\n",
    "# Model 1: Without finetune\n",
    "recall_coverage_mean_without_finetune = [\n",
    "    0.00, 20.93, 36.36, 46.98, 58.10, 72.17, 85.39, 92.41, 95.82, 96.79, \n",
    "    97.01, 98.31, 98.61, 98.81, 98.81, 98.81, 98.81, 98.81, 98.81, 98.81\n",
    "]\n",
    "\n",
    "precision_coverage_mean_without_finetune = [\n",
    "    0.00, 17.70, 30.28, 39.69, 48.06, 62.08, 73.69, 80.61, 85.09, 88.47, \n",
    "    90.90, 92.59, 93.87, 95.71, 96.73, 97.52, 98.18, 98.29, 98.34, 98.36\n",
    "]\n",
    "\n",
    "# Model 2: With finetune\n",
    "recall_coverage_mean_with_finetune = [\n",
    "    0.00, 23.54, 42.90, 53.03, 62.53, 79.73, 88.51, 92.61, 94.28, 96.47, \n",
    "    97.47, 98.07, 98.81, 98.81, 98.81, 98.81, 98.81, 98.81, 98.81, 98.81\n",
    "]\n",
    "\n",
    "precision_coverage_mean_with_finetune = [\n",
    "    0.00, 19.15, 35.21, 43.51, 50.99, 64.75, 74.85, 82.27, 87.58, 90.09, \n",
    "    91.86, 93.64, 94.99, 96.11, 96.91, 97.56, 97.90, 98.33, 98.35, 98.66\n",
    "]"
   ]
  },
  {
   "cell_type": "code",
   "execution_count": 29,
   "metadata": {},
   "outputs": [],
   "source": [
    "thresholds = np.arange(0.0, 2.5, 0.125)  # Example thresholds"
   ]
  },
  {
   "cell_type": "code",
   "execution_count": 30,
   "metadata": {},
   "outputs": [
    {
     "data": {
      "image/png": "[encoded data removed]",
      "text/plain": [
       "<Figure size 1000x600 with 1 Axes>"
      ]
     },
     "metadata": {},
     "output_type": "display_data"
    },
    {
     "data": {
      "image/png": "[encoded data removed]",
      "text/plain": [
       "<Figure size 1000x600 with 1 Axes>"
      ]
     },
     "metadata": {},
     "output_type": "display_data"
    }
   ],
   "source": [
    "# Plot Recall Coverage vs Threshold\n",
    "plt.figure(figsize=(10, 6))\n",
    "plt.plot(thresholds, recall_coverage_mean_without_finetune, label='Recall Coverage (Without Finetune)', marker='o', color = '#0A97B0')\n",
    "plt.plot(thresholds, recall_coverage_mean_with_finetune, label='Recall Coverage (With Finetune)', marker='o', color = '#2A3335')\n",
    "plt.xlabel('Threshold')\n",
    "plt.ylabel('Recall Coverage (Mean)')\n",
    "plt.title('Recall Coverage vs Threshold in Solvent Hexane')\n",
    "plt.legend()\n",
    "plt.grid(alpha = 0.3)\n",
    "plt.show()\n",
    "\n",
    "# Plot Precision Coverage vs Threshold\n",
    "plt.figure(figsize=(10, 6))\n",
    "plt.plot(thresholds, precision_coverage_mean_without_finetune, label='Precision Coverage (Without Finetune)', marker='o', color = '#0A97B0')\n",
    "plt.plot(thresholds, precision_coverage_mean_with_finetune, label='Precision Coverage (With Finetune)', marker='o', color = '#2A3335')\n",
    "plt.xlabel('Threshold')\n",
    "plt.ylabel('Precision Coverage (Mean)')\n",
    "plt.title('Precision Coverage vs Threshold in Solvent Hexane')\n",
    "plt.legend(loc='lower right')\n",
    "plt.grid(alpha = 0.3)\n",
    "plt.show()"
   ]
  },
  {
   "cell_type": "markdown",
   "metadata": {},
   "source": [
    "# Visualization"
   ]
  },
  {
   "cell_type": "markdown",
   "metadata": {},
   "source": [
    "first visulization"
   ]
  },
  {
   "cell_type": "code",
   "execution_count": 104,
   "metadata": {},
   "outputs": [],
   "source": [
    "directory_path = 'shui/[H]OC(=O)C1=C([H])[C@@]([H])(OP(=O)(O[H])O[H])C([H])([H])C([H])([H])C1([H])[H].pickle'\n",
    "with open(directory_path, 'rb') as f:\n",
    "    mol = pickle.load(f)"
   ]
  },
  {
   "cell_type": "code",
   "execution_count": 117,
   "metadata": {},
   "outputs": [],
   "source": [
    "smile_list_all = [mol['smiles']]"
   ]
  },
  {
   "cell_type": "code",
   "execution_count": 115,
   "metadata": {},
   "outputs": [],
   "source": [
    "number_conf_list = [len(mol['conformers'])]"
   ]
  },
  {
   "cell_type": "code",
   "execution_count": 113,
   "metadata": {},
   "outputs": [],
   "source": [
    "mol_ = Chem.MolFromSmiles(mol['smiles'])\n",
    "canonical_smi = Chem.MolToSmiles(mol_, isomericSmiles=False)"
   ]
  },
  {
   "cell_type": "code",
   "execution_count": 119,
   "metadata": {},
   "outputs": [],
   "source": [
    "cro_list_all = [canonical_smi]"
   ]
  },
  {
   "cell_type": "code",
   "execution_count": 121,
   "metadata": {},
   "outputs": [],
   "source": [
    "data_visualization = pd.DataFrame({\n",
    "    \"smiles\": smile_list_all,\n",
    "    \"n_conformers\": number_conf_list,\n",
    "    \"corrected_smiles\": cro_list_all\n",
    "    })"
   ]
  },
  {
   "cell_type": "code",
   "execution_count": 123,
   "metadata": {},
   "outputs": [
    {
     "name": "stdout",
     "output_type": "stream",
     "text": [
      "CSV file saved to: torsional-diffusion/visulization_1.csv\n"
     ]
    }
   ],
   "source": [
    "output_path = 'torsional-diffusion/visulization_1.csv'  # Specify the desired file path\n",
    "data_visualization.to_csv(output_path, index=False)\n",
    "\n",
    "print(f\"CSV file saved to: {output_path}\")"
   ]
  },
  {
   "cell_type": "code",
   "execution_count": 146,
   "metadata": {},
   "outputs": [],
   "source": [
    "def get_lowest_energy_rd_mol(predicted_pickle, key):\n",
    "    low_energy = 99999999999\n",
    "    low_rd_mol = None\n",
    "    for rd_mol in predicted_pickle[key]:\n",
    "        energy = mmff_energy(rd_mol)\n",
    "        if energy <= low_energy:\n",
    "            low_energy = energy\n",
    "            low_rd_mol = rd_mol\n",
    "    return low_rd_mol, low_energy"
   ]
  },
  {
   "cell_type": "code",
   "execution_count": 292,
   "metadata": {},
   "outputs": [],
   "source": [
    "def get_lowest_energy_rd_mol_list(rd_mol_list):\n",
    "    low_energy = 99999999999\n",
    "    low_rd_mol = None\n",
    "    for rd_mol in rd_mol_list:\n",
    "        try:\n",
    "            energy = mmff_energy(rd_mol)\n",
    "            if energy <= low_energy:\n",
    "                low_energy = energy\n",
    "                low_rd_mol = rd_mol\n",
    "        except:\n",
    "            continue\n",
    "    return low_rd_mol, low_energy"
   ]
  },
  {
   "cell_type": "code",
   "execution_count": 218,
   "metadata": {},
   "outputs": [],
   "source": [
    "with open('torsional-diffusion/drugs_20steps_shu_visu1i.pkl', 'rb') as f:\n",
    "    predicted_shui_visu_1 = pickle.load(f)"
   ]
  },
  {
   "cell_type": "code",
   "execution_count": 219,
   "metadata": {},
   "outputs": [
    {
     "data": {
      "text/plain": [
       "dict_keys(['O=C(O)C1=CC(OP(=O)(O)O)CCC1'])"
      ]
     },
     "execution_count": 219,
     "metadata": {},
     "output_type": "execute_result"
    }
   ],
   "source": [
    "predicted_shui_visu_1.keys()"
   ]
  },
  {
   "cell_type": "code",
   "execution_count": 220,
   "metadata": {},
   "outputs": [],
   "source": [
    "low_rd_mol_visu_shui, low_energy_shui = get_lowest_energy_rd_mol(predicted_shui_visu_1, 'O=C(O)C1=CC(OP(=O)(O)O)CCC1')"
   ]
  },
  {
   "cell_type": "code",
   "execution_count": 221,
   "metadata": {},
   "outputs": [
    {
     "data": {
      "application/3dmoljs_load.v0": "<div id=\"3dmolviewer_17347321328126981\"  style=\"position: relative; width: 800px; height: 600px;\">\n        <p id=\"3dmolwarning_17347321328126981\" style=\"background-color:#ffcccc;color:black\">3Dmol.js failed to load for some reason.  Please check your browser console for error messages.<br></p>\n        </div>\n<script>\n\nvar loadScriptAsync = function(uri){\n  return new Promise((resolve, reject) => {\n    //this is to ignore the existence of requirejs amd\n    var savedexports, savedmodule;\n    if (typeof exports !== 'undefined') savedexports = exports;\n    else exports = {}\n    if (typeof module !== 'undefined') savedmodule = module;\n    else module = {}\n\n    var tag = document.createElement('script');\n    tag.src = uri;\n    tag.async = true;\n    tag.onload = () => {\n        exports = savedexports;\n        module = savedmodule;\n        resolve();\n    };\n  var firstScriptTag = document.getElementsByTagName('script')[0];\n  firstScriptTag.parentNode.insertBefore(tag, firstScriptTag);\n});\n};\n\nif(typeof $3Dmolpromise === 'undefined') {\n$3Dmolpromise = null;\n  $3Dmolpromise = loadScriptAsync('https://cdnjs.cloudflare.com/ajax/libs/3Dmol/2.4.2/3Dmol-min.js');\n}\n\nvar viewer_17347321328126981 = null;\nvar warn = document.getElementById(\"3dmolwarning_17347321328126981\");\nif(warn) {\n    warn.parentNode.removeChild(warn);\n}\n$3Dmolpromise.then(function() {\nviewer_17347321328126981 = $3Dmol.createViewer(document.getElementById(\"3dmolviewer_17347321328126981\"),{backgroundColor:\"white\"});\nviewer_17347321328126981.zoomTo();\n\tviewer_17347321328126981.addModel(\"\\n     RDKit          3D\\n\\n 25 25  0  0  0  0  0  0  0  0999 V2000\\n   -4.1425    0.7413   -0.4145 O   0  0  0  0  0  0  0  0  0  0  0  0\\n   -2.9402    1.0655   -0.6115 C   0  0  0  0  0  0  0  0  0  0  0  0\\n   -2.7235    2.2795   -1.2920 O   0  0  0  0  0  0  0  0  0  0  0  0\\n   -1.8140    0.2436   -0.1676 C   0  0  0  0  0  0  0  0  0  0  0  0\\n   -0.5906    0.7344   -0.2849 C   0  0  0  0  0  0  0  0  0  0  0  0\\n    0.6298   -0.0049    0.1305 C   0  0  0  0  0  0  0  0  0  0  0  0\\n    1.6243    0.0778   -0.8448 O   0  0  0  0  0  0  0  0  0  0  0  0\\n    2.8751    1.1104   -0.3817 P   0  0  0  0  0  0  0  0  0  0  0  0\\n    3.7602    0.5458    0.6839 O   0  0  0  0  0  0  0  0  0  0  0  0\\n    3.7816    1.4688   -1.7604 O   0  0  0  0  0  0  0  0  0  0  0  0\\n    2.1896    2.5504    0.1891 O   0  0  0  0  0  0  0  0  0  0  0  0\\n    0.2774   -1.4728    0.2408 C   0  0  0  0  0  0  0  0  0  0  0  0\\n   -0.9313   -1.6900    1.1001 C   0  0  0  0  0  0  0  0  0  0  0  0\\n   -2.1211   -1.0902    0.3865 C   0  0  0  0  0  0  0  0  0  0  0  0\\n   -3.5191    2.8751   -1.5456 H   0  0  0  0  0  0  0  0  0  0  0  0\\n   -0.4314    1.7355   -0.7063 H   0  0  0  0  0  0  0  0  0  0  0  0\\n    0.9664    0.3716    1.1201 H   0  0  0  0  0  0  0  0  0  0  0  0\\n    4.6037    0.8949   -1.7994 H   0  0  0  0  0  0  0  0  0  0  0  0\\n    2.7641    2.8811    0.9249 H   0  0  0  0  0  0  0  0  0  0  0  0\\n    1.1835   -1.9957    0.6304 H   0  0  0  0  0  0  0  0  0  0  0  0\\n    0.1321   -1.8511   -0.7961 H   0  0  0  0  0  0  0  0  0  0  0  0\\n   -1.1122   -2.7734    1.1848 H   0  0  0  0  0  0  0  0  0  0  0  0\\n   -0.7481   -1.1967    2.0755 H   0  0  0  0  0  0  0  0  0  0  0  0\\n   -2.3542   -1.7539   -0.4810 H   0  0  0  0  0  0  0  0  0  0  0  0\\n   -2.9602   -1.0050    1.1102 H   0  0  0  0  0  0  0  0  0  0  0  0\\n  1  2  2  0\\n  2  3  1  0\\n  2  4  1  0\\n  4  5  2  0\\n  5  6  1  0\\n  6  7  1  0\\n  7  8  1  0\\n  8  9  2  0\\n  8 10  1  0\\n  8 11  1  0\\n  6 12  1  0\\n 12 13  1  0\\n 13 14  1  0\\n 14  4  1  0\\n  3 15  1  0\\n  5 16  1  0\\n  6 17  1  0\\n 10 18  1  0\\n 11 19  1  0\\n 12 20  1  0\\n 12 21  1  0\\n 13 22  1  0\\n 13 23  1  0\\n 14 24  1  0\\n 14 25  1  0\\nM  END\\n\",\"mol\");\n\tviewer_17347321328126981.setStyle({\"stick\": {}});\n\tviewer_17347321328126981.zoomTo();\nviewer_17347321328126981.render();\n});\n</script>",
      "text/html": [
       "<div id=\"3dmolviewer_17347321328126981\"  style=\"position: relative; width: 800px; height: 600px;\">\n",
       "        <p id=\"3dmolwarning_17347321328126981\" style=\"background-color:#ffcccc;color:black\">3Dmol.js failed to load for some reason.  Please check your browser console for error messages.<br></p>\n",
       "        </div>\n",
       "<script>\n",
       "\n",
       "var loadScriptAsync = function(uri){\n",
       "  return new Promise((resolve, reject) => {\n",
       "    //this is to ignore the existence of requirejs amd\n",
       "    var savedexports, savedmodule;\n",
       "    if (typeof exports !== 'undefined') savedexports = exports;\n",
       "    else exports = {}\n",
       "    if (typeof module !== 'undefined') savedmodule = module;\n",
       "    else module = {}\n",
       "\n",
       "    var tag = document.createElement('script');\n",
       "    tag.src = uri;\n",
       "    tag.async = true;\n",
       "    tag.onload = () => {\n",
       "        exports = savedexports;\n",
       "        module = savedmodule;\n",
       "        resolve();\n",
       "    };\n",
       "  var firstScriptTag = document.getElementsByTagName('script')[0];\n",
       "  firstScriptTag.parentNode.insertBefore(tag, firstScriptTag);\n",
       "});\n",
       "};\n",
       "\n",
       "if(typeof $3Dmolpromise === 'undefined') {\n",
       "$3Dmolpromise = null;\n",
       "  $3Dmolpromise = loadScriptAsync('https://cdnjs.cloudflare.com/ajax/libs/3Dmol/2.4.2/3Dmol-min.js');\n",
       "}\n",
       "\n",
       "var viewer_17347321328126981 = null;\n",
       "var warn = document.getElementById(\"3dmolwarning_17347321328126981\");\n",
       "if(warn) {\n",
       "    warn.parentNode.removeChild(warn);\n",
       "}\n",
       "$3Dmolpromise.then(function() {\n",
       "viewer_17347321328126981 = $3Dmol.createViewer(document.getElementById(\"3dmolviewer_17347321328126981\"),{backgroundColor:\"white\"});\n",
       "viewer_17347321328126981.zoomTo();\n",
       "\tviewer_17347321328126981.addModel(\"\\n     RDKit          3D\\n\\n 25 25  0  0  0  0  0  0  0  0999 V2000\\n   -4.1425    0.7413   -0.4145 O   0  0  0  0  0  0  0  0  0  0  0  0\\n   -2.9402    1.0655   -0.6115 C   0  0  0  0  0  0  0  0  0  0  0  0\\n   -2.7235    2.2795   -1.2920 O   0  0  0  0  0  0  0  0  0  0  0  0\\n   -1.8140    0.2436   -0.1676 C   0  0  0  0  0  0  0  0  0  0  0  0\\n   -0.5906    0.7344   -0.2849 C   0  0  0  0  0  0  0  0  0  0  0  0\\n    0.6298   -0.0049    0.1305 C   0  0  0  0  0  0  0  0  0  0  0  0\\n    1.6243    0.0778   -0.8448 O   0  0  0  0  0  0  0  0  0  0  0  0\\n    2.8751    1.1104   -0.3817 P   0  0  0  0  0  0  0  0  0  0  0  0\\n    3.7602    0.5458    0.6839 O   0  0  0  0  0  0  0  0  0  0  0  0\\n    3.7816    1.4688   -1.7604 O   0  0  0  0  0  0  0  0  0  0  0  0\\n    2.1896    2.5504    0.1891 O   0  0  0  0  0  0  0  0  0  0  0  0\\n    0.2774   -1.4728    0.2408 C   0  0  0  0  0  0  0  0  0  0  0  0\\n   -0.9313   -1.6900    1.1001 C   0  0  0  0  0  0  0  0  0  0  0  0\\n   -2.1211   -1.0902    0.3865 C   0  0  0  0  0  0  0  0  0  0  0  0\\n   -3.5191    2.8751   -1.5456 H   0  0  0  0  0  0  0  0  0  0  0  0\\n   -0.4314    1.7355   -0.7063 H   0  0  0  0  0  0  0  0  0  0  0  0\\n    0.9664    0.3716    1.1201 H   0  0  0  0  0  0  0  0  0  0  0  0\\n    4.6037    0.8949   -1.7994 H   0  0  0  0  0  0  0  0  0  0  0  0\\n    2.7641    2.8811    0.9249 H   0  0  0  0  0  0  0  0  0  0  0  0\\n    1.1835   -1.9957    0.6304 H   0  0  0  0  0  0  0  0  0  0  0  0\\n    0.1321   -1.8511   -0.7961 H   0  0  0  0  0  0  0  0  0  0  0  0\\n   -1.1122   -2.7734    1.1848 H   0  0  0  0  0  0  0  0  0  0  0  0\\n   -0.7481   -1.1967    2.0755 H   0  0  0  0  0  0  0  0  0  0  0  0\\n   -2.3542   -1.7539   -0.4810 H   0  0  0  0  0  0  0  0  0  0  0  0\\n   -2.9602   -1.0050    1.1102 H   0  0  0  0  0  0  0  0  0  0  0  0\\n  1  2  2  0\\n  2  3  1  0\\n  2  4  1  0\\n  4  5  2  0\\n  5  6  1  0\\n  6  7  1  0\\n  7  8  1  0\\n  8  9  2  0\\n  8 10  1  0\\n  8 11  1  0\\n  6 12  1  0\\n 12 13  1  0\\n 13 14  1  0\\n 14  4  1  0\\n  3 15  1  0\\n  5 16  1  0\\n  6 17  1  0\\n 10 18  1  0\\n 11 19  1  0\\n 12 20  1  0\\n 12 21  1  0\\n 13 22  1  0\\n 13 23  1  0\\n 14 24  1  0\\n 14 25  1  0\\nM  END\\n\",\"mol\");\n",
       "\tviewer_17347321328126981.setStyle({\"stick\": {}});\n",
       "\tviewer_17347321328126981.zoomTo();\n",
       "viewer_17347321328126981.render();\n",
       "});\n",
       "</script>"
      ]
     },
     "metadata": {},
     "output_type": "display_data"
    }
   ],
   "source": [
    "# visulize visu_1 in H2O\n",
    "view_mol_3d(low_rd_mol_visu_shui)"
   ]
  },
  {
   "cell_type": "code",
   "execution_count": 222,
   "metadata": {},
   "outputs": [
    {
     "data": {
      "text/plain": [
       "-196.59105685055687"
      ]
     },
     "execution_count": 222,
     "metadata": {},
     "output_type": "execute_result"
    }
   ],
   "source": [
    "low_energy_shui"
   ]
  },
  {
   "cell_type": "code",
   "execution_count": 240,
   "metadata": {},
   "outputs": [],
   "source": [
    "with open('torsional-diffusion/drugs_20steps_hexane_visu1.pkl', 'rb') as f:\n",
    "    predicted_hexane_visu_1 = pickle.load(f)"
   ]
  },
  {
   "cell_type": "code",
   "execution_count": 241,
   "metadata": {},
   "outputs": [],
   "source": [
    "low_rd_mol_visu_hexane, low_energy_hexane = get_lowest_energy_rd_mol(predicted_hexane_visu_1, 'O=C(O)C1=CC(OP(=O)(O)O)CCC1')"
   ]
  },
  {
   "cell_type": "code",
   "execution_count": 242,
   "metadata": {},
   "outputs": [
    {
     "data": {
      "text/plain": [
       "-193.56622584561313"
      ]
     },
     "execution_count": 242,
     "metadata": {},
     "output_type": "execute_result"
    }
   ],
   "source": [
    "low_energy_hexane"
   ]
  },
  {
   "cell_type": "code",
   "execution_count": 243,
   "metadata": {},
   "outputs": [
    {
     "data": {
      "application/3dmoljs_load.v0": "<div id=\"3dmolviewer_17347324066843112\"  style=\"position: relative; width: 800px; height: 600px;\">\n        <p id=\"3dmolwarning_17347324066843112\" style=\"background-color:#ffcccc;color:black\">3Dmol.js failed to load for some reason.  Please check your browser console for error messages.<br></p>\n        </div>\n<script>\n\nvar loadScriptAsync = function(uri){\n  return new Promise((resolve, reject) => {\n    //this is to ignore the existence of requirejs amd\n    var savedexports, savedmodule;\n    if (typeof exports !== 'undefined') savedexports = exports;\n    else exports = {}\n    if (typeof module !== 'undefined') savedmodule = module;\n    else module = {}\n\n    var tag = document.createElement('script');\n    tag.src = uri;\n    tag.async = true;\n    tag.onload = () => {\n        exports = savedexports;\n        module = savedmodule;\n        resolve();\n    };\n  var firstScriptTag = document.getElementsByTagName('script')[0];\n  firstScriptTag.parentNode.insertBefore(tag, firstScriptTag);\n});\n};\n\nif(typeof $3Dmolpromise === 'undefined') {\n$3Dmolpromise = null;\n  $3Dmolpromise = loadScriptAsync('https://cdnjs.cloudflare.com/ajax/libs/3Dmol/2.4.2/3Dmol-min.js');\n}\n\nvar viewer_17347324066843112 = null;\nvar warn = document.getElementById(\"3dmolwarning_17347324066843112\");\nif(warn) {\n    warn.parentNode.removeChild(warn);\n}\n$3Dmolpromise.then(function() {\nviewer_17347324066843112 = $3Dmol.createViewer(document.getElementById(\"3dmolviewer_17347324066843112\"),{backgroundColor:\"white\"});\nviewer_17347324066843112.zoomTo();\n\tviewer_17347324066843112.addModel(\"\\n     RDKit          3D\\n\\n 25 25  0  0  0  0  0  0  0  0999 V2000\\n   -4.2631   -0.0387   -0.2120 O   0  0  0  0  0  0  0  0  0  0  0  0\\n   -3.1638    0.5401   -0.5051 C   0  0  0  0  0  0  0  0  0  0  0  0\\n   -3.2326    1.6937   -1.2360 O   0  0  0  0  0  0  0  0  0  0  0  0\\n   -1.8912   -0.0308   -0.0627 C   0  0  0  0  0  0  0  0  0  0  0  0\\n   -0.7741    0.5624   -0.4227 C   0  0  0  0  0  0  0  0  0  0  0  0\\n    0.5791    0.1120   -0.0595 C   0  0  0  0  0  0  0  0  0  0  0  0\\n    1.3103    1.1233    0.5921 O   0  0  0  0  0  0  0  0  0  0  0  0\\n    2.5366    1.6061   -0.4362 P   0  0  0  0  0  0  0  0  0  0  0  0\\n    3.1830    2.8706    0.0923 O   0  0  0  0  0  0  0  0  0  0  0  0\\n    3.7426    0.4225   -0.5657 O   0  0  0  0  0  0  0  0  0  0  0  0\\n    1.8558    1.8687   -1.9591 O   0  0  0  0  0  0  0  0  0  0  0  0\\n    0.5203   -1.0361    0.9200 C   0  0  0  0  0  0  0  0  0  0  0  0\\n   -0.5833   -2.0130    0.5963 C   0  0  0  0  0  0  0  0  0  0  0  0\\n   -1.8868   -1.2566    0.7755 C   0  0  0  0  0  0  0  0  0  0  0  0\\n   -4.1623    2.0861   -1.4401 H   0  0  0  0  0  0  0  0  0  0  0  0\\n   -0.8427    1.4623   -1.0408 H   0  0  0  0  0  0  0  0  0  0  0  0\\n    1.1408   -0.2728   -0.9524 H   0  0  0  0  0  0  0  0  0  0  0  0\\n    4.2264    0.4111    0.2983 H   0  0  0  0  0  0  0  0  0  0  0  0\\n    2.2495    2.6816   -2.3791 H   0  0  0  0  0  0  0  0  0  0  0  0\\n    0.3529   -0.6675    1.9476 H   0  0  0  0  0  0  0  0  0  0  0  0\\n    1.5229   -1.5424    0.9156 H   0  0  0  0  0  0  0  0  0  0  0  0\\n   -0.5124   -2.4089   -0.4347 H   0  0  0  0  0  0  0  0  0  0  0  0\\n   -0.5334   -2.8111    1.3674 H   0  0  0  0  0  0  0  0  0  0  0  0\\n   -1.9923   -0.9317    1.8205 H   0  0  0  0  0  0  0  0  0  0  0  0\\n   -2.7167   -1.9129    0.4929 H   0  0  0  0  0  0  0  0  0  0  0  0\\n  1  2  2  0\\n  2  3  1  0\\n  2  4  1  0\\n  4  5  2  0\\n  5  6  1  0\\n  6  7  1  0\\n  7  8  1  0\\n  8  9  2  0\\n  8 10  1  0\\n  8 11  1  0\\n  6 12  1  0\\n 12 13  1  0\\n 13 14  1  0\\n 14  4  1  0\\n  3 15  1  0\\n  5 16  1  0\\n  6 17  1  0\\n 10 18  1  0\\n 11 19  1  0\\n 12 20  1  0\\n 12 21  1  0\\n 13 22  1  0\\n 13 23  1  0\\n 14 24  1  0\\n 14 25  1  0\\nM  END\\n\",\"mol\");\n\tviewer_17347324066843112.setStyle({\"stick\": {}});\n\tviewer_17347324066843112.zoomTo();\nviewer_17347324066843112.render();\n});\n</script>",
      "text/html": [
       "<div id=\"3dmolviewer_17347324066843112\"  style=\"position: relative; width: 800px; height: 600px;\">\n",
       "        <p id=\"3dmolwarning_17347324066843112\" style=\"background-color:#ffcccc;color:black\">3Dmol.js failed to load for some reason.  Please check your browser console for error messages.<br></p>\n",
       "        </div>\n",
       "<script>\n",
       "\n",
       "var loadScriptAsync = function(uri){\n",
       "  return new Promise((resolve, reject) => {\n",
       "    //this is to ignore the existence of requirejs amd\n",
       "    var savedexports, savedmodule;\n",
       "    if (typeof exports !== 'undefined') savedexports = exports;\n",
       "    else exports = {}\n",
       "    if (typeof module !== 'undefined') savedmodule = module;\n",
       "    else module = {}\n",
       "\n",
       "    var tag = document.createElement('script');\n",
       "    tag.src = uri;\n",
       "    tag.async = true;\n",
       "    tag.onload = () => {\n",
       "        exports = savedexports;\n",
       "        module = savedmodule;\n",
       "        resolve();\n",
       "    };\n",
       "  var firstScriptTag = document.getElementsByTagName('script')[0];\n",
       "  firstScriptTag.parentNode.insertBefore(tag, firstScriptTag);\n",
       "});\n",
       "};\n",
       "\n",
       "if(typeof $3Dmolpromise === 'undefined') {\n",
       "$3Dmolpromise = null;\n",
       "  $3Dmolpromise = loadScriptAsync('https://cdnjs.cloudflare.com/ajax/libs/3Dmol/2.4.2/3Dmol-min.js');\n",
       "}\n",
       "\n",
       "var viewer_17347324066843112 = null;\n",
       "var warn = document.getElementById(\"3dmolwarning_17347324066843112\");\n",
       "if(warn) {\n",
       "    warn.parentNode.removeChild(warn);\n",
       "}\n",
       "$3Dmolpromise.then(function() {\n",
       "viewer_17347324066843112 = $3Dmol.createViewer(document.getElementById(\"3dmolviewer_17347324066843112\"),{backgroundColor:\"white\"});\n",
       "viewer_17347324066843112.zoomTo();\n",
       "\tviewer_17347324066843112.addModel(\"\\n     RDKit          3D\\n\\n 25 25  0  0  0  0  0  0  0  0999 V2000\\n   -4.2631   -0.0387   -0.2120 O   0  0  0  0  0  0  0  0  0  0  0  0\\n   -3.1638    0.5401   -0.5051 C   0  0  0  0  0  0  0  0  0  0  0  0\\n   -3.2326    1.6937   -1.2360 O   0  0  0  0  0  0  0  0  0  0  0  0\\n   -1.8912   -0.0308   -0.0627 C   0  0  0  0  0  0  0  0  0  0  0  0\\n   -0.7741    0.5624   -0.4227 C   0  0  0  0  0  0  0  0  0  0  0  0\\n    0.5791    0.1120   -0.0595 C   0  0  0  0  0  0  0  0  0  0  0  0\\n    1.3103    1.1233    0.5921 O   0  0  0  0  0  0  0  0  0  0  0  0\\n    2.5366    1.6061   -0.4362 P   0  0  0  0  0  0  0  0  0  0  0  0\\n    3.1830    2.8706    0.0923 O   0  0  0  0  0  0  0  0  0  0  0  0\\n    3.7426    0.4225   -0.5657 O   0  0  0  0  0  0  0  0  0  0  0  0\\n    1.8558    1.8687   -1.9591 O   0  0  0  0  0  0  0  0  0  0  0  0\\n    0.5203   -1.0361    0.9200 C   0  0  0  0  0  0  0  0  0  0  0  0\\n   -0.5833   -2.0130    0.5963 C   0  0  0  0  0  0  0  0  0  0  0  0\\n   -1.8868   -1.2566    0.7755 C   0  0  0  0  0  0  0  0  0  0  0  0\\n   -4.1623    2.0861   -1.4401 H   0  0  0  0  0  0  0  0  0  0  0  0\\n   -0.8427    1.4623   -1.0408 H   0  0  0  0  0  0  0  0  0  0  0  0\\n    1.1408   -0.2728   -0.9524 H   0  0  0  0  0  0  0  0  0  0  0  0\\n    4.2264    0.4111    0.2983 H   0  0  0  0  0  0  0  0  0  0  0  0\\n    2.2495    2.6816   -2.3791 H   0  0  0  0  0  0  0  0  0  0  0  0\\n    0.3529   -0.6675    1.9476 H   0  0  0  0  0  0  0  0  0  0  0  0\\n    1.5229   -1.5424    0.9156 H   0  0  0  0  0  0  0  0  0  0  0  0\\n   -0.5124   -2.4089   -0.4347 H   0  0  0  0  0  0  0  0  0  0  0  0\\n   -0.5334   -2.8111    1.3674 H   0  0  0  0  0  0  0  0  0  0  0  0\\n   -1.9923   -0.9317    1.8205 H   0  0  0  0  0  0  0  0  0  0  0  0\\n   -2.7167   -1.9129    0.4929 H   0  0  0  0  0  0  0  0  0  0  0  0\\n  1  2  2  0\\n  2  3  1  0\\n  2  4  1  0\\n  4  5  2  0\\n  5  6  1  0\\n  6  7  1  0\\n  7  8  1  0\\n  8  9  2  0\\n  8 10  1  0\\n  8 11  1  0\\n  6 12  1  0\\n 12 13  1  0\\n 13 14  1  0\\n 14  4  1  0\\n  3 15  1  0\\n  5 16  1  0\\n  6 17  1  0\\n 10 18  1  0\\n 11 19  1  0\\n 12 20  1  0\\n 12 21  1  0\\n 13 22  1  0\\n 13 23  1  0\\n 14 24  1  0\\n 14 25  1  0\\nM  END\\n\",\"mol\");\n",
       "\tviewer_17347324066843112.setStyle({\"stick\": {}});\n",
       "\tviewer_17347324066843112.zoomTo();\n",
       "viewer_17347324066843112.render();\n",
       "});\n",
       "</script>"
      ]
     },
     "metadata": {},
     "output_type": "display_data"
    }
   ],
   "source": [
    "view_mol_3d(low_rd_mol_visu_hexane)"
   ]
  },
  {
   "cell_type": "code",
   "execution_count": 228,
   "metadata": {},
   "outputs": [],
   "source": [
    "# 找第一个分析的ground truth in H20\n",
    "directory_path = 'shui/[H]OC(=O)C1=C([H])[C@@]([H])(OP(=O)(O[H])O[H])C([H])([H])C([H])([H])C1([H])[H].pickle'\n",
    "with open(directory_path, 'rb') as f:\n",
    "    visu1_gt_shui = pickle.load(f)\n"
   ]
  },
  {
   "cell_type": "code",
   "execution_count": 229,
   "metadata": {},
   "outputs": [],
   "source": [
    "conf_visu1_shui_gt_list = []"
   ]
  },
  {
   "cell_type": "code",
   "execution_count": 230,
   "metadata": {},
   "outputs": [],
   "source": [
    "for conf in visu1_gt_shui['conformers']:\n",
    "    conf_visu1_shui_gt_list.append(conf['rd_mol'])"
   ]
  },
  {
   "cell_type": "code",
   "execution_count": 231,
   "metadata": {},
   "outputs": [],
   "source": [
    "visu1_shui_gt_rd_mol, visu1_shui_gt_energy = get_lowest_energy_rd_mol_list(conf_visu1_shui_gt_list)"
   ]
  },
  {
   "cell_type": "code",
   "execution_count": 232,
   "metadata": {},
   "outputs": [
    {
     "data": {
      "application/3dmoljs_load.v0": "<div id=\"3dmolviewer_17347321738259609\"  style=\"position: relative; width: 800px; height: 600px;\">\n        <p id=\"3dmolwarning_17347321738259609\" style=\"background-color:#ffcccc;color:black\">3Dmol.js failed to load for some reason.  Please check your browser console for error messages.<br></p>\n        </div>\n<script>\n\nvar loadScriptAsync = function(uri){\n  return new Promise((resolve, reject) => {\n    //this is to ignore the existence of requirejs amd\n    var savedexports, savedmodule;\n    if (typeof exports !== 'undefined') savedexports = exports;\n    else exports = {}\n    if (typeof module !== 'undefined') savedmodule = module;\n    else module = {}\n\n    var tag = document.createElement('script');\n    tag.src = uri;\n    tag.async = true;\n    tag.onload = () => {\n        exports = savedexports;\n        module = savedmodule;\n        resolve();\n    };\n  var firstScriptTag = document.getElementsByTagName('script')[0];\n  firstScriptTag.parentNode.insertBefore(tag, firstScriptTag);\n});\n};\n\nif(typeof $3Dmolpromise === 'undefined') {\n$3Dmolpromise = null;\n  $3Dmolpromise = loadScriptAsync('https://cdnjs.cloudflare.com/ajax/libs/3Dmol/2.4.2/3Dmol-min.js');\n}\n\nvar viewer_17347321738259609 = null;\nvar warn = document.getElementById(\"3dmolwarning_17347321738259609\");\nif(warn) {\n    warn.parentNode.removeChild(warn);\n}\n$3Dmolpromise.then(function() {\nviewer_17347321738259609 = $3Dmol.createViewer(document.getElementById(\"3dmolviewer_17347321738259609\"),{backgroundColor:\"white\"});\nviewer_17347321738259609.zoomTo();\n\tviewer_17347321738259609.addModel(\"\\n     RDKit          3D\\n\\n 25 25  0  0  0  0  0  0  0  0999 V2000\\n    5.3306   -3.2107    1.3301 O   0  0  0  0  0  0  0  0  0  0  0  0\\n    4.6913   -2.4139    0.6530 C   0  0  0  0  0  0  0  0  0  0  0  0\\n    4.3272   -2.6731   -0.6228 O   0  0  0  0  0  0  0  0  0  0  0  0\\n    4.2391   -1.0796    1.1491 C   0  0  0  0  0  0  0  0  0  0  0  0\\n    3.4628   -0.2804    0.3798 C   0  0  0  0  0  0  0  0  0  0  0  0\\n    2.9797    1.0689    0.8348 C   0  0  1  0  0  0  0  0  0  0  0  0\\n    3.0843    1.8016    0.0170 H   0  0  0  0  0  0  0  0  0  0  0  0\\n    1.5225    0.9111    1.1137 O   0  0  0  0  0  0  0  0  0  0  0  0\\n    0.4311    1.5646    0.1169 P   0  0  0  0  0  0  0  0  0  0  0  0\\n   -0.9631    1.1912    0.5010 O   0  0  0  0  0  0  0  0  0  0  0  0\\n    0.8762    3.1204    0.1774 O   0  0  0  0  0  0  0  0  0  0  0  0\\n    0.8670    1.1729   -1.4006 O   0  0  0  0  0  0  0  0  0  0  0  0\\n    3.6694    1.5741    2.0992 C   0  0  0  0  0  0  0  0  0  0  0  0\\n    3.8451    0.4464    3.1275 C   0  0  0  0  0  0  0  0  0  0  0  0\\n    4.6924   -0.6920    2.5404 C   0  0  0  0  0  0  0  0  0  0  0  0\\n    4.6563   -3.5719   -0.8435 H   0  0  0  0  0  0  0  0  0  0  0  0\\n    3.1368   -0.6117   -0.6116 H   0  0  0  0  0  0  0  0  0  0  0  0\\n    0.3760    3.6780   -0.4551 H   0  0  0  0  0  0  0  0  0  0  0  0\\n    0.3796    0.3894   -1.7297 H   0  0  0  0  0  0  0  0  0  0  0  0\\n    3.0895    2.4189    2.5071 H   0  0  0  0  0  0  0  0  0  0  0  0\\n    4.6583    1.9725    1.8025 H   0  0  0  0  0  0  0  0  0  0  0  0\\n    2.8507    0.0572    3.4147 H   0  0  0  0  0  0  0  0  0  0  0  0\\n    4.3218    0.8365    4.0425 H   0  0  0  0  0  0  0  0  0  0  0  0\\n    4.6643   -1.5887    3.1839 H   0  0  0  0  0  0  0  0  0  0  0  0\\n    5.7586   -0.3911    2.4903 H   0  0  0  0  0  0  0  0  0  0  0  0\\n  2  4  1  0\\n  2  1  2  0\\n  3  2  1  0\\n  4 15  1  0\\n  5  6  1  0\\n  5  4  2  0\\n  6  7  1  6\\n  6  8  1  0\\n  6 13  1  0\\n  9 11  1  0\\n  9 10  2  0\\n  9  8  1  0\\n 12  9  1  0\\n 13 20  1  0\\n 13 14  1  0\\n 14 22  1  0\\n 14 23  1  0\\n 15 14  1  0\\n 15 24  1  0\\n 16  3  1  0\\n 17  5  1  0\\n 18 11  1  0\\n 19 12  1  0\\n 21 13  1  0\\n 25 15  1  0\\nM  END\\n\",\"mol\");\n\tviewer_17347321738259609.setStyle({\"stick\": {}});\n\tviewer_17347321738259609.zoomTo();\nviewer_17347321738259609.render();\n});\n</script>",
      "text/html": [
       "<div id=\"3dmolviewer_17347321738259609\"  style=\"position: relative; width: 800px; height: 600px;\">\n",
       "        <p id=\"3dmolwarning_17347321738259609\" style=\"background-color:#ffcccc;color:black\">3Dmol.js failed to load for some reason.  Please check your browser console for error messages.<br></p>\n",
       "        </div>\n",
       "<script>\n",
       "\n",
       "var loadScriptAsync = function(uri){\n",
       "  return new Promise((resolve, reject) => {\n",
       "    //this is to ignore the existence of requirejs amd\n",
       "    var savedexports, savedmodule;\n",
       "    if (typeof exports !== 'undefined') savedexports = exports;\n",
       "    else exports = {}\n",
       "    if (typeof module !== 'undefined') savedmodule = module;\n",
       "    else module = {}\n",
       "\n",
       "    var tag = document.createElement('script');\n",
       "    tag.src = uri;\n",
       "    tag.async = true;\n",
       "    tag.onload = () => {\n",
       "        exports = savedexports;\n",
       "        module = savedmodule;\n",
       "        resolve();\n",
       "    };\n",
       "  var firstScriptTag = document.getElementsByTagName('script')[0];\n",
       "  firstScriptTag.parentNode.insertBefore(tag, firstScriptTag);\n",
       "});\n",
       "};\n",
       "\n",
       "if(typeof $3Dmolpromise === 'undefined') {\n",
       "$3Dmolpromise = null;\n",
       "  $3Dmolpromise = loadScriptAsync('https://cdnjs.cloudflare.com/ajax/libs/3Dmol/2.4.2/3Dmol-min.js');\n",
       "}\n",
       "\n",
       "var viewer_17347321738259609 = null;\n",
       "var warn = document.getElementById(\"3dmolwarning_17347321738259609\");\n",
       "if(warn) {\n",
       "    warn.parentNode.removeChild(warn);\n",
       "}\n",
       "$3Dmolpromise.then(function() {\n",
       "viewer_17347321738259609 = $3Dmol.createViewer(document.getElementById(\"3dmolviewer_17347321738259609\"),{backgroundColor:\"white\"});\n",
       "viewer_17347321738259609.zoomTo();\n",
       "\tviewer_17347321738259609.addModel(\"\\n     RDKit          3D\\n\\n 25 25  0  0  0  0  0  0  0  0999 V2000\\n    5.3306   -3.2107    1.3301 O   0  0  0  0  0  0  0  0  0  0  0  0\\n    4.6913   -2.4139    0.6530 C   0  0  0  0  0  0  0  0  0  0  0  0\\n    4.3272   -2.6731   -0.6228 O   0  0  0  0  0  0  0  0  0  0  0  0\\n    4.2391   -1.0796    1.1491 C   0  0  0  0  0  0  0  0  0  0  0  0\\n    3.4628   -0.2804    0.3798 C   0  0  0  0  0  0  0  0  0  0  0  0\\n    2.9797    1.0689    0.8348 C   0  0  1  0  0  0  0  0  0  0  0  0\\n    3.0843    1.8016    0.0170 H   0  0  0  0  0  0  0  0  0  0  0  0\\n    1.5225    0.9111    1.1137 O   0  0  0  0  0  0  0  0  0  0  0  0\\n    0.4311    1.5646    0.1169 P   0  0  0  0  0  0  0  0  0  0  0  0\\n   -0.9631    1.1912    0.5010 O   0  0  0  0  0  0  0  0  0  0  0  0\\n    0.8762    3.1204    0.1774 O   0  0  0  0  0  0  0  0  0  0  0  0\\n    0.8670    1.1729   -1.4006 O   0  0  0  0  0  0  0  0  0  0  0  0\\n    3.6694    1.5741    2.0992 C   0  0  0  0  0  0  0  0  0  0  0  0\\n    3.8451    0.4464    3.1275 C   0  0  0  0  0  0  0  0  0  0  0  0\\n    4.6924   -0.6920    2.5404 C   0  0  0  0  0  0  0  0  0  0  0  0\\n    4.6563   -3.5719   -0.8435 H   0  0  0  0  0  0  0  0  0  0  0  0\\n    3.1368   -0.6117   -0.6116 H   0  0  0  0  0  0  0  0  0  0  0  0\\n    0.3760    3.6780   -0.4551 H   0  0  0  0  0  0  0  0  0  0  0  0\\n    0.3796    0.3894   -1.7297 H   0  0  0  0  0  0  0  0  0  0  0  0\\n    3.0895    2.4189    2.5071 H   0  0  0  0  0  0  0  0  0  0  0  0\\n    4.6583    1.9725    1.8025 H   0  0  0  0  0  0  0  0  0  0  0  0\\n    2.8507    0.0572    3.4147 H   0  0  0  0  0  0  0  0  0  0  0  0\\n    4.3218    0.8365    4.0425 H   0  0  0  0  0  0  0  0  0  0  0  0\\n    4.6643   -1.5887    3.1839 H   0  0  0  0  0  0  0  0  0  0  0  0\\n    5.7586   -0.3911    2.4903 H   0  0  0  0  0  0  0  0  0  0  0  0\\n  2  4  1  0\\n  2  1  2  0\\n  3  2  1  0\\n  4 15  1  0\\n  5  6  1  0\\n  5  4  2  0\\n  6  7  1  6\\n  6  8  1  0\\n  6 13  1  0\\n  9 11  1  0\\n  9 10  2  0\\n  9  8  1  0\\n 12  9  1  0\\n 13 20  1  0\\n 13 14  1  0\\n 14 22  1  0\\n 14 23  1  0\\n 15 14  1  0\\n 15 24  1  0\\n 16  3  1  0\\n 17  5  1  0\\n 18 11  1  0\\n 19 12  1  0\\n 21 13  1  0\\n 25 15  1  0\\nM  END\\n\",\"mol\");\n",
       "\tviewer_17347321738259609.setStyle({\"stick\": {}});\n",
       "\tviewer_17347321738259609.zoomTo();\n",
       "viewer_17347321738259609.render();\n",
       "});\n",
       "</script>"
      ]
     },
     "metadata": {},
     "output_type": "display_data"
    }
   ],
   "source": [
    "# groud truth in 水\n",
    "view_mol_3d(visu1_shui_gt_rd_mol)"
   ]
  },
  {
   "cell_type": "code",
   "execution_count": 233,
   "metadata": {},
   "outputs": [],
   "source": [
    "# gt in hexane\n",
    "directory_path = 'hexane_groupby/[H]OC(=O)C1=C([H])[C@@]([H])(OP(=O)(O[H])O[H])C([H])([H])C([H])([H])C1([H])[H].pickle'\n",
    "with open(directory_path, 'rb') as f:\n",
    "    visu1_gt_hexane = pickle.load(f)\n"
   ]
  },
  {
   "cell_type": "code",
   "execution_count": 234,
   "metadata": {},
   "outputs": [],
   "source": [
    "conf_visu1_hexane_gt_list = []"
   ]
  },
  {
   "cell_type": "code",
   "execution_count": 235,
   "metadata": {},
   "outputs": [],
   "source": [
    "for conf in visu1_gt_hexane['conformers']:\n",
    "    conf_visu1_hexane_gt_list.append(conf['rd_mol'])"
   ]
  },
  {
   "cell_type": "code",
   "execution_count": 236,
   "metadata": {},
   "outputs": [],
   "source": [
    "visu1_hexane_gt_rd_mol, visu1_hexane_gt_energy = get_lowest_energy_rd_mol_list(conf_visu1_hexane_gt_list)"
   ]
  },
  {
   "cell_type": "code",
   "execution_count": 237,
   "metadata": {},
   "outputs": [
    {
     "data": {
      "application/3dmoljs_load.v0": "<div id=\"3dmolviewer_1734732174757623\"  style=\"position: relative; width: 800px; height: 600px;\">\n        <p id=\"3dmolwarning_1734732174757623\" style=\"background-color:#ffcccc;color:black\">3Dmol.js failed to load for some reason.  Please check your browser console for error messages.<br></p>\n        </div>\n<script>\n\nvar loadScriptAsync = function(uri){\n  return new Promise((resolve, reject) => {\n    //this is to ignore the existence of requirejs amd\n    var savedexports, savedmodule;\n    if (typeof exports !== 'undefined') savedexports = exports;\n    else exports = {}\n    if (typeof module !== 'undefined') savedmodule = module;\n    else module = {}\n\n    var tag = document.createElement('script');\n    tag.src = uri;\n    tag.async = true;\n    tag.onload = () => {\n        exports = savedexports;\n        module = savedmodule;\n        resolve();\n    };\n  var firstScriptTag = document.getElementsByTagName('script')[0];\n  firstScriptTag.parentNode.insertBefore(tag, firstScriptTag);\n});\n};\n\nif(typeof $3Dmolpromise === 'undefined') {\n$3Dmolpromise = null;\n  $3Dmolpromise = loadScriptAsync('https://cdnjs.cloudflare.com/ajax/libs/3Dmol/2.4.2/3Dmol-min.js');\n}\n\nvar viewer_1734732174757623 = null;\nvar warn = document.getElementById(\"3dmolwarning_1734732174757623\");\nif(warn) {\n    warn.parentNode.removeChild(warn);\n}\n$3Dmolpromise.then(function() {\nviewer_1734732174757623 = $3Dmol.createViewer(document.getElementById(\"3dmolviewer_1734732174757623\"),{backgroundColor:\"white\"});\nviewer_1734732174757623.zoomTo();\n\tviewer_1734732174757623.addModel(\"\\n     RDKit          3D\\n\\n 25 25  0  0  0  0  0  0  0  0999 V2000\\n    5.3306   -3.2107    1.3301 O   0  0  0  0  0  0  0  0  0  0  0  0\\n    4.6913   -2.4139    0.6530 C   0  0  0  0  0  0  0  0  0  0  0  0\\n    4.3272   -2.6731   -0.6228 O   0  0  0  0  0  0  0  0  0  0  0  0\\n    4.2391   -1.0796    1.1491 C   0  0  0  0  0  0  0  0  0  0  0  0\\n    3.4628   -0.2804    0.3798 C   0  0  0  0  0  0  0  0  0  0  0  0\\n    2.9797    1.0689    0.8348 C   0  0  1  0  0  0  0  0  0  0  0  0\\n    3.0843    1.8016    0.0170 H   0  0  0  0  0  0  0  0  0  0  0  0\\n    1.5225    0.9111    1.1137 O   0  0  0  0  0  0  0  0  0  0  0  0\\n    0.4311    1.5646    0.1169 P   0  0  0  0  0  0  0  0  0  0  0  0\\n   -0.9631    1.1912    0.5010 O   0  0  0  0  0  0  0  0  0  0  0  0\\n    0.8762    3.1204    0.1774 O   0  0  0  0  0  0  0  0  0  0  0  0\\n    0.8670    1.1729   -1.4006 O   0  0  0  0  0  0  0  0  0  0  0  0\\n    3.6694    1.5741    2.0992 C   0  0  0  0  0  0  0  0  0  0  0  0\\n    3.8451    0.4464    3.1275 C   0  0  0  0  0  0  0  0  0  0  0  0\\n    4.6924   -0.6920    2.5404 C   0  0  0  0  0  0  0  0  0  0  0  0\\n    4.6563   -3.5719   -0.8435 H   0  0  0  0  0  0  0  0  0  0  0  0\\n    3.1368   -0.6117   -0.6116 H   0  0  0  0  0  0  0  0  0  0  0  0\\n    0.3760    3.6780   -0.4551 H   0  0  0  0  0  0  0  0  0  0  0  0\\n    0.3796    0.3894   -1.7297 H   0  0  0  0  0  0  0  0  0  0  0  0\\n    3.0895    2.4189    2.5071 H   0  0  0  0  0  0  0  0  0  0  0  0\\n    4.6583    1.9725    1.8025 H   0  0  0  0  0  0  0  0  0  0  0  0\\n    2.8507    0.0572    3.4147 H   0  0  0  0  0  0  0  0  0  0  0  0\\n    4.3218    0.8365    4.0425 H   0  0  0  0  0  0  0  0  0  0  0  0\\n    4.6643   -1.5887    3.1839 H   0  0  0  0  0  0  0  0  0  0  0  0\\n    5.7586   -0.3911    2.4903 H   0  0  0  0  0  0  0  0  0  0  0  0\\n  2  4  1  0\\n  2  1  2  0\\n  3  2  1  0\\n  4 15  1  0\\n  5  6  1  0\\n  5  4  2  0\\n  6  7  1  6\\n  6  8  1  0\\n  6 13  1  0\\n  9 11  1  0\\n  9 10  2  0\\n  9  8  1  0\\n 12  9  1  0\\n 13 20  1  0\\n 13 14  1  0\\n 14 22  1  0\\n 14 23  1  0\\n 15 14  1  0\\n 15 24  1  0\\n 16  3  1  0\\n 17  5  1  0\\n 18 11  1  0\\n 19 12  1  0\\n 21 13  1  0\\n 25 15  1  0\\nM  END\\n\",\"mol\");\n\tviewer_1734732174757623.setStyle({\"stick\": {}});\n\tviewer_1734732174757623.zoomTo();\nviewer_1734732174757623.render();\n});\n</script>",
      "text/html": [
       "<div id=\"3dmolviewer_1734732174757623\"  style=\"position: relative; width: 800px; height: 600px;\">\n",
       "        <p id=\"3dmolwarning_1734732174757623\" style=\"background-color:#ffcccc;color:black\">3Dmol.js failed to load for some reason.  Please check your browser console for error messages.<br></p>\n",
       "        </div>\n",
       "<script>\n",
       "\n",
       "var loadScriptAsync = function(uri){\n",
       "  return new Promise((resolve, reject) => {\n",
       "    //this is to ignore the existence of requirejs amd\n",
       "    var savedexports, savedmodule;\n",
       "    if (typeof exports !== 'undefined') savedexports = exports;\n",
       "    else exports = {}\n",
       "    if (typeof module !== 'undefined') savedmodule = module;\n",
       "    else module = {}\n",
       "\n",
       "    var tag = document.createElement('script');\n",
       "    tag.src = uri;\n",
       "    tag.async = true;\n",
       "    tag.onload = () => {\n",
       "        exports = savedexports;\n",
       "        module = savedmodule;\n",
       "        resolve();\n",
       "    };\n",
       "  var firstScriptTag = document.getElementsByTagName('script')[0];\n",
       "  firstScriptTag.parentNode.insertBefore(tag, firstScriptTag);\n",
       "});\n",
       "};\n",
       "\n",
       "if(typeof $3Dmolpromise === 'undefined') {\n",
       "$3Dmolpromise = null;\n",
       "  $3Dmolpromise = loadScriptAsync('https://cdnjs.cloudflare.com/ajax/libs/3Dmol/2.4.2/3Dmol-min.js');\n",
       "}\n",
       "\n",
       "var viewer_1734732174757623 = null;\n",
       "var warn = document.getElementById(\"3dmolwarning_1734732174757623\");\n",
       "if(warn) {\n",
       "    warn.parentNode.removeChild(warn);\n",
       "}\n",
       "$3Dmolpromise.then(function() {\n",
       "viewer_1734732174757623 = $3Dmol.createViewer(document.getElementById(\"3dmolviewer_1734732174757623\"),{backgroundColor:\"white\"});\n",
       "viewer_1734732174757623.zoomTo();\n",
       "\tviewer_1734732174757623.addModel(\"\\n     RDKit          3D\\n\\n 25 25  0  0  0  0  0  0  0  0999 V2000\\n    5.3306   -3.2107    1.3301 O   0  0  0  0  0  0  0  0  0  0  0  0\\n    4.6913   -2.4139    0.6530 C   0  0  0  0  0  0  0  0  0  0  0  0\\n    4.3272   -2.6731   -0.6228 O   0  0  0  0  0  0  0  0  0  0  0  0\\n    4.2391   -1.0796    1.1491 C   0  0  0  0  0  0  0  0  0  0  0  0\\n    3.4628   -0.2804    0.3798 C   0  0  0  0  0  0  0  0  0  0  0  0\\n    2.9797    1.0689    0.8348 C   0  0  1  0  0  0  0  0  0  0  0  0\\n    3.0843    1.8016    0.0170 H   0  0  0  0  0  0  0  0  0  0  0  0\\n    1.5225    0.9111    1.1137 O   0  0  0  0  0  0  0  0  0  0  0  0\\n    0.4311    1.5646    0.1169 P   0  0  0  0  0  0  0  0  0  0  0  0\\n   -0.9631    1.1912    0.5010 O   0  0  0  0  0  0  0  0  0  0  0  0\\n    0.8762    3.1204    0.1774 O   0  0  0  0  0  0  0  0  0  0  0  0\\n    0.8670    1.1729   -1.4006 O   0  0  0  0  0  0  0  0  0  0  0  0\\n    3.6694    1.5741    2.0992 C   0  0  0  0  0  0  0  0  0  0  0  0\\n    3.8451    0.4464    3.1275 C   0  0  0  0  0  0  0  0  0  0  0  0\\n    4.6924   -0.6920    2.5404 C   0  0  0  0  0  0  0  0  0  0  0  0\\n    4.6563   -3.5719   -0.8435 H   0  0  0  0  0  0  0  0  0  0  0  0\\n    3.1368   -0.6117   -0.6116 H   0  0  0  0  0  0  0  0  0  0  0  0\\n    0.3760    3.6780   -0.4551 H   0  0  0  0  0  0  0  0  0  0  0  0\\n    0.3796    0.3894   -1.7297 H   0  0  0  0  0  0  0  0  0  0  0  0\\n    3.0895    2.4189    2.5071 H   0  0  0  0  0  0  0  0  0  0  0  0\\n    4.6583    1.9725    1.8025 H   0  0  0  0  0  0  0  0  0  0  0  0\\n    2.8507    0.0572    3.4147 H   0  0  0  0  0  0  0  0  0  0  0  0\\n    4.3218    0.8365    4.0425 H   0  0  0  0  0  0  0  0  0  0  0  0\\n    4.6643   -1.5887    3.1839 H   0  0  0  0  0  0  0  0  0  0  0  0\\n    5.7586   -0.3911    2.4903 H   0  0  0  0  0  0  0  0  0  0  0  0\\n  2  4  1  0\\n  2  1  2  0\\n  3  2  1  0\\n  4 15  1  0\\n  5  6  1  0\\n  5  4  2  0\\n  6  7  1  6\\n  6  8  1  0\\n  6 13  1  0\\n  9 11  1  0\\n  9 10  2  0\\n  9  8  1  0\\n 12  9  1  0\\n 13 20  1  0\\n 13 14  1  0\\n 14 22  1  0\\n 14 23  1  0\\n 15 14  1  0\\n 15 24  1  0\\n 16  3  1  0\\n 17  5  1  0\\n 18 11  1  0\\n 19 12  1  0\\n 21 13  1  0\\n 25 15  1  0\\nM  END\\n\",\"mol\");\n",
       "\tviewer_1734732174757623.setStyle({\"stick\": {}});\n",
       "\tviewer_1734732174757623.zoomTo();\n",
       "viewer_1734732174757623.render();\n",
       "});\n",
       "</script>"
      ]
     },
     "metadata": {},
     "output_type": "display_data"
    }
   ],
   "source": [
    "view_mol_3d(visu1_hexane_gt_rd_mol)"
   ]
  },
  {
   "cell_type": "code",
   "execution_count": 213,
   "metadata": {},
   "outputs": [
    {
     "data": {
      "text/plain": [
       "-219.1981311710332"
      ]
     },
     "execution_count": 213,
     "metadata": {},
     "output_type": "execute_result"
    }
   ],
   "source": [
    "visu1_hexane_gt_energy"
   ]
  },
  {
   "cell_type": "code",
   "execution_count": 214,
   "metadata": {},
   "outputs": [
    {
     "data": {
      "text/plain": [
       "-219.1981311710332"
      ]
     },
     "execution_count": 214,
     "metadata": {},
     "output_type": "execute_result"
    }
   ],
   "source": [
    "visu1_shui_gt_energy"
   ]
  },
  {
   "cell_type": "code",
   "execution_count": 238,
   "metadata": {},
   "outputs": [],
   "source": [
    "dump_pickle_dict_visu1 = {}"
   ]
  },
  {
   "cell_type": "code",
   "execution_count": 244,
   "metadata": {},
   "outputs": [],
   "source": [
    "dump_pickle_dict_visu1['smile of the molecular'] = '[H]OC(=O)C1=C([H])[C@@]([H])(OP(=O)(O[H])O[H])C([H])([H])C([H])([H])C1([H])[H]'\n",
    "dump_pickle_dict_visu1['finetune model predicted in H2O'] = low_rd_mol_visu_shui\n",
    "dump_pickle_dict_visu1['ground truth in H2O'] = visu1_shui_gt_rd_mol\n",
    "dump_pickle_dict_visu1['finetune model predicted in Hexane'] = low_rd_mol_visu_hexane\n",
    "dump_pickle_dict_visu1['ground truth in Hexane'] = visu1_hexane_gt_rd_mol"
   ]
  },
  {
   "cell_type": "code",
   "execution_count": 250,
   "metadata": {},
   "outputs": [],
   "source": [
    "with open('torsional-diffusion/visu_on_[H]OC(=O)C1=C([H])[C@@]([H])(OP(=O)(O[H])O[H])C([H])([H])C([H])([H])C1([H])[H].pkl', 'wb') as f:\n",
    "    pickle.dump(dump_pickle_dict_visu1, f)"
   ]
  },
  {
   "cell_type": "markdown",
   "metadata": {},
   "source": [
    "### Visualization"
   ]
  },
  {
   "cell_type": "markdown",
   "metadata": {},
   "source": [
    "##### second molecular visulization"
   ]
  },
  {
   "cell_type": "markdown",
   "metadata": {},
   "source": [
    "##### H2O and Hexane groud true"
   ]
  },
  {
   "cell_type": "code",
   "execution_count": 305,
   "metadata": {},
   "outputs": [],
   "source": [
    "mol2_shui_gt_path = 'shui/[H]C([H])([H])C([H])([H])OP(=O)(C([H])([H])C([H])([H])C([H])([H])[H])C([H])([H])C([H])([H])C([H])([H])[H].pickle'\n",
    "with open(mol2_shui_gt_path, 'rb') as f:\n",
    "    mol_2_shui_gt = pickle.load(f)"
   ]
  },
  {
   "cell_type": "code",
   "execution_count": 306,
   "metadata": {},
   "outputs": [],
   "source": [
    "mol2_shui_gt_rdmol_list = [conf['rd_mol'] for conf in mol_2_shui_gt['conformers']]"
   ]
  },
  {
   "cell_type": "code",
   "execution_count": 309,
   "metadata": {},
   "outputs": [],
   "source": [
    "mol2_shui_gt_rdmol, mol2_shui_gt_energy = get_lowest_energy_rd_mol_list(mol2_shui_gt_rdmol_list)"
   ]
  },
  {
   "cell_type": "code",
   "execution_count": 347,
   "metadata": {},
   "outputs": [
    {
     "data": {
      "application/3dmoljs_load.v0": "<div id=\"3dmolviewer_1734751343683379\"  style=\"position: relative; width: 800px; height: 600px;\">\n        <p id=\"3dmolwarning_1734751343683379\" style=\"background-color:#ffcccc;color:black\">3Dmol.js failed to load for some reason.  Please check your browser console for error messages.<br></p>\n        </div>\n<script>\n\nvar loadScriptAsync = function(uri){\n  return new Promise((resolve, reject) => {\n    //this is to ignore the existence of requirejs amd\n    var savedexports, savedmodule;\n    if (typeof exports !== 'undefined') savedexports = exports;\n    else exports = {}\n    if (typeof module !== 'undefined') savedmodule = module;\n    else module = {}\n\n    var tag = document.createElement('script');\n    tag.src = uri;\n    tag.async = true;\n    tag.onload = () => {\n        exports = savedexports;\n        module = savedmodule;\n        resolve();\n    };\n  var firstScriptTag = document.getElementsByTagName('script')[0];\n  firstScriptTag.parentNode.insertBefore(tag, firstScriptTag);\n});\n};\n\nif(typeof $3Dmolpromise === 'undefined') {\n$3Dmolpromise = null;\n  $3Dmolpromise = loadScriptAsync('https://cdnjs.cloudflare.com/ajax/libs/3Dmol/2.4.2/3Dmol-min.js');\n}\n\nvar viewer_1734751343683379 = null;\nvar warn = document.getElementById(\"3dmolwarning_1734751343683379\");\nif(warn) {\n    warn.parentNode.removeChild(warn);\n}\n$3Dmolpromise.then(function() {\nviewer_1734751343683379 = $3Dmol.createViewer(document.getElementById(\"3dmolviewer_1734751343683379\"),{backgroundColor:\"white\"});\nviewer_1734751343683379.zoomTo();\n\tviewer_1734751343683379.addModel(\"\\n     RDKit          3D\\n\\n 30 29  0  0  0  0  0  0  0  0999 V2000\\n   -0.2195    2.3552   -5.8214 C   0  0  0  0  0  0  0  0  0  0  0  0\\n   -0.2976    1.4820   -4.5627 C   0  0  0  0  0  0  0  0  0  0  0  0\\n    1.0923    1.1048   -4.0159 C   0  0  0  0  0  0  0  0  0  0  0  0\\n    1.0021   -0.0190   -2.5805 P   0  0  0  0  0  0  0  0  0  0  0  0\\n    0.1510   -1.2593   -2.7926 O   0  0  0  0  0  0  0  0  0  0  0  0\\n    2.7038   -0.4055   -2.0204 C   0  0  0  0  0  0  0  0  0  0  0  0\\n    3.4656   -1.3676   -2.9518 C   0  0  0  0  0  0  0  0  0  0  0  0\\n    4.8440   -1.7542   -2.3987 C   0  0  0  0  0  0  0  0  0  0  0  0\\n    0.4062    1.0274   -1.4494 O   0  0  0  0  0  0  0  0  0  0  0  0\\n   -0.1025    0.5142   -0.1870 C   0  0  0  0  0  0  0  0  0  0  0  0\\n   -1.0498    1.5452    0.4022 C   0  0  0  0  0  0  0  0  0  0  0  0\\n   -1.2301    2.6087   -6.1873 H   0  0  0  0  0  0  0  0  0  0  0  0\\n    0.3168    1.8339   -6.6351 H   0  0  0  0  0  0  0  0  0  0  0  0\\n    0.3148    3.3011   -5.6177 H   0  0  0  0  0  0  0  0  0  0  0  0\\n   -0.8569    0.5532   -4.7786 H   0  0  0  0  0  0  0  0  0  0  0  0\\n   -0.8598    2.0113   -3.7719 H   0  0  0  0  0  0  0  0  0  0  0  0\\n    1.6637    2.0014   -3.7115 H   0  0  0  0  0  0  0  0  0  0  0  0\\n    1.6865    0.5832   -4.7897 H   0  0  0  0  0  0  0  0  0  0  0  0\\n    2.5933   -0.8591   -1.0166 H   0  0  0  0  0  0  0  0  0  0  0  0\\n    3.2462    0.5491   -1.8884 H   0  0  0  0  0  0  0  0  0  0  0  0\\n    3.5879   -0.9014   -3.9476 H   0  0  0  0  0  0  0  0  0  0  0  0\\n    2.8506   -2.2738   -3.1016 H   0  0  0  0  0  0  0  0  0  0  0  0\\n    5.4807   -0.8619   -2.2584 H   0  0  0  0  0  0  0  0  0  0  0  0\\n    5.3670   -2.4393   -3.0889 H   0  0  0  0  0  0  0  0  0  0  0  0\\n    4.7518   -2.2604   -1.4207 H   0  0  0  0  0  0  0  0  0  0  0  0\\n    0.7505    0.3288    0.4920 H   0  0  0  0  0  0  0  0  0  0  0  0\\n   -0.6149   -0.4463   -0.3738 H   0  0  0  0  0  0  0  0  0  0  0  0\\n   -0.5312    2.5067    0.5594 H   0  0  0  0  0  0  0  0  0  0  0  0\\n   -1.4261    1.1888    1.3767 H   0  0  0  0  0  0  0  0  0  0  0  0\\n   -1.9104    1.7136   -0.2675 H   0  0  0  0  0  0  0  0  0  0  0  0\\n  1 14  1  0\\n  1  2  1  0\\n  2  3  1  0\\n  2 16  1  0\\n  3 17  1  0\\n  3  4  1  0\\n  4  6  1  0\\n  4  9  1  0\\n  5  4  2  0\\n  6 20  1  0\\n  6 19  1  0\\n  7  8  1  0\\n  7  6  1  0\\n  8 23  1  0\\n  8 25  1  0\\n  9 10  1  0\\n 10 11  1  0\\n 10 26  1  0\\n 11 28  1  0\\n 11 29  1  0\\n 12  1  1  0\\n 13  1  1  0\\n 15  2  1  0\\n 18  3  1  0\\n 21  7  1  0\\n 22  7  1  0\\n 24  8  1  0\\n 27 10  1  0\\n 30 11  1  0\\nM  END\\n\",\"mol\");\n\tviewer_1734751343683379.setStyle({\"stick\": {}});\n\tviewer_1734751343683379.zoomTo();\nviewer_1734751343683379.render();\n});\n</script>",
      "text/html": [
       "<div id=\"3dmolviewer_1734751343683379\"  style=\"position: relative; width: 800px; height: 600px;\">\n",
       "        <p id=\"3dmolwarning_1734751343683379\" style=\"background-color:#ffcccc;color:black\">3Dmol.js failed to load for some reason.  Please check your browser console for error messages.<br></p>\n",
       "        </div>\n",
       "<script>\n",
       "\n",
       "var loadScriptAsync = function(uri){\n",
       "  return new Promise((resolve, reject) => {\n",
       "    //this is to ignore the existence of requirejs amd\n",
       "    var savedexports, savedmodule;\n",
       "    if (typeof exports !== 'undefined') savedexports = exports;\n",
       "    else exports = {}\n",
       "    if (typeof module !== 'undefined') savedmodule = module;\n",
       "    else module = {}\n",
       "\n",
       "    var tag = document.createElement('script');\n",
       "    tag.src = uri;\n",
       "    tag.async = true;\n",
       "    tag.onload = () => {\n",
       "        exports = savedexports;\n",
       "        module = savedmodule;\n",
       "        resolve();\n",
       "    };\n",
       "  var firstScriptTag = document.getElementsByTagName('script')[0];\n",
       "  firstScriptTag.parentNode.insertBefore(tag, firstScriptTag);\n",
       "});\n",
       "};\n",
       "\n",
       "if(typeof $3Dmolpromise === 'undefined') {\n",
       "$3Dmolpromise = null;\n",
       "  $3Dmolpromise = loadScriptAsync('https://cdnjs.cloudflare.com/ajax/libs/3Dmol/2.4.2/3Dmol-min.js');\n",
       "}\n",
       "\n",
       "var viewer_1734751343683379 = null;\n",
       "var warn = document.getElementById(\"3dmolwarning_1734751343683379\");\n",
       "if(warn) {\n",
       "    warn.parentNode.removeChild(warn);\n",
       "}\n",
       "$3Dmolpromise.then(function() {\n",
       "viewer_1734751343683379 = $3Dmol.createViewer(document.getElementById(\"3dmolviewer_1734751343683379\"),{backgroundColor:\"white\"});\n",
       "viewer_1734751343683379.zoomTo();\n",
       "\tviewer_1734751343683379.addModel(\"\\n     RDKit          3D\\n\\n 30 29  0  0  0  0  0  0  0  0999 V2000\\n   -0.2195    2.3552   -5.8214 C   0  0  0  0  0  0  0  0  0  0  0  0\\n   -0.2976    1.4820   -4.5627 C   0  0  0  0  0  0  0  0  0  0  0  0\\n    1.0923    1.1048   -4.0159 C   0  0  0  0  0  0  0  0  0  0  0  0\\n    1.0021   -0.0190   -2.5805 P   0  0  0  0  0  0  0  0  0  0  0  0\\n    0.1510   -1.2593   -2.7926 O   0  0  0  0  0  0  0  0  0  0  0  0\\n    2.7038   -0.4055   -2.0204 C   0  0  0  0  0  0  0  0  0  0  0  0\\n    3.4656   -1.3676   -2.9518 C   0  0  0  0  0  0  0  0  0  0  0  0\\n    4.8440   -1.7542   -2.3987 C   0  0  0  0  0  0  0  0  0  0  0  0\\n    0.4062    1.0274   -1.4494 O   0  0  0  0  0  0  0  0  0  0  0  0\\n   -0.1025    0.5142   -0.1870 C   0  0  0  0  0  0  0  0  0  0  0  0\\n   -1.0498    1.5452    0.4022 C   0  0  0  0  0  0  0  0  0  0  0  0\\n   -1.2301    2.6087   -6.1873 H   0  0  0  0  0  0  0  0  0  0  0  0\\n    0.3168    1.8339   -6.6351 H   0  0  0  0  0  0  0  0  0  0  0  0\\n    0.3148    3.3011   -5.6177 H   0  0  0  0  0  0  0  0  0  0  0  0\\n   -0.8569    0.5532   -4.7786 H   0  0  0  0  0  0  0  0  0  0  0  0\\n   -0.8598    2.0113   -3.7719 H   0  0  0  0  0  0  0  0  0  0  0  0\\n    1.6637    2.0014   -3.7115 H   0  0  0  0  0  0  0  0  0  0  0  0\\n    1.6865    0.5832   -4.7897 H   0  0  0  0  0  0  0  0  0  0  0  0\\n    2.5933   -0.8591   -1.0166 H   0  0  0  0  0  0  0  0  0  0  0  0\\n    3.2462    0.5491   -1.8884 H   0  0  0  0  0  0  0  0  0  0  0  0\\n    3.5879   -0.9014   -3.9476 H   0  0  0  0  0  0  0  0  0  0  0  0\\n    2.8506   -2.2738   -3.1016 H   0  0  0  0  0  0  0  0  0  0  0  0\\n    5.4807   -0.8619   -2.2584 H   0  0  0  0  0  0  0  0  0  0  0  0\\n    5.3670   -2.4393   -3.0889 H   0  0  0  0  0  0  0  0  0  0  0  0\\n    4.7518   -2.2604   -1.4207 H   0  0  0  0  0  0  0  0  0  0  0  0\\n    0.7505    0.3288    0.4920 H   0  0  0  0  0  0  0  0  0  0  0  0\\n   -0.6149   -0.4463   -0.3738 H   0  0  0  0  0  0  0  0  0  0  0  0\\n   -0.5312    2.5067    0.5594 H   0  0  0  0  0  0  0  0  0  0  0  0\\n   -1.4261    1.1888    1.3767 H   0  0  0  0  0  0  0  0  0  0  0  0\\n   -1.9104    1.7136   -0.2675 H   0  0  0  0  0  0  0  0  0  0  0  0\\n  1 14  1  0\\n  1  2  1  0\\n  2  3  1  0\\n  2 16  1  0\\n  3 17  1  0\\n  3  4  1  0\\n  4  6  1  0\\n  4  9  1  0\\n  5  4  2  0\\n  6 20  1  0\\n  6 19  1  0\\n  7  8  1  0\\n  7  6  1  0\\n  8 23  1  0\\n  8 25  1  0\\n  9 10  1  0\\n 10 11  1  0\\n 10 26  1  0\\n 11 28  1  0\\n 11 29  1  0\\n 12  1  1  0\\n 13  1  1  0\\n 15  2  1  0\\n 18  3  1  0\\n 21  7  1  0\\n 22  7  1  0\\n 24  8  1  0\\n 27 10  1  0\\n 30 11  1  0\\nM  END\\n\",\"mol\");\n",
       "\tviewer_1734751343683379.setStyle({\"stick\": {}});\n",
       "\tviewer_1734751343683379.zoomTo();\n",
       "viewer_1734751343683379.render();\n",
       "});\n",
       "</script>"
      ]
     },
     "metadata": {},
     "output_type": "display_data"
    }
   ],
   "source": [
    "view_mol_3d(mol2_shui_gt_rdmol)"
   ]
  },
  {
   "cell_type": "code",
   "execution_count": 313,
   "metadata": {},
   "outputs": [],
   "source": [
    "mol2_hexane_gt_path = 'hexane_groupby/[H]C([H])([H])C([H])([H])OP(=O)(C([H])([H])C([H])([H])C([H])([H])[H])C([H])([H])C([H])([H])C([H])([H])[H].pickle'\n",
    "with open(mol2_hexane_gt_path, 'rb') as f:\n",
    "    mol_2_hexane_gt = pickle.load(f)"
   ]
  },
  {
   "cell_type": "code",
   "execution_count": 314,
   "metadata": {},
   "outputs": [],
   "source": [
    "mol2_hexane_gt_rdmol_list = [conf['rd_mol'] for conf in mol_2_hexane_gt['conformers']]"
   ]
  },
  {
   "cell_type": "code",
   "execution_count": 316,
   "metadata": {},
   "outputs": [],
   "source": [
    "mol2_hexane_gt_rdmol, mol2_hexane_gt_energy = get_lowest_energy_rd_mol_list(mol2_hexane_gt_rdmol_list)"
   ]
  },
  {
   "cell_type": "code",
   "execution_count": 348,
   "metadata": {},
   "outputs": [
    {
     "data": {
      "application/3dmoljs_load.v0": "<div id=\"3dmolviewer_17347513470543518\"  style=\"position: relative; width: 800px; height: 600px;\">\n        <p id=\"3dmolwarning_17347513470543518\" style=\"background-color:#ffcccc;color:black\">3Dmol.js failed to load for some reason.  Please check your browser console for error messages.<br></p>\n        </div>\n<script>\n\nvar loadScriptAsync = function(uri){\n  return new Promise((resolve, reject) => {\n    //this is to ignore the existence of requirejs amd\n    var savedexports, savedmodule;\n    if (typeof exports !== 'undefined') savedexports = exports;\n    else exports = {}\n    if (typeof module !== 'undefined') savedmodule = module;\n    else module = {}\n\n    var tag = document.createElement('script');\n    tag.src = uri;\n    tag.async = true;\n    tag.onload = () => {\n        exports = savedexports;\n        module = savedmodule;\n        resolve();\n    };\n  var firstScriptTag = document.getElementsByTagName('script')[0];\n  firstScriptTag.parentNode.insertBefore(tag, firstScriptTag);\n});\n};\n\nif(typeof $3Dmolpromise === 'undefined') {\n$3Dmolpromise = null;\n  $3Dmolpromise = loadScriptAsync('https://cdnjs.cloudflare.com/ajax/libs/3Dmol/2.4.2/3Dmol-min.js');\n}\n\nvar viewer_17347513470543518 = null;\nvar warn = document.getElementById(\"3dmolwarning_17347513470543518\");\nif(warn) {\n    warn.parentNode.removeChild(warn);\n}\n$3Dmolpromise.then(function() {\nviewer_17347513470543518 = $3Dmol.createViewer(document.getElementById(\"3dmolviewer_17347513470543518\"),{backgroundColor:\"white\"});\nviewer_17347513470543518.zoomTo();\n\tviewer_17347513470543518.addModel(\"\\n     RDKit          3D\\n\\n 30 29  0  0  0  0  0  0  0  0999 V2000\\n   -0.2195    2.3552   -5.8214 C   0  0  0  0  0  0  0  0  0  0  0  0\\n   -0.2976    1.4820   -4.5627 C   0  0  0  0  0  0  0  0  0  0  0  0\\n    1.0923    1.1048   -4.0159 C   0  0  0  0  0  0  0  0  0  0  0  0\\n    1.0021   -0.0190   -2.5805 P   0  0  0  0  0  0  0  0  0  0  0  0\\n    0.1510   -1.2593   -2.7926 O   0  0  0  0  0  0  0  0  0  0  0  0\\n    2.7038   -0.4055   -2.0204 C   0  0  0  0  0  0  0  0  0  0  0  0\\n    3.4656   -1.3676   -2.9518 C   0  0  0  0  0  0  0  0  0  0  0  0\\n    4.8440   -1.7542   -2.3987 C   0  0  0  0  0  0  0  0  0  0  0  0\\n    0.4062    1.0274   -1.4494 O   0  0  0  0  0  0  0  0  0  0  0  0\\n   -0.1025    0.5142   -0.1870 C   0  0  0  0  0  0  0  0  0  0  0  0\\n   -1.0498    1.5452    0.4022 C   0  0  0  0  0  0  0  0  0  0  0  0\\n   -1.2301    2.6087   -6.1873 H   0  0  0  0  0  0  0  0  0  0  0  0\\n    0.3168    1.8339   -6.6351 H   0  0  0  0  0  0  0  0  0  0  0  0\\n    0.3148    3.3011   -5.6177 H   0  0  0  0  0  0  0  0  0  0  0  0\\n   -0.8569    0.5532   -4.7786 H   0  0  0  0  0  0  0  0  0  0  0  0\\n   -0.8598    2.0113   -3.7719 H   0  0  0  0  0  0  0  0  0  0  0  0\\n    1.6637    2.0014   -3.7115 H   0  0  0  0  0  0  0  0  0  0  0  0\\n    1.6865    0.5832   -4.7897 H   0  0  0  0  0  0  0  0  0  0  0  0\\n    2.5933   -0.8591   -1.0166 H   0  0  0  0  0  0  0  0  0  0  0  0\\n    3.2462    0.5491   -1.8884 H   0  0  0  0  0  0  0  0  0  0  0  0\\n    3.5879   -0.9014   -3.9476 H   0  0  0  0  0  0  0  0  0  0  0  0\\n    2.8506   -2.2738   -3.1016 H   0  0  0  0  0  0  0  0  0  0  0  0\\n    5.4807   -0.8619   -2.2584 H   0  0  0  0  0  0  0  0  0  0  0  0\\n    5.3670   -2.4393   -3.0889 H   0  0  0  0  0  0  0  0  0  0  0  0\\n    4.7518   -2.2604   -1.4207 H   0  0  0  0  0  0  0  0  0  0  0  0\\n    0.7505    0.3288    0.4920 H   0  0  0  0  0  0  0  0  0  0  0  0\\n   -0.6149   -0.4463   -0.3738 H   0  0  0  0  0  0  0  0  0  0  0  0\\n   -0.5312    2.5067    0.5594 H   0  0  0  0  0  0  0  0  0  0  0  0\\n   -1.4261    1.1888    1.3767 H   0  0  0  0  0  0  0  0  0  0  0  0\\n   -1.9104    1.7136   -0.2675 H   0  0  0  0  0  0  0  0  0  0  0  0\\n  1 14  1  0\\n  1  2  1  0\\n  2  3  1  0\\n  2 16  1  0\\n  3 17  1  0\\n  3  4  1  0\\n  4  6  1  0\\n  4  9  1  0\\n  5  4  2  0\\n  6 20  1  0\\n  6 19  1  0\\n  7  8  1  0\\n  7  6  1  0\\n  8 23  1  0\\n  8 25  1  0\\n  9 10  1  0\\n 10 11  1  0\\n 10 26  1  0\\n 11 28  1  0\\n 11 29  1  0\\n 12  1  1  0\\n 13  1  1  0\\n 15  2  1  0\\n 18  3  1  0\\n 21  7  1  0\\n 22  7  1  0\\n 24  8  1  0\\n 27 10  1  0\\n 30 11  1  0\\nM  END\\n\",\"mol\");\n\tviewer_17347513470543518.setStyle({\"stick\": {}});\n\tviewer_17347513470543518.zoomTo();\nviewer_17347513470543518.render();\n});\n</script>",
      "text/html": [
       "<div id=\"3dmolviewer_17347513470543518\"  style=\"position: relative; width: 800px; height: 600px;\">\n",
       "        <p id=\"3dmolwarning_17347513470543518\" style=\"background-color:#ffcccc;color:black\">3Dmol.js failed to load for some reason.  Please check your browser console for error messages.<br></p>\n",
       "        </div>\n",
       "<script>\n",
       "\n",
       "var loadScriptAsync = function(uri){\n",
       "  return new Promise((resolve, reject) => {\n",
       "    //this is to ignore the existence of requirejs amd\n",
       "    var savedexports, savedmodule;\n",
       "    if (typeof exports !== 'undefined') savedexports = exports;\n",
       "    else exports = {}\n",
       "    if (typeof module !== 'undefined') savedmodule = module;\n",
       "    else module = {}\n",
       "\n",
       "    var tag = document.createElement('script');\n",
       "    tag.src = uri;\n",
       "    tag.async = true;\n",
       "    tag.onload = () => {\n",
       "        exports = savedexports;\n",
       "        module = savedmodule;\n",
       "        resolve();\n",
       "    };\n",
       "  var firstScriptTag = document.getElementsByTagName('script')[0];\n",
       "  firstScriptTag.parentNode.insertBefore(tag, firstScriptTag);\n",
       "});\n",
       "};\n",
       "\n",
       "if(typeof $3Dmolpromise === 'undefined') {\n",
       "$3Dmolpromise = null;\n",
       "  $3Dmolpromise = loadScriptAsync('https://cdnjs.cloudflare.com/ajax/libs/3Dmol/2.4.2/3Dmol-min.js');\n",
       "}\n",
       "\n",
       "var viewer_17347513470543518 = null;\n",
       "var warn = document.getElementById(\"3dmolwarning_17347513470543518\");\n",
       "if(warn) {\n",
       "    warn.parentNode.removeChild(warn);\n",
       "}\n",
       "$3Dmolpromise.then(function() {\n",
       "viewer_17347513470543518 = $3Dmol.createViewer(document.getElementById(\"3dmolviewer_17347513470543518\"),{backgroundColor:\"white\"});\n",
       "viewer_17347513470543518.zoomTo();\n",
       "\tviewer_17347513470543518.addModel(\"\\n     RDKit          3D\\n\\n 30 29  0  0  0  0  0  0  0  0999 V2000\\n   -0.2195    2.3552   -5.8214 C   0  0  0  0  0  0  0  0  0  0  0  0\\n   -0.2976    1.4820   -4.5627 C   0  0  0  0  0  0  0  0  0  0  0  0\\n    1.0923    1.1048   -4.0159 C   0  0  0  0  0  0  0  0  0  0  0  0\\n    1.0021   -0.0190   -2.5805 P   0  0  0  0  0  0  0  0  0  0  0  0\\n    0.1510   -1.2593   -2.7926 O   0  0  0  0  0  0  0  0  0  0  0  0\\n    2.7038   -0.4055   -2.0204 C   0  0  0  0  0  0  0  0  0  0  0  0\\n    3.4656   -1.3676   -2.9518 C   0  0  0  0  0  0  0  0  0  0  0  0\\n    4.8440   -1.7542   -2.3987 C   0  0  0  0  0  0  0  0  0  0  0  0\\n    0.4062    1.0274   -1.4494 O   0  0  0  0  0  0  0  0  0  0  0  0\\n   -0.1025    0.5142   -0.1870 C   0  0  0  0  0  0  0  0  0  0  0  0\\n   -1.0498    1.5452    0.4022 C   0  0  0  0  0  0  0  0  0  0  0  0\\n   -1.2301    2.6087   -6.1873 H   0  0  0  0  0  0  0  0  0  0  0  0\\n    0.3168    1.8339   -6.6351 H   0  0  0  0  0  0  0  0  0  0  0  0\\n    0.3148    3.3011   -5.6177 H   0  0  0  0  0  0  0  0  0  0  0  0\\n   -0.8569    0.5532   -4.7786 H   0  0  0  0  0  0  0  0  0  0  0  0\\n   -0.8598    2.0113   -3.7719 H   0  0  0  0  0  0  0  0  0  0  0  0\\n    1.6637    2.0014   -3.7115 H   0  0  0  0  0  0  0  0  0  0  0  0\\n    1.6865    0.5832   -4.7897 H   0  0  0  0  0  0  0  0  0  0  0  0\\n    2.5933   -0.8591   -1.0166 H   0  0  0  0  0  0  0  0  0  0  0  0\\n    3.2462    0.5491   -1.8884 H   0  0  0  0  0  0  0  0  0  0  0  0\\n    3.5879   -0.9014   -3.9476 H   0  0  0  0  0  0  0  0  0  0  0  0\\n    2.8506   -2.2738   -3.1016 H   0  0  0  0  0  0  0  0  0  0  0  0\\n    5.4807   -0.8619   -2.2584 H   0  0  0  0  0  0  0  0  0  0  0  0\\n    5.3670   -2.4393   -3.0889 H   0  0  0  0  0  0  0  0  0  0  0  0\\n    4.7518   -2.2604   -1.4207 H   0  0  0  0  0  0  0  0  0  0  0  0\\n    0.7505    0.3288    0.4920 H   0  0  0  0  0  0  0  0  0  0  0  0\\n   -0.6149   -0.4463   -0.3738 H   0  0  0  0  0  0  0  0  0  0  0  0\\n   -0.5312    2.5067    0.5594 H   0  0  0  0  0  0  0  0  0  0  0  0\\n   -1.4261    1.1888    1.3767 H   0  0  0  0  0  0  0  0  0  0  0  0\\n   -1.9104    1.7136   -0.2675 H   0  0  0  0  0  0  0  0  0  0  0  0\\n  1 14  1  0\\n  1  2  1  0\\n  2  3  1  0\\n  2 16  1  0\\n  3 17  1  0\\n  3  4  1  0\\n  4  6  1  0\\n  4  9  1  0\\n  5  4  2  0\\n  6 20  1  0\\n  6 19  1  0\\n  7  8  1  0\\n  7  6  1  0\\n  8 23  1  0\\n  8 25  1  0\\n  9 10  1  0\\n 10 11  1  0\\n 10 26  1  0\\n 11 28  1  0\\n 11 29  1  0\\n 12  1  1  0\\n 13  1  1  0\\n 15  2  1  0\\n 18  3  1  0\\n 21  7  1  0\\n 22  7  1  0\\n 24  8  1  0\\n 27 10  1  0\\n 30 11  1  0\\nM  END\\n\",\"mol\");\n",
       "\tviewer_17347513470543518.setStyle({\"stick\": {}});\n",
       "\tviewer_17347513470543518.zoomTo();\n",
       "viewer_17347513470543518.render();\n",
       "});\n",
       "</script>"
      ]
     },
     "metadata": {},
     "output_type": "display_data"
    }
   ],
   "source": [
    "view_mol_3d(mol2_hexane_gt_rdmol)"
   ]
  },
  {
   "cell_type": "code",
   "execution_count": 326,
   "metadata": {},
   "outputs": [],
   "source": [
    "smiles_mol2 = ['[H]C([H])([H])C([H])([H])OP(=O)(C([H])([H])C([H])([H])C([H])([H])[H])C([H])([H])C([H])([H])C([H])([H])[H]']\n",
    "cros_smiles_mol2 = ['CCCP(=O)(CCC)OCC']\n",
    "number_conf_mol2 = [206]"
   ]
  },
  {
   "cell_type": "code",
   "execution_count": 327,
   "metadata": {},
   "outputs": [],
   "source": [
    "data_visualization_mol2 = pd.DataFrame({\n",
    "    \"smiles\": smiles_mol2,\n",
    "    \"n_conformers\": number_conf_mol2,\n",
    "    \"corrected_smiles\": cros_smiles_mol2\n",
    "    })"
   ]
  },
  {
   "cell_type": "code",
   "execution_count": 329,
   "metadata": {},
   "outputs": [
    {
     "name": "stdout",
     "output_type": "stream",
     "text": [
      "CSV file saved to: torsional-diffusion/visulization_mol2.csv\n"
     ]
    }
   ],
   "source": [
    "output_path = 'torsional-diffusion/visulization_mol2.csv'  # Specify the desired file path\n",
    "data_visualization_mol2.to_csv(output_path, index=False)\n",
    "\n",
    "print(f\"CSV file saved to: {output_path}\")"
   ]
  },
  {
   "cell_type": "code",
   "execution_count": 330,
   "metadata": {},
   "outputs": [],
   "source": [
    "mol2_shui_ft_path = 'torsional-diffusion/drugs_20steps_shui_mol2.pkl'\n",
    "with open(mol2_shui_ft_path, 'rb') as f:\n",
    "    mol2_shui_ft = pickle.load(f)"
   ]
  },
  {
   "cell_type": "code",
   "execution_count": 334,
   "metadata": {},
   "outputs": [],
   "source": [
    "mol2_shui_ft_rdmol, mol2_shui_ft_energy = get_lowest_energy_rd_mol_list(mol2_shui_ft['CCCP(=O)(CCC)OCC'])"
   ]
  },
  {
   "cell_type": "code",
   "execution_count": 344,
   "metadata": {},
   "outputs": [
    {
     "data": {
      "text/plain": [
       "-2.6346380125135145"
      ]
     },
     "execution_count": 344,
     "metadata": {},
     "output_type": "execute_result"
    }
   ],
   "source": [
    "mol2_shui_ft_energy"
   ]
  },
  {
   "cell_type": "code",
   "execution_count": 338,
   "metadata": {},
   "outputs": [
    {
     "data": {
      "application/3dmoljs_load.v0": "<div id=\"3dmolviewer_1734751148224014\"  style=\"position: relative; width: 800px; height: 600px;\">\n        <p id=\"3dmolwarning_1734751148224014\" style=\"background-color:#ffcccc;color:black\">3Dmol.js failed to load for some reason.  Please check your browser console for error messages.<br></p>\n        </div>\n<script>\n\nvar loadScriptAsync = function(uri){\n  return new Promise((resolve, reject) => {\n    //this is to ignore the existence of requirejs amd\n    var savedexports, savedmodule;\n    if (typeof exports !== 'undefined') savedexports = exports;\n    else exports = {}\n    if (typeof module !== 'undefined') savedmodule = module;\n    else module = {}\n\n    var tag = document.createElement('script');\n    tag.src = uri;\n    tag.async = true;\n    tag.onload = () => {\n        exports = savedexports;\n        module = savedmodule;\n        resolve();\n    };\n  var firstScriptTag = document.getElementsByTagName('script')[0];\n  firstScriptTag.parentNode.insertBefore(tag, firstScriptTag);\n});\n};\n\nif(typeof $3Dmolpromise === 'undefined') {\n$3Dmolpromise = null;\n  $3Dmolpromise = loadScriptAsync('https://cdnjs.cloudflare.com/ajax/libs/3Dmol/2.4.2/3Dmol-min.js');\n}\n\nvar viewer_1734751148224014 = null;\nvar warn = document.getElementById(\"3dmolwarning_1734751148224014\");\nif(warn) {\n    warn.parentNode.removeChild(warn);\n}\n$3Dmolpromise.then(function() {\nviewer_1734751148224014 = $3Dmol.createViewer(document.getElementById(\"3dmolviewer_1734751148224014\"),{backgroundColor:\"white\"});\nviewer_1734751148224014.zoomTo();\n\tviewer_1734751148224014.addModel(\"\\n     RDKit          3D\\n\\n 30 29  0  0  0  0  0  0  0  0999 V2000\\n    1.3421   -2.8098   -2.0831 C   0  0  0  0  0  0  0  0  0  0  0  0\\n    0.2680   -2.0477   -1.2998 C   0  0  0  0  0  0  0  0  0  0  0  0\\n    0.8999   -0.7735   -0.7868 C   0  0  0  0  0  0  0  0  0  0  0  0\\n   -0.2155    0.1525    0.2714 P   0  0  0  0  0  0  0  0  0  0  0  0\\n    0.5436    0.9105    1.3409 O   0  0  0  0  0  0  0  0  0  0  0  0\\n   -1.2153    1.2601   -0.7481 C   0  0  0  0  0  0  0  0  0  0  0  0\\n   -1.7352    2.4440    0.0304 C   0  0  0  0  0  0  0  0  0  0  0  0\\n   -2.7763    2.0856    1.0420 C   0  0  0  0  0  0  0  0  0  0  0  0\\n   -1.2771   -0.9253    1.0138 O   0  0  0  0  0  0  0  0  0  0  0  0\\n   -0.8664   -1.1583    2.3151 C   0  0  0  0  0  0  0  0  0  0  0  0\\n   -1.7296   -2.2053    2.9978 C   0  0  0  0  0  0  0  0  0  0  0  0\\n    0.9417   -3.7506   -2.4755 H   0  0  0  0  0  0  0  0  0  0  0  0\\n    2.2146   -3.0200   -1.4505 H   0  0  0  0  0  0  0  0  0  0  0  0\\n    1.6936   -2.1968   -2.9531 H   0  0  0  0  0  0  0  0  0  0  0  0\\n   -0.0893   -2.7054   -0.5129 H   0  0  0  0  0  0  0  0  0  0  0  0\\n   -0.5631   -1.8396   -1.9982 H   0  0  0  0  0  0  0  0  0  0  0  0\\n    1.2465   -0.1915   -1.6423 H   0  0  0  0  0  0  0  0  0  0  0  0\\n    1.8108   -1.0282   -0.1905 H   0  0  0  0  0  0  0  0  0  0  0  0\\n   -2.0552    0.7037   -1.1676 H   0  0  0  0  0  0  0  0  0  0  0  0\\n   -0.5545    1.6701   -1.5389 H   0  0  0  0  0  0  0  0  0  0  0  0\\n   -0.9121    3.0440    0.4780 H   0  0  0  0  0  0  0  0  0  0  0  0\\n   -2.2005    3.1238   -0.7172 H   0  0  0  0  0  0  0  0  0  0  0  0\\n   -2.4849    1.3054    1.7597 H   0  0  0  0  0  0  0  0  0  0  0  0\\n   -3.1280    3.0224    1.5578 H   0  0  0  0  0  0  0  0  0  0  0  0\\n   -3.7006    1.6886    0.5358 H   0  0  0  0  0  0  0  0  0  0  0  0\\n    0.1753   -1.4536    2.4372 H   0  0  0  0  0  0  0  0  0  0  0  0\\n   -1.0049   -0.1819    2.8674 H   0  0  0  0  0  0  0  0  0  0  0  0\\n   -2.7991   -1.9093    2.9917 H   0  0  0  0  0  0  0  0  0  0  0  0\\n   -1.6612   -3.1679    2.4737 H   0  0  0  0  0  0  0  0  0  0  0  0\\n   -1.4221   -2.3106    4.0617 H   0  0  0  0  0  0  0  0  0  0  0  0\\n  1  2  1  0\\n  2  3  1  0\\n  3  4  1  0\\n  4  5  2  0\\n  4  6  1  0\\n  6  7  1  0\\n  7  8  1  0\\n  4  9  1  0\\n  9 10  1  0\\n 10 11  1  0\\n  1 12  1  0\\n  1 13  1  0\\n  1 14  1  0\\n  2 15  1  0\\n  2 16  1  0\\n  3 17  1  0\\n  3 18  1  0\\n  6 19  1  0\\n  6 20  1  0\\n  7 21  1  0\\n  7 22  1  0\\n  8 23  1  0\\n  8 24  1  0\\n  8 25  1  0\\n 10 26  1  0\\n 10 27  1  0\\n 11 28  1  0\\n 11 29  1  0\\n 11 30  1  0\\nM  END\\n\",\"mol\");\n\tviewer_1734751148224014.setStyle({\"stick\": {}});\n\tviewer_1734751148224014.zoomTo();\nviewer_1734751148224014.render();\n});\n</script>",
      "text/html": [
       "<div id=\"3dmolviewer_1734751148224014\"  style=\"position: relative; width: 800px; height: 600px;\">\n",
       "        <p id=\"3dmolwarning_1734751148224014\" style=\"background-color:#ffcccc;color:black\">3Dmol.js failed to load for some reason.  Please check your browser console for error messages.<br></p>\n",
       "        </div>\n",
       "<script>\n",
       "\n",
       "var loadScriptAsync = function(uri){\n",
       "  return new Promise((resolve, reject) => {\n",
       "    //this is to ignore the existence of requirejs amd\n",
       "    var savedexports, savedmodule;\n",
       "    if (typeof exports !== 'undefined') savedexports = exports;\n",
       "    else exports = {}\n",
       "    if (typeof module !== 'undefined') savedmodule = module;\n",
       "    else module = {}\n",
       "\n",
       "    var tag = document.createElement('script');\n",
       "    tag.src = uri;\n",
       "    tag.async = true;\n",
       "    tag.onload = () => {\n",
       "        exports = savedexports;\n",
       "        module = savedmodule;\n",
       "        resolve();\n",
       "    };\n",
       "  var firstScriptTag = document.getElementsByTagName('script')[0];\n",
       "  firstScriptTag.parentNode.insertBefore(tag, firstScriptTag);\n",
       "});\n",
       "};\n",
       "\n",
       "if(typeof $3Dmolpromise === 'undefined') {\n",
       "$3Dmolpromise = null;\n",
       "  $3Dmolpromise = loadScriptAsync('https://cdnjs.cloudflare.com/ajax/libs/3Dmol/2.4.2/3Dmol-min.js');\n",
       "}\n",
       "\n",
       "var viewer_1734751148224014 = null;\n",
       "var warn = document.getElementById(\"3dmolwarning_1734751148224014\");\n",
       "if(warn) {\n",
       "    warn.parentNode.removeChild(warn);\n",
       "}\n",
       "$3Dmolpromise.then(function() {\n",
       "viewer_1734751148224014 = $3Dmol.createViewer(document.getElementById(\"3dmolviewer_1734751148224014\"),{backgroundColor:\"white\"});\n",
       "viewer_1734751148224014.zoomTo();\n",
       "\tviewer_1734751148224014.addModel(\"\\n     RDKit          3D\\n\\n 30 29  0  0  0  0  0  0  0  0999 V2000\\n    1.3421   -2.8098   -2.0831 C   0  0  0  0  0  0  0  0  0  0  0  0\\n    0.2680   -2.0477   -1.2998 C   0  0  0  0  0  0  0  0  0  0  0  0\\n    0.8999   -0.7735   -0.7868 C   0  0  0  0  0  0  0  0  0  0  0  0\\n   -0.2155    0.1525    0.2714 P   0  0  0  0  0  0  0  0  0  0  0  0\\n    0.5436    0.9105    1.3409 O   0  0  0  0  0  0  0  0  0  0  0  0\\n   -1.2153    1.2601   -0.7481 C   0  0  0  0  0  0  0  0  0  0  0  0\\n   -1.7352    2.4440    0.0304 C   0  0  0  0  0  0  0  0  0  0  0  0\\n   -2.7763    2.0856    1.0420 C   0  0  0  0  0  0  0  0  0  0  0  0\\n   -1.2771   -0.9253    1.0138 O   0  0  0  0  0  0  0  0  0  0  0  0\\n   -0.8664   -1.1583    2.3151 C   0  0  0  0  0  0  0  0  0  0  0  0\\n   -1.7296   -2.2053    2.9978 C   0  0  0  0  0  0  0  0  0  0  0  0\\n    0.9417   -3.7506   -2.4755 H   0  0  0  0  0  0  0  0  0  0  0  0\\n    2.2146   -3.0200   -1.4505 H   0  0  0  0  0  0  0  0  0  0  0  0\\n    1.6936   -2.1968   -2.9531 H   0  0  0  0  0  0  0  0  0  0  0  0\\n   -0.0893   -2.7054   -0.5129 H   0  0  0  0  0  0  0  0  0  0  0  0\\n   -0.5631   -1.8396   -1.9982 H   0  0  0  0  0  0  0  0  0  0  0  0\\n    1.2465   -0.1915   -1.6423 H   0  0  0  0  0  0  0  0  0  0  0  0\\n    1.8108   -1.0282   -0.1905 H   0  0  0  0  0  0  0  0  0  0  0  0\\n   -2.0552    0.7037   -1.1676 H   0  0  0  0  0  0  0  0  0  0  0  0\\n   -0.5545    1.6701   -1.5389 H   0  0  0  0  0  0  0  0  0  0  0  0\\n   -0.9121    3.0440    0.4780 H   0  0  0  0  0  0  0  0  0  0  0  0\\n   -2.2005    3.1238   -0.7172 H   0  0  0  0  0  0  0  0  0  0  0  0\\n   -2.4849    1.3054    1.7597 H   0  0  0  0  0  0  0  0  0  0  0  0\\n   -3.1280    3.0224    1.5578 H   0  0  0  0  0  0  0  0  0  0  0  0\\n   -3.7006    1.6886    0.5358 H   0  0  0  0  0  0  0  0  0  0  0  0\\n    0.1753   -1.4536    2.4372 H   0  0  0  0  0  0  0  0  0  0  0  0\\n   -1.0049   -0.1819    2.8674 H   0  0  0  0  0  0  0  0  0  0  0  0\\n   -2.7991   -1.9093    2.9917 H   0  0  0  0  0  0  0  0  0  0  0  0\\n   -1.6612   -3.1679    2.4737 H   0  0  0  0  0  0  0  0  0  0  0  0\\n   -1.4221   -2.3106    4.0617 H   0  0  0  0  0  0  0  0  0  0  0  0\\n  1  2  1  0\\n  2  3  1  0\\n  3  4  1  0\\n  4  5  2  0\\n  4  6  1  0\\n  6  7  1  0\\n  7  8  1  0\\n  4  9  1  0\\n  9 10  1  0\\n 10 11  1  0\\n  1 12  1  0\\n  1 13  1  0\\n  1 14  1  0\\n  2 15  1  0\\n  2 16  1  0\\n  3 17  1  0\\n  3 18  1  0\\n  6 19  1  0\\n  6 20  1  0\\n  7 21  1  0\\n  7 22  1  0\\n  8 23  1  0\\n  8 24  1  0\\n  8 25  1  0\\n 10 26  1  0\\n 10 27  1  0\\n 11 28  1  0\\n 11 29  1  0\\n 11 30  1  0\\nM  END\\n\",\"mol\");\n",
       "\tviewer_1734751148224014.setStyle({\"stick\": {}});\n",
       "\tviewer_1734751148224014.zoomTo();\n",
       "viewer_1734751148224014.render();\n",
       "});\n",
       "</script>"
      ]
     },
     "metadata": {},
     "output_type": "display_data"
    }
   ],
   "source": [
    "view_mol_3d(mol2_shui_ft_rdmol)"
   ]
  },
  {
   "cell_type": "code",
   "execution_count": 339,
   "metadata": {},
   "outputs": [],
   "source": [
    "mol2_hexane_ft_path = 'torsional-diffusion/drugs_20steps_hexane_mol2.pkl'\n",
    "with open(mol2_hexane_ft_path, 'rb') as f:\n",
    "    mol2_hexane_ft = pickle.load(f)"
   ]
  },
  {
   "cell_type": "code",
   "execution_count": 342,
   "metadata": {},
   "outputs": [],
   "source": [
    "mol2_hexane_ft_rdmol, mol2_hexane_ft_energy = get_lowest_energy_rd_mol_list(mol2_hexane_ft['CCCP(=O)(CCC)OCC'])"
   ]
  },
  {
   "cell_type": "code",
   "execution_count": 343,
   "metadata": {},
   "outputs": [
    {
     "data": {
      "text/plain": [
       "-3.216782988895858"
      ]
     },
     "execution_count": 343,
     "metadata": {},
     "output_type": "execute_result"
    }
   ],
   "source": [
    "mol2_hexane_ft_energy"
   ]
  },
  {
   "cell_type": "code",
   "execution_count": 346,
   "metadata": {},
   "outputs": [
    {
     "data": {
      "application/3dmoljs_load.v0": "<div id=\"3dmolviewer_1734751279614305\"  style=\"position: relative; width: 800px; height: 600px;\">\n        <p id=\"3dmolwarning_1734751279614305\" style=\"background-color:#ffcccc;color:black\">3Dmol.js failed to load for some reason.  Please check your browser console for error messages.<br></p>\n        </div>\n<script>\n\nvar loadScriptAsync = function(uri){\n  return new Promise((resolve, reject) => {\n    //this is to ignore the existence of requirejs amd\n    var savedexports, savedmodule;\n    if (typeof exports !== 'undefined') savedexports = exports;\n    else exports = {}\n    if (typeof module !== 'undefined') savedmodule = module;\n    else module = {}\n\n    var tag = document.createElement('script');\n    tag.src = uri;\n    tag.async = true;\n    tag.onload = () => {\n        exports = savedexports;\n        module = savedmodule;\n        resolve();\n    };\n  var firstScriptTag = document.getElementsByTagName('script')[0];\n  firstScriptTag.parentNode.insertBefore(tag, firstScriptTag);\n});\n};\n\nif(typeof $3Dmolpromise === 'undefined') {\n$3Dmolpromise = null;\n  $3Dmolpromise = loadScriptAsync('https://cdnjs.cloudflare.com/ajax/libs/3Dmol/2.4.2/3Dmol-min.js');\n}\n\nvar viewer_1734751279614305 = null;\nvar warn = document.getElementById(\"3dmolwarning_1734751279614305\");\nif(warn) {\n    warn.parentNode.removeChild(warn);\n}\n$3Dmolpromise.then(function() {\nviewer_1734751279614305 = $3Dmol.createViewer(document.getElementById(\"3dmolviewer_1734751279614305\"),{backgroundColor:\"white\"});\nviewer_1734751279614305.zoomTo();\n\tviewer_1734751279614305.addModel(\"\\n     RDKit          3D\\n\\n 30 29  0  0  0  0  0  0  0  0999 V2000\\n   -0.9915    2.8188   -1.9830 C   0  0  0  0  0  0  0  0  0  0  0  0\\n   -0.7423    1.3262   -1.7646 C   0  0  0  0  0  0  0  0  0  0  0  0\\n   -0.1941    1.1814   -0.3843 C   0  0  0  0  0  0  0  0  0  0  0  0\\n    0.0713   -0.5518    0.1064 P   0  0  0  0  0  0  0  0  0  0  0  0\\n    0.4684   -0.6537    1.5505 O   0  0  0  0  0  0  0  0  0  0  0  0\\n    1.2731   -1.2670   -1.0166 C   0  0  0  0  0  0  0  0  0  0  0  0\\n    2.5105   -0.4300   -1.2128 C   0  0  0  0  0  0  0  0  0  0  0  0\\n    3.5284   -1.1317   -2.0572 C   0  0  0  0  0  0  0  0  0  0  0  0\\n   -1.4073   -1.3583   -0.1467 O   0  0  0  0  0  0  0  0  0  0  0  0\\n   -2.2541   -1.2501    0.9415 C   0  0  0  0  0  0  0  0  0  0  0  0\\n   -3.5185   -2.0185    0.5820 C   0  0  0  0  0  0  0  0  0  0  0  0\\n   -1.3657    2.9881   -3.0084 H   0  0  0  0  0  0  0  0  0  0  0  0\\n   -0.0782    3.4260   -1.8534 H   0  0  0  0  0  0  0  0  0  0  0  0\\n   -1.7538    3.1915   -1.2513 H   0  0  0  0  0  0  0  0  0  0  0  0\\n   -1.7317    0.8233   -1.8747 H   0  0  0  0  0  0  0  0  0  0  0  0\\n   -0.0505    0.9633   -2.5432 H   0  0  0  0  0  0  0  0  0  0  0  0\\n    0.7232    1.7943   -0.3030 H   0  0  0  0  0  0  0  0  0  0  0  0\\n   -0.9341    1.6938    0.2959 H   0  0  0  0  0  0  0  0  0  0  0  0\\n    0.8504   -1.4171   -2.0514 H   0  0  0  0  0  0  0  0  0  0  0  0\\n    1.6028   -2.2983   -0.7132 H   0  0  0  0  0  0  0  0  0  0  0  0\\n    2.3126    0.6053   -1.5404 H   0  0  0  0  0  0  0  0  0  0  0  0\\n    2.9600   -0.3275   -0.1943 H   0  0  0  0  0  0  0  0  0  0  0  0\\n    3.9002   -2.0801   -1.5830 H   0  0  0  0  0  0  0  0  0  0  0  0\\n    4.4386   -0.5262   -2.2405 H   0  0  0  0  0  0  0  0  0  0  0  0\\n    3.1335   -1.4403   -3.0469 H   0  0  0  0  0  0  0  0  0  0  0  0\\n   -1.7789   -1.8012    1.7818 H   0  0  0  0  0  0  0  0  0  0  0  0\\n   -2.5196   -0.2343    1.2368 H   0  0  0  0  0  0  0  0  0  0  0  0\\n   -4.2643   -1.9991    1.4053 H   0  0  0  0  0  0  0  0  0  0  0  0\\n   -3.2611   -3.0993    0.4059 H   0  0  0  0  0  0  0  0  0  0  0  0\\n   -4.0081   -1.6320   -0.3340 H   0  0  0  0  0  0  0  0  0  0  0  0\\n  1  2  1  0\\n  2  3  1  0\\n  3  4  1  0\\n  4  5  2  0\\n  4  6  1  0\\n  6  7  1  0\\n  7  8  1  0\\n  4  9  1  0\\n  9 10  1  0\\n 10 11  1  0\\n  1 12  1  0\\n  1 13  1  0\\n  1 14  1  0\\n  2 15  1  0\\n  2 16  1  0\\n  3 17  1  0\\n  3 18  1  0\\n  6 19  1  0\\n  6 20  1  0\\n  7 21  1  0\\n  7 22  1  0\\n  8 23  1  0\\n  8 24  1  0\\n  8 25  1  0\\n 10 26  1  0\\n 10 27  1  0\\n 11 28  1  0\\n 11 29  1  0\\n 11 30  1  0\\nM  END\\n\",\"mol\");\n\tviewer_1734751279614305.setStyle({\"stick\": {}});\n\tviewer_1734751279614305.zoomTo();\nviewer_1734751279614305.render();\n});\n</script>",
      "text/html": [
       "<div id=\"3dmolviewer_1734751279614305\"  style=\"position: relative; width: 800px; height: 600px;\">\n",
       "        <p id=\"3dmolwarning_1734751279614305\" style=\"background-color:#ffcccc;color:black\">3Dmol.js failed to load for some reason.  Please check your browser console for error messages.<br></p>\n",
       "        </div>\n",
       "<script>\n",
       "\n",
       "var loadScriptAsync = function(uri){\n",
       "  return new Promise((resolve, reject) => {\n",
       "    //this is to ignore the existence of requirejs amd\n",
       "    var savedexports, savedmodule;\n",
       "    if (typeof exports !== 'undefined') savedexports = exports;\n",
       "    else exports = {}\n",
       "    if (typeof module !== 'undefined') savedmodule = module;\n",
       "    else module = {}\n",
       "\n",
       "    var tag = document.createElement('script');\n",
       "    tag.src = uri;\n",
       "    tag.async = true;\n",
       "    tag.onload = () => {\n",
       "        exports = savedexports;\n",
       "        module = savedmodule;\n",
       "        resolve();\n",
       "    };\n",
       "  var firstScriptTag = document.getElementsByTagName('script')[0];\n",
       "  firstScriptTag.parentNode.insertBefore(tag, firstScriptTag);\n",
       "});\n",
       "};\n",
       "\n",
       "if(typeof $3Dmolpromise === 'undefined') {\n",
       "$3Dmolpromise = null;\n",
       "  $3Dmolpromise = loadScriptAsync('https://cdnjs.cloudflare.com/ajax/libs/3Dmol/2.4.2/3Dmol-min.js');\n",
       "}\n",
       "\n",
       "var viewer_1734751279614305 = null;\n",
       "var warn = document.getElementById(\"3dmolwarning_1734751279614305\");\n",
       "if(warn) {\n",
       "    warn.parentNode.removeChild(warn);\n",
       "}\n",
       "$3Dmolpromise.then(function() {\n",
       "viewer_1734751279614305 = $3Dmol.createViewer(document.getElementById(\"3dmolviewer_1734751279614305\"),{backgroundColor:\"white\"});\n",
       "viewer_1734751279614305.zoomTo();\n",
       "\tviewer_1734751279614305.addModel(\"\\n     RDKit          3D\\n\\n 30 29  0  0  0  0  0  0  0  0999 V2000\\n   -0.9915    2.8188   -1.9830 C   0  0  0  0  0  0  0  0  0  0  0  0\\n   -0.7423    1.3262   -1.7646 C   0  0  0  0  0  0  0  0  0  0  0  0\\n   -0.1941    1.1814   -0.3843 C   0  0  0  0  0  0  0  0  0  0  0  0\\n    0.0713   -0.5518    0.1064 P   0  0  0  0  0  0  0  0  0  0  0  0\\n    0.4684   -0.6537    1.5505 O   0  0  0  0  0  0  0  0  0  0  0  0\\n    1.2731   -1.2670   -1.0166 C   0  0  0  0  0  0  0  0  0  0  0  0\\n    2.5105   -0.4300   -1.2128 C   0  0  0  0  0  0  0  0  0  0  0  0\\n    3.5284   -1.1317   -2.0572 C   0  0  0  0  0  0  0  0  0  0  0  0\\n   -1.4073   -1.3583   -0.1467 O   0  0  0  0  0  0  0  0  0  0  0  0\\n   -2.2541   -1.2501    0.9415 C   0  0  0  0  0  0  0  0  0  0  0  0\\n   -3.5185   -2.0185    0.5820 C   0  0  0  0  0  0  0  0  0  0  0  0\\n   -1.3657    2.9881   -3.0084 H   0  0  0  0  0  0  0  0  0  0  0  0\\n   -0.0782    3.4260   -1.8534 H   0  0  0  0  0  0  0  0  0  0  0  0\\n   -1.7538    3.1915   -1.2513 H   0  0  0  0  0  0  0  0  0  0  0  0\\n   -1.7317    0.8233   -1.8747 H   0  0  0  0  0  0  0  0  0  0  0  0\\n   -0.0505    0.9633   -2.5432 H   0  0  0  0  0  0  0  0  0  0  0  0\\n    0.7232    1.7943   -0.3030 H   0  0  0  0  0  0  0  0  0  0  0  0\\n   -0.9341    1.6938    0.2959 H   0  0  0  0  0  0  0  0  0  0  0  0\\n    0.8504   -1.4171   -2.0514 H   0  0  0  0  0  0  0  0  0  0  0  0\\n    1.6028   -2.2983   -0.7132 H   0  0  0  0  0  0  0  0  0  0  0  0\\n    2.3126    0.6053   -1.5404 H   0  0  0  0  0  0  0  0  0  0  0  0\\n    2.9600   -0.3275   -0.1943 H   0  0  0  0  0  0  0  0  0  0  0  0\\n    3.9002   -2.0801   -1.5830 H   0  0  0  0  0  0  0  0  0  0  0  0\\n    4.4386   -0.5262   -2.2405 H   0  0  0  0  0  0  0  0  0  0  0  0\\n    3.1335   -1.4403   -3.0469 H   0  0  0  0  0  0  0  0  0  0  0  0\\n   -1.7789   -1.8012    1.7818 H   0  0  0  0  0  0  0  0  0  0  0  0\\n   -2.5196   -0.2343    1.2368 H   0  0  0  0  0  0  0  0  0  0  0  0\\n   -4.2643   -1.9991    1.4053 H   0  0  0  0  0  0  0  0  0  0  0  0\\n   -3.2611   -3.0993    0.4059 H   0  0  0  0  0  0  0  0  0  0  0  0\\n   -4.0081   -1.6320   -0.3340 H   0  0  0  0  0  0  0  0  0  0  0  0\\n  1  2  1  0\\n  2  3  1  0\\n  3  4  1  0\\n  4  5  2  0\\n  4  6  1  0\\n  6  7  1  0\\n  7  8  1  0\\n  4  9  1  0\\n  9 10  1  0\\n 10 11  1  0\\n  1 12  1  0\\n  1 13  1  0\\n  1 14  1  0\\n  2 15  1  0\\n  2 16  1  0\\n  3 17  1  0\\n  3 18  1  0\\n  6 19  1  0\\n  6 20  1  0\\n  7 21  1  0\\n  7 22  1  0\\n  8 23  1  0\\n  8 24  1  0\\n  8 25  1  0\\n 10 26  1  0\\n 10 27  1  0\\n 11 28  1  0\\n 11 29  1  0\\n 11 30  1  0\\nM  END\\n\",\"mol\");\n",
       "\tviewer_1734751279614305.setStyle({\"stick\": {}});\n",
       "\tviewer_1734751279614305.zoomTo();\n",
       "viewer_1734751279614305.render();\n",
       "});\n",
       "</script>"
      ]
     },
     "metadata": {},
     "output_type": "display_data"
    }
   ],
   "source": [
    "view_mol_3d(mol2_hexane_ft_rdmol)"
   ]
  },
  {
   "cell_type": "code",
   "execution_count": null,
   "metadata": {},
   "outputs": [],
   "source": []
  },
  {
   "cell_type": "code",
   "execution_count": null,
   "metadata": {},
   "outputs": [],
   "source": []
  }
 ],
 "metadata": {
  "kernelspec": {
   "display_name": "Ye",
   "language": "python",
   "name": "python3"
  },
  "language_info": {
   "codemirror_mode": {
    "name": "ipython",
    "version": 3
   },
   "file_extension": ".py",
   "mimetype": "text/x-python",
   "name": "python",
   "nbconvert_exporter": "python",
   "pygments_lexer": "ipython3",
   "version": "3.11.5"
  }
 },
 "nbformat": 4,
 "nbformat_minor": 2
}
